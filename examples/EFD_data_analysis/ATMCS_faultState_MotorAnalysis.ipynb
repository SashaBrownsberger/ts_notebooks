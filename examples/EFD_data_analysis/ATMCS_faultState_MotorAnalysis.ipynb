{
 "cells": [
  {
   "cell_type": "markdown",
   "metadata": {},
   "source": [
    "# Auxiliary Telescope Motor Condition Analysis\n"
   ]
  },
  {
   "cell_type": "markdown",
   "metadata": {},
   "source": [
    "#### This notebook is used to extract the motor commanded positions, trajectories, velocities, and motor torques for each axis of the Auxiliary Telescope for a given time interval (note that at this time code for Nasmyth 2 does not exist). By inputting a time interval, this notebook allows the rapid determination of what caused the fault, particularily in the case of motor slippage, or if a drive was commanded in an unstable fashion.\n",
    "\n",
    "##### It is expected that the user interacts with the Bokeh plots to better pinpoint the issue they're searching for. The plot ranges as created will most likely be too large, or contain too much data to be useful with zero manipulation of the axes/zooms etc.\n",
    "\n",
    "This notebook extracts data from the DM-EFD using [aioinflux](https://aioinflux.readthedocs.io/en/stable/index.html), a Python client for InfluxDB, and proceed with data analysis using Pandas dataframes. \n",
    "\n",
    "This is complementaty to the [Chronograf](https://test-chronograf-efd.lsst.codes) interface which we use for time-series visualization.\n",
    "\n",
    "In addition to `aioinflux`, you'll need to install `pandas`, `numpy` and `matplotlib` to run this notebook."
   ]
  },
  {
   "cell_type": "code",
   "execution_count": null,
   "metadata": {
    "scrolled": true
   },
   "outputs": [],
   "source": [
    "import matplotlib\n",
    "%matplotlib widget\n",
    "from matplotlib import pylab as plt\n",
    "import aioinflux\n",
    "import getpass\n",
    "import pandas as pd\n",
    "import asyncio\n",
    "import numpy as np\n",
    "\n",
    "from bokeh.plotting import figure, output_notebook, show\n",
    "from bokeh.models import LinearAxis, Range1d\n",
    "output_notebook()"
   ]
  },
  {
   "cell_type": "markdown",
   "metadata": {},
   "source": [
    "We'll access the DM-EFD instance deployed at the AuxTel lab in Tucson. You need to be on site or connected to the NOAO VPN. \n",
    "\n",
    "If you are familiar with the AuxTel lab environment, you might be able to authenticate using the generic `saluser`. Ping me at Slack (`@afausti`) if you have any problem."
   ]
  },
  {
   "cell_type": "code",
   "execution_count": null,
   "metadata": {},
   "outputs": [],
   "source": [
    "username = \"saluser\"\n",
    "password = getpass.getpass(f\"Password for {username}:\")"
   ]
  },
  {
   "cell_type": "markdown",
   "metadata": {},
   "source": [
    "The following configures the `aioinflux` Python client to connect to the DM-EFD InfluxDB instance. "
   ]
  },
  {
   "cell_type": "code",
   "execution_count": null,
   "metadata": {},
   "outputs": [],
   "source": [
    "client = aioinflux.InfluxDBClient(host='influxdb-summit-efd.lsst.codes', \n",
    "                                  port='443', \n",
    "                                  ssl=True, \n",
    "                                  username=username, \n",
    "                                  password=password,\n",
    "                                  db='efd')"
   ]
  },
  {
   "cell_type": "markdown",
   "metadata": {},
   "source": [
    "We can configure the output to be a Pandas dataframe, which is very convenient for data analysis.  Specify a time range for data in `InfluxQL`.  The default is 20hrs ago, but this may need to be changed depending on how recently data was taken."
   ]
  },
  {
   "cell_type": "code",
   "execution_count": null,
   "metadata": {},
   "outputs": [],
   "source": [
    "client.output = 'dataframe'\n",
    "\n",
    "# Time_span is in UTC. The EFD is currently indexed by the EFD ingestion time and not yet the send time. This results in small time interval differences.\n",
    "\n",
    "time_span = \"time >= '2019-12-14T02:17:20+00:00' AND time <= '2019-12-14T02:17:50+00:00'\"  # Test dataset\n",
    "time_span = \"time >= '2020-01-16T22:50:00+00:00' AND time <= '2020-01-16T23:26:38+00:00'\"  # Test dataset"
   ]
  },
  {
   "cell_type": "markdown",
   "metadata": {},
   "source": [
    "Query each of the measurements we may want to correlate later in the notebook.  Note that this could be done as a single query, but the result is a dictionary of `DataFrames` which I find less convenient to use than named variables corresponding to one `DataFrame` each."
   ]
  },
  {
   "cell_type": "code",
   "execution_count": null,
   "metadata": {},
   "outputs": [],
   "source": [
    "# This function takes 100Hz data and processes it into a pandas dataframe.\n",
    "async def get_data_frame(field_base, topic, els=100):\n",
    "    fields = \", \".join([f'\"{field_base}{i}\"' for i in range(100)])\n",
    "    df = await client.query(f'SELECT \"cRIO_timestamp\", \"private_sndStamp\", {fields} FROM \"efd\".\"autogen\".\"{topic}\" WHERE {time_span}')\n",
    "\n",
    "    times = []\n",
    "    timestamps = []\n",
    "    vals = []\n",
    "    step = 1./els\n",
    "    for row in df.itertuples():\n",
    "        for i in range(els):\n",
    "            times.append(row.cRIO_timestamp + i*step)\n",
    "            timestamps.append((pd.Timestamp(row.cRIO_timestamp, unit='s', tz='GMT') + pd.Timedelta(i*step, unit='s')))\n",
    "            vals.append(getattr(row, f'{field_base}{i}'))\n",
    "\n",
    "    return pd.DataFrame({'times':times, field_base:vals}, index=timestamps)"
   ]
  },
  {
   "cell_type": "markdown",
   "metadata": {},
   "source": [
    "# Azimuth Analysis"
   ]
  },
  {
   "cell_type": "code",
   "execution_count": null,
   "metadata": {},
   "outputs": [],
   "source": [
    "# query angle of azimuth (calculated from 3 individual encoders)\n",
    "az = await get_data_frame('azimuthCalculatedAngle', 'lsst.sal.ATMCS.mount_AzEl_Encoders')\n",
    "az_raw = await client.query(f'SELECT \"azimuthCalculatedAngle99\", \"private_sndStamp\", \"private_rcvStamp\" FROM \"efd\".\"autogen\".\"lsst.sal.ATMCS.mount_AzEl_Encoders\" WHERE {time_span}')"
   ]
  },
  {
   "cell_type": "code",
   "execution_count": null,
   "metadata": {},
   "outputs": [],
   "source": [
    "# query the angle commanded by the ATMCS trajectory generator\n",
    "commanded_az = await get_data_frame('azimuth', 'lsst.sal.ATMCS.trajectory')\n",
    "commanded_az_raw = await client.query(f'SELECT \"azimuth99\", \"private_sndStamp\", \"private_rcvStamp\" FROM \"efd\".\"autogen\".\"lsst.sal.ATMCS.trajectory\" WHERE {time_span}')"
   ]
  },
  {
   "cell_type": "code",
   "execution_count": null,
   "metadata": {},
   "outputs": [],
   "source": [
    "# query the angle commanded by the AT Pointing Component \n",
    "commanded_az_ATPng = await client.query(f'SELECT \"azimuth\", \"private_sndStamp\", \"private_rcvStamp\" FROM \"efd\".\"autogen\".\"lsst.sal.ATMCS.command_trackTarget\" WHERE {time_span}')"
   ]
  },
  {
   "cell_type": "code",
   "execution_count": null,
   "metadata": {},
   "outputs": [],
   "source": [
    "# Useful code snippet on how to convert the time strings to a readable format\n",
    "pd.to_datetime(commanded_az_ATPng['private_sndStamp'][0], unit='s')"
   ]
  },
  {
   "cell_type": "markdown",
   "metadata": {},
   "source": [
    "### Plot commanded position (by pointing component), target position by ATMCS, Calculated position by ATMCS"
   ]
  },
  {
   "cell_type": "code",
   "execution_count": null,
   "metadata": {},
   "outputs": [],
   "source": [
    "#derive principal (left) plot axis range\n",
    "yr_cen=np.median(commanded_az['azimuth'])\n",
    "dy=1.1*(np.max(commanded_az['azimuth'])- np.min(commanded_az['azimuth']))\n",
    "\n",
    "p = figure(x_axis_type='datetime', y_range=(yr_cen-dy, yr_cen+dy), plot_width=800, plot_height=400)\n",
    "p.yaxis.axis_label = \"Azimuth (degrees)\"\n",
    "p.xaxis.axis_label = \"Time\"\n",
    "p.line(x=commanded_az.index.values, y=commanded_az['azimuth'], color='black', line_width=2, legend_label='ATMCS Commanded Az Trajectory')\n",
    "p.cross(x=az.index.values, y=az['azimuthCalculatedAngle'], color='red', line_width=2, line_dash='dashed', legend_label='ATMCS Measured Az Position')\n",
    "p.cross(x=pd.to_datetime(commanded_az_ATPng['private_sndStamp'], unit='s'), y=commanded_az_ATPng['azimuth'], color='green', line_width=2, legend_label='ATPng Target Az')\n",
    "\n",
    "p.legend.location = 'bottom_left'\n",
    "p.legend.click_policy = 'hide'\n",
    "show(p)"
   ]
  },
  {
   "cell_type": "markdown",
   "metadata": {},
   "source": [
    "## Azimuth motor velocity analysis\n",
    "#### Note that while tracking, the velocity demand has an offset with respect to the actual velocity, this is normal as the velocity loop has no integrator (just a fixed gain). "
   ]
  },
  {
   "cell_type": "code",
   "execution_count": null,
   "metadata": {},
   "outputs": [],
   "source": [
    "#Measured Velocity\n",
    "measured_vel_az1 = await get_data_frame('azimuthMotor1Velocity', 'lsst.sal.ATMCS.measuredMotorVelocity')\n",
    "measured_vel_az2 = await get_data_frame('azimuthMotor2Velocity', 'lsst.sal.ATMCS.measuredMotorVelocity')\n",
    "# Commanded Velocity Trajectory\n",
    "commanded_vel_az = await get_data_frame('azimuthVelocity', 'lsst.sal.ATMCS.trajectory')\n",
    "# Commanded from Pointing Component\n",
    "commanded_vel_az_ATPng = await client.query(f'SELECT \"azimuthVelocity\", \"private_sndStamp\", \"private_rcvStamp\" FROM \"efd\".\"autogen\".\"lsst.sal.ATMCS.command_trackTarget\" WHERE {time_span}')"
   ]
  },
  {
   "cell_type": "code",
   "execution_count": null,
   "metadata": {},
   "outputs": [],
   "source": [
    "p = figure(x_axis_type='datetime', y_range=(yr_cen-dy, yr_cen+dy), plot_width=800, plot_height=400)\n",
    "p.yaxis.axis_label = \"Azimuth (degrees)\"\n",
    "p.xaxis.axis_label = \"Time\"\n",
    "# Positions\n",
    "p.line(x=commanded_az.index.values, y=commanded_az['azimuth'], color='black', line_width=2, legend_label='ATMCS Commanded Az Trajectory')\n",
    "p.cross(x=az.index.values, y=az['azimuthCalculatedAngle'], color='red', line_width=2, line_dash='dashed', legend_label='ATMCS Measured Az Position')\n",
    "p.cross(x=pd.to_datetime(commanded_az_ATPng['private_sndStamp'], unit='s'), y=commanded_az_ATPng['azimuth'], color='green', line_width=2, legend_label='ATPng Target Az')\n",
    "# Velocities\n",
    "p.extra_y_ranges = {'Velocity': Range1d(start=-0.1, end=0.1)}\n",
    "p.add_layout(LinearAxis(y_range_name='Velocity', axis_label='Velocity'), 'right')\n",
    "p.line(x=commanded_vel_az.index.values, y=commanded_vel_az['azimuthVelocity'], color='black', alpha=0.7, y_range_name='Velocity', legend_label='ATMCS Commanded Az Velocity Trajectory')\n",
    "p.line(x=measured_vel_az1.index.values, y=measured_vel_az1['azimuthMotor1Velocity'], color='red', alpha=0.5, y_range_name='Velocity', legend_label='ATMCS Measured Az Velocity Motor 1')\n",
    "p.line(x=measured_vel_az2.index.values, y=measured_vel_az2['azimuthMotor2Velocity'], color='blue', alpha=0.5, y_range_name='Velocity', legend_label='ATMCS Measured Az Velocity Motor 2')\n",
    "p.x(x=pd.to_datetime(commanded_vel_az_ATPng['private_sndStamp'], unit='s'), y=commanded_vel_az_ATPng['azimuthVelocity'], y_range_name='Velocity', color='green', line_width=2, legend_label='ATPng Target Az Velocity')\n",
    "\n",
    "p.legend.location = 'top_left'\n",
    "p.legend.click_policy = 'hide'\n",
    "show(p)"
   ]
  },
  {
   "cell_type": "markdown",
   "metadata": {},
   "source": [
    "### Azimuth Torque Analysis"
   ]
  },
  {
   "cell_type": "code",
   "execution_count": null,
   "metadata": {},
   "outputs": [],
   "source": [
    "# Demanded and Measured Torques\n",
    "# Motor 1\n",
    "az_motor1_torque_demand = await get_data_frame('azimuthMotor1Torque', 'lsst.sal.ATMCS.torqueDemand')\n",
    "az_motor1_torque_measured = await get_data_frame('azimuthMotor1Torque', 'lsst.sal.ATMCS.measuredTorque')\n",
    "# Motor 2\n",
    "az_motor2_torque_demand = await get_data_frame('azimuthMotor2Torque', 'lsst.sal.ATMCS.torqueDemand')\n",
    "az_motor2_torque_measured = await get_data_frame('azimuthMotor2Torque', 'lsst.sal.ATMCS.measuredTorque')"
   ]
  },
  {
   "cell_type": "code",
   "execution_count": null,
   "metadata": {},
   "outputs": [],
   "source": [
    "# Motor 1 Plot\n",
    "yr_cen=np.median(measured_vel_az1['azimuthMotor1Velocity'])\n",
    "dy=1.1*(np.max(measured_vel_az1['azimuthMotor1Velocity'])- np.min(measured_vel_az1['azimuthMotor1Velocity']))\n",
    "\n",
    "p = figure(x_axis_type='datetime', y_range=(yr_cen-dy, yr_cen+dy), plot_width=800, plot_height=400)\n",
    "p.yaxis.axis_label = \"Azimuth Velocity (deg/s)\"\n",
    "p.xaxis.axis_label = \"Time\"\n",
    "# Velocities\n",
    "p.line(x=commanded_vel_az.index.values, y=commanded_vel_az['azimuthVelocity'], color='black', alpha=0.7, legend_label='ATMCS Commanded Az Velocity Trajectory')\n",
    "p.line(x=measured_vel_az1.index.values, y=measured_vel_az1['azimuthMotor1Velocity'], color='red', alpha=0.5, legend_label='ATMCS Measured Az Velocity Motor 1')\n",
    "p.x(x=pd.to_datetime(commanded_vel_az_ATPng['private_sndStamp'], unit='s'), y=commanded_vel_az_ATPng['azimuthVelocity'], color='green', line_width=2, legend_label='ATPng Target Az Velocity')\n",
    "# Torques\n",
    "yr_cen=np.median(az_motor1_torque_demand['azimuthMotor1Torque'])\n",
    "dy=(np.max(az_motor1_torque_demand['azimuthMotor1Torque']) - np.min(az_motor1_torque_demand['azimuthMotor1Torque']))/2\n",
    "p.extra_y_ranges = {'Torque': Range1d(start=yr_cen-dy, end=yr_cen+dy)}\n",
    "p.add_layout(LinearAxis(y_range_name='Torque', axis_label='Torque [A]'), 'right')\n",
    "# motor 1\n",
    "p.line(x=az_motor1_torque_demand.index.values, y=az_motor1_torque_demand['azimuthMotor1Torque'], color='black', alpha=0.7, y_range_name='Torque', legend_label='ATMCS Commanded Motor 1 Torque')\n",
    "p.line(x=az_motor1_torque_measured.index.values, y=az_motor1_torque_measured['azimuthMotor1Torque'], color='red', alpha=0.5, y_range_name='Torque', legend_label='ATMCS Measured Motor 1 Torque')\n",
    "# Motor 2\n",
    "\n",
    "\n",
    "p.legend.location = 'top_left'\n",
    "p.legend.click_policy = 'hide'\n",
    "show(p)"
   ]
  },
  {
   "cell_type": "code",
   "execution_count": null,
   "metadata": {},
   "outputs": [],
   "source": [
    "# Motor 2 Plot\n",
    "yr_cen=np.median(measured_vel_az2['azimuthMotor2Velocity'])\n",
    "dy=1.1*(np.max(measured_vel_az2['azimuthMotor2Velocity'])- np.min(measured_vel_az2['azimuthMotor2Velocity']))\n",
    "\n",
    "p = figure(x_axis_type='datetime', y_range=(yr_cen-dy, yr_cen+dy), plot_width=800, plot_height=400)\n",
    "p.yaxis.axis_label = \"Azimuth Velocity (deg/s)\"\n",
    "p.xaxis.axis_label = \"Time\"\n",
    "# Velocities\n",
    "p.line(x=commanded_vel_az.index.values, y=commanded_vel_az['azimuthVelocity'], color='black', alpha=0.7, legend_label='ATMCS Commanded Az Velocity Trajectory')\n",
    "p.line(x=measured_vel_az2.index.values, y=measured_vel_az2['azimuthMotor2Velocity'], color='blue', alpha=0.5, legend_label='ATMCS Measured Az Velocity Motor 2')\n",
    "p.x(x=pd.to_datetime(commanded_vel_az_ATPng['private_sndStamp'], unit='s'), y=commanded_vel_az_ATPng['azimuthVelocity'], color='green', line_width=2, legend_label='ATPng Target Az Velocity')\n",
    "# Torques\n",
    "yr_cen=np.median(az_motor2_torque_demand['azimuthMotor2Torque'])\n",
    "dy=(np.max(az_motor2_torque_demand['azimuthMotor2Torque']) - np.min(az_motor2_torque_demand['azimuthMotor2Torque']))/2\n",
    "p.extra_y_ranges = {'Torque': Range1d(start=yr_cen-dy, end=yr_cen+dy)}\n",
    "p.add_layout(LinearAxis(y_range_name='Torque', axis_label='Torque [A]'), 'right')\n",
    "# motor 1\n",
    "p.line(x=az_motor2_torque_demand.index.values, y=az_motor2_torque_demand['azimuthMotor2Torque'], color='black', alpha=0.7, y_range_name='Torque', legend_label='ATMCS Commanded Motor 2 Torque')\n",
    "p.line(x=az_motor2_torque_measured.index.values, y=az_motor2_torque_measured['azimuthMotor2Torque'], color='red', alpha=0.5, y_range_name='Torque', legend_label='ATMCS Measured Motor 2 Torque')\n",
    "# Motor 2\n",
    "\n",
    "\n",
    "p.legend.location = 'top_left'\n",
    "p.legend.click_policy = 'hide'\n",
    "show(p)"
   ]
  },
  {
   "cell_type": "markdown",
   "metadata": {},
   "source": [
    "# Elevation Axis Analysis"
   ]
  },
  {
   "cell_type": "code",
   "execution_count": null,
   "metadata": {},
   "outputs": [],
   "source": [
    "# Measured Position\n",
    "el = await get_data_frame('elevationCalculatedAngle', 'lsst.sal.ATMCS.mount_AzEl_Encoders')"
   ]
  },
  {
   "cell_type": "code",
   "execution_count": null,
   "metadata": {},
   "outputs": [],
   "source": [
    "# Commanded Trajectory\n",
    "commanded_el = await get_data_frame('elevation', 'lsst.sal.ATMCS.trajectory')"
   ]
  },
  {
   "cell_type": "code",
   "execution_count": null,
   "metadata": {},
   "outputs": [],
   "source": [
    "# Pointing Kernel Command\n",
    "commanded_el_ATPng = await client.query(f'SELECT \"elevation\", \"private_sndStamp\", \"private_rcvStamp\" FROM \"efd\".\"autogen\".\"lsst.sal.ATMCS.command_trackTarget\" WHERE {time_span}')"
   ]
  },
  {
   "cell_type": "code",
   "execution_count": null,
   "metadata": {},
   "outputs": [],
   "source": [
    "# Plot positions\n",
    "yr_cen=np.median(commanded_el['elevation'])\n",
    "dy=1.1*(np.max(commanded_el['elevation'])-np.min(commanded_el['elevation']))/2\n",
    "\n",
    "p = figure(x_axis_type='datetime', y_range=(yr_cen-dy, yr_cen+dy), plot_width=800, plot_height=400)\n",
    "p.yaxis.axis_label = \"Nasmyth Position (degrees)\"\n",
    "p.xaxis.axis_label = \"Time\"\n",
    "p.line(x=commanded_el.index.values, y=commanded_el['elevation'], color='black', line_width=2, legend_label='ATMCS Commanded Elevation Trajectory')\n",
    "p.cross(x=el.index.values, y=el['elevationCalculatedAngle'], color='red', line_width=2, line_dash='dashed', legend_label='ATMCS Elevation Measured Nas1 Position')\n",
    "p.cross(x=pd.to_datetime(commanded_el_ATPng['private_sndStamp'], unit='s'), y=commanded_el_ATPng['elevation'], color='green', line_width=2, legend_label='ATPng Target Elevation')\n",
    "\n",
    "p.legend.location = 'bottom_left'\n",
    "p.legend.click_policy = 'hide'\n",
    "show(p)"
   ]
  },
  {
   "cell_type": "markdown",
   "metadata": {},
   "source": [
    "## Elevation Motor velocity Analysis\n",
    "#### Note that while tracking, the velocity demand has an offset with respect to the actual velocity, this is normal as the velocity loop has no integrator (just a fixed gain). "
   ]
  },
  {
   "cell_type": "code",
   "execution_count": null,
   "metadata": {},
   "outputs": [],
   "source": [
    "#Measured\n",
    "measured_vel_el = await get_data_frame('elevationMotorVelocity', 'lsst.sal.ATMCS.measuredMotorVelocity')"
   ]
  },
  {
   "cell_type": "code",
   "execution_count": null,
   "metadata": {},
   "outputs": [],
   "source": [
    "# Commanded\n",
    "commanded_vel_el = await get_data_frame('elevationVelocity', 'lsst.sal.ATMCS.trajectory')"
   ]
  },
  {
   "cell_type": "code",
   "execution_count": null,
   "metadata": {},
   "outputs": [],
   "source": [
    "# From Pointing\n",
    "commanded_vel_el_ATPng = await client.query(f'SELECT \"elevationVelocity\", \"private_sndStamp\", \"private_rcvStamp\" FROM \"efd\".\"autogen\".\"lsst.sal.ATMCS.command_trackTarget\" WHERE {time_span}')"
   ]
  },
  {
   "cell_type": "code",
   "execution_count": null,
   "metadata": {},
   "outputs": [],
   "source": [
    "# Plot Velocities and Positions\n",
    "yr_cen=np.median(commanded_el['elevation'])\n",
    "dy=1.1*(np.max(commanded_el['elevation'])-np.min(commanded_el['elevation']))/2\n",
    "# Positions\n",
    "p = figure(x_axis_type='datetime', y_range=(yr_cen-dy, yr_cen+dy), plot_width=800, plot_height=400)\n",
    "p.yaxis.axis_label = \"Elevation Position (degrees)\"\n",
    "p.xaxis.axis_label = \"Time\"\n",
    "p.line(x=commanded_el.index.values, y=commanded_el['elevation'], color='black', line_width=2, legend_label='ATMCS Commanded Elevation Trajectory')\n",
    "p.cross(x=el.index.values, y=el['elevationCalculatedAngle'], color='red', line_width=2, line_dash='dashed', legend_label='ATMCS Elevation Measured Elevation Position')\n",
    "p.cross(x=pd.to_datetime(commanded_el_ATPng['private_sndStamp'], unit='s'), y=commanded_el_ATPng['elevation'], color='green', line_width=2, legend_label='ATPng Target Elevation')\n",
    "# Velocities\n",
    "yr_cen=np.median(measured_vel_el['elevationMotorVelocity'])\n",
    "dy=1.1*(np.max(measured_vel_el['elevationMotorVelocity'])- np.min(measured_vel_el['elevationMotorVelocity']))/2\n",
    "\n",
    "p.extra_y_ranges = {'Velocity': Range1d(start=yr_cen-dy, end=yr_cen+dy)}\n",
    "p.add_layout(LinearAxis(y_range_name='Velocity', axis_label='Velocity'), 'right')\n",
    "p.line(x=commanded_vel_el.index.values, y=commanded_vel_el['elevationVelocity'], color='black', alpha=0.7, y_range_name='Velocity', legend_label='ATMCS Commanded Elevation Velocity Trajectory')\n",
    "p.line(x=measured_vel_el.index.values, y=measured_vel_el['elevationMotorVelocity'], color='red', alpha=0.5, y_range_name='Velocity', legend_label='ATMCS Measured Elevation Velocity')\n",
    "p.x(x=pd.to_datetime(commanded_vel_el_ATPng['private_sndStamp'], unit='s'), y=commanded_vel_el_ATPng['elevationVelocity'], y_range_name='Velocity', color='green', line_width=2, legend_label='ATPng Target Elevation Velocity')\n",
    "\n",
    "p.legend.location = 'top_left'\n",
    "p.legend.click_policy = 'hide'\n",
    "show(p)"
   ]
  },
  {
   "cell_type": "code",
   "execution_count": null,
   "metadata": {},
   "outputs": [],
   "source": [
    "# Query Torques\n",
    "el_torque_demand = await get_data_frame('elevationMotorTorque', 'lsst.sal.ATMCS.torqueDemand')\n",
    "el_torque_measured = await get_data_frame('elevationMotorTorque', 'lsst.sal.ATMCS.measuredTorque')"
   ]
  },
  {
   "cell_type": "code",
   "execution_count": null,
   "metadata": {},
   "outputs": [],
   "source": [
    "yr_cen=np.median(commanded_vel_el['elevationVelocity'])\n",
    "dy=1.1*(np.max(commanded_vel_el['elevationVelocity']) - np.min(commanded_vel_el['elevationVelocity']))/2\n",
    "\n",
    "p = figure(x_axis_type='datetime', y_range=(yr_cen-dy, yr_cen+dy), plot_width=800, plot_height=400)\n",
    "p.yaxis.axis_label = \"Azimuth Velocity (deg/s)\"\n",
    "p.xaxis.axis_label = \"Time\"\n",
    "# Velocities\n",
    "p.line(x=commanded_vel_el.index.values, y=commanded_vel_el['elevationVelocity'], color='black', alpha=0.7, legend_label='ATMCS Commanded Elevation Velocity Trajectory')\n",
    "p.line(x=measured_vel_el.index.values, y=measured_vel_el['elevationMotorVelocity'], color='red', alpha=0.5, legend_label='ATMCS Measured Elevation Velocity')\n",
    "p.x(x=pd.to_datetime(commanded_vel_el_ATPng['private_sndStamp'], unit='s'), y=commanded_vel_el_ATPng['elevationVelocity'], color='green', \n",
    "    line_width=2, legend_label='ATPng Target Elevation Velocity')\n",
    "\n",
    "# Torques\n",
    "yr_cen=np.median(el_torque_demand['elevationMotorTorque'])\n",
    "dy=1.1*(np.max(el_torque_demand['elevationMotorTorque']) - np.min(el_torque_demand['elevationMotorTorque']))/2\n",
    "p.extra_y_ranges = {'Torque': Range1d(start=yr_cen-dy, end=yr_cen+dy)}\n",
    "p.add_layout(LinearAxis(y_range_name='Torque', axis_label='Torque [A]'), 'right')\n",
    "p.line(x=el_torque_demand.index.values, y=el_torque_demand['elevationMotorTorque'], color='black', alpha=0.7, y_range_name='Torque', legend_label='ATMCS Commanded Torque')\n",
    "p.line(x=el_torque_measured.index.values, y=el_torque_measured['elevationMotorTorque'], color='red', alpha=0.5, y_range_name='Torque', legend_label='ATMCS Measured Torque')\n",
    "\n",
    "\n",
    "p.legend.location = 'top_left'\n",
    "p.legend.click_policy = 'hide'\n",
    "show(p)"
   ]
  },
  {
   "cell_type": "markdown",
   "metadata": {},
   "source": [
    "# Nasmyth 1 Analysis\n",
    "#### Note that if Nasmyth 1 was not in use during the selected timestamp this will fail. Nasmyth 2 plots are available below"
   ]
  },
  {
   "cell_type": "code",
   "execution_count": null,
   "metadata": {},
   "outputs": [],
   "source": [
    "# Measured Position\n",
    "nas1 = await get_data_frame('nasmyth1CalculatedAngle', 'lsst.sal.ATMCS.mount_Nasmyth_Encoders')"
   ]
  },
  {
   "cell_type": "code",
   "execution_count": null,
   "metadata": {},
   "outputs": [],
   "source": [
    "# Commanded Trajectory\n",
    "commanded_nas1 = await get_data_frame('nasmyth1RotatorAngle', 'lsst.sal.ATMCS.trajectory')"
   ]
  },
  {
   "cell_type": "code",
   "execution_count": null,
   "metadata": {},
   "outputs": [],
   "source": [
    "# Pointing Kernel Command\n",
    "commanded_nas1_ATPng = await client.query(f'SELECT \"nasmyth1RotatorAngle\", \"private_sndStamp\", \"private_rcvStamp\" FROM \"efd\".\"autogen\".\"lsst.sal.ATMCS.command_trackTarget\" WHERE {time_span}')"
   ]
  },
  {
   "cell_type": "markdown",
   "metadata": {},
   "source": [
    "## Plot commanded position (by pointing component), target position by ATMCS, Calculated position by ATMCS"
   ]
  },
  {
   "cell_type": "code",
   "execution_count": null,
   "metadata": {},
   "outputs": [],
   "source": [
    "yr_cen=np.median(commanded_nas1['nasmyth1RotatorAngle'])\n",
    "dy=1.1*(np.max(commanded_nas1['nasmyth1RotatorAngle']) - np.min(commanded_nas1['nasmyth1RotatorAngle']))/2\n",
    "\n",
    "p = figure(x_axis_type='datetime', y_range=(yr_cen-dy, yr_cen+dy), plot_width=800, plot_height=400)\n",
    "p.yaxis.axis_label = \"Nasmyth Position (degrees)\"\n",
    "p.xaxis.axis_label = \"Time\"\n",
    "p.line(x=commanded_nas1.index.values, y=commanded_nas1['nasmyth1RotatorAngle'], color='black', line_width=2, legend_label='ATMCS Commanded Nas1 Trajectory')\n",
    "p.cross(x=nas1.index.values, y=nas1['nasmyth1CalculatedAngle'], color='red', line_width=2, line_dash='dashed', legend_label='ATMCS Nas1 Measured Nas1 Position')\n",
    "#p.cross(x=pd.to_datetime(commanded_nas1_ATPng['private_sndStamp'], unit='s'), y=commanded_nas1_ATPng['nasmyth1RotatorAngle'], color='green', line_width=5, legend_label='ATPng Target Nas1')\n",
    "\n",
    "p.legend.location = 'bottom_left'\n",
    "p.legend.click_policy = 'hide'\n",
    "show(p)"
   ]
  },
  {
   "cell_type": "markdown",
   "metadata": {},
   "source": [
    "## Look at Nasmyth 1 motor velocities\n",
    "#### Note that while tracking, the velocity demand has an offset with respect to the actual velocity, this is normal as the velocity loop has no integrator (just a fixed gain). "
   ]
  },
  {
   "cell_type": "code",
   "execution_count": null,
   "metadata": {},
   "outputs": [],
   "source": [
    "#Measured\n",
    "measured_vel_nas1 = await get_data_frame('nasmyth1MotorVelocity', 'lsst.sal.ATMCS.measuredMotorVelocity')\n",
    "# Commanded\n",
    "commanded_vel_nas1 = await get_data_frame('nasmyth1RotatorAngleVelocity', 'lsst.sal.ATMCS.trajectory')\n",
    "# From Pointing\n",
    "commanded_vel_nas1_ATPng = await client.query(f'SELECT \"nasmyth1RotatorAngleVelocity\", \"private_sndStamp\", \"private_rcvStamp\" FROM \"efd\".\"autogen\".\"lsst.sal.ATMCS.command_trackTarget\" WHERE {time_span}')"
   ]
  },
  {
   "cell_type": "code",
   "execution_count": null,
   "metadata": {},
   "outputs": [],
   "source": [
    "yr_cen=np.median(commanded_nas1['nasmyth1RotatorAngle'])\n",
    "dy=1.1*(np.max(commanded_nas1['nasmyth1RotatorAngle']) - np.min(commanded_nas1['nasmyth1RotatorAngle']))/2\n",
    "\n",
    "# Positions\n",
    "p = figure(x_axis_type='datetime', y_range=(yr_cen-dy, yr_cen+dy), plot_width=800, plot_height=400)\n",
    "p.yaxis.axis_label = \"Nasmyth Position (degrees)\"\n",
    "p.xaxis.axis_label = \"Time\"\n",
    "p.line(x=commanded_nas1.index.values, y=commanded_nas1['nasmyth1RotatorAngle'], color='black', line_width=2, legend_label='ATMCS Commanded Nas1 Trajectory')\n",
    "p.cross(x=nas1.index.values, y=nas1['nasmyth1CalculatedAngle'], color='red', line_width=2, line_dash='dashed', legend_label='ATMCS Nas1 Measured Nas1 Position')\n",
    "#p.cross(x=pd.to_datetime(commanded_nas1_ATPng['private_sndStamp'], unit='s'), y=commanded_nas1_ATPng['nasmyth1RotatorAngle'], color='green', line_width=2, legend_label='ATPng Target Nas1')\n",
    "\n",
    "# Velocities\n",
    "p.extra_y_ranges = {'Velocity': Range1d(start=-0.1, end=0.1)}\n",
    "p.add_layout(LinearAxis(y_range_name='Velocity', axis_label='Velocity'), 'right')\n",
    "p.line(x=commanded_vel_nas1.index.values, y=commanded_vel_nas1['nasmyth1RotatorAngleVelocity'], color='black', alpha=0.5, y_range_name='Velocity', legend_label='ATMCS Commanded Nas1 Velocity Trajectory')\n",
    "p.line(x=measured_vel_nas1.index.values, y=measured_vel_nas1['nasmyth1MotorVelocity'], color='blue', alpha=0.5, y_range_name='Velocity', legend_label='ATMCS Measured Nas1 Velocity Motor 1')\n",
    "#p.x(x=pd.to_datetime(commanded_vel_nas1_ATPng['private_sndStamp'], unit='s'), y=commanded_vel_nas1_ATPng['nasmyth1RotatorAngleVelocity'], y_range_name='Velocity', color='green', line_width=2, legend_label='ATPng Target Nas1 Velocity')\n",
    "\n",
    "p.legend.location = 'top_left'\n",
    "p.legend.click_policy = 'hide'\n",
    "show(p)"
   ]
  },
  {
   "cell_type": "markdown",
   "metadata": {},
   "source": [
    "## Look at Nasmyth 1 Torques as a function of position and velocity"
   ]
  },
  {
   "cell_type": "code",
   "execution_count": null,
   "metadata": {},
   "outputs": [],
   "source": [
    "# Query Torques\n",
    "nas1_torque_demand = await get_data_frame('nasmyth1MotorTorque', 'lsst.sal.ATMCS.torqueDemand')\n",
    "nas1_torque_measured = await get_data_frame('nasmyth1MotorTorque', 'lsst.sal.ATMCS.measuredTorque')"
   ]
  },
  {
   "cell_type": "code",
   "execution_count": null,
   "metadata": {},
   "outputs": [],
   "source": [
    "# Plot Position and torque as a function of time\n",
    "yr_cen=np.median(commanded_nas1['nasmyth1RotatorAngle'])\n",
    "dy=1.1*(np.max(commanded_nas1['nasmyth1RotatorAngle']) - np.min(commanded_nas1['nasmyth1RotatorAngle']))/2\n",
    "\n",
    "# Positions\n",
    "p = figure(x_axis_type='datetime', y_range=(yr_cen-dy, yr_cen+dy), plot_width=800, plot_height=400)\n",
    "p.yaxis.axis_label = \"Nasmyth Position (degrees)\"\n",
    "p.xaxis.axis_label = \"Time\"\n",
    "\n",
    "p.line(x=commanded_nas1.index.values, y=commanded_nas1['nasmyth1RotatorAngle'], color='black', line_width=2, legend_label='ATMCS Commanded Nas1 Trajectory')\n",
    "p.cross(x=nas1.index.values, y=nas1['nasmyth1CalculatedAngle'], color='red', line_width=2, line_dash='dashed', legend_label='ATMCS Nas1 Measured Nas1 Position')\n",
    "#p.cross(x=pd.to_datetime(commanded_nas1_ATPng['private_sndStamp'], unit='s'), y=commanded_nas1_ATPng['nasmyth1RotatorAngle'], color='green', line_width=2, legend_label='ATPng Target Nas1')\n",
    "\n",
    "# Torques\n",
    "yr_cen=np.median(nas1_torque_measured['nasmyth1MotorTorque'])\n",
    "dy=1.1*(np.max(nas1_torque_measured['nasmyth1MotorTorque']) - np.min(nas1_torque_measured['nasmyth1MotorTorque']))/2\n",
    "\n",
    "p.extra_y_ranges = {'Torque': Range1d(yr_cen-dy, yr_cen+dy)}\n",
    "p.add_layout(LinearAxis(y_range_name='Torque', axis_label='Torque'), 'right')\n",
    "p.line(x=nas1_torque_demand.index.values, y=nas1_torque_demand['nasmyth1MotorTorque'], color='black', alpha=0.5, y_range_name='Torque', legend_label='ATMCS Demanded Nas1 Torque')\n",
    "p.line(x=nas1_torque_measured.index.values, y=nas1_torque_measured['nasmyth1MotorTorque'], color='blue', alpha=0.5, y_range_name='Torque', legend_label='ATMCS Measured Nas1 Torque')\n",
    "\n",
    "p.legend.location = 'top_left'\n",
    "p.legend.click_policy = 'hide'\n",
    "show(p)"
   ]
  },
  {
   "cell_type": "code",
   "execution_count": null,
   "metadata": {},
   "outputs": [],
   "source": [
    "# Plot velocity and torque as a function of time\n",
    "yr_cen=np.median(commanded_vel_nas1['nasmyth1RotatorAngleVelocity'])\n",
    "dy=1.1*(np.max(commanded_vel_nas1['nasmyth1RotatorAngleVelocity']) - np.min(commanded_vel_nas1['nasmyth1RotatorAngleVelocity']))/2\n",
    "\n",
    "# Velocities\n",
    "p = figure(x_axis_type='datetime', y_range=(yr_cen-dy, yr_cen+dy), plot_width=800, plot_height=400)\n",
    "p.yaxis.axis_label = \"Nasmyth Velocity (deg/s)\"\n",
    "p.xaxis.axis_label = \"Time\"\n",
    "p.line(x=commanded_vel_nas1.index.values, y=commanded_vel_nas1['nasmyth1RotatorAngleVelocity'], color='black', alpha=0.5, legend_label='ATMCS Commanded Nas1 Velocity Trajectory')\n",
    "p.line(x=measured_vel_nas1.index.values, y=measured_vel_nas1['nasmyth1MotorVelocity'], color='red', alpha=0.5, legend_label='ATMCS Measured Nas1 Velocity Motor 1')\n",
    "#p.x(x=pd.to_datetime(commanded_vel_nas1_ATPng['private_sndStamp'], unit='s'), y=commanded_vel_nas1_ATPng['nasmyth1RotatorAngleVelocity'], color='green', line_width=2, legend_label='ATPng Target Nas1 Velocity')\n",
    "\n",
    "\n",
    "# Torques\n",
    "yr_cen=np.median(nas1_torque_measured['nasmyth1MotorTorque'])\n",
    "dy=1.1*(np.max(nas1_torque_measured['nasmyth1MotorTorque']) - np.min(nas1_torque_measured['nasmyth1MotorTorque']))/2\n",
    "\n",
    "p.extra_y_ranges = {'Torque': Range1d(yr_cen-dy, yr_cen+dy)}\n",
    "p.add_layout(LinearAxis(y_range_name='Torque', axis_label='Torque'), 'right')\n",
    "p.line(x=nas1_torque_demand.index.values, y=nas1_torque_demand['nasmyth1MotorTorque'], color='black', alpha=0.5, y_range_name='Torque', legend_label='ATMCS Demanded Nas1 Torque')\n",
    "p.line(x=nas1_torque_measured.index.values, y=nas1_torque_measured['nasmyth1MotorTorque'], color='blue', alpha=0.5, y_range_name='Torque', legend_label='ATMCS Measured Nas1 Torque')\n",
    "\n",
    "p.legend.location = 'top_left'\n",
    "p.legend.click_policy = 'hide'\n",
    "show(p)"
   ]
  },
  {
   "cell_type": "code",
   "execution_count": null,
   "metadata": {},
   "outputs": [],
   "source": []
  },
  {
   "cell_type": "markdown",
   "metadata": {},
   "source": [
    "# Nasmyth 2 Analysis\n",
    "#### Note that if Nasmyth 1 was not in use during the selected timestamp this will fail. Nasmyth 1 plots are available above"
   ]
  },
  {
   "cell_type": "code",
   "execution_count": null,
   "metadata": {},
   "outputs": [],
   "source": [
    "# Measured Position\n",
    "nas2 = await get_data_frame('nasmyth2CalculatedAngle', 'lsst.sal.ATMCS.mount_Nasmyth_Encoders')"
   ]
  },
  {
   "cell_type": "code",
   "execution_count": null,
   "metadata": {},
   "outputs": [],
   "source": [
    "# Commanded Trajectory\n",
    "commanded_nas2 = await get_data_frame('nasmyth2RotatorAngle', 'lsst.sal.ATMCS.trajectory')"
   ]
  },
  {
   "cell_type": "code",
   "execution_count": null,
   "metadata": {},
   "outputs": [],
   "source": [
    "# Pointing Kernel Command\n",
    "commanded_nas2_ATPng = await client.query(f'SELECT \"nasmyth2RotatorAngle\", \"private_sndStamp\", \"private_rcvStamp\" FROM \"efd\".\"autogen\".\"lsst.sal.ATMCS.command_trackTarget\" WHERE {time_span}')"
   ]
  },
  {
   "cell_type": "markdown",
   "metadata": {},
   "source": [
    "## Plot commanded position (by pointing component), target position by ATMCS, Calculated position by ATMCS"
   ]
  },
  {
   "cell_type": "code",
   "execution_count": null,
   "metadata": {},
   "outputs": [],
   "source": [
    "yr_cen=np.median(commanded_nas2['nasmyth2RotatorAngle'])\n",
    "dy=1.1*(np.max(commanded_nas2['nasmyth2RotatorAngle']) - np.min(commanded_nas2['nasmyth2RotatorAngle']))/2\n",
    "\n",
    "p = figure(x_axis_type='datetime', y_range=(yr_cen-dy, yr_cen+dy), plot_width=800, plot_height=400)\n",
    "p.yaxis.axis_label = \"Nasmyth Position (degrees)\"\n",
    "p.xaxis.axis_label = \"Time\"\n",
    "p.line(x=commanded_nas2.index.values, y=commanded_nas2['nasmyth2RotatorAngle'], color='black', line_width=2, legend_label='ATMCS Commanded Nas2 Trajectory')\n",
    "p.cross(x=nas2.index.values, y=nas2['nasmyth2CalculatedAngle'], color='red', line_width=2, line_dash='dashed', legend_label='ATMCS Nas1 Measured Nas2 Position')#\n",
    "#p.cross(x=pd.to_datetime(commanded_nas2_ATPng['private_sndStamp'], unit='s'), y=commanded_nas2_ATPng['nasmyth2RotatorAngle'], color='green', line_width=5, legend_label='ATPng Target Nas2')\n",
    "\n",
    "p.legend.location = 'bottom_left'\n",
    "p.legend.click_policy = 'hide'\n",
    "show(p)"
   ]
  },
  {
   "cell_type": "markdown",
   "metadata": {},
   "source": [
    "## Look at Nasmyth 2 motor velocities\n",
    "#### Note that while tracking, the velocity demand has an offset with respect to the actual velocity, this is normal as the velocity loop has no integrator (just a fixed gain). "
   ]
  },
  {
   "cell_type": "code",
   "execution_count": null,
   "metadata": {},
   "outputs": [],
   "source": [
    "#Measured\n",
    "measured_vel_nas2 = await get_data_frame('nasmyth2MotorVelocity', 'lsst.sal.ATMCS.measuredMotorVelocity')\n",
    "# Commanded\n",
    "commanded_vel_nas2 = await get_data_frame('nasmyth2RotatorAngleVelocity', 'lsst.sal.ATMCS.trajectory')\n",
    "# From Pointing\n",
    "commanded_vel_nas2_ATPng = await client.query(f'SELECT \"nasmyth2RotatorAngleVelocity\", \"private_sndStamp\", \"private_rcvStamp\" FROM \"efd\".\"autogen\".\"lsst.sal.ATMCS.command_trackTarget\" WHERE {time_span}')"
   ]
  },
  {
   "cell_type": "code",
   "execution_count": null,
   "metadata": {},
   "outputs": [],
   "source": [
    "# Positions\n",
    "p = figure(x_axis_type='datetime', y_range=(yr_cen-dy, yr_cen+dy), plot_width=800, plot_height=400)\n",
    "p.line(x=commanded_nas2.index.values, y=commanded_nas2['nasmyth2RotatorAngle'], color='black', line_width=2, legend_label='ATMCS Commanded Nas2 Trajectory')\n",
    "p.cross(x=nas2.index.values, y=nas2['nasmyth2CalculatedAngle'], color='red', line_width=2, line_dash='dashed', legend_label='ATMCS Nas1 Measured Nas2 Position')\n",
    "#p.cross(x=pd.to_datetime(commanded_nas2_ATPng['private_sndStamp'], unit='s'), y=commanded_nas2_ATPng['nasmyth2RotatorAngle'], color='green', line_width=2, legend_label='ATPng Target Nas2')\n",
    "\n",
    "# Velocities\n",
    "p.extra_y_ranges = {'Velocity': Range1d(start=-0.1, end=0.1)}\n",
    "p.add_layout(LinearAxis(y_range_name='Velocity', axis_label='Velocity'), 'right')\n",
    "p.line(x=commanded_vel_nas2.index.values, y=commanded_vel_nas2['nasmyth2RotatorAngleVelocity'], color='black', alpha=0.5, y_range_name='Velocity', legend_label='ATMCS Commanded Nas2 Velocity Trajectory')\n",
    "p.line(x=measured_vel_nas2.index.values, y=measured_vel_nas2['nasmyth2MotorVelocity'], color='blue', alpha=0.5, y_range_name='Velocity', legend_label='ATMCS Measured Nas2 Velocity Motor 1')\n",
    "#p.x(x=pd.to_datetime(commanded_vel_nas2_ATPng['private_sndStamp'], unit='s'), y=commanded_vel_nas2_ATPng['nasmyth2RotatorAngleVelocity'], y_range_name='Velocity', color='green', line_width=2, legend_label='ATPng Target Nas1 Velocity')\n",
    "\n",
    "p.legend.location = 'top_left'\n",
    "p.legend.click_policy = 'hide'\n",
    "show(p)"
   ]
  },
  {
   "cell_type": "code",
   "execution_count": null,
   "metadata": {},
   "outputs": [],
   "source": []
  },
  {
   "cell_type": "code",
   "execution_count": null,
   "metadata": {},
   "outputs": [],
   "source": [
    "# Query Torques\n",
    "nas2_torque_demand = await get_data_frame('nasmyth2MotorTorque', 'lsst.sal.ATMCS.torqueDemand')\n",
    "nas2_torque_measured = await get_data_frame('nasmyth2MotorTorque', 'lsst.sal.ATMCS.measuredTorque')"
   ]
  },
  {
   "cell_type": "code",
   "execution_count": null,
   "metadata": {},
   "outputs": [],
   "source": [
    "# Plot Position and torque as a function of time\n",
    "yr_cen=np.median(commanded_nas2['nasmyth2RotatorAngle'])\n",
    "dy=1.1*(np.max(commanded_nas2['nasmyth2RotatorAngle']) - np.min(commanded_nas2['nasmyth2RotatorAngle']))/2\n",
    "\n",
    "# Positions\n",
    "p = figure(x_axis_type='datetime', y_range=(yr_cen-dy, yr_cen+dy), plot_width=800, plot_height=400)\n",
    "p.yaxis.axis_label = \"Nasmyth Position (degrees)\"\n",
    "p.xaxis.axis_label = \"Time\"\n",
    "\n",
    "p.line(x=commanded_nas2.index.values, y=commanded_nas2['nasmyth2RotatorAngle'], color='black', line_width=2, legend_label='ATMCS Commanded Nas2 Trajectory')\n",
    "p.cross(x=nas2.index.values, y=nas2['nasmyth2CalculatedAngle'], color='red', line_width=2, line_dash='dashed', legend_label='ATMCS Measured Nas2 Position')\n",
    "#p.cross(x=pd.to_datetime(commanded_nas2_ATPng['private_sndStamp'], unit='s'), y=commanded_nas2_ATPng['nasmyth2RotatorAngle'], color='green', line_width=2, legend_label='ATPng Target Nas2')\n",
    "\n",
    "# Torques\n",
    "yr_cen=np.median(nas2_torque_measured['nasmyth2MotorTorque'])\n",
    "dy=1.1*(np.max(nas2_torque_measured['nasmyth2MotorTorque']) - np.min(nas2_torque_measured['nasmyth2MotorTorque']))/2\n",
    "\n",
    "p.extra_y_ranges = {'Torque': Range1d(yr_cen-dy, yr_cen+dy)}\n",
    "p.add_layout(LinearAxis(y_range_name='Torque', axis_label='Torque'), 'right')\n",
    "p.line(x=nas2_torque_demand.index.values, y=nas2_torque_demand['nasmyth2MotorTorque'], color='black', alpha=0.5, y_range_name='Torque', legend_label='ATMCS Demanded Nas2 Torque')\n",
    "p.line(x=nas2_torque_measured.index.values, y=nas2_torque_measured['nasmyth2MotorTorque'], color='blue', alpha=0.5, y_range_name='Torque', legend_label='ATMCS Measured Nas2 Torque')\n",
    "\n",
    "p.legend.location = 'top_left'\n",
    "p.legend.click_policy = 'hide'\n",
    "show(p)"
   ]
  },
  {
   "cell_type": "code",
   "execution_count": null,
   "metadata": {},
   "outputs": [],
   "source": []
  },
  {
   "cell_type": "code",
   "execution_count": null,
   "metadata": {},
   "outputs": [],
   "source": [
    "# Plot velocity and torque as a function of time\n",
    "yr_cen=np.median(commanded_vel_nas2['nasmyth2RotatorAngleVelocity'])\n",
    "dy=1.1*(np.max(commanded_vel_nas2['nasmyth2RotatorAngleVelocity']) - np.min(commanded_vel_nas2['nasmyth2RotatorAngleVelocity']))/2\n",
    "\n",
    "# Velocities\n",
    "p = figure(x_axis_type='datetime', y_range=(yr_cen-dy, yr_cen+dy), plot_width=800, plot_height=400)\n",
    "p.yaxis.axis_label = \"Nasmyth Velocity (deg/s)\"\n",
    "p.xaxis.axis_label = \"Time\"\n",
    "p.line(x=commanded_vel_nas2.index.values, y=commanded_vel_nas2['nasmyth2RotatorAngleVelocity'], color='black', alpha=0.5, legend_label='ATMCS Commanded Nas2 Velocity Trajectory')\n",
    "p.line(x=measured_vel_nas2.index.values, y=measured_vel_nas2['nasmyth2MotorVelocity'], color='red', alpha=0.5, legend_label='ATMCS Measured Nas2 Velocity Motor 1')\n",
    "#p.x(x=pd.to_datetime(commanded_vel_nas2_ATPng['private_sndStamp'], unit='s'), y=commanded_vel_nas2_ATPng['nasmyth2RotatorAngleVelocity'], color='green', line_width=2, legend_label='ATPng Target Nas2 Velocity')\n",
    "\n",
    "\n",
    "# Torques\n",
    "yr_cen=np.median(nas2_torque_measured['nasmyth2MotorTorque'])\n",
    "dy=1.1*(np.max(nas2_torque_measured['nasmyth2MotorTorque']) - np.min(nas2_torque_measured['nasmyth2MotorTorque']))/2\n",
    "\n",
    "p.extra_y_ranges = {'Torque': Range1d(yr_cen-dy, yr_cen+dy)}\n",
    "p.add_layout(LinearAxis(y_range_name='Torque', axis_label='Torque'), 'right')\n",
    "p.line(x=nas2_torque_demand.index.values, y=nas2_torque_demand['nasmyth2MotorTorque'], color='black', alpha=0.5, y_range_name='Torque', legend_label='ATMCS Demanded Nas2 Torque')\n",
    "p.line(x=nas2_torque_measured.index.values, y=nas2_torque_measured['nasmyth2MotorTorque'], color='blue', alpha=0.5, y_range_name='Torque', legend_label='ATMCS Measured Nas2 Torque')\n",
    "\n",
    "p.legend.location = 'top_left'\n",
    "p.legend.click_policy = 'hide'\n",
    "show(p)"
   ]
  },
  {
   "cell_type": "code",
   "execution_count": null,
   "metadata": {},
   "outputs": [],
   "source": []
  }
 ],
 "metadata": {
  "kernelspec": {
   "display_name": "LSST",
   "language": "python",
   "name": "lsst"
  },
  "language_info": {
   "codemirror_mode": {
    "name": "ipython",
    "version": 3
   },
   "file_extension": ".py",
   "mimetype": "text/x-python",
   "name": "python",
   "nbconvert_exporter": "python",
   "pygments_lexer": "ipython3",
   "version": "3.7.2"
  }
 },
 "nbformat": 4,
 "nbformat_minor": 4
}
