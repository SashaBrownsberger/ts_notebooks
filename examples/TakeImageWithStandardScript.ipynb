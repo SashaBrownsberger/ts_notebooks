{
 "cells": [
  {
   "cell_type": "markdown",
   "metadata": {},
   "source": [
    "This notebook show how to use Standard script seed code to take image as an example. The \"Standard script seed code\" are basically Python classes that implements high level tasks for a component or group of components. These high level tasks can be used from notebooks either to perform high level operations or to start developing SAL Scripts that can be used in the queue afterwards. \n",
    "\n",
    "Note that as a notebook this code is not unit-tested and, therefore, changes in the upstream code may result in breakage. But, the overall functionality should still be reflected by this example. "
   ]
  },
  {
   "cell_type": "markdown",
   "metadata": {},
   "source": [
    "The fist step is to import the class that implements the high level operation we want to perform, along with `salobj.Remote` and the `SALPY` libraries. Here we show-case the use of `LATISS` a class that combines the operation of `ATCamera` and `ATSpectrograph`. We will use it to take different kinds of data.\n",
    "\n",
    "The `LATISS` class expects to receive remotes for both components. That adds a bit of overhead but at the same time, keep the remotes available at the notebook level so we can perform low level operations directly as well. "
   ]
  },
  {
   "cell_type": "code",
   "execution_count": 1,
   "metadata": {},
   "outputs": [],
   "source": [
    "import SALPY_ATCamera, SALPY_ATSpectrograph\n",
    "from lsst.ts.salobj import Remote\n",
    "from lsst.ts.standardscripts.auxtel.latiss import LATISS"
   ]
  },
  {
   "cell_type": "markdown",
   "metadata": {},
   "source": [
    "Next step is to create the remotes."
   ]
  },
  {
   "cell_type": "code",
   "execution_count": 2,
   "metadata": {},
   "outputs": [],
   "source": [
    "atcam = Remote(SALPY_ATCamera)\n",
    "atspec = Remote(SALPY_ATSpectrograph)"
   ]
  },
  {
   "cell_type": "markdown",
   "metadata": {},
   "source": [
    "And now we create an instance of `LATISS` passing the remotes we just created. "
   ]
  },
  {
   "cell_type": "code",
   "execution_count": 4,
   "metadata": {},
   "outputs": [],
   "source": [
    "latiss = LATISS(atcam=atcam, atspec=atspec)"
   ]
  },
  {
   "cell_type": "markdown",
   "metadata": {},
   "source": [
    "Now `latiss` has access to the operations developed by the high level class. "
   ]
  },
  {
   "cell_type": "code",
   "execution_count": 6,
   "metadata": {},
   "outputs": [
    {
     "name": "stdout",
     "output_type": "stream",
     "text": [
      "Help on method take_bias in module lsst.ts.standardscripts.auxtel.latiss:\n",
      "\n",
      "take_bias(nbias, checkpoint=None) method of lsst.ts.standardscripts.auxtel.latiss.LATISS instance\n",
      "    Take a series of bias images.\n",
      "    \n",
      "    Parameters\n",
      "    ----------\n",
      "    nbias : `int`\n",
      "        Number of bias frames to take.\n",
      "    checkpoint : `coro`\n",
      "        A optional coroutine that accepts one string argument that is\n",
      "        called before each bias is taken.\n",
      "\n"
     ]
    }
   ],
   "source": [
    "help(latiss.take_bias)"
   ]
  },
  {
   "cell_type": "code",
   "execution_count": 7,
   "metadata": {},
   "outputs": [
    {
     "name": "stdout",
     "output_type": "stream",
     "text": [
      "Help on method take_darks in module lsst.ts.standardscripts.auxtel.latiss:\n",
      "\n",
      "take_darks(exptime, ndarks, checkpoint=None) method of lsst.ts.standardscripts.auxtel.latiss.LATISS instance\n",
      "    Take a series of bias images.\n",
      "    \n",
      "    Parameters\n",
      "    ----------\n",
      "    exptime : `float`\n",
      "        Exposure time for darks.\n",
      "    ndarks : `int`\n",
      "        Number of dark frames to take.\n",
      "    checkpoint : `coro`\n",
      "        A optional coroutine that accepts one string argument that is\n",
      "        called before each dark is taken.\n",
      "\n"
     ]
    }
   ],
   "source": [
    "help(latiss.take_darks)"
   ]
  },
  {
   "cell_type": "code",
   "execution_count": 8,
   "metadata": {},
   "outputs": [
    {
     "name": "stdout",
     "output_type": "stream",
     "text": [
      "Help on method take_flats in module lsst.ts.standardscripts.auxtel.latiss:\n",
      "\n",
      "take_flats(exptime, nflats, latiss_filter=None, latiss_grating=None, latiss_linear_stage=None, checkpoint=None) method of lsst.ts.standardscripts.auxtel.latiss.LATISS instance\n",
      "    Take a series of flat field images.\n",
      "    \n",
      "    Parameters\n",
      "    ----------\n",
      "    exptime : `float`\n",
      "        Exposure time for flats.\n",
      "    nflats : `int`\n",
      "        Number of flat frames to take.\n",
      "    latiss_filter : `None` or `int` or `str`\n",
      "        Filter id or name. If None, ignore setting filter.\n",
      "    latiss_grating : `None` or `int` or `str`\n",
      "        Grating id or name.  If None, ignore setting grating.\n",
      "    latiss_linear_stage : `None` or `float`\n",
      "        Linear stage position.  If None, ignore setting linear stage.\n",
      "    checkpoint : `coro`\n",
      "        A optional coroutine that accepts one string argument that is\n",
      "        called before each flat field image is taken.\n",
      "\n"
     ]
    }
   ],
   "source": [
    "help(latiss.take_flats)"
   ]
  },
  {
   "cell_type": "code",
   "execution_count": 9,
   "metadata": {},
   "outputs": [
    {
     "name": "stdout",
     "output_type": "stream",
     "text": [
      "Help on method take_image in module lsst.ts.standardscripts.auxtel.latiss:\n",
      "\n",
      "take_image(exptime, shutter, image_seq_name, latiss_filter=None, latiss_grating=None, latiss_linear_stage=None, science=True, guide=False, wfs=False) method of lsst.ts.standardscripts.auxtel.latiss.LATISS instance\n",
      "    Encapsulates the action of setting up the spectrograph and taking\n",
      "    images.\n",
      "    \n",
      "    Setting up the spectrograph and taking images cannot be done\n",
      "    concurrently. One needs first to setup the spectrograph then,\n",
      "    request images.\n",
      "    \n",
      "    Parameters\n",
      "    ----------\n",
      "    exptime : `float`\n",
      "        The exposure time for the image, in seconds.\n",
      "    shutter : `bool`\n",
      "        Should activate the shutter? (False for bias and dark)\n",
      "    image_seq_name : `str`\n",
      "        A string to identify the image.\n",
      "    latiss_filter : `None` or `int` or `str`\n",
      "        Filter id or name. If None, ignore setting filter.\n",
      "    latiss_grating : `None` or `int` or `str`\n",
      "        Grating id or name.  If None, ignore setting grating.\n",
      "    latiss_linear_stage : `None` or `float`\n",
      "        Linear stage position.  If None, ignore setting linear stage.\n",
      "    science : `bool`\n",
      "        Mark image as science (default=True)?\n",
      "    guide : `bool`\n",
      "        Mark image as guide (default=False)?\n",
      "    wfs : `bool`\n",
      "        Mark image as wfs (default=False)?\n",
      "    \n",
      "    Returns\n",
      "    -------\n",
      "    endReadout : `SALPY_ATCamera.ATCamera_logevent_endReadoutC`\n",
      "\n"
     ]
    }
   ],
   "source": [
    "help(latiss.take_image)"
   ]
  },
  {
   "cell_type": "code",
   "execution_count": 10,
   "metadata": {},
   "outputs": [
    {
     "name": "stdout",
     "output_type": "stream",
     "text": [
      "Help on method setup_atspec in module lsst.ts.standardscripts.auxtel.latiss:\n",
      "\n",
      "setup_atspec(latiss_filter=None, latiss_grating=None, latiss_linear_stage=None) method of lsst.ts.standardscripts.auxtel.latiss.LATISS instance\n",
      "    Encapsulates commands to setup spectrograph.\n",
      "    \n",
      "    Parameters\n",
      "    ----------\n",
      "    latiss_filter : `None` or `int` or `str`\n",
      "        Filter id or name. If None, ignore setting filter.\n",
      "    latiss_grating : `None` or `int` or `str`\n",
      "        Grating id or name.  If None, ignore setting grating.\n",
      "    latiss_linear_stage : `None` or `float`\n",
      "        Linear stage position.  If None, ignore setting linear stage.\n",
      "\n"
     ]
    }
   ],
   "source": [
    "help(latiss.setup_atspec)"
   ]
  },
  {
   "cell_type": "code",
   "execution_count": 11,
   "metadata": {},
   "outputs": [
    {
     "name": "stdout",
     "output_type": "stream",
     "text": [
      "Help on method expose in module lsst.ts.standardscripts.auxtel.latiss:\n",
      "\n",
      "expose(exp_time, shutter, image_seq_name, science=True, guide=False, wfs=False) method of lsst.ts.standardscripts.auxtel.latiss.LATISS instance\n",
      "    Encapsulates the take image command.\n",
      "    \n",
      "    This basically consists of configuring and sending a takeImages\n",
      "    command to the camera and waiting for an endReadout event.\n",
      "    \n",
      "    Parameters\n",
      "    ----------\n",
      "    exp_time : `float`\n",
      "        The exposure time for the image, in seconds.\n",
      "    shutter : `bool`\n",
      "        Should activate the shutter? (False for bias and dark)\n",
      "    image_seq_name : `str`\n",
      "        A string to identify the image.\n",
      "    science : `bool`\n",
      "        Mark image as science (default=True)?\n",
      "    guide : `bool`\n",
      "        Mark image as guide (default=False)?\n",
      "    wfs : `bool`\n",
      "        Mark image as wfs (default=False)?\n",
      "    \n",
      "    Returns\n",
      "    -------\n",
      "    endReadout : `SALPY_ATCamera.ATCamera_logevent_endReadoutC`\n",
      "\n"
     ]
    }
   ],
   "source": [
    "help(latiss.expose)"
   ]
  },
  {
   "cell_type": "markdown",
   "metadata": {},
   "source": [
    "So, in order to take a series of 11 bias the user need only do. "
   ]
  },
  {
   "cell_type": "code",
   "execution_count": null,
   "metadata": {},
   "outputs": [],
   "source": [
    "await latiss.take_bias(nbias=11)"
   ]
  },
  {
   "cell_type": "markdown",
   "metadata": {},
   "source": [
    "Or, in order to take an exposure in a specific filter, grating and linear stage position."
   ]
  },
  {
   "cell_type": "code",
   "execution_count": null,
   "metadata": {},
   "outputs": [],
   "source": [
    "await latiss.take_image(exptime=10., \n",
    "                        shutter=True, \n",
    "                        image_seq_name=\"Test Image\", \n",
    "                        latiss_filter=1, \n",
    "                        latiss_grating=0, \n",
    "                        latiss_linear_stage=100)"
   ]
  }
 ],
 "metadata": {
  "kernelspec": {
   "display_name": "Python 3",
   "language": "python",
   "name": "python3"
  },
  "language_info": {
   "codemirror_mode": {
    "name": "ipython",
    "version": 3
   },
   "file_extension": ".py",
   "mimetype": "text/x-python",
   "name": "python",
   "nbconvert_exporter": "python",
   "pygments_lexer": "ipython3",
   "version": "3.6.6"
  }
 },
 "nbformat": 4,
 "nbformat_minor": 2
}
