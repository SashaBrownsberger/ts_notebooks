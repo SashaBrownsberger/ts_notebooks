{
 "cells": [
  {
   "cell_type": "markdown",
   "metadata": {},
   "source": [
    "# Synchronous Interlock CCW/Rotator Integration Test"
   ]
  },
  {
   "cell_type": "markdown",
   "metadata": {},
   "source": [
    "This notebook performs a synchronous motion interlock scenario integration test between the Camera Cable Wrap (CCW) and the Rotator with the Camera Cable Wrap tracking the Rotator. It includes enough boilerplate to allow the test to run at any time by getting current time information from the pointing and computing appropriate coordinates to slew."
   ]
  },
  {
   "cell_type": "code",
   "execution_count": null,
   "metadata": {},
   "outputs": [],
   "source": [
    "import logging\n",
    "import yaml\n",
    "\n",
    "import numpy as np\n",
    "from matplotlib import pyplot as plt\n",
    "import astropy.units as u\n",
    "from astropy.time import Time\n",
    "from astropy.coordinates import AltAz, ICRS, EarthLocation, Angle, FK5\n",
    "import asyncio\n",
    "from lsst.ts import salobj\n",
    "from lsst.ts.idl.enums import ATPtg\n",
    "\n",
    "from astropy.utils import iers\n",
    "iers.conf.auto_download = False"
   ]
  },
  {
   "cell_type": "code",
   "execution_count": null,
   "metadata": {},
   "outputs": [],
   "source": [
    "test_message = \"Interlock Rotator_CCW Integration Test\""
   ]
  },
  {
   "cell_type": "code",
   "execution_count": null,
   "metadata": {},
   "outputs": [],
   "source": [
    "d = salobj.Domain()"
   ]
  },
  {
   "cell_type": "code",
   "execution_count": null,
   "metadata": {},
   "outputs": [],
   "source": [
    "script = salobj.Controller(\"Script\", index=1)\n",
    "rot = salobj.Remote(d, \"Rotator\")\n",
    "mtptg = salobj.Remote(d, \"MTPtg\")"
   ]
  },
  {
   "cell_type": "code",
   "execution_count": null,
   "metadata": {},
   "outputs": [],
   "source": [
    "await asyncio.gather(rot.start_task,\n",
    "                     mtptg.start_task,\n",
    "                     script.start_task)"
   ]
  },
  {
   "cell_type": "code",
   "execution_count": null,
   "metadata": {},
   "outputs": [],
   "source": [
    "await asyncio.sleep(1.)\n",
    "await salobj.set_summary_state(mtptg, salobj.State.ENABLED)\n",
    "await salobj.set_summary_state(rot, salobj.State.ENABLED)"
   ]
  },
  {
   "cell_type": "markdown",
   "metadata": {},
   "source": [
    "# Move to 0 deg Starting Position"
   ]
  },
  {
   "cell_type": "code",
   "execution_count": null,
   "metadata": {},
   "outputs": [],
   "source": [
    "await asyncio.sleep(0.1)\n",
    "\n",
    "print(\"Move to 0.0 deg for starting position\")\n",
    "\n",
    "await rot.cmd_positionSet.set_start(angle=0.0,timeout=10.)\n",
    "\n",
    "await rot.cmd_move.start(timeout=30.)\n",
    "\n",
    "tel = rot.tel_Application.get()\n",
    "cpos = tel.Position\n",
    "print(cpos)\n",
    "\n",
    "while cpos > 0.01:\n",
    "    tel = rot.tel_Application.get()\n",
    "    cpos = tel.Position\n",
    "\n",
    "print(\"Rotator is at 0 deg starting position\")"
   ]
  },
  {
   "cell_type": "markdown",
   "metadata": {},
   "source": [
    "# Set Low Velocity and Move Through Positive Interlock"
   ]
  },
  {
   "cell_type": "raw",
   "metadata": {},
   "source": [
    "#The velocitySet command gets accepted but the moveConstantVelocity command gets error.\n",
    "#For now we will just use the positionSet and move commands\n",
    "\n",
    "rot.cmd_velocitySet.set(\n",
    "    velocity=0.02,\n",
    "    moveDuration=115.0\n",
    ")\n",
    "\n",
    "await asyncio.sleep(0.1)\n",
    "\n",
    "await rot.cmd_moveConstantVelocity.start(timeout=30.)"
   ]
  },
  {
   "cell_type": "code",
   "execution_count": null,
   "metadata": {},
   "outputs": [],
   "source": [
    "await asyncio.sleep(1.)\n",
    "\n",
    "print(\"Move to 2.3 deg position\")\n",
    "\n",
    "rot.evt_controllerState.flush()\n",
    "\n",
    "controllerState = await rot.evt_controllerState.aget()\n",
    "enabledSubstate = controllerState.enabledSubstate\n",
    "print(\"enabledSubstate = \" + str(enabledSubstate))\n",
    "\n",
    "while not enabledSubstate == 0:\n",
    "    #rot.evt_controllerState.flush()\n",
    "    controllerState = rot.evt_controllerState.get()\n",
    "    enabledSubstate = controllerState.enabledSubstate\n",
    "    #print(enabledSubstate)\n",
    "\n",
    "await rot.cmd_positionSet.set_start(angle=2.3,timeout=10.)\n",
    "\n",
    "await rot.cmd_move.start(timeout=30.)\n",
    "\n",
    "tel = rot.tel_Application.get()\n",
    "cpos = tel.Position\n",
    "print(cpos)\n",
    "\n",
    "while cpos != 2.3:\n",
    "    tel = rot.tel_Application.get()\n",
    "    cpos = tel.Position\n",
    "\n",
    "print(\"Rotator is at 2.3 deg position\")"
   ]
  },
  {
   "cell_type": "markdown",
   "metadata": {},
   "source": [
    "# Move to Zero"
   ]
  },
  {
   "cell_type": "code",
   "execution_count": null,
   "metadata": {},
   "outputs": [],
   "source": [
    "await asyncio.sleep(1.)\n",
    "\n",
    "print(\"Move to 0.0 deg\")\n",
    "\n",
    "rot.evt_controllerState.flush()\n",
    "\n",
    "controllerState = await rot.evt_controllerState.aget()\n",
    "enabledSubstate = controllerState.enabledSubstate\n",
    "print(\"enabledSubstate = \" + str(enabledSubstate))\n",
    "\n",
    "while enabledSubstate != 0:\n",
    "    #rot.evt_controllerState.flush()\n",
    "    controllerState = rot.evt_controllerState.get()\n",
    "    enabledSubstate = controllerState.enabledSubstate\n",
    "    #print(enabledSubstate)\n",
    "\n",
    "await rot.cmd_positionSet.set_start(angle=0.0)\n",
    "\n",
    "await rot.cmd_move.start(timeout=30.)\n",
    "\n",
    "tel = rot.tel_Application.get()\n",
    "cpos = tel.Position\n",
    "\n",
    "while cpos > 0.01:\n",
    "    tel = rot.tel_Application.get()\n",
    "    cpos = tel.Position\n",
    "\n",
    "print(\"Rotator is at 0 deg starting position\")"
   ]
  },
  {
   "cell_type": "markdown",
   "metadata": {},
   "source": [
    "# Set Low Velocity and Move Through Negative Interlock"
   ]
  },
  {
   "cell_type": "raw",
   "metadata": {},
   "source": [
    "#The velocitySet command gets accepted but the moveConstantVelocity command gets error.\n",
    "#For now we will just use the positionSet and move commands\n",
    "\n",
    "await rot.cmd_velocitySet.set_start(velocity=-0.02,moveDuration=115.)\n",
    "\n",
    "await asyncio.sleep(0.1)\n",
    "\n",
    "await rot.cmd_moveConstantVelocity.start(timeout=30.)"
   ]
  },
  {
   "cell_type": "code",
   "execution_count": null,
   "metadata": {},
   "outputs": [],
   "source": [
    "await asyncio.sleep(1.)\n",
    "\n",
    "print(\"Move to -2.3 deg position\")\n",
    "\n",
    "rot.evt_controllerState.flush()\n",
    "\n",
    "controllerState = await rot.evt_controllerState.aget()\n",
    "enabledSubstate = controllerState.enabledSubstate\n",
    "print(\"enabledSubstate = \" + str(enabledSubstate))\n",
    "\n",
    "while not enabledSubstate == 0:\n",
    "    #rot.evt_controllerState.flush()\n",
    "    controllerState = rot.evt_controllerState.get()\n",
    "    enabledSubstate = controllerState.enabledSubstate\n",
    "    #print(enabledSubstate)\n",
    "\n",
    "await rot.cmd_positionSet.set_start(angle=-2.3,timeout=10.)\n",
    "\n",
    "await rot.cmd_move.start(timeout=30.)\n",
    "\n",
    "tel = rot.tel_Application.get()\n",
    "cpos = tel.Position\n",
    "\n",
    "while cpos != -2.3:\n",
    "    tel = rot.tel_Application.get()\n",
    "    cpos = tel.Position\n",
    "\n",
    "print(\"Rotator is at -2.3 deg position\")"
   ]
  },
  {
   "cell_type": "markdown",
   "metadata": {},
   "source": [
    "# Move to Zero"
   ]
  },
  {
   "cell_type": "code",
   "execution_count": null,
   "metadata": {},
   "outputs": [],
   "source": [
    "await asyncio.sleep(1.)\n",
    "\n",
    "print(\"Move to 0.0 deg\")\n",
    "\n",
    "rot.evt_controllerState.flush()\n",
    "\n",
    "controllerState = await rot.evt_controllerState.aget()\n",
    "enabledSubstate = controllerState.enabledSubstate\n",
    "print(\"enabledSubstate = \" + str(enabledSubstate))\n",
    "\n",
    "while not enabledSubstate == 0:\n",
    "    #rot.evt_controllerState.flush()\n",
    "    controllerState = rot.evt_controllerState.get()\n",
    "    enabledSubstate = controllerState.enabledSubstate\n",
    "    #print(enabledSubstate)\n",
    "\n",
    "await rot.cmd_positionSet.set_start(angle=0.0)\n",
    "\n",
    "await rot.cmd_move.start(timeout=30.)\n",
    "\n",
    "tel = rot.tel_Application.get()\n",
    "cpos = tel.Position\n",
    "\n",
    "while cpos > 0.01:\n",
    "    tel = rot.tel_Application.get()\n",
    "    cpos = tel.Position\n",
    "\n",
    "print(\"Test complete\")\n",
    "\n",
    "script.evt_logMessage.set_put(level=logging.INFO+1,\n",
    "                              message=f\"END - {test_message}\")"
   ]
  },
  {
   "cell_type": "code",
   "execution_count": null,
   "metadata": {},
   "outputs": [],
   "source": []
  }
 ],
 "metadata": {
  "kernelspec": {
   "display_name": "Python 3",
   "language": "python",
   "name": "python3"
  },
  "language_info": {
   "codemirror_mode": {
    "name": "ipython",
    "version": 3
   },
   "file_extension": ".py",
   "mimetype": "text/x-python",
   "name": "python",
   "nbconvert_exporter": "python",
   "pygments_lexer": "ipython3",
   "version": "3.7.2"
  }
 },
 "nbformat": 4,
 "nbformat_minor": 4
}
