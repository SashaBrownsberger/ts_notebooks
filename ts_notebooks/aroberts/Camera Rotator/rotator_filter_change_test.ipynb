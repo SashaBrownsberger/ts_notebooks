{
 "cells": [
  {
   "cell_type": "markdown",
   "metadata": {},
   "source": [
    "# Filter Change MTPtg/Rotator integration test"
   ]
  },
  {
   "cell_type": "markdown",
   "metadata": {},
   "source": [
    "This notebook performs a filter change scenario integration test between the Maint Telescope pointing component (MTPtg) and the Rotator with the Camera Cable Wrap tracking the Rotator. It includes enough boilerplate to allow the test to run at any time by getting current time information from the pointing and computing appropriate coordinates to slew. \n",
    "\n",
    "At the end, there is a section showing how to recover the Rotator CSC from `FAULT` state. This last part can be ignored as needed. "
   ]
  },
  {
   "cell_type": "code",
   "execution_count": 57,
   "metadata": {},
   "outputs": [],
   "source": [
    "import logging\n",
    "import yaml\n",
    "\n",
    "import numpy as np\n",
    "from matplotlib import pyplot as plt\n",
    "import astropy.units as u\n",
    "from astropy.time import Time\n",
    "from astropy.coordinates import AltAz, ICRS, EarthLocation, Angle, FK5\n",
    "import asyncio\n",
    "from lsst.ts import salobj\n",
    "from lsst.ts.idl.enums import ATPtg\n",
    "\n",
    "from astropy.utils import iers\n",
    "iers.conf.auto_download = False"
   ]
  },
  {
   "cell_type": "code",
   "execution_count": 58,
   "metadata": {},
   "outputs": [],
   "source": [
    "test_message = \"Filter Change MTPtg/Rotator/CCW Integration Test\""
   ]
  },
  {
   "cell_type": "code",
   "execution_count": 59,
   "metadata": {},
   "outputs": [],
   "source": [
    "d = salobj.Domain()"
   ]
  },
  {
   "cell_type": "code",
   "execution_count": 60,
   "metadata": {},
   "outputs": [],
   "source": [
    "script = salobj.Controller(\"Script\", index=1)\n",
    "rot = salobj.Remote(d, \"Rotator\")\n",
    "mtptg = salobj.Remote(d, \"MTPtg\")"
   ]
  },
  {
   "cell_type": "code",
   "execution_count": 61,
   "metadata": {},
   "outputs": [
    {
     "name": "stderr",
     "output_type": "stream",
     "text": [
      "RemoteTelemetry(MTPtg, 0, timeAndDate) falling behind; read 100 messages\n",
      "RemoteTelemetry(MTPtg, 0, timeAndDate) falling behind; read 100 messages\n",
      "RemoteTelemetry(MTPtg, 0, timeAndDate) falling behind; read 100 messages\n",
      "RemoteTelemetry(MTPtg, 0, timeAndDate) falling behind; read 100 messages\n",
      "RemoteTelemetry(Rotator, 0, Application) falling behind; read 100 messages\n",
      "RemoteTelemetry(Rotator, 0, Application) falling behind; read 100 messages\n",
      "RemoteTelemetry(Rotator, 0, Application) falling behind; read 100 messages\n",
      "RemoteTelemetry(Rotator, 0, Application) falling behind; read 100 messages\n",
      "RemoteTelemetry(Rotator, 0, Motors) falling behind; read 100 messages\n",
      "RemoteTelemetry(Rotator, 0, Motors) falling behind; read 100 messages\n",
      "RemoteTelemetry(Rotator, 0, Motors) falling behind; read 100 messages\n",
      "RemoteTelemetry(Rotator, 0, Motors) falling behind; read 100 messages\n"
     ]
    },
    {
     "data": {
      "text/plain": [
       "[None, None, None]"
      ]
     },
     "execution_count": 61,
     "metadata": {},
     "output_type": "execute_result"
    },
    {
     "name": "stderr",
     "output_type": "stream",
     "text": [
      "RemoteTelemetry(Rotator, 0, Electrical) falling behind; read 100 messages\n",
      "RemoteTelemetry(Rotator, 0, Electrical) falling behind; read 100 messages\n",
      "RemoteTelemetry(MTPtg, 0, skyEnvironment) falling behind; read 11 messages\n",
      "RemoteTelemetry(Rotator, 0, Electrical) falling behind; read 100 messages\n",
      "RemoteTelemetry(MTPtg, 0, skyEnvironment) falling behind; read 11 messages\n",
      "RemoteTelemetry(Rotator, 0, Electrical) falling behind; read 100 messages\n",
      "RemoteTelemetry(MTPtg, 0, skyEnvironment) falling behind; read 11 messages\n",
      "RemoteTelemetry(MTPtg, 0, skyEnvironment) falling behind; read 11 messages\n",
      "RemoteTelemetry(Rotator, 0, Motors) falling behind; read 15 messages\n",
      "RemoteTelemetry(MTPtg, 0, mountStatus) falling behind; read 100 messages\n",
      "RemoteTelemetry(MTPtg, 0, mountStatus) falling behind; read 100 messages\n",
      "RemoteTelemetry(MTPtg, 0, mountStatus) falling behind; read 100 messages\n",
      "RemoteTelemetry(MTPtg, 0, mountStatus) falling behind; read 100 messages\n",
      "RemoteTelemetry(Rotator, 0, Electrical) falling behind; read 21 messages\n"
     ]
    }
   ],
   "source": [
    "await asyncio.gather(rot.start_task,\n",
    "                     mtptg.start_task,\n",
    "                     script.start_task)"
   ]
  },
  {
   "cell_type": "code",
   "execution_count": 83,
   "metadata": {},
   "outputs": [
    {
     "name": "stderr",
     "output_type": "stream",
     "text": [
      "RemoteTelemetry(MTPtg, 0, timeAndDate) falling behind; read 96 messages\n",
      "RemoteTelemetry(MTPtg, 0, timeAndDate) falling behind; read 97 messages\n",
      "RemoteTelemetry(MTPtg, 0, timeAndDate) falling behind; read 97 messages\n",
      "RemoteTelemetry(MTPtg, 0, timeAndDate) falling behind; read 97 messages\n",
      "RemoteTelemetry(MTPtg, 0, timeAndDate) falling behind; read 98 messages\n",
      "RemoteTelemetry(Rotator, 0, Application) falling behind; read 100 messages\n",
      "RemoteTelemetry(Rotator, 0, Application) falling behind; read 100 messages\n",
      "RemoteTelemetry(Rotator, 0, Application) falling behind; read 100 messages\n",
      "RemoteTelemetry(Rotator, 0, Application) falling behind; read 100 messages\n",
      "RemoteTelemetry(Rotator, 0, Application) falling behind; read 100 messages\n",
      "RemoteTelemetry(Rotator, 0, Motors) falling behind; read 100 messages\n",
      "RemoteTelemetry(Rotator, 0, Motors) falling behind; read 100 messages\n",
      "RemoteTelemetry(Rotator, 0, Motors) falling behind; read 100 messages\n",
      "RemoteTelemetry(Rotator, 0, Motors) falling behind; read 100 messages\n",
      "RemoteTelemetry(Rotator, 0, Motors) falling behind; read 100 messages\n",
      "RemoteTelemetry(Rotator, 0, Electrical) falling behind; read 100 messages\n",
      "RemoteTelemetry(Rotator, 0, Electrical) falling behind; read 100 messages\n",
      "RemoteTelemetry(Rotator, 0, Electrical) falling behind; read 100 messages\n",
      "RemoteTelemetry(Rotator, 0, Electrical) falling behind; read 100 messages\n",
      "RemoteTelemetry(Rotator, 0, Electrical) falling behind; read 100 messages\n",
      "RemoteTelemetry(MTPtg, 0, mountStatus) falling behind; read 100 messages\n",
      "RemoteTelemetry(MTPtg, 0, mountStatus) falling behind; read 100 messages\n",
      "RemoteTelemetry(MTPtg, 0, mountStatus) falling behind; read 100 messages\n",
      "RemoteTelemetry(MTPtg, 0, mountStatus) falling behind; read 100 messages\n",
      "RemoteTelemetry(MTPtg, 0, mountStatus) falling behind; read 100 messages\n",
      "RemoteTelemetry(MTPtg, 0, guidingAndOffsets) falling behind; read 100 messages\n",
      "RemoteEvent(Rotator, 0, heartbeat) falling behind; read 22 messages\n",
      "RemoteTelemetry(MTPtg, 0, guidingAndOffsets) falling behind; read 100 messages\n",
      "RemoteTelemetry(MTPtg, 0, guidingAndOffsets) falling behind; read 100 messages\n",
      "RemoteTelemetry(MTPtg, 0, guidingAndOffsets) falling behind; read 100 messages\n",
      "RemoteTelemetry(MTPtg, 0, guidingAndOffsets) falling behind; read 100 messages\n",
      "RemoteEvent(Rotator, 0, heartbeat) falling behind; read 22 messages\n",
      "RemoteEvent(Rotator, 0, heartbeat) falling behind; read 22 messages\n",
      "RemoteEvent(Rotator, 0, heartbeat) falling behind; read 22 messages\n",
      "RemoteEvent(Rotator, 0, heartbeat) falling behind; read 22 messages\n",
      "RemoteTelemetry(MTPtg, 0, currentTargetStatus) falling behind; read 100 messages\n",
      "RemoteTelemetry(MTPtg, 0, currentTargetStatus) falling behind; read 100 messages\n",
      "RemoteTelemetry(MTPtg, 0, currentTargetStatus) falling behind; read 100 messages\n",
      "RemoteTelemetry(MTPtg, 0, currentTargetStatus) falling behind; read 100 messages\n",
      "RemoteTelemetry(MTPtg, 0, currentTargetStatus) falling behind; read 100 messages\n"
     ]
    },
    {
     "data": {
      "text/plain": [
       "[<State.STANDBY: 5>, <State.DISABLED: 1>, <State.ENABLED: 2>]"
      ]
     },
     "execution_count": 83,
     "metadata": {},
     "output_type": "execute_result"
    }
   ],
   "source": [
    "await asyncio.sleep(1.)\n",
    "await salobj.set_summary_state(mtptg, salobj.State.ENABLED)\n",
    "await salobj.set_summary_state(rot, salobj.State.ENABLED)"
   ]
  },
  {
   "cell_type": "code",
   "execution_count": 71,
   "metadata": {},
   "outputs": [],
   "source": [
    "location = EarthLocation.from_geodetic(lon=-70.747698*u.deg,\n",
    "                                       lat=-30.244728*u.deg,\n",
    "                                       height=2663.0*u.m)"
   ]
  },
  {
   "cell_type": "markdown",
   "metadata": {},
   "source": [
    "# Setup Pointing Target"
   ]
  },
  {
   "cell_type": "code",
   "execution_count": 77,
   "metadata": {},
   "outputs": [
    {
     "name": "stderr",
     "output_type": "stream",
     "text": [
      "RemoteTelemetry(MTPtg, 0, currentTargetStatus) falling behind; read 71 messages\n",
      "RemoteTelemetry(MTPtg, 0, currentTargetStatus) falling behind; read 71 messages\n",
      "RemoteTelemetry(MTPtg, 0, currentTargetStatus) falling behind; read 71 messages\n",
      "RemoteTelemetry(MTPtg, 0, currentTargetStatus) falling behind; read 71 messages\n",
      "RemoteTelemetry(MTPtg, 0, currentTargetStatus) falling behind; read 72 messages\n",
      "RemoteTelemetry(Rotator, 0, Application) falling behind; read 100 messages\n",
      "RemoteTelemetry(Rotator, 0, Application) falling behind; read 100 messages\n",
      "RemoteTelemetry(Rotator, 0, Application) falling behind; read 100 messages\n",
      "RemoteTelemetry(Rotator, 0, Application) falling behind; read 100 messages\n",
      "RemoteTelemetry(Rotator, 0, Application) falling behind; read 100 messages\n",
      "RemoteTelemetry(MTPtg, 0, timeAndDate) falling behind; read 74 messages\n",
      "RemoteTelemetry(MTPtg, 0, timeAndDate) falling behind; read 74 messages\n",
      "RemoteTelemetry(MTPtg, 0, timeAndDate) falling behind; read 74 messages\n",
      "RemoteTelemetry(MTPtg, 0, timeAndDate) falling behind; read 74 messages\n",
      "RemoteTelemetry(MTPtg, 0, timeAndDate) falling behind; read 75 messages\n",
      "RemoteTelemetry(Rotator, 0, Motors) falling behind; read 100 messages\n",
      "RemoteTelemetry(Rotator, 0, Motors) falling behind; read 100 messages\n",
      "RemoteTelemetry(Rotator, 0, Motors) falling behind; read 100 messages\n",
      "RemoteTelemetry(Rotator, 0, Motors) falling behind; read 100 messages\n",
      "RemoteTelemetry(Rotator, 0, Motors) falling behind; read 100 messages\n",
      "RemoteTelemetry(MTPtg, 0, mountStatus) falling behind; read 78 messages\n",
      "RemoteTelemetry(MTPtg, 0, mountStatus) falling behind; read 78 messages\n",
      "RemoteTelemetry(MTPtg, 0, mountStatus) falling behind; read 78 messages\n",
      "RemoteTelemetry(MTPtg, 0, mountStatus) falling behind; read 78 messages\n",
      "RemoteTelemetry(Rotator, 0, Electrical) falling behind; read 100 messages\n",
      "RemoteTelemetry(Rotator, 0, Electrical) falling behind; read 100 messages\n",
      "RemoteTelemetry(Rotator, 0, Electrical) falling behind; read 100 messages\n",
      "RemoteTelemetry(Rotator, 0, Electrical) falling behind; read 100 messages\n",
      "RemoteTelemetry(Rotator, 0, Electrical) falling behind; read 100 messages\n",
      "RemoteTelemetry(MTPtg, 0, guidingAndOffsets) falling behind; read 81 messages\n",
      "RemoteTelemetry(MTPtg, 0, guidingAndOffsets) falling behind; read 81 messages\n",
      "RemoteTelemetry(MTPtg, 0, guidingAndOffsets) falling behind; read 81 messages\n",
      "RemoteTelemetry(MTPtg, 0, guidingAndOffsets) falling behind; read 82 messages\n",
      "RemoteTelemetry(MTPtg, 0, mountStatus) falling behind; read 82 messages\n",
      "RemoteTelemetry(MTPtg, 0, guidingAndOffsets) falling behind; read 83 messages\n"
     ]
    },
    {
     "name": "stdout",
     "output_type": "stream",
     "text": [
      "=======================\n",
      "LST: 0.6122777777777778 hourangle\n",
      "delta: 10.0 arcmin\n",
      "RA: 0.6233888888888889 hourangle\n",
      "=======================\n",
      "Dec: -36.244728 deg\n",
      "95.90467515830525\n"
     ]
    },
    {
     "name": "stderr",
     "output_type": "stream",
     "text": [
      "RemoteEvent(Rotator, 0, heartbeat) falling behind; read 16 messages\n",
      "RemoteEvent(Rotator, 0, heartbeat) falling behind; read 16 messages\n",
      "RemoteEvent(Rotator, 0, heartbeat) falling behind; read 16 messages\n",
      "RemoteEvent(Rotator, 0, heartbeat) falling behind; read 16 messages\n",
      "RemoteEvent(Rotator, 0, heartbeat) falling behind; read 16 messages\n"
     ]
    }
   ],
   "source": [
    "# Here is a small trick to get the ra before transit. Get `timeAndDate` from the pointing component, then use `RA = lst - delta`.\n",
    "\n",
    "time_data = await mtptg.tel_timeAndDate.next(flush=True, timeout=5.)\n",
    "\n",
    "lst = Angle(time_data.lst, unit=u.hour)\n",
    "delta = Angle(10., unit=u.arcminute)\n",
    "ra = lst + delta\n",
    "print(\"=======================\")\n",
    "print(f\"LST: {lst}\")\n",
    "print(f\"delta: {delta}\")\n",
    "print(f\"RA: {ra}\")\n",
    "print(\"=======================\")\n",
    "\n",
    "dec = location.lat - Angle(6., unit=u.deg)\n",
    "print(f\"Dec: {dec}\")\n",
    "\n",
    "target_name=\"Rotator test\"\n",
    "radec = ICRS(ra, dec)\n",
    "\n",
    "curr_time_atptg = Time(time_data.tai, format=\"mjd\", scale=\"tai\")\n",
    "coord_frame_altaz = AltAz(location=location, obstime=curr_time_atptg)\n",
    "alt_az = radec.transform_to(coord_frame_altaz)\n",
    "\n",
    "print(180.-alt_az.alt.deg)"
   ]
  },
  {
   "cell_type": "markdown",
   "metadata": {},
   "source": [
    "# Perform First Track"
   ]
  },
  {
   "cell_type": "code",
   "execution_count": 85,
   "metadata": {},
   "outputs": [
    {
     "name": "stderr",
     "output_type": "stream",
     "text": [
      "RemoteTelemetry(Rotator, 0, Application) falling behind; read 100 messages\n",
      "RemoteTelemetry(Rotator, 0, Application) falling behind; read 100 messages\n",
      "RemoteTelemetry(Rotator, 0, Application) falling behind; read 100 messages\n",
      "RemoteTelemetry(Rotator, 0, Application) falling behind; read 100 messages\n",
      "RemoteTelemetry(Rotator, 0, Motors) falling behind; read 100 messages\n",
      "RemoteTelemetry(MTPtg, 0, currentTargetStatus) falling behind; read 92 messages\n",
      "RemoteTelemetry(MTPtg, 0, currentTargetStatus) falling behind; read 92 messages\n",
      "RemoteTelemetry(MTPtg, 0, currentTargetStatus) falling behind; read 93 messages\n",
      "RemoteTelemetry(MTPtg, 0, currentTargetStatus) falling behind; read 93 messages\n",
      "RemoteTelemetry(MTPtg, 0, currentTargetStatus) falling behind; read 94 messages\n",
      "RemoteTelemetry(Rotator, 0, Electrical) falling behind; read 100 messages\n",
      "RemoteTelemetry(Rotator, 0, Application) falling behind; read 100 messages\n",
      "RemoteTelemetry(Rotator, 0, Motors) falling behind; read 100 messages\n",
      "RemoteTelemetry(Rotator, 0, Motors) falling behind; read 100 messages\n",
      "RemoteTelemetry(Rotator, 0, Motors) falling behind; read 100 messages\n",
      "RemoteTelemetry(Rotator, 0, Motors) falling behind; read 100 messages\n",
      "RemoteTelemetry(MTPtg, 0, timeAndDate) falling behind; read 96 messages\n",
      "RemoteTelemetry(Rotator, 0, Electrical) falling behind; read 100 messages\n",
      "RemoteTelemetry(Rotator, 0, Electrical) falling behind; read 100 messages\n",
      "RemoteTelemetry(Rotator, 0, Electrical) falling behind; read 100 messages\n",
      "RemoteTelemetry(Rotator, 0, Electrical) falling behind; read 100 messages\n",
      "RemoteTelemetry(MTPtg, 0, timeAndDate) falling behind; read 98 messages\n",
      "RemoteTelemetry(MTPtg, 0, timeAndDate) falling behind; read 98 messages\n",
      "RemoteTelemetry(MTPtg, 0, timeAndDate) falling behind; read 99 messages\n",
      "RemoteTelemetry(MTPtg, 0, timeAndDate) falling behind; read 99 messages\n",
      "RemoteTelemetry(MTPtg, 0, mountStatus) falling behind; read 100 messages\n",
      "RemoteEvent(Rotator, 0, heartbeat) falling behind; read 20 messages\n",
      "RemoteEvent(Rotator, 0, heartbeat) falling behind; read 20 messages\n",
      "RemoteEvent(Rotator, 0, heartbeat) falling behind; read 20 messages\n",
      "RemoteEvent(Rotator, 0, heartbeat) falling behind; read 20 messages\n",
      "RemoteTelemetry(MTPtg, 0, mountStatus) falling behind; read 100 messages\n",
      "RemoteTelemetry(MTPtg, 0, mountStatus) falling behind; read 100 messages\n",
      "RemoteTelemetry(MTPtg, 0, mountStatus) falling behind; read 100 messages\n",
      "RemoteTelemetry(MTPtg, 0, mountStatus) falling behind; read 100 messages\n",
      "RemoteTelemetry(MTPtg, 0, guidingAndOffsets) falling behind; read 100 messages\n",
      "RemoteTelemetry(MTPtg, 0, guidingAndOffsets) falling behind; read 100 messages\n",
      "RemoteTelemetry(MTPtg, 0, guidingAndOffsets) falling behind; read 100 messages\n",
      "RemoteTelemetry(MTPtg, 0, guidingAndOffsets) falling behind; read 100 messages\n",
      "RemoteTelemetry(MTPtg, 0, guidingAndOffsets) falling behind; read 100 messages\n",
      "RemoteEvent(Rotator, 0, heartbeat) falling behind; read 21 messages\n"
     ]
    },
    {
     "name": "stdout",
     "output_type": "stream",
     "text": [
      "Waiting 10s\n",
      "Stop track\n"
     ]
    },
    {
     "data": {
      "text/plain": [
       "<lsst.ts.salobj.ddsutil.MTPtg_ackcmd_f4c345cf at 0x7f8740d869e8>"
      ]
     },
     "execution_count": 85,
     "metadata": {},
     "output_type": "execute_result"
    }
   ],
   "source": [
    "script.evt_logMessage.set_put(level=logging.INFO+1,\n",
    "                              message=f\"{test_message}:[START]\")\n",
    "\n",
    "try:\n",
    "    await rot.cmd_trackStart.start(timeout=30.)\n",
    "except salobj.AckError:\n",
    "    pass\n",
    "\n",
    "ack = await mtptg.cmd_raDecTarget.set_start(\n",
    "    targetName=target_name,\n",
    "    targetInstance=ATPtg.TargetInstances.CURRENT,\n",
    "    frame=ATPtg.CoordFrame.ICRS,\n",
    "    epoch=2000,  # should be ignored: no parallax or proper motion\n",
    "    equinox=2000,  # should be ignored for ICRS\n",
    "    ra=radec.ra.hour,\n",
    "    declination=radec.dec.deg,\n",
    "    parallax=0,\n",
    "    pmRA=0,\n",
    "    pmDec=0,\n",
    "    rv=0,\n",
    "    dRA=0,\n",
    "    dDec=0,\n",
    "    rotPA=180.,\n",
    "    rotFrame=ATPtg.RotFrame.FIXED,\n",
    "    rotMode=ATPtg.RotMode.FIELD,\n",
    "    timeout=10\n",
    ")\n",
    "\n",
    "print(\"Waiting 10s\")\n",
    "\n",
    "await asyncio.sleep(10.)\n",
    "\n",
    "print(\"Stop track\")\n",
    "\n",
    "await rot.cmd_stop.start(timeout=30.)\n",
    "\n",
    "await asyncio.sleep(0.1)\n",
    "\n",
    "await mtptg.cmd_stopTracking.start(timeout=30.)"
   ]
  },
  {
   "cell_type": "markdown",
   "metadata": {},
   "source": [
    "# Perform Filter Change"
   ]
  },
  {
   "cell_type": "code",
   "execution_count": 66,
   "metadata": {},
   "outputs": [
    {
     "name": "stdout",
     "output_type": "stream",
     "text": [
      "Move to 0.0 deg for filter change\n",
      "Rotator in position and waiting 120s\n"
     ]
    }
   ],
   "source": [
    "print(\"Move to 0.0 deg for filter change\")\n",
    "\n",
    "await rot.cmd_positionSet.set_start(angle=0.0)\n",
    "\n",
    "await rot.cmd_move.start(timeout=30.)\n",
    "\n",
    "await rot.evt_inPosition.aget()\n",
    "\n",
    "print(\"Rotator in position and waiting 120s\")\n",
    "\n",
    "await asyncio.sleep(120.)"
   ]
  },
  {
   "cell_type": "markdown",
   "metadata": {},
   "source": [
    "# Perform Second Track"
   ]
  },
  {
   "cell_type": "code",
   "execution_count": 67,
   "metadata": {},
   "outputs": [
    {
     "name": "stdout",
     "output_type": "stream",
     "text": [
      "Start second track\n",
      "Waiting 10s\n",
      "Test complete\n"
     ]
    },
    {
     "data": {
      "text/plain": [
       "True"
      ]
     },
     "execution_count": 67,
     "metadata": {},
     "output_type": "execute_result"
    }
   ],
   "source": [
    "print(\"Start second track\")\n",
    "\n",
    "try:\n",
    "    await rot.cmd_trackStart.start(timeout=30.)\n",
    "except salobj.AckError:\n",
    "    pass\n",
    "\n",
    "ack = await mtptg.cmd_raDecTarget.set_start(\n",
    "    targetName=target_name,\n",
    "    targetInstance=ATPtg.TargetInstances.CURRENT,\n",
    "    frame=ATPtg.CoordFrame.ICRS,\n",
    "    epoch=2000,  # should be ignored: no parallax or proper motion\n",
    "    equinox=2000,  # should be ignored for ICRS\n",
    "    ra=radec.ra.hour,\n",
    "    declination=radec.dec.deg,\n",
    "    parallax=0,\n",
    "    pmRA=0,\n",
    "    pmDec=0,\n",
    "    rv=0,\n",
    "    dRA=0,\n",
    "    dDec=0,\n",
    "    rotPA=180.,\n",
    "    rotFrame=ATPtg.RotFrame.FIXED,\n",
    "    rotMode=ATPtg.RotMode.FIELD,\n",
    "    timeout=10\n",
    ")\n",
    "\n",
    "print(\"Waiting 10s\")\n",
    "\n",
    "await asyncio.sleep(10.)\n",
    "\n",
    "print(\"Test complete\")\n",
    "\n",
    "await rot.cmd_stop.start(timeout=30.)\n",
    "\n",
    "await asyncio.sleep(0.1)\n",
    "\n",
    "await mtptg.cmd_stopTracking.start(timeout=30.)\n",
    "\n",
    "script.evt_logMessage.set_put(level=logging.INFO+1,\n",
    "                              message=f\"{test_message}:[END]\")\n"
   ]
  },
  {
   "cell_type": "markdown",
   "metadata": {},
   "source": [
    "# Fault State Recovery"
   ]
  },
  {
   "cell_type": "code",
   "execution_count": 86,
   "metadata": {},
   "outputs": [
    {
     "name": "stderr",
     "output_type": "stream",
     "text": [
      "RemoteTelemetry(Rotator, 0, Application) falling behind; read 100 messages\n",
      "RemoteTelemetry(Rotator, 0, Application) falling behind; read 100 messages\n",
      "RemoteTelemetry(Rotator, 0, Application) falling behind; read 100 messages\n",
      "RemoteTelemetry(Rotator, 0, Application) falling behind; read 100 messages\n",
      "RemoteTelemetry(Rotator, 0, Application) falling behind; read 100 messages\n",
      "RemoteTelemetry(MTPtg, 0, currentTargetStatus) falling behind; read 100 messages\n",
      "RemoteTelemetry(MTPtg, 0, currentTargetStatus) falling behind; read 100 messages\n",
      "RemoteTelemetry(MTPtg, 0, currentTargetStatus) falling behind; read 100 messages\n",
      "RemoteTelemetry(MTPtg, 0, currentTargetStatus) falling behind; read 100 messages\n",
      "RemoteTelemetry(MTPtg, 0, currentTargetStatus) falling behind; read 100 messages\n",
      "RemoteTelemetry(Rotator, 0, Motors) falling behind; read 100 messages\n",
      "RemoteTelemetry(Rotator, 0, Motors) falling behind; read 100 messages\n",
      "RemoteTelemetry(Rotator, 0, Motors) falling behind; read 100 messages\n",
      "RemoteTelemetry(Rotator, 0, Motors) falling behind; read 100 messages\n",
      "RemoteTelemetry(MTPtg, 0, timeAndDate) falling behind; read 100 messages\n",
      "RemoteTelemetry(MTPtg, 0, timeAndDate) falling behind; read 100 messages\n",
      "RemoteTelemetry(MTPtg, 0, timeAndDate) falling behind; read 100 messages\n",
      "RemoteTelemetry(Rotator, 0, Electrical) falling behind; read 100 messages\n",
      "RemoteTelemetry(Rotator, 0, Electrical) falling behind; read 100 messages\n",
      "RemoteTelemetry(Rotator, 0, Electrical) falling behind; read 100 messages\n",
      "RemoteTelemetry(Rotator, 0, Electrical) falling behind; read 100 messages\n",
      "RemoteTelemetry(MTPtg, 0, skyEnvironment) falling behind; read 100 messages\n",
      "RemoteTelemetry(MTPtg, 0, skyEnvironment) falling behind; read 100 messages\n",
      "RemoteTelemetry(MTPtg, 0, skyEnvironment) falling behind; read 100 messages\n",
      "RemoteTelemetry(MTPtg, 0, timeAndDate) falling behind; read 100 messages\n",
      "RemoteTelemetry(Rotator, 0, Motors) falling behind; read 100 messages\n",
      "RemoteTelemetry(MTPtg, 0, timeAndDate) falling behind; read 100 messages\n",
      "RemoteTelemetry(MTPtg, 0, mountStatus) falling behind; read 100 messages\n",
      "RemoteTelemetry(MTPtg, 0, mountStatus) falling behind; read 100 messages\n",
      "RemoteTelemetry(MTPtg, 0, mountStatus) falling behind; read 100 messages\n",
      "RemoteTelemetry(MTPtg, 0, skyEnvironment) falling behind; read 100 messages\n",
      "RemoteTelemetry(Rotator, 0, Electrical) falling behind; read 100 messages\n",
      "RemoteTelemetry(MTPtg, 0, skyEnvironment) falling behind; read 100 messages\n",
      "RemoteTelemetry(MTPtg, 0, guidingAndOffsets) falling behind; read 100 messages\n",
      "RemoteTelemetry(MTPtg, 0, guidingAndOffsets) falling behind; read 100 messages\n",
      "RemoteTelemetry(MTPtg, 0, guidingAndOffsets) falling behind; read 100 messages\n",
      "RemoteTelemetry(MTPtg, 0, mountStatus) falling behind; read 100 messages\n",
      "RemoteTelemetry(MTPtg, 0, mountStatus) falling behind; read 100 messages\n",
      "RemoteTelemetry(MTPtg, 0, currentTimesToLimits) falling behind; read 100 messages\n",
      "RemoteTelemetry(MTPtg, 0, currentTimesToLimits) falling behind; read 100 messages\n",
      "RemoteTelemetry(MTPtg, 0, currentTimesToLimits) falling behind; read 100 messages\n",
      "RemoteTelemetry(MTPtg, 0, guidingAndOffsets) falling behind; read 100 messages\n",
      "RemoteTelemetry(MTPtg, 0, guidingAndOffsets) falling behind; read 100 messages\n",
      "RemoteEvent(Rotator, 0, heartbeat) falling behind; read 100 messages\n",
      "RemoteEvent(Rotator, 0, heartbeat) falling behind; read 100 messages\n",
      "RemoteEvent(Rotator, 0, heartbeat) falling behind; read 100 messages\n",
      "RemoteEvent(Rotator, 0, heartbeat) falling behind; read 100 messages\n",
      "RemoteTelemetry(MTPtg, 0, currentTimesToLimits) falling behind; read 100 messages\n",
      "RemoteTelemetry(MTPtg, 0, currentTimesToLimits) falling behind; read 100 messages\n",
      "RemoteEvent(MTPtg, 0, weatherDataApplied) falling behind; read 100 messages\n",
      "RemoteEvent(MTPtg, 0, weatherDataApplied) falling behind; read 100 messages\n",
      "RemoteEvent(MTPtg, 0, weatherDataApplied) falling behind; read 100 messages\n",
      "RemoteEvent(MTPtg, 0, weatherDataApplied) falling behind; read 100 messages\n",
      "RemoteEvent(Rotator, 0, heartbeat) falling behind; read 100 messages\n",
      "RemoteEvent(MTPtg, 0, weatherDataApplied) falling behind; read 100 messages\n"
     ]
    },
    {
     "data": {
      "text/plain": [
       "<lsst.ts.salobj.ddsutil.Rotator_ackcmd_ab645545 at 0x7f87407673c8>"
      ]
     },
     "execution_count": 86,
     "metadata": {},
     "output_type": "execute_result"
    }
   ],
   "source": [
    "await rot.cmd_clearError.start(timeout=10)"
   ]
  },
  {
   "cell_type": "code",
   "execution_count": 87,
   "metadata": {},
   "outputs": [
    {
     "name": "stderr",
     "output_type": "stream",
     "text": [
      "RemoteEvent(Rotator, 0, heartbeat) falling behind; read 16 messages\n",
      "RemoteEvent(Rotator, 0, heartbeat) falling behind; read 16 messages\n",
      "RemoteEvent(Rotator, 0, heartbeat) falling behind; read 16 messages\n",
      "RemoteEvent(Rotator, 0, heartbeat) falling behind; read 16 messages\n"
     ]
    },
    {
     "data": {
      "text/plain": [
       "[<State.OFFLINE: 4>, <State.STANDBY: 5>]"
      ]
     },
     "execution_count": 87,
     "metadata": {},
     "output_type": "execute_result"
    }
   ],
   "source": [
    "await asyncio.sleep(5)\n",
    "await salobj.set_summary_state(mtptg, salobj.State.STANDBY)\n",
    "await salobj.set_summary_state(rot, salobj.State.STANDBY)"
   ]
  },
  {
   "cell_type": "code",
   "execution_count": null,
   "metadata": {},
   "outputs": [],
   "source": []
  }
 ],
 "metadata": {
  "kernelspec": {
   "display_name": "Python 3",
   "language": "python",
   "name": "python3"
  },
  "language_info": {
   "codemirror_mode": {
    "name": "ipython",
    "version": 3
   },
   "file_extension": ".py",
   "mimetype": "text/x-python",
   "name": "python",
   "nbconvert_exporter": "python",
   "pygments_lexer": "ipython3",
   "version": "3.7.2"
  }
 },
 "nbformat": 4,
 "nbformat_minor": 4
}
