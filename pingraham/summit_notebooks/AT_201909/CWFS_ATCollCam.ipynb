{
 "cells": [
  {
   "cell_type": "markdown",
   "metadata": {},
   "source": [
    "### Notebook used to to measure collimation of the telescope using ATCollCam using the CWFS algorithm/package developed by Bo Xin.\n",
    "\n",
    "#### This requires that the parameter file for the CWFS algorithm be placed in the cwfs directory structure. It also requires functions I've written that are from my personal repo (https://github.com/patrickingraham/lsst_python_utils.git)"
   ]
  },
  {
   "cell_type": "code",
   "execution_count": 1,
   "metadata": {},
   "outputs": [],
   "source": [
    "import numpy as np\n",
    "#from lsst.ts import salobj\n",
    "import asyncio\n",
    "from astropy.io import fits\n",
    "\n",
    "import warnings\n",
    "#import matplotlib.pyplot as plt  # imported as py above\n",
    "from astropy.modeling import models, fitting\n",
    "from scipy.ndimage.filters import gaussian_filter\n",
    "from scipy import ndimage\n",
    "from matplotlib import pyplot as plt\n",
    "#%matplotlib ipympl\n",
    "plt.rcParams['figure.figsize'] = [7, 6]\n",
    "\n",
    "\n",
    "import matplotlib.pyplot as plt\n",
    "%matplotlib inline\n",
    "import time\n",
    "\n",
    "import os\n",
    "import copy\n",
    "from pathlib import Path\n",
    "\n",
    "import logging\n",
    "logging.basicConfig(level=logging.INFO,\n",
    "                    format='%(asctime)s %(name)-12s %(levelname)-8s %(message)s')\n",
    "logger = logging.getLogger('image_display_notebook')\n"
   ]
  },
  {
   "cell_type": "code",
   "execution_count": 2,
   "metadata": {},
   "outputs": [],
   "source": [
    "#Import CWFS package\n",
    "#from lsst import cwfs"
   ]
  },
  {
   "cell_type": "code",
   "execution_count": 15,
   "metadata": {},
   "outputs": [],
   "source": [
    "import numpy as np\n",
    "\n",
    "import logging\n",
    "logger = logging.getLogger('calc_CofM_logger')\n",
    "\n",
    "def calc_CofM(array, offset=(0,0)):\n",
    "    # Function takes a a 2d Array and computes the CofM\n",
    "    \n",
    "    # offset is the coordinate of the minimum y and x pixel\n",
    "    \n",
    "    #just make it easier to understand below\n",
    "    shape=array.shape\n",
    "        \n",
    "    # Should add tests to check bounds here\n",
    "        \n",
    "    # Build 2d index arrays for calculations\n",
    "    pix_index_1d_arr=np.arange(0, shape[0], 1)+ offset[0]\n",
    "    ones_array_2d=np.ones([shape[1], shape[0]])\n",
    "    y_index_arr_2d=np.transpose(pix_index_1d_arr*ones_array_2d)\n",
    "    \n",
    "    # Can't just use the transpose of the y_index_arr_2d\n",
    "    # since we're supporting non-symmetrical arrays\n",
    "    pix_index_1d_arr=np.arange(0, shape[1], 1) + offset[1]\n",
    "    ones_array_2d=np.ones([shape[0], shape[1]])\n",
    "    # array will be left to right so need to transpose\n",
    "    x_index_arr_2d=pix_index_1d_arr*ones_array_2d\n",
    "\n",
    "    # Calculate the centroid\n",
    "    y_CofM = np.sum(y_index_arr_2d*array)/np.sum(array)\n",
    "    x_CofM = np.sum(x_index_arr_2d*array)/np.sum(array)\n",
    "    \n",
    "    logger.info('y_CofM is {}'.format(y_CofM))\n",
    "    logger.info('x_CofM is {}'.format(x_CofM))\n",
    "\n",
    "    return(y_CofM, x_CofM)"
   ]
  },
  {
   "cell_type": "code",
   "execution_count": 16,
   "metadata": {},
   "outputs": [],
   "source": [
    "def make_circle(yxdims, radius, center=None):\n",
    "    \n",
    "    #dims is y,x dimensions\n",
    "    \n",
    "    if center==None:\n",
    "        center=(yxdims[0]/2, yxdims[1]/2)\n",
    "    \n",
    "    # Build 2d index arrays for calculations\n",
    "    pix_index_1d_arr=np.arange(0, yxdims[1] , 1) - center[1]\n",
    "    ones_array_2d=np.ones((yxdims[0], yxdims[1]))\n",
    "    x_index_arr_2d=pix_index_1d_arr*ones_array_2d\n",
    "    \n",
    "    # Can't use transpose since we're supporting non-symmetrical arrays\n",
    "    pix_index_1d_arr=np.arange(0, yxdims[0], 1) - center[0]\n",
    "    ones_array_2d=np.ones((yxdims[1],yxdims[0]))\n",
    "    # array will be left to right so need to transpose\n",
    "    y_index_arr_2d=np.transpose(pix_index_1d_arr*ones_array_2d)\n",
    "    \n",
    "    # creates an array with a given side, and a circle of radius x and position xy\n",
    "    r_arr= np.sqrt(y_index_arr_2d**2 + x_index_arr_2d**2)\n",
    "    \n",
    "    arr=np.zeros((yxdims[0],yxdims[1]) ,dtype=float)\n",
    "    \n",
    "    arr[r_arr < radius] = 1\n",
    "    return(arr)"
   ]
  },
  {
   "cell_type": "code",
   "execution_count": 21,
   "metadata": {},
   "outputs": [
    {
     "data": {
      "text/plain": [
       "(1500, 700)"
      ]
     },
     "execution_count": 21,
     "metadata": {},
     "output_type": "execute_result"
    },
    {
     "data": {
      "image/png": "[encoded data removed]",
      "text/plain": [
       "<Figure size 504x432 with 1 Axes>"
      ]
     },
     "metadata": {
      "needs_background": "light"
     },
     "output_type": "display_data"
    }
   ],
   "source": [
    "stamp=make_circle((1500,700), 100, center=(700,350))\n",
    "fig, ax = plt.subplots(figsize=(7,6))\n",
    "ax.imshow(stamp, interpolation='none')\n",
    "stamp.shape"
   ]
  },
  {
   "cell_type": "code",
   "execution_count": 22,
   "metadata": {},
   "outputs": [
    {
     "name": "stderr",
     "output_type": "stream",
     "text": [
      "2019-09-09 00:02:55,249 calc_CofM_logger INFO     y_CofM is 700.0\n",
      "2019-09-09 00:02:55,252 calc_CofM_logger INFO     x_CofM is 350.0\n"
     ]
    },
    {
     "data": {
      "text/plain": [
       "(700.0, 350.0)"
      ]
     },
     "execution_count": 22,
     "metadata": {},
     "output_type": "execute_result"
    }
   ],
   "source": [
    "calc_CofM(stamp)"
   ]
  },
  {
   "cell_type": "code",
   "execution_count": 68,
   "metadata": {},
   "outputs": [],
   "source": [
    "data_folder = Path(\"/home/pingraham/tmp/doughnuts\")\n",
    "\n",
    "# # get list of files from a manually made txt file\n",
    "# file_to_open = data_folder / \"extra_focal_list.txt\"\n",
    "# tmp=file_to_open.read_text()\n",
    "# extra_focal_fnames=tmp.split('\\n')\n",
    "# # Manual examination shows the first 10 are junk\n",
    "\n",
    "\n",
    "# get list of files from a manually made txt file\n",
    "file_to_open = data_folder / \"extra_focal_list2.txt\"\n",
    "tmp=file_to_open.read_text()\n",
    "extra_focal_fnames=tmp.split('\\n')\n",
    "for i,f in enumerate(extra_focal_fnames):\n",
    "    extra_focal_fnames[i]+='.fits'\n"
   ]
  },
  {
   "cell_type": "code",
   "execution_count": 69,
   "metadata": {},
   "outputs": [],
   "source": [
    "# get list of files from a manually made txt file\n",
    "file_to_open = data_folder / \"intra_focal_list.txt\"\n",
    "tmp=file_to_open.read_text()\n",
    "intra_focal_fnames=tmp.split('\\n')\n",
    "for i,f in enumerate(extra_focal_fnames):\n",
    "    intra_focal_fnames[i]+='.fits'\n",
    "    \n"
   ]
  },
  {
   "cell_type": "code",
   "execution_count": null,
   "metadata": {},
   "outputs": [],
   "source": []
  },
  {
   "cell_type": "code",
   "execution_count": 70,
   "metadata": {},
   "outputs": [],
   "source": [
    "def rebin(arr, new_shape):\n",
    "    shape = (new_shape[0], arr.shape[0] // new_shape[0],\n",
    "             new_shape[1], arr.shape[1] // new_shape[1])\n",
    "    return arr.reshape(shape).mean(-1).mean(1)"
   ]
  },
  {
   "cell_type": "code",
   "execution_count": 74,
   "metadata": {},
   "outputs": [
    {
     "name": "stderr",
     "output_type": "stream",
     "text": [
      "2019-09-09 00:34:07,802 calc_CofM_logger INFO     y_CofM is 213.26798941899952\n",
      "2019-09-09 00:34:07,817 calc_CofM_logger INFO     x_CofM is 485.48884722538855\n",
      "2019-09-09 00:34:07,888 calc_CofM_logger INFO     y_CofM is 284.3173021451823\n",
      "2019-09-09 00:34:07,894 calc_CofM_logger INFO     x_CofM is 343.77151837532\n"
     ]
    },
    {
     "name": "stdout",
     "output_type": "stream",
     "text": [
      "Center of image 0 is: (900, 3180)\n",
      "shape of d0: (600, 600)\n",
      "No corner d_CofM as calculated [213.26798942 485.48884723]\n",
      "yoffset: -86.73201058100048\n",
      "xoffset: 185.48884722538855\n",
      "new center is: [ 813 3365]\n",
      "shape of d0: (600, 600)\n",
      "No corner d_CofM as calculated [284.31730215 343.77151838]\n",
      "yoffset: -15.682697854817718\n",
      "xoffset: 43.77151837532\n",
      "new center is: [ 797 3408]\n",
      "shape of d0: (600, 600)\n"
     ]
    },
    {
     "name": "stderr",
     "output_type": "stream",
     "text": [
      "2019-09-09 00:34:07,963 calc_CofM_logger INFO     y_CofM is 142.37347186219426\n",
      "2019-09-09 00:34:07,966 calc_CofM_logger INFO     x_CofM is 438.82294452496717\n",
      "2019-09-09 00:34:08,073 calc_CofM_logger INFO     y_CofM is 272.8104756457124\n",
      "2019-09-09 00:34:08,092 calc_CofM_logger INFO     x_CofM is 313.8213223710822\n",
      "2019-09-09 00:34:08,173 calc_CofM_logger INFO     y_CofM is 358.1206091282146\n"
     ]
    },
    {
     "name": "stdout",
     "output_type": "stream",
     "text": [
      "No corner d_CofM as calculated [142.37347186 438.82294452]\n",
      "yoffset: -157.62652813780574\n",
      "xoffset: 138.82294452496717\n",
      "new center is: [ 639 3546]\n",
      "shape of d0: (600, 600)\n",
      "No corner d_CofM as calculated [272.81047565 313.82132237]\n",
      "yoffset: -27.189524354287585\n",
      "xoffset: 13.821322371082204\n",
      "new center is: [ 611 3559]\n",
      "shape of d0: (600, 600)\n"
     ]
    },
    {
     "name": "stderr",
     "output_type": "stream",
     "text": [
      "2019-09-09 00:34:08,186 calc_CofM_logger INFO     x_CofM is 262.8840928346653\n",
      "2019-09-09 00:34:08,273 calc_CofM_logger INFO     y_CofM is 365.76922772548915\n",
      "2019-09-09 00:34:08,282 calc_CofM_logger INFO     x_CofM is 237.23047095353473\n",
      "2019-09-09 00:34:08,366 calc_CofM_logger INFO     y_CofM is 347.84546233380735\n",
      "2019-09-09 00:34:08,372 calc_CofM_logger INFO     x_CofM is 263.9442057376478\n"
     ]
    },
    {
     "name": "stdout",
     "output_type": "stream",
     "text": [
      "No corner d_CofM as calculated [358.12060913 262.88409283]\n",
      "yoffset: 58.120609128214596\n",
      "xoffset: -37.115907165334704\n",
      "new center is: [ 669 3521]\n",
      "shape of d0: (600, 600)\n",
      "No corner d_CofM as calculated [365.76922773 237.23047095]\n",
      "yoffset: 65.76922772548915\n",
      "xoffset: -62.769529046465266\n",
      "new center is: [ 734 3458]\n",
      "shape of d0: (600, 600)\n",
      "No corner d_CofM as calculated [347.84546233 263.94420574]\n",
      "yoffset: 47.84546233380735\n",
      "xoffset: -36.05579426235221\n",
      "new center is: [ 781 3421]\n"
     ]
    },
    {
     "name": "stderr",
     "output_type": "stream",
     "text": [
      "2019-09-09 00:34:08,519 calc_CofM_logger INFO     y_CofM is 324.240671015118\n",
      "2019-09-09 00:34:08,526 calc_CofM_logger INFO     x_CofM is 290.57563930164105\n",
      "2019-09-09 00:34:08,619 calc_CofM_logger INFO     y_CofM is 275.040065243133\n",
      "2019-09-09 00:34:08,629 calc_CofM_logger INFO     x_CofM is 327.7314297257749\n",
      "2019-09-09 00:34:08,701 calc_CofM_logger INFO     y_CofM is 123.31201255029522\n",
      "2019-09-09 00:34:08,708 calc_CofM_logger INFO     x_CofM is 434.6003725423233\n"
     ]
    },
    {
     "name": "stdout",
     "output_type": "stream",
     "text": [
      "shape of d0: (600, 600)\n",
      "No corner d_CofM as calculated [324.24067102 290.5756393 ]\n",
      "yoffset: 24.240671015117982\n",
      "xoffset: -9.424360698358953\n",
      "new center is: [ 805 3411]\n",
      "shape of d0: (600, 600)\n",
      "No corner d_CofM as calculated [275.04006524 327.73142973]\n",
      "yoffset: -24.95993475686703\n",
      "xoffset: 27.731429725774888\n",
      "new center is: [ 780 3438]\n",
      "shape of d0: (600, 600)\n"
     ]
    },
    {
     "name": "stderr",
     "output_type": "stream",
     "text": [
      "2019-09-09 00:34:08,813 calc_CofM_logger INFO     y_CofM is 318.9172990416304\n",
      "2019-09-09 00:34:08,821 calc_CofM_logger INFO     x_CofM is 284.034268262337\n"
     ]
    },
    {
     "name": "stdout",
     "output_type": "stream",
     "text": [
      "No corner d_CofM as calculated [123.31201255 434.60037254]\n",
      "yoffset: -176.6879874497048\n",
      "xoffset: 134.60037254232333\n",
      "new center is: [ 603 3572]\n",
      "shape of d0: (600, 600)\n",
      "No corner d_CofM as calculated [318.91729904 284.03426826]\n",
      "yoffset: 18.917299041630372\n",
      "xoffset: -15.96573173766302\n",
      "new center is: [ 621 3556]\n"
     ]
    },
    {
     "name": "stderr",
     "output_type": "stream",
     "text": [
      "2019-09-09 00:34:08,955 calc_CofM_logger INFO     y_CofM is 360.62396174747215\n",
      "2019-09-09 00:34:08,965 calc_CofM_logger INFO     x_CofM is 251.79611615834145\n",
      "2019-09-09 00:34:09,049 calc_CofM_logger INFO     y_CofM is 372.4988755025385\n",
      "2019-09-09 00:34:09,056 calc_CofM_logger INFO     x_CofM is 242.0335190642804\n"
     ]
    },
    {
     "name": "stdout",
     "output_type": "stream",
     "text": [
      "shape of d0: (600, 600)\n",
      "No corner d_CofM as calculated [360.62396175 251.79611616]\n",
      "yoffset: 60.62396174747215\n",
      "xoffset: -48.20388384165855\n",
      "new center is: [ 681 3507]\n",
      "shape of d0: (600, 600)\n",
      "No corner d_CofM as calculated [372.4988755  242.03351906]\n",
      "yoffset: 72.49887550253851\n",
      "xoffset: -57.9664809357196\n",
      "new center is: [ 753 3449]\n"
     ]
    },
    {
     "name": "stderr",
     "output_type": "stream",
     "text": [
      "2019-09-09 00:34:09,181 calc_CofM_logger INFO     y_CofM is 333.80340291581956\n",
      "2019-09-09 00:34:09,183 calc_CofM_logger INFO     x_CofM is 266.62208632719904\n",
      "2019-09-09 00:34:09,257 calc_CofM_logger INFO     y_CofM is 328.38413467849335\n",
      "2019-09-09 00:34:09,263 calc_CofM_logger INFO     x_CofM is 295.25003521828177\n"
     ]
    },
    {
     "name": "stdout",
     "output_type": "stream",
     "text": [
      "shape of d0: (600, 600)\n",
      "No corner d_CofM as calculated [333.80340292 266.62208633]\n",
      "yoffset: 33.80340291581956\n",
      "xoffset: -33.37791367280096\n",
      "new center is: [ 786 3415]\n",
      "shape of d0: (600, 600)\n",
      "No corner d_CofM as calculated [328.38413468 295.25003522]\n",
      "yoffset: 28.384134678493353\n",
      "xoffset: -4.7499647817182336\n",
      "new center is: [ 814 3410]\n"
     ]
    },
    {
     "name": "stderr",
     "output_type": "stream",
     "text": [
      "2019-09-09 00:34:09,419 calc_CofM_logger INFO     y_CofM is 211.9518570150325\n",
      "2019-09-09 00:34:09,423 calc_CofM_logger INFO     x_CofM is 363.00780836630275\n",
      "2019-09-09 00:34:09,515 calc_CofM_logger INFO     y_CofM is 180.2668387912414\n",
      "2019-09-09 00:34:09,521 calc_CofM_logger INFO     x_CofM is 396.34893807560735\n",
      "2019-09-09 00:34:09,600 calc_CofM_logger INFO     y_CofM is 340.3733742991531\n",
      "2019-09-09 00:34:09,608 calc_CofM_logger INFO     x_CofM is 279.5216144882983\n"
     ]
    },
    {
     "name": "stdout",
     "output_type": "stream",
     "text": [
      "shape of d0: (600, 600)\n",
      "No corner d_CofM as calculated [211.95185702 363.00780837]\n",
      "yoffset: -88.04814298496751\n",
      "xoffset: 63.007808366302754\n",
      "new center is: [ 725 3473]\n",
      "shape of d0: (600, 600)\n",
      "No corner d_CofM as calculated [180.26683879 396.34893808]\n",
      "yoffset: -119.73316120875859\n",
      "xoffset: 96.34893807560735\n",
      "new center is: [ 605 3569]\n",
      "shape of d0: (600, 600)\n"
     ]
    },
    {
     "name": "stderr",
     "output_type": "stream",
     "text": [
      "2019-09-09 00:34:09,681 calc_CofM_logger INFO     y_CofM is 360.93300348832145\n",
      "2019-09-09 00:34:09,684 calc_CofM_logger INFO     x_CofM is 246.6935286271581\n",
      "2019-09-09 00:34:09,764 calc_CofM_logger INFO     y_CofM is 345.96791176347455\n",
      "2019-09-09 00:34:09,766 calc_CofM_logger INFO     x_CofM is 250.32672562795253\n"
     ]
    },
    {
     "name": "stdout",
     "output_type": "stream",
     "text": [
      "No corner d_CofM as calculated [340.3733743  279.52161449]\n",
      "yoffset: 40.37337429915311\n",
      "xoffset: -20.478385511701674\n",
      "new center is: [ 645 3548]\n",
      "shape of d0: (600, 600)\n",
      "No corner d_CofM as calculated [360.93300349 246.69352863]\n",
      "yoffset: 60.93300348832145\n",
      "xoffset: -53.30647137284191\n",
      "new center is: [ 705 3494]\n",
      "shape of d0: (600, 600)\n",
      "No corner d_CofM as calculated [345.96791176 250.32672563]\n",
      "yoffset: 45.96791176347455\n",
      "xoffset: -49.67327437204747\n",
      "new center is: [ 750 3444]\n"
     ]
    },
    {
     "name": "stderr",
     "output_type": "stream",
     "text": [
      "2019-09-09 00:34:09,873 calc_CofM_logger INFO     y_CofM is 337.732974702717\n",
      "2019-09-09 00:34:09,886 calc_CofM_logger INFO     x_CofM is 270.8800751589883\n",
      "2019-09-09 00:34:09,963 calc_CofM_logger INFO     y_CofM is 271.12641840310164\n",
      "2019-09-09 00:34:09,967 calc_CofM_logger INFO     x_CofM is 316.1479131371757\n",
      "2019-09-09 00:34:10,046 calc_CofM_logger INFO     y_CofM is 131.57410444575973\n",
      "2019-09-09 00:34:10,050 calc_CofM_logger INFO     x_CofM is 461.5859522085899\n"
     ]
    },
    {
     "name": "stdout",
     "output_type": "stream",
     "text": [
      "shape of d0: (600, 600)\n",
      "No corner d_CofM as calculated [337.7329747  270.88007516]\n",
      "yoffset: 37.732974702717\n",
      "xoffset: -29.11992484101171\n",
      "new center is: [ 787 3414]\n",
      "shape of d0: (600, 600)\n",
      "No corner d_CofM as calculated [271.1264184  316.14791314]\n",
      "yoffset: -28.87358159689836\n",
      "xoffset: 16.147913137175692\n",
      "new center is: [ 758 3430]\n",
      "shape of d0: (600, 600)\n",
      "No corner d_CofM as calculated [131.57410445 461.58595221]\n",
      "yoffset: -168.42589555424027\n",
      "xoffset: 161.5859522085899\n",
      "new center is: [ 589 3591]\n"
     ]
    },
    {
     "name": "stderr",
     "output_type": "stream",
     "text": [
      "2019-09-09 00:34:10,134 calc_CofM_logger INFO     y_CofM is 318.8066590113319\n",
      "2019-09-09 00:34:10,138 calc_CofM_logger INFO     x_CofM is 291.2388559838822\n",
      "2019-09-09 00:34:10,215 calc_CofM_logger INFO     y_CofM is 363.2293274994931\n",
      "2019-09-09 00:34:10,219 calc_CofM_logger INFO     x_CofM is 243.04645354514767\n",
      "2019-09-09 00:34:10,299 calc_CofM_logger INFO     y_CofM is 368.56824543454525\n",
      "2019-09-09 00:34:10,303 calc_CofM_logger INFO     x_CofM is 249.35094953762933\n"
     ]
    },
    {
     "name": "stdout",
     "output_type": "stream",
     "text": [
      "shape of d0: (600, 600)\n",
      "No corner d_CofM as calculated [318.80665901 291.23885598]\n",
      "yoffset: 18.806659011331874\n",
      "xoffset: -8.761144016117782\n",
      "new center is: [ 607 3582]\n",
      "shape of d0: (600, 600)\n",
      "No corner d_CofM as calculated [363.2293275  243.04645355]\n",
      "yoffset: 63.22932749949308\n",
      "xoffset: -56.95354645485233\n",
      "new center is: [ 670 3525]\n",
      "shape of d0: (600, 600)\n",
      "No corner d_CofM as calculated [368.56824543 249.35094954]\n",
      "yoffset: 68.56824543454525\n",
      "xoffset: -50.64905046237067\n",
      "new center is: [ 738 3474]\n"
     ]
    },
    {
     "name": "stderr",
     "output_type": "stream",
     "text": [
      "2019-09-09 00:34:10,429 calc_CofM_logger INFO     y_CofM is 333.0534382096514\n",
      "2019-09-09 00:34:10,434 calc_CofM_logger INFO     x_CofM is 254.09170938533194\n",
      "2019-09-09 00:34:10,507 calc_CofM_logger INFO     y_CofM is 318.552794176913\n",
      "2019-09-09 00:34:10,512 calc_CofM_logger INFO     x_CofM is 302.90005863063146\n",
      "2019-09-09 00:34:10,603 calc_CofM_logger INFO     y_CofM is 260.24885483203707\n"
     ]
    },
    {
     "name": "stdout",
     "output_type": "stream",
     "text": [
      "shape of d0: (600, 600)\n",
      "No corner d_CofM as calculated [333.05343821 254.09170939]\n",
      "yoffset: 33.053438209651404\n",
      "xoffset: -45.90829061466806\n",
      "new center is: [ 771 3428]\n",
      "shape of d0: (600, 600)\n",
      "No corner d_CofM as calculated [318.55279418 302.90005863]\n",
      "yoffset: 18.552794176912982\n",
      "xoffset: 2.900058630631463\n",
      "new center is: [ 789 3430]\n",
      "shape of d0: (600, 600)\n"
     ]
    },
    {
     "name": "stderr",
     "output_type": "stream",
     "text": [
      "2019-09-09 00:34:10,618 calc_CofM_logger INFO     x_CofM is 335.2659434359649\n",
      "2019-09-09 00:34:10,754 calc_CofM_logger INFO     y_CofM is 140.2411924345307\n",
      "2019-09-09 00:34:10,763 calc_CofM_logger INFO     x_CofM is 425.65800370964575\n"
     ]
    },
    {
     "name": "stdout",
     "output_type": "stream",
     "text": [
      "No corner d_CofM as calculated [260.24885483 335.26594344]\n",
      "yoffset: -39.75114516796293\n",
      "xoffset: 35.265943435964914\n",
      "new center is: [ 749 3465]\n",
      "shape of d0: (600, 600)\n",
      "No corner d_CofM as calculated [140.24119243 425.65800371]\n",
      "yoffset: -159.7588075654693\n",
      "xoffset: 125.65800370964575\n",
      "new center is: [ 589 3590]\n"
     ]
    },
    {
     "name": "stderr",
     "output_type": "stream",
     "text": [
      "2019-09-09 00:34:10,933 calc_CofM_logger INFO     y_CofM is 318.6493205950788\n",
      "2019-09-09 00:34:10,940 calc_CofM_logger INFO     x_CofM is 287.8019099479889\n",
      "2019-09-09 00:34:11,041 calc_CofM_logger INFO     y_CofM is 378.29607658695704\n",
      "2019-09-09 00:34:11,045 calc_CofM_logger INFO     x_CofM is 235.52029034839933\n",
      "2019-09-09 00:34:11,118 calc_CofM_logger INFO     y_CofM is 358.9245259095386\n",
      "2019-09-09 00:34:11,120 calc_CofM_logger INFO     x_CofM is 257.8323936228815\n"
     ]
    },
    {
     "name": "stdout",
     "output_type": "stream",
     "text": [
      "shape of d0: (600, 600)\n",
      "No corner d_CofM as calculated [318.6493206  287.80190995]\n",
      "yoffset: 18.64932059507879\n",
      "xoffset: -12.198090052011082\n",
      "new center is: [ 607 3577]\n",
      "shape of d0: (600, 600)\n",
      "No corner d_CofM as calculated [378.29607659 235.52029035]\n",
      "yoffset: 78.29607658695704\n",
      "xoffset: -64.47970965160067\n",
      "new center is: [ 685 3512]\n",
      "shape of d0: (600, 600)\n",
      "No corner d_CofM as calculated [358.92452591 257.83239362]\n",
      "yoffset: 58.9245259095386\n",
      "xoffset: -42.16760637711849\n",
      "new center is: [ 743 3469]\n"
     ]
    },
    {
     "name": "stderr",
     "output_type": "stream",
     "text": [
      "2019-09-09 00:34:11,205 calc_CofM_logger INFO     y_CofM is 323.28436508740407\n",
      "2019-09-09 00:34:11,209 calc_CofM_logger INFO     x_CofM is 273.23311479957124\n",
      "2019-09-09 00:34:11,289 calc_CofM_logger INFO     y_CofM is 315.94051484104295\n",
      "2019-09-09 00:34:11,293 calc_CofM_logger INFO     x_CofM is 297.2337315392039\n",
      "2019-09-09 00:34:11,376 calc_CofM_logger INFO     y_CofM is 186.05766336538247\n",
      "2019-09-09 00:34:11,385 calc_CofM_logger INFO     x_CofM is 407.22788724871873\n"
     ]
    },
    {
     "name": "stdout",
     "output_type": "stream",
     "text": [
      "shape of d0: (600, 600)\n",
      "No corner d_CofM as calculated [323.28436509 273.2331148 ]\n",
      "yoffset: 23.28436508740407\n",
      "xoffset: -26.76688520042876\n",
      "new center is: [ 766 3442]\n",
      "shape of d0: (600, 600)\n",
      "No corner d_CofM as calculated [315.94051484 297.23373154]\n",
      "yoffset: 15.940514841042955\n",
      "xoffset: -2.766268460796084\n",
      "new center is: [ 781 3439]\n",
      "shape of d0: (600, 600)\n",
      "No corner d_CofM as calculated [186.05766337 407.22788725]\n",
      "yoffset: -113.94233663461753\n",
      "xoffset: 107.22788724871873\n",
      "new center is: [ 667 3546]\n"
     ]
    },
    {
     "name": "stderr",
     "output_type": "stream",
     "text": [
      "2019-09-09 00:34:11,483 calc_CofM_logger INFO     y_CofM is 223.030928971525\n",
      "2019-09-09 00:34:11,486 calc_CofM_logger INFO     x_CofM is 358.4384849181522\n",
      "2019-09-09 00:34:11,571 calc_CofM_logger INFO     y_CofM is 352.3029284647908\n",
      "2019-09-09 00:34:11,577 calc_CofM_logger INFO     x_CofM is 256.2638123253846\n",
      "2019-09-09 00:34:11,661 calc_CofM_logger INFO     y_CofM is 358.2969026336205\n",
      "2019-09-09 00:34:11,666 calc_CofM_logger INFO     x_CofM is 250.41348264930744\n"
     ]
    },
    {
     "name": "stdout",
     "output_type": "stream",
     "text": [
      "shape of d0: (600, 600)\n",
      "No corner d_CofM as calculated [223.03092897 358.43848492]\n",
      "yoffset: -76.96907102847501\n",
      "xoffset: 58.4384849181522\n",
      "new center is: [ 590 3604]\n",
      "shape of d0: (600, 600)\n",
      "No corner d_CofM as calculated [352.30292846 256.26381233]\n",
      "yoffset: 52.302928464790796\n",
      "xoffset: -43.736187674615394\n",
      "new center is: [ 642 3560]\n",
      "shape of d0: (600, 600)\n",
      "No corner d_CofM as calculated [358.29690263 250.41348265]\n",
      "yoffset: 58.296902633620505\n",
      "xoffset: -49.58651735069256\n",
      "new center is: [ 700 3510]\n"
     ]
    },
    {
     "name": "stderr",
     "output_type": "stream",
     "text": [
      "2019-09-09 00:34:11,741 calc_CofM_logger INFO     y_CofM is 357.22230552995853\n",
      "2019-09-09 00:34:11,744 calc_CofM_logger INFO     x_CofM is 265.4822513039616\n",
      "2019-09-09 00:34:11,857 calc_CofM_logger INFO     y_CofM is 316.0716576276723\n",
      "2019-09-09 00:34:11,861 calc_CofM_logger INFO     x_CofM is 270.7569613889244\n",
      "2019-09-09 00:34:11,936 calc_CofM_logger INFO     y_CofM is 283.33724183245374\n"
     ]
    },
    {
     "name": "stdout",
     "output_type": "stream",
     "text": [
      "shape of d0: (600, 600)\n",
      "No corner d_CofM as calculated [357.22230553 265.4822513 ]\n",
      "yoffset: 57.22230552995853\n",
      "xoffset: -34.51774869603838\n",
      "new center is: [ 757 3475]\n",
      "shape of d0: (600, 600)\n",
      "No corner d_CofM as calculated [316.07165763 270.75696139]\n",
      "yoffset: 16.071657627672323\n",
      "xoffset: -29.243038611075576\n",
      "new center is: [ 773 3445]\n",
      "shape of d0: (600, 600)\n"
     ]
    },
    {
     "name": "stderr",
     "output_type": "stream",
     "text": [
      "2019-09-09 00:34:11,946 calc_CofM_logger INFO     x_CofM is 318.07922447778856\n",
      "2019-09-09 00:34:12,032 calc_CofM_logger INFO     y_CofM is 122.22432787611086\n",
      "2019-09-09 00:34:12,037 calc_CofM_logger INFO     x_CofM is 453.12345455753194\n",
      "2019-09-09 00:34:12,121 calc_CofM_logger INFO     y_CofM is 306.1757579225703\n",
      "2019-09-09 00:34:12,126 calc_CofM_logger INFO     x_CofM is 269.97568508044714\n"
     ]
    },
    {
     "name": "stdout",
     "output_type": "stream",
     "text": [
      "No corner d_CofM as calculated [283.33724183 318.07922448]\n",
      "yoffset: -16.662758167546258\n",
      "xoffset: 18.079224477788557\n",
      "new center is: [ 756 3463]\n",
      "shape of d0: (600, 600)\n",
      "No corner d_CofM as calculated [122.22432788 453.12345456]\n",
      "yoffset: -177.77567212388914\n",
      "xoffset: 153.12345455753194\n",
      "new center is: [ 578 3616]\n",
      "shape of d0: (600, 600)\n",
      "No corner d_CofM as calculated [306.17575792 269.97568508]\n",
      "yoffset: 6.1757579225703125\n",
      "xoffset: -30.024314919552864\n",
      "new center is: [ 584 3585]\n"
     ]
    },
    {
     "name": "stderr",
     "output_type": "stream",
     "text": [
      "2019-09-09 00:34:12,203 calc_CofM_logger INFO     y_CofM is 372.20477692386316\n",
      "2019-09-09 00:34:12,205 calc_CofM_logger INFO     x_CofM is 250.39705399565014\n",
      "2019-09-09 00:34:12,310 calc_CofM_logger INFO     y_CofM is 370.5189033327521\n",
      "2019-09-09 00:34:12,314 calc_CofM_logger INFO     x_CofM is 246.18008461071926\n"
     ]
    },
    {
     "name": "stdout",
     "output_type": "stream",
     "text": [
      "shape of d0: (600, 600)\n",
      "No corner d_CofM as calculated [372.20477692 250.397054  ]\n",
      "yoffset: 72.20477692386316\n",
      "xoffset: -49.60294600434986\n",
      "new center is: [ 656 3535]\n",
      "shape of d0: (600, 600)\n",
      "No corner d_CofM as calculated [370.51890333 246.18008461]\n",
      "yoffset: 70.51890333275207\n",
      "xoffset: -53.81991538928074\n",
      "new center is: [ 726 3481]\n",
      "shape of d0: (600, 600)\n"
     ]
    },
    {
     "name": "stderr",
     "output_type": "stream",
     "text": [
      "2019-09-09 00:34:12,404 calc_CofM_logger INFO     y_CofM is 333.67609464333685\n",
      "2019-09-09 00:34:12,414 calc_CofM_logger INFO     x_CofM is 279.6615679665068\n",
      "2019-09-09 00:34:12,488 calc_CofM_logger INFO     y_CofM is 317.2451981668981\n",
      "2019-09-09 00:34:12,493 calc_CofM_logger INFO     x_CofM is 290.26687278177354\n",
      "2019-09-09 00:34:12,557 calc_CofM_logger INFO     y_CofM is 260.15081913268\n",
      "2019-09-09 00:34:12,561 calc_CofM_logger INFO     x_CofM is 317.6247621128662\n"
     ]
    },
    {
     "name": "stdout",
     "output_type": "stream",
     "text": [
      "No corner d_CofM as calculated [333.67609464 279.66156797]\n",
      "yoffset: 33.67609464333685\n",
      "xoffset: -20.338432033493177\n",
      "new center is: [ 759 3460]\n",
      "shape of d0: (600, 600)\n",
      "No corner d_CofM as calculated [317.24519817 290.26687278]\n",
      "yoffset: 17.245198166898092\n",
      "xoffset: -9.733127218226457\n",
      "new center is: [ 776 3450]\n",
      "shape of d0: (600, 600)\n",
      "No corner d_CofM as calculated [260.15081913 317.62476211]\n",
      "yoffset: -39.84918086732\n",
      "xoffset: 17.62476211286622\n",
      "new center is: [ 736 3467]\n"
     ]
    },
    {
     "name": "stderr",
     "output_type": "stream",
     "text": [
      "2019-09-09 00:34:12,681 calc_CofM_logger INFO     y_CofM is 127.79105350172674\n",
      "2019-09-09 00:34:12,685 calc_CofM_logger INFO     x_CofM is 458.63410100582604\n",
      "2019-09-09 00:34:12,752 calc_CofM_logger INFO     y_CofM is 330.29508455688807\n",
      "2019-09-09 00:34:12,757 calc_CofM_logger INFO     x_CofM is 260.9447434593142\n",
      "2019-09-09 00:34:12,853 calc_CofM_logger INFO     y_CofM is 371.1460100477084\n",
      "2019-09-09 00:34:12,855 calc_CofM_logger INFO     x_CofM is 246.3762595801844\n"
     ]
    },
    {
     "name": "stdout",
     "output_type": "stream",
     "text": [
      "shape of d0: (600, 600)\n",
      "No corner d_CofM as calculated [127.7910535  458.63410101]\n",
      "yoffset: -172.20894649827326\n",
      "xoffset: 158.63410100582604\n",
      "new center is: [ 563 3625]\n",
      "shape of d0: (600, 600)\n",
      "No corner d_CofM as calculated [330.29508456 260.94474346]\n",
      "yoffset: 30.29508455688807\n",
      "xoffset: -39.055256540685775\n",
      "new center is: [ 593 3585]\n",
      "shape of d0: (600, 600)\n",
      "No corner d_CofM as calculated [371.14601005 246.37625958]\n",
      "yoffset: 71.14601004770839\n",
      "xoffset: -53.62374041981559\n",
      "new center is: [ 664 3531]\n"
     ]
    },
    {
     "name": "stderr",
     "output_type": "stream",
     "text": [
      "2019-09-09 00:34:12,973 calc_CofM_logger INFO     y_CofM is 365.415469349325\n",
      "2019-09-09 00:34:12,978 calc_CofM_logger INFO     x_CofM is 249.1527325304652\n",
      "2019-09-09 00:34:13,081 calc_CofM_logger INFO     y_CofM is 327.03577269117903\n",
      "2019-09-09 00:34:13,099 calc_CofM_logger INFO     x_CofM is 281.04889811329537\n"
     ]
    },
    {
     "name": "stdout",
     "output_type": "stream",
     "text": [
      "shape of d0: (600, 600)\n",
      "No corner d_CofM as calculated [365.41546935 249.15273253]\n",
      "yoffset: 65.41546934932501\n",
      "xoffset: -50.84726746953481\n",
      "new center is: [ 729 3480]\n",
      "shape of d0: (600, 600)\n",
      "No corner d_CofM as calculated [327.03577269 281.04889811]\n",
      "yoffset: 27.035772691179034\n",
      "xoffset: -18.951101886704635\n",
      "new center is: [ 756 3461]\n"
     ]
    },
    {
     "name": "stderr",
     "output_type": "stream",
     "text": [
      "2019-09-09 00:34:13,218 calc_CofM_logger INFO     y_CofM is 286.6538639282317\n",
      "2019-09-09 00:34:13,223 calc_CofM_logger INFO     x_CofM is 310.0757263036242\n",
      "2019-09-09 00:34:13,311 calc_CofM_logger INFO     y_CofM is 196.15147997913323\n",
      "2019-09-09 00:34:13,315 calc_CofM_logger INFO     x_CofM is 398.5988891345687\n",
      "2019-09-09 00:34:13,384 calc_CofM_logger INFO     y_CofM is 231.55479743875262\n",
      "2019-09-09 00:34:13,388 calc_CofM_logger INFO     x_CofM is 351.0371503692428\n"
     ]
    },
    {
     "name": "stdout",
     "output_type": "stream",
     "text": [
      "shape of d0: (600, 600)\n",
      "No corner d_CofM as calculated [286.65386393 310.0757263 ]\n",
      "yoffset: -13.346136071768285\n",
      "xoffset: 10.075726303624208\n",
      "new center is: [ 742 3471]\n",
      "shape of d0: (600, 600)\n",
      "No corner d_CofM as calculated [196.15147998 398.59888913]\n",
      "yoffset: -103.84852002086677\n",
      "xoffset: 98.59888913456871\n",
      "new center is: [ 638 3569]\n",
      "shape of d0: (600, 600)\n",
      "No corner d_CofM as calculated [231.55479744 351.03715037]\n",
      "yoffset: -68.44520256124738\n",
      "xoffset: 51.037150369242795\n",
      "new center is: [ 569 3620]\n"
     ]
    },
    {
     "name": "stderr",
     "output_type": "stream",
     "text": [
      "2019-09-09 00:34:13,466 calc_CofM_logger INFO     y_CofM is 348.27143046082176\n",
      "2019-09-09 00:34:13,470 calc_CofM_logger INFO     x_CofM is 256.2806766602741\n",
      "2019-09-09 00:34:13,556 calc_CofM_logger INFO     y_CofM is 379.0521433351486\n",
      "2019-09-09 00:34:13,563 calc_CofM_logger INFO     x_CofM is 248.6603244559079\n"
     ]
    },
    {
     "name": "stdout",
     "output_type": "stream",
     "text": [
      "shape of d0: (600, 600)\n",
      "No corner d_CofM as calculated [348.27143046 256.28067666]\n",
      "yoffset: 48.27143046082176\n",
      "xoffset: -43.71932333972592\n",
      "new center is: [ 617 3576]\n",
      "shape of d0: (600, 600)\n",
      "No corner d_CofM as calculated [379.05214334 248.66032446]\n",
      "yoffset: 79.05214333514863\n",
      "xoffset: -51.3396755440921\n",
      "new center is: [ 696 3524]\n"
     ]
    },
    {
     "name": "stderr",
     "output_type": "stream",
     "text": [
      "2019-09-09 00:34:13,684 calc_CofM_logger INFO     y_CofM is 343.13510366954534\n",
      "2019-09-09 00:34:13,687 calc_CofM_logger INFO     x_CofM is 276.72013457156197\n",
      "2019-09-09 00:34:13,763 calc_CofM_logger INFO     y_CofM is 330.7730509271428\n",
      "2019-09-09 00:34:13,767 calc_CofM_logger INFO     x_CofM is 265.76836396081706\n",
      "2019-09-09 00:34:13,848 calc_CofM_logger INFO     y_CofM is 280.59377360462406\n",
      "2019-09-09 00:34:13,853 calc_CofM_logger INFO     x_CofM is 310.02423646148776\n"
     ]
    },
    {
     "name": "stdout",
     "output_type": "stream",
     "text": [
      "shape of d0: (600, 600)\n",
      "No corner d_CofM as calculated [343.13510367 276.72013457]\n",
      "yoffset: 43.135103669545344\n",
      "xoffset: -23.27986542843803\n",
      "new center is: [ 739 3500]\n",
      "shape of d0: (600, 600)\n",
      "No corner d_CofM as calculated [330.77305093 265.76836396]\n",
      "yoffset: 30.773050927142776\n",
      "xoffset: -34.231636039182945\n",
      "new center is: [ 769 3465]\n",
      "shape of d0: (600, 600)\n",
      "No corner d_CofM as calculated [280.5937736  310.02423646]\n",
      "yoffset: -19.40622639537594\n",
      "xoffset: 10.02423646148776\n",
      "new center is: [ 749 3475]\n"
     ]
    },
    {
     "name": "stderr",
     "output_type": "stream",
     "text": [
      "2019-09-09 00:34:13,940 calc_CofM_logger INFO     y_CofM is 126.99977688131854\n",
      "2019-09-09 00:34:13,948 calc_CofM_logger INFO     x_CofM is 453.11039550730015\n",
      "2019-09-09 00:34:14,021 calc_CofM_logger INFO     y_CofM is 296.9292616167817\n",
      "2019-09-09 00:34:14,025 calc_CofM_logger INFO     x_CofM is 300.2602166561699\n",
      "2019-09-09 00:34:14,115 calc_CofM_logger INFO     y_CofM is 375.234759969134\n",
      "2019-09-09 00:34:14,119 calc_CofM_logger INFO     x_CofM is 237.18245678074697\n"
     ]
    },
    {
     "name": "stdout",
     "output_type": "stream",
     "text": [
      "shape of d0: (600, 600)\n",
      "No corner d_CofM as calculated [126.99977688 453.11039551]\n",
      "yoffset: -173.00022311868145\n",
      "xoffset: 153.11039550730015\n",
      "new center is: [ 575 3628]\n",
      "shape of d0: (600, 600)\n",
      "No corner d_CofM as calculated [296.92926162 300.26021666]\n",
      "yoffset: -3.070738383218327\n",
      "xoffset: 0.2602166561699164\n",
      "new center is: [ 571 3628]\n",
      "shape of d0: (600, 600)\n",
      "No corner d_CofM as calculated [375.23475997 237.18245678]\n",
      "yoffset: 75.23475996913402\n",
      "xoffset: -62.817543219253025\n",
      "new center is: [ 646 3565]\n"
     ]
    },
    {
     "name": "stderr",
     "output_type": "stream",
     "text": [
      "2019-09-09 00:34:14,220 calc_CofM_logger INFO     y_CofM is 372.3945687703487\n",
      "2019-09-09 00:34:14,225 calc_CofM_logger INFO     x_CofM is 240.80234830795177\n",
      "2019-09-09 00:34:14,294 calc_CofM_logger INFO     y_CofM is 340.9716434268196\n",
      "2019-09-09 00:34:14,298 calc_CofM_logger INFO     x_CofM is 277.82433063263943\n",
      "2019-09-09 00:34:14,370 calc_CofM_logger INFO     y_CofM is 309.8355577722839\n",
      "2019-09-09 00:34:14,374 calc_CofM_logger INFO     x_CofM is 276.0968199276383\n"
     ]
    },
    {
     "name": "stdout",
     "output_type": "stream",
     "text": [
      "shape of d0: (600, 600)\n",
      "No corner d_CofM as calculated [372.39456877 240.80234831]\n",
      "yoffset: 72.39456877034871\n",
      "xoffset: -59.197651692048225\n",
      "new center is: [ 718 3505]\n",
      "shape of d0: (600, 600)\n",
      "No corner d_CofM as calculated [340.97164343 277.82433063]\n",
      "yoffset: 40.97164342681958\n",
      "xoffset: -22.17566936736057\n",
      "new center is: [ 758 3482]\n",
      "shape of d0: (600, 600)\n",
      "No corner d_CofM as calculated [309.83555777 276.09681993]\n",
      "yoffset: 9.835557772283892\n",
      "xoffset: -23.903180072361693\n",
      "new center is: [ 767 3458]\n"
     ]
    },
    {
     "name": "stderr",
     "output_type": "stream",
     "text": [
      "2019-09-09 00:34:14,478 calc_CofM_logger INFO     y_CofM is 273.45884953630747\n",
      "2019-09-09 00:34:14,482 calc_CofM_logger INFO     x_CofM is 335.92871374869304\n",
      "2019-09-09 00:34:14,548 calc_CofM_logger INFO     y_CofM is 134.53895208758343\n",
      "2019-09-09 00:34:14,552 calc_CofM_logger INFO     x_CofM is 448.1051326813218\n"
     ]
    },
    {
     "name": "stdout",
     "output_type": "stream",
     "text": [
      "shape of d0: (600, 600)\n",
      "No corner d_CofM as calculated [273.45884954 335.92871375]\n",
      "yoffset: -26.54115046369253\n",
      "xoffset: 35.92871374869304\n",
      "new center is: [ 740 3493]\n",
      "shape of d0: (600, 600)\n",
      "No corner d_CofM as calculated [134.53895209 448.10513268]\n",
      "yoffset: -165.46104791241657\n",
      "xoffset: 148.10513268132178\n",
      "new center is: [ 574 3641]\n"
     ]
    }
   ],
   "source": [
    "# read file into memory\n",
    "#d1=extra_focal_fnames[0]\n",
    "# align with other doughnut\n",
    "bin_size=8\n",
    "\n",
    "focal_fnames = intra_focal_fnames\n",
    "#focal_fnames = extra_focal_fnames\n",
    "img_size=(3520, 4656) # y,x\n",
    "#center_of_ref=[img_size[1]-3750,img_size[0]-420] # y,x\n",
    "center_of_ref=(900, 3180) #(900, 3200)\n",
    "print('Center of image 0 is: {}'.format(center_of_ref))\n",
    "side=None\n",
    "side=300\n",
    "focal_doughnut = np.empty((2*side, 2*side), dtype=float)\n",
    "\n",
    "d=None; d0=None; d1=None\n",
    "for i,fname in enumerate(focal_fnames[0:70]):\n",
    "    \n",
    "    with fits.open(data_folder / fname) as hdul0:\n",
    "        # data is [y,x]\n",
    "        d0=None\n",
    "        \n",
    "        #circle = make_circle(img_size, radius=20, center=(900,3080))\n",
    "        #print('shape of circle: {}'.format(circle.shape))\n",
    "        \n",
    "        #raw_frame = circle\n",
    "        raw_frame = hdul0[0].data\n",
    "        \n",
    "        d0=np.array((raw_frame[center_of_ref[0]-side:center_of_ref[0]+side, \n",
    "                        center_of_ref[1]-side:center_of_ref[1]+side]))\n",
    "        \n",
    "        #convert to float\n",
    "        d0=copy.deepcopy(d0.astype(float))\n",
    "        print('shape of d0: {}'.format(d0.shape))\n",
    "\n",
    "        \n",
    "        # subtract median background... which should do nothing\n",
    "        d1= d0- np.median(d0)\n",
    "        d1 = copy.deepcopy(d0)\n",
    "        #d_full=hdul0[0].data\n",
    "        \n",
    "        #boxcar smooth to remove hot pixels\n",
    "\n",
    "        d = None\n",
    "        #d = ndimage.median_filter(d1, size=15)\n",
    "        d = copy.deepcopy(d0)\n",
    "        \n",
    "        #d_binned = rebin(d, [int(d.shape[0]/bin_size), int(d.shape[1]/bin_size)])\n",
    "\n",
    "\n",
    "        # Measure centroid (CofM)\n",
    "        #corner=np.array(center_of_ref)-side\n",
    "        #d_CofM = calc_CofM(d, corner) # y,x is 3179,923 (add y=20 gives 3160,923)\n",
    "        #print('Corner coor d_CofM {}'.format(d_CofM))\n",
    "        \n",
    "        #now without the reference\n",
    "        d_CofM = np.array(calc_CofM(d)) # y,x is 3179,923 (add y=20 gives 3160,923)\n",
    "        print('No corner d_CofM as calculated {}'.format(d_CofM))\n",
    "    \n",
    "        yoffset_to_center_of_ref = (d_CofM[0]-side)\n",
    "        xoffset_to_center_of_ref = (d_CofM[1]-side)\n",
    "        print('yoffset: {}'.format(yoffset_to_center_of_ref))\n",
    "        print('xoffset: {}'.format(xoffset_to_center_of_ref))\n",
    "        \n",
    "        new_center = np.array((center_of_ref[0]+yoffset_to_center_of_ref,\n",
    "                     center_of_ref[1]+xoffset_to_center_of_ref), dtype=int)\n",
    "        \n",
    "        print('new center is: {}'.format(new_center))\n",
    "        \n",
    "        stamp=None\n",
    "        stamp=np.array((raw_frame[new_center[0]-side:new_center[0]+side, \n",
    "                        new_center[1]-side:new_center[1]+side]))\n",
    "        \n",
    "        # Add it to the stack of doughnuts\n",
    "        focal_doughnut+=stamp\n",
    "\n",
    "        # Take the new center\n",
    "        center_of_ref = copy.deepcopy(new_center)\n",
    "        \n",
    "        # for troubleshooting\n",
    "        if i >= 5 and False: #7 is problematic\n",
    "            mag=1\n",
    "            print('Displaying image {}'.format(fname))\n",
    "            #plt.rcParams['figure.figsize'] = [7*mag, 6*mag]\n",
    "            #plt.imshow(d)\n",
    "            \n",
    "            fig, ax = plt.subplots(figsize=(7,6))\n",
    "\n",
    "            ax.imshow(d, interpolation='none')#, extent=[center_of_ref[1]+side,\n",
    "                                              #       center_of_ref[1]-side, \n",
    "                                              #       center_of_ref[0]+side,\n",
    "                                              #       center_of_ref[0]-side])\n",
    "            \n",
    "            fig2, ax2 = plt.subplots(figsize=(7,6))\n",
    "\n",
    "            ax2.imshow(stamp, interpolation='none')\n",
    "            \n",
    "            break\n",
    "            # show full frame\n",
    "            #fig, ax = plt.subplots(figsize=(7,6))\n",
    "            #ax.imshow(d_full, interpolation='none')\n",
    "            \n",
    "            #break\n",
    "            #ax.set_aspect(2) # you may also use am.imshow(..., aspect=\"auto\") to restore the aspect ratio\n",
    "        \n",
    "        # 1325681292-AlfPsA-0-10.fits  = 883, 3212\n",
    "        # 1325681293-AlfPsA-1-10.fits = 889, 3204\n",
    "        # 1325681293-AlfPsA-2-10.fits = 794, 3262"
   ]
  },
  {
   "cell_type": "code",
   "execution_count": 66,
   "metadata": {},
   "outputs": [],
   "source": [
    "hdu = fits.PrimaryHDU(focal_doughnut)\n",
    "hdul = fits.HDUList([hdu])\n",
    "hdul.writeto('/home/pingraham/tmp/I1_intra_20190908.fits', overwrite=False)\n"
   ]
  },
  {
   "cell_type": "code",
   "execution_count": 73,
   "metadata": {},
   "outputs": [],
   "source": [
    "hdu2 = fits.PrimaryHDU(stamp)\n",
    "hdul2 = fits.HDUList([hdu2])\n",
    "hdul2.writeto('/home/pingraham/tmp/I2_extra_20190908.fits', overwrite=True)"
   ]
  },
  {
   "cell_type": "code",
   "execution_count": 75,
   "metadata": {},
   "outputs": [
    {
     "data": {
      "text/plain": [
       "<matplotlib.image.AxesImage at 0x7f3e8fc4c080>"
      ]
     },
     "execution_count": 75,
     "metadata": {},
     "output_type": "execute_result"
    },
    {
     "data": {
      "image/png": "[encoded data removed]",
      "text/plain": [
       "<Figure size 504x432 with 1 Axes>"
      ]
     },
     "metadata": {
      "needs_background": "light"
     },
     "output_type": "display_data"
    }
   ],
   "source": [
    "fig, ax = plt.subplots(figsize=(7,6))\n",
    "ax.imshow(focal_doughnut, interpolation='none')"
   ]
  },
  {
   "cell_type": "code",
   "execution_count": null,
   "metadata": {},
   "outputs": [],
   "source": []
  },
  {
   "cell_type": "code",
   "execution_count": null,
   "metadata": {},
   "outputs": [],
   "source": [
    "# # try cross correlation\n",
    "# # read file into memory\n",
    "# #d1=extra_focal_fnames[0]\n",
    "# # align with other doughnut\n",
    "# bin_size=8\n",
    "# i=1\n",
    "# img_size=(3520, 4656) # y,x\n",
    "# #center_of_ref=[img_size[1]-3750,img_size[0]-420] # y,x\n",
    "# center_of_ref=(900, 3180) #(900, 3200)\n",
    "# print('Center of image 0 is: {}'.format(center_of_ref))\n",
    "# side=300\n",
    "# extra_focal_doughnut = np.empty((2*side, 2*side), dtype=float)\n",
    "\n",
    "# for i,fname in enumerate(extra_focal_fnames[0:2]):\n",
    "    \n",
    "#     with fits.open(data_folder / fname) as hdul0:\n",
    "#         # data is [y,x]\n",
    "#         d=np.array(hdul0[0].data[center_of_ref[0]-side:center_of_ref[0]+side, \n",
    "#                         center_of_ref[1]-side:center_of_ref[1]+side])\n",
    "#         #convert to float\n",
    "#         d=d.astype(float)\n",
    "#         # subtract median background... which should do nothing\n",
    "#         d-= np.median(d)\n",
    "#         #d_full=hdul0[0].data\n",
    "        \n",
    "        \n",
    "#         #d_binned = rebin(d, [int(d.shape[0]/bin_size), int(d.shape[1]/bin_size)])\n",
    "\n",
    "\n",
    "#         # Measure cross correlation\n",
    "#         if i != 0:\n",
    "#             from scipy import signal\n",
    "#             from scipy import misc\n",
    "\n",
    "#             corr = signal.correlate2d(d, stamp, boundary='fill', mode='same',\n",
    "#                                      fillvalue=np.median(d))\n",
    "#             y, x = np.unravel_index(np.argmax(corr), corr.shape) # find the match\n",
    "        \n",
    "        \n",
    "#         stamp=np.array(hdul0[0].data[center_of_ref[0]-side:center_of_ref[0]+side, \n",
    "#                         center_of_ref[1]-side:center_of_ref[1]+side])\n",
    "        \n",
    "#         extra_focal_doughnut+=stamp\n",
    "\n",
    "#         if True:\n",
    "#             mag=1\n",
    "#             print('Displaying image {}'.format(fname))\n",
    "#             #plt.rcParams['figure.figsize'] = [7*mag, 6*mag]\n",
    "#             #plt.imshow(d)\n",
    "            \n",
    "#             fig, ax = plt.subplots(figsize=(7,6))\n",
    "\n",
    "#             ax.imshow(d, interpolation='none')#, extent=[center_of_ref[1]+side,\n",
    "#                                               #       center_of_ref[1]-side, \n",
    "#                                               #       center_of_ref[0]+side,\n",
    "#                                               #       center_of_ref[0]-side])\n",
    "            \n",
    "#             fig, ax = plt.subplots(figsize=(7,6))\n",
    "\n",
    "#             ax.imshow(stamp, interpolation='none')\n",
    "            \n",
    "#             # show full frame\n",
    "#             #fig, ax = plt.subplots(figsize=(7,6))\n",
    "#             #ax.imshow(d_full, interpolation='none')\n",
    "            \n",
    "#             #break\n",
    "#             #ax.set_aspect(2) # you may also use am.imshow(..., aspect=\"auto\") to restore the aspect ratio\n",
    "        \n",
    "#         # 1325681292-AlfPsA-0-10.fits  = 883, 3212\n",
    "#         # 1325681293-AlfPsA-1-10.fits = 889, 3204\n",
    "#         # 1325681293-AlfPsA-2-10.fits = 794, 3262"
   ]
  },
  {
   "cell_type": "code",
   "execution_count": null,
   "metadata": {},
   "outputs": [],
   "source": [
    "corr"
   ]
  },
  {
   "cell_type": "code",
   "execution_count": null,
   "metadata": {},
   "outputs": [],
   "source": []
  },
  {
   "cell_type": "code",
   "execution_count": null,
   "metadata": {},
   "outputs": [],
   "source": [
    "d = salobj.Domain()\n",
    "ATArchiver = salobj.Remote(d, 'ATArchiver')\n",
    "await ATArchiver.start_task\n",
    "ATCamera = salobj.Remote(d, 'ATCamera')\n",
    "await ATCamera.start_task\n",
    "#ATMonochromator = salobj.Remote(SALPY_ATMonochromator)\n",
    "LinearStage1 = salobj.Remote(d, 'LinearStage',1)\n",
    "await LinearStage1.start_task"
   ]
  },
  {
   "cell_type": "markdown",
   "metadata": {},
   "source": [
    "### Leave this cell for state transitions "
   ]
  },
  {
   "cell_type": "code",
   "execution_count": null,
   "metadata": {},
   "outputs": [],
   "source": [
    "#  bring into enable state if required\n",
    "if True:\n",
    "    try:\n",
    "        await LinearStage1.cmd_enable.start(timeout=5)\n",
    "    except salobj.AckError as ack_err:\n",
    "        print(f\"Failed withs ack={ack_err.ackcmd.ack},ack.error={ack_err.ackcmd.error}, ackcmd.result={ack_err.ackcmd.result}\")\n",
    "else:\n",
    "    print('Ignoring')\n",
    "#asyncio.get_event_loop().run_until_complete(ATCamera.cmd_start.start())"
   ]
  },
  {
   "cell_type": "markdown",
   "metadata": {},
   "source": [
    "## Setup the Linear Stage (focuser)"
   ]
  },
  {
   "cell_type": "code",
   "execution_count": null,
   "metadata": {},
   "outputs": [],
   "source": [
    "pos=None\n",
    "pos=await LinearStage1.tel_position.next(flush=True, timeout=5)\n",
    "print('Current stage position is {:0.4f} [mm]'.format(pos.position))"
   ]
  },
  {
   "cell_type": "code",
   "execution_count": null,
   "metadata": {},
   "outputs": [],
   "source": [
    "# Home the stage (only necessary if power was off)\n",
    "if True:\n",
    "    try:\n",
    "        await LinearStage1.cmd_getHome.start(timeout=20)\n",
    "    except salobj.AckError as ack_err:\n",
    "        print(f\"Failed withs ack={ack_err.ackcmd.ack},ack.error={ack_err.ackcmd.error}, ackcmd.result={ack_err.ackcmd.result}\")\n",
    "else:\n",
    "    print('Ignoring')"
   ]
  },
  {
   "cell_type": "code",
   "execution_count": null,
   "metadata": {},
   "outputs": [],
   "source": [
    "# Move the stage to desired position\n",
    "lin_stage_pos=0.0 #33\n",
    "LinearStage1.cmd_moveAbsolute.set(distance=lin_stage_pos)\n",
    "try:\n",
    "    asyncio.get_event_loop().run_until_complete(LinearStage1.cmd_moveAbsolute.start())\n",
    "except salobj.AckError as ack_err:\n",
    "    print(f\"Failed withs ack={ack_err.ackcmd.ack},ack.error={ack_err.ackcmd.error}, ackcmd.result={ack_err.ackcmd.result}\")"
   ]
  },
  {
   "cell_type": "code",
   "execution_count": null,
   "metadata": {},
   "outputs": [],
   "source": [
    "# Create details for intra/extra focal image focus offsets\n",
    "wavelength=455\n",
    "focus_center=33.85 # for 632nm no filter, no grating\n",
    "focus_center = 27.5 # for 455nm no filter, no grating\n",
    "\n",
    "dx=27.0\n",
    "focus_demands = np.array((focus_center-dx, focus_center, focus_center+dx))\n",
    "#focus_vals = np.arange(68.4, 71.3, 0.3) - coarse\n",
    "print(focus_demands)"
   ]
  },
  {
   "cell_type": "code",
   "execution_count": null,
   "metadata": {},
   "outputs": [],
   "source": [
    "# Get images \n",
    "image_list=[]\n",
    "focus_vals=np.empty(len(focus_demands))\n",
    "for i,lin_stage_pos in enumerate(focus_demands):\n",
    "    #print('Beginning sweep at focus {} [mm]'.format(lin_stage_pos))\n",
    "    \n",
    "    # Move focus stage\n",
    "    LinearStage1.cmd_moveAbsolute.set(distance=lin_stage_pos)\n",
    "    try:\n",
    "        await LinearStage1.cmd_moveAbsolute.start()\n",
    "    except salobj.AckError as ack_err:\n",
    "        print(f\"Failed withs ack={ack_err.ackcmd.ack},ack.error={ack_err.ackcmd.error}, ackcmd.result={ack_err.ackcmd.result}\")\n",
    "    \n",
    "    # shouldn't have to do this but sometimes it pulls the wrong value, need to look into this\n",
    "    # will test when new version is released (imminent)\n",
    "    await asyncio.sleep(3.0)\n",
    "    focus_vals[i]=(await LinearStage1.tel_position.next(flush=True, timeout=5)).position\n",
    "    print('Linear stage demand {}, actual {}:'.format(lin_stage_pos, focus_vals[i]))\n",
    "    \n",
    "    # Take image with appropriate exposure times\n",
    "    group_id='Focus,wavelength = {},{}'.format(str(lin_stage_pos), str(wavelength))\n",
    "    #exptime=0.2 for 632 laser with ND4\n",
    "    #exptime=5 for 455nm LED ND3, but focused images saturates\n",
    "    if i != 1:\n",
    "        expTime = 5 # out of focus expTime\n",
    "    else:\n",
    "        expTime = 0.5\n",
    "    \n",
    "    ATCamera.cmd_takeImages.set(expTime=expTime, shutter=1, numImages=1, imageSequenceName=group_id)\n",
    "    ATCamera.evt_endReadout.flush()\n",
    "    try:\n",
    "        await ATCamera.cmd_takeImages.start()\n",
    "    except salobj.AckError as ack_err:\n",
    "        print(f\"Failed withs ack={ack_err.ackcmd.ack},ack.error={ack_err.ackcmd.error}, ackcmd.result={ack_err.ackcmd.result}\")\n",
    "\n",
    "    endReadout = await ATCamera.evt_endReadout.next(flush=False, timeout=30)\n",
    "    print('Wrote file {}'.format(endReadout.imageName) )\n",
    "    \n",
    "    image_list.append(endReadout.imageName)"
   ]
  },
  {
   "cell_type": "code",
   "execution_count": null,
   "metadata": {},
   "outputs": [],
   "source": [
    "for index, img in enumerate(image_list):\n",
    "    print('{}, {:0.2f}'.format(img, focus_vals[index]))"
   ]
  },
  {
   "cell_type": "code",
   "execution_count": null,
   "metadata": {},
   "outputs": [],
   "source": [
    "import importlib\n",
    "import utils.processExposure \n",
    "importlib.reload(utils.processExposure)\n",
    "from utils.processExposure import processExposure\n",
    "\n",
    "\n",
    "import utils.grabATImage \n",
    "importlib.reload(utils.grabATImage)\n",
    "from utils.grabATImage import grabATImage"
   ]
  },
  {
   "cell_type": "code",
   "execution_count": null,
   "metadata": {},
   "outputs": [],
   "source": [
    "# parse out visitID from filename - this is highly annoying\n",
    "tmp=endReadout.imageName.split('_')\n",
    "prefix=tmp[2] # dayobs without the dashes\n",
    "\n",
    "# Don't remember why I used int here... whitespace? \n",
    "# surely fixable but bigger fish.\n",
    "suffix='{:05d}'.format(int(tmp[3].split('-')[0])) # SEQNUM, but need to trim extra 0 in obsid\n",
    "visitID = int((prefix+suffix))\n",
    "dataId1 = {'visit': visitID}\n",
    "print(visitID)\n",
    "\n",
    "# Grab image from butler, but need to wait to ingestion so use this polling function\n",
    "exposure = await grabATImage(visitID, repo, timeout = 40, poll_freq_hz=2)\n",
    "\n",
    "# do ISR correction\n",
    "isr_corr_exposure = processExposure(exposure, repo=repo)"
   ]
  },
  {
   "cell_type": "code",
   "execution_count": null,
   "metadata": {},
   "outputs": [],
   "source": [
    "# Only here for me to debug, should be up top with other declarations\n",
    "import importlib\n",
    "import utils.findNarrowbandRonchiPeaks\n",
    "importlib.reload(utils.findNarrowbandRonchiPeaks)\n",
    "from utils.findNarrowbandRonchiPeaks import findNarrowbandRonchiPeaks\n",
    "\n",
    "import utils.fitExposure\n",
    "importlib.reload(utils.fitExposure)\n",
    "from utils.fitExposure import fit2DGaussian\n",
    "\n",
    "import utils.calc_CofM\n",
    "importlib.reload(utils.calc_CofM)\n",
    "from utils.calc_CofM import calc_CofM\n",
    "\n",
    "import utils.calc_encircled_energy\n",
    "importlib.reload(utils.calc_encircled_energy)\n",
    "from utils.calc_encircled_energy import calc_encircled_energy"
   ]
  },
  {
   "cell_type": "code",
   "execution_count": null,
   "metadata": {},
   "outputs": [],
   "source": [
    "# Source detection libraries\n",
    "from lsst.meas.algorithms.detection import SourceDetectionTask\n",
    "import lsst.afw.table as afwTable\n",
    "\n",
    "# create the output table for source detection\n",
    "schema = afwTable.SourceTable.makeMinimalSchema()\n",
    "config = SourceDetectionTask.ConfigClass()\n",
    "config.thresholdValue = 5  # detection threshold after smoothing\n",
    "sourceDetectionTask = SourceDetectionTask(schema=schema, config=config)"
   ]
  },
  {
   "cell_type": "code",
   "execution_count": null,
   "metadata": {},
   "outputs": [],
   "source": [
    "# I don't like looping but apparently there is no way to reduce multiple files from a notebook\n",
    "# Declare approximation of where the zero-order star is\n",
    "zeroth_order_estimate = lsst.geom.Point2D(1700,1960)\n",
    "zeroth_order_estimate = lsst.geom.Point2D(2075,2025) # low res grating\n",
    "zeroth_order_estimate = lsst.geom.Point2D(2260,2050) #empty (632)\n",
    "zeroth_order_estimate = lsst.geom.Point2D(2090,2220) #empty (455)\n",
    "zeroth_order_star_BBox= lsst.geom.Box2I.makeCenteredBox(zeroth_order_estimate, lsst.geom.Extent2I(200,200)) \n",
    "\n",
    "fit_data=[]\n",
    "visitIDs=[]\n",
    "\n",
    "for index, img_name in enumerate(image_list):\n",
    "    # parse out visitID from filename - this is highly annoying\n",
    "    print('Processing file {} of {}, filename={}'.format(index,len(image_list), img_name))\n",
    "    tmp=img_name.split('_')\n",
    "    prefix=tmp[2] # dayobs without the dashes\n",
    "    # Don't remember why I used int here... whitespace? \n",
    "    # surely fixable but bigger fish.\n",
    "    suffix='{:05d}'.format(int(tmp[3].split('-')[0])) # SEQNUM, but need to trim extra 0 in obsid\n",
    "    visitID = int((prefix+suffix))\n",
    "    visitIDs.append(visitID)\n",
    "    #dataId1 = {'visit': visitID}\n",
    "    #multi_file_dataset[i]['visitID']=visitID\n",
    "    \n",
    "    # Doing this if the source finding is failing\n",
    "    # \n",
    "    \n",
    "    continue\n",
    "    \n",
    "    #exposure = butler.get('raw', **dataId1)\n",
    "    exposure = await grabATImage(visitID, repo, timeout = 40, poll_freq_hz=2)\n",
    "    # do ISR correction\n",
    "    isr_corr_exposure = processExposure(exposure, repo=repo, defects=None) #bias=None\n",
    "    \n",
    "    # Find all sources in the image\n",
    "    tab = afwTable.SourceTable.make(schema)\n",
    "    # Find the correct sources using just a strip\n",
    "    search_center_pt = lsst.geom.Point2D(zeroth_order_estimate.getX(),2000)\n",
    "    search_strip = lsst.geom.Box2I.makeCenteredBox(search_center_pt, lsst.geom.Extent2I(500,3999)) \n",
    "    result = sourceDetectionTask.run(tab, isr_corr_exposure[search_strip], sigma=15.0)\n",
    "    \n",
    "    # wavelength solution is bad for the fiberSpectrograph, but close enough for this to work\n",
    "    # can use the monochromator wavelength which is better, but that's not the correct way in the long run\n",
    "\n",
    "    if True: # display the image in firefly\n",
    "        plt.close('all')\n",
    "        disp = afwDisplay.Display(2, reopenPlot=True)\n",
    "        disp.setMaskPlaneColor('SAT', afwDisplay.IGNORE)\n",
    "        disp.setImageColormap('gray')\n",
    "        disp.scale('linear', 'minmax')\n",
    "        peak0_subim = isr_corr_exposure.subset(zeroth_order_star_BBox)\n",
    "        disp.mtv(peak0_subim, title='visit = {}'.format(visitID))        \n",
    "        #disp.scale('linear', 'zscale')\n",
    "        #disp.mtv(isr_corr_exposure, title='visit = {}'.format(visitID))\n",
    "        #cgUtils.overlayCcdBoxes(isr_corr_exposure.getDetector(), isTrimmed=True, display=disp)\n",
    "        break\n",
    "        \n",
    "    \n",
    "    dispersion = (1/0.6358) # pixels/nm\n",
    "    spectral_position_angle=0.0107 # radians clockwise from top\n",
    "\n",
    "    # Find 0th and +/- 1 order peaks \n",
    "    sources = result.sources\n",
    "    dispersion=None\n",
    "    center_source = findNarrowbandRonchiPeaks(sources, zeroth_order_star_BBox, wavelength, dispersion, spectral_position_angle)\n",
    "#    center_source, peak1, peak2 = findNarrowbandRonchiPeaks(sources, zeroth_order_star_BBox, wavelength, dispersion, spectral_position_angle)\n",
    "    \n",
    "    # Fit peaks\n",
    "    # zeroth order\n",
    "    # variables names are weird here because I can't think of a clever way to have -1 and +1 as variable names\n",
    "    \n",
    "    bbox0 = lsst.geom.Box2I.makeCenteredBox(center_source.getFootprint().getCentroid(), lsst.geom.Extent2I(190,190)) \n",
    "    peak0_subim = isr_corr_exposure.subset(bbox0)\n",
    "    p0, x0 , y0 = fit2DGaussian(peak0_subim, plot=True)\n",
    "    p0_x_CofM, p0_y_CofM = calc_CofM(peak0_subim) # 2167,3372\n",
    "\n",
    "# Calculate EE and CofM\n",
    "    p0_EE_rad50_pix, p0_EE_rad67_pix, p0_EE_rad80_pix = calc_encircled_energy(peak0_subim, plot=False) \n",
    "    fit_data.append(p0_EE_rad80_pix)\n",
    "\n",
    "#     # offset to test\n",
    "#     bbox1 = lsst.geom.Box2I.makeCenteredBox(peak1.getFootprint().getCentroid(), lsst.geom.Extent2I(50,50)) \n",
    "#     peak1_subim = isr_corr_exposure.subset(bbox1)\n",
    "#     p1, x1 , y1 = fit2DGaussian(peak1_subim, plot=True)\n",
    "#     p1_x_CofM, p1_y_CofM = calc_CofM(peak1_subim) # 2167,3372\n",
    "#     fit_data.append(p1_EE_rad67_pix)\n"
   ]
  },
  {
   "cell_type": "code",
   "execution_count": null,
   "metadata": {},
   "outputs": [],
   "source": []
  },
  {
   "cell_type": "code",
   "execution_count": null,
   "metadata": {},
   "outputs": [],
   "source": [
    "from lsst.cwfs.instrument import Instrument\n",
    "from lsst.cwfs.algorithm import Algorithm\n",
    "from lsst.cwfs.image import Image, readFile\n",
    "import lsst.cwfs.plots as plots"
   ]
  },
  {
   "cell_type": "code",
   "execution_count": null,
   "metadata": {},
   "outputs": [],
   "source": []
  },
  {
   "cell_type": "code",
   "execution_count": null,
   "metadata": {},
   "outputs": [],
   "source": [
    "# Can declare visit IDs if you want to use old data\n",
    "# visitIDs=[2019090400066, 2019090400067, 2019090400068]"
   ]
  },
  {
   "cell_type": "code",
   "execution_count": null,
   "metadata": {},
   "outputs": [],
   "source": [
    "# get images \n",
    "intra_exposure = await grabATImage(visitIDs[0], repo, timeout = 40, poll_freq_hz=2)\n",
    "focus_exposure = await grabATImage(visitIDs[1], repo, timeout = 40, poll_freq_hz=2)\n",
    "extra_exposure = await grabATImage(visitIDs[2], repo, timeout = 40, poll_freq_hz=2)\n",
    "isr_corr_exposure_intra = processExposure(intra_exposure, repo=repo, defects=None) #bias=None\n",
    "isr_corr_exposure_focus = processExposure(focus_exposure, repo=repo, defects=None) #bias=None\n",
    "isr_corr_exposure_extra = processExposure(extra_exposure, repo=repo, defects=None) #bias=None"
   ]
  },
  {
   "cell_type": "code",
   "execution_count": null,
   "metadata": {},
   "outputs": [],
   "source": [
    "focus_center = lsst.geom.Point2D(2110,2250)\n",
    "intra_center = lsst.geom.Point2D(2090,2280)\n",
    "extra_center=lsst.geom.Point2D(2130,2230) ; \n",
    "bbox_focus= lsst.geom.Box2I.makeCenteredBox(focus_center, lsst.geom.Extent2I(160,160))\n",
    "bbox_intra= lsst.geom.Box2I.makeCenteredBox(intra_center, lsst.geom.Extent2I(160,160))\n",
    "bbox_extra= lsst.geom.Box2I.makeCenteredBox(extra_center, lsst.geom.Extent2I(160,160))\n"
   ]
  },
  {
   "cell_type": "code",
   "execution_count": null,
   "metadata": {},
   "outputs": [],
   "source": [
    "fieldXY = [0.0,0.0]\n",
    "I_focus = Image(isr_corr_exposure_focus.subset(bbox_focus).image.array, fieldXY, Image.EXTRA)\n",
    "I1 = Image(isr_corr_exposure_intra.subset(bbox_intra).image.array, fieldXY, Image.INTRA)\n",
    "I2 = Image(isr_corr_exposure_extra.subset(bbox_extra).image.array, fieldXY, Image.EXTRA)"
   ]
  },
  {
   "cell_type": "code",
   "execution_count": null,
   "metadata": {},
   "outputs": [],
   "source": [
    "hdu = fits.PrimaryHDU(isr_corr_exposure_intra.subset(bbox_intra).image.array)\n",
    "hdul = fits.HDUList([hdu])\n",
    "hdul.writeto('/home/saluser/develop/I1_intra.fits', overwrite=True)\n",
    "hdu2 = fits.PrimaryHDU(isr_corr_exposure_extra.subset(bbox_extra).image.array)\n",
    "hdul2 = fits.HDUList([hdu2])\n",
    "hdul2.writeto('/home/saluser/develop/I2_extra.fits', overwrite=True)"
   ]
  },
  {
   "cell_type": "code",
   "execution_count": null,
   "metadata": {},
   "outputs": [],
   "source": [
    "plots.plotImage(I1.image,'intra')\n",
    "plots.plotImage(I_focus.image,'focus')\n",
    "plots.plotImage(I2.image,'extra')"
   ]
  },
  {
   "cell_type": "code",
   "execution_count": null,
   "metadata": {},
   "outputs": [],
   "source": [
    "# declare instrument - example\n",
    "#inst=Instrument('lsst',I1.sizeinPix) # example"
   ]
  },
  {
   "cell_type": "code",
   "execution_count": null,
   "metadata": {},
   "outputs": [],
   "source": [
    "inst=Instrument('auxtel_simulator',I1.sizeinPix) # example"
   ]
  },
  {
   "cell_type": "code",
   "execution_count": null,
   "metadata": {},
   "outputs": [],
   "source": [
    "# declare algorithm - exponential\n",
    "algo=Algorithm('exp',inst,1) # example"
   ]
  },
  {
   "cell_type": "code",
   "execution_count": null,
   "metadata": {},
   "outputs": [],
   "source": [
    "algo.runIt(inst,I1,I2,'paraxial')"
   ]
  },
  {
   "cell_type": "code",
   "execution_count": null,
   "metadata": {},
   "outputs": [],
   "source": [
    "# run it - example\n",
    "#algo.runIt(inst,I1,I2,'offAxis')"
   ]
  },
  {
   "cell_type": "code",
   "execution_count": null,
   "metadata": {},
   "outputs": [],
   "source": [
    "#print zernikes\n",
    "print(algo.zer4UpNm)"
   ]
  },
  {
   "cell_type": "code",
   "execution_count": null,
   "metadata": {},
   "outputs": [],
   "source": [
    "# plot the zernikes\n",
    "plots.plotZer(algo.zer4UpNm[0:9],'nm')\n"
   ]
  },
  {
   "cell_type": "code",
   "execution_count": null,
   "metadata": {},
   "outputs": [],
   "source": []
  },
  {
   "cell_type": "code",
   "execution_count": null,
   "metadata": {},
   "outputs": [],
   "source": [
    "plots.plotImage(algo.Wconverge,'Final wavefront')"
   ]
  },
  {
   "cell_type": "code",
   "execution_count": null,
   "metadata": {},
   "outputs": [],
   "source": [
    "plots.plotImage(algo.Wconverge,'Final wavefront with pupil mask applied', mask=algo.pMask)"
   ]
  },
  {
   "cell_type": "code",
   "execution_count": null,
   "metadata": {},
   "outputs": [],
   "source": []
  },
  {
   "cell_type": "code",
   "execution_count": null,
   "metadata": {},
   "outputs": [],
   "source": [
    "# Basic math to estimate the expected result\n",
    "D=25e-3; wave=632e-9\n",
    "f_coll=125e-3; \n",
    "\n",
    "f_tel=400e-3 # 400mm nominal\n",
    "pinhole_diam=10e-6\n",
    "\n",
    "print('Diffraction Limit (f=125mm, D=25mm, wave=632nm) is: {0:3f} [um]'.format(1e6*wave/D*f_coll))\n",
    "mag=f_tel/f_coll\n",
    "print('Magnification is f_tel/f_col {}:'.format(mag))\n",
    "im_size=1e6*mag*pinhole_diam\n",
    "print('Expected image diameter for {0:3f} diameter pinhole: {1:3f} [um]'.format(pinhole_diam, im_size))\n",
    "print('80% EE radius in pixels ~{}'.format(im_size/2/10))"
   ]
  },
  {
   "cell_type": "code",
   "execution_count": null,
   "metadata": {},
   "outputs": [],
   "source": []
  }
 ],
 "metadata": {
  "kernelspec": {
   "display_name": "Python 3",
   "language": "python",
   "name": "python3"
  },
  "language_info": {
   "codemirror_mode": {
    "name": "ipython",
    "version": 3
   },
   "file_extension": ".py",
   "mimetype": "text/x-python",
   "name": "python",
   "nbconvert_exporter": "python",
   "pygments_lexer": "ipython3",
   "version": "3.7.4"
  }
 },
 "nbformat": 4,
 "nbformat_minor": 4
}
