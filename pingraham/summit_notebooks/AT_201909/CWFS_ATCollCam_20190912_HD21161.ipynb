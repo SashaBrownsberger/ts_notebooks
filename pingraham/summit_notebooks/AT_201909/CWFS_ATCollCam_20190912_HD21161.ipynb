{
 "cells": [
  {
   "cell_type": "markdown",
   "metadata": {},
   "source": [
    "### Notebook used to to measure collimation of the telescope using ATCollCam using the CWFS algorithm/package developed by Bo Xin.\n",
    "\n",
    "#### Now using fork by David Thomas: https://github.com/davidthomas5412/cwfs \n",
    "\n",
    "#### This requires that the parameter file for the CWFS algorithm be placed in the cwfs directory structure. "
   ]
  },
  {
   "cell_type": "code",
   "execution_count": null,
   "metadata": {},
   "outputs": [],
   "source": [
    "import numpy as np\n",
    "#from lsst.ts import salobj\n",
    "import asyncio\n",
    "from astropy.io import fits\n",
    "\n",
    "import warnings\n",
    "#import matplotlib.pyplot as plt  # imported as py above\n",
    "from astropy.modeling import models, fitting\n",
    "from scipy.ndimage.filters import gaussian_filter\n",
    "from scipy import ndimage\n",
    "from matplotlib import pyplot as plt\n",
    "#%matplotlib ipympl\n",
    "plt.rcParams['figure.figsize'] = [7, 6]\n",
    "\n",
    "\n",
    "import matplotlib.pyplot as plt\n",
    "%matplotlib inline\n",
    "import time\n",
    "\n",
    "import os\n",
    "import copy\n",
    "from pathlib import Path\n",
    "\n",
    "import logging\n",
    "logging.basicConfig(level=logging.INFO,\n",
    "                    format='%(asctime)s %(name)-12s %(levelname)-8s %(message)s')\n",
    "logger = logging.getLogger('image_display_notebook')\n"
   ]
  },
  {
   "cell_type": "code",
   "execution_count": 1,
   "metadata": {},
   "outputs": [
    {
     "ename": "ModuleNotFoundError",
     "evalue": "No module named 'pywt'",
     "output_type": "error",
     "traceback": [
      "\u001b[0;31m\u001b[0m",
      "\u001b[0;31mModuleNotFoundError\u001b[0mTraceback (most recent call last)",
      "\u001b[0;32m<ipython-input-1-d5a6e6aeeb00>\u001b[0m in \u001b[0;36m<module>\u001b[0;34m\u001b[0m\n\u001b[1;32m      3\u001b[0m \u001b[0;32mfrom\u001b[0m \u001b[0mlsst\u001b[0m\u001b[0;34m.\u001b[0m\u001b[0mcwfs\u001b[0m\u001b[0;34m.\u001b[0m\u001b[0minstrument\u001b[0m \u001b[0;32mimport\u001b[0m \u001b[0mInstrument\u001b[0m\u001b[0;34m\u001b[0m\u001b[0;34m\u001b[0m\u001b[0m\n\u001b[1;32m      4\u001b[0m \u001b[0;32mfrom\u001b[0m \u001b[0mlsst\u001b[0m\u001b[0;34m.\u001b[0m\u001b[0mcwfs\u001b[0m\u001b[0;34m.\u001b[0m\u001b[0malgorithm\u001b[0m \u001b[0;32mimport\u001b[0m \u001b[0mAlgorithm\u001b[0m\u001b[0;34m\u001b[0m\u001b[0;34m\u001b[0m\u001b[0m\n\u001b[0;32m----> 5\u001b[0;31m \u001b[0;32mfrom\u001b[0m \u001b[0mlsst\u001b[0m\u001b[0;34m.\u001b[0m\u001b[0mcwfs\u001b[0m\u001b[0;34m.\u001b[0m\u001b[0mimage\u001b[0m \u001b[0;32mimport\u001b[0m \u001b[0mImage\u001b[0m\u001b[0;34m,\u001b[0m \u001b[0mreadFile\u001b[0m\u001b[0;34m,\u001b[0m \u001b[0maperture2image\u001b[0m\u001b[0;34m,\u001b[0m \u001b[0mshowProjection\u001b[0m\u001b[0;34m\u001b[0m\u001b[0;34m\u001b[0m\u001b[0m\n\u001b[0m\u001b[1;32m      6\u001b[0m \u001b[0;32mimport\u001b[0m \u001b[0mlsst\u001b[0m\u001b[0;34m.\u001b[0m\u001b[0mcwfs\u001b[0m\u001b[0;34m.\u001b[0m\u001b[0mplots\u001b[0m \u001b[0;32mas\u001b[0m \u001b[0mplots\u001b[0m\u001b[0;34m\u001b[0m\u001b[0;34m\u001b[0m\u001b[0m\n",
      "\u001b[0;32m~/develop/cwfs/python/lsst/cwfs/image.py\u001b[0m in \u001b[0;36m<module>\u001b[0;34m\u001b[0m\n\u001b[1;32m     15\u001b[0m \u001b[0;32mimport\u001b[0m \u001b[0mscipy\u001b[0m\u001b[0;34m.\u001b[0m\u001b[0minterpolate\u001b[0m \u001b[0;32mas\u001b[0m \u001b[0minterpolate\u001b[0m\u001b[0;34m\u001b[0m\u001b[0;34m\u001b[0m\u001b[0m\n\u001b[1;32m     16\u001b[0m \u001b[0;32mfrom\u001b[0m \u001b[0mastropy\u001b[0m\u001b[0;34m.\u001b[0m\u001b[0mio\u001b[0m \u001b[0;32mimport\u001b[0m \u001b[0mfits\u001b[0m\u001b[0;34m\u001b[0m\u001b[0;34m\u001b[0m\u001b[0m\n\u001b[0;32m---> 17\u001b[0;31m \u001b[0;32mfrom\u001b[0m \u001b[0mskimage\u001b[0m \u001b[0;32mimport\u001b[0m \u001b[0mfilters\u001b[0m\u001b[0;34m\u001b[0m\u001b[0;34m\u001b[0m\u001b[0m\n\u001b[0m\u001b[1;32m     18\u001b[0m \u001b[0;32mfrom\u001b[0m \u001b[0mscipy\u001b[0m\u001b[0;34m.\u001b[0m\u001b[0mndimage\u001b[0m \u001b[0;32mimport\u001b[0m \u001b[0mcenter_of_mass\u001b[0m\u001b[0;34m\u001b[0m\u001b[0;34m\u001b[0m\u001b[0m\n\u001b[1;32m     19\u001b[0m \u001b[0;32mfrom\u001b[0m \u001b[0mscipy\u001b[0m\u001b[0;34m.\u001b[0m\u001b[0msignal\u001b[0m \u001b[0;32mimport\u001b[0m \u001b[0mcorrelate\u001b[0m\u001b[0;34m\u001b[0m\u001b[0;34m\u001b[0m\u001b[0m\n",
      "\u001b[0;32m/opt/lsst/software/stack/python/miniconda3-4.5.12/envs/lsst-scipipe-1172c30/lib/python3.7/site-packages/skimage/__init__.py\u001b[0m in \u001b[0;36m<module>\u001b[0;34m\u001b[0m\n\u001b[1;32m    133\u001b[0m                              \u001b[0mimg_as_bool\u001b[0m\u001b[0;34m,\u001b[0m\u001b[0;34m\u001b[0m\u001b[0;34m\u001b[0m\u001b[0m\n\u001b[1;32m    134\u001b[0m                              dtype_limits)\n\u001b[0;32m--> 135\u001b[0;31m     \u001b[0;32mfrom\u001b[0m \u001b[0;34m.\u001b[0m\u001b[0mdata\u001b[0m \u001b[0;32mimport\u001b[0m \u001b[0mdata_dir\u001b[0m\u001b[0;34m\u001b[0m\u001b[0;34m\u001b[0m\u001b[0m\n\u001b[0m\u001b[1;32m    136\u001b[0m     \u001b[0;32mfrom\u001b[0m \u001b[0;34m.\u001b[0m\u001b[0mutil\u001b[0m\u001b[0;34m.\u001b[0m\u001b[0mlookfor\u001b[0m \u001b[0;32mimport\u001b[0m \u001b[0mlookfor\u001b[0m\u001b[0;34m\u001b[0m\u001b[0;34m\u001b[0m\u001b[0m\n\u001b[1;32m    137\u001b[0m \u001b[0;34m\u001b[0m\u001b[0m\n",
      "\u001b[0;32m/opt/lsst/software/stack/python/miniconda3-4.5.12/envs/lsst-scipipe-1172c30/lib/python3.7/site-packages/skimage/data/__init__.py\u001b[0m in \u001b[0;36m<module>\u001b[0;34m\u001b[0m\n\u001b[1;32m     14\u001b[0m \u001b[0;32mfrom\u001b[0m \u001b[0;34m.\u001b[0m\u001b[0;34m.\u001b[0m\u001b[0m_shared\u001b[0m\u001b[0;34m.\u001b[0m\u001b[0m_warnings\u001b[0m \u001b[0;32mimport\u001b[0m \u001b[0mexpected_warnings\u001b[0m\u001b[0;34m,\u001b[0m \u001b[0mwarn\u001b[0m\u001b[0;34m\u001b[0m\u001b[0;34m\u001b[0m\u001b[0m\n\u001b[1;32m     15\u001b[0m \u001b[0;32mfrom\u001b[0m \u001b[0;34m.\u001b[0m\u001b[0;34m.\u001b[0m\u001b[0mutil\u001b[0m\u001b[0;34m.\u001b[0m\u001b[0mdtype\u001b[0m \u001b[0;32mimport\u001b[0m \u001b[0mimg_as_bool\u001b[0m\u001b[0;34m\u001b[0m\u001b[0;34m\u001b[0m\u001b[0m\n\u001b[0;32m---> 16\u001b[0;31m \u001b[0;32mfrom\u001b[0m \u001b[0;34m.\u001b[0m\u001b[0m_binary_blobs\u001b[0m \u001b[0;32mimport\u001b[0m \u001b[0mbinary_blobs\u001b[0m\u001b[0;34m\u001b[0m\u001b[0;34m\u001b[0m\u001b[0m\n\u001b[0m\u001b[1;32m     17\u001b[0m \u001b[0;32mfrom\u001b[0m \u001b[0;34m.\u001b[0m\u001b[0m_detect\u001b[0m \u001b[0;32mimport\u001b[0m \u001b[0mlbp_frontal_face_cascade_filename\u001b[0m\u001b[0;34m\u001b[0m\u001b[0;34m\u001b[0m\u001b[0m\n\u001b[1;32m     18\u001b[0m \u001b[0;34m\u001b[0m\u001b[0m\n",
      "\u001b[0;32m/opt/lsst/software/stack/python/miniconda3-4.5.12/envs/lsst-scipipe-1172c30/lib/python3.7/site-packages/skimage/data/_binary_blobs.py\u001b[0m in \u001b[0;36m<module>\u001b[0;34m\u001b[0m\n\u001b[1;32m      1\u001b[0m \u001b[0;32mimport\u001b[0m \u001b[0mnumpy\u001b[0m \u001b[0;32mas\u001b[0m \u001b[0mnp\u001b[0m\u001b[0;34m\u001b[0m\u001b[0;34m\u001b[0m\u001b[0m\n\u001b[0;32m----> 2\u001b[0;31m \u001b[0;32mfrom\u001b[0m \u001b[0;34m.\u001b[0m\u001b[0;34m.\u001b[0m\u001b[0mfilters\u001b[0m \u001b[0;32mimport\u001b[0m \u001b[0mgaussian\u001b[0m\u001b[0;34m\u001b[0m\u001b[0;34m\u001b[0m\u001b[0m\n\u001b[0m\u001b[1;32m      3\u001b[0m \u001b[0;34m\u001b[0m\u001b[0m\n\u001b[1;32m      4\u001b[0m \u001b[0;34m\u001b[0m\u001b[0m\n\u001b[1;32m      5\u001b[0m def binary_blobs(length=512, blob_size_fraction=0.1, n_dim=2,\n",
      "\u001b[0;32m/opt/lsst/software/stack/python/miniconda3-4.5.12/envs/lsst-scipipe-1172c30/lib/python3.7/site-packages/skimage/filters/__init__.py\u001b[0m in \u001b[0;36m<module>\u001b[0;34m\u001b[0m\n\u001b[1;32m      1\u001b[0m \u001b[0;32mfrom\u001b[0m \u001b[0;34m.\u001b[0m\u001b[0mlpi_filter\u001b[0m \u001b[0;32mimport\u001b[0m \u001b[0minverse\u001b[0m\u001b[0;34m,\u001b[0m \u001b[0mwiener\u001b[0m\u001b[0;34m,\u001b[0m \u001b[0mLPIFilter2D\u001b[0m\u001b[0;34m\u001b[0m\u001b[0;34m\u001b[0m\u001b[0m\n\u001b[1;32m      2\u001b[0m \u001b[0;32mfrom\u001b[0m \u001b[0;34m.\u001b[0m\u001b[0m_gaussian\u001b[0m \u001b[0;32mimport\u001b[0m \u001b[0mgaussian\u001b[0m\u001b[0;34m\u001b[0m\u001b[0;34m\u001b[0m\u001b[0m\n\u001b[0;32m----> 3\u001b[0;31m from .edges import (sobel, sobel_h, sobel_v,\n\u001b[0m\u001b[1;32m      4\u001b[0m                     \u001b[0mscharr\u001b[0m\u001b[0;34m,\u001b[0m \u001b[0mscharr_h\u001b[0m\u001b[0;34m,\u001b[0m \u001b[0mscharr_v\u001b[0m\u001b[0;34m,\u001b[0m\u001b[0;34m\u001b[0m\u001b[0;34m\u001b[0m\u001b[0m\n\u001b[1;32m      5\u001b[0m                     \u001b[0mprewitt\u001b[0m\u001b[0;34m,\u001b[0m \u001b[0mprewitt_h\u001b[0m\u001b[0;34m,\u001b[0m \u001b[0mprewitt_v\u001b[0m\u001b[0;34m,\u001b[0m\u001b[0;34m\u001b[0m\u001b[0;34m\u001b[0m\u001b[0m\n",
      "\u001b[0;32m/opt/lsst/software/stack/python/miniconda3-4.5.12/envs/lsst-scipipe-1172c30/lib/python3.7/site-packages/skimage/filters/edges.py\u001b[0m in \u001b[0;36m<module>\u001b[0;34m\u001b[0m\n\u001b[1;32m     15\u001b[0m \u001b[0;32mfrom\u001b[0m \u001b[0mscipy\u001b[0m\u001b[0;34m.\u001b[0m\u001b[0mndimage\u001b[0m \u001b[0;32mimport\u001b[0m \u001b[0mconvolve\u001b[0m\u001b[0;34m,\u001b[0m \u001b[0mbinary_erosion\u001b[0m\u001b[0;34m,\u001b[0m \u001b[0mgenerate_binary_structure\u001b[0m\u001b[0;34m\u001b[0m\u001b[0;34m\u001b[0m\u001b[0m\n\u001b[1;32m     16\u001b[0m \u001b[0;34m\u001b[0m\u001b[0m\n\u001b[0;32m---> 17\u001b[0;31m \u001b[0;32mfrom\u001b[0m \u001b[0;34m.\u001b[0m\u001b[0;34m.\u001b[0m\u001b[0mrestoration\u001b[0m\u001b[0;34m.\u001b[0m\u001b[0muft\u001b[0m \u001b[0;32mimport\u001b[0m \u001b[0mlaplacian\u001b[0m\u001b[0;34m\u001b[0m\u001b[0;34m\u001b[0m\u001b[0m\n\u001b[0m\u001b[1;32m     18\u001b[0m \u001b[0;34m\u001b[0m\u001b[0m\n\u001b[1;32m     19\u001b[0m \u001b[0mEROSION_SELEM\u001b[0m \u001b[0;34m=\u001b[0m \u001b[0mgenerate_binary_structure\u001b[0m\u001b[0;34m(\u001b[0m\u001b[0;36m2\u001b[0m\u001b[0;34m,\u001b[0m \u001b[0;36m2\u001b[0m\u001b[0;34m)\u001b[0m\u001b[0;34m\u001b[0m\u001b[0;34m\u001b[0m\u001b[0m\n",
      "\u001b[0;32m/opt/lsst/software/stack/python/miniconda3-4.5.12/envs/lsst-scipipe-1172c30/lib/python3.7/site-packages/skimage/restoration/__init__.py\u001b[0m in \u001b[0;36m<module>\u001b[0;34m\u001b[0m\n\u001b[1;32m      5\u001b[0m \u001b[0;32mfrom\u001b[0m \u001b[0;34m.\u001b[0m\u001b[0mdeconvolution\u001b[0m \u001b[0;32mimport\u001b[0m \u001b[0mwiener\u001b[0m\u001b[0;34m,\u001b[0m \u001b[0munsupervised_wiener\u001b[0m\u001b[0;34m,\u001b[0m \u001b[0mrichardson_lucy\u001b[0m\u001b[0;34m\u001b[0m\u001b[0;34m\u001b[0m\u001b[0m\n\u001b[1;32m      6\u001b[0m \u001b[0;32mfrom\u001b[0m \u001b[0;34m.\u001b[0m\u001b[0munwrap\u001b[0m \u001b[0;32mimport\u001b[0m \u001b[0munwrap_phase\u001b[0m\u001b[0;34m\u001b[0m\u001b[0;34m\u001b[0m\u001b[0m\n\u001b[0;32m----> 7\u001b[0;31m from ._denoise import (denoise_tv_chambolle, denoise_tv_bregman,\n\u001b[0m\u001b[1;32m      8\u001b[0m                        denoise_bilateral, denoise_wavelet, estimate_sigma)\n\u001b[1;32m      9\u001b[0m \u001b[0;32mfrom\u001b[0m \u001b[0;34m.\u001b[0m\u001b[0m_cycle_spin\u001b[0m \u001b[0;32mimport\u001b[0m \u001b[0mcycle_spin\u001b[0m\u001b[0;34m\u001b[0m\u001b[0;34m\u001b[0m\u001b[0m\n",
      "\u001b[0;32m/opt/lsst/software/stack/python/miniconda3-4.5.12/envs/lsst-scipipe-1172c30/lib/python3.7/site-packages/skimage/restoration/_denoise.py\u001b[0m in \u001b[0;36m<module>\u001b[0;34m\u001b[0m\n\u001b[1;32m      6\u001b[0m \u001b[0;32mfrom\u001b[0m \u001b[0;34m.\u001b[0m\u001b[0m_denoise_cy\u001b[0m \u001b[0;32mimport\u001b[0m \u001b[0m_denoise_bilateral\u001b[0m\u001b[0;34m,\u001b[0m \u001b[0m_denoise_tv_bregman\u001b[0m\u001b[0;34m\u001b[0m\u001b[0;34m\u001b[0m\u001b[0m\n\u001b[1;32m      7\u001b[0m \u001b[0;32mfrom\u001b[0m \u001b[0;34m.\u001b[0m\u001b[0;34m.\u001b[0m\u001b[0m_shared\u001b[0m\u001b[0;34m.\u001b[0m\u001b[0mutils\u001b[0m \u001b[0;32mimport\u001b[0m \u001b[0mwarn\u001b[0m\u001b[0;34m\u001b[0m\u001b[0;34m\u001b[0m\u001b[0m\n\u001b[0;32m----> 8\u001b[0;31m \u001b[0;32mimport\u001b[0m \u001b[0mpywt\u001b[0m\u001b[0;34m\u001b[0m\u001b[0;34m\u001b[0m\u001b[0m\n\u001b[0m\u001b[1;32m      9\u001b[0m \u001b[0;32mimport\u001b[0m \u001b[0mskimage\u001b[0m\u001b[0;34m.\u001b[0m\u001b[0mcolor\u001b[0m \u001b[0;32mas\u001b[0m \u001b[0mcolor\u001b[0m\u001b[0;34m\u001b[0m\u001b[0;34m\u001b[0m\u001b[0m\n\u001b[1;32m     10\u001b[0m \u001b[0;32mimport\u001b[0m \u001b[0mnumbers\u001b[0m\u001b[0;34m\u001b[0m\u001b[0;34m\u001b[0m\u001b[0m\n",
      "\u001b[0;31mModuleNotFoundError\u001b[0m: No module named 'pywt'"
     ]
    }
   ],
   "source": [
    "#Import CWFS package\n",
    "from lsst import cwfs\n",
    "from lsst.cwfs.instrument import Instrument\n",
    "from lsst.cwfs.algorithm import Algorithm\n",
    "from lsst.cwfs.image import Image, readFile, aperture2image, showProjection\n",
    "import lsst.cwfs.plots as plots"
   ]
  },
  {
   "cell_type": "code",
   "execution_count": null,
   "metadata": {},
   "outputs": [],
   "source": []
  },
  {
   "cell_type": "code",
   "execution_count": null,
   "metadata": {},
   "outputs": [],
   "source": [
    "import numpy as np\n",
    "import logging\n",
    "logger = logging.getLogger('calc_CofM_logger')\n",
    "\n",
    "# declare Centroiding algorithm\n",
    "def calc_CofM(array, offset=(0,0)):\n",
    "    # Function takes a a 2d Array and computes the CofM\n",
    "    \n",
    "    # offset is the coordinate of the minimum y and x pixel\n",
    "    \n",
    "    \n",
    "    #just make it easier to parse the code below\n",
    "    shape=array.shape\n",
    "        \n",
    "    # Build 2d index arrays for calculations\n",
    "    pix_index_1d_arr=np.arange(0, shape[0], 1)+ offset[0]\n",
    "    ones_array_2d=np.ones([shape[1], shape[0]])\n",
    "    y_index_arr_2d=np.transpose(pix_index_1d_arr*ones_array_2d)\n",
    "    \n",
    "    # Can't just use the transpose of the y_index_arr_2d\n",
    "    # since we're supporting non-symmetrical arrays\n",
    "    pix_index_1d_arr=np.arange(0, shape[1], 1) + offset[1]\n",
    "    ones_array_2d=np.ones([shape[0], shape[1]])\n",
    "    # array will be left to right so need to transpose\n",
    "    x_index_arr_2d=pix_index_1d_arr*ones_array_2d\n",
    "\n",
    "    # Calculate the centroid\n",
    "    y_CofM = np.sum(y_index_arr_2d*array)/np.sum(array)\n",
    "    x_CofM = np.sum(x_index_arr_2d*array)/np.sum(array)\n",
    "    \n",
    "    logger.info('y_CofM is {}'.format(y_CofM))\n",
    "    logger.info('x_CofM is {}'.format(x_CofM))\n",
    "\n",
    "    return(y_CofM, x_CofM)"
   ]
  },
  {
   "cell_type": "code",
   "execution_count": null,
   "metadata": {},
   "outputs": [],
   "source": [
    "# This is just used to test the CofM algorithm.\n",
    "def make_circle(yxdims, radius, center=None):\n",
    "    \n",
    "    #Creates a circle where the internal pixels equal 1 and the rest are zero\n",
    "    \n",
    "    #dims is y,x dimensions\n",
    "    \n",
    "    # If center isn't declared then put it at the center of the box\n",
    "    if center==None:\n",
    "        center=(yxdims[0]/2, yxdims[1]/2)\n",
    "    \n",
    "    # Build 2d index arrays for calculations\n",
    "    pix_index_1d_arr=np.arange(0, yxdims[1] , 1) - center[1]\n",
    "    ones_array_2d=np.ones((yxdims[0], yxdims[1]))\n",
    "    x_index_arr_2d=pix_index_1d_arr*ones_array_2d\n",
    "    \n",
    "    # Can't just transpose x-indice array since we're supporting non-symmetrical arrays\n",
    "    pix_index_1d_arr=np.arange(0, yxdims[0], 1) - center[0]\n",
    "    ones_array_2d=np.ones((yxdims[1],yxdims[0]))\n",
    "    # array will be left to right so need to transpose\n",
    "    y_index_arr_2d=np.transpose(pix_index_1d_arr*ones_array_2d)\n",
    "    \n",
    "    # creates an array with a given side, and a circle of radius x and position xy\n",
    "    r_arr= np.sqrt(y_index_arr_2d**2 + x_index_arr_2d**2)\n",
    "    \n",
    "    arr=np.zeros((yxdims[0],yxdims[1]) ,dtype=float)\n",
    "    \n",
    "    arr[r_arr < radius] = 1\n",
    "    return(arr)"
   ]
  },
  {
   "cell_type": "code",
   "execution_count": null,
   "metadata": {},
   "outputs": [],
   "source": [
    "# Testing the CofM code\n",
    "if False:\n",
    "    center=(1400,750)\n",
    "    stamp=make_circle((2500,1400), 100, center=center)\n",
    "\n",
    "    calc_CofM(stamp)\n",
    "\n",
    "    # Now try with subimage and reference to corner\n",
    "    side=300\n",
    "    guess_center = np.array((1550, 610))\n",
    "    stamp2= stamp[guess_center[0]-side:guess_center[0]+side, \n",
    "                  guess_center[1]-side:guess_center[1]+side].copy()\n",
    "    calc_CofM(stamp2, offset=(guess_center-side))\n",
    "\n",
    "    if False:\n",
    "        fig, ax = plt.subplots(figsize=(7,6))\n",
    "        ax.imshow(stamp, interpolation='none')\n",
    "        stamp.shape\n",
    "\n",
    "        fig2, ax2 = plt.subplots(figsize=(7,6))\n",
    "        ax2.imshow(stamp2, interpolation='none')\n",
    "        stamp2.shape"
   ]
  },
  {
   "cell_type": "code",
   "execution_count": null,
   "metadata": {},
   "outputs": [],
   "source": []
  },
  {
   "cell_type": "markdown",
   "metadata": {},
   "source": [
    "### Declare data directories and intra/extra raw file lists"
   ]
  },
  {
   "cell_type": "code",
   "execution_count": null,
   "metadata": {},
   "outputs": [],
   "source": [
    "# Declare where data is located and where output will be written, notably the stacked doughnuts\n",
    "data_folder = Path(\"/home/saluser/data/20190912\")\n",
    "output_folder = Path(\"/home/saluser/data/output\")\n",
    "\n",
    "# Extrafocal raw image list from a manually made txt file\n",
    "file_to_open = data_folder / \"HD21161_d05_extra_set.dat\"\n",
    "tmp=file_to_open.read_text()\n",
    "extra_focal_fnames=tmp.split('\\n')\n",
    "# remove last line as it has just .fits\n",
    "extra_focal_fnames.remove(extra_focal_fnames[-1])\n",
    "\n",
    "# Since sometimes i get sent lists with or without .fits!\n",
    "# this can surely be done in a single line...\n",
    "if extra_focal_fnames[0].find('fits') == -1:\n",
    "    for i,f in enumerate(extra_focal_fnames):\n",
    "        extra_focal_fnames[i]+='.fits'\n",
    "extra_focal_fnames"
   ]
  },
  {
   "cell_type": "code",
   "execution_count": null,
   "metadata": {},
   "outputs": [],
   "source": [
    "# Intrafocal raw image list from a manually made txt file\n",
    "file_to_open = data_folder / \"HD21161_d05_intra_set.dat\"\n",
    "tmp=file_to_open.read_text()\n",
    "intra_focal_fnames=tmp.split('\\n')\n",
    "# remove last line as it has just .fits\n",
    "intra_focal_fnames.remove(intra_focal_fnames[-1])\n",
    "\n",
    "# Since sometimes i get sent lists with or without .fits!\n",
    "# this can surely be done in a single line...\n",
    "if intra_focal_fnames[0].find('fits') == -1:\n",
    "    for i,f in enumerate(intra_focal_fnames):\n",
    "        intra_focal_fnames[i]+='.fits'\n",
    "intra_focal_fnames"
   ]
  },
  {
   "cell_type": "code",
   "execution_count": null,
   "metadata": {},
   "outputs": [],
   "source": []
  },
  {
   "cell_type": "code",
   "execution_count": null,
   "metadata": {},
   "outputs": [],
   "source": []
  },
  {
   "cell_type": "code",
   "execution_count": null,
   "metadata": {},
   "outputs": [],
   "source": [
    "# Function to rebin the arrays, not used at the moment but may be\n",
    "# Example is: \n",
    "# binsize=8\n",
    "#d_binned = rebin(d, [int(d.shape[0]/bin_size), int(d.shape[1]/bin_size)])\n",
    "\n",
    "def rebin(arr, new_shape):\n",
    "    shape = (new_shape[0], arr.shape[0] // new_shape[0],\n",
    "             new_shape[1], arr.shape[1] // new_shape[1])\n",
    "    return arr.reshape(shape).mean(-1).mean(1)"
   ]
  },
  {
   "cell_type": "markdown",
   "metadata": {},
   "source": [
    "## Loop over stack of images, centering to account for jitter then adding to create long-exposure doughnut\n",
    "### Must verify if building intra or extra!"
   ]
  },
  {
   "cell_type": "code",
   "execution_count": null,
   "metadata": {},
   "outputs": [],
   "source": [
    "# Select if you want to make intra or extra-focal image\n",
    "intra=1 #True\n",
    "if intra == True:\n",
    "    focal_fnames = intra_focal_fnames\n",
    "else:\n",
    "    focal_fnames = extra_focal_fnames\n",
    "\n",
    "# get image size and guesstimate the location but just doing a centroid of entire image\n",
    "img_size=None\n",
    "with fits.open(data_folder / focal_fnames[0]) as hdul0:\n",
    "    img_size= (hdul0[0].data).shape\n",
    "    CofM_estimate = np.array(calc_CofM(hdul0[0].data)) # y,x i\n",
    "\n",
    "    CofM_estimate=CofM_estimate.astype(int)\n",
    "    \n",
    "print('Image size is {}'.format(img_size))\n",
    "print('CofM estimate is {}'.format(CofM_estimate))"
   ]
  },
  {
   "cell_type": "code",
   "execution_count": null,
   "metadata": {},
   "outputs": [],
   "source": [
    "# override of size of image array - watch out for binning!\n",
    "#img_size=(3520, 4656) # y,x\n",
    "#img_size=(880, 1164)\n",
    "\n",
    "# Guess of doughnut location of first image\n",
    "center_of_ref = (np.round(CofM_estimate[1]), np.round(CofM_estimate[0])) # FIXME: axis mis-match ?!?!\n",
    "# or override \n",
    "center_of_ref=(400, 600)\n",
    "logger.info('Center of image 0 is set as: {}'.format(center_of_ref))\n",
    "\n",
    "# Declare sub-array size for centroiding\n",
    "side=None\n",
    "side=150\n",
    "#Declare array for final doughnut\n",
    "focal_doughnut = None\n",
    "focal_doughnut = np.zeros((2*side, 2*side), dtype=float)\n",
    "\n",
    "#reset a bunch of variables because I don't see where the memory issue is.\n",
    "d=None; d0=None; d1=None\n",
    "\n",
    "#Loop over all files in list\n",
    "for i,fname in enumerate(focal_fnames):\n",
    "    \n",
    "    with fits.open(data_folder / fname) as hdul0:\n",
    "        logger.info(\"Processing file {}\".format(fname))\n",
    "        # data is [y,x]\n",
    "\n",
    "        #For testing\n",
    "        #circle = make_circle(img_size, radius=20, center=(900,3080))\n",
    "        #print('shape of circle: {}'.format(circle.shape))\n",
    "        \n",
    "        d0=None        \n",
    "        raw_frame = None\n",
    "        #raw_frame = circle\n",
    "        raw_frame = copy.deepcopy(hdul0[0].data)\n",
    "        \n",
    "        # Create subimage\n",
    "        d0=raw_frame[center_of_ref[0]-side:center_of_ref[0]+side, \n",
    "                        center_of_ref[1]-side:center_of_ref[1]+side].copy()\n",
    "        \n",
    "        #convert to float\n",
    "        d0=copy.deepcopy(d0.astype(float))\n",
    "        logger.debug('shape of d0: {}'.format(d0.shape))\n",
    "\n",
    "        # subtract median background... which should do nothing to the centroid\n",
    "        #d1= d0- np.median(d0)\n",
    "        #d1 = copy.deepcopy(d0)\n",
    "        #d_full=hdul0[0].data\n",
    "        \n",
    "        #boxcar smooth to remove hot pixels\n",
    "        d = None\n",
    "        #d = ndimage.median_filter(d1, size=15)\n",
    "        d = copy.deepcopy(d0)\n",
    "        \n",
    "        # Measure centroid (CofM)\n",
    "        #corner=np.array(center_of_ref)-side\n",
    "        #d_CofM = calc_CofM(d, corner) # y,x is 3179,923 (add y=20 gives 3160,923)\n",
    "        #print('Corner coor d_CofM {}'.format(d_CofM))\n",
    "        \n",
    "        #now without the reference\n",
    "        d_CofM=None\n",
    "        d_CofM = np.array(calc_CofM(d)) # y,x is 3179,923 (add y=20 gives 3160,923)\n",
    "        logger.debug('No corner correction d_CofM as calculated {}'.format(d_CofM))\n",
    "    \n",
    "        yoffset_to_center_of_ref = (d_CofM[0]-side)\n",
    "        xoffset_to_center_of_ref = (d_CofM[1]-side)\n",
    "        logger.info('yoffset: {}'.format(yoffset_to_center_of_ref))\n",
    "        logger.info('xoffset: {}'.format(xoffset_to_center_of_ref))\n",
    "        \n",
    "        new_center = None\n",
    "        new_center = np.array((center_of_ref[0]+yoffset_to_center_of_ref, center_of_ref[1]+xoffset_to_center_of_ref), dtype=int)\n",
    "        \n",
    "        logger.debug('new center is: {}'.format(new_center))\n",
    "        \n",
    "        # Create new stamp at CofM\n",
    "        stamp=None\n",
    "        stamp=raw_frame[new_center[0]-side:new_center[0]+side, \n",
    "                        new_center[1]-side:new_center[1]+side].copy()\n",
    "        \n",
    "        # Add it to the stack of doughnuts\n",
    "        focal_doughnut0=copy.deepcopy(focal_doughnut)\n",
    "        focal_doughnut+=stamp\n",
    "\n",
    "        # Take the new center and use it as first guess at\n",
    "        # position for next image\n",
    "        center_of_ref = copy.deepcopy(new_center)\n",
    "        \n",
    "        # Display Imagefor troubleshooting (or finding first center)\n",
    "        if i >= 3 and False: #7 is problematic\n",
    "            mag=1\n",
    "            print('Displaying image {}'.format(fname))\n",
    "            #plt.rcParams['figure.figsize'] = [7*mag, 6*mag]\n",
    "            #plt.imshow(d)\n",
    "            \n",
    "            fig, ax = plt.subplots(figsize=(7,6))\n",
    "            ax.imshow(d, interpolation='none')#, extent=[center_of_ref[1]+side,\n",
    "                                              #       center_of_ref[1]-side, \n",
    "                                              #       center_of_ref[0]+side,\n",
    "                                              #       center_of_ref[0]-side])\n",
    "            \n",
    "            fig2, ax2 = plt.subplots(figsize=(7,6))\n",
    "            ax2.imshow(stamp, interpolation='none')\n",
    "            \n",
    "            fig3, ax3 = plt.subplots(figsize=(7,6))\n",
    "            ax3.imshow(focal_doughnut, interpolation='none')\n",
    "            \n",
    "            # show full frame\n",
    "            #fig, ax = plt.subplots(figsize=(7,6))\n",
    "            #ax.imshow(d_full, interpolation='none')\n",
    "            \n",
    "            break"
   ]
  },
  {
   "cell_type": "code",
   "execution_count": null,
   "metadata": {},
   "outputs": [],
   "source": []
  },
  {
   "cell_type": "code",
   "execution_count": null,
   "metadata": {},
   "outputs": [],
   "source": [
    "# view rawframe - sometimes useful to find approximate location\n",
    "#fig, ax = plt.subplots(figsize=(7,6))\n",
    "#ax.imshow(raw_frame, interpolation='none')"
   ]
  },
  {
   "cell_type": "raw",
   "metadata": {},
   "source": []
  },
  {
   "cell_type": "code",
   "execution_count": null,
   "metadata": {},
   "outputs": [],
   "source": [
    "# Show final stacked doughnut\n",
    "fig4, ax4 = plt.subplots(figsize=(7,6))\n",
    "ax4.imshow(focal_doughnut, interpolation='none')"
   ]
  },
  {
   "cell_type": "code",
   "execution_count": null,
   "metadata": {},
   "outputs": [],
   "source": [
    "#Write fits files (if you want)\n",
    "# FIXME: need better auto-naming convention!\n",
    "intra_fname='I1_intra_20190912_HD21161_z05.fits'\n",
    "extra_fname='I2_extra_20190912_HD21161_z05.fits'\n",
    "\n",
    "# Set as true to write frames!\n",
    "if False:\n",
    "    hdu=None\n",
    "    hdu = fits.PrimaryHDU(focal_doughnut)\n",
    "    hdul = fits.HDUList([hdu])\n",
    "    if intra == True:\n",
    "        print('writing intra file {}'.format(intra_fname))\n",
    "        hdul.writeto(output_folder / intra_fname, overwrite=True)\n",
    "    else:\n",
    "\n",
    "        print('writing extra file {}'.format(extra_fname))\n",
    "        hdul.writeto(output_folder / extra_fname, overwrite=True)"
   ]
  },
  {
   "cell_type": "code",
   "execution_count": null,
   "metadata": {},
   "outputs": [],
   "source": []
  },
  {
   "cell_type": "code",
   "execution_count": null,
   "metadata": {},
   "outputs": [],
   "source": [
    "# Open fits files, note you can start here if your files exist already\n",
    "\n",
    "#intra_fname='I1_intra_20190908.fits'\n",
    "intra_exp=(fits.open(output_folder / intra_fname))[0].data\n",
    "\n",
    "#extra_fname='I2_extra_20190908.fits'\n",
    "extra_exp=(fits.open(output_folder / extra_fname))[0].data"
   ]
  },
  {
   "cell_type": "code",
   "execution_count": null,
   "metadata": {},
   "outputs": [],
   "source": []
  },
  {
   "cell_type": "code",
   "execution_count": null,
   "metadata": {},
   "outputs": [],
   "source": [
    "#Create object for CWFS code\n",
    "# Select where your object is, but ours will be on-axis\n",
    "fieldXY = [0.0,0.0]\n",
    "\n",
    "# I1/I2 get modified down below, so reset here\n",
    "I1 = None; I2=None\n",
    "I1 = Image(intra_exp, fieldXY, Image.INTRA)\n",
    "I2 = Image(extra_exp, fieldXY, Image.EXTRA)"
   ]
  },
  {
   "cell_type": "markdown",
   "metadata": {},
   "source": [
    "## Load instrument profile from \"/home/saluser/develop/cwfs/data/auxtel\"\n",
    "### Make sure pixelSize and offset are correct for the dataset! \n",
    "### You *must* modify the file and not the loaded object!!!"
   ]
  },
  {
   "cell_type": "code",
   "execution_count": null,
   "metadata": {},
   "outputs": [],
   "source": [
    "# Declare instrument\n",
    "inst=Instrument('auxtel',I1.sizeinPix) # example\n",
    "hex_to_focus_scale = 41.0\n",
    "offset=0.5 *hex_to_focus_scale # [mm] multiply hexapod dz by magnification factor\n",
    "pixelsize = 3.6e-6*4 # 4 is the binning\n",
    "# FIXME: put an assertion here and calculate binning above based on change in image size, also pull offset from filename!\n",
    "\n",
    "print('Offset should be :{} [mm] at the focus, {} [mm] at the hexapod'.format(offset, offset/hex_to_focus_scale))\n",
    "print('Offset in file is :{} [mm] at the focus'.format(1e3*inst.offset))\n",
    "print('pixelSize should be: {}'.format(pixelsize))\n",
    "#declare algorithm\n",
    "# declare algorithm - exponential solver.\n",
    "algo=Algorithm('exp',inst,1) # example\n"
   ]
  },
  {
   "cell_type": "code",
   "execution_count": null,
   "metadata": {},
   "outputs": [],
   "source": [
    "# Plot images\n",
    "plots.plotImage(I1.image,'intra') \n",
    "#plots.plotImage(I_focus.image,'focus')\n",
    "plots.plotImage(I2.image,'extra')"
   ]
  },
  {
   "cell_type": "code",
   "execution_count": null,
   "metadata": {},
   "outputs": [],
   "source": []
  },
  {
   "cell_type": "code",
   "execution_count": null,
   "metadata": {},
   "outputs": [],
   "source": [
    "# Calculate zernikes and wavefront\n",
    "algo.runIt(inst,I1,I2,'onAxis')"
   ]
  },
  {
   "cell_type": "code",
   "execution_count": null,
   "metadata": {},
   "outputs": [],
   "source": [
    "#print zernikes\n",
    "print(algo.zer4UpNm)"
   ]
  },
  {
   "cell_type": "code",
   "execution_count": null,
   "metadata": {},
   "outputs": [],
   "source": [
    "# plot the zernikes\n",
    "plots.plotZer(algo.zer4UpNm[0:9],'nm')"
   ]
  },
  {
   "cell_type": "code",
   "execution_count": null,
   "metadata": {},
   "outputs": [],
   "source": [
    "# Plot images with masks to check mapping is correct\n",
    "# I think these plot residuals\n",
    "plots.plotImage(I1.image,'intra', mask=algo.pMask) \n",
    "#plots.plotImage(I_focus.image,'focus')\n",
    "plots.plotImage(I2.image,'extra', mask=algo.pMask)"
   ]
  },
  {
   "cell_type": "code",
   "execution_count": null,
   "metadata": {},
   "outputs": [],
   "source": []
  },
  {
   "cell_type": "code",
   "execution_count": null,
   "metadata": {},
   "outputs": [],
   "source": [
    "plots.plotImage(algo.Wconverge,'Final wavefront')"
   ]
  },
  {
   "cell_type": "code",
   "execution_count": null,
   "metadata": {},
   "outputs": [],
   "source": [
    "plots.plotImage(algo.Wconverge,'Final wavefront with pupil mask applied', mask=algo.pMask)"
   ]
  },
  {
   "cell_type": "code",
   "execution_count": null,
   "metadata": {},
   "outputs": [],
   "source": []
  },
  {
   "cell_type": "code",
   "execution_count": null,
   "metadata": {},
   "outputs": [],
   "source": [
    "# Look at estimated wavefront and residual of wavefront that is not well fit\n",
    "nanMask = np.ones(I1.image.shape)\n",
    "nanMask[I1.pMask==0] = np.nan\n",
    "fig, ax = plt.subplots(1,2, figsize=[10,4])\n",
    "img = ax[0].imshow(algo.Wconverge*nanMask, origin='lower')\n",
    "ax[0].set_title('Final WF = estimated + residual')\n",
    "fig.colorbar(img, ax=ax[0])\n",
    "img = ax[1].imshow(algo.West*nanMask, origin='lower')\n",
    "ax[1].set_title('residual wavefront')\n",
    "fig.colorbar(img, ax=ax[1])"
   ]
  },
  {
   "cell_type": "code",
   "execution_count": null,
   "metadata": {},
   "outputs": [],
   "source": [
    "# Plot the residuals at each image - ideally they would be a constant\n",
    "fig, ax = plt.subplots(1,2, figsize=[10,4])\n",
    "img = ax[0].imshow(I1.image, origin='lower')\n",
    "ax[0].set_title('Intra residual image')\n",
    "fig.colorbar(img, ax=ax[0])\n",
    "img = ax[1].imshow(I2.image, origin='lower')\n",
    "ax[1].set_title('Extra residual image')\n",
    "fig.colorbar(img, ax=ax[1])"
   ]
  },
  {
   "cell_type": "markdown",
   "metadata": {},
   "source": [
    "#### Now we do the forward raytrace using our wavefront solutions. The code is simply borrowed from existing cwfs code."
   ]
  },
  {
   "cell_type": "markdown",
   "metadata": {},
   "source": [
    "#### We first set up the pupil grid. Oversample means how many ray to trace from each grid point on the pupil."
   ]
  },
  {
   "cell_type": "code",
   "execution_count": null,
   "metadata": {},
   "outputs": [],
   "source": [
    "oversample = 10\n",
    "projSamples = I1.image0.shape[0]*oversample\n",
    "\n",
    "luty, lutx = np.mgrid[\n",
    "        -(projSamples / 2 - 0.5):(projSamples / 2 + 0.5),\n",
    "        -(projSamples / 2 - 0.5):(projSamples / 2 + 0.5)]\n",
    "lutx = lutx / (projSamples / 2 / inst.sensorFactor)\n",
    "luty = luty / (projSamples / 2 / inst.sensorFactor)"
   ]
  },
  {
   "cell_type": "markdown",
   "metadata": {},
   "source": [
    "#### We now trace the rays to the image plane. Lutxp and Lutyp are image coordinates for each (oversampled) ray. showProjection() makes the intensity image. Then, to down sample the image back to original resolution, we want to use the function downResolution() which is defined for the image class."
   ]
  },
  {
   "cell_type": "code",
   "execution_count": null,
   "metadata": {},
   "outputs": [],
   "source": []
  },
  {
   "cell_type": "code",
   "execution_count": null,
   "metadata": {},
   "outputs": [],
   "source": [
    "lutxp, lutyp, J = aperture2image(I1, inst, algo, algo.converge[:,-1], lutx, luty, projSamples, 'paraxial')\n",
    "show_lutxyp = showProjection(lutxp, lutyp, inst.sensorFactor, projSamples, 1)\n",
    "I1fit = Image(show_lutxyp, fieldXY, Image.INTRA)\n",
    "I1fit.downResolution(oversample, I1.image0.shape[0], I1.image0.shape[1])"
   ]
  },
  {
   "cell_type": "markdown",
   "metadata": {},
   "source": [
    "#### Now do the same thing for extra focal image"
   ]
  },
  {
   "cell_type": "code",
   "execution_count": null,
   "metadata": {},
   "outputs": [],
   "source": [
    "luty, lutx = np.mgrid[\n",
    "        -(projSamples / 2 - 0.5):(projSamples / 2 + 0.5),\n",
    "        -(projSamples / 2 - 0.5):(projSamples / 2 + 0.5)]\n",
    "lutx = lutx / (projSamples / 2 / inst.sensorFactor)\n",
    "luty = luty / (projSamples / 2 / inst.sensorFactor)\n",
    "\n",
    "lutxp, lutyp, J = aperture2image(I2, inst, algo, algo.converge[:,-1], lutx, luty, projSamples, 'paraxial')\n",
    "show_lutxyp = showProjection(lutxp, lutyp, inst.sensorFactor, projSamples, 1)\n",
    "I2fit = Image(show_lutxyp, fieldXY, Image.EXTRA)\n",
    "I2fit.downResolution(oversample, I2.image0.shape[0], I2.image0.shape[1])"
   ]
  },
  {
   "cell_type": "code",
   "execution_count": null,
   "metadata": {},
   "outputs": [],
   "source": [
    "#The atmosphere used here is just a random Gaussian smearing. We do not care much about the size at this point\n",
    "from scipy.ndimage import gaussian_filter\n",
    "\n",
    "I1fit.image[np.isnan(I1fit.image)]=0\n",
    "a = gaussian_filter(I1fit.image, sigma=2)\n",
    "\n",
    "fig, ax = plt.subplots(1,3, figsize=[15,4])\n",
    "img = ax[0].imshow(I1fit.image, origin='lower')\n",
    "ax[0].set_title('Forward prediction (no atm) Intra')\n",
    "fig.colorbar(img, ax=ax[0])\n",
    "img = ax[1].imshow(a, origin='lower')\n",
    "ax[1].set_title('Forward prediction (w atm) Intra')\n",
    "fig.colorbar(img, ax=ax[1])\n",
    "\n",
    "img = ax[2].imshow(I1.image0, origin='lower')\n",
    "ax[2].set_title('Real Image, Intra')\n",
    "fig.colorbar(img, ax=ax[2])"
   ]
  },
  {
   "cell_type": "code",
   "execution_count": null,
   "metadata": {},
   "outputs": [],
   "source": [
    "I2fit.image[np.isnan(I2fit.image)]=0\n",
    "b = gaussian_filter(I2fit.image, sigma=2)\n",
    "\n",
    "fig, ax = plt.subplots(1,3, figsize=[15,4])\n",
    "img = ax[0].imshow(I2fit.image, origin='lower')\n",
    "ax[0].set_title('Forward prediction (no atm) Extra')\n",
    "fig.colorbar(img, ax=ax[0])\n",
    "img = ax[1].imshow(b, origin='lower')\n",
    "ax[1].set_title('Forward prediction (w atm) Extra')\n",
    "fig.colorbar(img, ax=ax[1])\n",
    "\n",
    "img = ax[2].imshow(I2.image0, origin='lower')\n",
    "ax[2].set_title('Real Image, Extra')\n",
    "fig.colorbar(img, ax=ax[2])"
   ]
  },
  {
   "cell_type": "code",
   "execution_count": null,
   "metadata": {},
   "outputs": [],
   "source": []
  },
  {
   "cell_type": "code",
   "execution_count": null,
   "metadata": {},
   "outputs": [],
   "source": []
  },
  {
   "cell_type": "code",
   "execution_count": null,
   "metadata": {},
   "outputs": [],
   "source": [
    "# Basic math to estimate the expected result (from lab setup)\n",
    "D=25e-3; wave=632e-9\n",
    "f_coll=125e-3; \n",
    "\n",
    "f_tel=400e-3 # 400mm nominal\n",
    "pinhole_diam=10e-6\n",
    "\n",
    "print('Diffraction Limit (f=125mm, D=25mm, wave=632nm) is: {0:3f} [um]'.format(1e6*wave/D*f_coll))\n",
    "mag=f_tel/f_coll\n",
    "print('Magnification is f_tel/f_col {}:'.format(mag))\n",
    "im_size=1e6*mag*pinhole_diam\n",
    "print('Expected image diameter for {0:3f} diameter pinhole: {1:3f} [um]'.format(pinhole_diam, im_size))\n",
    "print('80% EE radius in pixels ~{}'.format(im_size/2/10))"
   ]
  },
  {
   "cell_type": "code",
   "execution_count": null,
   "metadata": {},
   "outputs": [],
   "source": []
  }
 ],
 "metadata": {
  "kernelspec": {
   "display_name": "Python 3",
   "language": "python",
   "name": "python3"
  },
  "language_info": {
   "codemirror_mode": {
    "name": "ipython",
    "version": 3
   },
   "file_extension": ".py",
   "mimetype": "text/x-python",
   "name": "python",
   "nbconvert_exporter": "python",
   "pygments_lexer": "ipython3",
   "version": "3.7.4"
  }
 },
 "nbformat": 4,
 "nbformat_minor": 4
}
