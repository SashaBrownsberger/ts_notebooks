{
 "cells": [
  {
   "cell_type": "code",
   "execution_count": 1,
   "metadata": {},
   "outputs": [
    {
     "name": "stderr",
     "output_type": "stream",
     "text": [
      "Could not import lsstcppimport; please ensure the base package has been built (not just setup).\n",
      "\n"
     ]
    }
   ],
   "source": [
    "import SALPY_ATSpectrograph\n",
    "from lsst.ts.salobj import Remote, State, AckError\n",
    "import asyncio"
   ]
  },
  {
   "cell_type": "code",
   "execution_count": 2,
   "metadata": {},
   "outputs": [],
   "source": [
    "r = Remote(SALPY_ATSpectrograph)"
   ]
  },
  {
   "cell_type": "code",
   "execution_count": 3,
   "metadata": {},
   "outputs": [
    {
     "name": "stdout",
     "output_type": "stream",
     "text": [
      "No summary state information\n"
     ]
    }
   ],
   "source": [
    "ss = r.evt_summaryState.get()\n",
    "if ss is not None:\n",
    "    print(State(ss.summaryState))\n",
    "else:\n",
    "    print(\"No summary state information\")"
   ]
  },
  {
   "cell_type": "code",
   "execution_count": 4,
   "metadata": {},
   "outputs": [
    {
     "name": "stdout",
     "output_type": "stream",
     "text": [
      "Failed with ack.result=Failed: start not allowed in state <State.DISABLED: 1>\n"
     ]
    }
   ],
   "source": [
    "try:\n",
    "    asyncio.get_event_loop().run_until_complete(r.cmd_start.start())\n",
    "except AckError as ack_err:\n",
    "    print(f\"Failed with ack.result={ack_err.ack.result}\")    "
   ]
  },
  {
   "cell_type": "code",
   "execution_count": 25,
   "metadata": {},
   "outputs": [
    {
     "name": "stdout",
     "output_type": "stream",
     "text": [
      "State.DISABLED\n"
     ]
    }
   ],
   "source": [
    "ss = r.evt_summaryState.get()\n",
    "if ss is not None:\n",
    "    print(State(ss.summaryState))\n",
    "else:\n",
    "    print(\"No summary state information\")"
   ]
  },
  {
   "cell_type": "code",
   "execution_count": 26,
   "metadata": {},
   "outputs": [
    {
     "name": "stdout",
     "output_type": "stream",
     "text": [
      "CommandIdAck(cmd_id=1552061466, ack.ack=<SALPY_ATSpectrograph.ATSpectrograph_ackcmdC object at 0x7fe46353d068>)\n"
     ]
    }
   ],
   "source": [
    "try:\n",
    "    print(asyncio.get_event_loop().run_until_complete(r.cmd_enable.start()))\n",
    "except AckError as ack_err:\n",
    "    print(f\"Failed with ack.result={ack_err.ack.result}\")    "
   ]
  },
  {
   "cell_type": "code",
   "execution_count": 27,
   "metadata": {},
   "outputs": [
    {
     "name": "stdout",
     "output_type": "stream",
     "text": [
      "State.ENABLED\n"
     ]
    }
   ],
   "source": [
    "ss = r.evt_summaryState.get()\n",
    "if ss is not None:\n",
    "    print(State(ss.summaryState))\n",
    "else:\n",
    "    print(\"No summary state information\")"
   ]
  },
  {
   "cell_type": "code",
   "execution_count": 28,
   "metadata": {},
   "outputs": [],
   "source": [
    "filter_pos = r.evt_reportedFilterPosition.get()\n",
    "disperser_pos = r.evt_reportedDisperserPosition.get()\n",
    "linear_stage = r.evt_reportedLinearStagePosition.get()\n"
   ]
  },
  {
   "cell_type": "code",
   "execution_count": 29,
   "metadata": {},
   "outputs": [
    {
     "name": "stdout",
     "output_type": "stream",
     "text": [
      "2\n",
      "0\n",
      "10.0\n"
     ]
    }
   ],
   "source": [
    "print(filter_pos.position)\n",
    "print(disperser_pos.position)\n",
    "print(linear_stage.position)"
   ]
  },
  {
   "cell_type": "code",
   "execution_count": 30,
   "metadata": {},
   "outputs": [
    {
     "data": {
      "text/plain": [
       "True"
      ]
     },
     "execution_count": 30,
     "metadata": {},
     "output_type": "execute_result"
    }
   ],
   "source": [
    "r.cmd_changeFilter.set(filter=3)\n",
    "r.cmd_changeDisperser.set(disperser=1)"
   ]
  },
  {
   "cell_type": "code",
   "execution_count": 31,
   "metadata": {},
   "outputs": [
    {
     "name": "stdout",
     "output_type": "stream",
     "text": [
      "3\n"
     ]
    }
   ],
   "source": [
    "try:\n",
    "    coro = r.evt_reportedFilterPosition.next(flush=True, timeout=10)\n",
    "    asyncio.get_event_loop().run_until_complete(r.cmd_changeFilter.start())\n",
    "    filter_pos = asyncio.get_event_loop().run_until_complete(coro)\n",
    "    print(filter_pos.position)\n",
    "except AckError as ack_err:\n",
    "    print(f\"Failed with ack.result={ack_err.ack.result}\")    \n"
   ]
  },
  {
   "cell_type": "code",
   "execution_count": 34,
   "metadata": {},
   "outputs": [
    {
     "name": "stdout",
     "output_type": "stream",
     "text": [
      "0\n"
     ]
    }
   ],
   "source": [
    "try:\n",
    "    r.cmd_changeDisperser.set(disperser=0)\n",
    "    coro = r.evt_reportedDisperserPosition.next(flush=True, timeout=10)\n",
    "    asyncio.get_event_loop().run_until_complete(r.cmd_changeDisperser.start())\n",
    "    disperser_pos = asyncio.get_event_loop().run_until_complete(coro)\n",
    "    print(disperser_pos.position)\n",
    "except AckError as ack_err:\n",
    "    print(f\"Failed with ack.result={ack_err.ack.result}\")    \n",
    "\n"
   ]
  },
  {
   "cell_type": "code",
   "execution_count": null,
   "metadata": {},
   "outputs": [],
   "source": [
    "asyncio.get_event_loop().run_until_complete(r.cmd_changeDisperser.start())"
   ]
  },
  {
   "cell_type": "code",
   "execution_count": null,
   "metadata": {},
   "outputs": [],
   "source": [
    "pos = r.evt_reportedDisperserPosition.get()"
   ]
  },
  {
   "cell_type": "code",
   "execution_count": null,
   "metadata": {},
   "outputs": [],
   "source": [
    "pos.position"
   ]
  },
  {
   "cell_type": "code",
   "execution_count": null,
   "metadata": {},
   "outputs": [],
   "source": [
    "pos = r.evt_reportedFilterPosition.get()"
   ]
  },
  {
   "cell_type": "code",
   "execution_count": null,
   "metadata": {},
   "outputs": [],
   "source": [
    "pos.position"
   ]
  },
  {
   "cell_type": "code",
   "execution_count": null,
   "metadata": {},
   "outputs": [],
   "source": [
    "pos = r.evt_linearStageInPosition.get()"
   ]
  },
  {
   "cell_type": "code",
   "execution_count": null,
   "metadata": {},
   "outputs": [],
   "source": [
    "pos."
   ]
  },
  {
   "cell_type": "code",
   "execution_count": null,
   "metadata": {},
   "outputs": [],
   "source": []
  },
  {
   "cell_type": "code",
   "execution_count": 15,
   "metadata": {},
   "outputs": [
    {
     "name": "stdout",
     "output_type": "stream",
     "text": [
      "CommandIdAck(cmd_id=1552061465, ack.ack=<SALPY_ATSpectrograph.ATSpectrograph_ackcmdC object at 0x7fe46353d1b8>)\n",
      "0.09799999743700027\n"
     ]
    }
   ],
   "source": [
    "r.cmd_moveLinearStage.set(distanceFromHome=10.)\n",
    "try:\n",
    "    print(asyncio.get_event_loop().run_until_complete(r.cmd_moveLinearStage.start()))\n",
    "except AckError as ack_err:\n",
    "    print(f\"Failed with ack.result={ack_err.ack.result}\")\n",
    "\n",
    "linear_stage = asyncio.get_event_loop().run_until_complete(\n",
    "    r.evt_reportedLinearStagePosition.next(flush=False, timeout=10.))\n",
    "print(linear_stage.position)"
   ]
  },
  {
   "cell_type": "code",
   "execution_count": 16,
   "metadata": {},
   "outputs": [
    {
     "name": "stdout",
     "output_type": "stream",
     "text": [
      "10.0\n"
     ]
    }
   ],
   "source": [
    "linear_stage = asyncio.get_event_loop().run_until_complete(\n",
    "    r.evt_reportedLinearStagePosition.next(flush=False, timeout=10.))\n",
    "print(linear_stage.position)"
   ]
  },
  {
   "cell_type": "code",
   "execution_count": 17,
   "metadata": {},
   "outputs": [],
   "source": [
    "import SALPY_ATArchiver"
   ]
  },
  {
   "cell_type": "code",
   "execution_count": 18,
   "metadata": {},
   "outputs": [],
   "source": [
    "r2 = Remote(SALPY_ATArchiver)"
   ]
  },
  {
   "cell_type": "code",
   "execution_count": 21,
   "metadata": {},
   "outputs": [
    {
     "ename": "TimeoutError",
     "evalue": "",
     "output_type": "error",
     "traceback": [
      "\u001b[0;31m---------------------------------------------------------------------------\u001b[0m",
      "\u001b[0;31mTimeoutError\u001b[0m                              Traceback (most recent call last)",
      "\u001b[0;32m<ipython-input-21-40c9ec22b22a>\u001b[0m in \u001b[0;36m<module>\u001b[0;34m\u001b[0m\n\u001b[1;32m      1\u001b[0m ps = asyncio.get_event_loop().run_until_complete(r2.evt_processingStatus.next(flush=True, \n\u001b[0;32m----> 2\u001b[0;31m                                                                               timeout=300.))\n\u001b[0m\u001b[1;32m      3\u001b[0m \u001b[0mprint\u001b[0m\u001b[0;34m(\u001b[0m\u001b[0mps\u001b[0m\u001b[0;34m)\u001b[0m\u001b[0;34m\u001b[0m\u001b[0m\n\u001b[1;32m      4\u001b[0m \u001b[0;34m\u001b[0m\u001b[0m\n",
      "\u001b[0;32m/opt/lsst/software/stack/python/miniconda3-4.3.21/lib/python3.6/asyncio/base_events.py\u001b[0m in \u001b[0;36mrun_until_complete\u001b[0;34m(self, future)\u001b[0m\n\u001b[1;32m    465\u001b[0m             \u001b[0;32mraise\u001b[0m \u001b[0mRuntimeError\u001b[0m\u001b[0;34m(\u001b[0m\u001b[0;34m'Event loop stopped before Future completed.'\u001b[0m\u001b[0;34m)\u001b[0m\u001b[0;34m\u001b[0m\u001b[0m\n\u001b[1;32m    466\u001b[0m \u001b[0;34m\u001b[0m\u001b[0m\n\u001b[0;32m--> 467\u001b[0;31m         \u001b[0;32mreturn\u001b[0m \u001b[0mfuture\u001b[0m\u001b[0;34m.\u001b[0m\u001b[0mresult\u001b[0m\u001b[0;34m(\u001b[0m\u001b[0;34m)\u001b[0m\u001b[0;34m\u001b[0m\u001b[0m\n\u001b[0m\u001b[1;32m    468\u001b[0m \u001b[0;34m\u001b[0m\u001b[0m\n\u001b[1;32m    469\u001b[0m     \u001b[0;32mdef\u001b[0m \u001b[0mstop\u001b[0m\u001b[0;34m(\u001b[0m\u001b[0mself\u001b[0m\u001b[0;34m)\u001b[0m\u001b[0;34m:\u001b[0m\u001b[0;34m\u001b[0m\u001b[0m\n",
      "\u001b[0;32m~/repos/ts_salobj/python/lsst/ts/salobj/topics/remote_telemetry.py\u001b[0m in \u001b[0;36m_wait_next\u001b[0;34m(self, timeout)\u001b[0m\n\u001b[1;32m    301\u001b[0m             \u001b[0;32melif\u001b[0m \u001b[0mretcode\u001b[0m \u001b[0;34m==\u001b[0m \u001b[0mself\u001b[0m\u001b[0;34m.\u001b[0m\u001b[0msalinfo\u001b[0m\u001b[0;34m.\u001b[0m\u001b[0mlib\u001b[0m\u001b[0;34m.\u001b[0m\u001b[0mSAL__NO_UPDATES\u001b[0m\u001b[0;34m:\u001b[0m\u001b[0;34m\u001b[0m\u001b[0m\n\u001b[1;32m    302\u001b[0m                 \u001b[0;32mif\u001b[0m \u001b[0mend_time\u001b[0m \u001b[0;32mand\u001b[0m \u001b[0mtime\u001b[0m\u001b[0;34m.\u001b[0m\u001b[0mtime\u001b[0m\u001b[0;34m(\u001b[0m\u001b[0;34m)\u001b[0m \u001b[0;34m>\u001b[0m \u001b[0mend_time\u001b[0m\u001b[0;34m:\u001b[0m\u001b[0;34m\u001b[0m\u001b[0m\n\u001b[0;32m--> 303\u001b[0;31m                     \u001b[0;32mraise\u001b[0m \u001b[0masyncio\u001b[0m\u001b[0;34m.\u001b[0m\u001b[0mTimeoutError\u001b[0m\u001b[0;34m(\u001b[0m\u001b[0;34m)\u001b[0m\u001b[0;34m\u001b[0m\u001b[0m\n\u001b[0m\u001b[1;32m    304\u001b[0m                 \u001b[0;32melse\u001b[0m\u001b[0;34m:\u001b[0m\u001b[0;34m\u001b[0m\u001b[0m\n\u001b[1;32m    305\u001b[0m                     \u001b[0mawait\u001b[0m \u001b[0masyncio\u001b[0m\u001b[0;34m.\u001b[0m\u001b[0msleep\u001b[0m\u001b[0;34m(\u001b[0m\u001b[0;36m0.05\u001b[0m\u001b[0;34m)\u001b[0m\u001b[0;34m\u001b[0m\u001b[0m\n",
      "\u001b[0;31mTimeoutError\u001b[0m: "
     ]
    }
   ],
   "source": [
    "ps = asyncio.get_event_loop().run_until_complete(r2.evt_processingStatus.next(flush=True, \n",
    "                                                                              timeout=300.))\n",
    "print(ps)\n",
    "                                                 "
   ]
  },
  {
   "cell_type": "code",
   "execution_count": 20,
   "metadata": {},
   "outputs": [
    {
     "name": "stdout",
     "output_type": "stream",
     "text": [
      "None\n"
     ]
    }
   ],
   "source": [
    "print(ps)"
   ]
  },
  {
   "cell_type": "code",
   "execution_count": null,
   "metadata": {},
   "outputs": [],
   "source": []
  }
 ],
 "metadata": {
  "kernelspec": {
   "display_name": "Python 3",
   "language": "python",
   "name": "python3"
  },
  "language_info": {
   "codemirror_mode": {
    "name": "ipython",
    "version": 3
   },
   "file_extension": ".py",
   "mimetype": "text/x-python",
   "name": "python",
   "nbconvert_exporter": "python",
   "pygments_lexer": "ipython3",
   "version": "3.6.3"
  }
 },
 "nbformat": 4,
 "nbformat_minor": 2
}
