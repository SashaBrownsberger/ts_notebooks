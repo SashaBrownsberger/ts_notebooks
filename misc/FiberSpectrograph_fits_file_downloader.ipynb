{
 "cells": [
  {
   "cell_type": "code",
   "execution_count": null,
   "metadata": {},
   "outputs": [],
   "source": [
    "async def cmd(cbp_remote,name,parameters=[]):\n",
    "    cmd_topic = getattr(cbp_remote,f\"cmd_{name}\").DataType()\n",
    "    for parameter in parameters:\n",
    "        setattr(cmd_topic,parameter[0],parameter[1])\n",
    "    cmd_ack = await getattr(cbp_remote,f\"cmd_{name}\").start(cmd_topic,timeout=10)"
   ]
  },
  {
   "cell_type": "code",
   "execution_count": 1,
   "metadata": {},
   "outputs": [
    {
     "name": "stderr",
     "output_type": "stream",
     "text": [
      "Could not import lsstcppimport; please ensure the base package has been built (not just setup).\n",
      "\n"
     ]
    }
   ],
   "source": [
    "import glob\n",
    "from lsst.ts import salobj\n",
    "import SALPY_FiberSpectrograph\n",
    "import SALPY_EFD\n",
    "import logging\n",
    "import asyncio\n",
    "import requests\n",
    "from astropy.io import fits"
   ]
  },
  {
   "cell_type": "code",
   "execution_count": 2,
   "metadata": {},
   "outputs": [],
   "source": [
    "fiber_spectrograph_remote = salobj.Remote(SALPY_FiberSpectrograph)\n",
    "efd_remote = salobj.Remote(SALPY_EFD,include=[\"largeFileObjectAvailable\"])"
   ]
  },
  {
   "cell_type": "code",
   "execution_count": null,
   "metadata": {},
   "outputs": [],
   "source": [
    "async def take_spectrum(imageType=\"test\",integrationTime=0.2,lamp=\"kiloarc\"):\n",
    "    with open(f\"{imageType}_{integrationTime}_{lamp}.txt\",\"w\") as file:\n",
    "        fiber_spectrograph_remote.cmd_captureSpectImage.set(imageType=imageType,integrationTime=integrationTime,lamp=lamp)\n",
    "        # await lfo_data = efd_remote.evt_largeFileObjectAvailable.next(timeout=10)\n",
    "        spectrograph_lfo_data_coro = fiber_spectrograph_remote.evt_largeFileObjectAvailable.next(timeout=10,flush=True)\n",
    "        await fiber_spectrograph_remote.cmd_captureSpectImage.start(timeout=10)\n",
    "        spectrograph_lfo_data = await spectrograph_lfo_data_coro\n",
    "        file.write(f\"{spectrograph_lfo_data.url}\")\n",
    "    with open(f\"{imageType}_{integrationTime}_{lamp}.txt\",\"r\") as file:\n",
    "        for line in file:\n",
    "            line_split = line.split('/')\n",
    "            url = requests.get(line)\n",
    "            with open(f\"{line_split[-1]}\",\"wb\") as fits_file:\n",
    "                fits_file.write(url.content)\n",
    "        fits_file_list = glob.glob('*.fits')\n",
    "        "
   ]
  },
  {
   "cell_type": "code",
   "execution_count": null,
   "metadata": {},
   "outputs": [],
   "source": []
  },
  {
   "cell_type": "code",
   "execution_count": null,
   "metadata": {},
   "outputs": [],
   "source": [
    "await take_spectrum()"
   ]
  },
  {
   "cell_type": "code",
   "execution_count": null,
   "metadata": {},
   "outputs": [],
   "source": []
  }
 ],
 "metadata": {
  "kernelspec": {
   "display_name": "Python 3",
   "language": "python",
   "name": "python3"
  },
  "language_info": {
   "codemirror_mode": {
    "name": "ipython",
    "version": 3
   },
   "file_extension": ".py",
   "mimetype": "text/x-python",
   "name": "python",
   "nbconvert_exporter": "python",
   "pygments_lexer": "ipython3",
   "version": "3.6.3"
  }
 },
 "nbformat": 4,
 "nbformat_minor": 2
}
