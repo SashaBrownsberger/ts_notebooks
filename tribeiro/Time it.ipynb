{
 "cells": [
  {
   "cell_type": "code",
   "execution_count": 1,
   "metadata": {},
   "outputs": [
    {
     "name": "stderr",
     "output_type": "stream",
     "text": [
      "Could not import lsstcppimport; please ensure the base package has been built (not just setup).\n",
      "\n"
     ]
    }
   ],
   "source": [
    "import SALPY_ATMonochromator\n",
    "import SALPY_Test\n",
    "from lsst.ts.salobj import Remote, State"
   ]
  },
  {
   "cell_type": "code",
   "execution_count": 2,
   "metadata": {},
   "outputs": [],
   "source": [
    "import asyncio"
   ]
  },
  {
   "cell_type": "code",
   "execution_count": 3,
   "metadata": {},
   "outputs": [
    {
     "name": "stdout",
     "output_type": "stream",
     "text": [
      "1min 55s ± 0 ns per loop (mean ± std. dev. of 1 run, 1 loop each)\n"
     ]
    }
   ],
   "source": [
    "%timeit -n1 -r 1 r = Remote(SALPY_ATMonochromator)"
   ]
  },
  {
   "cell_type": "code",
   "execution_count": 3,
   "metadata": {},
   "outputs": [
    {
     "name": "stdout",
     "output_type": "stream",
     "text": [
      "1min 57s ± 0 ns per loop (mean ± std. dev. of 1 run, 1 loop each)\n"
     ]
    }
   ],
   "source": [
    "%timeit -n1 -r 1 r = Remote(SALPY_ATMonochromator)"
   ]
  },
  {
   "cell_type": "code",
   "execution_count": 3,
   "metadata": {},
   "outputs": [
    {
     "name": "stdout",
     "output_type": "stream",
     "text": [
      "2min 1s ± 0 ns per loop (mean ± std. dev. of 1 run, 1 loop each)\n"
     ]
    }
   ],
   "source": [
    "%timeit -n1 -r 1 r = Remote(SALPY_ATMonochromator)"
   ]
  },
  {
   "cell_type": "code",
   "execution_count": 3,
   "metadata": {},
   "outputs": [
    {
     "name": "stdout",
     "output_type": "stream",
     "text": [
      "6.25 s ± 0 ns per loop (mean ± std. dev. of 1 run, 1 loop each)\n"
     ]
    }
   ],
   "source": [
    "%timeit -n1 -r 1 r = Remote(SALPY_ATMonochromator, include=[\"enable\"])"
   ]
  },
  {
   "cell_type": "code",
   "execution_count": 3,
   "metadata": {},
   "outputs": [
    {
     "name": "stdout",
     "output_type": "stream",
     "text": [
      "11.2 s ± 0 ns per loop (mean ± std. dev. of 1 run, 1 loop each)\n"
     ]
    }
   ],
   "source": [
    "%timeit -n1 -r 1 r = Remote(SALPY_ATMonochromator, include=[\"summaryState\"])"
   ]
  },
  {
   "cell_type": "code",
   "execution_count": 3,
   "metadata": {},
   "outputs": [
    {
     "name": "stdout",
     "output_type": "stream",
     "text": [
      "11.2 s ± 0 ns per loop (mean ± std. dev. of 1 run, 1 loop each)\n"
     ]
    }
   ],
   "source": [
    "%timeit -n1 -r 1 r = Remote(SALPY_ATMonochromator, include=[\"heartbeat\"])"
   ]
  },
  {
   "cell_type": "code",
   "execution_count": null,
   "metadata": {},
   "outputs": [],
   "source": [
    "while True:\n",
    "    state = asyncio.get_event_loop().run_until_complete(r.evt_summaryState.next(flush=False))\n",
    "    print(State(state.summaryState))"
   ]
  },
  {
   "cell_type": "code",
   "execution_count": 3,
   "metadata": {},
   "outputs": [
    {
     "name": "stdout",
     "output_type": "stream",
     "text": [
      "6.23 s ± 0 ns per loop (mean ± std. dev. of 1 run, 1 loop each)\n"
     ]
    }
   ],
   "source": [
    "%timeit -n1 -r 1 r = Remote(SALPY_ATMonochromator, include=[\"abort\", \\\n",
    "\"calibrateWavelength\", \\\n",
    "\"changeSlitWidth\", \\\n",
    "\"changeWavelength\", \\\n",
    "\"disable\", \\\n",
    "\"enable\", \\\n",
    "\"enterControl\", \\\n",
    "\"exitControl\", \\\n",
    "\"power\", \\\n",
    "\"selectGrating\", \\\n",
    "\"setLogLevel\", \\\n",
    "\"setSimulationMode\", \\\n",
    "\"setValue\", \\\n",
    "\"standby\", \\\n",
    "\"start\", \\\n",
    "\"updateMonochromatorSetup\"])"
   ]
  },
  {
   "cell_type": "code",
   "execution_count": 6,
   "metadata": {},
   "outputs": [
    {
     "name": "stdout",
     "output_type": "stream",
     "text": [
      "41.3 s ± 0 ns per loop (mean ± std. dev. of 1 run, 1 loop each)\n"
     ]
    }
   ],
   "source": [
    "%timeit -n1 -r 1 r = Remote(SALPY_ATMonochromator, include=[\"appliedSettingsMatchStart\", \\\n",
    "                                                            \"detailedState\", \\\n",
    "                                                            \"errorCode\", \"heartbeat\",\\\n",
    "                                                            \"inPosition\", \\\n",
    "                                                            \"internalCommand\", \\\n",
    "                                                            \"logLevel\"])"
   ]
  },
  {
   "cell_type": "code",
   "execution_count": 2,
   "metadata": {},
   "outputs": [],
   "source": [
    "manager = SALPY_ATMonochromator.SAL_ATMonochromator()"
   ]
  },
  {
   "cell_type": "code",
   "execution_count": 4,
   "metadata": {},
   "outputs": [
    {
     "name": "stdout",
     "output_type": "stream",
     "text": [
      "6.21 s ± 0 ns per loop (mean ± std. dev. of 1 run, 1 loop each)\n"
     ]
    }
   ],
   "source": [
    "%timeit -n1 -r 1 manager.salTelemetrySub(\"ATMonochromator_logevent_appliedSettingsMatchStart\")"
   ]
  },
  {
   "cell_type": "code",
   "execution_count": 5,
   "metadata": {},
   "outputs": [
    {
     "name": "stdout",
     "output_type": "stream",
     "text": [
      "5 s ± 0 ns per loop (mean ± std. dev. of 1 run, 1 loop each)\n"
     ]
    }
   ],
   "source": [
    "%timeit -n1 -r 1 manager.salTelemetrySub(\"ATMonochromator_logevent_detailedState\")"
   ]
  },
  {
   "cell_type": "code",
   "execution_count": 6,
   "metadata": {},
   "outputs": [
    {
     "name": "stdout",
     "output_type": "stream",
     "text": [
      "5 s ± 0 ns per loop (mean ± std. dev. of 1 run, 1 loop each)\n"
     ]
    }
   ],
   "source": [
    "%timeit -n1 -r 1 manager.salTelemetrySub(\"ATMonochromator_logevent_errorCode\")"
   ]
  },
  {
   "cell_type": "code",
   "execution_count": 4,
   "metadata": {},
   "outputs": [
    {
     "name": "stdout",
     "output_type": "stream",
     "text": [
      "First\n",
      "6.21 s ± 0 ns per loop (mean ± std. dev. of 1 run, 1 loop each)\n",
      "Second\n",
      "5 s ± 0 ns per loop (mean ± std. dev. of 1 run, 1 loop each)\n",
      "5 s ± 0 ns per loop (mean ± std. dev. of 1 run, 1 loop each)\n",
      "5 s ± 0 ns per loop (mean ± std. dev. of 1 run, 1 loop each)\n",
      "5 s ± 0 ns per loop (mean ± std. dev. of 1 run, 1 loop each)\n",
      "5 s ± 0 ns per loop (mean ± std. dev. of 1 run, 1 loop each)\n",
      "5 s ± 0 ns per loop (mean ± std. dev. of 1 run, 1 loop each)\n",
      "5 s ± 0 ns per loop (mean ± std. dev. of 1 run, 1 loop each)\n",
      "5 s ± 0 ns per loop (mean ± std. dev. of 1 run, 1 loop each)\n",
      "5 s ± 0 ns per loop (mean ± std. dev. of 1 run, 1 loop each)\n",
      "5 s ± 0 ns per loop (mean ± std. dev. of 1 run, 1 loop each)\n",
      "5 s ± 0 ns per loop (mean ± std. dev. of 1 run, 1 loop each)\n",
      "5 s ± 0 ns per loop (mean ± std. dev. of 1 run, 1 loop each)\n",
      "5 s ± 0 ns per loop (mean ± std. dev. of 1 run, 1 loop each)\n",
      "5 s ± 0 ns per loop (mean ± std. dev. of 1 run, 1 loop each)\n",
      "Last\n"
     ]
    }
   ],
   "source": [
    "%timeit -n1 -r 1 manager.salTelemetrySub(\"ATMonochromator_command_abort\")"
   ]
  },
  {
   "cell_type": "code",
   "execution_count": 5,
   "metadata": {},
   "outputs": [
    {
     "name": "stdout",
     "output_type": "stream",
     "text": [
      "6.21 s ± 0 ns per loop (mean ± std. dev. of 1 run, 1 loop each)\n",
      "5 s ± 0 ns per loop (mean ± std. dev. of 1 run, 1 loop each)\n",
      "5 s ± 0 ns per loop (mean ± std. dev. of 1 run, 1 loop each)\n",
      "5 s ± 0 ns per loop (mean ± std. dev. of 1 run, 1 loop each)\n",
      "5 s ± 0 ns per loop (mean ± std. dev. of 1 run, 1 loop each)\n",
      "5 s ± 0 ns per loop (mean ± std. dev. of 1 run, 1 loop each)\n",
      "5 s ± 0 ns per loop (mean ± std. dev. of 1 run, 1 loop each)\n",
      "5 s ± 0 ns per loop (mean ± std. dev. of 1 run, 1 loop each)\n",
      "5 s ± 0 ns per loop (mean ± std. dev. of 1 run, 1 loop each)\n",
      "5 s ± 0 ns per loop (mean ± std. dev. of 1 run, 1 loop each)\n",
      "5 s ± 0 ns per loop (mean ± std. dev. of 1 run, 1 loop each)\n",
      "5 s ± 0 ns per loop (mean ± std. dev. of 1 run, 1 loop each)\n",
      "5 s ± 0 ns per loop (mean ± std. dev. of 1 run, 1 loop each)\n",
      "2.53 s ± 0 ns per loop (mean ± std. dev. of 1 run, 1 loop each)\n",
      "927 µs ± 0 ns per loop (mean ± std. dev. of 1 run, 1 loop each)\n",
      "439 µs ± 0 ns per loop (mean ± std. dev. of 1 run, 1 loop each)\n",
      "464 µs ± 0 ns per loop (mean ± std. dev. of 1 run, 1 loop each)\n",
      "544 µs ± 0 ns per loop (mean ± std. dev. of 1 run, 1 loop each)\n",
      "650 µs ± 0 ns per loop (mean ± std. dev. of 1 run, 1 loop each)\n",
      "372 µs ± 0 ns per loop (mean ± std. dev. of 1 run, 1 loop each)\n",
      "374 µs ± 0 ns per loop (mean ± std. dev. of 1 run, 1 loop each)\n"
     ]
    }
   ],
   "source": [
    "%timeit -n1 -r 1 manager.salTelemetrySub(\"ATMonochromator_logevent_appliedSettingsMatchStart\")\n",
    "%timeit -n1 -r 1 manager.salTelemetrySub(\"ATMonochromator_logevent_detailedState\")\n",
    "%timeit -n1 -r 1 manager.salTelemetrySub(\"ATMonochromator_logevent_errorCode\")\n",
    "%timeit -n1 -r 1 manager.salTelemetrySub(\"ATMonochromator_logevent_heartbeat\")\n",
    "%timeit -n1 -r 1 manager.salTelemetrySub(\"ATMonochromator_logevent_inPosition\")\n",
    "%timeit -n1 -r 1 manager.salTelemetrySub(\"ATMonochromator_logevent_internalCommand\")\n",
    "%timeit -n1 -r 1 manager.salTelemetrySub(\"ATMonochromator_logevent_logLevel\")\n",
    "%timeit -n1 -r 1 manager.salTelemetrySub(\"ATMonochromator_logevent_logMessage\")\n",
    "%timeit -n1 -r 1 manager.salTelemetrySub(\"ATMonochromator_logevent_loopTimeOutOfRange\")\n",
    "%timeit -n1 -r 1 manager.salTelemetrySub(\"ATMonochromator_logevent_monochromatorConnected\")\n",
    "%timeit -n1 -r 1 manager.salTelemetrySub(\"ATMonochromator_logevent_rejectedCommand\")\n",
    "%timeit -n1 -r 1 manager.salTelemetrySub(\"ATMonochromator_logevent_selectedGrating\")\n",
    "%timeit -n1 -r 1 manager.salTelemetrySub(\"ATMonochromator_logevent_settingVersions\")\n",
    "%timeit -n1 -r 1 manager.salTelemetrySub(\"ATMonochromator_logevent_settingsAppliedLoop\")\n",
    "%timeit -n1 -r 1 manager.salTelemetrySub(\"ATMonochromator_logevent_settingsAppliedMonoCommunication\")\n",
    "%timeit -n1 -r 1 manager.salTelemetrySub(\"ATMonochromator_logevent_settingsAppliedMonoHeartbeat\")\n",
    "%timeit -n1 -r 1 manager.salTelemetrySub(\"ATMonochromator_logevent_settingsAppliedMonochromatorRanges\")\n",
    "%timeit -n1 -r 1 manager.salTelemetrySub(\"ATMonochromator_logevent_simulationMode\")\n",
    "%timeit -n1 -r 1 manager.salTelemetrySub(\"ATMonochromator_logevent_slitWidth\")\n",
    "%timeit -n1 -r 1 manager.salTelemetrySub(\"ATMonochromator_logevent_summaryState\")\n",
    "%timeit -n1 -r 1 manager.salTelemetrySub(\"ATMonochromator_logevent_wavelength\")"
   ]
  },
  {
   "cell_type": "code",
   "execution_count": 4,
   "metadata": {},
   "outputs": [
    {
     "name": "stdout",
     "output_type": "stream",
     "text": [
      "6.21 s ± 0 ns per loop (mean ± std. dev. of 1 run, 1 loop each)\n"
     ]
    }
   ],
   "source": [
    "%timeit -n1 -r 1 manager.salTelemetrySub(\"ATMonochromator_command_changeSlitWidth\")"
   ]
  },
  {
   "cell_type": "code",
   "execution_count": 5,
   "metadata": {},
   "outputs": [
    {
     "name": "stdout",
     "output_type": "stream",
     "text": [
      "5 s ± 0 ns per loop (mean ± std. dev. of 1 run, 1 loop each)\n"
     ]
    }
   ],
   "source": [
    "%timeit -n1 -r 1 manager.salTelemetrySub(\"ATMonochromator_command_calibrateWavelength\")"
   ]
  },
  {
   "cell_type": "code",
   "execution_count": 6,
   "metadata": {},
   "outputs": [
    {
     "name": "stdout",
     "output_type": "stream",
     "text": [
      "5 s ± 0 ns per loop (mean ± std. dev. of 1 run, 1 loop each)\n"
     ]
    }
   ],
   "source": [
    "%timeit -n1 -r 1 manager.salTelemetrySub(\"ATMonochromator_command_changeWavelength\")"
   ]
  },
  {
   "cell_type": "code",
   "execution_count": 7,
   "metadata": {},
   "outputs": [
    {
     "name": "stdout",
     "output_type": "stream",
     "text": [
      "5 s ± 0 ns per loop (mean ± std. dev. of 1 run, 1 loop each)\n"
     ]
    }
   ],
   "source": [
    "%timeit -n1 -r 1 manager.salTelemetrySub(\"ATMonochromator_command_disable\")"
   ]
  },
  {
   "cell_type": "code",
   "execution_count": 8,
   "metadata": {},
   "outputs": [
    {
     "name": "stdout",
     "output_type": "stream",
     "text": [
      "5 s ± 0 ns per loop (mean ± std. dev. of 1 run, 1 loop each)\n"
     ]
    }
   ],
   "source": [
    "%timeit -n1 -r 1 manager.salTelemetrySub(\"ATMonochromator_command_enable\")"
   ]
  },
  {
   "cell_type": "code",
   "execution_count": 9,
   "metadata": {},
   "outputs": [
    {
     "name": "stdout",
     "output_type": "stream",
     "text": [
      "5 s ± 0 ns per loop (mean ± std. dev. of 1 run, 1 loop each)\n"
     ]
    }
   ],
   "source": [
    "%timeit -n1 -r 1 manager.salTelemetrySub(\"ATMonochromator_command_enterControl\")"
   ]
  },
  {
   "cell_type": "code",
   "execution_count": 10,
   "metadata": {},
   "outputs": [
    {
     "name": "stdout",
     "output_type": "stream",
     "text": [
      "5 s ± 0 ns per loop (mean ± std. dev. of 1 run, 1 loop each)\n"
     ]
    }
   ],
   "source": [
    "%timeit -n1 -r 1 manager.salTelemetrySub(\"ATMonochromator_command_exitControl\")"
   ]
  },
  {
   "cell_type": "code",
   "execution_count": 11,
   "metadata": {},
   "outputs": [
    {
     "name": "stdout",
     "output_type": "stream",
     "text": [
      "5 s ± 0 ns per loop (mean ± std. dev. of 1 run, 1 loop each)\n"
     ]
    }
   ],
   "source": [
    "%timeit -n1 -r 1 manager.salTelemetrySub(\"ATMonochromator_command_power\")"
   ]
  },
  {
   "cell_type": "code",
   "execution_count": 12,
   "metadata": {},
   "outputs": [
    {
     "name": "stdout",
     "output_type": "stream",
     "text": [
      "5 s ± 0 ns per loop (mean ± std. dev. of 1 run, 1 loop each)\n"
     ]
    }
   ],
   "source": [
    "%timeit -n1 -r 1 manager.salTelemetrySub(\"ATMonochromator_command_selectGrating\")"
   ]
  },
  {
   "cell_type": "code",
   "execution_count": 13,
   "metadata": {},
   "outputs": [
    {
     "name": "stdout",
     "output_type": "stream",
     "text": [
      "5 s ± 0 ns per loop (mean ± std. dev. of 1 run, 1 loop each)\n"
     ]
    }
   ],
   "source": [
    "%timeit -n1 -r 1 manager.salTelemetrySub(\"ATMonochromator_command_setLogLevel\")"
   ]
  },
  {
   "cell_type": "code",
   "execution_count": 14,
   "metadata": {},
   "outputs": [
    {
     "name": "stdout",
     "output_type": "stream",
     "text": [
      "5 s ± 0 ns per loop (mean ± std. dev. of 1 run, 1 loop each)\n"
     ]
    }
   ],
   "source": [
    "%timeit -n1 -r 1 manager.salTelemetrySub(\"ATMonochromator_command_setSimulationMode\")"
   ]
  },
  {
   "cell_type": "code",
   "execution_count": 15,
   "metadata": {},
   "outputs": [
    {
     "name": "stdout",
     "output_type": "stream",
     "text": [
      "5 s ± 0 ns per loop (mean ± std. dev. of 1 run, 1 loop each)\n"
     ]
    }
   ],
   "source": [
    "%timeit -n1 -r 1 manager.salTelemetrySub(\"ATMonochromator_command_setValue\")"
   ]
  },
  {
   "cell_type": "code",
   "execution_count": 16,
   "metadata": {},
   "outputs": [
    {
     "name": "stdout",
     "output_type": "stream",
     "text": [
      "5 s ± 0 ns per loop (mean ± std. dev. of 1 run, 1 loop each)\n"
     ]
    }
   ],
   "source": [
    "%timeit -n1 -r 1 manager.salTelemetrySub(\"ATMonochromator_command_standby\")"
   ]
  },
  {
   "cell_type": "code",
   "execution_count": 17,
   "metadata": {},
   "outputs": [
    {
     "name": "stdout",
     "output_type": "stream",
     "text": [
      "5 s ± 0 ns per loop (mean ± std. dev. of 1 run, 1 loop each)\n"
     ]
    }
   ],
   "source": [
    "%timeit -n1 -r 1 manager.salTelemetrySub(\"ATMonochromator_command_start\")"
   ]
  },
  {
   "cell_type": "code",
   "execution_count": 3,
   "metadata": {},
   "outputs": [
    {
     "name": "stdout",
     "output_type": "stream",
     "text": [
      "6.21 s ± 0 ns per loop (mean ± std. dev. of 1 run, 1 loop each)\n",
      "5 s ± 0 ns per loop (mean ± std. dev. of 1 run, 1 loop each)\n",
      "5 s ± 0 ns per loop (mean ± std. dev. of 1 run, 1 loop each)\n",
      "5 s ± 0 ns per loop (mean ± std. dev. of 1 run, 1 loop each)\n",
      "5 s ± 0 ns per loop (mean ± std. dev. of 1 run, 1 loop each)\n",
      "5 s ± 0 ns per loop (mean ± std. dev. of 1 run, 1 loop each)\n",
      "5 s ± 0 ns per loop (mean ± std. dev. of 1 run, 1 loop each)\n",
      "5 s ± 0 ns per loop (mean ± std. dev. of 1 run, 1 loop each)\n",
      "5 s ± 0 ns per loop (mean ± std. dev. of 1 run, 1 loop each)\n",
      "5 s ± 0 ns per loop (mean ± std. dev. of 1 run, 1 loop each)\n",
      "5 s ± 0 ns per loop (mean ± std. dev. of 1 run, 1 loop each)\n",
      "5 s ± 0 ns per loop (mean ± std. dev. of 1 run, 1 loop each)\n",
      "5 s ± 0 ns per loop (mean ± std. dev. of 1 run, 1 loop each)\n",
      "5 s ± 0 ns per loop (mean ± std. dev. of 1 run, 1 loop each)\n",
      "5 s ± 0 ns per loop (mean ± std. dev. of 1 run, 1 loop each)\n"
     ]
    }
   ],
   "source": [
    "%timeit -n1 -r 1 manager.salTelemetrySub(\"ATMonochromator_command_abort\")\n",
    "%timeit -n1 -r 1 manager.salTelemetrySub(\"ATMonochromator_command_calibrateWavelength\")\n",
    "%timeit -n1 -r 1 manager.salTelemetrySub(\"ATMonochromator_command_changeSlitWidth\")\n",
    "%timeit -n1 -r 1 manager.salTelemetrySub(\"ATMonochromator_command_changeWavelength\")\n",
    "%timeit -n1 -r 1 manager.salTelemetrySub(\"ATMonochromator_command_disable\")\n",
    "%timeit -n1 -r 1 manager.salTelemetrySub(\"ATMonochromator_command_enable\")\n",
    "%timeit -n1 -r 1 manager.salTelemetrySub(\"ATMonochromator_command_enterControl\")\n",
    "%timeit -n1 -r 1 manager.salTelemetrySub(\"ATMonochromator_command_exitControl\")\n",
    "%timeit -n1 -r 1 manager.salTelemetrySub(\"ATMonochromator_command_power\")\n",
    "%timeit -n1 -r 1 manager.salTelemetrySub(\"ATMonochromator_command_selectGrating\")\n",
    "%timeit -n1 -r 1 manager.salTelemetrySub(\"ATMonochromator_command_setLogLevel\")\n",
    "%timeit -n1 -r 1 manager.salTelemetrySub(\"ATMonochromator_command_setSimulationMode\")\n",
    "%timeit -n1 -r 1 manager.salTelemetrySub(\"ATMonochromator_command_setValue\")\n",
    "%timeit -n1 -r 1 manager.salTelemetrySub(\"ATMonochromator_command_standby\")\n",
    "%timeit -n1 -r 1 manager.salTelemetrySub(\"ATMonochromator_command_start\")\n"
   ]
  },
  {
   "cell_type": "code",
   "execution_count": 3,
   "metadata": {},
   "outputs": [],
   "source": [
    "manager = SALPY_ATMonochromator.SAL_ATMonochromator()"
   ]
  },
  {
   "cell_type": "code",
   "execution_count": 4,
   "metadata": {},
   "outputs": [
    {
     "name": "stdout",
     "output_type": "stream",
     "text": [
      "6.21 s ± 0 ns per loop (mean ± std. dev. of 1 run, 1 loop each)\n",
      "5 s ± 0 ns per loop (mean ± std. dev. of 1 run, 1 loop each)\n",
      "5 s ± 0 ns per loop (mean ± std. dev. of 1 run, 1 loop each)\n",
      "5 s ± 0 ns per loop (mean ± std. dev. of 1 run, 1 loop each)\n",
      "5 s ± 0 ns per loop (mean ± std. dev. of 1 run, 1 loop each)\n",
      "5 s ± 0 ns per loop (mean ± std. dev. of 1 run, 1 loop each)\n",
      "5 s ± 0 ns per loop (mean ± std. dev. of 1 run, 1 loop each)\n",
      "5 s ± 0 ns per loop (mean ± std. dev. of 1 run, 1 loop each)\n",
      "5 s ± 0 ns per loop (mean ± std. dev. of 1 run, 1 loop each)\n",
      "5 s ± 0 ns per loop (mean ± std. dev. of 1 run, 1 loop each)\n",
      "5 s ± 0 ns per loop (mean ± std. dev. of 1 run, 1 loop each)\n",
      "5 s ± 0 ns per loop (mean ± std. dev. of 1 run, 1 loop each)\n",
      "5 s ± 0 ns per loop (mean ± std. dev. of 1 run, 1 loop each)\n",
      "5 s ± 0 ns per loop (mean ± std. dev. of 1 run, 1 loop each)\n",
      "5 s ± 0 ns per loop (mean ± std. dev. of 1 run, 1 loop each)\n",
      "5 s ± 0 ns per loop (mean ± std. dev. of 1 run, 1 loop each)\n",
      "5 s ± 0 ns per loop (mean ± std. dev. of 1 run, 1 loop each)\n",
      "5 s ± 0 ns per loop (mean ± std. dev. of 1 run, 1 loop each)\n",
      "5 s ± 0 ns per loop (mean ± std. dev. of 1 run, 1 loop each)\n",
      "5 s ± 0 ns per loop (mean ± std. dev. of 1 run, 1 loop each)\n",
      "5 s ± 0 ns per loop (mean ± std. dev. of 1 run, 1 loop each)\n"
     ]
    }
   ],
   "source": [
    "%timeit -n1 -r 1 manager.salTelemetrySub(\"ATMonochromator_logevent_appliedSettingsMatchStart\")\n",
    "%timeit -n1 -r 1 manager.salTelemetrySub(\"ATMonochromator_logevent_detailedState\")\n",
    "%timeit -n1 -r 1 manager.salTelemetrySub(\"ATMonochromator_logevent_errorCode\")\n",
    "%timeit -n1 -r 1 manager.salTelemetrySub(\"ATMonochromator_logevent_heartbeat\")\n",
    "%timeit -n1 -r 1 manager.salTelemetrySub(\"ATMonochromator_logevent_inPosition\")\n",
    "%timeit -n1 -r 1 manager.salTelemetrySub(\"ATMonochromator_logevent_internalCommand\")\n",
    "%timeit -n1 -r 1 manager.salTelemetrySub(\"ATMonochromator_logevent_logLevel\")\n",
    "%timeit -n1 -r 1 manager.salTelemetrySub(\"ATMonochromator_logevent_logMessage\")\n",
    "%timeit -n1 -r 1 manager.salTelemetrySub(\"ATMonochromator_logevent_loopTimeOutOfRange\")\n",
    "%timeit -n1 -r 1 manager.salTelemetrySub(\"ATMonochromator_logevent_monochromatorConnected\")\n",
    "%timeit -n1 -r 1 manager.salTelemetrySub(\"ATMonochromator_logevent_rejectedCommand\")\n",
    "%timeit -n1 -r 1 manager.salTelemetrySub(\"ATMonochromator_logevent_selectedGrating\")\n",
    "%timeit -n1 -r 1 manager.salTelemetrySub(\"ATMonochromator_logevent_settingVersions\")\n",
    "%timeit -n1 -r 1 manager.salTelemetrySub(\"ATMonochromator_logevent_settingsAppliedLoop\")\n",
    "%timeit -n1 -r 1 manager.salTelemetrySub(\"ATMonochromator_logevent_settingsAppliedMonoCommunication\")\n",
    "%timeit -n1 -r 1 manager.salTelemetrySub(\"ATMonochromator_logevent_settingsAppliedMonoHeartbeat\")\n",
    "%timeit -n1 -r 1 manager.salTelemetrySub(\"ATMonochromator_logevent_settingsAppliedMonochromatorRanges\")\n",
    "%timeit -n1 -r 1 manager.salTelemetrySub(\"ATMonochromator_logevent_simulationMode\")\n",
    "%timeit -n1 -r 1 manager.salTelemetrySub(\"ATMonochromator_logevent_slitWidth\")\n",
    "%timeit -n1 -r 1 manager.salTelemetrySub(\"ATMonochromator_logevent_summaryState\")\n",
    "%timeit -n1 -r 1 manager.salTelemetrySub(\"ATMonochromator_logevent_wavelength\")"
   ]
  },
  {
   "cell_type": "code",
   "execution_count": 3,
   "metadata": {},
   "outputs": [],
   "source": [
    "manager = SALPY_Test.SAL_Test()"
   ]
  },
  {
   "cell_type": "code",
   "execution_count": 4,
   "metadata": {},
   "outputs": [
    {
     "name": "stdout",
     "output_type": "stream",
     "text": [
      "6.21 s ± 0 ns per loop (mean ± std. dev. of 1 run, 1 loop each)\n",
      "2.43 ms ± 0 ns per loop (mean ± std. dev. of 1 run, 1 loop each)\n",
      "1.74 ms ± 0 ns per loop (mean ± std. dev. of 1 run, 1 loop each)\n",
      "1.91 ms ± 0 ns per loop (mean ± std. dev. of 1 run, 1 loop each)\n",
      "3.18 ms ± 0 ns per loop (mean ± std. dev. of 1 run, 1 loop each)\n",
      "1.63 ms ± 0 ns per loop (mean ± std. dev. of 1 run, 1 loop each)\n",
      "1.57 ms ± 0 ns per loop (mean ± std. dev. of 1 run, 1 loop each)\n",
      "983 µs ± 0 ns per loop (mean ± std. dev. of 1 run, 1 loop each)\n",
      "1.21 ms ± 0 ns per loop (mean ± std. dev. of 1 run, 1 loop each)\n",
      "969 µs ± 0 ns per loop (mean ± std. dev. of 1 run, 1 loop each)\n",
      "2.62 ms ± 0 ns per loop (mean ± std. dev. of 1 run, 1 loop each)\n",
      "3.3 ms ± 0 ns per loop (mean ± std. dev. of 1 run, 1 loop each)\n",
      "1.59 ms ± 0 ns per loop (mean ± std. dev. of 1 run, 1 loop each)\n",
      "2.77 ms ± 0 ns per loop (mean ± std. dev. of 1 run, 1 loop each)\n",
      "5.01 s ± 0 ns per loop (mean ± std. dev. of 1 run, 1 loop each)\n",
      "5 s ± 0 ns per loop (mean ± std. dev. of 1 run, 1 loop each)\n",
      "5 s ± 0 ns per loop (mean ± std. dev. of 1 run, 1 loop each)\n",
      "5 s ± 0 ns per loop (mean ± std. dev. of 1 run, 1 loop each)\n",
      "5 s ± 0 ns per loop (mean ± std. dev. of 1 run, 1 loop each)\n",
      "5 s ± 0 ns per loop (mean ± std. dev. of 1 run, 1 loop each)\n",
      "5 s ± 0 ns per loop (mean ± std. dev. of 1 run, 1 loop each)\n",
      "5 s ± 0 ns per loop (mean ± std. dev. of 1 run, 1 loop each)\n",
      "5 s ± 0 ns per loop (mean ± std. dev. of 1 run, 1 loop each)\n",
      "5 s ± 0 ns per loop (mean ± std. dev. of 1 run, 1 loop each)\n",
      "2.15 s ± 0 ns per loop (mean ± std. dev. of 1 run, 1 loop each)\n",
      "1.63 ms ± 0 ns per loop (mean ± std. dev. of 1 run, 1 loop each)\n",
      "858 µs ± 0 ns per loop (mean ± std. dev. of 1 run, 1 loop each)\n",
      "795 µs ± 0 ns per loop (mean ± std. dev. of 1 run, 1 loop each)\n",
      "483 µs ± 0 ns per loop (mean ± std. dev. of 1 run, 1 loop each)\n",
      "743 µs ± 0 ns per loop (mean ± std. dev. of 1 run, 1 loop each)\n",
      "516 µs ± 0 ns per loop (mean ± std. dev. of 1 run, 1 loop each)\n",
      "751 µs ± 0 ns per loop (mean ± std. dev. of 1 run, 1 loop each)\n",
      "796 µs ± 0 ns per loop (mean ± std. dev. of 1 run, 1 loop each)\n",
      "814 µs ± 0 ns per loop (mean ± std. dev. of 1 run, 1 loop each)\n",
      "847 µs ± 0 ns per loop (mean ± std. dev. of 1 run, 1 loop each)\n",
      "771 µs ± 0 ns per loop (mean ± std. dev. of 1 run, 1 loop each)\n",
      "729 µs ± 0 ns per loop (mean ± std. dev. of 1 run, 1 loop each)\n",
      "1.09 ms ± 0 ns per loop (mean ± std. dev. of 1 run, 1 loop each)\n",
      "1.08 s ± 0 ns per loop (mean ± std. dev. of 1 run, 1 loop each)\n",
      "953 µs ± 0 ns per loop (mean ± std. dev. of 1 run, 1 loop each)\n",
      "644 µs ± 0 ns per loop (mean ± std. dev. of 1 run, 1 loop each)\n",
      "641 µs ± 0 ns per loop (mean ± std. dev. of 1 run, 1 loop each)\n",
      "600 µs ± 0 ns per loop (mean ± std. dev. of 1 run, 1 loop each)\n",
      "432 µs ± 0 ns per loop (mean ± std. dev. of 1 run, 1 loop each)\n",
      "573 µs ± 0 ns per loop (mean ± std. dev. of 1 run, 1 loop each)\n",
      "554 µs ± 0 ns per loop (mean ± std. dev. of 1 run, 1 loop each)\n",
      "593 µs ± 0 ns per loop (mean ± std. dev. of 1 run, 1 loop each)\n",
      "569 µs ± 0 ns per loop (mean ± std. dev. of 1 run, 1 loop each)\n",
      "569 µs ± 0 ns per loop (mean ± std. dev. of 1 run, 1 loop each)\n",
      "553 µs ± 0 ns per loop (mean ± std. dev. of 1 run, 1 loop each)\n",
      "402 µs ± 0 ns per loop (mean ± std. dev. of 1 run, 1 loop each)\n",
      "570 µs ± 0 ns per loop (mean ± std. dev. of 1 run, 1 loop each)\n"
     ]
    }
   ],
   "source": [
    "%timeit -n1 -r 1 manager.salCommand(\"Test_command_abort\")\n",
    "%timeit -n1 -r 1 manager.salCommand(\"Test_command_disable\")\n",
    "%timeit -n1 -r 1 manager.salCommand(\"Test_command_enable\")\n",
    "%timeit -n1 -r 1 manager.salCommand(\"Test_command_enterControl\")\n",
    "%timeit -n1 -r 1 manager.salCommand(\"Test_command_exitControl\")\n",
    "%timeit -n1 -r 1 manager.salCommand(\"Test_command_fault\")\n",
    "%timeit -n1 -r 1 manager.salCommand(\"Test_command_setArrays\")\n",
    "%timeit -n1 -r 1 manager.salCommand(\"Test_command_setLogLevel\")\n",
    "%timeit -n1 -r 1 manager.salCommand(\"Test_command_setScalars\")\n",
    "%timeit -n1 -r 1 manager.salCommand(\"Test_command_setSimulationMode\")\n",
    "%timeit -n1 -r 1 manager.salCommand(\"Test_command_setValue\")\n",
    "%timeit -n1 -r 1 manager.salCommand(\"Test_command_standby\")\n",
    "%timeit -n1 -r 1 manager.salCommand(\"Test_command_start\")\n",
    "%timeit -n1 -r 1 manager.salCommand(\"Test_command_wait\")\n",
    "%timeit -n1 -r 1 manager.salProcessor(\"Test_command_abort\")\n",
    "%timeit -n1 -r 1 manager.salProcessor(\"Test_command_disable\")\n",
    "%timeit -n1 -r 1 manager.salProcessor(\"Test_command_enable\")\n",
    "%timeit -n1 -r 1 manager.salProcessor(\"Test_command_enterControl\")\n",
    "%timeit -n1 -r 1 manager.salProcessor(\"Test_command_exitControl\")\n",
    "%timeit -n1 -r 1 manager.salProcessor(\"Test_command_fault\")\n",
    "%timeit -n1 -r 1 manager.salProcessor(\"Test_command_setArrays\")\n",
    "%timeit -n1 -r 1 manager.salProcessor(\"Test_command_setLogLevel\")\n",
    "%timeit -n1 -r 1 manager.salProcessor(\"Test_command_setScalars\")\n",
    "%timeit -n1 -r 1 manager.salProcessor(\"Test_command_setSimulationMode\")\n",
    "%timeit -n1 -r 1 manager.salProcessor(\"Test_command_setValue\")\n",
    "%timeit -n1 -r 1 manager.salProcessor(\"Test_command_standby\")\n",
    "%timeit -n1 -r 1 manager.salProcessor(\"Test_command_start\")\n",
    "%timeit -n1 -r 1 manager.salProcessor(\"Test_command_wait\")\n",
    "%timeit -n1 -r 1 manager.salEventPub(\"Test_logevent_appliedSettingsMatchStart\")\n",
    "%timeit -n1 -r 1 manager.salEventPub(\"Test_logevent_arrays\")\n",
    "%timeit -n1 -r 1 manager.salEventPub(\"Test_logevent_errorCode\")\n",
    "%timeit -n1 -r 1 manager.salEventPub(\"Test_logevent_heartbeat\")\n",
    "%timeit -n1 -r 1 manager.salEventPub(\"Test_logevent_logLevel\")\n",
    "%timeit -n1 -r 1 manager.salEventPub(\"Test_logevent_logMessage\")\n",
    "%timeit -n1 -r 1 manager.salEventPub(\"Test_logevent_scalars\")\n",
    "%timeit -n1 -r 1 manager.salEventPub(\"Test_logevent_settingVersions\")\n",
    "%timeit -n1 -r 1 manager.salEventPub(\"Test_logevent_simulationMode\")\n",
    "%timeit -n1 -r 1 manager.salEventPub(\"Test_logevent_summaryState\")\n",
    "%timeit -n1 -r 1 manager.salEventSub(\"Test_logevent_appliedSettingsMatchStart\")\n",
    "%timeit -n1 -r 1 manager.salEventSub(\"Test_logevent_arrays\")\n",
    "%timeit -n1 -r 1 manager.salEventSub(\"Test_logevent_errorCode\")\n",
    "%timeit -n1 -r 1 manager.salEventSub(\"Test_logevent_heartbeat\")\n",
    "%timeit -n1 -r 1 manager.salEventSub(\"Test_logevent_logLevel\")\n",
    "%timeit -n1 -r 1 manager.salEventSub(\"Test_logevent_logMessage\")\n",
    "%timeit -n1 -r 1 manager.salEventSub(\"Test_logevent_scalars\")\n",
    "%timeit -n1 -r 1 manager.salEventSub(\"Test_logevent_settingVersions\")\n",
    "%timeit -n1 -r 1 manager.salEventSub(\"Test_logevent_simulationMode\")\n",
    "%timeit -n1 -r 1 manager.salEventSub(\"Test_logevent_summaryState\")\n",
    "%timeit -n1 -r 1 manager.salTelemetrySub(\"Test_arrays\")\n",
    "%timeit -n1 -r 1 manager.salTelemetrySub(\"Test_scalars\")\n",
    "%timeit -n1 -r 1 manager.salTelemetryPub(\"Test_arrays\")\n",
    "%timeit -n1 -r 1 manager.salTelemetryPub(\"Test_scalars\")"
   ]
  },
  {
   "cell_type": "code",
   "execution_count": null,
   "metadata": {},
   "outputs": [],
   "source": []
  }
 ],
 "metadata": {
  "kernelspec": {
   "display_name": "Python 3",
   "language": "python",
   "name": "python3"
  },
  "language_info": {
   "codemirror_mode": {
    "name": "ipython",
    "version": 3
   },
   "file_extension": ".py",
   "mimetype": "text/x-python",
   "name": "python",
   "nbconvert_exporter": "python",
   "pygments_lexer": "ipython3",
   "version": "3.6.6"
  }
 },
 "nbformat": 4,
 "nbformat_minor": 2
}
