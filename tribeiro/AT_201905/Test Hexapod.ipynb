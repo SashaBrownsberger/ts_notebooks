{
 "cells": [
  {
   "cell_type": "code",
   "execution_count": 1,
   "metadata": {},
   "outputs": [],
   "source": [
    "import SALPY_ATHexapod"
   ]
  },
  {
   "cell_type": "code",
   "execution_count": 2,
   "metadata": {},
   "outputs": [],
   "source": [
    "from lsst.ts import salobj\n",
    "import asyncio"
   ]
  },
  {
   "cell_type": "code",
   "execution_count": 3,
   "metadata": {},
   "outputs": [],
   "source": [
    "r = salobj.Remote(SALPY_ATHexapod)"
   ]
  },
  {
   "cell_type": "code",
   "execution_count": 4,
   "metadata": {},
   "outputs": [
    {
     "data": {
      "text/plain": [
       "<SALPY_ATHexapod.ATHexapod_logevent_heartbeatC at 0x7f8bb0a661f0>"
      ]
     },
     "execution_count": 4,
     "metadata": {},
     "output_type": "execute_result"
    }
   ],
   "source": [
    "await r.evt_heartbeat.next(flush=True, timeout=3)"
   ]
  },
  {
   "cell_type": "code",
   "execution_count": 11,
   "metadata": {},
   "outputs": [],
   "source": [
    "await salobj.set_summary_state(r, salobj.State.ENABLED, settingsToApply=\"Default1\")"
   ]
  },
  {
   "cell_type": "code",
   "execution_count": 19,
   "metadata": {},
   "outputs": [
    {
     "data": {
      "text/plain": [
       "<State.ENABLED: 2>"
      ]
     },
     "execution_count": 19,
     "metadata": {},
     "output_type": "execute_result"
    }
   ],
   "source": [
    "salobj.State(r.evt_summaryState.get().summaryState)"
   ]
  },
  {
   "cell_type": "code",
   "execution_count": 17,
   "metadata": {},
   "outputs": [
    {
     "name": "stdout",
     "output_type": "stream",
     "text": [
      "Apply correction...\n",
      "--> 0.0 0.0 4.0 -0.0 0.0 -0.0\n"
     ]
    }
   ],
   "source": [
    "coro = r.evt_positionUpdate.next(flush=True, timeout=5)\n",
    "print(\"Apply correction...\")\n",
    "r.cmd_moveToPosition.set(z=4.)\n",
    "await r.cmd_moveToPosition.start()\n",
    "id_data = await coro\n",
    "print('-->', \n",
    "      id_data.positionX, \n",
    "      id_data.positionY, \n",
    "      id_data.positionZ, \n",
    "      id_data.positionU, \n",
    "      id_data.positionV, \n",
    "      id_data.positionW)\n",
    "\n"
   ]
  },
  {
   "cell_type": "code",
   "execution_count": 18,
   "metadata": {},
   "outputs": [
    {
     "name": "stdout",
     "output_type": "stream",
     "text": [
      "Apply correction...\n",
      "--> 0.0 0.0 5.0 -0.0 0.0 -0.0\n",
      "Apply correction...\n",
      "--> 0.0 0.0 5.0001 -0.0 0.0 -0.0\n",
      "Apply correction...\n",
      "--> 0.0 0.0 5.0002 -0.0 0.0 -0.0\n",
      "Apply correction...\n",
      "--> 0.0 0.0 5.0003 -0.0 0.0 -0.0\n",
      "Apply correction...\n",
      "--> 0.0 0.0 5.0004 -0.0 0.0 -0.0\n"
     ]
    }
   ],
   "source": [
    "for i in range(5):\n",
    "    coro = r.evt_positionUpdate.next(flush=True, timeout=5)\n",
    "    print(\"Apply correction...\")\n",
    "    r.cmd_moveToPosition.set(z=5.+float(i)*1e-4)\n",
    "    await r.cmd_moveToPosition.start()\n",
    "    id_data = await coro\n",
    "    print('-->', \n",
    "          id_data.positionX, \n",
    "          id_data.positionY, \n",
    "          id_data.positionZ, \n",
    "          id_data.positionU, \n",
    "          id_data.positionV, \n",
    "          id_data.positionW)\n"
   ]
  },
  {
   "cell_type": "code",
   "execution_count": null,
   "metadata": {},
   "outputs": [],
   "source": [
    "r.cmd_start.set(settingsToApply=\"Default1\")"
   ]
  },
  {
   "cell_type": "code",
   "execution_count": null,
   "metadata": {},
   "outputs": [],
   "source": [
    "await r.cmd_start.start(timeout=10)"
   ]
  },
  {
   "cell_type": "code",
   "execution_count": null,
   "metadata": {},
   "outputs": [],
   "source": [
    "print(hb)"
   ]
  },
  {
   "cell_type": "code",
   "execution_count": null,
   "metadata": {},
   "outputs": [],
   "source": [
    "import os"
   ]
  },
  {
   "cell_type": "code",
   "execution_count": null,
   "metadata": {},
   "outputs": [],
   "source": [
    "print(os.environ[\"LSST_DDS_DOMAIN\"])"
   ]
  },
  {
   "cell_type": "code",
   "execution_count": 20,
   "metadata": {},
   "outputs": [],
   "source": [
    "await salobj.set_summary_state(r, salobj.State.STANDBY, settingsToApply=\"Default1\")"
   ]
  },
  {
   "cell_type": "code",
   "execution_count": 21,
   "metadata": {},
   "outputs": [
    {
     "data": {
      "text/plain": [
       "<State.STANDBY: 5>"
      ]
     },
     "execution_count": 21,
     "metadata": {},
     "output_type": "execute_result"
    }
   ],
   "source": [
    "salobj.State(r.evt_summaryState.get().summaryState)"
   ]
  },
  {
   "cell_type": "code",
   "execution_count": 22,
   "metadata": {},
   "outputs": [
    {
     "data": {
      "text/plain": [
       "CommandIdAck(cmd_id=1559159966, ack=(ack=303, error=0, result='Done'))"
      ]
     },
     "execution_count": 22,
     "metadata": {},
     "output_type": "execute_result"
    }
   ],
   "source": [
    "await r.cmd_exitControl.start()"
   ]
  },
  {
   "cell_type": "code",
   "execution_count": null,
   "metadata": {},
   "outputs": [],
   "source": []
  },
  {
   "cell_type": "code",
   "execution_count": null,
   "metadata": {},
   "outputs": [],
   "source": []
  },
  {
   "cell_type": "markdown",
   "metadata": {},
   "source": [
    "# ONLY RUN THIS ONCE"
   ]
  },
  {
   "cell_type": "code",
   "execution_count": null,
   "metadata": {},
   "outputs": [],
   "source": [
    "%%script bash \n",
    "make_salpy_libs.py ATAOS ATHexapod ATPneumatics"
   ]
  }
 ],
 "metadata": {
  "kernelspec": {
   "display_name": "Python 3",
   "language": "python",
   "name": "python3"
  },
  "language_info": {
   "codemirror_mode": {
    "name": "ipython",
    "version": 3
   },
   "file_extension": ".py",
   "mimetype": "text/x-python",
   "name": "python",
   "nbconvert_exporter": "python",
   "pygments_lexer": "ipython3",
   "version": "3.6.6"
  }
 },
 "nbformat": 4,
 "nbformat_minor": 2
}
