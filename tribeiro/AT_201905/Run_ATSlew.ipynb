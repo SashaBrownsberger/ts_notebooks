{
 "cells": [
  {
   "cell_type": "code",
   "execution_count": 1,
   "metadata": {},
   "outputs": [],
   "source": [
    "from lsst.ts.standardscripts.auxtel.integration_tests.at_slewing import ATSlewing"
   ]
  },
  {
   "cell_type": "code",
   "execution_count": 2,
   "metadata": {},
   "outputs": [],
   "source": [
    "from lsst.ts import salobj"
   ]
  },
  {
   "cell_type": "code",
   "execution_count": 3,
   "metadata": {},
   "outputs": [],
   "source": [
    "import yaml"
   ]
  },
  {
   "cell_type": "code",
   "execution_count": 4,
   "metadata": {},
   "outputs": [],
   "source": [
    "import logging"
   ]
  },
  {
   "cell_type": "code",
   "execution_count": 5,
   "metadata": {},
   "outputs": [],
   "source": [
    "script = ATSlewing(index=10)"
   ]
  },
  {
   "cell_type": "code",
   "execution_count": 6,
   "metadata": {},
   "outputs": [],
   "source": [
    "script.log.setLevel(logging.DEBUG)\n",
    "script.log.addHandler(logging.StreamHandler())"
   ]
  },
  {
   "cell_type": "code",
   "execution_count": 7,
   "metadata": {},
   "outputs": [
    {
     "name": "stdout",
     "output_type": "stream",
     "text": [
      "*** configure\n"
     ]
    }
   ],
   "source": [
    "config_dict = dict(enable_atmcs=False, \n",
    "                   enable_atptg=False, \n",
    "                   enable_athexapod=False,\n",
    "                   enable_atpneumatics=False,\n",
    "                   startEl=60.,\n",
    "                   startAz=10.,\n",
    "                   endEl=45.,\n",
    "                   endAz=300.\n",
    "                  )\n",
    "\n",
    "print(\"*** configure\")\n",
    "config_data = script.cmd_configure.DataType()\n",
    "config_data.config = yaml.safe_dump(config_dict)\n",
    "config_id_data = salobj.CommandIdData(1, config_data)\n",
    "await script.do_configure(config_id_data)"
   ]
  },
  {
   "cell_type": "code",
   "execution_count": 8,
   "metadata": {},
   "outputs": [
    {
     "name": "stderr",
     "output_type": "stream",
     "text": [
      "Enable ATAOS\n",
      "here\n",
      "telescope initial el=44.17078831374238, az=-61.034093497437425\n",
      "Time error=-16.43 sec\n"
     ]
    },
    {
     "name": "stdout",
     "output_type": "stream",
     "text": [
      "*** run\n",
      "here\n",
      "waited for csc enables\n"
     ]
    },
    {
     "name": "stderr",
     "output_type": "stream",
     "text": [
      "raDecTargetStart ra=3.4418823913308585 hour; declination=-0.6850224453878558 deg\n",
      "raDecTarget command result: Done : OK\n"
     ]
    },
    {
     "name": "stdout",
     "output_type": "stream",
     "text": [
      "move to starting position\n"
     ]
    },
    {
     "name": "stderr",
     "output_type": "stream",
     "text": [
      "finished slew to start pos\n",
      "target event time=1559746651.67; current tai unix =1559746614.74; diff=36.92 sec\n",
      "desired starting el=60.00, az=10.00; target el=60.06, az=9.33 deg\n",
      "target velocity el=0.0006, az=-0.0083\n",
      "el/az separation=556.0948829953195 arcsec; max=1.0 deg\n"
     ]
    },
    {
     "name": "stdout",
     "output_type": "stream",
     "text": [
      "computed el=60.05405136523768, az=9.34593692504859\n",
      "computed el=60.05424806056544, az=9.344282002100954\n",
      "computed el=60.055275346618146, az=9.342642278308631\n",
      "computed el=60.0567076462321, az=9.339358807439567\n",
      "computed el=60.05651408014819, az=9.33601811612607\n"
     ]
    },
    {
     "name": "stderr",
     "output_type": "stream",
     "text": [
      "Wait for correction to complete.\n"
     ]
    },
    {
     "name": "stdout",
     "output_type": "stream",
     "text": [
      "computed el=60.05536385951564, az=9.332723469371558\n"
     ]
    },
    {
     "name": "stderr",
     "output_type": "stream",
     "text": [
      "raDecTargetEnd ra=0.5883738470275185 hour; declination=-3.01265336553238 deg\n",
      "Stopping tracking...\n",
      "Sending raDecTarget...\n"
     ]
    },
    {
     "name": "stdout",
     "output_type": "stream",
     "text": [
      "moving to ending position\n"
     ]
    },
    {
     "name": "stderr",
     "output_type": "stream",
     "text": [
      "raDecTarget command result: Done : OK\n",
      "finished slew to end pos\n",
      "telescope final el=44.41534095584939, az=-60.73665171688481\n"
     ]
    },
    {
     "name": "stdout",
     "output_type": "stream",
     "text": [
      "checking ATAOS events reporting az/el consistent with target\n"
     ]
    },
    {
     "name": "stderr",
     "output_type": "stream",
     "text": [
      "AOS M1 Correction start reported el=44.408287910310904, az=-60.74531790302444\n",
      "endEl: 45.0 - 44.408287910310904 = 0.5917120896890964\n",
      "endAz: 300.0 - -60.74531790302444 = 360.74531790302444\n",
      "Error in run\n",
      "Traceback (most recent call last):\n",
      "  File \"/home/saluser/repos/ts_scriptqueue/python/lsst/ts/scriptqueue/base_script.py\", line 383, in do_run\n",
      "    await self._run_task\n",
      "  File \"/home/saluser/repos/ts_standardscripts/python/lsst/ts/standardscripts/auxtel/integration_tests/at_slewing.py\", line 306, in run\n",
      "    assert isclose(self.endAz.value, data.azimuth, rel_tol=self.tolerance)\n",
      "AssertionError\n",
      "cleanup\n",
      "Tracking stopped\n",
      "Setting final state to <ScriptState.FAILED: 10>\n"
     ]
    },
    {
     "name": "stdout",
     "output_type": "stream",
     "text": [
      "***\n",
      "299.25468209697556\n",
      "*** done\n"
     ]
    }
   ],
   "source": [
    "print(\"*** run\")\n",
    "await script.do_run(None)\n",
    "print(\"*** done\")"
   ]
  },
  {
   "cell_type": "code",
   "execution_count": null,
   "metadata": {},
   "outputs": [],
   "source": [
    "from math import isclose"
   ]
  },
  {
   "cell_type": "code",
   "execution_count": null,
   "metadata": {},
   "outputs": [],
   "source": [
    "isclose?"
   ]
  },
  {
   "cell_type": "code",
   "execution_count": null,
   "metadata": {},
   "outputs": [],
   "source": [
    "0.8295530668448023/44.1704469331552"
   ]
  },
  {
   "cell_type": "code",
   "execution_count": null,
   "metadata": {},
   "outputs": [],
   "source": []
  }
 ],
 "metadata": {
  "kernelspec": {
   "display_name": "Python 3",
   "language": "python",
   "name": "python3"
  },
  "language_info": {
   "codemirror_mode": {
    "name": "ipython",
    "version": 3
   },
   "file_extension": ".py",
   "mimetype": "text/x-python",
   "name": "python",
   "nbconvert_exporter": "python",
   "pygments_lexer": "ipython3",
   "version": "3.6.6"
  }
 },
 "nbformat": 4,
 "nbformat_minor": 2
}
