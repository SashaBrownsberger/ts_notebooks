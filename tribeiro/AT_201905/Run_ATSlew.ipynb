{
 "cells": [
  {
   "cell_type": "code",
   "execution_count": 1,
   "metadata": {},
   "outputs": [],
   "source": [
    "from lsst.ts.standardscripts.auxtel.integration_tests.at_slewing import ATSlewing"
   ]
  },
  {
   "cell_type": "code",
   "execution_count": 2,
   "metadata": {},
   "outputs": [],
   "source": [
    "from lsst.ts import salobj"
   ]
  },
  {
   "cell_type": "code",
   "execution_count": 3,
   "metadata": {},
   "outputs": [],
   "source": [
    "import yaml"
   ]
  },
  {
   "cell_type": "code",
   "execution_count": 4,
   "metadata": {},
   "outputs": [],
   "source": [
    "import logging"
   ]
  },
  {
   "cell_type": "code",
   "execution_count": 5,
   "metadata": {},
   "outputs": [],
   "source": [
    "script = ATSlewing(index=10)"
   ]
  },
  {
   "cell_type": "code",
   "execution_count": 6,
   "metadata": {},
   "outputs": [],
   "source": [
    "script.log.setLevel(logging.DEBUG)\n",
    "script.log.addHandler(logging.StreamHandler())"
   ]
  },
  {
   "cell_type": "code",
   "execution_count": 7,
   "metadata": {},
   "outputs": [
    {
     "name": "stdout",
     "output_type": "stream",
     "text": [
      "*** configure\n"
     ]
    }
   ],
   "source": [
    "config_dict = dict(enable_atmcs=False, \n",
    "                   enable_atptg=False, \n",
    "                   enable_athexapod=False,\n",
    "                   enable_atpneumatics=False,\n",
    "                   startEl=60.,\n",
    "                   startAz=10.,\n",
    "                   endEl=45.,\n",
    "                   endAz=300.\n",
    "                  )\n",
    "\n",
    "print(\"*** configure\")\n",
    "config_data = script.cmd_configure.DataType()\n",
    "config_data.config = yaml.safe_dump(config_dict)\n",
    "config_id_data = salobj.CommandIdData(1, config_data)\n",
    "await script.do_configure(config_id_data)"
   ]
  },
  {
   "cell_type": "code",
   "execution_count": 8,
   "metadata": {},
   "outputs": [
    {
     "name": "stderr",
     "output_type": "stream",
     "text": [
      "Enable ATAOS\n",
      "here\n",
      "telescope initial el=60.06148913083598, az=9.256366343135596\n",
      "Time error=-4.04 sec\n"
     ]
    },
    {
     "name": "stdout",
     "output_type": "stream",
     "text": [
      "*** run\n",
      "here\n",
      "waited for csc enables\n"
     ]
    },
    {
     "name": "stderr",
     "output_type": "stream",
     "text": [
      "raDecTargetStart ra=4.395804353684849 hour; declination=-0.6622147568674724 deg\n",
      "raDecTarget command result: Done : OK\n"
     ]
    },
    {
     "name": "stdout",
     "output_type": "stream",
     "text": [
      "move to starting position\n"
     ]
    },
    {
     "name": "stderr",
     "output_type": "stream",
     "text": [
      "finished slew to start pos\n",
      "target event time=1559750019.63; current tai unix =1559749982.74; diff=36.89 sec\n",
      "desired starting el=60.00, az=10.00; target el=60.02, az=9.80 deg\n",
      "target velocity el=0.0006, az=-0.0083\n",
      "el/az separation=555.9144210369246 arcsec; max=1.0 deg\n"
     ]
    },
    {
     "name": "stdout",
     "output_type": "stream",
     "text": [
      "computed el=60.02122515022347, az=9.813338667983771\n",
      "computed el=60.02233558475564, az=9.811692685718299\n",
      "computed el=60.022364642005414, az=9.810024798745872\n",
      "computed el=60.02231725631282, az=9.808350653285743\n",
      "computed el=60.02220460353419, az=9.806685895557166\n",
      "computed el=60.02151661692187, az=9.803372920388938\n",
      "checking ATAOS events reporting az/el consistent with target\n"
     ]
    },
    {
     "name": "stderr",
     "output_type": "stream",
     "text": [
      "AOS M1 Correction start reported el=60.02493113986806, az=9.762197229688354\n",
      "endEl: 60.0 - 60.02493113986806 = -0.02493113986805895\n",
      "endAz: 10.0 - 9.762197229688354 = 0.23780277031164587\n",
      "AOS M1 Correction complete reported el=60.02493113986806, az=9.762197229688354\n",
      "endEl: 60.0 - 60.02493113986806 = -0.02493113986805895\n",
      "endAz: 10.0 - 9.762197229688354 = 0.23780277031164587\n",
      "AOS M2 Correction start reported el=60.026768882128785, az=9.737324015209197\n",
      "endEl: 60.0 - 60.026768882128785 = -0.02676888212878481\n",
      "endAz: 10.0 - 9.737324015209197 = 0.26267598479080334\n",
      "AOS M2 Correction complete reported el=60.026768882128785, az=9.737324015209197\n",
      "endEl: 60.0 - 60.026768882128785 = -0.02676888212878481\n",
      "endAz: 10.0 - 9.737324015209197 = 0.26267598479080334\n",
      "AOS hexapod Correction start reported el=60.028541006943456, az=9.713276549294847\n",
      "endEl: 60.0 - 60.028541006943456 = -0.028541006943456182\n",
      "endAz: 10.0 - 9.713276549294847 = 0.2867234507051535\n",
      "AOS hexapod Correction complete reported el=60.028541006943456, az=9.713276549294847\n",
      "endEl: 60.0 - 60.028541006943456 = -0.028541006943456182\n",
      "endAz: 10.0 - 9.713276549294847 = 0.2867234507051535\n",
      "Wait for correction to complete.\n",
      "raDecTargetEnd ra=1.5424275558065517 hour; declination=-3.005039833573048 deg\n",
      "Stopping tracking...\n",
      "Sending raDecTarget...\n"
     ]
    },
    {
     "name": "stdout",
     "output_type": "stream",
     "text": [
      "moving to ending position\n"
     ]
    },
    {
     "name": "stderr",
     "output_type": "stream",
     "text": [
      "raDecTarget command result: Done : OK\n",
      "finished slew to end pos\n",
      "telescope final el=44.57152598678658, az=-60.54590195242781\n"
     ]
    },
    {
     "name": "stdout",
     "output_type": "stream",
     "text": [
      "checking ATAOS events reporting az/el consistent with target\n"
     ]
    },
    {
     "name": "stderr",
     "output_type": "stream",
     "text": [
      "AOS M1 Correction start reported el=44.56046767632786, az=299.44055821657923\n",
      "endEl: 45.0 - 44.56046767632786 = 0.43953232367213957\n",
      "endAz: 300.0 - 299.44055821657923 = 0.5594417834207661\n",
      "AOS M1 Correction complete reported el=44.56046767632786, az=299.44055821657923\n",
      "endEl: 45.0 - 44.56046767632786 = 0.43953232367213957\n",
      "endAz: 300.0 - 299.44055821657923 = 0.5594417834207661\n",
      "AOS M2 Correction start reported el=44.551172263800524, az=299.4291680783698\n",
      "endEl: 45.0 - 44.551172263800524 = 0.44882773619947613\n",
      "endAz: 300.0 - 299.4291680783698 = 0.5708319216302016\n",
      "AOS M2 Correction complete reported el=44.551172263800524, az=299.4291680783698\n",
      "endEl: 45.0 - 44.551172263800524 = 0.44882773619947613\n",
      "endAz: 300.0 - 299.4291680783698 = 0.5708319216302016\n",
      "AOS hexapod Correction start reported el=44.541405432152125, az=299.41720540951917\n",
      "endEl: 45.0 - 44.541405432152125 = 0.4585945678478751\n",
      "endAz: 300.0 - 299.41720540951917 = 0.5827945904808303\n",
      "AOS hexapod Correction complete reported el=44.541405432152125, az=299.41720540951917\n",
      "endEl: 45.0 - 44.541405432152125 = 0.4585945678478751\n",
      "endAz: 300.0 - 299.41720540951917 = 0.5827945904808303\n",
      "cleanup\n",
      "Tracking stopped\n",
      "Setting final state to <ScriptState.DONE: 8>\n"
     ]
    },
    {
     "name": "stdout",
     "output_type": "stream",
     "text": [
      "*** done\n"
     ]
    }
   ],
   "source": [
    "print(\"*** run\")\n",
    "await script.do_run(None)\n",
    "print(\"*** done\")"
   ]
  },
  {
   "cell_type": "code",
   "execution_count": null,
   "metadata": {},
   "outputs": [],
   "source": [
    "from math import isclose"
   ]
  },
  {
   "cell_type": "code",
   "execution_count": null,
   "metadata": {},
   "outputs": [],
   "source": [
    "isclose?"
   ]
  },
  {
   "cell_type": "code",
   "execution_count": null,
   "metadata": {},
   "outputs": [],
   "source": [
    "0.8295530668448023/44.1704469331552"
   ]
  },
  {
   "cell_type": "code",
   "execution_count": null,
   "metadata": {},
   "outputs": [],
   "source": []
  }
 ],
 "metadata": {
  "kernelspec": {
   "display_name": "Python 3",
   "language": "python",
   "name": "python3"
  },
  "language_info": {
   "codemirror_mode": {
    "name": "ipython",
    "version": 3
   },
   "file_extension": ".py",
   "mimetype": "text/x-python",
   "name": "python",
   "nbconvert_exporter": "python",
   "pygments_lexer": "ipython3",
   "version": "3.6.6"
  }
 },
 "nbformat": 4,
 "nbformat_minor": 2
}
