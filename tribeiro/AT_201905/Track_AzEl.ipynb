{
 "cells": [
  {
   "cell_type": "code",
   "execution_count": 263,
   "metadata": {},
   "outputs": [],
   "source": [
    "import logging\n",
    "import yaml\n",
    "\n",
    "import astropy.units as u\n",
    "from astropy.time import Time\n",
    "from astropy.coordinates import AltAz, ICRS, EarthLocation, Angle, FK5\n",
    "import asyncio\n",
    "\n",
    "# import palpy\n",
    "\n",
    "from lsst.ts import salobj\n",
    "\n",
    "import SALPY_ATPtg\n",
    "import SALPY_ATMCS"
   ]
  },
  {
   "cell_type": "code",
   "execution_count": 2,
   "metadata": {},
   "outputs": [],
   "source": [
    "from astropy.utils import iers\n",
    "iers.conf.auto_download = False\n",
    "\n"
   ]
  },
  {
   "cell_type": "code",
   "execution_count": 3,
   "metadata": {},
   "outputs": [
    {
     "name": "stdout",
     "output_type": "stream",
     "text": [
      "lsatmcs\n"
     ]
    }
   ],
   "source": [
    "import os\n",
    "print(os.environ[\"LSST_DDS_DOMAIN\"])"
   ]
  },
  {
   "cell_type": "code",
   "execution_count": 4,
   "metadata": {},
   "outputs": [],
   "source": [
    "d = salobj.Domain()"
   ]
  },
  {
   "cell_type": "code",
   "execution_count": 5,
   "metadata": {},
   "outputs": [],
   "source": [
    "r1 = salobj.Remote(d, \"ATPtg\")"
   ]
  },
  {
   "cell_type": "code",
   "execution_count": 6,
   "metadata": {},
   "outputs": [],
   "source": [
    "await r1.start_task"
   ]
  },
  {
   "cell_type": "code",
   "execution_count": 12,
   "metadata": {},
   "outputs": [],
   "source": [
    "r2 = salobj.Remote(d, \"ATMCS\")"
   ]
  },
  {
   "cell_type": "code",
   "execution_count": 13,
   "metadata": {},
   "outputs": [],
   "source": [
    "await r2.start_task"
   ]
  },
  {
   "cell_type": "code",
   "execution_count": null,
   "metadata": {},
   "outputs": [],
   "source": []
  },
  {
   "cell_type": "code",
   "execution_count": null,
   "metadata": {},
   "outputs": [],
   "source": [
    "await salobj.set_summary_state(r2, salobj.State.ENABLED)"
   ]
  },
  {
   "cell_type": "code",
   "execution_count": null,
   "metadata": {},
   "outputs": [],
   "source": [
    "r3 = salobj.Remote(d, \"ATDomeTrajectory\")"
   ]
  },
  {
   "cell_type": "code",
   "execution_count": null,
   "metadata": {},
   "outputs": [],
   "source": [
    "await r3.start_task"
   ]
  },
  {
   "cell_type": "code",
   "execution_count": null,
   "metadata": {},
   "outputs": [],
   "source": []
  },
  {
   "cell_type": "code",
   "execution_count": null,
   "metadata": {},
   "outputs": [],
   "source": [
    "await salobj.set_summary_state(r3, salobj.State.ENABLED)"
   ]
  },
  {
   "cell_type": "code",
   "execution_count": null,
   "metadata": {},
   "outputs": [],
   "source": [
    "r4 = salobj.Remote(d, \"ATPneumatics\")"
   ]
  },
  {
   "cell_type": "code",
   "execution_count": null,
   "metadata": {},
   "outputs": [],
   "source": [
    "r5 = salobj.Remote(d, \"ATDome\", index=1)"
   ]
  },
  {
   "cell_type": "code",
   "execution_count": null,
   "metadata": {},
   "outputs": [],
   "source": [
    "await r5.start_task"
   ]
  },
  {
   "cell_type": "code",
   "execution_count": null,
   "metadata": {},
   "outputs": [],
   "source": [
    "await r5.evt_heartbeat.next(flush=True, timeout=5)"
   ]
  },
  {
   "cell_type": "code",
   "execution_count": null,
   "metadata": {},
   "outputs": [],
   "source": [
    "await salobj.set_summary_state(r5, salobj.State.ENABLED, settingsToApply='test')"
   ]
  },
  {
   "cell_type": "code",
   "execution_count": null,
   "metadata": {},
   "outputs": [],
   "source": [
    "await salobj.set_summary_state(r5, salobj.State.STANDBY)"
   ]
  },
  {
   "cell_type": "code",
   "execution_count": null,
   "metadata": {},
   "outputs": [],
   "source": [
    "await r5.cmd_homeAzimuth.start()"
   ]
  },
  {
   "cell_type": "code",
   "execution_count": null,
   "metadata": {},
   "outputs": [],
   "source": [
    "await r5.cmd_openShutter.start()"
   ]
  },
  {
   "cell_type": "code",
   "execution_count": null,
   "metadata": {},
   "outputs": [],
   "source": [
    "error = await r5.evt_errorCode.next(flush=False, timeout=5)"
   ]
  },
  {
   "cell_type": "code",
   "execution_count": null,
   "metadata": {},
   "outputs": [],
   "source": [
    "print(error.errorReport)"
   ]
  },
  {
   "cell_type": "code",
   "execution_count": null,
   "metadata": {},
   "outputs": [],
   "source": [
    "await asyncio.sleep(5)\n",
    "print(salobj.State(r2.evt_summaryState.get().summaryState))"
   ]
  },
  {
   "cell_type": "code",
   "execution_count": null,
   "metadata": {},
   "outputs": [],
   "source": [
    "await r2.cmd_disable.start(timeout=30)"
   ]
  },
  {
   "cell_type": "code",
   "execution_count": null,
   "metadata": {},
   "outputs": [],
   "source": [
    "await r5.cmd_openShutter.start()"
   ]
  },
  {
   "cell_type": "code",
   "execution_count": null,
   "metadata": {},
   "outputs": [],
   "source": [
    "await r1.start_task\n",
    "await r2.start_task"
   ]
  },
  {
   "cell_type": "code",
   "execution_count": null,
   "metadata": {},
   "outputs": [],
   "source": [
    "r1 = salobj.Remote(SALPY_ATPtg)\n",
    "r2 = salobj.Remote(SALPY_ATMCS)"
   ]
  },
  {
   "cell_type": "code",
   "execution_count": null,
   "metadata": {},
   "outputs": [],
   "source": [
    "await r1.tel_timeAndDate.next(flush=True)"
   ]
  },
  {
   "cell_type": "code",
   "execution_count": null,
   "metadata": {},
   "outputs": [],
   "source": [
    "# r1.evt_summaryState.flush()\n",
    "await salobj.set_summary_state(r1, salobj.State.STANDBY)"
   ]
  },
  {
   "cell_type": "code",
   "execution_count": null,
   "metadata": {},
   "outputs": [],
   "source": [
    "await salobj.set_summary_state(r1, salobj.State.ENABLED)"
   ]
  },
  {
   "cell_type": "code",
   "execution_count": null,
   "metadata": {},
   "outputs": [],
   "source": [
    "await r2.cmd_start.start(timeout=30)"
   ]
  },
  {
   "cell_type": "code",
   "execution_count": null,
   "metadata": {},
   "outputs": [],
   "source": [
    "await r2.cmd_enable.start(timeout=30)"
   ]
  },
  {
   "cell_type": "code",
   "execution_count": null,
   "metadata": {},
   "outputs": [],
   "source": [
    "await r2.cmd_disable.start(timeout=30)"
   ]
  },
  {
   "cell_type": "code",
   "execution_count": null,
   "metadata": {},
   "outputs": [],
   "source": [
    "await asyncio.sleep(5)"
   ]
  },
  {
   "cell_type": "code",
   "execution_count": null,
   "metadata": {},
   "outputs": [],
   "source": [
    "await salobj.set_summary_state(r2, salobj.State.DISABLED, timeout=60)"
   ]
  },
  {
   "cell_type": "code",
   "execution_count": null,
   "metadata": {},
   "outputs": [],
   "source": [
    "print('reading...')\n",
    "await asyncio.sleep(10.)\n",
    "print('working...')\n",
    "res = await salobj.set_summary_state(r2, salobj.State.ENABLED, timeout=60)\n",
    "print(res)\n",
    "print('done')"
   ]
  },
  {
   "cell_type": "code",
   "execution_count": null,
   "metadata": {},
   "outputs": [],
   "source": [
    "print('reading...')\n",
    "await asyncio.sleep(10.)\n",
    "print('working...')\n",
    "res = await salobj.set_summary_state(r2, salobj.State.ENABLED, timeout=60)\n",
    "print(res)\n",
    "print('done')"
   ]
  },
  {
   "cell_type": "code",
   "execution_count": null,
   "metadata": {},
   "outputs": [],
   "source": [
    "print(salobj.State(r1.evt_summaryState.get().summaryState))\n",
    "print(salobj.State(r2.evt_summaryState.get().summaryState))"
   ]
  },
  {
   "cell_type": "code",
   "execution_count": null,
   "metadata": {},
   "outputs": [],
   "source": [
    "await salobj.set_summary_state(r2, salobj.State.ENABLED, timeout=300)"
   ]
  },
  {
   "cell_type": "code",
   "execution_count": null,
   "metadata": {},
   "outputs": [],
   "source": [
    "await salobj.set_summary_state(r1, salobj.State.ENABLED, \n",
    "                               timeout=300)\n",
    "# await salobj.set_summary_state(r2, salobj.State.ENABLED, timeout=300)"
   ]
  },
  {
   "cell_type": "code",
   "execution_count": null,
   "metadata": {},
   "outputs": [],
   "source": [
    "print(salobj.State(r1.evt_summaryState.get().summaryState))\n",
    "print(salobj.State(r2.evt_summaryState.get().summaryState))"
   ]
  },
  {
   "cell_type": "code",
   "execution_count": 162,
   "metadata": {},
   "outputs": [],
   "source": [
    "location = EarthLocation.from_geodetic(lon=-70.747698*u.deg,\n",
    "                                                    lat=-30.244728*u.deg,\n",
    "                                                    height=2663.0*u.m)"
   ]
  },
  {
   "cell_type": "code",
   "execution_count": null,
   "metadata": {},
   "outputs": [],
   "source": [
    "time_data = await r1.tel_timeAndDate.next(flush=True, timeout=2)\n",
    "curr_time_atptg = Time(time_data.tai, format=\"mjd\", scale=\"tai\")\n",
    "time_err = curr_time_atptg - Time.now()\n",
    "print(f\"Time error={time_err.sec:0.2f} sec\")\n",
    "\n",
    "# Compute RA/Dec for commanded az/el\n",
    "cmd_elaz = AltAz(alt=70.*u.deg, az=0.*u.deg, \n",
    "                 obstime=curr_time_atptg.tai, \n",
    "                 location=location)\n",
    "cmd_radec = cmd_elaz.transform_to(ICRS)\n",
    "\n",
    "# Compute rot_pa\n",
    "lst = Angle(time_data.lst, unit=u.hourangle)\n",
    "lha = lst - cmd_radec.ra\n",
    "# rot_pa = Angle(palpy.pa(lha.radian, cmd_radec.dec.radian, location.lat.radian)*u.radian)\n",
    "# print(f\"rotPA: {rot_pa.deg}\")\n",
    "\n",
    "# Start tracking\n",
    "r1.cmd_raDecTarget.set(\n",
    "    targetName=\"atptg_atmcs_integration\",\n",
    "    targetInstance=SALPY_ATPtg.ATPtg_shared_TargetInstances_current,\n",
    "    frame=SALPY_ATPtg.ATPtg_shared_CoordFrame_icrs,\n",
    "    epoch=2000,  # should be ignored: no parallax or proper motion\n",
    "    equinox=2000,  # should be ignored for ICRS\n",
    "    ra=cmd_radec.ra.hour,\n",
    "    declination=cmd_radec.dec.deg,\n",
    "    parallax=0,\n",
    "    pmRA=0,\n",
    "    pmDec=0,\n",
    "    rv=0,\n",
    "    dRA=0,\n",
    "    dDec=0,\n",
    "    rotPA=180.-cmd_elaz.alt.deg,\n",
    "    rotFrame=SALPY_ATPtg.ATPtg_shared_RotFrame_fixed,\n",
    "    rotMode=SALPY_ATPtg.ATPtg_shared_RotMode_field,\n",
    ")\n",
    "print(f\"raDecTarget ra={r1.cmd_raDecTarget.data.ra!r} hour; \"\n",
    "      f\"declination={r1.cmd_raDecTarget.data.declination!r} deg\")\n",
    "# script.ataos.cmd_enableCorrection.set(hexapod=True)\n",
    "# await script.ataos.cmd_enableCorrection.start(timeout=10)\n",
    "\n"
   ]
  },
  {
   "cell_type": "code",
   "execution_count": null,
   "metadata": {},
   "outputs": [],
   "source": [
    "Angle('16:29:25', unit=u.hour), Angle('-26:25:55', unit=u.deg)\n",
    "Angle('16:54:02', unit=u.hour), Angle('-22:06:20', unit=u.deg)"
   ]
  },
  {
   "cell_type": "code",
   "execution_count": null,
   "metadata": {},
   "outputs": [],
   "source": [
    "Angle('16:29:25', unit=u.hour).hour"
   ]
  },
  {
   "cell_type": "code",
   "execution_count": null,
   "metadata": {},
   "outputs": [],
   "source": [
    "ICRS"
   ]
  },
  {
   "cell_type": "code",
   "execution_count": null,
   "metadata": {},
   "outputs": [],
   "source": [
    "r1.cmd_raDecTarget.set(\n",
    "    targetName=\"HR 7235\",\n",
    "    targetInstance=SALPY_ATPtg.ATPtg_shared_TargetInstances_current,\n",
    "    frame=SALPY_ATPtg.ATPtg_shared_CoordFrame_fk5,\n",
    "    epoch=2000,  # should be ignored: no parallax or proper motion\n",
    "    equinox=2019.56,  # should be ignored for ICRS\n",
    "    ra=Angle('19:05:24', unit=u.hour).hour,\n",
    "    declination=Angle('+13:51:47', unit=u.deg).deg,\n",
    "    parallax=0,\n",
    "    pmRA=0,\n",
    "    pmDec=0,\n",
    "    rv=0,\n",
    "    dRA=0,\n",
    "    dDec=0,\n",
    "    rotPA=180.-44.,\n",
    "    rotFrame=SALPY_ATPtg.ATPtg_shared_RotFrame_fixed,\n",
    "    rotMode=SALPY_ATPtg.ATPtg_shared_RotMode_field,\n",
    ")\n",
    "print(f\"raDecTarget ra={r1.cmd_raDecTarget.data.ra!r} hour; \"\n",
    "      f\"declination={r1.cmd_raDecTarget.data.declination!r} deg\")"
   ]
  },
  {
   "cell_type": "code",
   "execution_count": null,
   "metadata": {},
   "outputs": [],
   "source": [
    "r1.cmd_raDecTarget.set(\n",
    "    targetName=\"HR 6527\",\n",
    "    targetInstance=SALPY_ATPtg.ATPtg_shared_TargetInstances_current,\n",
    "    frame=SALPY_ATPtg.ATPtg_shared_CoordFrame_fk5,\n",
    "    epoch=2000,  # should be ignored: no parallax or proper motion\n",
    "    equinox=2019.5,  # should be ignored for ICRS\n",
    "    ra=Angle('17:33:36', unit=u.hour).hour,\n",
    "    declination=Angle('-37:06:12', unit=u.deg).deg,\n",
    "    parallax=0,\n",
    "    pmRA=0,\n",
    "    pmDec=0,\n",
    "    rv=0,\n",
    "    dRA=0,\n",
    "    dDec=0,\n",
    "    rotPA=180.-57.,\n",
    "    rotFrame=SALPY_ATPtg.ATPtg_shared_RotFrame_fixed,\n",
    "    rotMode=SALPY_ATPtg.ATPtg_shared_RotMode_field,\n",
    ")\n",
    "print(f\"raDecTarget ra={r1.cmd_raDecTarget.data.ra!r} hour; \"\n",
    "      f\"declination={r1.cmd_raDecTarget.data.declination!r} deg\")"
   ]
  },
  {
   "cell_type": "code",
   "execution_count": null,
   "metadata": {},
   "outputs": [],
   "source": [
    "dra = 0.24*24./360.\n",
    "ddec= -0.09\n",
    "print(dra)"
   ]
  },
  {
   "cell_type": "code",
   "execution_count": null,
   "metadata": {},
   "outputs": [],
   "source": [
    "# edge 1\n",
    "dra = 0.24*24./360.\n",
    "ddec= 0.05\n",
    "print(dra)"
   ]
  },
  {
   "cell_type": "code",
   "execution_count": null,
   "metadata": {},
   "outputs": [],
   "source": [
    "# edge 1 ------ this one\n",
    "dra = 0.29*24./360.\n",
    "ddec= 0.08\n",
    "print(dra)"
   ]
  },
  {
   "cell_type": "code",
   "execution_count": null,
   "metadata": {},
   "outputs": [],
   "source": [
    "# edge 2 ------ this one\n",
    "dra = 0.48*24./360.\n",
    "ddec= -0.36\n",
    "print(dra)"
   ]
  },
  {
   "cell_type": "code",
   "execution_count": 69,
   "metadata": {},
   "outputs": [
    {
     "name": "stdout",
     "output_type": "stream",
     "text": [
      "0.3862641583165593\n",
      "0.36\n",
      "-0.13999999999999999\n"
     ]
    }
   ],
   "source": [
    "import numpy as np\n",
    "dra = (0.24+0.48)/2.*24./360.\n",
    "ddec = (0.08-0.36)/2.\n",
    "print(np.sqrt( ((0.24+0.48)/2.)**2 + ddec**2))\n",
    "print((0.24+0.48)/2.)\n",
    "print(ddec)"
   ]
  },
  {
   "cell_type": "code",
   "execution_count": null,
   "metadata": {},
   "outputs": [],
   "source": [
    "r1.cmd_raDecTarget.set(\n",
    "    targetName=\"Moon\",\n",
    "    targetInstance=SALPY_ATPtg.ATPtg_shared_TargetInstances_current,\n",
    "    frame=SALPY_ATPtg.ATPtg_shared_CoordFrame_fk5,\n",
    "    epoch=2000,  # should be ignored: no parallax or proper motion\n",
    "    equinox=2000,  # should be ignored for ICRS\n",
    "    ra=Angle('02:18:08', unit=u.hour).hour+dra,\n",
    "    declination=Angle('8:29:15', unit=u.deg).deg+ddec,\n",
    "    parallax=0,\n",
    "    pmRA=0,\n",
    "    pmDec=0,\n",
    "    rv=0,\n",
    "    dRA=0,\n",
    "    dDec=0,\n",
    "    rotPA=180.-30.,\n",
    "    rotFrame=SALPY_ATPtg.ATPtg_shared_RotFrame_fixed,\n",
    "    rotMode=SALPY_ATPtg.ATPtg_shared_RotMode_field,\n",
    ")\n",
    "print(f\"raDecTarget ra={r1.cmd_raDecTarget.data.ra!r} hour; \"\n",
    "      f\"declination={r1.cmd_raDecTarget.data.declination!r} deg\")"
   ]
  },
  {
   "cell_type": "code",
   "execution_count": null,
   "metadata": {},
   "outputs": [],
   "source": [
    "dra = ((0.24+0.48)+0.0)/2.*24./360.\n",
    "ddec = ((0.08-0.36)+0.0)/2."
   ]
  },
  {
   "cell_type": "code",
   "execution_count": null,
   "metadata": {},
   "outputs": [],
   "source": [
    "dra = ((0.24+0.48)+0.035)/2.*24./360.\n",
    "ddec = ((0.08-0.36)+0.03)/2."
   ]
  },
  {
   "cell_type": "code",
   "execution_count": null,
   "metadata": {},
   "outputs": [],
   "source": [
    "dra = ((0.24+0.48)+0.055)/2.*24./360.\n",
    "ddec = ((0.08-0.36)+0.05)/2."
   ]
  },
  {
   "cell_type": "code",
   "execution_count": null,
   "metadata": {},
   "outputs": [],
   "source": [
    "dra = ((0.24+0.48)+0.065)/2.*24./360.\n",
    "ddec = ((0.08-0.36)+0.12)/2."
   ]
  },
  {
   "cell_type": "code",
   "execution_count": null,
   "metadata": {},
   "outputs": [],
   "source": [
    "r1.cmd_raDecTarget.set(\n",
    "    targetName=\"HIP 113368\",\n",
    "    targetInstance=SALPY_ATPtg.ATPtg_shared_TargetInstances_current,\n",
    "    frame=SALPY_ATPtg.ATPtg_shared_CoordFrame_fk5,\n",
    "    epoch=2000,  # should be ignored: no parallax or proper motion\n",
    "    equinox=2000,  # should be ignored for ICRS\n",
    "    ra=Angle('22:57:39', unit=u.hour).hour+dra,\n",
    "    declination=Angle('-29:37:20', unit=u.deg).deg+ddec,\n",
    "    parallax=0,\n",
    "    pmRA=0,\n",
    "    pmDec=0,\n",
    "    rv=0,\n",
    "    dRA=0,\n",
    "    dDec=0,\n",
    "    rotPA=180.-30.,\n",
    "    rotFrame=SALPY_ATPtg.ATPtg_shared_RotFrame_fixed,\n",
    "    rotMode=SALPY_ATPtg.ATPtg_shared_RotMode_field,\n",
    ")\n",
    "print(f\"raDecTarget ra={r1.cmd_raDecTarget.data.ra!r} hour; \"\n",
    "      f\"declination={r1.cmd_raDecTarget.data.declination!r} deg\")"
   ]
  },
  {
   "cell_type": "code",
   "execution_count": null,
   "metadata": {},
   "outputs": [],
   "source": [
    "dra = ((0.24+0.48)+0.055)/2.*24./360.\n",
    "ddec = ((0.08-0.36)+0.22)/2."
   ]
  },
  {
   "cell_type": "code",
   "execution_count": null,
   "metadata": {},
   "outputs": [],
   "source": [
    "r1.cmd_raDecTarget.set(\n",
    "    targetName=\"Achernar\",\n",
    "    targetInstance=SALPY_ATPtg.ATPtg_shared_TargetInstances_current,\n",
    "    frame=SALPY_ATPtg.ATPtg_shared_CoordFrame_fk5,\n",
    "    epoch=2000,  # should be ignored: no parallax or proper motion\n",
    "    equinox=2000,  # should be ignored for ICRS\n",
    "    ra=Angle('01:37:42', unit=u.hour).hour+dra,\n",
    "    declination=Angle('-57:14:11', unit=u.deg).deg+ddec,\n",
    "    parallax=0,\n",
    "    pmRA=0,\n",
    "    pmDec=0,\n",
    "    rv=0,\n",
    "    dRA=0,\n",
    "    dDec=0,\n",
    "    rotPA=180.-30.,\n",
    "    rotFrame=SALPY_ATPtg.ATPtg_shared_RotFrame_fixed,\n",
    "    rotMode=SALPY_ATPtg.ATPtg_shared_RotMode_field,\n",
    ")\n",
    "print(f\"raDecTarget ra={r1.cmd_raDecTarget.data.ra!r} hour; \"\n",
    "      f\"declination={r1.cmd_raDecTarget.data.declination!r} deg\")"
   ]
  },
  {
   "cell_type": "code",
   "execution_count": null,
   "metadata": {},
   "outputs": [],
   "source": [
    "dra = ((0.24+0.48)+0.055)/2.*24./360.\n",
    "ddec = ((0.08-0.36)+0.22)/2."
   ]
  },
  {
   "cell_type": "code",
   "execution_count": null,
   "metadata": {},
   "outputs": [],
   "source": [
    "r1.cmd_raDecTarget.set(\n",
    "    targetName=\"Canopus\",\n",
    "    targetInstance=SALPY_ATPtg.ATPtg_shared_TargetInstances_current,\n",
    "    frame=SALPY_ATPtg.ATPtg_shared_CoordFrame_fk5,\n",
    "    epoch=2000,  # should be ignored: no parallax or proper motion\n",
    "    equinox=2000,  # should be ignored for ICRS\n",
    "    ra=Angle('6:23:57', unit=u.hour).hour+dra,\n",
    "    declination=Angle('-52:41:44', unit=u.deg).deg+ddec,\n",
    "    parallax=0,\n",
    "    pmRA=0,\n",
    "    pmDec=0,\n",
    "    rv=0,\n",
    "    dRA=0,\n",
    "    dDec=0,\n",
    "    rotPA=180.-30.,\n",
    "    rotFrame=SALPY_ATPtg.ATPtg_shared_RotFrame_fixed,\n",
    "    rotMode=SALPY_ATPtg.ATPtg_shared_RotMode_field,\n",
    ")\n",
    "print(f\"raDecTarget ra={r1.cmd_raDecTarget.data.ra!r} hour; \"\n",
    "      f\"declination={r1.cmd_raDecTarget.data.declination!r} deg\")"
   ]
  },
  {
   "cell_type": "code",
   "execution_count": null,
   "metadata": {},
   "outputs": [],
   "source": [
    "# r2.evt_target.flush()\n",
    "# r2.evt_allAxesInPosition.flush()\n",
    "\n",
    "ack_id = await r1.cmd_raDecTarget.start(timeout=60)\n",
    "print(f\"raDecTarget command result: {ack_id.ack}\")\n",
    "\n",
    "# while True:\n",
    "#     in_position = await r2.evt_allAxesInPosition.next(flush=False)\n",
    "#     print(f\"Got {in_position.inPosition}\")\n",
    "#     if in_position.inPosition:\n",
    "#         break"
   ]
  },
  {
   "cell_type": "code",
   "execution_count": null,
   "metadata": {},
   "outputs": [],
   "source": []
  },
  {
   "cell_type": "code",
   "execution_count": null,
   "metadata": {},
   "outputs": [],
   "source": [
    "ack_id = await r1.cmd_stopTracking.start(timeout=30)"
   ]
  },
  {
   "cell_type": "code",
   "execution_count": null,
   "metadata": {},
   "outputs": [],
   "source": [
    "ack = await r1.cmd_offsetAzEl.set_start(az=-0.025*60.*60.) ### THIS ONE\n",
    "print(ack.ack,ack.error, ack.result)"
   ]
  },
  {
   "cell_type": "code",
   "execution_count": null,
   "metadata": {},
   "outputs": [],
   "source": [
    "ack = await r1.cmd_offsetAzEl.set_start(az=-0.3*60.*60.)\n",
    "print(ack.ack, ack.error, ack.result)"
   ]
  },
  {
   "cell_type": "code",
   "execution_count": null,
   "metadata": {},
   "outputs": [],
   "source": [
    "ack = await r1.cmd_offsetAzEl.set_start(el=+0.24*60.*60.) \n",
    "print(ack.ack, ack.error, ack.result)"
   ]
  },
  {
   "cell_type": "code",
   "execution_count": null,
   "metadata": {},
   "outputs": [],
   "source": [
    "ack = await r1.cmd_offsetAzEl.set_start(el=0.02*60.*60., az=0.02*60.*60.)### THIS ONE\n",
    "print(ack.ack, ack.error, ack.result)"
   ]
  },
  {
   "cell_type": "code",
   "execution_count": null,
   "metadata": {},
   "outputs": [],
   "source": [
    "ack = await r1.cmd_offsetAzEl.set_start(el=0.1*60.*60., az=-0.27*60.*60.)### THIS ONE\n",
    "print(ack.ack, ack.error, ack.result)"
   ]
  },
  {
   "cell_type": "code",
   "execution_count": null,
   "metadata": {},
   "outputs": [],
   "source": [
    "# while True:\n",
    "demand = await r1.tel_currentTargetStatus.next(flush=True, timeout=5)\n",
    "print(demand.demandAz, demand.demandEl, demand.demandRot)\n",
    "target = await r2.evt_target.next(flush=True, timeout=20)\n",
    "print(target.azimuth, target.elevation, target.nasmyth1RotatorAngle)"
   ]
  },
  {
   "cell_type": "code",
   "execution_count": null,
   "metadata": {},
   "outputs": [],
   "source": []
  },
  {
   "cell_type": "code",
   "execution_count": null,
   "metadata": {},
   "outputs": [],
   "source": [
    "from math import isclose"
   ]
  },
  {
   "cell_type": "code",
   "execution_count": null,
   "metadata": {},
   "outputs": [],
   "source": [
    "isclose?"
   ]
  },
  {
   "cell_type": "code",
   "execution_count": null,
   "metadata": {},
   "outputs": [],
   "source": []
  },
  {
   "cell_type": "code",
   "execution_count": null,
   "metadata": {},
   "outputs": [],
   "source": [
    "time_data = await r1.tel_timeAndDate.next(flush=True, timeout=2)\n",
    "curr_time_atptg = Time(time_data.tai, format=\"mjd\", scale=\"tai\")\n",
    "time_err = curr_time_atptg - Time.now()\n",
    "print(f\"Time error={time_err.sec:0.2f} sec\")\n",
    "\n",
    "# Compute RA/Dec for commanded az/el\n",
    "cmd_elaz = AltAz(alt=40.*u.deg, az=285.*u.deg, \n",
    "                 obstime=curr_time_atptg.tai, \n",
    "                 location=location)\n",
    "cmd_radec = cmd_elaz.transform_to(ICRS)\n",
    "\n",
    "# Start tracking\n",
    "r1.cmd_raDecTarget.set(\n",
    "    targetName=\"atptg_atmcs_integration\",\n",
    "    targetInstance=SALPY_ATPtg.ATPtg_shared_TargetInstances_current,\n",
    "    frame=SALPY_ATPtg.ATPtg_shared_CoordFrame_fk5,\n",
    "    epoch=2000,  # should be ignored: no parallax or proper motion\n",
    "    equinox=2000,  # should be ignored for ICRS\n",
    "    ra=cmd_radec.ra.hour,\n",
    "    declination=cmd_radec.dec.deg,\n",
    "    parallax=0,\n",
    "    pmRA=0,\n",
    "    pmDec=0,\n",
    "    rv=0,\n",
    "    dRA=0,\n",
    "    dDec=0,\n",
    "    rotPA=-180.,\n",
    "    rotFrame=SALPY_ATPtg.ATPtg_shared_RotFrame_target,\n",
    "    rotMode=SALPY_ATPtg.ATPtg_shared_RotMode_field,\n",
    ")\n",
    "print(f\"raDecTarget ra={r1.cmd_raDecTarget.data.ra!r} hour; \"\n",
    "      f\"declination={r1.cmd_raDecTarget.data.declination!r} deg\")\n",
    "# script.ataos.cmd_enableCorrection.set(hexapod=True)\n",
    "# await script.ataos.cmd_enableCorrection.start(timeout=10)\n"
   ]
  },
  {
   "cell_type": "code",
   "execution_count": null,
   "metadata": {},
   "outputs": [],
   "source": [
    "ack_id = await r2.cmd_startTracking.start(timeout=5, wait_done=False)\n",
    "print(f\"startTracking: {ack_id.ack.ack}::{ack_id.ack.result}\")"
   ]
  },
  {
   "cell_type": "code",
   "execution_count": null,
   "metadata": {},
   "outputs": [],
   "source": [
    "await r1.cmd_planetTarget.set_start(planetName='Jupiter')"
   ]
  },
  {
   "cell_type": "code",
   "execution_count": null,
   "metadata": {},
   "outputs": [],
   "source": [
    "target = await r2.evt_target.next(flush=True, timeout=5)\n",
    "print(target.azimuth, target.elevation, target.nasmyth1RotatorAngle)"
   ]
  },
  {
   "cell_type": "code",
   "execution_count": null,
   "metadata": {},
   "outputs": [],
   "source": [
    "demand = await r1.tel_currentTargetStatus.next(flush=True, timeout=5)\n",
    "demand.demandAz, demand.demandEl, demand.demandRot"
   ]
  },
  {
   "cell_type": "code",
   "execution_count": null,
   "metadata": {},
   "outputs": [],
   "source": []
  },
  {
   "cell_type": "code",
   "execution_count": null,
   "metadata": {},
   "outputs": [],
   "source": [
    "# demand = await r1.evt_trackPosting"
   ]
  },
  {
   "cell_type": "code",
   "execution_count": null,
   "metadata": {},
   "outputs": [],
   "source": [
    "demand = await r1.tel_currentTargetStatus.next(flush=True, timeout=5)\n",
    "demand.demandAz, demand.demandEl, demand.demandRot"
   ]
  },
  {
   "cell_type": "code",
   "execution_count": null,
   "metadata": {},
   "outputs": [],
   "source": [
    "ack_id = await r2.cmd_stopTracking.start(timeout=30)"
   ]
  },
  {
   "cell_type": "code",
   "execution_count": null,
   "metadata": {},
   "outputs": [],
   "source": [
    "print(salobj.State(r1.evt_summaryState.get().summaryState))\n",
    "print(salobj.State(r2.evt_summaryState.get().summaryState))"
   ]
  },
  {
   "cell_type": "code",
   "execution_count": null,
   "metadata": {},
   "outputs": [],
   "source": [
    "def atptg_target_callback(id_data):\n",
    "    print(id_data.demandAz, id_data.demandEl)\n",
    "\n",
    "# def atmcs_demand_callback(id_data):\n",
    "#     print(id_data.)"
   ]
  },
  {
   "cell_type": "code",
   "execution_count": null,
   "metadata": {},
   "outputs": [],
   "source": [
    "r1.tel_currentTargetStatus.callback = atptg_target_callback"
   ]
  },
  {
   "cell_type": "code",
   "execution_count": null,
   "metadata": {},
   "outputs": [],
   "source": [
    "await asyncio.sleep(10)"
   ]
  },
  {
   "cell_type": "code",
   "execution_count": null,
   "metadata": {},
   "outputs": [],
   "source": [
    "r1.tel_currentTargetStatus.callback = None"
   ]
  },
  {
   "cell_type": "code",
   "execution_count": null,
   "metadata": {},
   "outputs": [],
   "source": []
  },
  {
   "cell_type": "code",
   "execution_count": null,
   "metadata": {},
   "outputs": [],
   "source": []
  },
  {
   "cell_type": "code",
   "execution_count": null,
   "metadata": {},
   "outputs": [],
   "source": [
    "demand = await r1.tel_currentTargetStatus.next(flush=True, timeout=5)"
   ]
  },
  {
   "cell_type": "code",
   "execution_count": null,
   "metadata": {},
   "outputs": [],
   "source": [
    "demand = await r1.tel_currentTargetStatus.next(flush=True, timeout=5)\n",
    "demand.demandAz, demand.demandEl, demand.demandRot"
   ]
  },
  {
   "cell_type": "code",
   "execution_count": null,
   "metadata": {},
   "outputs": [],
   "source": []
  },
  {
   "cell_type": "code",
   "execution_count": null,
   "metadata": {},
   "outputs": [],
   "source": []
  },
  {
   "cell_type": "code",
   "execution_count": null,
   "metadata": {},
   "outputs": [],
   "source": [
    "for i in range(10):\n",
    "    demand = await r2.evt_target.next(flush=True, timeout=5)\n",
    "    print(demand.elevation, demand.azimuth)"
   ]
  },
  {
   "cell_type": "code",
   "execution_count": null,
   "metadata": {},
   "outputs": [],
   "source": [
    "ack_id = await r2.cmd_stopTracking.start(timeout=10)"
   ]
  },
  {
   "cell_type": "code",
   "execution_count": null,
   "metadata": {},
   "outputs": [],
   "source": [
    "await salobj.set_summary_state(r1, salobj.State.STANDBY, \n",
    "                               timeout=300)\n",
    "# await salobj.set_summary_state(r2, salobj.State.STANDBY, timeout=300)"
   ]
  },
  {
   "cell_type": "code",
   "execution_count": null,
   "metadata": {},
   "outputs": [],
   "source": [
    "import os"
   ]
  },
  {
   "cell_type": "code",
   "execution_count": null,
   "metadata": {},
   "outputs": [],
   "source": [
    "os.environ[\"LSST_DDS_DOMAIN\"]"
   ]
  },
  {
   "cell_type": "code",
   "execution_count": null,
   "metadata": {},
   "outputs": [],
   "source": [
    "await r1.cmd_exitControl.start()"
   ]
  },
  {
   "cell_type": "code",
   "execution_count": null,
   "metadata": {},
   "outputs": [],
   "source": [
    "50e-3*200"
   ]
  },
  {
   "cell_type": "code",
   "execution_count": null,
   "metadata": {},
   "outputs": [],
   "source": [
    "import palpy"
   ]
  },
  {
   "cell_type": "code",
   "execution_count": null,
   "metadata": {},
   "outputs": [],
   "source": [
    "palpy.pa?"
   ]
  },
  {
   "cell_type": "code",
   "execution_count": null,
   "metadata": {},
   "outputs": [],
   "source": [
    "location = EarthLocation.from_geodetic(lon=-70.747698*u.deg,\n",
    "                                                    lat=-30.244728*u.deg,\n",
    "                                                    height=2663.0*u.m)"
   ]
  },
  {
   "cell_type": "code",
   "execution_count": null,
   "metadata": {},
   "outputs": [],
   "source": [
    "time_data = await r1.tel_timeAndDate.next(flush=True, timeout=2)\n",
    "curr_time_atptg = Time(time_data.tai, format=\"mjd\", scale=\"tai\")\n",
    "time_err = curr_time_atptg - Time.now()\n",
    "print(f\"Time error={time_err.sec:0.2f} sec\")\n",
    "\n",
    "# Compute RA/Dec for commanded az/el\n",
    "cmd_elaz = AltAz(alt=45.*u.deg, az=0.*u.deg, \n",
    "                 obstime=curr_time_atptg.tai, \n",
    "                 location=location)\n",
    "cmd_radec = cmd_elaz.transform_to(ICRS)\n",
    "\n"
   ]
  },
  {
   "cell_type": "code",
   "execution_count": null,
   "metadata": {},
   "outputs": [],
   "source": [
    "cmd_radec.ra.hour,time_data.lst"
   ]
  },
  {
   "cell_type": "code",
   "execution_count": null,
   "metadata": {},
   "outputs": [],
   "source": [
    "lst = Angle(time_data.lst, unit=u.hour)"
   ]
  },
  {
   "cell_type": "code",
   "execution_count": null,
   "metadata": {},
   "outputs": [],
   "source": [
    "lha = lst - cmd_radec.ra"
   ]
  },
  {
   "cell_type": "code",
   "execution_count": null,
   "metadata": {},
   "outputs": [],
   "source": [
    "lha.hour"
   ]
  },
  {
   "cell_type": "code",
   "execution_count": null,
   "metadata": {},
   "outputs": [],
   "source": [
    "rot_pa = Angle(palpy.pa(lha.radian, cmd_radec.dec.radian, location.lat.radian)*u.radian)"
   ]
  },
  {
   "cell_type": "code",
   "execution_count": null,
   "metadata": {},
   "outputs": [],
   "source": [
    "rot_pa.deg"
   ]
  },
  {
   "cell_type": "code",
   "execution_count": null,
   "metadata": {},
   "outputs": [],
   "source": [
    "rot_pa.deg"
   ]
  },
  {
   "cell_type": "code",
   "execution_count": null,
   "metadata": {},
   "outputs": [],
   "source": [
    "palpy.pa?"
   ]
  },
  {
   "cell_type": "code",
   "execution_count": null,
   "metadata": {},
   "outputs": [],
   "source": [
    "1./200e-3/25"
   ]
  },
  {
   "cell_type": "code",
   "execution_count": null,
   "metadata": {},
   "outputs": [],
   "source": [
    "1./25e-3"
   ]
  },
  {
   "cell_type": "code",
   "execution_count": null,
   "metadata": {},
   "outputs": [],
   "source": []
  },
  {
   "cell_type": "code",
   "execution_count": null,
   "metadata": {},
   "outputs": [],
   "source": [
    "await r3.start_task"
   ]
  },
  {
   "cell_type": "code",
   "execution_count": null,
   "metadata": {},
   "outputs": [],
   "source": [
    "await salobj.set_summary_state(r3, salobj.State.DISABLED)"
   ]
  },
  {
   "cell_type": "code",
   "execution_count": null,
   "metadata": {},
   "outputs": [],
   "source": [
    "await r2.cmd_setInstrumentPort.set_start(port=1)"
   ]
  },
  {
   "cell_type": "code",
   "execution_count": null,
   "metadata": {},
   "outputs": [],
   "source": []
  },
  {
   "cell_type": "code",
   "execution_count": null,
   "metadata": {},
   "outputs": [],
   "source": [
    "await  r4.start_task"
   ]
  },
  {
   "cell_type": "code",
   "execution_count": null,
   "metadata": {},
   "outputs": [],
   "source": [
    "await r4.cmd_closeM1Cover.start()"
   ]
  },
  {
   "cell_type": "code",
   "execution_count": null,
   "metadata": {},
   "outputs": [],
   "source": []
  },
  {
   "cell_type": "code",
   "execution_count": null,
   "metadata": {},
   "outputs": [],
   "source": [
    "await r5.start_task"
   ]
  },
  {
   "cell_type": "code",
   "execution_count": null,
   "metadata": {},
   "outputs": [],
   "source": [
    "await r5.evt_heartbeat.next(flush=True, timeout=5)"
   ]
  },
  {
   "cell_type": "code",
   "execution_count": null,
   "metadata": {},
   "outputs": [],
   "source": [
    "await r5.cmd_closeShutter.start(timeout=10)"
   ]
  },
  {
   "cell_type": "code",
   "execution_count": null,
   "metadata": {},
   "outputs": [],
   "source": [
    "await asyncio.sleep(10)\n",
    "print(salobj.State(r5.evt_summaryState.get().summaryState))\n",
    "\n"
   ]
  },
  {
   "cell_type": "code",
   "execution_count": null,
   "metadata": {},
   "outputs": [],
   "source": [
    "await r5.cmd_disable.start(timeout=5)"
   ]
  },
  {
   "cell_type": "code",
   "execution_count": null,
   "metadata": {},
   "outputs": [],
   "source": [
    "rrra=Angle(263.4*u.deg)\n",
    "dddec=Angle(-37.1*u.deg)"
   ]
  },
  {
   "cell_type": "code",
   "execution_count": null,
   "metadata": {},
   "outputs": [],
   "source": []
  },
  {
   "cell_type": "code",
   "execution_count": null,
   "metadata": {},
   "outputs": [],
   "source": []
  },
  {
   "cell_type": "code",
   "execution_count": null,
   "metadata": {},
   "outputs": [],
   "source": []
  },
  {
   "cell_type": "code",
   "execution_count": null,
   "metadata": {},
   "outputs": [],
   "source": []
  },
  {
   "cell_type": "markdown",
   "metadata": {},
   "source": [
    "# 20190725"
   ]
  },
  {
   "cell_type": "code",
   "execution_count": 7,
   "metadata": {},
   "outputs": [],
   "source": [
    "dra = ((0.24+0.48)+0.055)/2.*24./360.\n",
    "ddec = ((0.08-0.36)+0.22)/2."
   ]
  },
  {
   "cell_type": "code",
   "execution_count": 10,
   "metadata": {},
   "outputs": [
    {
     "name": "stdout",
     "output_type": "stream",
     "text": [
      "raDecTarget ra=14.685833333333333 hour; declination=-60.863888888888894 deg\n"
     ]
    }
   ],
   "source": [
    "r1.cmd_raDecTarget.set(\n",
    "    targetName=\"Alpha Centauri\",\n",
    "    targetInstance=SALPY_ATPtg.ATPtg_shared_TargetInstances_current,\n",
    "    frame=SALPY_ATPtg.ATPtg_shared_CoordFrame_fk5,\n",
    "    epoch=2000,  # should be ignored: no parallax or proper motion\n",
    "    equinox=2000,  # should be ignored for ICRS\n",
    "    ra=Angle('14:39:36', unit=u.hour).hour+dra,\n",
    "    declination=Angle('-60 50 02', unit=u.deg).deg+ddec,\n",
    "    parallax=0,\n",
    "    pmRA=0,\n",
    "    pmDec=0,\n",
    "    rv=0,\n",
    "    dRA=0,\n",
    "    dDec=0,\n",
    "    rotPA=180.-59.,\n",
    "    rotFrame=SALPY_ATPtg.ATPtg_shared_RotFrame_fixed,\n",
    "    rotMode=SALPY_ATPtg.ATPtg_shared_RotMode_field,\n",
    ")\n",
    "print(f\"raDecTarget ra={r1.cmd_raDecTarget.data.ra!r} hour; \"\n",
    "      f\"declination={r1.cmd_raDecTarget.data.declination!r} deg\")"
   ]
  },
  {
   "cell_type": "code",
   "execution_count": 156,
   "metadata": {},
   "outputs": [],
   "source": [
    "dra = -0.35*24./360.\n",
    "ddec = -.55"
   ]
  },
  {
   "cell_type": "code",
   "execution_count": 159,
   "metadata": {},
   "outputs": [],
   "source": [
    "dra = -0.35*24./360.\n",
    "ddec = -.53"
   ]
  },
  {
   "cell_type": "code",
   "execution_count": 215,
   "metadata": {},
   "outputs": [],
   "source": [
    "dra = -0.29*24./360.\n",
    "ddec = -.57"
   ]
  },
  {
   "cell_type": "code",
   "execution_count": 216,
   "metadata": {},
   "outputs": [
    {
     "name": "stdout",
     "output_type": "stream",
     "text": [
      "raDecTarget ra=16.874277777777777 hour; declination=-22.67027777777778 deg\n"
     ]
    }
   ],
   "source": [
    "\n",
    "r1.cmd_raDecTarget.set(\n",
    "    targetName=\"Jupiter\",\n",
    "    targetInstance=SALPY_ATPtg.ATPtg_shared_TargetInstances_current,\n",
    "    frame=SALPY_ATPtg.ATPtg_shared_CoordFrame_fk5,\n",
    "    epoch=2000,  # should be ignored: no parallax or proper motion\n",
    "    equinox=2000,  # should be ignored for ICRS\n",
    "    ra=Angle('16:53:37', unit=u.hour).hour+dra,\n",
    "    declination=Angle('-22:06:01', unit=u.deg).deg+ddec,\n",
    "    parallax=0,\n",
    "    pmRA=0,\n",
    "    pmDec=0,\n",
    "    rv=0,\n",
    "    dRA=0,\n",
    "    dDec=0,\n",
    "    rotPA=180.-74.,\n",
    "    rotFrame=SALPY_ATPtg.ATPtg_shared_RotFrame_fixed,\n",
    "    rotMode=SALPY_ATPtg.ATPtg_shared_RotMode_field,\n",
    ")\n",
    "print(f\"raDecTarget ra={r1.cmd_raDecTarget.data.ra!r} hour; \"\n",
    "      f\"declination={r1.cmd_raDecTarget.data.declination!r} deg\")"
   ]
  },
  {
   "cell_type": "code",
   "execution_count": 212,
   "metadata": {},
   "outputs": [],
   "source": [
    "dra = -0.5*24./360.\n",
    "ddec = -.7"
   ]
  },
  {
   "cell_type": "code",
   "execution_count": 213,
   "metadata": {},
   "outputs": [
    {
     "name": "stdout",
     "output_type": "stream",
     "text": [
      "raDecTarget ra=17.13963888888889 hour; declination=-16.425 deg\n"
     ]
    }
   ],
   "source": [
    "\n",
    "r1.cmd_raDecTarget.set(\n",
    "    targetName=\"Eta Oph\",\n",
    "    targetInstance=SALPY_ATPtg.ATPtg_shared_TargetInstances_current,\n",
    "    frame=SALPY_ATPtg.ATPtg_shared_CoordFrame_fk5,\n",
    "    epoch=2000,  # should be ignored: no parallax or proper motion\n",
    "    equinox=2000,  # should be ignored for ICRS\n",
    "    ra=Angle('17:10:22.7 ', unit=u.hour).hour+dra,\n",
    "    declination=Angle('-15:43:30.', unit=u.deg).deg+ddec,\n",
    "    parallax=0,\n",
    "    pmRA=0,\n",
    "    pmDec=0,\n",
    "    rv=0,\n",
    "    dRA=0,\n",
    "    dDec=0,\n",
    "    rotPA=180.-74.,\n",
    "    rotFrame=SALPY_ATPtg.ATPtg_shared_RotFrame_fixed,\n",
    "    rotMode=SALPY_ATPtg.ATPtg_shared_RotMode_field,\n",
    ")\n",
    "print(f\"raDecTarget ra={r1.cmd_raDecTarget.data.ra!r} hour; \"\n",
    "      f\"declination={r1.cmd_raDecTarget.data.declination!r} deg\")"
   ]
  },
  {
   "cell_type": "code",
   "execution_count": 217,
   "metadata": {},
   "outputs": [
    {
     "name": "stderr",
     "output_type": "stream",
     "text": [
      "falling behind; queue contains 99 elements\n",
      "falling behind; queue contains 98 elements\n",
      "falling behind; queue contains 97 elements\n",
      "RemoteTelemetry(ATPtg, 0, timeAndDate) falling behind; read 100 messages\n",
      "falling behind; queue contains 99 elements\n",
      "falling behind; queue contains 98 elements\n",
      "falling behind; queue contains 97 elements\n"
     ]
    },
    {
     "data": {
      "text/plain": [
       "<lsst.ts.salobj.ddsutil.ATPtg_ackcmd at 0x7f735b66ff98>"
      ]
     },
     "execution_count": 217,
     "metadata": {},
     "output_type": "execute_result"
    }
   ],
   "source": [
    "await r1.cmd_raDecTarget.start()"
   ]
  },
  {
   "cell_type": "code",
   "execution_count": 187,
   "metadata": {},
   "outputs": [
    {
     "name": "stderr",
     "output_type": "stream",
     "text": [
      "falling behind; queue contains 99 elements\n",
      "falling behind; queue contains 98 elements\n",
      "falling behind; queue contains 97 elements\n",
      "RemoteEvent(ATPtg, 0, weatherDataApplied) falling behind; read 11 messages\n",
      "falling behind; queue contains 99 elements\n",
      "falling behind; queue contains 98 elements\n",
      "falling behind; queue contains 97 elements\n"
     ]
    },
    {
     "data": {
      "text/plain": [
       "<lsst.ts.salobj.ddsutil.ATPtg_ackcmd at 0x7f735bb0f828>"
      ]
     },
     "execution_count": 187,
     "metadata": {},
     "output_type": "execute_result"
    }
   ],
   "source": [
    "await r1.cmd_stopTracking.start()"
   ]
  },
  {
   "cell_type": "code",
   "execution_count": 185,
   "metadata": {},
   "outputs": [
    {
     "name": "stdout",
     "output_type": "stream",
     "text": [
      "raDecTarget ra=16.470794361111114 hour; declination=-27.002002611111113 deg\n"
     ]
    }
   ],
   "source": []
  },
  {
   "cell_type": "code",
   "execution_count": 17,
   "metadata": {},
   "outputs": [
    {
     "name": "stderr",
     "output_type": "stream",
     "text": [
      "falling behind; queue contains 99 elements\n",
      "falling behind; queue contains 98 elements\n",
      "falling behind; queue contains 97 elements\n",
      "falling behind; queue contains 99 elements\n",
      "falling behind; queue contains 98 elements\n",
      "falling behind; queue contains 97 elements\n",
      "falling behind; queue contains 99 elements\n",
      "falling behind; queue contains 98 elements\n",
      "falling behind; queue contains 97 elements\n",
      "falling behind; queue contains 99 elements\n",
      "falling behind; queue contains 98 elements\n",
      "falling behind; queue contains 97 elements\n",
      "falling behind; queue contains 99 elements\n",
      "falling behind; queue contains 98 elements\n",
      "falling behind; queue contains 97 elements\n",
      "falling behind; queue contains 99 elements\n",
      "falling behind; queue contains 98 elements\n",
      "falling behind; queue contains 97 elements\n",
      "falling behind; queue contains 99 elements\n",
      "falling behind; queue contains 98 elements\n",
      "falling behind; queue contains 97 elements\n",
      "falling behind; queue contains 99 elements\n",
      "falling behind; queue contains 98 elements\n",
      "falling behind; queue contains 97 elements\n",
      "falling behind; queue contains 99 elements\n",
      "falling behind; queue contains 98 elements\n",
      "falling behind; queue contains 97 elements\n",
      "falling behind; queue contains 99 elements\n",
      "falling behind; queue contains 98 elements\n",
      "falling behind; queue contains 97 elements\n",
      "falling behind; queue contains 26 elements\n"
     ]
    },
    {
     "data": {
      "text/plain": [
       "<lsst.ts.salobj.ddsutil.ATMCS_ackcmd at 0x7f735bad39e8>"
      ]
     },
     "execution_count": 17,
     "metadata": {},
     "output_type": "execute_result"
    }
   ],
   "source": [
    "await r2.cmd_startTracking.start()"
   ]
  },
  {
   "cell_type": "code",
   "execution_count": null,
   "metadata": {},
   "outputs": [],
   "source": []
  },
  {
   "cell_type": "code",
   "execution_count": null,
   "metadata": {},
   "outputs": [],
   "source": []
  },
  {
   "cell_type": "code",
   "execution_count": null,
   "metadata": {},
   "outputs": [],
   "source": []
  },
  {
   "cell_type": "markdown",
   "metadata": {},
   "source": [
    "# GRID"
   ]
  },
  {
   "cell_type": "code",
   "execution_count": 90,
   "metadata": {},
   "outputs": [],
   "source": [
    "dra_grid = np.arange(-1., 1.,0.1)*24./360.\n",
    "ddec_grid = np.arange(-1., 1.,0.1)"
   ]
  },
  {
   "cell_type": "code",
   "execution_count": 91,
   "metadata": {},
   "outputs": [
    {
     "data": {
      "text/plain": [
       "array([-6.66666667e-02, -6.00000000e-02, -5.33333333e-02, -4.66666667e-02,\n",
       "       -4.00000000e-02, -3.33333333e-02, -2.66666667e-02, -2.00000000e-02,\n",
       "       -1.33333333e-02, -6.66666667e-03, -1.48029737e-17,  6.66666667e-03,\n",
       "        1.33333333e-02,  2.00000000e-02,  2.66666667e-02,  3.33333333e-02,\n",
       "        4.00000000e-02,  4.66666667e-02,  5.33333333e-02,  6.00000000e-02])"
      ]
     },
     "execution_count": 91,
     "metadata": {},
     "output_type": "execute_result"
    }
   ],
   "source": [
    "dra_grid"
   ]
  },
  {
   "cell_type": "code",
   "execution_count": 80,
   "metadata": {},
   "outputs": [],
   "source": [
    "async def wait_center():\n",
    "    while True:\n",
    "        opt = input(\"Center telescope and choose action (press ?<enter>, for list of actions): \")\n",
    "        \n",
    "        if opt == 'x':\n",
    "            print(\"Telescope centered. Adding data and continuing...\")\n",
    "            await atptg.cmd_pointAddData.start()\n",
    "            return 0\n",
    "        elif opt == 's':\n",
    "            print(\"Skipping...\")\n",
    "            return 1\n",
    "        elif opt == 't':\n",
    "            print(\"Stopping test...\")\n",
    "            return -1\n",
    "        elif opt == '?':\n",
    "            print(\"\"\"Options are:\n",
    "            x - Telescope centered, add data and continue.\n",
    "            s - Skipp point and continue.\n",
    "            t - Terminate test.\n",
    "            \"\"\")"
   ]
  },
  {
   "cell_type": "code",
   "execution_count": 92,
   "metadata": {},
   "outputs": [
    {
     "name": "stderr",
     "output_type": "stream",
     "text": [
      "falling behind; queue contains 99 elements\n",
      "falling behind; queue contains 98 elements\n",
      "falling behind; queue contains 97 elements\n",
      "falling behind; queue contains 99 elements\n",
      "falling behind; queue contains 98 elements\n",
      "falling behind; queue contains 97 elements\n"
     ]
    },
    {
     "name": "stdout",
     "output_type": "stream",
     "text": [
      "GRID[0][0]\n",
      "raDecTarget ra=16.826944444444443 hour;declination=-23.10027777777778 deg\n"
     ]
    },
    {
     "name": "stdin",
     "output_type": "stream",
     "text": [
      "Center telescope and choose action (press ?<enter>, for list of actions):  t\n"
     ]
    },
    {
     "name": "stderr",
     "output_type": "stream",
     "text": [
      "falling behind; queue contains 99 elements\n",
      "falling behind; queue contains 98 elements\n",
      "falling behind; queue contains 97 elements\n"
     ]
    },
    {
     "name": "stdout",
     "output_type": "stream",
     "text": [
      "Stopping test...\n",
      "GRID[0][1]\n",
      "raDecTarget ra=16.826944444444443 hour;declination=-23.10027777777778 deg\n"
     ]
    },
    {
     "ename": "KeyboardInterrupt",
     "evalue": "",
     "output_type": "error",
     "traceback": [
      "\u001b[0;31m\u001b[0m",
      "\u001b[0;31mKeyboardInterrupt\u001b[0mTraceback (most recent call last)",
      "\u001b[0;32m/opt/lsst/software/stack/python/miniconda3-4.5.12/envs/lsst-scipipe-1172c30/lib/python3.7/site-packages/ipykernel/kernelbase.py\u001b[0m in \u001b[0;36m_input_request\u001b[0;34m(self, prompt, ident, parent, password)\u001b[0m\n\u001b[1;32m    884\u001b[0m             \u001b[0;32mtry\u001b[0m\u001b[0;34m:\u001b[0m\u001b[0;34m\u001b[0m\u001b[0;34m\u001b[0m\u001b[0m\n\u001b[0;32m--> 885\u001b[0;31m                 \u001b[0mident\u001b[0m\u001b[0;34m,\u001b[0m \u001b[0mreply\u001b[0m \u001b[0;34m=\u001b[0m \u001b[0mself\u001b[0m\u001b[0;34m.\u001b[0m\u001b[0msession\u001b[0m\u001b[0;34m.\u001b[0m\u001b[0mrecv\u001b[0m\u001b[0;34m(\u001b[0m\u001b[0mself\u001b[0m\u001b[0;34m.\u001b[0m\u001b[0mstdin_socket\u001b[0m\u001b[0;34m,\u001b[0m \u001b[0;36m0\u001b[0m\u001b[0;34m)\u001b[0m\u001b[0;34m\u001b[0m\u001b[0;34m\u001b[0m\u001b[0m\n\u001b[0m\u001b[1;32m    886\u001b[0m             \u001b[0;32mexcept\u001b[0m \u001b[0mException\u001b[0m\u001b[0;34m:\u001b[0m\u001b[0;34m\u001b[0m\u001b[0;34m\u001b[0m\u001b[0m\n",
      "\u001b[0;32m/opt/lsst/software/stack/python/miniconda3-4.5.12/envs/lsst-scipipe-1172c30/lib/python3.7/site-packages/jupyter_client/session.py\u001b[0m in \u001b[0;36mrecv\u001b[0;34m(self, socket, mode, content, copy)\u001b[0m\n\u001b[1;32m    802\u001b[0m         \u001b[0;32mtry\u001b[0m\u001b[0;34m:\u001b[0m\u001b[0;34m\u001b[0m\u001b[0;34m\u001b[0m\u001b[0m\n\u001b[0;32m--> 803\u001b[0;31m             \u001b[0mmsg_list\u001b[0m \u001b[0;34m=\u001b[0m \u001b[0msocket\u001b[0m\u001b[0;34m.\u001b[0m\u001b[0mrecv_multipart\u001b[0m\u001b[0;34m(\u001b[0m\u001b[0mmode\u001b[0m\u001b[0;34m,\u001b[0m \u001b[0mcopy\u001b[0m\u001b[0;34m=\u001b[0m\u001b[0mcopy\u001b[0m\u001b[0;34m)\u001b[0m\u001b[0;34m\u001b[0m\u001b[0;34m\u001b[0m\u001b[0m\n\u001b[0m\u001b[1;32m    804\u001b[0m         \u001b[0;32mexcept\u001b[0m \u001b[0mzmq\u001b[0m\u001b[0;34m.\u001b[0m\u001b[0mZMQError\u001b[0m \u001b[0;32mas\u001b[0m \u001b[0me\u001b[0m\u001b[0;34m:\u001b[0m\u001b[0;34m\u001b[0m\u001b[0;34m\u001b[0m\u001b[0m\n",
      "\u001b[0;32m/opt/lsst/software/stack/python/miniconda3-4.5.12/envs/lsst-scipipe-1172c30/lib/python3.7/site-packages/zmq/sugar/socket.py\u001b[0m in \u001b[0;36mrecv_multipart\u001b[0;34m(self, flags, copy, track)\u001b[0m\n\u001b[1;32m    469\u001b[0m         \"\"\"\n\u001b[0;32m--> 470\u001b[0;31m         \u001b[0mparts\u001b[0m \u001b[0;34m=\u001b[0m \u001b[0;34m[\u001b[0m\u001b[0mself\u001b[0m\u001b[0;34m.\u001b[0m\u001b[0mrecv\u001b[0m\u001b[0;34m(\u001b[0m\u001b[0mflags\u001b[0m\u001b[0;34m,\u001b[0m \u001b[0mcopy\u001b[0m\u001b[0;34m=\u001b[0m\u001b[0mcopy\u001b[0m\u001b[0;34m,\u001b[0m \u001b[0mtrack\u001b[0m\u001b[0;34m=\u001b[0m\u001b[0mtrack\u001b[0m\u001b[0;34m)\u001b[0m\u001b[0;34m]\u001b[0m\u001b[0;34m\u001b[0m\u001b[0;34m\u001b[0m\u001b[0m\n\u001b[0m\u001b[1;32m    471\u001b[0m         \u001b[0;31m# have first part already, only loop while more to receive\u001b[0m\u001b[0;34m\u001b[0m\u001b[0;34m\u001b[0m\u001b[0;34m\u001b[0m\u001b[0m\n",
      "\u001b[0;32mzmq/backend/cython/socket.pyx\u001b[0m in \u001b[0;36mzmq.backend.cython.socket.Socket.recv\u001b[0;34m()\u001b[0m\n",
      "\u001b[0;32mzmq/backend/cython/socket.pyx\u001b[0m in \u001b[0;36mzmq.backend.cython.socket.Socket.recv\u001b[0;34m()\u001b[0m\n",
      "\u001b[0;32mzmq/backend/cython/socket.pyx\u001b[0m in \u001b[0;36mzmq.backend.cython.socket._recv_copy\u001b[0;34m()\u001b[0m\n",
      "\u001b[0;32m/opt/lsst/software/stack/python/miniconda3-4.5.12/envs/lsst-scipipe-1172c30/lib/python3.7/site-packages/zmq/backend/cython/checkrc.pxd\u001b[0m in \u001b[0;36mzmq.backend.cython.checkrc._check_rc\u001b[0;34m()\u001b[0m\n",
      "\u001b[0;31mKeyboardInterrupt\u001b[0m: ",
      "\nDuring handling of the above exception, another exception occurred:\n",
      "\u001b[0;31mKeyboardInterrupt\u001b[0mTraceback (most recent call last)",
      "\u001b[0;32m<ipython-input-92-2c1e681495a6>\u001b[0m in \u001b[0;36masync-def-wrapper\u001b[0;34m()\u001b[0m\n",
      "\u001b[0;32m<ipython-input-80-10450e230a9e>\u001b[0m in \u001b[0;36mwait_center\u001b[0;34m()\u001b[0m\n\u001b[1;32m      1\u001b[0m \u001b[0;32masync\u001b[0m \u001b[0;32mdef\u001b[0m \u001b[0mwait_center\u001b[0m\u001b[0;34m(\u001b[0m\u001b[0;34m)\u001b[0m\u001b[0;34m:\u001b[0m\u001b[0;34m\u001b[0m\u001b[0;34m\u001b[0m\u001b[0m\n\u001b[1;32m      2\u001b[0m     \u001b[0;32mwhile\u001b[0m \u001b[0;32mTrue\u001b[0m\u001b[0;34m:\u001b[0m\u001b[0;34m\u001b[0m\u001b[0;34m\u001b[0m\u001b[0m\n\u001b[0;32m----> 3\u001b[0;31m         \u001b[0mopt\u001b[0m \u001b[0;34m=\u001b[0m \u001b[0minput\u001b[0m\u001b[0;34m(\u001b[0m\u001b[0;34m\"Center telescope and choose action (press ?<enter>, for list of actions): \"\u001b[0m\u001b[0;34m)\u001b[0m\u001b[0;34m\u001b[0m\u001b[0;34m\u001b[0m\u001b[0m\n\u001b[0m\u001b[1;32m      4\u001b[0m \u001b[0;34m\u001b[0m\u001b[0m\n\u001b[1;32m      5\u001b[0m         \u001b[0;32mif\u001b[0m \u001b[0mopt\u001b[0m \u001b[0;34m==\u001b[0m \u001b[0;34m'x'\u001b[0m\u001b[0;34m:\u001b[0m\u001b[0;34m\u001b[0m\u001b[0;34m\u001b[0m\u001b[0m\n",
      "\u001b[0;32m/opt/lsst/software/stack/python/miniconda3-4.5.12/envs/lsst-scipipe-1172c30/lib/python3.7/site-packages/ipykernel/kernelbase.py\u001b[0m in \u001b[0;36mraw_input\u001b[0;34m(self, prompt)\u001b[0m\n\u001b[1;32m    858\u001b[0m             \u001b[0mself\u001b[0m\u001b[0;34m.\u001b[0m\u001b[0m_parent_ident\u001b[0m\u001b[0;34m,\u001b[0m\u001b[0;34m\u001b[0m\u001b[0;34m\u001b[0m\u001b[0m\n\u001b[1;32m    859\u001b[0m             \u001b[0mself\u001b[0m\u001b[0;34m.\u001b[0m\u001b[0m_parent_header\u001b[0m\u001b[0;34m,\u001b[0m\u001b[0;34m\u001b[0m\u001b[0;34m\u001b[0m\u001b[0m\n\u001b[0;32m--> 860\u001b[0;31m             \u001b[0mpassword\u001b[0m\u001b[0;34m=\u001b[0m\u001b[0;32mFalse\u001b[0m\u001b[0;34m,\u001b[0m\u001b[0;34m\u001b[0m\u001b[0;34m\u001b[0m\u001b[0m\n\u001b[0m\u001b[1;32m    861\u001b[0m         )\n\u001b[1;32m    862\u001b[0m \u001b[0;34m\u001b[0m\u001b[0m\n",
      "\u001b[0;32m/opt/lsst/software/stack/python/miniconda3-4.5.12/envs/lsst-scipipe-1172c30/lib/python3.7/site-packages/ipykernel/kernelbase.py\u001b[0m in \u001b[0;36m_input_request\u001b[0;34m(self, prompt, ident, parent, password)\u001b[0m\n\u001b[1;32m    888\u001b[0m             \u001b[0;32mexcept\u001b[0m \u001b[0mKeyboardInterrupt\u001b[0m\u001b[0;34m:\u001b[0m\u001b[0;34m\u001b[0m\u001b[0;34m\u001b[0m\u001b[0m\n\u001b[1;32m    889\u001b[0m                 \u001b[0;31m# re-raise KeyboardInterrupt, to truncate traceback\u001b[0m\u001b[0;34m\u001b[0m\u001b[0;34m\u001b[0m\u001b[0;34m\u001b[0m\u001b[0m\n\u001b[0;32m--> 890\u001b[0;31m                 \u001b[0;32mraise\u001b[0m \u001b[0mKeyboardInterrupt\u001b[0m\u001b[0;34m\u001b[0m\u001b[0;34m\u001b[0m\u001b[0m\n\u001b[0m\u001b[1;32m    891\u001b[0m             \u001b[0;32melse\u001b[0m\u001b[0;34m:\u001b[0m\u001b[0;34m\u001b[0m\u001b[0;34m\u001b[0m\u001b[0m\n\u001b[1;32m    892\u001b[0m                 \u001b[0;32mbreak\u001b[0m\u001b[0;34m\u001b[0m\u001b[0;34m\u001b[0m\u001b[0m\n",
      "\u001b[0;31mKeyboardInterrupt\u001b[0m: "
     ]
    }
   ],
   "source": [
    "for i in range(len(dra_grid)):\n",
    "    for j in range(len(ddec_grid)):\n",
    "        r1.cmd_raDecTarget.set(\n",
    "            targetName=\"Jupiter\",\n",
    "            targetInstance=SALPY_ATPtg.ATPtg_shared_TargetInstances_current,\n",
    "            frame=SALPY_ATPtg.ATPtg_shared_CoordFrame_fk5,\n",
    "            epoch=2000,  # should be ignored: no parallax or proper motion\n",
    "            equinox=2000,  # should be ignored for ICRS\n",
    "            ra=Angle('16:53:37', unit=u.hour).hour+dra_grid[i],\n",
    "            declination=Angle('-22:06:01', unit=u.deg).deg+ddec_grid[i],\n",
    "            parallax=0,\n",
    "            pmRA=0,\n",
    "            pmDec=0,\n",
    "            rv=0,\n",
    "            dRA=0,\n",
    "            dDec=0,\n",
    "            rotPA=180.-74.,\n",
    "            rotFrame=SALPY_ATPtg.ATPtg_shared_RotFrame_fixed,\n",
    "            rotMode=SALPY_ATPtg.ATPtg_shared_RotMode_field)\n",
    "        print(f\"GRID[{i}][{j}]\")\n",
    "        print(f\"raDecTarget ra={r1.cmd_raDecTarget.data.ra!r} hour;\"\n",
    "              f\"declination={r1.cmd_raDecTarget.data.declination!r} deg\")\n",
    "        await r1.cmd_raDecTarget.start()\n",
    "        await wait_center()\n"
   ]
  },
  {
   "cell_type": "code",
   "execution_count": 82,
   "metadata": {},
   "outputs": [
    {
     "name": "stderr",
     "output_type": "stream",
     "text": [
      "falling behind; queue contains 99 elements\n",
      "falling behind; queue contains 98 elements\n",
      "falling behind; queue contains 97 elements\n",
      "falling behind; queue contains 99 elements\n",
      "falling behind; queue contains 98 elements\n",
      "falling behind; queue contains 97 elements\n"
     ]
    },
    {
     "data": {
      "text/plain": [
       "<lsst.ts.salobj.ddsutil.ATPtg_ackcmd at 0x7f735b89c400>"
      ]
     },
     "execution_count": 82,
     "metadata": {},
     "output_type": "execute_result"
    }
   ],
   "source": [
    "await r1.cmd_stopTracking.start()"
   ]
  },
  {
   "cell_type": "code",
   "execution_count": 194,
   "metadata": {},
   "outputs": [
    {
     "data": {
      "text/plain": [
       "450.0"
      ]
     },
     "execution_count": 194,
     "metadata": {},
     "output_type": "execute_result"
    }
   ],
   "source": [
    "0.05*60*60/2+360\n"
   ]
  },
  {
   "cell_type": "code",
   "execution_count": 242,
   "metadata": {},
   "outputs": [
    {
     "name": "stderr",
     "output_type": "stream",
     "text": [
      "falling behind; queue contains 99 elements\n",
      "falling behind; queue contains 98 elements\n",
      "falling behind; queue contains 97 elements\n",
      "falling behind; queue contains 99 elements\n",
      "falling behind; queue contains 98 elements\n",
      "falling behind; queue contains 97 elements\n",
      "falling behind; queue contains 99 elements\n",
      "falling behind; queue contains 98 elements\n",
      "falling behind; queue contains 97 elements\n",
      "falling behind; queue contains 99 elements\n",
      "falling behind; queue contains 98 elements\n",
      "falling behind; queue contains 97 elements\n",
      "falling behind; queue contains 99 elements\n",
      "falling behind; queue contains 98 elements\n",
      "falling behind; queue contains 97 elements\n",
      "falling behind; queue contains 99 elements\n",
      "falling behind; queue contains 98 elements\n",
      "falling behind; queue contains 97 elements\n",
      "falling behind; queue contains 99 elements\n",
      "falling behind; queue contains 98 elements\n",
      "falling behind; queue contains 97 elements\n",
      "falling behind; queue contains 99 elements\n",
      "falling behind; queue contains 98 elements\n",
      "falling behind; queue contains 97 elements\n",
      "falling behind; queue contains 99 elements\n",
      "falling behind; queue contains 98 elements\n",
      "falling behind; queue contains 97 elements\n",
      "falling behind; queue contains 99 elements\n",
      "falling behind; queue contains 98 elements\n",
      "falling behind; queue contains 97 elements\n",
      "falling behind; queue contains 27 elements\n"
     ]
    },
    {
     "data": {
      "text/plain": [
       "<lsst.ts.salobj.ddsutil.ATMCS_ackcmd at 0x7f735b991a58>"
      ]
     },
     "execution_count": 242,
     "metadata": {},
     "output_type": "execute_result"
    }
   ],
   "source": [
    "await r2.cmd_startTracking.start()"
   ]
  },
  {
   "cell_type": "markdown",
   "metadata": {},
   "source": [
    "COORD."
   ]
  },
  {
   "cell_type": "code",
   "execution_count": 219,
   "metadata": {},
   "outputs": [],
   "source": [
    "radec = ICRS((Angle('16:53:37', unit=u.hour).hour+dra)*u.hour,\n",
    "             (Angle('-22:06:01', unit=u.deg).deg+ddec)*u.deg)"
   ]
  },
  {
   "cell_type": "code",
   "execution_count": 220,
   "metadata": {},
   "outputs": [],
   "source": [
    "location = EarthLocation.from_geodetic(lon=-70.747698*u.deg,\n",
    "                                                    lat=-30.244728*u.deg,\n",
    "                                                    height=2663.0*u.m)"
   ]
  },
  {
   "cell_type": "code",
   "execution_count": 221,
   "metadata": {},
   "outputs": [
    {
     "name": "stderr",
     "output_type": "stream",
     "text": [
      "falling behind; queue contains 99 elements\n",
      "falling behind; queue contains 98 elements\n",
      "falling behind; queue contains 97 elements\n"
     ]
    }
   ],
   "source": [
    "time_data = await r1.tel_timeAndDate.next(flush=True, timeout=2)\n",
    "curr_time_atptg = Time(time_data.tai, format=\"mjd\", scale=\"tai\")"
   ]
  },
  {
   "cell_type": "code",
   "execution_count": 222,
   "metadata": {},
   "outputs": [],
   "source": []
  },
  {
   "cell_type": "code",
   "execution_count": 224,
   "metadata": {},
   "outputs": [],
   "source": [
    "alt_az = radec.transform_to(aa)"
   ]
  },
  {
   "cell_type": "code",
   "execution_count": 226,
   "metadata": {},
   "outputs": [
    {
     "ename": "AttributeError",
     "evalue": "Cannot set any frame attribute alt",
     "output_type": "error",
     "traceback": [
      "\u001b[0;31m\u001b[0m",
      "\u001b[0;31mAttributeError\u001b[0mTraceback (most recent call last)",
      "\u001b[0;32m<ipython-input-226-7696ab421a70>\u001b[0m in \u001b[0;36m<module>\u001b[0;34m\u001b[0m\n\u001b[0;32m----> 1\u001b[0;31m \u001b[0malt_az\u001b[0m\u001b[0;34m.\u001b[0m\u001b[0malt\u001b[0m \u001b[0;34m+=\u001b[0m \u001b[0;36m0.0519\u001b[0m\u001b[0;34m*\u001b[0m\u001b[0mu\u001b[0m\u001b[0;34m.\u001b[0m\u001b[0mdeg\u001b[0m\u001b[0;34m\u001b[0m\u001b[0;34m\u001b[0m\u001b[0m\n\u001b[0m",
      "\u001b[0;32m/opt/lsst/software/stack/python/miniconda3-4.5.12/envs/lsst-scipipe-1172c30/lib/python3.7/site-packages/astropy/coordinates/baseframe.py\u001b[0m in \u001b[0;36m__setattr__\u001b[0;34m(self, attr, value)\u001b[0m\n\u001b[1;32m   1555\u001b[0m                 \u001b[0;32mif\u001b[0m \u001b[0mattr\u001b[0m \u001b[0;32min\u001b[0m \u001b[0mrepr_attr_names\u001b[0m\u001b[0;34m:\u001b[0m\u001b[0;34m\u001b[0m\u001b[0;34m\u001b[0m\u001b[0m\n\u001b[1;32m   1556\u001b[0m                     raise AttributeError(\n\u001b[0;32m-> 1557\u001b[0;31m                         'Cannot set any frame attribute {0}'.format(attr))\n\u001b[0m\u001b[1;32m   1558\u001b[0m \u001b[0;34m\u001b[0m\u001b[0m\n\u001b[1;32m   1559\u001b[0m         \u001b[0msuper\u001b[0m\u001b[0;34m(\u001b[0m\u001b[0;34m)\u001b[0m\u001b[0;34m.\u001b[0m\u001b[0m__setattr__\u001b[0m\u001b[0;34m(\u001b[0m\u001b[0mattr\u001b[0m\u001b[0;34m,\u001b[0m \u001b[0mvalue\u001b[0m\u001b[0;34m)\u001b[0m\u001b[0;34m\u001b[0m\u001b[0;34m\u001b[0m\u001b[0m\n",
      "\u001b[0;31mAttributeError\u001b[0m: Cannot set any frame attribute alt"
     ]
    }
   ],
   "source": [
    "alt_az.alt += "
   ]
  },
  {
   "cell_type": "code",
   "execution_count": 227,
   "metadata": {},
   "outputs": [],
   "source": [
    "cmd_elaz = AltAz(alt=alt_az.alt+0.0519*u.deg, az=alt_az.az+2.133*u.deg, \n",
    "                 obstime=curr_time_atptg.tai, \n",
    "                 location=location)\n",
    "cmd_radec = cmd_elaz.transform_to(ICRS)"
   ]
  },
  {
   "cell_type": "code",
   "execution_count": 228,
   "metadata": {},
   "outputs": [
    {
     "name": "stderr",
     "output_type": "stream",
     "text": [
      "WARNING: Tried to get polar motions for times after IERS data is valid. Defaulting to polar motion from the 50-yr mean for those. This may affect precision at the 10s of arcsec level [astropy.coordinates.builtin_frames.utils]\n",
      "WARNING: (some) times are outside of range covered by IERS table. Assuming UT1-UTC=0 for coordinate transformations. [astropy.coordinates.builtin_frames.utils]\n"
     ]
    }
   ],
   "source": []
  },
  {
   "cell_type": "code",
   "execution_count": 231,
   "metadata": {},
   "outputs": [
    {
     "data": {
      "text/plain": [
       "(16.89599026205912, -22.71479215452344)"
      ]
     },
     "execution_count": 231,
     "metadata": {},
     "output_type": "execute_result"
    }
   ],
   "source": [
    "cmd_radec.ra.hour, cmd_radec.dec.deg"
   ]
  },
  {
   "cell_type": "code",
   "execution_count": null,
   "metadata": {},
   "outputs": [],
   "source": [
    "alt_az = radec.transform_to(aa)"
   ]
  },
  {
   "cell_type": "code",
   "execution_count": null,
   "metadata": {},
   "outputs": [],
   "source": []
  },
  {
   "cell_type": "code",
   "execution_count": 252,
   "metadata": {},
   "outputs": [
    {
     "name": "stderr",
     "output_type": "stream",
     "text": [
      "falling behind; queue contains 99 elements\n",
      "falling behind; queue contains 98 elements\n",
      "falling behind; queue contains 97 elements\n"
     ]
    },
    {
     "name": "stdout",
     "output_type": "stream",
     "text": [
      "Alt: 81.74882239463997 deg\n",
      "Az: -10.841210788961689 deg\n",
      "delta_Alt: 3.176938571397585 deg\n",
      "delta_Az: 39.38358216661254 deg\n",
      "raDecTarget ra=17.45722500312946 hour; declination=-22.1159650602712 deg\n"
     ]
    }
   ],
   "source": [
    "dalt = 0. #-0.0519\n",
    "daz = 0. #-2.133\n",
    "\n",
    "radec = ICRS(Angle('16:53:37', unit=u.hour),\n",
    "             Angle('-22:06:01', unit=u.deg))\n",
    "\n",
    "time_data = await r1.tel_timeAndDate.next(flush=True, timeout=2)\n",
    "curr_time_atptg = Time(time_data.tai, format=\"mjd\", scale=\"tai\")\n",
    "alt_az = radec.transform_to(aa)\n",
    "\n",
    "cmd_elaz = AltAz(alt=alt_az.alt+dalt*u.deg, az=alt_az.az+daz*u.deg, \n",
    "                 obstime=curr_time_atptg.tai, \n",
    "                 location=location)\n",
    "cmd_radec = cmd_elaz.transform_to(ICRS)\n",
    "\n",
    "r1.cmd_raDecTarget.set(\n",
    "    targetName=\"Jupiter\",\n",
    "    targetInstance=SALPY_ATPtg.ATPtg_shared_TargetInstances_current,\n",
    "    frame=SALPY_ATPtg.ATPtg_shared_CoordFrame_fk5,\n",
    "    epoch=2000,  # should be ignored: no parallax or proper motion\n",
    "    equinox=2000,  # should be ignored for ICRS\n",
    "    ra=cmd_radec.ra.hour,\n",
    "    declination=cmd_radec.dec.deg,\n",
    "    parallax=0,\n",
    "    pmRA=0,\n",
    "    pmDec=0,\n",
    "    rv=0,\n",
    "    dRA=0,\n",
    "    dDec=0,\n",
    "    rotPA=180.-74.,\n",
    "    rotFrame=SALPY_ATPtg.ATPtg_shared_RotFrame_fixed,\n",
    "    rotMode=SALPY_ATPtg.ATPtg_shared_RotMode_field,\n",
    ")\n",
    "\n",
    "mount_data = await r2.tel_mountEncoders.next(flush=True, timeout=5)\n",
    "\n",
    "print(f\"Alt: {alt_az.alt}\")\n",
    "print(f\"Az: {alt_az.az-360.*u.deg}\")\n",
    "print(f\"delta_Alt: {alt_az.alt - mount_data.elevationCalculatedAngle*u.deg}\")\n",
    "print(f\"delta_Az: {alt_az.az-360.*u.deg - mount_data.azimuthCalculatedAngle*u.deg}\")\n",
    "print(f\"raDecTarget ra={r1.cmd_raDecTarget.data.ra!r} hour; \"\n",
    "      f\"declination={r1.cmd_raDecTarget.data.declination!r} deg\")\n",
    "\n",
    "dalt = alt_az.alt - mount_data.elevationCalculatedAngle*u.deg\n",
    "daz = alt_az.az-360.*u.deg - mount_data.azimuthCalculatedAngle*u.deg\n",
    "# await cmd_raDecTarget.start()"
   ]
  },
  {
   "cell_type": "code",
   "execution_count": 256,
   "metadata": {},
   "outputs": [],
   "source": [
    "dalt = -3.176938571397585*u.deg\n",
    "daz = -39.38358216661254*u.deg"
   ]
  },
  {
   "cell_type": "code",
   "execution_count": 257,
   "metadata": {},
   "outputs": [
    {
     "name": "stderr",
     "output_type": "stream",
     "text": [
      "falling behind; queue contains 99 elements\n",
      "falling behind; queue contains 98 elements\n",
      "falling behind; queue contains 97 elements\n",
      "RemoteEvent(ATPtg, 0, weatherDataApplied) falling behind; read 11 messages\n",
      "falling behind; queue contains 99 elements\n",
      "falling behind; queue contains 98 elements\n",
      "falling behind; queue contains 97 elements\n",
      "falling behind; queue contains 99 elements\n",
      "falling behind; queue contains 98 elements\n",
      "falling behind; queue contains 97 elements\n"
     ]
    },
    {
     "data": {
      "text/plain": [
       "<lsst.ts.salobj.ddsutil.ATPtg_ackcmd at 0x7f735b9d0a90>"
      ]
     },
     "execution_count": 257,
     "metadata": {},
     "output_type": "execute_result"
    }
   ],
   "source": [
    "radec = ICRS(Angle('17:10:22.7', unit=u.hour),\n",
    "             Angle('-15:43:29.7', unit=u.deg))\n",
    "\n",
    "time_data = await r1.tel_timeAndDate.next(flush=True, timeout=2)\n",
    "curr_time_atptg = Time(time_data.tai, format=\"mjd\", scale=\"tai\")\n",
    "alt_az = radec.transform_to(aa)\n",
    "\n",
    "cmd_elaz = AltAz(alt=alt_az.alt+dalt, az=alt_az.az+daz, \n",
    "                 obstime=curr_time_atptg.tai, \n",
    "                 location=location)\n",
    "cmd_radec = cmd_elaz.transform_to(ICRS)\n",
    "\n",
    "\n",
    "r1.cmd_raDecTarget.set(\n",
    "    targetName=\"Eta Ophi\",\n",
    "    targetInstance=SALPY_ATPtg.ATPtg_shared_TargetInstances_current,\n",
    "    frame=SALPY_ATPtg.ATPtg_shared_CoordFrame_fk5,\n",
    "    epoch=2000,  # should be ignored: no parallax or proper motion\n",
    "    equinox=2000,  # should be ignored for ICRS\n",
    "    ra=cmd_radec.ra.hour,\n",
    "    declination=cmd_radec.dec.deg,\n",
    "    parallax=0,\n",
    "    pmRA=0,\n",
    "    pmDec=0,\n",
    "    rv=0,\n",
    "    dRA=0,\n",
    "    dDec=0,\n",
    "    rotPA=180.-74.,\n",
    "    rotFrame=SALPY_ATPtg.ATPtg_shared_RotFrame_fixed,\n",
    "    rotMode=SALPY_ATPtg.ATPtg_shared_RotMode_field,\n",
    ")\n",
    "\n",
    "await r1.cmd_raDecTarget.start(timeout=30.)"
   ]
  },
  {
   "cell_type": "code",
   "execution_count": 392,
   "metadata": {},
   "outputs": [
    {
     "name": "stderr",
     "output_type": "stream",
     "text": [
      "falling behind; queue contains 99 elements\n",
      "falling behind; queue contains 98 elements\n",
      "falling behind; queue contains 97 elements\n"
     ]
    },
    {
     "name": "stdout",
     "output_type": "stream",
     "text": [
      "-72.96754449431319 68.64183955965564\n",
      "2.8008778276465023\n",
      "1.141493773677695\n"
     ]
    }
   ],
   "source": [
    "dalt = 3.176938571397585*u.deg\n",
    "daz = 39.38358216661254*u.deg\n",
    "\n",
    "mount = await r2.tel_mountEncoders.next(flush=True, timeout=1.)\n",
    "print(mount.azimuthCalculatedAngle, mount.elevationCalculatedAngle)\n",
    "print(289. + 50./60 -360 - mount.azimuthCalculatedAngle )\n",
    "print(69 + 47/60. - mount.elevationCalculatedAngle)"
   ]
  },
  {
   "cell_type": "code",
   "execution_count": null,
   "metadata": {},
   "outputs": [],
   "source": []
  },
  {
   "cell_type": "code",
   "execution_count": null,
   "metadata": {},
   "outputs": [],
   "source": []
  },
  {
   "cell_type": "code",
   "execution_count": 400,
   "metadata": {},
   "outputs": [
    {
     "name": "stderr",
     "output_type": "stream",
     "text": [
      "falling behind; queue contains 99 elements\n",
      "falling behind; queue contains 98 elements\n",
      "falling behind; queue contains 97 elements\n",
      "RemoteTelemetry(ATMCS, 0, torqueDemand) falling behind; read 100 messages\n",
      "RemoteTelemetry(ATPtg, 0, currentTimesToLimits) falling behind; read 19 messages\n",
      "RemoteTelemetry(ATMCS, 0, mountMotorEncoders) falling behind; read 100 messages\n",
      "falling behind; queue contains 99 elements\n",
      "falling behind; queue contains 98 elements\n",
      "falling behind; queue contains 97 elements\n",
      "falling behind; queue contains 99 elements\n",
      "falling behind; queue contains 98 elements\n",
      "falling behind; queue contains 97 elements\n",
      "falling behind; queue contains 99 elements\n",
      "falling behind; queue contains 98 elements\n",
      "falling behind; queue contains 97 elements\n",
      "falling behind; queue contains 99 elements\n",
      "falling behind; queue contains 98 elements\n",
      "falling behind; queue contains 97 elements\n",
      "falling behind; queue contains 99 elements\n",
      "falling behind; queue contains 98 elements\n",
      "falling behind; queue contains 97 elements\n",
      "falling behind; queue contains 99 elements\n",
      "falling behind; queue contains 98 elements\n",
      "falling behind; queue contains 97 elements\n",
      "falling behind; queue contains 99 elements\n",
      "falling behind; queue contains 98 elements\n",
      "falling behind; queue contains 97 elements\n",
      "falling behind; queue contains 99 elements\n",
      "falling behind; queue contains 98 elements\n",
      "falling behind; queue contains 97 elements\n",
      "falling behind; queue contains 99 elements\n",
      "falling behind; queue contains 98 elements\n",
      "falling behind; queue contains 97 elements\n",
      "falling behind; queue contains 14 elements\n"
     ]
    },
    {
     "data": {
      "text/plain": [
       "<lsst.ts.salobj.ddsutil.ATMCS_ackcmd at 0x7f735b6b6860>"
      ]
     },
     "execution_count": 400,
     "metadata": {},
     "output_type": "execute_result"
    }
   ],
   "source": [
    "await r2.cmd_startTracking.start()"
   ]
  },
  {
   "cell_type": "code",
   "execution_count": null,
   "metadata": {},
   "outputs": [],
   "source": [
    "dalt = (68 + 38/60. - mount.elevationCalculatedAngle)*u.deg\n",
    "daz = -(286. + 27./60 -360 - mount.azimuthCalculatedAngle)*u.deg"
   ]
  },
  {
   "cell_type": "code",
   "execution_count": 399,
   "metadata": {},
   "outputs": [
    {
     "data": {
      "text/plain": [
       "(<Quantity 0.28839867 deg>, <Quantity 0.17255585 deg>)"
      ]
     },
     "execution_count": 399,
     "metadata": {},
     "output_type": "execute_result"
    }
   ],
   "source": [
    "dalt, daz"
   ]
  },
  {
   "cell_type": "code",
   "execution_count": 423,
   "metadata": {},
   "outputs": [
    {
     "data": {
      "text/plain": [
       "(<Quantity 0.65039867 deg>, <Quantity 0.25255585 deg>)"
      ]
     },
     "execution_count": 423,
     "metadata": {},
     "output_type": "execute_result"
    }
   ],
   "source": [
    "dalt2, daz2"
   ]
  },
  {
   "cell_type": "code",
   "execution_count": 422,
   "metadata": {},
   "outputs": [
    {
     "name": "stderr",
     "output_type": "stream",
     "text": [
      "falling behind; queue contains 99 elements\n",
      "falling behind; queue contains 98 elements\n",
      "falling behind; queue contains 97 elements\n",
      "falling behind; queue contains 99 elements\n",
      "falling behind; queue contains 98 elements\n",
      "falling behind; queue contains 97 elements\n",
      "falling behind; queue contains 99 elements\n",
      "falling behind; queue contains 98 elements\n",
      "falling behind; queue contains 97 elements\n",
      "falling behind; queue contains 99 elements\n",
      "falling behind; queue contains 98 elements\n",
      "falling behind; queue contains 97 elements\n",
      "falling behind; queue contains 99 elements\n",
      "falling behind; queue contains 98 elements\n",
      "falling behind; queue contains 97 elements\n",
      "falling behind; queue contains 99 elements\n",
      "falling behind; queue contains 98 elements\n",
      "falling behind; queue contains 97 elements\n",
      "falling behind; queue contains 99 elements\n",
      "falling behind; queue contains 98 elements\n",
      "falling behind; queue contains 97 elements\n",
      "falling behind; queue contains 99 elements\n",
      "falling behind; queue contains 98 elements\n",
      "falling behind; queue contains 97 elements\n",
      "falling behind; queue contains 99 elements\n",
      "falling behind; queue contains 98 elements\n",
      "falling behind; queue contains 97 elements\n",
      "falling behind; queue contains 99 elements\n",
      "falling behind; queue contains 98 elements\n",
      "falling behind; queue contains 97 elements\n"
     ]
    },
    {
     "name": "stdout",
     "output_type": "stream",
     "text": [
      "dra: -0.04521008052153164\n",
      "dec: 0.1954086961896948\n"
     ]
    },
    {
     "data": {
      "text/plain": [
       "<lsst.ts.salobj.ddsutil.ATPtg_ackcmd at 0x7f735ba41f28>"
      ]
     },
     "execution_count": 422,
     "metadata": {},
     "output_type": "execute_result"
    }
   ],
   "source": [
    "radec = FK5(Angle('16:53:37', unit=u.hour),\n",
    "             Angle('-22:06:01', unit=u.deg))\n",
    "\n",
    "mount = await r2.tel_mountEncoders.next(flush=True, timeout=1.)\n",
    "\n",
    "dalt2 = dalt+0.362*u.deg\n",
    "daz2 = daz + 0.08*u.deg\n",
    "\n",
    "time_data = await r1.tel_timeAndDate.next(flush=True, timeout=2)\n",
    "curr_time_atptg = Time(time_data.tai, format=\"mjd\", scale=\"tai\")\n",
    "aa = AltAz(location=location, obstime=curr_time_atptg)\n",
    "alt_az = radec.transform_to(aa)\n",
    "\n",
    "cmd_elaz = AltAz(alt=alt_az.alt+dalt2, az=alt_az.az+daz2, \n",
    "                 obstime=curr_time_atptg.tai, \n",
    "                 location=location)\n",
    "cmd_radec = cmd_elaz.transform_to(FK5)\n",
    "\n",
    "\n",
    "r1.cmd_raDecTarget.set(\n",
    "    targetName=\"Jupiter\",\n",
    "    targetInstance=SALPY_ATPtg.ATPtg_shared_TargetInstances_current,\n",
    "    frame=SALPY_ATPtg.ATPtg_shared_CoordFrame_fk5,\n",
    "    epoch=2000,  # should be ignored: no parallax or proper motion\n",
    "    equinox=2000,  # should be ignored for ICRS\n",
    "    ra=cmd_radec.ra.hour,\n",
    "    declination=cmd_radec.dec.deg,\n",
    "    parallax=0,\n",
    "    pmRA=0,\n",
    "    pmDec=0,\n",
    "    rv=0,\n",
    "    dRA=0,\n",
    "    dDec=0,\n",
    "    rotPA=180.-74.,\n",
    "    rotFrame=SALPY_ATPtg.ATPtg_shared_RotFrame_fixed,\n",
    "    rotMode=SALPY_ATPtg.ATPtg_shared_RotMode_field,\n",
    ")\n",
    "\n",
    "print(f\"dra: {radec.ra.hour-cmd_radec.ra.hour}\")\n",
    "\n",
    "\n",
    "print(f\"dec: {radec.dec.deg-cmd_radec.dec.deg}\")\n",
    "\n",
    "await r1.cmd_raDecTarget.start()\n",
    "# await r1.cmd_raDecTarget.start(timeout=30.)"
   ]
  },
  {
   "cell_type": "code",
   "execution_count": 443,
   "metadata": {},
   "outputs": [
    {
     "name": "stderr",
     "output_type": "stream",
     "text": [
      "AckCmdReader(ATMCS, 0, ackcmd) falling behind; read 100 messages\n",
      "RemoteTelemetry(ATPtg, 0, currentTargetStatus) falling behind; read 100 messages\n",
      "falling behind; queue contains 99 elements\n",
      "falling behind; queue contains 98 elements\n",
      "falling behind; queue contains 97 elements\n",
      "RemoteTelemetry(ATPtg, 0, timeAndDate) falling behind; read 100 messages\n",
      "RemoteTelemetry(ATPtg, 0, mountStatus) falling behind; read 100 messages\n",
      "RemoteTelemetry(ATPtg, 0, guidingAndOffsets) falling behind; read 100 messages\n",
      "RemoteTelemetry(ATPtg, 0, currentTimesToLimits) falling behind; read 92 messages\n",
      "RemoteEvent(ATMCS, 0, target) falling behind; read 100 messages\n",
      "RemoteEvent(ATPtg, 0, weatherDataApplied) falling behind; read 46 messages\n",
      "falling behind; queue contains 99 elements\n",
      "falling behind; queue contains 98 elements\n",
      "falling behind; queue contains 97 elements\n"
     ]
    },
    {
     "data": {
      "text/plain": [
       "<lsst.ts.salobj.ddsutil.ATPtg_ackcmd at 0x7f734c7b99b0>"
      ]
     },
     "execution_count": 443,
     "metadata": {},
     "output_type": "execute_result"
    }
   ],
   "source": [
    "await r1.cmd_stopTracking.start()"
   ]
  },
  {
   "cell_type": "code",
   "execution_count": 441,
   "metadata": {},
   "outputs": [
    {
     "name": "stderr",
     "output_type": "stream",
     "text": [
      "falling behind; queue contains 99 elements\n",
      "falling behind; queue contains 98 elements\n",
      "falling behind; queue contains 97 elements\n",
      "falling behind; queue contains 99 elements\n",
      "falling behind; queue contains 98 elements\n",
      "falling behind; queue contains 97 elements\n",
      "falling behind; queue contains 99 elements\n",
      "falling behind; queue contains 98 elements\n",
      "falling behind; queue contains 97 elements\n",
      "falling behind; queue contains 99 elements\n",
      "falling behind; queue contains 98 elements\n",
      "falling behind; queue contains 97 elements\n",
      "falling behind; queue contains 99 elements\n",
      "falling behind; queue contains 98 elements\n",
      "falling behind; queue contains 97 elements\n",
      "falling behind; queue contains 99 elements\n",
      "falling behind; queue contains 98 elements\n",
      "falling behind; queue contains 97 elements\n",
      "falling behind; queue contains 99 elements\n",
      "falling behind; queue contains 98 elements\n",
      "falling behind; queue contains 97 elements\n",
      "falling behind; queue contains 99 elements\n",
      "falling behind; queue contains 98 elements\n",
      "falling behind; queue contains 97 elements\n",
      "falling behind; queue contains 99 elements\n",
      "falling behind; queue contains 98 elements\n",
      "falling behind; queue contains 97 elements\n",
      "falling behind; queue contains 99 elements\n",
      "falling behind; queue contains 98 elements\n",
      "falling behind; queue contains 97 elements\n",
      "falling behind; queue contains 38 elements\n"
     ]
    },
    {
     "name": "stdout",
     "output_type": "stream",
     "text": [
      "dra: -0.05009861802799165\n",
      "dec: 0.006283431668073547\n"
     ]
    },
    {
     "data": {
      "text/plain": [
       "<lsst.ts.salobj.ddsutil.ATPtg_ackcmd at 0x7f734e9c4e80>"
      ]
     },
     "execution_count": 441,
     "metadata": {},
     "output_type": "execute_result"
    }
   ],
   "source": [
    "radec = ICRS(Angle('16:29:25', unit=u.hour),\n",
    "             Angle('-26:25:55', unit=u.deg))\n",
    "\n",
    "mount = await r2.tel_mountEncoders.next(flush=True, timeout=1.)\n",
    "\n",
    "dalt3 = dalt2+0.0*u.deg\n",
    "daz3 = daz2+0.08*u.deg\n",
    "\n",
    "time_data = await r1.tel_timeAndDate.next(flush=True, timeout=2)\n",
    "curr_time_atptg = Time(time_data.tai, format=\"mjd\", scale=\"tai\")\n",
    "aa = AltAz(location=location, obstime=curr_time_atptg)\n",
    "alt_az = radec.transform_to(aa)\n",
    "\n",
    "cmd_elaz = AltAz(alt=alt_az.alt+dalt3, az=alt_az.az+daz3, \n",
    "                 obstime=curr_time_atptg.tai, \n",
    "                 location=location)\n",
    "cmd_radec = cmd_elaz.transform_to(ICRS)\n",
    "\n",
    "\n",
    "r1.cmd_raDecTarget.set(\n",
    "    targetName=\"Alpha Sco\",\n",
    "    targetInstance=SALPY_ATPtg.ATPtg_shared_TargetInstances_current,\n",
    "    frame=SALPY_ATPtg.ATPtg_shared_CoordFrame_icrs,\n",
    "    epoch=2000,  # should be ignored: no parallax or proper motion\n",
    "    equinox=2000,  # should be ignored for ICRS\n",
    "    ra=cmd_radec.ra.hour,\n",
    "    declination=cmd_radec.dec.deg,\n",
    "    parallax=0,\n",
    "    pmRA=0,\n",
    "    pmDec=0,\n",
    "    rv=0,\n",
    "    dRA=0,\n",
    "    dDec=0,\n",
    "    rotPA=180.-74.,\n",
    "    rotFrame=SALPY_ATPtg.ATPtg_shared_RotFrame_fixed,\n",
    "    rotMode=SALPY_ATPtg.ATPtg_shared_RotMode_field,\n",
    ")\n",
    "\n",
    "print(f\"dra: {radec.ra.hour-cmd_radec.ra.hour}\")\n",
    "\n",
    "\n",
    "print(f\"dec: {radec.dec.deg-cmd_radec.dec.deg}\")\n",
    "\n",
    "await r1.cmd_raDecTarget.start()\n",
    "# await r1.cmd_raDecTarget.start(timeout=30.)"
   ]
  },
  {
   "cell_type": "code",
   "execution_count": null,
   "metadata": {},
   "outputs": [],
   "source": []
  },
  {
   "cell_type": "code",
   "execution_count": null,
   "metadata": {},
   "outputs": [],
   "source": []
  },
  {
   "cell_type": "code",
   "execution_count": null,
   "metadata": {},
   "outputs": [],
   "source": []
  },
  {
   "cell_type": "code",
   "execution_count": null,
   "metadata": {},
   "outputs": [],
   "source": []
  },
  {
   "cell_type": "code",
   "execution_count": null,
   "metadata": {},
   "outputs": [],
   "source": []
  },
  {
   "cell_type": "code",
   "execution_count": null,
   "metadata": {},
   "outputs": [],
   "source": []
  },
  {
   "cell_type": "markdown",
   "metadata": {},
   "source": [
    "# After offset"
   ]
  },
  {
   "cell_type": "code",
   "execution_count": 446,
   "metadata": {},
   "outputs": [
    {
     "data": {
      "text/plain": [
       "-99"
      ]
     },
     "execution_count": 446,
     "metadata": {},
     "output_type": "execute_result"
    }
   ],
   "source": [
    "261-360"
   ]
  },
  {
   "cell_type": "code",
   "execution_count": 445,
   "metadata": {},
   "outputs": [
    {
     "name": "stderr",
     "output_type": "stream",
     "text": [
      "falling behind; queue contains 99 elements\n",
      "falling behind; queue contains 98 elements\n",
      "falling behind; queue contains 97 elements\n",
      "falling behind; queue contains 99 elements\n",
      "falling behind; queue contains 98 elements\n",
      "falling behind; queue contains 97 elements\n",
      "falling behind; queue contains 99 elements\n",
      "falling behind; queue contains 98 elements\n",
      "falling behind; queue contains 97 elements\n"
     ]
    },
    {
     "name": "stdout",
     "output_type": "stream",
     "text": [
      "dra: -4.817479748453479e-12\n",
      "dec: 3.070255161219393e-11\n"
     ]
    },
    {
     "data": {
      "text/plain": [
       "<lsst.ts.salobj.ddsutil.ATPtg_ackcmd at 0x7f734e8076a0>"
      ]
     },
     "execution_count": 445,
     "metadata": {},
     "output_type": "execute_result"
    }
   ],
   "source": [
    "radec = ICRS(Angle('16:29:25', unit=u.hour),\n",
    "             Angle('-26:25:55', unit=u.deg))\n",
    "\n",
    "mount = await r2.tel_mountEncoders.next(flush=True, timeout=1.)\n",
    "\n",
    "dalt4 = 0.\n",
    "daz4 = 0.\n",
    "\n",
    "time_data = await r1.tel_timeAndDate.next(flush=True, timeout=2)\n",
    "curr_time_atptg = Time(time_data.tai, format=\"mjd\", scale=\"tai\")\n",
    "aa = AltAz(location=location, obstime=curr_time_atptg)\n",
    "alt_az = radec.transform_to(aa)\n",
    "\n",
    "cmd_elaz = AltAz(alt=alt_az.alt+dalt4, az=alt_az.az+daz4, \n",
    "                 obstime=curr_time_atptg.tai, \n",
    "                 location=location)\n",
    "cmd_radec = cmd_elaz.transform_to(ICRS)\n",
    "\n",
    "\n",
    "r1.cmd_raDecTarget.set(\n",
    "    targetName=\"Alpha Sco\",\n",
    "    targetInstance=SALPY_ATPtg.ATPtg_shared_TargetInstances_current,\n",
    "    frame=SALPY_ATPtg.ATPtg_shared_CoordFrame_icrs,\n",
    "    epoch=2000,  # should be ignored: no parallax or proper motion\n",
    "    equinox=2000,  # should be ignored for ICRS\n",
    "    ra=cmd_radec.ra.hour,\n",
    "    declination=cmd_radec.dec.deg,\n",
    "    parallax=0,\n",
    "    pmRA=0,\n",
    "    pmDec=0,\n",
    "    rv=0,\n",
    "    dRA=0,\n",
    "    dDec=0,\n",
    "    rotPA=180.-44.,\n",
    "    rotFrame=SALPY_ATPtg.ATPtg_shared_RotFrame_fixed,\n",
    "    rotMode=SALPY_ATPtg.ATPtg_shared_RotMode_field,\n",
    ")\n",
    "\n",
    "print(f\"dra: {radec.ra.hour-cmd_radec.ra.hour}\")\n",
    "\n",
    "\n",
    "print(f\"dec: {radec.dec.deg-cmd_radec.dec.deg}\")\n",
    "\n",
    "await r1.cmd_raDecTarget.start()\n",
    "# await r1.cmd_raDecTarget.start(timeout=30.)"
   ]
  },
  {
   "cell_type": "code",
   "execution_count": null,
   "metadata": {},
   "outputs": [],
   "source": []
  },
  {
   "cell_type": "code",
   "execution_count": null,
   "metadata": {},
   "outputs": [],
   "source": []
  },
  {
   "cell_type": "code",
   "execution_count": 455,
   "metadata": {},
   "outputs": [
    {
     "data": {
      "text/plain": [
       "(<Quantity 0.15 deg>, <Quantity 0.3 deg>)"
      ]
     },
     "execution_count": 455,
     "metadata": {},
     "output_type": "execute_result"
    }
   ],
   "source": [
    "dalt4,daz4"
   ]
  },
  {
   "cell_type": "code",
   "execution_count": null,
   "metadata": {},
   "outputs": [],
   "source": []
  },
  {
   "cell_type": "code",
   "execution_count": 459,
   "metadata": {},
   "outputs": [
    {
     "name": "stderr",
     "output_type": "stream",
     "text": [
      "falling behind; queue contains 99 elements\n",
      "falling behind; queue contains 98 elements\n",
      "falling behind; queue contains 97 elements\n",
      "falling behind; queue contains 99 elements\n",
      "falling behind; queue contains 98 elements\n",
      "falling behind; queue contains 97 elements\n",
      "falling behind; queue contains 99 elements\n",
      "falling behind; queue contains 98 elements\n",
      "falling behind; queue contains 97 elements\n",
      "falling behind; queue contains 99 elements\n",
      "falling behind; queue contains 98 elements\n",
      "falling behind; queue contains 97 elements\n",
      "falling behind; queue contains 99 elements\n",
      "falling behind; queue contains 98 elements\n",
      "falling behind; queue contains 97 elements\n",
      "falling behind; queue contains 99 elements\n",
      "falling behind; queue contains 98 elements\n",
      "falling behind; queue contains 97 elements\n",
      "falling behind; queue contains 99 elements\n",
      "falling behind; queue contains 98 elements\n",
      "falling behind; queue contains 97 elements\n",
      "falling behind; queue contains 99 elements\n",
      "falling behind; queue contains 98 elements\n",
      "falling behind; queue contains 97 elements\n",
      "falling behind; queue contains 99 elements\n",
      "falling behind; queue contains 98 elements\n",
      "falling behind; queue contains 97 elements\n",
      "falling behind; queue contains 99 elements\n",
      "falling behind; queue contains 98 elements\n",
      "falling behind; queue contains 97 elements\n",
      "falling behind; queue contains 13 elements\n"
     ]
    },
    {
     "name": "stdout",
     "output_type": "stream",
     "text": [
      "dra: -0.01758754321728162\n",
      "dec: -0.21186376605500357\n"
     ]
    },
    {
     "data": {
      "text/plain": [
       "<lsst.ts.salobj.ddsutil.ATPtg_ackcmd at 0x7f7358ead400>"
      ]
     },
     "execution_count": 459,
     "metadata": {},
     "output_type": "execute_result"
    }
   ],
   "source": [
    "radec = FK5(Angle('16:53:37', unit=u.hour),\n",
    "             Angle('-22:06:01', unit=u.deg))\n",
    "\n",
    "mount = await r2.tel_mountEncoders.next(flush=True, timeout=1.)\n",
    "\n",
    "dalt5 = dalt4+0.0*u.deg\n",
    "daz5 = daz4+0.1*u.deg\n",
    "\n",
    "time_data = await r1.tel_timeAndDate.next(flush=True, timeout=2)\n",
    "curr_time_atptg = Time(time_data.tai, format=\"mjd\", scale=\"tai\")\n",
    "aa = AltAz(location=location, obstime=curr_time_atptg)\n",
    "alt_az = radec.transform_to(aa)\n",
    "\n",
    "cmd_elaz = AltAz(alt=alt_az.alt+dalt5, az=alt_az.az+daz5, \n",
    "                 obstime=curr_time_atptg.tai, \n",
    "                 location=location)\n",
    "cmd_radec = cmd_elaz.transform_to(FK5)\n",
    "\n",
    "\n",
    "r1.cmd_raDecTarget.set(\n",
    "    targetName=\"Jupiter\",\n",
    "    targetInstance=SALPY_ATPtg.ATPtg_shared_TargetInstances_current,\n",
    "    frame=SALPY_ATPtg.ATPtg_shared_CoordFrame_fk5,\n",
    "    epoch=2000,  # should be ignored: no parallax or proper motion\n",
    "    equinox=2000,  # should be ignored for ICRS\n",
    "    ra=cmd_radec.ra.hour,\n",
    "    declination=cmd_radec.dec.deg,\n",
    "    parallax=0,\n",
    "    pmRA=0,\n",
    "    pmDec=0,\n",
    "    rv=0,\n",
    "    dRA=0,\n",
    "    dDec=0,\n",
    "    rotPA=180.-47.,\n",
    "    rotFrame=SALPY_ATPtg.ATPtg_shared_RotFrame_fixed,\n",
    "    rotMode=SALPY_ATPtg.ATPtg_shared_RotMode_field,\n",
    ")\n",
    "\n",
    "print(f\"dra: {radec.ra.hour-cmd_radec.ra.hour}\")\n",
    "\n",
    "\n",
    "print(f\"dec: {radec.dec.deg-cmd_radec.dec.deg}\")\n",
    "\n",
    "await r1.cmd_raDecTarget.start()\n",
    "# await r1.cmd_raDecTarget.start(timeout=30.)"
   ]
  },
  {
   "cell_type": "code",
   "execution_count": null,
   "metadata": {},
   "outputs": [],
   "source": []
  },
  {
   "cell_type": "code",
   "execution_count": null,
   "metadata": {},
   "outputs": [],
   "source": []
  },
  {
   "cell_type": "code",
   "execution_count": 442,
   "metadata": {},
   "outputs": [
    {
     "data": {
      "text/plain": [
       "(<Quantity 0.33255585 deg>, <Quantity 0.65039867 deg>)"
      ]
     },
     "execution_count": 442,
     "metadata": {},
     "output_type": "execute_result"
    }
   ],
   "source": [
    "daz3, dalt3"
   ]
  },
  {
   "cell_type": "code",
   "execution_count": null,
   "metadata": {},
   "outputs": [],
   "source": []
  },
  {
   "cell_type": "code",
   "execution_count": null,
   "metadata": {},
   "outputs": [],
   "source": []
  },
  {
   "cell_type": "code",
   "execution_count": null,
   "metadata": {},
   "outputs": [],
   "source": []
  },
  {
   "cell_type": "code",
   "execution_count": null,
   "metadata": {},
   "outputs": [],
   "source": []
  },
  {
   "cell_type": "code",
   "execution_count": null,
   "metadata": {},
   "outputs": [],
   "source": []
  },
  {
   "cell_type": "code",
   "execution_count": 264,
   "metadata": {},
   "outputs": [
    {
     "name": "stderr",
     "output_type": "stream",
     "text": [
      "falling behind; queue contains 99 elements\n",
      "falling behind; queue contains 98 elements\n",
      "falling behind; queue contains 97 elements\n"
     ]
    },
    {
     "name": "stdout",
     "output_type": "stream",
     "text": [
      "Alt: 75.32088472157214 deg\n",
      "Az: -350.43123983852627 deg\n",
      "delta_Alt: -9.946126737864475 deg\n",
      "delta_Az: -9.550928707791057 deg\n",
      "raDecTarget ra=17.172972222222224 hour; declination=-15.724916666666667 deg\n"
     ]
    }
   ],
   "source": [
    "dalt = 0. #-0.0519\n",
    "daz = 0. #-2.133\n",
    "\n",
    "radec = ICRS(Angle('17:10:22.7', unit=u.hour),\n",
    "             Angle('-15:43:29.7', unit=u.deg))\n",
    "\n",
    "time_data = await r1.tel_timeAndDate.next(flush=True, timeout=2)\n",
    "curr_time_atptg = Time(time_data.tai, format=\"mjd\", scale=\"tai\")\n",
    "alt_az = radec.transform_to(aa)\n",
    "\n",
    "cmd_elaz = AltAz(alt=alt_az.alt+dalt*u.deg, az=alt_az.az+daz*u.deg, \n",
    "                 obstime=curr_time_atptg.tai, \n",
    "                 location=location)\n",
    "cmd_radec = cmd_elaz.transform_to(ICRS)\n",
    "\n",
    "r1.cmd_raDecTarget.set(\n",
    "    targetName=\"Jupiter\",\n",
    "    targetInstance=SALPY_ATPtg.ATPtg_shared_TargetInstances_current,\n",
    "    frame=SALPY_ATPtg.ATPtg_shared_CoordFrame_fk5,\n",
    "    epoch=2000,  # should be ignored: no parallax or proper motion\n",
    "    equinox=2000,  # should be ignored for ICRS\n",
    "    ra=radec.ra.hour,\n",
    "    declination=radec.dec.deg,\n",
    "    parallax=0,\n",
    "    pmRA=0,\n",
    "    pmDec=0,\n",
    "    rv=0,\n",
    "    dRA=0,\n",
    "    dDec=0,\n",
    "    rotPA=180.-74.,\n",
    "    rotFrame=SALPY_ATPtg.ATPtg_shared_RotFrame_fixed,\n",
    "    rotMode=SALPY_ATPtg.ATPtg_shared_RotMode_field,\n",
    ")\n",
    "\n",
    "mount_data = await r2.tel_mountEncoders.next(flush=True, timeout=5)\n",
    "\n",
    "print(f\"Alt: {alt_az.alt}\")\n",
    "print(f\"Az: {alt_az.az-360.*u.deg}\")\n",
    "print(f\"delta_Alt: {alt_az.alt - mount_data.elevationCalculatedAngle*u.deg}\")\n",
    "print(f\"delta_Az: {alt_az.az - mount_data.azimuthCalculatedAngle*u.deg}\")\n",
    "print(f\"raDecTarget ra={r1.cmd_raDecTarget.data.ra!r} hour; \"\n",
    "      f\"declination={r1.cmd_raDecTarget.data.declination!r} deg\")\n",
    "\n",
    "dalt = alt_az.alt - mount_data.elevationCalculatedAngle*u.deg\n",
    "daz = alt_az.az - mount_data.azimuthCalculatedAngle*u.deg\n",
    "# await cmd_raDecTarget.start()"
   ]
  },
  {
   "cell_type": "code",
   "execution_count": null,
   "metadata": {},
   "outputs": [],
   "source": [
    "r1.cmd_raDecTarget.set(\n",
    "    targetName=\"Eta Ophi\",\n",
    "    targetInstance=SALPY_ATPtg.ATPtg_shared_TargetInstances_current,\n",
    "    frame=SALPY_ATPtg.ATPtg_shared_CoordFrame_fk5,\n",
    "    epoch=2000,  # should be ignored: no parallax or proper motion\n",
    "    equinox=2000,  # should be ignored for ICRS\n",
    "    ra=cmd_radec.ra.hour,\n",
    "    declination=cmd_radec.dec.deg,\n",
    "    parallax=0,\n",
    "    pmRA=0,\n",
    "    pmDec=0,\n",
    "    rv=0,\n",
    "    dRA=0,\n",
    "    dDec=0,\n",
    "    rotPA=180.-74.,\n",
    "    rotFrame=SALPY_ATPtg.ATPtg_shared_RotFrame_fixed,\n",
    "    rotMode=SALPY_ATPtg.ATPtg_shared_RotMode_field,\n",
    ")\n",
    "\n",
    "await r1.cmd_raDecTarget.start(timeout=30.)"
   ]
  },
  {
   "cell_type": "code",
   "execution_count": null,
   "metadata": {},
   "outputs": [],
   "source": []
  },
  {
   "cell_type": "code",
   "execution_count": 235,
   "metadata": {},
   "outputs": [
    {
     "name": "stderr",
     "output_type": "stream",
     "text": [
      "falling behind; queue contains 13 elements\n",
      "falling behind; queue contains 99 elements\n",
      "falling behind; queue contains 98 elements\n",
      "falling behind; queue contains 97 elements\n"
     ]
    }
   ],
   "source": [
    "time_data = await r1.tel_timeAndDate.next(flush=True, timeout=2)\n",
    "curr_time_atptg = Time(time_data.tai, format=\"mjd\", scale=\"tai\")"
   ]
  },
  {
   "cell_type": "code",
   "execution_count": null,
   "metadata": {},
   "outputs": [],
   "source": [
    "cmd_radec = cmd_elaz.transform_to(ICRS)"
   ]
  },
  {
   "cell_type": "code",
   "execution_count": null,
   "metadata": {},
   "outputs": [],
   "source": []
  },
  {
   "cell_type": "code",
   "execution_count": null,
   "metadata": {},
   "outputs": [],
   "source": [
    "\n",
    "r1.cmd_raDecTarget.set(\n",
    "    targetName=\"Eta Ophi\",\n",
    "    targetInstance=SALPY_ATPtg.ATPtg_shared_TargetInstances_current,\n",
    "    frame=SALPY_ATPtg.ATPtg_shared_CoordFrame_fk5,\n",
    "    epoch=2000,  # should be ignored: no parallax or proper motion\n",
    "    equinox=2000,  # should be ignored for ICRS\n",
    "    ra=Angle('16:53:37', unit=u.hour).hour+dra,\n",
    "    declination=Angle('-22:06:01', unit=u.deg).deg+ddec,\n",
    "    parallax=0,\n",
    "    pmRA=0,\n",
    "    pmDec=0,\n",
    "    rv=0,\n",
    "    dRA=0,\n",
    "    dDec=0,\n",
    "    rotPA=180.-74.,\n",
    "    rotFrame=SALPY_ATPtg.ATPtg_shared_RotFrame_fixed,\n",
    "    rotMode=SALPY_ATPtg.ATPtg_shared_RotMode_field,\n",
    ")\n",
    "print(f\"raDecTarget ra={r1.cmd_raDecTarget.data.ra!r} hour; \"\n",
    "      f\"declination={r1.cmd_raDecTarget.data.declination!r} deg\")"
   ]
  },
  {
   "cell_type": "markdown",
   "metadata": {},
   "source": [
    "# GRID"
   ]
  },
  {
   "cell_type": "code",
   "execution_count": 481,
   "metadata": {},
   "outputs": [],
   "source": [
    "alt_grid = np.linspace(-0.5, .5,7)\n",
    "az_grid = np.linspace(-.5, .5,7)"
   ]
  },
  {
   "cell_type": "code",
   "execution_count": 451,
   "metadata": {},
   "outputs": [
    {
     "name": "stdout",
     "output_type": "stream",
     "text": [
      "[-0.3  -0.15  0.    0.15  0.3 ]\n"
     ]
    }
   ],
   "source": [
    "print(alt_grid)"
   ]
  },
  {
   "cell_type": "code",
   "execution_count": 482,
   "metadata": {},
   "outputs": [
    {
     "name": "stderr",
     "output_type": "stream",
     "text": [
      "falling behind; queue contains 99 elements\n",
      "falling behind; queue contains 98 elements\n",
      "falling behind; queue contains 97 elements\n",
      "RemoteTelemetry(ATPtg, 0, timeAndDate) falling behind; read 100 messages\n",
      "falling behind; queue contains 99 elements\n",
      "falling behind; queue contains 98 elements\n",
      "falling behind; queue contains 97 elements\n",
      "falling behind; queue contains 99 elements\n",
      "falling behind; queue contains 98 elements\n",
      "falling behind; queue contains 97 elements\n"
     ]
    },
    {
     "name": "stdout",
     "output_type": "stream",
     "text": [
      "1 0\n",
      "dra: -0.038527829312911877\n",
      "dec: -0.44270827896091447\n"
     ]
    },
    {
     "name": "stdin",
     "output_type": "stream",
     "text": [
      "Center telescope and choose action (press ?<enter>, for list of actions):  s\n"
     ]
    },
    {
     "name": "stderr",
     "output_type": "stream",
     "text": [
      "falling behind; queue contains 99 elements\n",
      "falling behind; queue contains 98 elements\n",
      "falling behind; queue contains 97 elements\n",
      "falling behind; queue contains 99 elements\n",
      "falling behind; queue contains 98 elements\n",
      "falling behind; queue contains 97 elements\n",
      "falling behind; queue contains 99 elements\n",
      "falling behind; queue contains 98 elements\n",
      "falling behind; queue contains 97 elements\n",
      "falling behind; queue contains 99 elements\n",
      "falling behind; queue contains 98 elements\n",
      "falling behind; queue contains 97 elements\n",
      "falling behind; queue contains 99 elements\n",
      "falling behind; queue contains 98 elements\n",
      "falling behind; queue contains 97 elements\n",
      "falling behind; queue contains 99 elements\n",
      "falling behind; queue contains 98 elements\n",
      "falling behind; queue contains 97 elements\n"
     ]
    },
    {
     "name": "stdout",
     "output_type": "stream",
     "text": [
      "Skipping...\n",
      "1 1\n",
      "dra: -0.0420082255616272\n",
      "dec: -0.5618300200279833\n"
     ]
    },
    {
     "name": "stdin",
     "output_type": "stream",
     "text": [
      "Center telescope and choose action (press ?<enter>, for list of actions):  s\n"
     ]
    },
    {
     "name": "stderr",
     "output_type": "stream",
     "text": [
      "RemoteTelemetry(ATPtg, 0, timeAndDate) falling behind; read 16 messages\n",
      "falling behind; queue contains 99 elements\n",
      "falling behind; queue contains 98 elements\n",
      "falling behind; queue contains 97 elements\n",
      "falling behind; queue contains 99 elements\n",
      "falling behind; queue contains 98 elements\n",
      "falling behind; queue contains 97 elements\n",
      "falling behind; queue contains 99 elements\n",
      "falling behind; queue contains 98 elements\n",
      "falling behind; queue contains 97 elements\n",
      "falling behind; queue contains 99 elements\n",
      "falling behind; queue contains 98 elements\n",
      "falling behind; queue contains 97 elements\n",
      "falling behind; queue contains 99 elements\n",
      "falling behind; queue contains 98 elements\n",
      "falling behind; queue contains 97 elements\n",
      "falling behind; queue contains 99 elements\n",
      "falling behind; queue contains 98 elements\n",
      "falling behind; queue contains 97 elements\n"
     ]
    },
    {
     "name": "stdout",
     "output_type": "stream",
     "text": [
      "Skipping...\n",
      "1 2\n",
      "dra: -0.045454989374004384\n",
      "dec: -0.6797728337237849\n"
     ]
    },
    {
     "name": "stdin",
     "output_type": "stream",
     "text": [
      "Center telescope and choose action (press ?<enter>, for list of actions):  s\n"
     ]
    },
    {
     "name": "stderr",
     "output_type": "stream",
     "text": [
      "falling behind; queue contains 99 elements\n",
      "falling behind; queue contains 98 elements\n",
      "falling behind; queue contains 97 elements\n",
      "RemoteTelemetry(ATPtg, 0, timeAndDate) falling behind; read 13 messages\n",
      "RemoteEvent(ATMCS, 0, target) falling behind; read 52 messages\n",
      "falling behind; queue contains 54 elements\n",
      "falling behind; queue contains 53 elements\n"
     ]
    },
    {
     "name": "stdout",
     "output_type": "stream",
     "text": [
      "Skipping...\n",
      "1 3\n",
      "dra: -0.048912544456186424\n",
      "dec: -0.7976550498993333\n"
     ]
    },
    {
     "name": "stdin",
     "output_type": "stream",
     "text": [
      "Center telescope and choose action (press ?<enter>, for list of actions):  s\n"
     ]
    },
    {
     "name": "stderr",
     "output_type": "stream",
     "text": [
      "AckCmdReader(ATMCS, 0, ackcmd) falling behind; read 100 messages\n",
      "RemoteTelemetry(ATPtg, 0, currentTargetStatus) falling behind; read 14 messages\n",
      "falling behind; queue contains 99 elements\n",
      "falling behind; queue contains 98 elements\n",
      "falling behind; queue contains 97 elements\n",
      "RemoteTelemetry(ATPtg, 0, timeAndDate) falling behind; read 13 messages\n",
      "RemoteTelemetry(ATMCS, 0, torqueDemand) falling behind; read 13 messages\n",
      "RemoteTelemetry(ATPtg, 0, mountStatus) falling behind; read 14 messages\n",
      "RemoteTelemetry(ATMCS, 0, mountMotorEncoders) falling behind; read 13 messages\n",
      "RemoteTelemetry(ATPtg, 0, guidingAndOffsets) falling behind; read 14 messages\n",
      "RemoteTelemetry(ATMCS, 0, mountEncoders) falling behind; read 14 messages\n",
      "RemoteTelemetry(ATMCS, 0, measuredTorque) falling behind; read 14 messages\n",
      "RemoteTelemetry(ATMCS, 0, measuredMotorVelocity) falling behind; read 14 messages\n",
      "RemoteEvent(ATMCS, 0, target) falling behind; read 54 messages\n",
      "falling behind; queue contains 61 elements\n",
      "falling behind; queue contains 60 elements\n"
     ]
    },
    {
     "name": "stdout",
     "output_type": "stream",
     "text": [
      "Skipping...\n",
      "1 4\n",
      "dra: -0.05238165585586074\n",
      "dec: -0.9154959254547812\n"
     ]
    },
    {
     "name": "stdin",
     "output_type": "stream",
     "text": [
      "Center telescope and choose action (press ?<enter>, for list of actions):  s\n"
     ]
    },
    {
     "name": "stderr",
     "output_type": "stream",
     "text": [
      "AckCmdReader(ATMCS, 0, ackcmd) falling behind; read 100 messages\n",
      "falling behind; queue contains 99 elements\n",
      "falling behind; queue contains 98 elements\n",
      "falling behind; queue contains 97 elements\n",
      "RemoteTelemetry(ATPtg, 0, timeAndDate) falling behind; read 13 messages\n",
      "RemoteTelemetry(ATMCS, 0, torqueDemand) falling behind; read 12 messages\n",
      "RemoteTelemetry(ATMCS, 0, mountMotorEncoders) falling behind; read 12 messages\n",
      "RemoteEvent(ATMCS, 0, target) falling behind; read 53 messages\n",
      "falling behind; queue contains 58 elements\n",
      "falling behind; queue contains 57 elements\n"
     ]
    },
    {
     "name": "stdout",
     "output_type": "stream",
     "text": [
      "Skipping...\n",
      "1 5\n",
      "dra: -0.05586231435513156\n",
      "dec: -1.0332951744279768\n"
     ]
    },
    {
     "name": "stdin",
     "output_type": "stream",
     "text": [
      "Center telescope and choose action (press ?<enter>, for list of actions):  s\n"
     ]
    },
    {
     "name": "stderr",
     "output_type": "stream",
     "text": [
      "AckCmdReader(ATMCS, 0, ackcmd) falling behind; read 100 messages\n",
      "falling behind; queue contains 99 elements\n",
      "falling behind; queue contains 98 elements\n",
      "falling behind; queue contains 97 elements\n",
      "RemoteTelemetry(ATPtg, 0, timeAndDate) falling behind; read 10 messages\n",
      "RemoteTelemetry(ATPtg, 0, mountStatus) falling behind; read 11 messages\n",
      "RemoteTelemetry(ATMCS, 0, torqueDemand) falling behind; read 10 messages\n",
      "RemoteTelemetry(ATPtg, 0, guidingAndOffsets) falling behind; read 11 messages\n",
      "RemoteTelemetry(ATMCS, 0, mountMotorEncoders) falling behind; read 10 messages\n",
      "RemoteTelemetry(ATPtg, 0, currentTargetStatus) falling behind; read 11 messages\n",
      "RemoteTelemetry(ATMCS, 0, mountEncoders) falling behind; read 10 messages\n",
      "RemoteTelemetry(ATMCS, 0, measuredTorque) falling behind; read 10 messages\n",
      "RemoteTelemetry(ATMCS, 0, measuredMotorVelocity) falling behind; read 10 messages\n",
      "RemoteEvent(ATMCS, 0, target) falling behind; read 42 messages\n",
      "falling behind; queue contains 25 elements\n"
     ]
    },
    {
     "name": "stdout",
     "output_type": "stream",
     "text": [
      "Skipping...\n",
      "1 6\n",
      "dra: -0.05935304816548381\n",
      "dec: -1.1510149198304198\n"
     ]
    },
    {
     "name": "stdin",
     "output_type": "stream",
     "text": [
      "Center telescope and choose action (press ?<enter>, for list of actions):  s\n"
     ]
    },
    {
     "name": "stderr",
     "output_type": "stream",
     "text": [
      "AckCmdReader(ATMCS, 0, ackcmd) falling behind; read 100 messages\n",
      "falling behind; queue contains 99 elements\n",
      "falling behind; queue contains 98 elements\n",
      "falling behind; queue contains 97 elements\n",
      "RemoteTelemetry(ATPtg, 0, timeAndDate) falling behind; read 12 messages\n",
      "RemoteEvent(ATMCS, 0, target) falling behind; read 50 messages\n",
      "falling behind; queue contains 50 elements\n"
     ]
    },
    {
     "name": "stdout",
     "output_type": "stream",
     "text": [
      "Skipping...\n",
      "2 0\n",
      "dra: -0.04967861388685435\n",
      "dec: -0.3818883456574973\n"
     ]
    },
    {
     "name": "stdin",
     "output_type": "stream",
     "text": [
      "Center telescope and choose action (press ?<enter>, for list of actions):  s\n"
     ]
    },
    {
     "name": "stderr",
     "output_type": "stream",
     "text": [
      "AckCmdReader(ATMCS, 0, ackcmd) falling behind; read 100 messages\n",
      "falling behind; queue contains 99 elements\n",
      "falling behind; queue contains 98 elements\n",
      "falling behind; queue contains 97 elements\n",
      "RemoteTelemetry(ATPtg, 0, timeAndDate) falling behind; read 20 messages\n",
      "RemoteEvent(ATMCS, 0, target) falling behind; read 80 messages\n",
      "falling behind; queue contains 99 elements\n",
      "falling behind; queue contains 98 elements\n",
      "falling behind; queue contains 97 elements\n",
      "falling behind; queue contains 41 elements\n"
     ]
    },
    {
     "name": "stdout",
     "output_type": "stream",
     "text": [
      "Skipping...\n",
      "2 1\n",
      "dra: -0.05310307055412267\n",
      "dec: -0.49976726351333056\n"
     ]
    },
    {
     "name": "stdin",
     "output_type": "stream",
     "text": [
      "Center telescope and choose action (press ?<enter>, for list of actions):  s\n"
     ]
    },
    {
     "name": "stderr",
     "output_type": "stream",
     "text": [
      "AckCmdReader(ATMCS, 0, ackcmd) falling behind; read 100 messages\n",
      "RemoteTelemetry(ATPtg, 0, currentTargetStatus) falling behind; read 14 messages\n",
      "falling behind; queue contains 99 elements\n",
      "falling behind; queue contains 98 elements\n",
      "falling behind; queue contains 97 elements\n",
      "RemoteTelemetry(ATPtg, 0, timeAndDate) falling behind; read 13 messages\n",
      "RemoteTelemetry(ATPtg, 0, mountStatus) falling behind; read 14 messages\n",
      "RemoteTelemetry(ATPtg, 0, guidingAndOffsets) falling behind; read 14 messages\n",
      "RemoteEvent(ATMCS, 0, target) falling behind; read 55 messages\n",
      "falling behind; queue contains 64 elements\n",
      "falling behind; queue contains 63 elements\n"
     ]
    },
    {
     "name": "stdout",
     "output_type": "stream",
     "text": [
      "Skipping...\n",
      "2 2\n",
      "dra: -0.056537685909731294\n",
      "dec: -0.6175696803327568\n"
     ]
    },
    {
     "name": "stdin",
     "output_type": "stream",
     "text": [
      "Center telescope and choose action (press ?<enter>, for list of actions):  s\n"
     ]
    },
    {
     "name": "stderr",
     "output_type": "stream",
     "text": [
      "falling behind; queue contains 99 elements\n",
      "falling behind; queue contains 98 elements\n",
      "falling behind; queue contains 97 elements\n",
      "RemoteTelemetry(ATPtg, 0, timeAndDate) falling behind; read 10 messages\n",
      "RemoteEvent(ATMCS, 0, target) falling behind; read 41 messages\n",
      "falling behind; queue contains 22 elements\n"
     ]
    },
    {
     "name": "stdout",
     "output_type": "stream",
     "text": [
      "Skipping...\n",
      "2 3\n",
      "dra: -0.0599828626231087\n",
      "dec: -0.7353050448388778\n"
     ]
    },
    {
     "name": "stdin",
     "output_type": "stream",
     "text": [
      "Center telescope and choose action (press ?<enter>, for list of actions):  s\n"
     ]
    },
    {
     "name": "stderr",
     "output_type": "stream",
     "text": [
      "RemoteEvent(ATMCS, 0, target) falling behind; read 44 messages\n",
      "RemoteTelemetry(ATPtg, 0, timeAndDate) falling behind; read 11 messages\n",
      "RemoteTelemetry(ATMCS, 0, torqueDemand) falling behind; read 10 messages\n",
      "RemoteTelemetry(ATMCS, 0, mountMotorEncoders) falling behind; read 10 messages\n",
      "RemoteTelemetry(ATMCS, 0, mountEncoders) falling behind; read 10 messages\n",
      "RemoteTelemetry(ATMCS, 0, measuredTorque) falling behind; read 10 messages\n",
      "RemoteTelemetry(ATMCS, 0, measuredMotorVelocity) falling behind; read 10 messages\n",
      "AckCmdReader(ATMCS, 0, ackcmd) falling behind; read 100 messages\n",
      "falling behind; queue contains 99 elements\n",
      "falling behind; queue contains 98 elements\n",
      "falling behind; queue contains 97 elements\n",
      "falling behind; queue contains 31 elements\n"
     ]
    },
    {
     "name": "stdout",
     "output_type": "stream",
     "text": [
      "Skipping...\n",
      "2 4\n",
      "dra: -0.06343974210850689\n",
      "dec: -0.853001969046602\n"
     ]
    },
    {
     "name": "stdin",
     "output_type": "stream",
     "text": [
      "Center telescope and choose action (press ?<enter>, for list of actions):  s\n"
     ]
    },
    {
     "name": "stderr",
     "output_type": "stream",
     "text": [
      "AckCmdReader(ATMCS, 0, ackcmd) falling behind; read 100 messages\n",
      "falling behind; queue contains 99 elements\n",
      "falling behind; queue contains 98 elements\n",
      "falling behind; queue contains 97 elements\n",
      "RemoteTelemetry(ATPtg, 0, timeAndDate) falling behind; read 13 messages\n",
      "RemoteTelemetry(ATPtg, 0, mountStatus) falling behind; read 13 messages\n",
      "RemoteTelemetry(ATMCS, 0, torqueDemand) falling behind; read 14 messages\n",
      "RemoteTelemetry(ATPtg, 0, guidingAndOffsets) falling behind; read 14 messages\n",
      "RemoteTelemetry(ATMCS, 0, mountMotorEncoders) falling behind; read 14 messages\n",
      "RemoteTelemetry(ATMCS, 0, mountEncoders) falling behind; read 14 messages\n",
      "RemoteTelemetry(ATPtg, 0, currentTargetStatus) falling behind; read 14 messages\n",
      "RemoteTelemetry(ATMCS, 0, measuredTorque) falling behind; read 14 messages\n",
      "RemoteTelemetry(ATMCS, 0, measuredMotorVelocity) falling behind; read 14 messages\n",
      "RemoteEvent(ATMCS, 0, target) falling behind; read 55 messages\n",
      "falling behind; queue contains 64 elements\n",
      "falling behind; queue contains 63 elements\n"
     ]
    },
    {
     "name": "stdout",
     "output_type": "stream",
     "text": [
      "Skipping...\n",
      "2 5\n",
      "dra: -0.06690888938663875\n",
      "dec: -0.9706748908039273\n"
     ]
    },
    {
     "name": "stdin",
     "output_type": "stream",
     "text": [
      "Center telescope and choose action (press ?<enter>, for list of actions):  s\n"
     ]
    },
    {
     "name": "stderr",
     "output_type": "stream",
     "text": [
      "falling behind; queue contains 99 elements\n",
      "falling behind; queue contains 98 elements\n",
      "falling behind; queue contains 97 elements\n",
      "RemoteTelemetry(ATPtg, 0, timeAndDate) falling behind; read 14 messages\n",
      "RemoteTelemetry(ATPtg, 0, mountStatus) falling behind; read 14 messages\n",
      "RemoteEvent(ATMCS, 0, target) falling behind; read 55 messages\n",
      "falling behind; queue contains 65 elements\n",
      "falling behind; queue contains 64 elements\n"
     ]
    },
    {
     "name": "stdout",
     "output_type": "stream",
     "text": [
      "Skipping...\n",
      "2 6\n",
      "dra: -0.070390084165048\n",
      "dec: -1.0883183266387775\n"
     ]
    },
    {
     "name": "stdin",
     "output_type": "stream",
     "text": [
      "Center telescope and choose action (press ?<enter>, for list of actions):  s\n"
     ]
    },
    {
     "name": "stderr",
     "output_type": "stream",
     "text": [
      "AckCmdReader(ATMCS, 0, ackcmd) falling behind; read 100 messages\n",
      "falling behind; queue contains 99 elements\n",
      "falling behind; queue contains 98 elements\n",
      "falling behind; queue contains 97 elements\n",
      "RemoteTelemetry(ATPtg, 0, timeAndDate) falling behind; read 11 messages\n",
      "RemoteTelemetry(ATPtg, 0, mountStatus) falling behind; read 12 messages\n",
      "RemoteTelemetry(ATPtg, 0, guidingAndOffsets) falling behind; read 12 messages\n",
      "RemoteTelemetry(ATPtg, 0, currentTargetStatus) falling behind; read 12 messages\n",
      "RemoteEvent(ATMCS, 0, target) falling behind; read 47 messages\n",
      "falling behind; queue contains 40 elements\n"
     ]
    },
    {
     "name": "stdout",
     "output_type": "stream",
     "text": [
      "Skipping...\n",
      "3 0\n",
      "dra: -0.0607922042011424\n",
      "dec: -0.32004586107325395\n"
     ]
    },
    {
     "name": "stdin",
     "output_type": "stream",
     "text": [
      "Center telescope and choose action (press ?<enter>, for list of actions):  s\n"
     ]
    },
    {
     "name": "stderr",
     "output_type": "stream",
     "text": [
      "RemoteEvent(ATMCS, 0, target) falling behind; read 98 messages\n",
      "RemoteTelemetry(ATPtg, 0, timeAndDate) falling behind; read 24 messages\n",
      "AckCmdReader(ATMCS, 0, ackcmd) falling behind; read 100 messages\n",
      "falling behind; queue contains 99 elements\n",
      "falling behind; queue contains 98 elements\n",
      "falling behind; queue contains 97 elements\n",
      "falling behind; queue contains 99 elements\n",
      "falling behind; queue contains 98 elements\n",
      "falling behind; queue contains 97 elements\n",
      "falling behind; queue contains 93 elements\n",
      "falling behind; queue contains 92 elements\n",
      "falling behind; queue contains 91 elements\n"
     ]
    },
    {
     "name": "stdout",
     "output_type": "stream",
     "text": [
      "Skipping...\n",
      "3 1\n",
      "dra: -0.064206095252473\n",
      "dec: -0.4378241052294207\n"
     ]
    },
    {
     "name": "stdin",
     "output_type": "stream",
     "text": [
      "Center telescope and choose action (press ?<enter>, for list of actions):  s\n"
     ]
    },
    {
     "name": "stderr",
     "output_type": "stream",
     "text": [
      "AckCmdReader(ATMCS, 0, ackcmd) falling behind; read 100 messages\n",
      "falling behind; queue contains 99 elements\n",
      "falling behind; queue contains 98 elements\n",
      "falling behind; queue contains 97 elements\n",
      "RemoteTelemetry(ATPtg, 0, timeAndDate) falling behind; read 11 messages\n",
      "RemoteEvent(ATMCS, 0, target) falling behind; read 47 messages\n",
      "falling behind; queue contains 39 elements\n"
     ]
    },
    {
     "name": "stdout",
     "output_type": "stream",
     "text": [
      "Skipping...\n",
      "3 2\n",
      "dra: -0.06762881941203602\n",
      "dec: -0.5554929676546223\n"
     ]
    },
    {
     "name": "stdin",
     "output_type": "stream",
     "text": [
      "Center telescope and choose action (press ?<enter>, for list of actions):  s\n"
     ]
    },
    {
     "name": "stderr",
     "output_type": "stream",
     "text": [
      "AckCmdReader(ATMCS, 0, ackcmd) falling behind; read 100 messages\n",
      "falling behind; queue contains 99 elements\n",
      "falling behind; queue contains 98 elements\n",
      "falling behind; queue contains 97 elements\n",
      "RemoteEvent(ATMCS, 0, target) falling behind; read 37 messages\n"
     ]
    },
    {
     "name": "stdout",
     "output_type": "stream",
     "text": [
      "Skipping...\n",
      "3 3\n",
      "dra: -0.07106230644293277\n",
      "dec: -0.673099248576893\n"
     ]
    },
    {
     "name": "stdin",
     "output_type": "stream",
     "text": [
      "Center telescope and choose action (press ?<enter>, for list of actions):  s\n"
     ]
    },
    {
     "name": "stderr",
     "output_type": "stream",
     "text": [
      "AckCmdReader(ATMCS, 0, ackcmd) falling behind; read 100 messages\n",
      "falling behind; queue contains 99 elements\n",
      "falling behind; queue contains 98 elements\n",
      "falling behind; queue contains 97 elements\n",
      "RemoteTelemetry(ATPtg, 0, timeAndDate) falling behind; read 10 messages\n",
      "RemoteTelemetry(ATPtg, 0, mountStatus) falling behind; read 11 messages\n",
      "RemoteTelemetry(ATMCS, 0, torqueDemand) falling behind; read 10 messages\n",
      "RemoteTelemetry(ATPtg, 0, guidingAndOffsets) falling behind; read 11 messages\n",
      "RemoteTelemetry(ATMCS, 0, mountMotorEncoders) falling behind; read 10 messages\n",
      "RemoteTelemetry(ATPtg, 0, currentTargetStatus) falling behind; read 11 messages\n",
      "RemoteTelemetry(ATMCS, 0, mountEncoders) falling behind; read 10 messages\n",
      "RemoteTelemetry(ATMCS, 0, measuredTorque) falling behind; read 10 messages\n",
      "RemoteTelemetry(ATMCS, 0, measuredMotorVelocity) falling behind; read 10 messages\n",
      "RemoteEvent(ATMCS, 0, target) falling behind; read 42 messages\n",
      "falling behind; queue contains 27 elements\n"
     ]
    },
    {
     "name": "stdout",
     "output_type": "stream",
     "text": [
      "Skipping...\n",
      "3 4\n",
      "dra: -0.07450742870988591\n",
      "dec: -0.790664646994987\n"
     ]
    },
    {
     "name": "stdin",
     "output_type": "stream",
     "text": [
      "Center telescope and choose action (press ?<enter>, for list of actions):  s\n"
     ]
    },
    {
     "name": "stderr",
     "output_type": "stream",
     "text": [
      "AckCmdReader(ATMCS, 0, ackcmd) falling behind; read 100 messages\n",
      "falling behind; queue contains 99 elements\n",
      "falling behind; queue contains 98 elements\n",
      "falling behind; queue contains 97 elements\n",
      "RemoteTelemetry(ATPtg, 0, timeAndDate) falling behind; read 10 messages\n",
      "RemoteEvent(ATMCS, 0, target) falling behind; read 43 messages\n",
      "falling behind; queue contains 30 elements\n"
     ]
    },
    {
     "name": "stdout",
     "output_type": "stream",
     "text": [
      "Skipping...\n",
      "3 5\n",
      "dra: -0.07796388365731133\n",
      "dec: -0.9081815223010139\n"
     ]
    },
    {
     "name": "stdin",
     "output_type": "stream",
     "text": [
      "Center telescope and choose action (press ?<enter>, for list of actions):  s\n"
     ]
    },
    {
     "name": "stderr",
     "output_type": "stream",
     "text": [
      "AckCmdReader(ATMCS, 0, ackcmd) falling behind; read 100 messages\n",
      "falling behind; queue contains 99 elements\n",
      "falling behind; queue contains 98 elements\n",
      "falling behind; queue contains 97 elements\n",
      "RemoteTelemetry(ATPtg, 0, timeAndDate) falling behind; read 11 messages\n",
      "RemoteEvent(ATMCS, 0, target) falling behind; read 46 messages\n",
      "falling behind; queue contains 37 elements\n"
     ]
    },
    {
     "name": "stdout",
     "output_type": "stream",
     "text": [
      "Skipping...\n",
      "3 6\n",
      "dra: -0.0814321383829828\n",
      "dec: -1.0256616888379746\n"
     ]
    },
    {
     "name": "stdin",
     "output_type": "stream",
     "text": [
      "Center telescope and choose action (press ?<enter>, for list of actions):  s\n"
     ]
    },
    {
     "name": "stderr",
     "output_type": "stream",
     "text": [
      "AckCmdReader(ATMCS, 0, ackcmd) falling behind; read 100 messages\n",
      "falling behind; queue contains 99 elements\n",
      "falling behind; queue contains 98 elements\n",
      "falling behind; queue contains 97 elements\n",
      "RemoteTelemetry(ATPtg, 0, timeAndDate) falling behind; read 10 messages\n",
      "RemoteEvent(ATMCS, 0, target) falling behind; read 42 messages\n",
      "falling behind; queue contains 27 elements\n"
     ]
    },
    {
     "name": "stdout",
     "output_type": "stream",
     "text": [
      "Skipping...\n",
      "4 0\n",
      "dra: -0.07191293581455938\n",
      "dec: -0.2582985726391449\n"
     ]
    },
    {
     "name": "stdin",
     "output_type": "stream",
     "text": [
      "Center telescope and choose action (press ?<enter>, for list of actions):  s\n"
     ]
    },
    {
     "name": "stderr",
     "output_type": "stream",
     "text": [
      "AckCmdReader(ATMCS, 0, ackcmd) falling behind; read 100 messages\n",
      "falling behind; queue contains 99 elements\n",
      "falling behind; queue contains 98 elements\n",
      "falling behind; queue contains 97 elements\n",
      "RemoteTelemetry(ATPtg, 0, timeAndDate) falling behind; read 24 messages\n",
      "RemoteEvent(ATMCS, 0, target) falling behind; read 96 messages\n",
      "falling behind; queue contains 99 elements\n",
      "falling behind; queue contains 98 elements\n",
      "falling behind; queue contains 97 elements\n",
      "falling behind; queue contains 90 elements\n",
      "falling behind; queue contains 89 elements\n"
     ]
    },
    {
     "name": "stdout",
     "output_type": "stream",
     "text": [
      "Skipping...\n",
      "4 1\n",
      "dra: -0.07531489652886592\n",
      "dec: -0.3759418229910203\n"
     ]
    },
    {
     "name": "stdin",
     "output_type": "stream",
     "text": [
      "Center telescope and choose action (press ?<enter>, for list of actions):  s\n"
     ]
    },
    {
     "name": "stderr",
     "output_type": "stream",
     "text": [
      "AckCmdReader(ATMCS, 0, ackcmd) falling behind; read 100 messages\n",
      "falling behind; queue contains 99 elements\n",
      "falling behind; queue contains 98 elements\n",
      "falling behind; queue contains 97 elements\n",
      "RemoteTelemetry(ATMCS, 0, torqueDemand) falling behind; read 10 messages\n",
      "RemoteTelemetry(ATMCS, 0, mountMotorEncoders) falling behind; read 10 messages\n",
      "RemoteTelemetry(ATMCS, 0, mountEncoders) falling behind; read 10 messages\n",
      "RemoteTelemetry(ATMCS, 0, measuredTorque) falling behind; read 10 messages\n",
      "RemoteEvent(ATMCS, 0, target) falling behind; read 38 messages\n",
      "falling behind; queue contains 13 elements\n"
     ]
    },
    {
     "name": "stdout",
     "output_type": "stream",
     "text": [
      "Skipping...\n",
      "4 2\n",
      "dra: -0.07872522000160131\n",
      "dec: -0.4934642096898756\n"
     ]
    },
    {
     "name": "stdin",
     "output_type": "stream",
     "text": [
      "Center telescope and choose action (press ?<enter>, for list of actions):  s\n"
     ]
    },
    {
     "name": "stderr",
     "output_type": "stream",
     "text": [
      "AckCmdReader(ATMCS, 0, ackcmd) falling behind; read 100 messages\n",
      "falling behind; queue contains 99 elements\n",
      "falling behind; queue contains 98 elements\n",
      "falling behind; queue contains 97 elements\n",
      "RemoteTelemetry(ATPtg, 0, timeAndDate) falling behind; read 10 messages\n",
      "RemoteEvent(ATMCS, 0, target) falling behind; read 40 messages\n",
      "falling behind; queue contains 21 elements\n"
     ]
    },
    {
     "name": "stdout",
     "output_type": "stream",
     "text": [
      "Skipping...\n",
      "4 3\n",
      "dra: -0.08214716767113472\n",
      "dec: -0.6109447775167389\n"
     ]
    },
    {
     "name": "stdin",
     "output_type": "stream",
     "text": [
      "Center telescope and choose action (press ?<enter>, for list of actions):  s\n"
     ]
    },
    {
     "name": "stderr",
     "output_type": "stream",
     "text": [
      "RemoteEvent(ATMCS, 0, target) falling behind; read 37 messages\n",
      "AckCmdReader(ATMCS, 0, ackcmd) falling behind; read 100 messages\n",
      "falling behind; queue contains 99 elements\n",
      "falling behind; queue contains 98 elements\n",
      "falling behind; queue contains 97 elements\n",
      "falling behind; queue contains 13 elements\n"
     ]
    },
    {
     "name": "stdout",
     "output_type": "stream",
     "text": [
      "Skipping...\n",
      "4 4\n",
      "dra: -0.0855801080015155\n",
      "dec: -0.7283677358239196\n"
     ]
    },
    {
     "name": "stdin",
     "output_type": "stream",
     "text": [
      "Center telescope and choose action (press ?<enter>, for list of actions):  s\n"
     ]
    },
    {
     "name": "stderr",
     "output_type": "stream",
     "text": [
      "AckCmdReader(ATMCS, 0, ackcmd) falling behind; read 100 messages\n",
      "falling behind; queue contains 99 elements\n",
      "falling behind; queue contains 98 elements\n",
      "falling behind; queue contains 97 elements\n",
      "RemoteTelemetry(ATPtg, 0, timeAndDate) falling behind; read 10 messages\n",
      "RemoteEvent(ATMCS, 0, target) falling behind; read 41 messages\n",
      "falling behind; queue contains 23 elements\n"
     ]
    },
    {
     "name": "stdout",
     "output_type": "stream",
     "text": [
      "Skipping...\n",
      "4 5\n",
      "dra: -0.08902474711135255\n",
      "dec: -0.8457506838329643\n"
     ]
    },
    {
     "name": "stdin",
     "output_type": "stream",
     "text": [
      "Center telescope and choose action (press ?<enter>, for list of actions):  s\n"
     ]
    },
    {
     "name": "stderr",
     "output_type": "stream",
     "text": [
      "AckCmdReader(ATMCS, 0, ackcmd) falling behind; read 100 messages\n",
      "falling behind; queue contains 99 elements\n",
      "falling behind; queue contains 98 elements\n",
      "falling behind; queue contains 97 elements\n",
      "RemoteEvent(ATMCS, 0, target) falling behind; read 36 messages\n"
     ]
    },
    {
     "name": "stdout",
     "output_type": "stream",
     "text": [
      "Skipping...\n",
      "4 6\n",
      "dra: -0.0924802703122829\n",
      "dec: -0.9630730042406697\n"
     ]
    },
    {
     "name": "stdin",
     "output_type": "stream",
     "text": [
      "Center telescope and choose action (press ?<enter>, for list of actions):  s\n"
     ]
    },
    {
     "name": "stderr",
     "output_type": "stream",
     "text": [
      "AckCmdReader(ATMCS, 0, ackcmd) falling behind; read 100 messages\n",
      "falling behind; queue contains 99 elements\n",
      "falling behind; queue contains 98 elements\n",
      "falling behind; queue contains 97 elements\n",
      "RemoteEvent(ATMCS, 0, target) falling behind; read 34 messages\n"
     ]
    },
    {
     "name": "stdout",
     "output_type": "stream",
     "text": [
      "Skipping...\n",
      "5 0\n",
      "dra: -0.08304112730199265\n",
      "dec: -0.19665552917519236\n"
     ]
    },
    {
     "name": "stdin",
     "output_type": "stream",
     "text": [
      "Center telescope and choose action (press ?<enter>, for list of actions):  s\n"
     ]
    },
    {
     "name": "stderr",
     "output_type": "stream",
     "text": [
      "RemoteEvent(ATMCS, 0, target) falling behind; read 100 messages\n",
      "RemoteTelemetry(ATPtg, 0, timeAndDate) falling behind; read 26 messages\n",
      "RemoteTelemetry(ATPtg, 0, mountStatus) falling behind; read 27 messages\n",
      "RemoteTelemetry(ATMCS, 0, torqueDemand) falling behind; read 28 messages\n",
      "RemoteTelemetry(ATPtg, 0, guidingAndOffsets) falling behind; read 27 messages\n",
      "RemoteTelemetry(ATMCS, 0, mountMotorEncoders) falling behind; read 28 messages\n",
      "RemoteTelemetry(ATMCS, 0, mountEncoders) falling behind; read 28 messages\n",
      "RemoteTelemetry(ATPtg, 0, currentTargetStatus) falling behind; read 27 messages\n",
      "RemoteTelemetry(ATMCS, 0, measuredTorque) falling behind; read 28 messages\n",
      "RemoteTelemetry(ATMCS, 0, measuredMotorVelocity) falling behind; read 28 messages\n",
      "AckCmdReader(ATMCS, 0, ackcmd) falling behind; read 100 messages\n",
      "falling behind; queue contains 99 elements\n",
      "falling behind; queue contains 98 elements\n",
      "falling behind; queue contains 97 elements\n",
      "falling behind; queue contains 99 elements\n",
      "falling behind; queue contains 98 elements\n",
      "falling behind; queue contains 97 elements\n",
      "falling behind; queue contains 99 elements\n",
      "falling behind; queue contains 98 elements\n",
      "falling behind; queue contains 97 elements\n",
      "falling behind; queue contains 17 elements\n"
     ]
    },
    {
     "name": "stdout",
     "output_type": "stream",
     "text": [
      "Skipping...\n",
      "5 1\n",
      "dra: -0.08643133005231363\n",
      "dec: -0.3141675658897647\n"
     ]
    },
    {
     "name": "stdin",
     "output_type": "stream",
     "text": [
      "Center telescope and choose action (press ?<enter>, for list of actions):  s\n"
     ]
    },
    {
     "name": "stderr",
     "output_type": "stream",
     "text": [
      "AckCmdReader(ATMCS, 0, ackcmd) falling behind; read 100 messages\n",
      "falling behind; queue contains 99 elements\n",
      "falling behind; queue contains 98 elements\n",
      "falling behind; queue contains 97 elements\n",
      "RemoteEvent(ATMCS, 0, target) falling behind; read 34 messages\n"
     ]
    },
    {
     "name": "stdout",
     "output_type": "stream",
     "text": [
      "Skipping...\n",
      "5 2\n",
      "dra: -0.08982935106355683\n",
      "dec: -0.4315459393443497\n"
     ]
    },
    {
     "name": "stdin",
     "output_type": "stream",
     "text": [
      "Center telescope and choose action (press ?<enter>, for list of actions):  s\n"
     ]
    },
    {
     "name": "stderr",
     "output_type": "stream",
     "text": [
      "RemoteTelemetry(ATPtg, 0, currentTargetStatus) falling behind; read 12 messages\n",
      "RemoteTelemetry(ATMCS, 0, measuredMotorVelocity) falling behind; read 11 messages\n",
      "RemoteTelemetry(ATPtg, 0, timeAndDate) falling behind; read 11 messages\n",
      "RemoteTelemetry(ATMCS, 0, torqueDemand) falling behind; read 11 messages\n",
      "RemoteTelemetry(ATPtg, 0, mountStatus) falling behind; read 12 messages\n",
      "RemoteTelemetry(ATMCS, 0, mountMotorEncoders) falling behind; read 11 messages\n",
      "RemoteTelemetry(ATPtg, 0, guidingAndOffsets) falling behind; read 12 messages\n",
      "RemoteTelemetry(ATMCS, 0, mountEncoders) falling behind; read 11 messages\n",
      "RemoteTelemetry(ATMCS, 0, measuredTorque) falling behind; read 11 messages\n",
      "RemoteEvent(ATMCS, 0, target) falling behind; read 46 messages\n",
      "AckCmdReader(ATMCS, 0, ackcmd) falling behind; read 100 messages\n",
      "falling behind; queue contains 99 elements\n",
      "falling behind; queue contains 98 elements\n",
      "falling behind; queue contains 97 elements\n",
      "falling behind; queue contains 37 elements\n"
     ]
    },
    {
     "name": "stdout",
     "output_type": "stream",
     "text": [
      "Skipping...\n",
      "5 3\n",
      "dra: -0.09323958839036095\n",
      "dec: -0.5488963401510709\n"
     ]
    },
    {
     "name": "stdin",
     "output_type": "stream",
     "text": [
      "Center telescope and choose action (press ?<enter>, for list of actions):  s\n"
     ]
    },
    {
     "name": "stderr",
     "output_type": "stream",
     "text": [
      "AckCmdReader(ATMCS, 0, ackcmd) falling behind; read 100 messages\n",
      "falling behind; queue contains 99 elements\n",
      "falling behind; queue contains 98 elements\n",
      "falling behind; queue contains 97 elements\n",
      "RemoteTelemetry(ATPtg, 0, timeAndDate) falling behind; read 12 messages\n",
      "RemoteTelemetry(ATPtg, 0, currentTargetStatus) falling behind; read 11 messages\n",
      "RemoteEvent(ATMCS, 0, target) falling behind; read 48 messages\n",
      "falling behind; queue contains 41 elements\n"
     ]
    },
    {
     "name": "stdout",
     "output_type": "stream",
     "text": [
      "Skipping...\n",
      "5 4\n",
      "dra: -0.09666169693307936\n",
      "dec: -0.666210602225231\n"
     ]
    },
    {
     "name": "stdin",
     "output_type": "stream",
     "text": [
      "Center telescope and choose action (press ?<enter>, for list of actions):  s\n"
     ]
    },
    {
     "name": "stderr",
     "output_type": "stream",
     "text": [
      "AckCmdReader(ATMCS, 0, ackcmd) falling behind; read 100 messages\n",
      "falling behind; queue contains 99 elements\n",
      "falling behind; queue contains 98 elements\n",
      "falling behind; queue contains 97 elements\n",
      "RemoteTelemetry(ATPtg, 0, timeAndDate) falling behind; read 11 messages\n",
      "RemoteTelemetry(ATPtg, 0, mountStatus) falling behind; read 11 messages\n",
      "RemoteTelemetry(ATMCS, 0, torqueDemand) falling behind; read 12 messages\n",
      "RemoteTelemetry(ATPtg, 0, guidingAndOffsets) falling behind; read 11 messages\n",
      "RemoteTelemetry(ATMCS, 0, mountMotorEncoders) falling behind; read 12 messages\n",
      "RemoteTelemetry(ATPtg, 0, currentTargetStatus) falling behind; read 11 messages\n",
      "RemoteTelemetry(ATMCS, 0, mountEncoders) falling behind; read 12 messages\n",
      "RemoteTelemetry(ATMCS, 0, measuredTorque) falling behind; read 12 messages\n",
      "RemoteTelemetry(ATMCS, 0, measuredMotorVelocity) falling behind; read 12 messages\n",
      "RemoteEvent(ATMCS, 0, target) falling behind; read 44 messages\n",
      "falling behind; queue contains 33 elements\n"
     ]
    },
    {
     "name": "stdout",
     "output_type": "stream",
     "text": [
      "Skipping...\n",
      "5 5\n",
      "dra: -0.1000949624553904\n",
      "dec: -0.7834708971618305\n"
     ]
    },
    {
     "name": "stdin",
     "output_type": "stream",
     "text": [
      "Center telescope and choose action (press ?<enter>, for list of actions):  s\n"
     ]
    },
    {
     "name": "stderr",
     "output_type": "stream",
     "text": [
      "AckCmdReader(ATMCS, 0, ackcmd) falling behind; read 100 messages\n",
      "RemoteTelemetry(ATPtg, 0, timeAndDate) falling behind; read 14 messages\n",
      "falling behind; queue contains 99 elements\n",
      "falling behind; queue contains 98 elements\n",
      "falling behind; queue contains 97 elements\n",
      "RemoteTelemetry(ATPtg, 0, mountStatus) falling behind; read 14 messages\n",
      "RemoteTelemetry(ATPtg, 0, guidingAndOffsets) falling behind; read 14 messages\n",
      "RemoteTelemetry(ATPtg, 0, currentTargetStatus) falling behind; read 14 messages\n",
      "RemoteEvent(ATMCS, 0, target) falling behind; read 59 messages\n",
      "falling behind; queue contains 77 elements\n",
      "falling behind; queue contains 76 elements\n"
     ]
    },
    {
     "name": "stdout",
     "output_type": "stream",
     "text": [
      "Skipping...\n",
      "5 6\n",
      "dra: -0.10354110371489611\n",
      "dec: -0.9007204136919178\n"
     ]
    },
    {
     "name": "stdin",
     "output_type": "stream",
     "text": [
      "Center telescope and choose action (press ?<enter>, for list of actions):  s\n"
     ]
    },
    {
     "name": "stderr",
     "output_type": "stream",
     "text": [
      "AckCmdReader(ATMCS, 0, ackcmd) falling behind; read 100 messages\n",
      "falling behind; queue contains 99 elements\n",
      "falling behind; queue contains 98 elements\n",
      "falling behind; queue contains 97 elements\n",
      "RemoteTelemetry(ATPtg, 0, timeAndDate) falling behind; read 13 messages\n",
      "RemoteTelemetry(ATPtg, 0, mountStatus) falling behind; read 12 messages\n",
      "RemoteTelemetry(ATMCS, 0, torqueDemand) falling behind; read 13 messages\n",
      "RemoteTelemetry(ATPtg, 0, guidingAndOffsets) falling behind; read 12 messages\n",
      "RemoteTelemetry(ATMCS, 0, mountMotorEncoders) falling behind; read 13 messages\n",
      "RemoteTelemetry(ATPtg, 0, currentTargetStatus) falling behind; read 12 messages\n",
      "RemoteTelemetry(ATMCS, 0, mountEncoders) falling behind; read 13 messages\n",
      "RemoteTelemetry(ATMCS, 0, measuredTorque) falling behind; read 13 messages\n",
      "RemoteTelemetry(ATMCS, 0, measuredMotorVelocity) falling behind; read 13 messages\n",
      "RemoteEvent(ATMCS, 0, target) falling behind; read 52 messages\n",
      "falling behind; queue contains 56 elements\n",
      "falling behind; queue contains 55 elements\n"
     ]
    },
    {
     "name": "stdout",
     "output_type": "stream",
     "text": [
      "Skipping...\n",
      "6 0\n",
      "dra: -0.09418094806886401\n",
      "dec: -0.13521594837736117\n"
     ]
    },
    {
     "ename": "KeyboardInterrupt",
     "evalue": "",
     "output_type": "error",
     "traceback": [
      "\u001b[0;31m\u001b[0m",
      "\u001b[0;31mKeyboardInterrupt\u001b[0mTraceback (most recent call last)",
      "\u001b[0;32m/opt/lsst/software/stack/python/miniconda3-4.5.12/envs/lsst-scipipe-1172c30/lib/python3.7/site-packages/ipykernel/kernelbase.py\u001b[0m in \u001b[0;36m_input_request\u001b[0;34m(self, prompt, ident, parent, password)\u001b[0m\n\u001b[1;32m    884\u001b[0m             \u001b[0;32mtry\u001b[0m\u001b[0;34m:\u001b[0m\u001b[0;34m\u001b[0m\u001b[0;34m\u001b[0m\u001b[0m\n\u001b[0;32m--> 885\u001b[0;31m                 \u001b[0mident\u001b[0m\u001b[0;34m,\u001b[0m \u001b[0mreply\u001b[0m \u001b[0;34m=\u001b[0m \u001b[0mself\u001b[0m\u001b[0;34m.\u001b[0m\u001b[0msession\u001b[0m\u001b[0;34m.\u001b[0m\u001b[0mrecv\u001b[0m\u001b[0;34m(\u001b[0m\u001b[0mself\u001b[0m\u001b[0;34m.\u001b[0m\u001b[0mstdin_socket\u001b[0m\u001b[0;34m,\u001b[0m \u001b[0;36m0\u001b[0m\u001b[0;34m)\u001b[0m\u001b[0;34m\u001b[0m\u001b[0;34m\u001b[0m\u001b[0m\n\u001b[0m\u001b[1;32m    886\u001b[0m             \u001b[0;32mexcept\u001b[0m \u001b[0mException\u001b[0m\u001b[0;34m:\u001b[0m\u001b[0;34m\u001b[0m\u001b[0;34m\u001b[0m\u001b[0m\n",
      "\u001b[0;32m/opt/lsst/software/stack/python/miniconda3-4.5.12/envs/lsst-scipipe-1172c30/lib/python3.7/site-packages/jupyter_client/session.py\u001b[0m in \u001b[0;36mrecv\u001b[0;34m(self, socket, mode, content, copy)\u001b[0m\n\u001b[1;32m    802\u001b[0m         \u001b[0;32mtry\u001b[0m\u001b[0;34m:\u001b[0m\u001b[0;34m\u001b[0m\u001b[0;34m\u001b[0m\u001b[0m\n\u001b[0;32m--> 803\u001b[0;31m             \u001b[0mmsg_list\u001b[0m \u001b[0;34m=\u001b[0m \u001b[0msocket\u001b[0m\u001b[0;34m.\u001b[0m\u001b[0mrecv_multipart\u001b[0m\u001b[0;34m(\u001b[0m\u001b[0mmode\u001b[0m\u001b[0;34m,\u001b[0m \u001b[0mcopy\u001b[0m\u001b[0;34m=\u001b[0m\u001b[0mcopy\u001b[0m\u001b[0;34m)\u001b[0m\u001b[0;34m\u001b[0m\u001b[0;34m\u001b[0m\u001b[0m\n\u001b[0m\u001b[1;32m    804\u001b[0m         \u001b[0;32mexcept\u001b[0m \u001b[0mzmq\u001b[0m\u001b[0;34m.\u001b[0m\u001b[0mZMQError\u001b[0m \u001b[0;32mas\u001b[0m \u001b[0me\u001b[0m\u001b[0;34m:\u001b[0m\u001b[0;34m\u001b[0m\u001b[0;34m\u001b[0m\u001b[0m\n",
      "\u001b[0;32m/opt/lsst/software/stack/python/miniconda3-4.5.12/envs/lsst-scipipe-1172c30/lib/python3.7/site-packages/zmq/sugar/socket.py\u001b[0m in \u001b[0;36mrecv_multipart\u001b[0;34m(self, flags, copy, track)\u001b[0m\n\u001b[1;32m    469\u001b[0m         \"\"\"\n\u001b[0;32m--> 470\u001b[0;31m         \u001b[0mparts\u001b[0m \u001b[0;34m=\u001b[0m \u001b[0;34m[\u001b[0m\u001b[0mself\u001b[0m\u001b[0;34m.\u001b[0m\u001b[0mrecv\u001b[0m\u001b[0;34m(\u001b[0m\u001b[0mflags\u001b[0m\u001b[0;34m,\u001b[0m \u001b[0mcopy\u001b[0m\u001b[0;34m=\u001b[0m\u001b[0mcopy\u001b[0m\u001b[0;34m,\u001b[0m \u001b[0mtrack\u001b[0m\u001b[0;34m=\u001b[0m\u001b[0mtrack\u001b[0m\u001b[0;34m)\u001b[0m\u001b[0;34m]\u001b[0m\u001b[0;34m\u001b[0m\u001b[0;34m\u001b[0m\u001b[0m\n\u001b[0m\u001b[1;32m    471\u001b[0m         \u001b[0;31m# have first part already, only loop while more to receive\u001b[0m\u001b[0;34m\u001b[0m\u001b[0;34m\u001b[0m\u001b[0;34m\u001b[0m\u001b[0m\n",
      "\u001b[0;32mzmq/backend/cython/socket.pyx\u001b[0m in \u001b[0;36mzmq.backend.cython.socket.Socket.recv\u001b[0;34m()\u001b[0m\n",
      "\u001b[0;32mzmq/backend/cython/socket.pyx\u001b[0m in \u001b[0;36mzmq.backend.cython.socket.Socket.recv\u001b[0;34m()\u001b[0m\n",
      "\u001b[0;32mzmq/backend/cython/socket.pyx\u001b[0m in \u001b[0;36mzmq.backend.cython.socket._recv_copy\u001b[0;34m()\u001b[0m\n",
      "\u001b[0;32m/opt/lsst/software/stack/python/miniconda3-4.5.12/envs/lsst-scipipe-1172c30/lib/python3.7/site-packages/zmq/backend/cython/checkrc.pxd\u001b[0m in \u001b[0;36mzmq.backend.cython.checkrc._check_rc\u001b[0;34m()\u001b[0m\n",
      "\u001b[0;31mKeyboardInterrupt\u001b[0m: ",
      "\nDuring handling of the above exception, another exception occurred:\n",
      "\u001b[0;31mKeyboardInterrupt\u001b[0mTraceback (most recent call last)",
      "\u001b[0;32m<ipython-input-482-dd918fbe7a82>\u001b[0m in \u001b[0;36masync-def-wrapper\u001b[0;34m()\u001b[0m\n\u001b[1;32m     54\u001b[0m \u001b[0;34m\u001b[0m\u001b[0m\n",
      "\u001b[0;32m<ipython-input-80-10450e230a9e>\u001b[0m in \u001b[0;36mwait_center\u001b[0;34m()\u001b[0m\n\u001b[1;32m      1\u001b[0m \u001b[0;32masync\u001b[0m \u001b[0;32mdef\u001b[0m \u001b[0mwait_center\u001b[0m\u001b[0;34m(\u001b[0m\u001b[0;34m)\u001b[0m\u001b[0;34m:\u001b[0m\u001b[0;34m\u001b[0m\u001b[0;34m\u001b[0m\u001b[0m\n\u001b[1;32m      2\u001b[0m     \u001b[0;32mwhile\u001b[0m \u001b[0;32mTrue\u001b[0m\u001b[0;34m:\u001b[0m\u001b[0;34m\u001b[0m\u001b[0;34m\u001b[0m\u001b[0m\n\u001b[0;32m----> 3\u001b[0;31m         \u001b[0mopt\u001b[0m \u001b[0;34m=\u001b[0m \u001b[0minput\u001b[0m\u001b[0;34m(\u001b[0m\u001b[0;34m\"Center telescope and choose action (press ?<enter>, for list of actions): \"\u001b[0m\u001b[0;34m)\u001b[0m\u001b[0;34m\u001b[0m\u001b[0;34m\u001b[0m\u001b[0m\n\u001b[0m\u001b[1;32m      4\u001b[0m \u001b[0;34m\u001b[0m\u001b[0m\n\u001b[1;32m      5\u001b[0m         \u001b[0;32mif\u001b[0m \u001b[0mopt\u001b[0m \u001b[0;34m==\u001b[0m \u001b[0;34m'x'\u001b[0m\u001b[0;34m:\u001b[0m\u001b[0;34m\u001b[0m\u001b[0;34m\u001b[0m\u001b[0m\n",
      "\u001b[0;32m/opt/lsst/software/stack/python/miniconda3-4.5.12/envs/lsst-scipipe-1172c30/lib/python3.7/site-packages/ipykernel/kernelbase.py\u001b[0m in \u001b[0;36mraw_input\u001b[0;34m(self, prompt)\u001b[0m\n\u001b[1;32m    858\u001b[0m             \u001b[0mself\u001b[0m\u001b[0;34m.\u001b[0m\u001b[0m_parent_ident\u001b[0m\u001b[0;34m,\u001b[0m\u001b[0;34m\u001b[0m\u001b[0;34m\u001b[0m\u001b[0m\n\u001b[1;32m    859\u001b[0m             \u001b[0mself\u001b[0m\u001b[0;34m.\u001b[0m\u001b[0m_parent_header\u001b[0m\u001b[0;34m,\u001b[0m\u001b[0;34m\u001b[0m\u001b[0;34m\u001b[0m\u001b[0m\n\u001b[0;32m--> 860\u001b[0;31m             \u001b[0mpassword\u001b[0m\u001b[0;34m=\u001b[0m\u001b[0;32mFalse\u001b[0m\u001b[0;34m,\u001b[0m\u001b[0;34m\u001b[0m\u001b[0;34m\u001b[0m\u001b[0m\n\u001b[0m\u001b[1;32m    861\u001b[0m         )\n\u001b[1;32m    862\u001b[0m \u001b[0;34m\u001b[0m\u001b[0m\n",
      "\u001b[0;32m/opt/lsst/software/stack/python/miniconda3-4.5.12/envs/lsst-scipipe-1172c30/lib/python3.7/site-packages/ipykernel/kernelbase.py\u001b[0m in \u001b[0;36m_input_request\u001b[0;34m(self, prompt, ident, parent, password)\u001b[0m\n\u001b[1;32m    888\u001b[0m             \u001b[0;32mexcept\u001b[0m \u001b[0mKeyboardInterrupt\u001b[0m\u001b[0;34m:\u001b[0m\u001b[0;34m\u001b[0m\u001b[0;34m\u001b[0m\u001b[0m\n\u001b[1;32m    889\u001b[0m                 \u001b[0;31m# re-raise KeyboardInterrupt, to truncate traceback\u001b[0m\u001b[0;34m\u001b[0m\u001b[0;34m\u001b[0m\u001b[0;34m\u001b[0m\u001b[0m\n\u001b[0;32m--> 890\u001b[0;31m                 \u001b[0;32mraise\u001b[0m \u001b[0mKeyboardInterrupt\u001b[0m\u001b[0;34m\u001b[0m\u001b[0;34m\u001b[0m\u001b[0m\n\u001b[0m\u001b[1;32m    891\u001b[0m             \u001b[0;32melse\u001b[0m\u001b[0;34m:\u001b[0m\u001b[0;34m\u001b[0m\u001b[0;34m\u001b[0m\u001b[0m\n\u001b[1;32m    892\u001b[0m                 \u001b[0;32mbreak\u001b[0m\u001b[0;34m\u001b[0m\u001b[0;34m\u001b[0m\u001b[0m\n",
      "\u001b[0;31mKeyboardInterrupt\u001b[0m: "
     ]
    }
   ],
   "source": [
    "for i in range(1,len(alt_grid)):\n",
    "    for j in range(len(az_grid)):\n",
    "        \n",
    "        print(f\"{i} {j}\")\n",
    "        \n",
    "        radec = FK5(Angle('16:53:37', unit=u.hour),\n",
    "                     Angle('-22:06:01', unit=u.deg))\n",
    "\n",
    "        mount = await r2.tel_mountEncoders.next(flush=True, timeout=1.)\n",
    "\n",
    "        dalt4 = 0.333*2*u.deg+alt_grid[i]*u.deg\n",
    "        daz4 = 0.650*2*u.deg+az_grid[j]*u.deg\n",
    "\n",
    "        \n",
    "\n",
    "        time_data = await r1.tel_timeAndDate.next(flush=True, timeout=2)\n",
    "        curr_time_atptg = Time(time_data.tai, format=\"mjd\", scale=\"tai\")\n",
    "        aa = AltAz(location=location, obstime=curr_time_atptg)\n",
    "        alt_az = radec.transform_to(aa)\n",
    "\n",
    "        cmd_elaz = AltAz(alt=alt_az.alt+dalt4, az=alt_az.az+daz4, \n",
    "                         obstime=curr_time_atptg.tai, \n",
    "                         location=location)\n",
    "        cmd_radec = cmd_elaz.transform_to(FK5)\n",
    "\n",
    "\n",
    "        r1.cmd_raDecTarget.set(\n",
    "            targetName=\"Jupiter\",\n",
    "            targetInstance=SALPY_ATPtg.ATPtg_shared_TargetInstances_current,\n",
    "            frame=SALPY_ATPtg.ATPtg_shared_CoordFrame_fk5,\n",
    "            epoch=2000,  # should be ignored: no parallax or proper motion\n",
    "            equinox=2000,  # should be ignored for ICRS\n",
    "            ra=cmd_radec.ra.hour,\n",
    "            declination=cmd_radec.dec.deg,\n",
    "            parallax=0,\n",
    "            pmRA=0,\n",
    "            pmDec=0,\n",
    "            rv=0,\n",
    "            dRA=0,\n",
    "            dDec=0,\n",
    "            rotPA=180.-47.,\n",
    "            rotFrame=SALPY_ATPtg.ATPtg_shared_RotFrame_fixed,\n",
    "            rotMode=SALPY_ATPtg.ATPtg_shared_RotMode_field,\n",
    "        )\n",
    "\n",
    "        print(f\"dra: {radec.ra.hour-cmd_radec.ra.hour}\")\n",
    "\n",
    "\n",
    "        print(f\"dec: {radec.dec.deg-cmd_radec.dec.deg}\")\n",
    "\n",
    "        \n",
    "        await r1.cmd_raDecTarget.start()\n",
    "        await wait_center()\n",
    "\n"
   ]
  },
  {
   "cell_type": "code",
   "execution_count": 495,
   "metadata": {},
   "outputs": [
    {
     "data": {
      "text/plain": [
       "(<Quantity 1.316 deg>, <Quantity 0.73 deg>)"
      ]
     },
     "execution_count": 495,
     "metadata": {},
     "output_type": "execute_result"
    }
   ],
   "source": [
    "dalt4,daz4"
   ]
  },
  {
   "cell_type": "code",
   "execution_count": 494,
   "metadata": {},
   "outputs": [
    {
     "name": "stderr",
     "output_type": "stream",
     "text": [
      "AckCmdReader(ATMCS, 0, ackcmd) falling behind; read 100 messages\n",
      "RemoteTelemetry(ATPtg, 0, currentTargetStatus) falling behind; read 100 messages\n",
      "falling behind; queue contains 99 elements\n",
      "falling behind; queue contains 98 elements\n",
      "falling behind; queue contains 97 elements\n",
      "RemoteTelemetry(ATPtg, 0, timeAndDate) falling behind; read 100 messages\n",
      "RemoteTelemetry(ATMCS, 0, torqueDemand) falling behind; read 100 messages\n",
      "RemoteTelemetry(ATPtg, 0, mountStatus) falling behind; read 100 messages\n",
      "RemoteTelemetry(ATMCS, 0, mountMotorEncoders) falling behind; read 100 messages\n",
      "RemoteTelemetry(ATPtg, 0, guidingAndOffsets) falling behind; read 100 messages\n",
      "RemoteEvent(ATMCS, 0, target) falling behind; read 100 messages\n",
      "falling behind; queue contains 99 elements\n",
      "falling behind; queue contains 98 elements\n",
      "falling behind; queue contains 97 elements\n",
      "falling behind; queue contains 99 elements\n",
      "falling behind; queue contains 98 elements\n",
      "falling behind; queue contains 97 elements\n",
      "falling behind; queue contains 99 elements\n",
      "falling behind; queue contains 98 elements\n",
      "falling behind; queue contains 97 elements\n"
     ]
    },
    {
     "name": "stdout",
     "output_type": "stream",
     "text": [
      "dra: -0.10311089380458682\n",
      "dec: -0.037369333709307284\n"
     ]
    },
    {
     "data": {
      "text/plain": [
       "<lsst.ts.salobj.ddsutil.ATPtg_ackcmd at 0x7f73567f9d30>"
      ]
     },
     "execution_count": 494,
     "metadata": {},
     "output_type": "execute_result"
    }
   ],
   "source": [
    "radec = ICRS(Angle('16:53:35', unit=u.hour),\n",
    "             Angle('-22:05:16', unit=u.deg))\n",
    "\n",
    "mount = await r2.tel_mountEncoders.next(flush=True, timeout=1.)\n",
    "\n",
    "dalt4 = 0.333*2*u.deg+alt_grid[6]*u.deg+0.15*u.deg\n",
    "daz4 = 0.650*2*u.deg+az_grid[0]*u.deg-0.07*u.deg\n",
    "\n",
    "time_data = await r1.tel_timeAndDate.next(flush=True, timeout=2)\n",
    "curr_time_atptg = Time(time_data.tai, format=\"mjd\", scale=\"tai\")\n",
    "aa = AltAz(location=location, obstime=curr_time_atptg)\n",
    "alt_az = radec.transform_to(aa)\n",
    "\n",
    "cmd_elaz = AltAz(alt=alt_az.alt+dalt4, az=alt_az.az+daz4, \n",
    "                 obstime=curr_time_atptg.tai, \n",
    "                 location=location)\n",
    "cmd_radec = cmd_elaz.transform_to(ICRS)\n",
    "\n",
    "\n",
    "r1.cmd_raDecTarget.set(\n",
    "    targetName=\"Jupiter\",\n",
    "    targetInstance=SALPY_ATPtg.ATPtg_shared_TargetInstances_current,\n",
    "    frame=SALPY_ATPtg.ATPtg_shared_CoordFrame_icrs,\n",
    "    epoch=2000,  # should be ignored: no parallax or proper motion\n",
    "    equinox=2000,  # should be ignored for ICRS\n",
    "    ra=cmd_radec.ra.hour,\n",
    "    declination=cmd_radec.dec.deg,\n",
    "    parallax=0,\n",
    "    pmRA=0,\n",
    "    pmDec=0,\n",
    "    rv=0,\n",
    "    dRA=0,\n",
    "    dDec=0,\n",
    "    rotPA=180.-47.,\n",
    "    rotFrame=SALPY_ATPtg.ATPtg_shared_RotFrame_fixed,\n",
    "    rotMode=SALPY_ATPtg.ATPtg_shared_RotMode_field,\n",
    ")\n",
    "\n",
    "print(f\"dra: {radec.ra.hour-cmd_radec.ra.hour}\")\n",
    "\n",
    "\n",
    "print(f\"dec: {radec.dec.deg-cmd_radec.dec.deg}\")\n",
    "\n",
    "\n",
    "await r1.cmd_raDecTarget.start()"
   ]
  },
  {
   "cell_type": "code",
   "execution_count": 501,
   "metadata": {},
   "outputs": [
    {
     "data": {
      "text/plain": [
       "array([-0.5       , -0.33333333, -0.16666667,  0.        ,  0.16666667,\n",
       "        0.33333333,  0.5       ])"
      ]
     },
     "execution_count": 501,
     "metadata": {},
     "output_type": "execute_result"
    }
   ],
   "source": [
    "alt_grid"
   ]
  },
  {
   "cell_type": "code",
   "execution_count": 510,
   "metadata": {},
   "outputs": [
    {
     "name": "stdout",
     "output_type": "stream",
     "text": [
      "1.3159999999999998 deg 0.73 deg\n",
      "1.3159999999999998 deg 0.745 deg\n"
     ]
    }
   ],
   "source": [
    "print(dalt4, daz4)\n",
    "print(dalt6, daz6)"
   ]
  },
  {
   "cell_type": "code",
   "execution_count": 508,
   "metadata": {},
   "outputs": [
    {
     "name": "stderr",
     "output_type": "stream",
     "text": [
      "AckCmdReader(ATMCS, 0, ackcmd) falling behind; read 100 messages\n",
      "RemoteTelemetry(ATPtg, 0, currentTargetStatus) falling behind; read 50 messages\n",
      "falling behind; queue contains 99 elements\n",
      "falling behind; queue contains 98 elements\n",
      "falling behind; queue contains 97 elements\n",
      "RemoteTelemetry(ATMCS, 0, torqueDemand) falling behind; read 50 messages\n",
      "RemoteTelemetry(ATPtg, 0, timeAndDate) falling behind; read 50 messages\n",
      "RemoteTelemetry(ATMCS, 0, mountMotorEncoders) falling behind; read 50 messages\n",
      "RemoteTelemetry(ATPtg, 0, mountStatus) falling behind; read 50 messages\n",
      "RemoteTelemetry(ATMCS, 0, mountEncoders) falling behind; read 50 messages\n",
      "RemoteTelemetry(ATPtg, 0, guidingAndOffsets) falling behind; read 50 messages\n",
      "RemoteTelemetry(ATMCS, 0, measuredTorque) falling behind; read 50 messages\n",
      "RemoteTelemetry(ATMCS, 0, measuredMotorVelocity) falling behind; read 50 messages\n",
      "RemoteEvent(ATMCS, 0, target) falling behind; read 100 messages\n",
      "falling behind; queue contains 99 elements\n",
      "falling behind; queue contains 98 elements\n",
      "falling behind; queue contains 97 elements\n",
      "falling behind; queue contains 99 elements\n",
      "falling behind; queue contains 98 elements\n",
      "falling behind; queue contains 97 elements\n",
      "falling behind; queue contains 99 elements\n",
      "falling behind; queue contains 98 elements\n",
      "falling behind; queue contains 97 elements\n",
      "falling behind; queue contains 99 elements\n",
      "falling behind; queue contains 98 elements\n",
      "falling behind; queue contains 97 elements\n",
      "falling behind; queue contains 99 elements\n",
      "falling behind; queue contains 98 elements\n",
      "falling behind; queue contains 97 elements\n"
     ]
    },
    {
     "name": "stdout",
     "output_type": "stream",
     "text": [
      "dra: -0.10804928824185467\n",
      "dec: -0.12459301924713628\n"
     ]
    },
    {
     "data": {
      "text/plain": [
       "<lsst.ts.salobj.ddsutil.ATPtg_ackcmd at 0x7f7358bf7e10>"
      ]
     },
     "execution_count": 508,
     "metadata": {},
     "output_type": "execute_result"
    }
   ],
   "source": [
    "radec = ICRS(Angle('16:29:25', unit=u.hour),\n",
    "             Angle('-26:25:55', unit=u.deg))\n",
    "\n",
    "mount = await r2.tel_mountEncoders.next(flush=True, timeout=1.)\n",
    "\n",
    "dalt6 = dalt4+alt_grid[3]*u.deg\n",
    "daz6 = daz4+az_grid[3]*u.deg+0.015*u.deg\n",
    "\n",
    "\n",
    "time_data = await r1.tel_timeAndDate.next(flush=True, timeout=2)\n",
    "curr_time_atptg = Time(time_data.tai, format=\"mjd\", scale=\"tai\")\n",
    "aa = AltAz(location=location, obstime=curr_time_atptg)\n",
    "alt_az = radec.transform_to(aa)\n",
    "\n",
    "cmd_elaz = AltAz(alt=alt_az.alt+dalt6, az=alt_az.az+daz6, \n",
    "                 obstime=curr_time_atptg.tai, \n",
    "                 location=location)\n",
    "cmd_radec = cmd_elaz.transform_to(ICRS)\n",
    "\n",
    "\n",
    "r1.cmd_raDecTarget.set(\n",
    "    targetName=\"Alpha Sco\",\n",
    "    targetInstance=SALPY_ATPtg.ATPtg_shared_TargetInstances_current,\n",
    "    frame=SALPY_ATPtg.ATPtg_shared_CoordFrame_icrs,\n",
    "    epoch=2000,  # should be ignored: no parallax or proper motion\n",
    "    equinox=2000,  # should be ignored for ICRS\n",
    "    ra=cmd_radec.ra.hour,\n",
    "    declination=cmd_radec.dec.deg,\n",
    "    parallax=0,\n",
    "    pmRA=0,\n",
    "    pmDec=0,\n",
    "    rv=0,\n",
    "    dRA=0,\n",
    "    dDec=0,\n",
    "    rotPA=180.-44.,\n",
    "    rotFrame=SALPY_ATPtg.ATPtg_shared_RotFrame_fixed,\n",
    "    rotMode=SALPY_ATPtg.ATPtg_shared_RotMode_field,\n",
    ")\n",
    "\n",
    "print(f\"dra: {radec.ra.hour-cmd_radec.ra.hour}\")\n",
    "\n",
    "\n",
    "print(f\"dec: {radec.dec.deg-cmd_radec.dec.deg}\")\n",
    "\n",
    "await r1.cmd_raDecTarget.start()\n",
    "# await r1.cmd_raDecTarget.start(timeout=30.)"
   ]
  },
  {
   "cell_type": "code",
   "execution_count": null,
   "metadata": {},
   "outputs": [],
   "source": []
  },
  {
   "cell_type": "code",
   "execution_count": 500,
   "metadata": {},
   "outputs": [
    {
     "name": "stderr",
     "output_type": "stream",
     "text": [
      "falling behind; queue contains 99 elements\n",
      "falling behind; queue contains 98 elements\n",
      "falling behind; queue contains 97 elements\n",
      "RemoteTelemetry(ATPtg, 0, currentTargetStatus) falling behind; read 100 messages\n",
      "RemoteEvent(ATPtg, 0, weatherDataApplied) falling behind; read 14 messages\n",
      "falling behind; queue contains 99 elements\n",
      "falling behind; queue contains 98 elements\n",
      "falling behind; queue contains 97 elements\n",
      "falling behind; queue contains 99 elements\n",
      "falling behind; queue contains 98 elements\n",
      "falling behind; queue contains 97 elements\n"
     ]
    },
    {
     "name": "stdout",
     "output_type": "stream",
     "text": [
      "1 0\n",
      "dra: -0.07362309631615105\n",
      "dec: 0.15950533697757052\n"
     ]
    },
    {
     "name": "stdin",
     "output_type": "stream",
     "text": [
      "Center telescope and choose action (press ?<enter>, for list of actions):  s\n"
     ]
    },
    {
     "name": "stderr",
     "output_type": "stream",
     "text": [
      "falling behind; queue contains 99 elements\n",
      "falling behind; queue contains 98 elements\n",
      "falling behind; queue contains 97 elements\n",
      "falling behind; queue contains 99 elements\n",
      "falling behind; queue contains 98 elements\n",
      "falling behind; queue contains 97 elements\n"
     ]
    },
    {
     "name": "stdout",
     "output_type": "stream",
     "text": [
      "Skipping...\n",
      "1 1\n",
      "dra: -0.07716072913696337\n",
      "dec: 0.030603429687385386\n"
     ]
    },
    {
     "name": "stdin",
     "output_type": "stream",
     "text": [
      "Center telescope and choose action (press ?<enter>, for list of actions):  s\n"
     ]
    },
    {
     "name": "stderr",
     "output_type": "stream",
     "text": [
      "falling behind; queue contains 99 elements\n",
      "falling behind; queue contains 98 elements\n",
      "falling behind; queue contains 97 elements\n",
      "falling behind; queue contains 99 elements\n",
      "falling behind; queue contains 98 elements\n",
      "falling behind; queue contains 97 elements\n",
      "falling behind; queue contains 99 elements\n",
      "falling behind; queue contains 98 elements\n",
      "falling behind; queue contains 97 elements\n",
      "falling behind; queue contains 99 elements\n",
      "falling behind; queue contains 98 elements\n",
      "falling behind; queue contains 97 elements\n",
      "falling behind; queue contains 99 elements\n",
      "falling behind; queue contains 98 elements\n",
      "falling behind; queue contains 97 elements\n",
      "falling behind; queue contains 99 elements\n",
      "falling behind; queue contains 98 elements\n",
      "falling behind; queue contains 97 elements\n",
      "falling behind; queue contains 99 elements\n",
      "falling behind; queue contains 98 elements\n",
      "falling behind; queue contains 97 elements\n",
      "falling behind; queue contains 99 elements\n",
      "falling behind; queue contains 98 elements\n",
      "falling behind; queue contains 97 elements\n",
      "falling behind; queue contains 99 elements\n",
      "falling behind; queue contains 98 elements\n",
      "falling behind; queue contains 97 elements\n",
      "falling behind; queue contains 41 elements\n"
     ]
    },
    {
     "name": "stdout",
     "output_type": "stream",
     "text": [
      "Skipping...\n",
      "1 2\n",
      "dra: -0.08073726012039728\n",
      "dec: -0.09898947822838977\n"
     ]
    },
    {
     "name": "stdin",
     "output_type": "stream",
     "text": [
      "Center telescope and choose action (press ?<enter>, for list of actions):  s\n"
     ]
    },
    {
     "name": "stderr",
     "output_type": "stream",
     "text": [
      "falling behind; queue contains 99 elements\n",
      "falling behind; queue contains 98 elements\n",
      "falling behind; queue contains 97 elements\n",
      "RemoteTelemetry(ATPtg, 0, timeAndDate) falling behind; read 10 messages\n",
      "RemoteTelemetry(ATPtg, 0, mountStatus) falling behind; read 10 messages\n",
      "RemoteTelemetry(ATPtg, 0, guidingAndOffsets) falling behind; read 10 messages\n",
      "RemoteTelemetry(ATPtg, 0, currentTargetStatus) falling behind; read 10 messages\n",
      "RemoteEvent(ATMCS, 0, target) falling behind; read 40 messages\n",
      "falling behind; queue contains 21 elements\n"
     ]
    },
    {
     "name": "stdout",
     "output_type": "stream",
     "text": [
      "Skipping...\n",
      "1 3\n",
      "dra: -0.08430828918042721\n",
      "dec: -0.22881319572572778\n"
     ]
    },
    {
     "name": "stdin",
     "output_type": "stream",
     "text": [
      "Center telescope and choose action (press ?<enter>, for list of actions):  s\n"
     ]
    },
    {
     "name": "stderr",
     "output_type": "stream",
     "text": [
      "AckCmdReader(ATMCS, 0, ackcmd) falling behind; read 100 messages\n",
      "falling behind; queue contains 99 elements\n",
      "falling behind; queue contains 98 elements\n",
      "falling behind; queue contains 97 elements\n",
      "RemoteTelemetry(ATPtg, 0, timeAndDate) falling behind; read 10 messages\n",
      "RemoteTelemetry(ATPtg, 0, mountStatus) falling behind; read 10 messages\n",
      "RemoteTelemetry(ATMCS, 0, torqueDemand) falling behind; read 11 messages\n",
      "RemoteTelemetry(ATPtg, 0, guidingAndOffsets) falling behind; read 10 messages\n",
      "RemoteTelemetry(ATMCS, 0, mountMotorEncoders) falling behind; read 11 messages\n",
      "RemoteTelemetry(ATPtg, 0, currentTargetStatus) falling behind; read 10 messages\n",
      "RemoteTelemetry(ATMCS, 0, mountEncoders) falling behind; read 11 messages\n",
      "RemoteTelemetry(ATMCS, 0, measuredTorque) falling behind; read 11 messages\n",
      "RemoteTelemetry(ATMCS, 0, measuredMotorVelocity) falling behind; read 11 messages\n",
      "RemoteEvent(ATMCS, 0, target) falling behind; read 42 messages\n",
      "falling behind; queue contains 23 elements\n"
     ]
    },
    {
     "name": "stdout",
     "output_type": "stream",
     "text": [
      "Skipping...\n",
      "1 4\n",
      "dra: -0.08788834219994612\n",
      "dec: -0.3585987059598743\n"
     ]
    },
    {
     "name": "stdin",
     "output_type": "stream",
     "text": [
      "Center telescope and choose action (press ?<enter>, for list of actions):  s\n"
     ]
    },
    {
     "name": "stderr",
     "output_type": "stream",
     "text": [
      "AckCmdReader(ATMCS, 0, ackcmd) falling behind; read 100 messages\n",
      "falling behind; queue contains 99 elements\n",
      "falling behind; queue contains 98 elements\n",
      "falling behind; queue contains 97 elements\n",
      "RemoteTelemetry(ATPtg, 0, mountStatus) falling behind; read 10 messages\n",
      "RemoteTelemetry(ATPtg, 0, guidingAndOffsets) falling behind; read 10 messages\n",
      "RemoteTelemetry(ATPtg, 0, currentTargetStatus) falling behind; read 10 messages\n",
      "RemoteEvent(ATMCS, 0, target) falling behind; read 39 messages\n",
      "falling behind; queue contains 16 elements\n"
     ]
    },
    {
     "name": "stdout",
     "output_type": "stream",
     "text": [
      "Skipping...\n",
      "1 5\n",
      "dra: -0.09147710472857895\n",
      "dec: -0.48834333951149844\n"
     ]
    },
    {
     "name": "stdin",
     "output_type": "stream",
     "text": [
      "Center telescope and choose action (press ?<enter>, for list of actions):  s\n"
     ]
    },
    {
     "name": "stderr",
     "output_type": "stream",
     "text": [
      "AckCmdReader(ATMCS, 0, ackcmd) falling behind; read 100 messages\n",
      "falling behind; queue contains 99 elements\n",
      "falling behind; queue contains 98 elements\n",
      "falling behind; queue contains 97 elements\n",
      "RemoteTelemetry(ATPtg, 0, timeAndDate) falling behind; read 10 messages\n",
      "falling behind; queue contains 23 elements\n"
     ]
    },
    {
     "name": "stdout",
     "output_type": "stream",
     "text": [
      "Skipping...\n",
      "1 6\n",
      "dra: -0.09507513160816572\n",
      "dec: -0.6180508625207111\n"
     ]
    },
    {
     "name": "stdin",
     "output_type": "stream",
     "text": [
      "Center telescope and choose action (press ?<enter>, for list of actions):  s\n"
     ]
    },
    {
     "name": "stderr",
     "output_type": "stream",
     "text": [
      "AckCmdReader(ATMCS, 0, ackcmd) falling behind; read 97 messages\n",
      "falling behind; queue contains 96 elements\n",
      "falling behind; queue contains 95 elements\n",
      "falling behind; queue contains 94 elements\n",
      "RemoteEvent(ATMCS, 0, target) falling behind; read 32 messages\n"
     ]
    },
    {
     "name": "stdout",
     "output_type": "stream",
     "text": [
      "Skipping...\n",
      "2 0\n",
      "dra: -0.08529351084684578\n",
      "dec: 0.218177023593622\n"
     ]
    },
    {
     "name": "stdin",
     "output_type": "stream",
     "text": [
      "Center telescope and choose action (press ?<enter>, for list of actions):  s\n"
     ]
    },
    {
     "name": "stderr",
     "output_type": "stream",
     "text": [
      "AckCmdReader(ATMCS, 0, ackcmd) falling behind; read 100 messages\n",
      "RemoteTelemetry(ATPtg, 0, currentTargetStatus) falling behind; read 19 messages\n",
      "falling behind; queue contains 99 elements\n",
      "falling behind; queue contains 98 elements\n",
      "falling behind; queue contains 97 elements\n",
      "RemoteTelemetry(ATPtg, 0, timeAndDate) falling behind; read 18 messages\n",
      "RemoteTelemetry(ATPtg, 0, mountStatus) falling behind; read 19 messages\n",
      "RemoteTelemetry(ATPtg, 0, guidingAndOffsets) falling behind; read 19 messages\n",
      "RemoteEvent(ATMCS, 0, target) falling behind; read 75 messages\n",
      "falling behind; queue contains 99 elements\n",
      "falling behind; queue contains 98 elements\n",
      "falling behind; queue contains 97 elements\n",
      "falling behind; queue contains 24 elements\n"
     ]
    },
    {
     "name": "stdout",
     "output_type": "stream",
     "text": [
      "Skipping...\n",
      "2 1\n",
      "dra: -0.08883299444677561\n",
      "dec: 0.08841955906042287\n"
     ]
    },
    {
     "name": "stdin",
     "output_type": "stream",
     "text": [
      "Center telescope and choose action (press ?<enter>, for list of actions):  s\n"
     ]
    },
    {
     "name": "stderr",
     "output_type": "stream",
     "text": [
      "RemoteEvent(ATMCS, 0, target) falling behind; read 38 messages\n",
      "AckCmdReader(ATMCS, 0, ackcmd) falling behind; read 100 messages\n",
      "falling behind; queue contains 99 elements\n",
      "falling behind; queue contains 98 elements\n",
      "falling behind; queue contains 97 elements\n",
      "falling behind; queue contains 11 elements\n"
     ]
    },
    {
     "name": "stdout",
     "output_type": "stream",
     "text": [
      "Skipping...\n",
      "2 2\n",
      "dra: -0.0923815926045819\n",
      "dec: -0.04132191132766749\n"
     ]
    },
    {
     "name": "stdin",
     "output_type": "stream",
     "text": [
      "Center telescope and choose action (press ?<enter>, for list of actions):  s\n"
     ]
    },
    {
     "name": "stderr",
     "output_type": "stream",
     "text": [
      "AckCmdReader(ATMCS, 0, ackcmd) falling behind; read 95 messages\n",
      "falling behind; queue contains 94 elements\n",
      "falling behind; queue contains 93 elements\n",
      "falling behind; queue contains 92 elements\n",
      "RemoteEvent(ATMCS, 0, target) falling behind; read 32 messages\n"
     ]
    },
    {
     "name": "stdout",
     "output_type": "stream",
     "text": [
      "Skipping...\n",
      "2 3\n",
      "dra: -0.09593897805935825\n",
      "dec: -0.17102356163216825\n"
     ]
    },
    {
     "name": "stdin",
     "output_type": "stream",
     "text": [
      "Center telescope and choose action (press ?<enter>, for list of actions):  s\n"
     ]
    },
    {
     "name": "stderr",
     "output_type": "stream",
     "text": [
      "AckCmdReader(ATMCS, 0, ackcmd) falling behind; read 100 messages\n",
      "falling behind; queue contains 99 elements\n",
      "falling behind; queue contains 98 elements\n",
      "falling behind; queue contains 97 elements\n",
      "RemoteEvent(ATMCS, 0, target) falling behind; read 34 messages\n"
     ]
    },
    {
     "name": "stdout",
     "output_type": "stream",
     "text": [
      "Skipping...\n",
      "2 4\n",
      "dra: -0.09950519539954783\n",
      "dec: -0.30068345735782387\n"
     ]
    },
    {
     "name": "stdin",
     "output_type": "stream",
     "text": [
      "Center telescope and choose action (press ?<enter>, for list of actions):  s\n"
     ]
    },
    {
     "name": "stderr",
     "output_type": "stream",
     "text": [
      "AckCmdReader(ATMCS, 0, ackcmd) falling behind; read 100 messages\n",
      "falling behind; queue contains 99 elements\n",
      "falling behind; queue contains 98 elements\n",
      "falling behind; queue contains 97 elements\n",
      "RemoteEvent(ATMCS, 0, target) falling behind; read 35 messages\n"
     ]
    },
    {
     "name": "stdout",
     "output_type": "stream",
     "text": [
      "Skipping...\n",
      "2 5\n",
      "dra: -0.10308024163625618\n",
      "dec: -0.4303013753523821\n"
     ]
    },
    {
     "name": "stdin",
     "output_type": "stream",
     "text": [
      "Center telescope and choose action (press ?<enter>, for list of actions):  s\n"
     ]
    },
    {
     "name": "stderr",
     "output_type": "stream",
     "text": [
      "AckCmdReader(ATMCS, 0, ackcmd) falling behind; read 100 messages\n",
      "falling behind; queue contains 99 elements\n",
      "falling behind; queue contains 98 elements\n",
      "falling behind; queue contains 97 elements\n",
      "RemoteTelemetry(ATPtg, 0, timeAndDate) falling behind; read 14 messages\n",
      "RemoteTelemetry(ATPtg, 0, mountStatus) falling behind; read 15 messages\n",
      "RemoteTelemetry(ATMCS, 0, torqueDemand) falling behind; read 14 messages\n",
      "RemoteTelemetry(ATPtg, 0, guidingAndOffsets) falling behind; read 15 messages\n",
      "RemoteTelemetry(ATMCS, 0, mountMotorEncoders) falling behind; read 14 messages\n",
      "RemoteTelemetry(ATPtg, 0, currentTargetStatus) falling behind; read 15 messages\n",
      "RemoteTelemetry(ATMCS, 0, mountEncoders) falling behind; read 14 messages\n",
      "RemoteTelemetry(ATMCS, 0, measuredTorque) falling behind; read 14 messages\n",
      "RemoteTelemetry(ATMCS, 0, measuredMotorVelocity) falling behind; read 14 messages\n",
      "RemoteEvent(ATMCS, 0, target) falling behind; read 58 messages\n",
      "falling behind; queue contains 72 elements\n",
      "falling behind; queue contains 71 elements\n"
     ]
    },
    {
     "name": "stdout",
     "output_type": "stream",
     "text": [
      "Skipping...\n",
      "2 6\n",
      "dra: -0.10666625688055476\n",
      "dec: -0.5598939522834883\n"
     ]
    },
    {
     "name": "stdin",
     "output_type": "stream",
     "text": [
      "Center telescope and choose action (press ?<enter>, for list of actions):  s\n"
     ]
    },
    {
     "name": "stderr",
     "output_type": "stream",
     "text": [
      "AckCmdReader(ATMCS, 0, ackcmd) falling behind; read 100 messages\n",
      "falling behind; queue contains 99 elements\n",
      "falling behind; queue contains 98 elements\n",
      "falling behind; queue contains 97 elements\n",
      "RemoteTelemetry(ATPtg, 0, timeAndDate) falling behind; read 11 messages\n",
      "RemoteTelemetry(ATMCS, 0, torqueDemand) falling behind; read 10 messages\n",
      "RemoteTelemetry(ATMCS, 0, mountMotorEncoders) falling behind; read 10 messages\n",
      "RemoteTelemetry(ATMCS, 0, mountEncoders) falling behind; read 10 messages\n",
      "RemoteTelemetry(ATMCS, 0, measuredTorque) falling behind; read 10 messages\n",
      "RemoteTelemetry(ATMCS, 0, measuredMotorVelocity) falling behind; read 10 messages\n",
      "RemoteEvent(ATMCS, 0, target) falling behind; read 46 messages\n",
      "falling behind; queue contains 38 elements\n"
     ]
    },
    {
     "name": "stdout",
     "output_type": "stream",
     "text": [
      "Skipping...\n",
      "3 0\n",
      "dra: -0.09697393663997289\n",
      "dec: 0.2754785520721761\n"
     ]
    },
    {
     "name": "stdin",
     "output_type": "stream",
     "text": [
      "Center telescope and choose action (press ?<enter>, for list of actions):  s\n"
     ]
    },
    {
     "name": "stderr",
     "output_type": "stream",
     "text": [
      "AckCmdReader(ATMCS, 0, ackcmd) falling behind; read 100 messages\n",
      "falling behind; queue contains 99 elements\n",
      "falling behind; queue contains 98 elements\n",
      "falling behind; queue contains 97 elements\n",
      "RemoteTelemetry(ATPtg, 0, timeAndDate) falling behind; read 28 messages\n",
      "RemoteTelemetry(ATMCS, 0, torqueDemand) falling behind; read 28 messages\n",
      "RemoteTelemetry(ATMCS, 0, mountMotorEncoders) falling behind; read 28 messages\n",
      "RemoteTelemetry(ATMCS, 0, mountEncoders) falling behind; read 28 messages\n",
      "RemoteTelemetry(ATMCS, 0, measuredTorque) falling behind; read 28 messages\n",
      "RemoteTelemetry(ATMCS, 0, measuredMotorVelocity) falling behind; read 28 messages\n",
      "RemoteEvent(ATMCS, 0, target) falling behind; read 100 messages\n",
      "falling behind; queue contains 99 elements\n",
      "falling behind; queue contains 98 elements\n",
      "falling behind; queue contains 97 elements\n",
      "falling behind; queue contains 99 elements\n",
      "falling behind; queue contains 98 elements\n",
      "falling behind; queue contains 97 elements\n",
      "falling behind; queue contains 41 elements\n"
     ]
    },
    {
     "name": "stdout",
     "output_type": "stream",
     "text": [
      "Skipping...\n",
      "3 1\n",
      "dra: -0.100500293601133\n",
      "dec: 0.1458690534362539\n"
     ]
    },
    {
     "name": "stdin",
     "output_type": "stream",
     "text": [
      "Center telescope and choose action (press ?<enter>, for list of actions):  s\n"
     ]
    },
    {
     "name": "stderr",
     "output_type": "stream",
     "text": [
      "AckCmdReader(ATMCS, 0, ackcmd) falling behind; read 100 messages\n",
      "falling behind; queue contains 99 elements\n",
      "falling behind; queue contains 98 elements\n",
      "falling behind; queue contains 97 elements\n",
      "RemoteTelemetry(ATPtg, 0, timeAndDate) falling behind; read 12 messages\n",
      "RemoteEvent(ATMCS, 0, target) falling behind; read 49 messages\n",
      "falling behind; queue contains 49 elements\n"
     ]
    },
    {
     "name": "stdout",
     "output_type": "stream",
     "text": [
      "Skipping...\n",
      "3 2\n",
      "dra: -0.10403655238818033\n",
      "dec: 0.016242783834215402\n"
     ]
    },
    {
     "name": "stdin",
     "output_type": "stream",
     "text": [
      "Center telescope and choose action (press ?<enter>, for list of actions):  s\n"
     ]
    },
    {
     "name": "stderr",
     "output_type": "stream",
     "text": [
      "AckCmdReader(ATMCS, 0, ackcmd) falling behind; read 100 messages\n",
      "falling behind; queue contains 99 elements\n",
      "falling behind; queue contains 98 elements\n",
      "falling behind; queue contains 97 elements\n",
      "RemoteTelemetry(ATPtg, 0, timeAndDate) falling behind; read 16 messages\n",
      "RemoteTelemetry(ATMCS, 0, torqueDemand) falling behind; read 16 messages\n",
      "RemoteTelemetry(ATMCS, 0, mountMotorEncoders) falling behind; read 16 messages\n",
      "RemoteTelemetry(ATMCS, 0, mountEncoders) falling behind; read 16 messages\n",
      "RemoteTelemetry(ATMCS, 0, measuredTorque) falling behind; read 16 messages\n",
      "RemoteTelemetry(ATMCS, 0, measuredMotorVelocity) falling behind; read 16 messages\n",
      "RemoteEvent(ATMCS, 0, target) falling behind; read 65 messages\n",
      "falling behind; queue contains 94 elements\n",
      "falling behind; queue contains 93 elements\n",
      "falling behind; queue contains 92 elements\n"
     ]
    },
    {
     "name": "stdout",
     "output_type": "stream",
     "text": [
      "Skipping...\n",
      "3 3\n",
      "dra: -0.1075828270945145\n",
      "dec: -0.11334746129725204\n"
     ]
    },
    {
     "ename": "KeyboardInterrupt",
     "evalue": "",
     "output_type": "error",
     "traceback": [
      "\u001b[0;31m\u001b[0m",
      "\u001b[0;31mKeyboardInterrupt\u001b[0mTraceback (most recent call last)",
      "\u001b[0;32m/opt/lsst/software/stack/python/miniconda3-4.5.12/envs/lsst-scipipe-1172c30/lib/python3.7/site-packages/ipykernel/kernelbase.py\u001b[0m in \u001b[0;36m_input_request\u001b[0;34m(self, prompt, ident, parent, password)\u001b[0m\n\u001b[1;32m    884\u001b[0m             \u001b[0;32mtry\u001b[0m\u001b[0;34m:\u001b[0m\u001b[0;34m\u001b[0m\u001b[0;34m\u001b[0m\u001b[0m\n\u001b[0;32m--> 885\u001b[0;31m                 \u001b[0mident\u001b[0m\u001b[0;34m,\u001b[0m \u001b[0mreply\u001b[0m \u001b[0;34m=\u001b[0m \u001b[0mself\u001b[0m\u001b[0;34m.\u001b[0m\u001b[0msession\u001b[0m\u001b[0;34m.\u001b[0m\u001b[0mrecv\u001b[0m\u001b[0;34m(\u001b[0m\u001b[0mself\u001b[0m\u001b[0;34m.\u001b[0m\u001b[0mstdin_socket\u001b[0m\u001b[0;34m,\u001b[0m \u001b[0;36m0\u001b[0m\u001b[0;34m)\u001b[0m\u001b[0;34m\u001b[0m\u001b[0;34m\u001b[0m\u001b[0m\n\u001b[0m\u001b[1;32m    886\u001b[0m             \u001b[0;32mexcept\u001b[0m \u001b[0mException\u001b[0m\u001b[0;34m:\u001b[0m\u001b[0;34m\u001b[0m\u001b[0;34m\u001b[0m\u001b[0m\n",
      "\u001b[0;32m/opt/lsst/software/stack/python/miniconda3-4.5.12/envs/lsst-scipipe-1172c30/lib/python3.7/site-packages/jupyter_client/session.py\u001b[0m in \u001b[0;36mrecv\u001b[0;34m(self, socket, mode, content, copy)\u001b[0m\n\u001b[1;32m    802\u001b[0m         \u001b[0;32mtry\u001b[0m\u001b[0;34m:\u001b[0m\u001b[0;34m\u001b[0m\u001b[0;34m\u001b[0m\u001b[0m\n\u001b[0;32m--> 803\u001b[0;31m             \u001b[0mmsg_list\u001b[0m \u001b[0;34m=\u001b[0m \u001b[0msocket\u001b[0m\u001b[0;34m.\u001b[0m\u001b[0mrecv_multipart\u001b[0m\u001b[0;34m(\u001b[0m\u001b[0mmode\u001b[0m\u001b[0;34m,\u001b[0m \u001b[0mcopy\u001b[0m\u001b[0;34m=\u001b[0m\u001b[0mcopy\u001b[0m\u001b[0;34m)\u001b[0m\u001b[0;34m\u001b[0m\u001b[0;34m\u001b[0m\u001b[0m\n\u001b[0m\u001b[1;32m    804\u001b[0m         \u001b[0;32mexcept\u001b[0m \u001b[0mzmq\u001b[0m\u001b[0;34m.\u001b[0m\u001b[0mZMQError\u001b[0m \u001b[0;32mas\u001b[0m \u001b[0me\u001b[0m\u001b[0;34m:\u001b[0m\u001b[0;34m\u001b[0m\u001b[0;34m\u001b[0m\u001b[0m\n",
      "\u001b[0;32m/opt/lsst/software/stack/python/miniconda3-4.5.12/envs/lsst-scipipe-1172c30/lib/python3.7/site-packages/zmq/sugar/socket.py\u001b[0m in \u001b[0;36mrecv_multipart\u001b[0;34m(self, flags, copy, track)\u001b[0m\n\u001b[1;32m    469\u001b[0m         \"\"\"\n\u001b[0;32m--> 470\u001b[0;31m         \u001b[0mparts\u001b[0m \u001b[0;34m=\u001b[0m \u001b[0;34m[\u001b[0m\u001b[0mself\u001b[0m\u001b[0;34m.\u001b[0m\u001b[0mrecv\u001b[0m\u001b[0;34m(\u001b[0m\u001b[0mflags\u001b[0m\u001b[0;34m,\u001b[0m \u001b[0mcopy\u001b[0m\u001b[0;34m=\u001b[0m\u001b[0mcopy\u001b[0m\u001b[0;34m,\u001b[0m \u001b[0mtrack\u001b[0m\u001b[0;34m=\u001b[0m\u001b[0mtrack\u001b[0m\u001b[0;34m)\u001b[0m\u001b[0;34m]\u001b[0m\u001b[0;34m\u001b[0m\u001b[0;34m\u001b[0m\u001b[0m\n\u001b[0m\u001b[1;32m    471\u001b[0m         \u001b[0;31m# have first part already, only loop while more to receive\u001b[0m\u001b[0;34m\u001b[0m\u001b[0;34m\u001b[0m\u001b[0;34m\u001b[0m\u001b[0m\n",
      "\u001b[0;32mzmq/backend/cython/socket.pyx\u001b[0m in \u001b[0;36mzmq.backend.cython.socket.Socket.recv\u001b[0;34m()\u001b[0m\n",
      "\u001b[0;32mzmq/backend/cython/socket.pyx\u001b[0m in \u001b[0;36mzmq.backend.cython.socket.Socket.recv\u001b[0;34m()\u001b[0m\n",
      "\u001b[0;32mzmq/backend/cython/socket.pyx\u001b[0m in \u001b[0;36mzmq.backend.cython.socket._recv_copy\u001b[0;34m()\u001b[0m\n",
      "\u001b[0;32m/opt/lsst/software/stack/python/miniconda3-4.5.12/envs/lsst-scipipe-1172c30/lib/python3.7/site-packages/zmq/backend/cython/checkrc.pxd\u001b[0m in \u001b[0;36mzmq.backend.cython.checkrc._check_rc\u001b[0;34m()\u001b[0m\n",
      "\u001b[0;31mKeyboardInterrupt\u001b[0m: ",
      "\nDuring handling of the above exception, another exception occurred:\n",
      "\u001b[0;31mKeyboardInterrupt\u001b[0mTraceback (most recent call last)",
      "\u001b[0;32m<ipython-input-500-812ceb225656>\u001b[0m in \u001b[0;36masync-def-wrapper\u001b[0;34m()\u001b[0m\n\u001b[1;32m     55\u001b[0m \u001b[0;34m\u001b[0m\u001b[0m\n\u001b[1;32m     56\u001b[0m \u001b[0;34m\u001b[0m\u001b[0m\n",
      "\u001b[0;32m<ipython-input-80-10450e230a9e>\u001b[0m in \u001b[0;36mwait_center\u001b[0;34m()\u001b[0m\n\u001b[1;32m      1\u001b[0m \u001b[0;32masync\u001b[0m \u001b[0;32mdef\u001b[0m \u001b[0mwait_center\u001b[0m\u001b[0;34m(\u001b[0m\u001b[0;34m)\u001b[0m\u001b[0;34m:\u001b[0m\u001b[0;34m\u001b[0m\u001b[0;34m\u001b[0m\u001b[0m\n\u001b[1;32m      2\u001b[0m     \u001b[0;32mwhile\u001b[0m \u001b[0;32mTrue\u001b[0m\u001b[0;34m:\u001b[0m\u001b[0;34m\u001b[0m\u001b[0;34m\u001b[0m\u001b[0m\n\u001b[0;32m----> 3\u001b[0;31m         \u001b[0mopt\u001b[0m \u001b[0;34m=\u001b[0m \u001b[0minput\u001b[0m\u001b[0;34m(\u001b[0m\u001b[0;34m\"Center telescope and choose action (press ?<enter>, for list of actions): \"\u001b[0m\u001b[0;34m)\u001b[0m\u001b[0;34m\u001b[0m\u001b[0;34m\u001b[0m\u001b[0m\n\u001b[0m\u001b[1;32m      4\u001b[0m \u001b[0;34m\u001b[0m\u001b[0m\n\u001b[1;32m      5\u001b[0m         \u001b[0;32mif\u001b[0m \u001b[0mopt\u001b[0m \u001b[0;34m==\u001b[0m \u001b[0;34m'x'\u001b[0m\u001b[0;34m:\u001b[0m\u001b[0;34m\u001b[0m\u001b[0;34m\u001b[0m\u001b[0m\n",
      "\u001b[0;32m/opt/lsst/software/stack/python/miniconda3-4.5.12/envs/lsst-scipipe-1172c30/lib/python3.7/site-packages/ipykernel/kernelbase.py\u001b[0m in \u001b[0;36mraw_input\u001b[0;34m(self, prompt)\u001b[0m\n\u001b[1;32m    858\u001b[0m             \u001b[0mself\u001b[0m\u001b[0;34m.\u001b[0m\u001b[0m_parent_ident\u001b[0m\u001b[0;34m,\u001b[0m\u001b[0;34m\u001b[0m\u001b[0;34m\u001b[0m\u001b[0m\n\u001b[1;32m    859\u001b[0m             \u001b[0mself\u001b[0m\u001b[0;34m.\u001b[0m\u001b[0m_parent_header\u001b[0m\u001b[0;34m,\u001b[0m\u001b[0;34m\u001b[0m\u001b[0;34m\u001b[0m\u001b[0m\n\u001b[0;32m--> 860\u001b[0;31m             \u001b[0mpassword\u001b[0m\u001b[0;34m=\u001b[0m\u001b[0;32mFalse\u001b[0m\u001b[0;34m,\u001b[0m\u001b[0;34m\u001b[0m\u001b[0;34m\u001b[0m\u001b[0m\n\u001b[0m\u001b[1;32m    861\u001b[0m         )\n\u001b[1;32m    862\u001b[0m \u001b[0;34m\u001b[0m\u001b[0m\n",
      "\u001b[0;32m/opt/lsst/software/stack/python/miniconda3-4.5.12/envs/lsst-scipipe-1172c30/lib/python3.7/site-packages/ipykernel/kernelbase.py\u001b[0m in \u001b[0;36m_input_request\u001b[0;34m(self, prompt, ident, parent, password)\u001b[0m\n\u001b[1;32m    888\u001b[0m             \u001b[0;32mexcept\u001b[0m \u001b[0mKeyboardInterrupt\u001b[0m\u001b[0;34m:\u001b[0m\u001b[0;34m\u001b[0m\u001b[0;34m\u001b[0m\u001b[0m\n\u001b[1;32m    889\u001b[0m                 \u001b[0;31m# re-raise KeyboardInterrupt, to truncate traceback\u001b[0m\u001b[0;34m\u001b[0m\u001b[0;34m\u001b[0m\u001b[0;34m\u001b[0m\u001b[0m\n\u001b[0;32m--> 890\u001b[0;31m                 \u001b[0;32mraise\u001b[0m \u001b[0mKeyboardInterrupt\u001b[0m\u001b[0;34m\u001b[0m\u001b[0;34m\u001b[0m\u001b[0m\n\u001b[0m\u001b[1;32m    891\u001b[0m             \u001b[0;32melse\u001b[0m\u001b[0;34m:\u001b[0m\u001b[0;34m\u001b[0m\u001b[0;34m\u001b[0m\u001b[0m\n\u001b[1;32m    892\u001b[0m                 \u001b[0;32mbreak\u001b[0m\u001b[0;34m\u001b[0m\u001b[0;34m\u001b[0m\u001b[0m\n",
      "\u001b[0;31mKeyboardInterrupt\u001b[0m: "
     ]
    }
   ],
   "source": [
    "for i in range(1,len(alt_grid)):\n",
    "    for j in range(len(az_grid)):\n",
    "        \n",
    "        print(f\"{i} {j}\")\n",
    "        \n",
    "        radec = ICRS(Angle('16:29:25', unit=u.hour),\n",
    "                     Angle('-26:25:55', unit=u.deg))\n",
    "\n",
    "\n",
    "        mount = await r2.tel_mountEncoders.next(flush=True, timeout=1.)\n",
    "\n",
    "        dalt5 = dalt4+alt_grid[i]*u.deg\n",
    "        daz5 = daz4+az_grid[j]*u.deg\n",
    "\n",
    "        \n",
    "\n",
    "        time_data = await r1.tel_timeAndDate.next(flush=True, timeout=2)\n",
    "        curr_time_atptg = Time(time_data.tai, format=\"mjd\", scale=\"tai\")\n",
    "        aa = AltAz(location=location, obstime=curr_time_atptg)\n",
    "        alt_az = radec.transform_to(aa)\n",
    "\n",
    "        cmd_elaz = AltAz(alt=alt_az.alt+dalt5, az=alt_az.az+daz5, \n",
    "                         obstime=curr_time_atptg.tai, \n",
    "                         location=location)\n",
    "        cmd_radec = cmd_elaz.transform_to(FK5)\n",
    "\n",
    "\n",
    "        r1.cmd_raDecTarget.set(\n",
    "            targetName=\"Alpha Sco\",\n",
    "            targetInstance=SALPY_ATPtg.ATPtg_shared_TargetInstances_current,\n",
    "            frame=SALPY_ATPtg.ATPtg_shared_CoordFrame_fk5,\n",
    "            epoch=2000,  # should be ignored: no parallax or proper motion\n",
    "            equinox=2000,  # should be ignored for ICRS\n",
    "            ra=cmd_radec.ra.hour,\n",
    "            declination=cmd_radec.dec.deg,\n",
    "            parallax=0,\n",
    "            pmRA=0,\n",
    "            pmDec=0,\n",
    "            rv=0,\n",
    "            dRA=0,\n",
    "            dDec=0,\n",
    "            rotPA=180.-47.,\n",
    "            rotFrame=SALPY_ATPtg.ATPtg_shared_RotFrame_fixed,\n",
    "            rotMode=SALPY_ATPtg.ATPtg_shared_RotMode_field,\n",
    "        )\n",
    "\n",
    "        print(f\"dra: {radec.ra.hour-cmd_radec.ra.hour}\")\n",
    "\n",
    "\n",
    "        print(f\"dec: {radec.dec.deg-cmd_radec.dec.deg}\")\n",
    "\n",
    "        \n",
    "        await r1.cmd_raDecTarget.start()\n",
    "        await wait_center()\n",
    "\n",
    "\n"
   ]
  },
  {
   "cell_type": "code",
   "execution_count": null,
   "metadata": {},
   "outputs": [],
   "source": []
  },
  {
   "cell_type": "code",
   "execution_count": null,
   "metadata": {},
   "outputs": [],
   "source": []
  },
  {
   "cell_type": "code",
   "execution_count": null,
   "metadata": {},
   "outputs": [],
   "source": []
  },
  {
   "cell_type": "code",
   "execution_count": null,
   "metadata": {},
   "outputs": [],
   "source": []
  },
  {
   "cell_type": "code",
   "execution_count": null,
   "metadata": {},
   "outputs": [],
   "source": []
  },
  {
   "cell_type": "code",
   "execution_count": 466,
   "metadata": {},
   "outputs": [
    {
     "name": "stderr",
     "output_type": "stream",
     "text": [
      "AckCmdReader(ATMCS, 0, ackcmd) falling behind; read 100 messages\n",
      "falling behind; queue contains 99 elements\n",
      "falling behind; queue contains 98 elements\n",
      "falling behind; queue contains 97 elements\n",
      "RemoteTelemetry(ATPtg, 0, timeAndDate) falling behind; read 100 messages\n",
      "RemoteTelemetry(ATPtg, 0, currentTimesToLimits) falling behind; read 13 messages\n",
      "RemoteEvent(ATMCS, 0, target) falling behind; read 100 messages\n",
      "falling behind; queue contains 99 elements\n",
      "falling behind; queue contains 98 elements\n",
      "falling behind; queue contains 97 elements\n",
      "falling behind; queue contains 99 elements\n",
      "falling behind; queue contains 98 elements\n",
      "falling behind; queue contains 97 elements\n"
     ]
    },
    {
     "name": "stdout",
     "output_type": "stream",
     "text": [
      "0 6\n",
      "dra: 0.0909942303750384\n",
      "dec: -2.1535843381292956\n"
     ]
    },
    {
     "data": {
      "text/plain": [
       "<lsst.ts.salobj.ddsutil.ATPtg_ackcmd at 0x7f735b9ff3c8>"
      ]
     },
     "execution_count": 466,
     "metadata": {},
     "output_type": "execute_result"
    }
   ],
   "source": [
    "i=0 \n",
    "j=6\n",
    "print(f\"{i} {j}\")\n",
    "\n",
    "radec = FK5(Angle('16:53:37', unit=u.hour),\n",
    "             Angle('-22:06:01', unit=u.deg))\n",
    "\n",
    "mount = await r2.tel_mountEncoders.next(flush=True, timeout=1.)\n",
    "\n",
    "dalt4 = alt_grid[i]*u.deg\n",
    "daz4 = az_grid[j]*u.deg\n",
    "\n",
    "time_data = await r1.tel_timeAndDate.next(flush=True, timeout=2)\n",
    "curr_time_atptg = Time(time_data.tai, format=\"mjd\", scale=\"tai\")\n",
    "aa = AltAz(location=location, obstime=curr_time_atptg)\n",
    "alt_az = radec.transform_to(aa)\n",
    "\n",
    "cmd_elaz = AltAz(alt=alt_az.alt+dalt4, az=alt_az.az+daz4, \n",
    "                 obstime=curr_time_atptg.tai, \n",
    "                 location=location)\n",
    "cmd_radec = cmd_elaz.transform_to(FK5)\n",
    "\n",
    "\n",
    "r1.cmd_raDecTarget.set(\n",
    "    targetName=\"Jupiter\",\n",
    "    targetInstance=SALPY_ATPtg.ATPtg_shared_TargetInstances_current,\n",
    "    frame=SALPY_ATPtg.ATPtg_shared_CoordFrame_fk5,\n",
    "    epoch=2000,  # should be ignored: no parallax or proper motion\n",
    "    equinox=2000,  # should be ignored for ICRS\n",
    "    ra=cmd_radec.ra.hour,\n",
    "    declination=cmd_radec.dec.deg,\n",
    "    parallax=0,\n",
    "    pmRA=0,\n",
    "    pmDec=0,\n",
    "    rv=0,\n",
    "    dRA=0,\n",
    "    dDec=0,\n",
    "    rotPA=180.-47.,\n",
    "    rotFrame=SALPY_ATPtg.ATPtg_shared_RotFrame_fixed,\n",
    "    rotMode=SALPY_ATPtg.ATPtg_shared_RotMode_field,\n",
    ")\n",
    "\n",
    "print(f\"dra: {radec.ra.hour-cmd_radec.ra.hour}\")\n",
    "\n",
    "\n",
    "print(f\"dec: {radec.dec.deg-cmd_radec.dec.deg}\")\n",
    "\n",
    "\n",
    "await r1.cmd_raDecTarget.start()"
   ]
  },
  {
   "cell_type": "code",
   "execution_count": 468,
   "metadata": {},
   "outputs": [
    {
     "name": "stderr",
     "output_type": "stream",
     "text": [
      "AckCmdReader(ATMCS, 0, ackcmd) falling behind; read 100 messages\n",
      "falling behind; queue contains 99 elements\n",
      "falling behind; queue contains 98 elements\n",
      "falling behind; queue contains 97 elements\n",
      "RemoteTelemetry(ATPtg, 0, timeAndDate) falling behind; read 100 messages\n",
      "RemoteTelemetry(ATPtg, 0, mountStatus) falling behind; read 100 messages\n",
      "RemoteTelemetry(ATMCS, 0, torqueDemand) falling behind; read 100 messages\n",
      "RemoteTelemetry(ATPtg, 0, guidingAndOffsets) falling behind; read 100 messages\n",
      "RemoteTelemetry(ATMCS, 0, mountMotorEncoders) falling behind; read 100 messages\n",
      "RemoteTelemetry(ATPtg, 0, currentTimesToLimits) falling behind; read 14 messages\n",
      "RemoteTelemetry(ATMCS, 0, mountEncoders) falling behind; read 100 messages\n",
      "RemoteTelemetry(ATPtg, 0, currentTargetStatus) falling behind; read 100 messages\n",
      "RemoteTelemetry(ATMCS, 0, measuredTorque) falling behind; read 100 messages\n",
      "RemoteTelemetry(ATMCS, 0, measuredMotorVelocity) falling behind; read 100 messages\n",
      "RemoteEvent(ATMCS, 0, target) falling behind; read 100 messages\n",
      "falling behind; queue contains 99 elements\n",
      "falling behind; queue contains 98 elements\n",
      "falling behind; queue contains 97 elements\n",
      "falling behind; queue contains 99 elements\n",
      "falling behind; queue contains 98 elements\n",
      "falling behind; queue contains 97 elements\n",
      "falling behind; queue contains 99 elements\n",
      "falling behind; queue contains 98 elements\n",
      "falling behind; queue contains 97 elements\n",
      "falling behind; queue contains 99 elements\n",
      "falling behind; queue contains 98 elements\n",
      "falling behind; queue contains 97 elements\n",
      "falling behind; queue contains 99 elements\n",
      "falling behind; queue contains 98 elements\n",
      "falling behind; queue contains 97 elements\n",
      "falling behind; queue contains 99 elements\n",
      "falling behind; queue contains 98 elements\n",
      "falling behind; queue contains 97 elements\n",
      "falling behind; queue contains 99 elements\n",
      "falling behind; queue contains 98 elements\n",
      "falling behind; queue contains 97 elements\n",
      "falling behind; queue contains 99 elements\n",
      "falling behind; queue contains 98 elements\n",
      "falling behind; queue contains 97 elements\n",
      "falling behind; queue contains 99 elements\n",
      "falling behind; queue contains 98 elements\n",
      "falling behind; queue contains 97 elements\n",
      "falling behind; queue contains 14 elements\n"
     ]
    },
    {
     "data": {
      "text/plain": [
       "<lsst.ts.salobj.ddsutil.ATMCS_ackcmd at 0x7f7358afe908>"
      ]
     },
     "execution_count": 468,
     "metadata": {},
     "output_type": "execute_result"
    }
   ],
   "source": [
    "await r2.cmd_startTracking.start()"
   ]
  },
  {
   "cell_type": "code",
   "execution_count": null,
   "metadata": {},
   "outputs": [],
   "source": []
  },
  {
   "cell_type": "code",
   "execution_count": null,
   "metadata": {},
   "outputs": [],
   "source": []
  },
  {
   "cell_type": "markdown",
   "metadata": {},
   "source": [
    "# Alpha Grus"
   ]
  },
  {
   "cell_type": "code",
   "execution_count": null,
   "metadata": {},
   "outputs": [],
   "source": []
  },
  {
   "cell_type": "code",
   "execution_count": 512,
   "metadata": {},
   "outputs": [
    {
     "name": "stderr",
     "output_type": "stream",
     "text": [
      "falling behind; queue contains 99 elements\n",
      "falling behind; queue contains 98 elements\n",
      "falling behind; queue contains 97 elements\n",
      "falling behind; queue contains 99 elements\n",
      "falling behind; queue contains 98 elements\n",
      "falling behind; queue contains 97 elements\n",
      "falling behind; queue contains 99 elements\n",
      "falling behind; queue contains 98 elements\n",
      "falling behind; queue contains 97 elements\n"
     ]
    },
    {
     "name": "stdout",
     "output_type": "stream",
     "text": [
      "dra: 0.1047995941854154\n",
      "dec: -0.7957410173831221\n"
     ]
    },
    {
     "data": {
      "text/plain": [
       "<lsst.ts.salobj.ddsutil.ATPtg_ackcmd at 0x7f734e9fb320>"
      ]
     },
     "execution_count": 512,
     "metadata": {},
     "output_type": "execute_result"
    }
   ],
   "source": [
    "radec = ICRS(Angle('22:08:13.98473', unit=u.hour),\n",
    "             Angle('-46:57:39.5078', unit=u.deg))\n",
    "\n",
    "mount = await r2.tel_mountEncoders.next(flush=True, timeout=1.)\n",
    "\n",
    "dalt7 = dalt6+alt_grid[3]*u.deg\n",
    "daz7 = daz6+az_grid[3]*u.deg+0.015*u.deg\n",
    "\n",
    "\n",
    "time_data = await r1.tel_timeAndDate.next(flush=True, timeout=2)\n",
    "curr_time_atptg = Time(time_data.tai, format=\"mjd\", scale=\"tai\")\n",
    "aa = AltAz(location=location, obstime=curr_time_atptg)\n",
    "alt_az = radec.transform_to(aa)\n",
    "\n",
    "cmd_elaz = AltAz(alt=alt_az.alt+dalt7, az=alt_az.az+daz7, \n",
    "                 obstime=curr_time_atptg.tai, \n",
    "                 location=location)\n",
    "cmd_radec = cmd_elaz.transform_to(ICRS)\n",
    "\n",
    "\n",
    "r1.cmd_raDecTarget.set(\n",
    "    targetName=\"Alpha Grus\",\n",
    "    targetInstance=SALPY_ATPtg.ATPtg_shared_TargetInstances_current,\n",
    "    frame=SALPY_ATPtg.ATPtg_shared_CoordFrame_icrs,\n",
    "    epoch=2000,  # should be ignored: no parallax or proper motion\n",
    "    equinox=2000,  # should be ignored for ICRS\n",
    "    ra=cmd_radec.ra.hour,\n",
    "    declination=cmd_radec.dec.deg,\n",
    "    parallax=0,\n",
    "    pmRA=0,\n",
    "    pmDec=0,\n",
    "    rv=0,\n",
    "    dRA=0,\n",
    "    dDec=0,\n",
    "    rotPA=180.-44.,\n",
    "    rotFrame=SALPY_ATPtg.ATPtg_shared_RotFrame_fixed,\n",
    "    rotMode=SALPY_ATPtg.ATPtg_shared_RotMode_field,\n",
    ")\n",
    "\n",
    "print(f\"dra: {radec.ra.hour-cmd_radec.ra.hour}\")\n",
    "\n",
    "\n",
    "print(f\"dec: {radec.dec.deg-cmd_radec.dec.deg}\")\n",
    "\n",
    "await r1.cmd_raDecTarget.start()\n",
    "# await r1.cmd_raDecTarget.start(timeout=30.)"
   ]
  },
  {
   "cell_type": "code",
   "execution_count": 514,
   "metadata": {},
   "outputs": [
    {
     "name": "stderr",
     "output_type": "stream",
     "text": [
      "falling behind; queue contains 99 elements\n",
      "falling behind; queue contains 98 elements\n",
      "falling behind; queue contains 97 elements\n",
      "falling behind; queue contains 99 elements\n",
      "falling behind; queue contains 98 elements\n",
      "falling behind; queue contains 97 elements\n",
      "falling behind; queue contains 99 elements\n",
      "falling behind; queue contains 98 elements\n",
      "falling behind; queue contains 97 elements\n"
     ]
    },
    {
     "name": "stdout",
     "output_type": "stream",
     "text": [
      "1 0\n",
      "dra: 0.0686902410825958\n",
      "dec: -0.6869502231793447\n"
     ]
    },
    {
     "name": "stdin",
     "output_type": "stream",
     "text": [
      "Center telescope and choose action (press ?<enter>, for list of actions):  s\n"
     ]
    },
    {
     "name": "stderr",
     "output_type": "stream",
     "text": [
      "falling behind; queue contains 99 elements\n",
      "falling behind; queue contains 98 elements\n",
      "falling behind; queue contains 97 elements\n",
      "falling behind; queue contains 99 elements\n",
      "falling behind; queue contains 98 elements\n",
      "falling behind; queue contains 97 elements\n"
     ]
    },
    {
     "name": "stdout",
     "output_type": "stream",
     "text": [
      "Skipping...\n",
      "1 1\n",
      "dra: 0.07193142368180361\n",
      "dec: -0.6605773157534074\n"
     ]
    },
    {
     "name": "stderr",
     "output_type": "stream",
     "text": [
      "falling behind; queue contains 99 elements\n",
      "falling behind; queue contains 98 elements\n",
      "falling behind; queue contains 97 elements\n"
     ]
    },
    {
     "name": "stdin",
     "output_type": "stream",
     "text": [
      "Center telescope and choose action (press ?<enter>, for list of actions):  s\n"
     ]
    },
    {
     "name": "stderr",
     "output_type": "stream",
     "text": [
      "falling behind; queue contains 99 elements\n",
      "falling behind; queue contains 98 elements\n",
      "falling behind; queue contains 97 elements\n"
     ]
    },
    {
     "name": "stdout",
     "output_type": "stream",
     "text": [
      "Skipping...\n",
      "1 2\n",
      "dra: 0.07580573050907091\n",
      "dec: -0.6284457851153888\n"
     ]
    },
    {
     "name": "stdin",
     "output_type": "stream",
     "text": [
      "Center telescope and choose action (press ?<enter>, for list of actions):  s\n"
     ]
    },
    {
     "name": "stderr",
     "output_type": "stream",
     "text": [
      "falling behind; queue contains 99 elements\n",
      "falling behind; queue contains 98 elements\n",
      "falling behind; queue contains 97 elements\n",
      "falling behind; queue contains 99 elements\n",
      "falling behind; queue contains 98 elements\n",
      "falling behind; queue contains 97 elements\n",
      "falling behind; queue contains 99 elements\n",
      "falling behind; queue contains 98 elements\n",
      "falling behind; queue contains 97 elements\n",
      "falling behind; queue contains 99 elements\n",
      "falling behind; queue contains 98 elements\n",
      "falling behind; queue contains 97 elements\n",
      "falling behind; queue contains 99 elements\n",
      "falling behind; queue contains 98 elements\n",
      "falling behind; queue contains 97 elements\n",
      "falling behind; queue contains 99 elements\n",
      "falling behind; queue contains 98 elements\n",
      "falling behind; queue contains 97 elements\n",
      "falling behind; queue contains 99 elements\n",
      "falling behind; queue contains 98 elements\n",
      "falling behind; queue contains 97 elements\n",
      "falling behind; queue contains 99 elements\n",
      "falling behind; queue contains 98 elements\n",
      "falling behind; queue contains 97 elements\n",
      "falling behind; queue contains 99 elements\n",
      "falling behind; queue contains 98 elements\n",
      "falling behind; queue contains 97 elements\n",
      "falling behind; queue contains 99 elements\n",
      "falling behind; queue contains 98 elements\n",
      "falling behind; queue contains 97 elements\n"
     ]
    },
    {
     "name": "stdout",
     "output_type": "stream",
     "text": [
      "Skipping...\n",
      "1 3\n",
      "dra: 0.0798450224315701\n",
      "dec: -0.5949965930998857\n"
     ]
    },
    {
     "name": "stdin",
     "output_type": "stream",
     "text": [
      "Center telescope and choose action (press ?<enter>, for list of actions):  s\n"
     ]
    },
    {
     "name": "stderr",
     "output_type": "stream",
     "text": [
      "AckCmdReader(ATMCS, 0, ackcmd) falling behind; read 100 messages\n",
      "falling behind; queue contains 99 elements\n",
      "falling behind; queue contains 98 elements\n",
      "falling behind; queue contains 97 elements\n",
      "RemoteTelemetry(ATPtg, 0, timeAndDate) falling behind; read 14 messages\n",
      "RemoteTelemetry(ATPtg, 0, mountStatus) falling behind; read 14 messages\n",
      "RemoteTelemetry(ATPtg, 0, guidingAndOffsets) falling behind; read 14 messages\n",
      "RemoteTelemetry(ATPtg, 0, currentTargetStatus) falling behind; read 14 messages\n",
      "RemoteEvent(ATMCS, 0, target) falling behind; read 56 messages\n",
      "falling behind; queue contains 67 elements\n",
      "falling behind; queue contains 66 elements\n"
     ]
    },
    {
     "name": "stdout",
     "output_type": "stream",
     "text": [
      "Skipping...\n",
      "1 4\n",
      "dra: 0.08397323225818809\n",
      "dec: -0.5608612430703985\n"
     ]
    },
    {
     "name": "stdin",
     "output_type": "stream",
     "text": [
      "Center telescope and choose action (press ?<enter>, for list of actions):  s\n"
     ]
    },
    {
     "name": "stderr",
     "output_type": "stream",
     "text": [
      "AckCmdReader(ATMCS, 0, ackcmd) falling behind; read 100 messages\n",
      "falling behind; queue contains 99 elements\n",
      "falling behind; queue contains 98 elements\n",
      "falling behind; queue contains 97 elements\n",
      "RemoteTelemetry(ATPtg, 0, timeAndDate) falling behind; read 12 messages\n",
      "RemoteTelemetry(ATPtg, 0, mountStatus) falling behind; read 12 messages\n",
      "RemoteTelemetry(ATMCS, 0, torqueDemand) falling behind; read 12 messages\n",
      "RemoteTelemetry(ATPtg, 0, guidingAndOffsets) falling behind; read 12 messages\n",
      "RemoteTelemetry(ATMCS, 0, mountMotorEncoders) falling behind; read 12 messages\n",
      "RemoteTelemetry(ATMCS, 0, mountEncoders) falling behind; read 12 messages\n",
      "RemoteTelemetry(ATPtg, 0, currentTargetStatus) falling behind; read 12 messages\n",
      "RemoteTelemetry(ATMCS, 0, measuredTorque) falling behind; read 12 messages\n",
      "RemoteTelemetry(ATMCS, 0, measuredMotorVelocity) falling behind; read 12 messages\n",
      "RemoteEvent(ATMCS, 0, target) falling behind; read 47 messages\n",
      "falling behind; queue contains 43 elements\n"
     ]
    },
    {
     "name": "stdout",
     "output_type": "stream",
     "text": [
      "Skipping...\n",
      "1 5\n",
      "dra: 0.08812074058972641\n",
      "dec: -0.5268726519785929\n"
     ]
    },
    {
     "name": "stdin",
     "output_type": "stream",
     "text": [
      "Center telescope and choose action (press ?<enter>, for list of actions):  s\n"
     ]
    },
    {
     "name": "stderr",
     "output_type": "stream",
     "text": [
      "AckCmdReader(ATMCS, 0, ackcmd) falling behind; read 100 messages\n",
      "falling behind; queue contains 99 elements\n",
      "falling behind; queue contains 98 elements\n",
      "falling behind; queue contains 97 elements\n",
      "RemoteTelemetry(ATPtg, 0, timeAndDate) falling behind; read 16 messages\n",
      "RemoteTelemetry(ATPtg, 0, mountStatus) falling behind; read 16 messages\n",
      "RemoteTelemetry(ATPtg, 0, guidingAndOffsets) falling behind; read 16 messages\n",
      "RemoteTelemetry(ATPtg, 0, currentTargetStatus) falling behind; read 16 messages\n",
      "RemoteEvent(ATMCS, 0, target) falling behind; read 66 messages\n",
      "falling behind; queue contains 97 elements\n",
      "falling behind; queue contains 96 elements\n",
      "falling behind; queue contains 95 elements\n"
     ]
    },
    {
     "name": "stdout",
     "output_type": "stream",
     "text": [
      "Skipping...\n",
      "1 6\n",
      "dra: 0.09227483060258379\n",
      "dec: -0.4932251038209401\n"
     ]
    },
    {
     "name": "stdin",
     "output_type": "stream",
     "text": [
      "Center telescope and choose action (press ?<enter>, for list of actions):  s\n"
     ]
    },
    {
     "name": "stderr",
     "output_type": "stream",
     "text": [
      "AckCmdReader(ATMCS, 0, ackcmd) falling behind; read 100 messages\n",
      "falling behind; queue contains 99 elements\n",
      "falling behind; queue contains 98 elements\n",
      "falling behind; queue contains 97 elements\n",
      "RemoteTelemetry(ATPtg, 0, timeAndDate) falling behind; read 11 messages\n",
      "RemoteTelemetry(ATPtg, 0, mountStatus) falling behind; read 12 messages\n",
      "RemoteTelemetry(ATMCS, 0, torqueDemand) falling behind; read 10 messages\n",
      "RemoteTelemetry(ATPtg, 0, guidingAndOffsets) falling behind; read 12 messages\n",
      "RemoteTelemetry(ATMCS, 0, mountMotorEncoders) falling behind; read 11 messages\n",
      "RemoteTelemetry(ATMCS, 0, mountEncoders) falling behind; read 11 messages\n",
      "RemoteTelemetry(ATPtg, 0, currentTargetStatus) falling behind; read 12 messages\n",
      "RemoteTelemetry(ATMCS, 0, measuredTorque) falling behind; read 12 messages\n",
      "RemoteTelemetry(ATMCS, 0, measuredMotorVelocity) falling behind; read 12 messages\n",
      "RemoteEvent(ATMCS, 0, target) falling behind; read 46 messages\n",
      "falling behind; queue contains 40 elements\n"
     ]
    },
    {
     "name": "stdout",
     "output_type": "stream",
     "text": [
      "Skipping...\n",
      "2 0\n",
      "dra: 0.07749937260932782\n",
      "dec: -0.8298648390015657\n"
     ]
    },
    {
     "name": "stdin",
     "output_type": "stream",
     "text": [
      "Center telescope and choose action (press ?<enter>, for list of actions):  s\n"
     ]
    },
    {
     "name": "stderr",
     "output_type": "stream",
     "text": [
      "RemoteEvent(ATMCS, 0, target) falling behind; read 77 messages\n",
      "RemoteTelemetry(ATPtg, 0, timeAndDate) falling behind; read 19 messages\n",
      "RemoteTelemetry(ATMCS, 0, mountMotorEncoders) falling behind; read 18 messages\n",
      "RemoteTelemetry(ATMCS, 0, mountEncoders) falling behind; read 18 messages\n",
      "AckCmdReader(ATMCS, 0, ackcmd) falling behind; read 100 messages\n",
      "falling behind; queue contains 99 elements\n",
      "falling behind; queue contains 98 elements\n",
      "falling behind; queue contains 97 elements\n",
      "falling behind; queue contains 99 elements\n",
      "falling behind; queue contains 98 elements\n",
      "falling behind; queue contains 97 elements\n",
      "falling behind; queue contains 28 elements\n"
     ]
    },
    {
     "name": "stdout",
     "output_type": "stream",
     "text": [
      "Skipping...\n",
      "2 1\n",
      "dra: 0.08152819571693115\n",
      "dec: -0.7958568878041277\n"
     ]
    },
    {
     "name": "stdin",
     "output_type": "stream",
     "text": [
      "Center telescope and choose action (press ?<enter>, for list of actions):  s\n"
     ]
    },
    {
     "name": "stderr",
     "output_type": "stream",
     "text": [
      "RemoteEvent(ATMCS, 0, target) falling behind; read 43 messages\n",
      "RemoteTelemetry(ATPtg, 0, timeAndDate) falling behind; read 10 messages\n",
      "RemoteTelemetry(ATPtg, 0, mountStatus) falling behind; read 11 messages\n",
      "RemoteTelemetry(ATMCS, 0, torqueDemand) falling behind; read 10 messages\n",
      "RemoteTelemetry(ATPtg, 0, guidingAndOffsets) falling behind; read 11 messages\n",
      "RemoteTelemetry(ATMCS, 0, mountMotorEncoders) falling behind; read 10 messages\n",
      "RemoteTelemetry(ATPtg, 0, currentTargetStatus) falling behind; read 11 messages\n",
      "RemoteTelemetry(ATMCS, 0, mountEncoders) falling behind; read 10 messages\n",
      "RemoteTelemetry(ATMCS, 0, measuredTorque) falling behind; read 10 messages\n",
      "RemoteTelemetry(ATMCS, 0, measuredMotorVelocity) falling behind; read 10 messages\n",
      "AckCmdReader(ATMCS, 0, ackcmd) falling behind; read 100 messages\n",
      "falling behind; queue contains 99 elements\n",
      "falling behind; queue contains 98 elements\n",
      "falling behind; queue contains 97 elements\n",
      "falling behind; queue contains 28 elements\n"
     ]
    },
    {
     "name": "stdout",
     "output_type": "stream",
     "text": [
      "Skipping...\n",
      "2 2\n",
      "dra: 0.08559531143171029\n",
      "dec: -0.7618101450548096\n"
     ]
    },
    {
     "name": "stdin",
     "output_type": "stream",
     "text": [
      "Center telescope and choose action (press ?<enter>, for list of actions):  s\n"
     ]
    },
    {
     "name": "stderr",
     "output_type": "stream",
     "text": [
      "RemoteEvent(ATMCS, 0, target) falling behind; read 57 messages\n",
      "RemoteTelemetry(ATPtg, 0, timeAndDate) falling behind; read 14 messages\n",
      "AckCmdReader(ATMCS, 0, ackcmd) falling behind; read 100 messages\n",
      "falling behind; queue contains 99 elements\n",
      "falling behind; queue contains 98 elements\n",
      "falling behind; queue contains 97 elements\n",
      "falling behind; queue contains 69 elements\n",
      "falling behind; queue contains 68 elements\n"
     ]
    },
    {
     "name": "stdout",
     "output_type": "stream",
     "text": [
      "Skipping...\n",
      "2 3\n",
      "dra: 0.08966689337528777\n",
      "dec: -0.7280822881725157\n"
     ]
    },
    {
     "name": "stdin",
     "output_type": "stream",
     "text": [
      "Center telescope and choose action (press ?<enter>, for list of actions):  s\n"
     ]
    },
    {
     "name": "stderr",
     "output_type": "stream",
     "text": [
      "AckCmdReader(ATMCS, 0, ackcmd) falling behind; read 100 messages\n",
      "falling behind; queue contains 99 elements\n",
      "falling behind; queue contains 98 elements\n",
      "falling behind; queue contains 97 elements\n",
      "RemoteTelemetry(ATPtg, 0, timeAndDate) falling behind; read 10 messages\n",
      "RemoteTelemetry(ATPtg, 0, mountStatus) falling behind; read 10 messages\n",
      "RemoteTelemetry(ATMCS, 0, torqueDemand) falling behind; read 10 messages\n",
      "RemoteTelemetry(ATPtg, 0, guidingAndOffsets) falling behind; read 10 messages\n",
      "RemoteTelemetry(ATMCS, 0, mountMotorEncoders) falling behind; read 10 messages\n",
      "RemoteTelemetry(ATPtg, 0, currentTargetStatus) falling behind; read 10 messages\n",
      "RemoteTelemetry(ATMCS, 0, mountEncoders) falling behind; read 10 messages\n",
      "RemoteTelemetry(ATMCS, 0, measuredTorque) falling behind; read 10 messages\n",
      "RemoteTelemetry(ATMCS, 0, measuredMotorVelocity) falling behind; read 10 messages\n",
      "RemoteEvent(ATMCS, 0, target) falling behind; read 41 messages\n",
      "falling behind; queue contains 21 elements\n"
     ]
    },
    {
     "name": "stdout",
     "output_type": "stream",
     "text": [
      "Skipping...\n",
      "2 4\n",
      "dra: 0.09376339026785274\n",
      "dec: -0.6944296422988785\n"
     ]
    },
    {
     "name": "stdin",
     "output_type": "stream",
     "text": [
      "Center telescope and choose action (press ?<enter>, for list of actions):  s\n"
     ]
    },
    {
     "name": "stderr",
     "output_type": "stream",
     "text": [
      "RemoteEvent(ATMCS, 0, target) falling behind; read 40 messages\n",
      "RemoteTelemetry(ATPtg, 0, timeAndDate) falling behind; read 10 messages\n",
      "RemoteTelemetry(ATPtg, 0, mountStatus) falling behind; read 10 messages\n",
      "RemoteTelemetry(ATPtg, 0, guidingAndOffsets) falling behind; read 10 messages\n",
      "RemoteTelemetry(ATPtg, 0, currentTargetStatus) falling behind; read 10 messages\n",
      "AckCmdReader(ATMCS, 0, ackcmd) falling behind; read 100 messages\n",
      "falling behind; queue contains 99 elements\n",
      "falling behind; queue contains 98 elements\n",
      "falling behind; queue contains 97 elements\n",
      "falling behind; queue contains 18 elements\n"
     ]
    },
    {
     "name": "stdout",
     "output_type": "stream",
     "text": [
      "Skipping...\n",
      "2 5\n",
      "dra: 0.09787444048545524\n",
      "dec: -0.6609711037137203\n"
     ]
    },
    {
     "name": "stdin",
     "output_type": "stream",
     "text": [
      "Center telescope and choose action (press ?<enter>, for list of actions):  s\n"
     ]
    },
    {
     "name": "stderr",
     "output_type": "stream",
     "text": [
      "AckCmdReader(ATMCS, 0, ackcmd) falling behind; read 100 messages\n",
      "falling behind; queue contains 99 elements\n",
      "falling behind; queue contains 98 elements\n",
      "falling behind; queue contains 97 elements\n",
      "RemoteTelemetry(ATPtg, 0, timeAndDate) falling behind; read 10 messages\n",
      "RemoteTelemetry(ATPtg, 0, mountStatus) falling behind; read 10 messages\n",
      "RemoteTelemetry(ATMCS, 0, torqueDemand) falling behind; read 10 messages\n",
      "RemoteTelemetry(ATPtg, 0, guidingAndOffsets) falling behind; read 10 messages\n",
      "RemoteTelemetry(ATMCS, 0, mountMotorEncoders) falling behind; read 10 messages\n",
      "RemoteTelemetry(ATPtg, 0, currentTargetStatus) falling behind; read 10 messages\n",
      "RemoteTelemetry(ATMCS, 0, mountEncoders) falling behind; read 10 messages\n",
      "RemoteTelemetry(ATMCS, 0, measuredTorque) falling behind; read 10 messages\n",
      "RemoteTelemetry(ATMCS, 0, measuredMotorVelocity) falling behind; read 10 messages\n",
      "RemoteEvent(ATMCS, 0, target) falling behind; read 41 messages\n",
      "falling behind; queue contains 20 elements\n"
     ]
    },
    {
     "name": "stdout",
     "output_type": "stream",
     "text": [
      "Skipping...\n",
      "2 6\n",
      "dra: 0.10199996978866466\n",
      "dec: -0.6277074738841222\n"
     ]
    },
    {
     "name": "stdin",
     "output_type": "stream",
     "text": [
      "Center telescope and choose action (press ?<enter>, for list of actions):  s\n"
     ]
    },
    {
     "name": "stderr",
     "output_type": "stream",
     "text": [
      "AckCmdReader(ATMCS, 0, ackcmd) falling behind; read 100 messages\n",
      "falling behind; queue contains 99 elements\n",
      "falling behind; queue contains 98 elements\n",
      "falling behind; queue contains 97 elements\n",
      "RemoteTelemetry(ATPtg, 0, timeAndDate) falling behind; read 15 messages\n",
      "RemoteTelemetry(ATPtg, 0, mountStatus) falling behind; read 15 messages\n",
      "RemoteTelemetry(ATPtg, 0, guidingAndOffsets) falling behind; read 15 messages\n",
      "RemoteTelemetry(ATPtg, 0, currentTargetStatus) falling behind; read 15 messages\n",
      "RemoteEvent(ATMCS, 0, target) falling behind; read 62 messages\n",
      "falling behind; queue contains 84 elements\n",
      "falling behind; queue contains 83 elements\n"
     ]
    },
    {
     "name": "stdout",
     "output_type": "stream",
     "text": [
      "Skipping...\n",
      "3 0\n",
      "dra: 0.08734050530998871\n",
      "dec: -0.9617246627053291\n"
     ]
    },
    {
     "name": "stdin",
     "output_type": "stream",
     "text": [
      "Center telescope and choose action (press ?<enter>, for list of actions):  s\n"
     ]
    },
    {
     "name": "stderr",
     "output_type": "stream",
     "text": [
      "AckCmdReader(ATMCS, 0, ackcmd) falling behind; read 100 messages\n",
      "falling behind; queue contains 99 elements\n",
      "falling behind; queue contains 98 elements\n",
      "falling behind; queue contains 97 elements\n",
      "RemoteTelemetry(ATPtg, 0, timeAndDate) falling behind; read 25 messages\n",
      "RemoteTelemetry(ATPtg, 0, mountStatus) falling behind; read 25 messages\n",
      "RemoteTelemetry(ATPtg, 0, guidingAndOffsets) falling behind; read 25 messages\n",
      "RemoteTelemetry(ATPtg, 0, currentTargetStatus) falling behind; read 25 messages\n",
      "RemoteEvent(ATMCS, 0, target) falling behind; read 100 messages\n",
      "falling behind; queue contains 99 elements\n",
      "falling behind; queue contains 98 elements\n",
      "falling behind; queue contains 97 elements\n",
      "falling behind; queue contains 99 elements\n",
      "falling behind; queue contains 98 elements\n",
      "falling behind; queue contains 97 elements\n"
     ]
    },
    {
     "name": "stdout",
     "output_type": "stream",
     "text": [
      "Skipping...\n",
      "3 1\n",
      "dra: 0.09130796180064493\n",
      "dec: -0.9285190828166137\n"
     ]
    },
    {
     "name": "stdin",
     "output_type": "stream",
     "text": [
      "Center telescope and choose action (press ?<enter>, for list of actions):  s\n"
     ]
    },
    {
     "name": "stderr",
     "output_type": "stream",
     "text": [
      "AckCmdReader(ATMCS, 0, ackcmd) falling behind; read 100 messages\n",
      "falling behind; queue contains 99 elements\n",
      "falling behind; queue contains 98 elements\n",
      "falling behind; queue contains 97 elements\n",
      "RemoteTelemetry(ATPtg, 0, timeAndDate) falling behind; read 13 messages\n",
      "RemoteTelemetry(ATPtg, 0, mountStatus) falling behind; read 13 messages\n",
      "RemoteTelemetry(ATPtg, 0, guidingAndOffsets) falling behind; read 13 messages\n",
      "RemoteTelemetry(ATPtg, 0, currentTargetStatus) falling behind; read 13 messages\n",
      "RemoteEvent(ATMCS, 0, target) falling behind; read 53 messages\n",
      "falling behind; queue contains 60 elements\n",
      "falling behind; queue contains 59 elements\n"
     ]
    },
    {
     "name": "stdout",
     "output_type": "stream",
     "text": [
      "Skipping...\n",
      "3 2\n",
      "dra: 0.09532615190907023\n",
      "dec: -0.8951692171685863\n"
     ]
    },
    {
     "ename": "KeyboardInterrupt",
     "evalue": "",
     "output_type": "error",
     "traceback": [
      "\u001b[0;31m\u001b[0m",
      "\u001b[0;31mKeyboardInterrupt\u001b[0mTraceback (most recent call last)",
      "\u001b[0;32m/opt/lsst/software/stack/python/miniconda3-4.5.12/envs/lsst-scipipe-1172c30/lib/python3.7/site-packages/ipykernel/kernelbase.py\u001b[0m in \u001b[0;36m_input_request\u001b[0;34m(self, prompt, ident, parent, password)\u001b[0m\n\u001b[1;32m    884\u001b[0m             \u001b[0;32mtry\u001b[0m\u001b[0;34m:\u001b[0m\u001b[0;34m\u001b[0m\u001b[0;34m\u001b[0m\u001b[0m\n\u001b[0;32m--> 885\u001b[0;31m                 \u001b[0mident\u001b[0m\u001b[0;34m,\u001b[0m \u001b[0mreply\u001b[0m \u001b[0;34m=\u001b[0m \u001b[0mself\u001b[0m\u001b[0;34m.\u001b[0m\u001b[0msession\u001b[0m\u001b[0;34m.\u001b[0m\u001b[0mrecv\u001b[0m\u001b[0;34m(\u001b[0m\u001b[0mself\u001b[0m\u001b[0;34m.\u001b[0m\u001b[0mstdin_socket\u001b[0m\u001b[0;34m,\u001b[0m \u001b[0;36m0\u001b[0m\u001b[0;34m)\u001b[0m\u001b[0;34m\u001b[0m\u001b[0;34m\u001b[0m\u001b[0m\n\u001b[0m\u001b[1;32m    886\u001b[0m             \u001b[0;32mexcept\u001b[0m \u001b[0mException\u001b[0m\u001b[0;34m:\u001b[0m\u001b[0;34m\u001b[0m\u001b[0;34m\u001b[0m\u001b[0m\n",
      "\u001b[0;32m/opt/lsst/software/stack/python/miniconda3-4.5.12/envs/lsst-scipipe-1172c30/lib/python3.7/site-packages/jupyter_client/session.py\u001b[0m in \u001b[0;36mrecv\u001b[0;34m(self, socket, mode, content, copy)\u001b[0m\n\u001b[1;32m    802\u001b[0m         \u001b[0;32mtry\u001b[0m\u001b[0;34m:\u001b[0m\u001b[0;34m\u001b[0m\u001b[0;34m\u001b[0m\u001b[0m\n\u001b[0;32m--> 803\u001b[0;31m             \u001b[0mmsg_list\u001b[0m \u001b[0;34m=\u001b[0m \u001b[0msocket\u001b[0m\u001b[0;34m.\u001b[0m\u001b[0mrecv_multipart\u001b[0m\u001b[0;34m(\u001b[0m\u001b[0mmode\u001b[0m\u001b[0;34m,\u001b[0m \u001b[0mcopy\u001b[0m\u001b[0;34m=\u001b[0m\u001b[0mcopy\u001b[0m\u001b[0;34m)\u001b[0m\u001b[0;34m\u001b[0m\u001b[0;34m\u001b[0m\u001b[0m\n\u001b[0m\u001b[1;32m    804\u001b[0m         \u001b[0;32mexcept\u001b[0m \u001b[0mzmq\u001b[0m\u001b[0;34m.\u001b[0m\u001b[0mZMQError\u001b[0m \u001b[0;32mas\u001b[0m \u001b[0me\u001b[0m\u001b[0;34m:\u001b[0m\u001b[0;34m\u001b[0m\u001b[0;34m\u001b[0m\u001b[0m\n",
      "\u001b[0;32m/opt/lsst/software/stack/python/miniconda3-4.5.12/envs/lsst-scipipe-1172c30/lib/python3.7/site-packages/zmq/sugar/socket.py\u001b[0m in \u001b[0;36mrecv_multipart\u001b[0;34m(self, flags, copy, track)\u001b[0m\n\u001b[1;32m    469\u001b[0m         \"\"\"\n\u001b[0;32m--> 470\u001b[0;31m         \u001b[0mparts\u001b[0m \u001b[0;34m=\u001b[0m \u001b[0;34m[\u001b[0m\u001b[0mself\u001b[0m\u001b[0;34m.\u001b[0m\u001b[0mrecv\u001b[0m\u001b[0;34m(\u001b[0m\u001b[0mflags\u001b[0m\u001b[0;34m,\u001b[0m \u001b[0mcopy\u001b[0m\u001b[0;34m=\u001b[0m\u001b[0mcopy\u001b[0m\u001b[0;34m,\u001b[0m \u001b[0mtrack\u001b[0m\u001b[0;34m=\u001b[0m\u001b[0mtrack\u001b[0m\u001b[0;34m)\u001b[0m\u001b[0;34m]\u001b[0m\u001b[0;34m\u001b[0m\u001b[0;34m\u001b[0m\u001b[0m\n\u001b[0m\u001b[1;32m    471\u001b[0m         \u001b[0;31m# have first part already, only loop while more to receive\u001b[0m\u001b[0;34m\u001b[0m\u001b[0;34m\u001b[0m\u001b[0;34m\u001b[0m\u001b[0m\n",
      "\u001b[0;32mzmq/backend/cython/socket.pyx\u001b[0m in \u001b[0;36mzmq.backend.cython.socket.Socket.recv\u001b[0;34m()\u001b[0m\n",
      "\u001b[0;32mzmq/backend/cython/socket.pyx\u001b[0m in \u001b[0;36mzmq.backend.cython.socket.Socket.recv\u001b[0;34m()\u001b[0m\n",
      "\u001b[0;32mzmq/backend/cython/socket.pyx\u001b[0m in \u001b[0;36mzmq.backend.cython.socket._recv_copy\u001b[0;34m()\u001b[0m\n",
      "\u001b[0;32m/opt/lsst/software/stack/python/miniconda3-4.5.12/envs/lsst-scipipe-1172c30/lib/python3.7/site-packages/zmq/backend/cython/checkrc.pxd\u001b[0m in \u001b[0;36mzmq.backend.cython.checkrc._check_rc\u001b[0;34m()\u001b[0m\n",
      "\u001b[0;31mKeyboardInterrupt\u001b[0m: ",
      "\nDuring handling of the above exception, another exception occurred:\n",
      "\u001b[0;31mKeyboardInterrupt\u001b[0mTraceback (most recent call last)",
      "\u001b[0;32m<ipython-input-514-2bcb196594f3>\u001b[0m in \u001b[0;36masync-def-wrapper\u001b[0;34m()\u001b[0m\n\u001b[1;32m     58\u001b[0m \u001b[0;34m\u001b[0m\u001b[0m\n\u001b[1;32m     59\u001b[0m \u001b[0;34m\u001b[0m\u001b[0m\n\u001b[0;32m---> 60\u001b[0;31m \u001b[0;34m\u001b[0m\u001b[0m\n\u001b[0m",
      "\u001b[0;32m<ipython-input-80-10450e230a9e>\u001b[0m in \u001b[0;36mwait_center\u001b[0;34m()\u001b[0m\n\u001b[1;32m      1\u001b[0m \u001b[0;32masync\u001b[0m \u001b[0;32mdef\u001b[0m \u001b[0mwait_center\u001b[0m\u001b[0;34m(\u001b[0m\u001b[0;34m)\u001b[0m\u001b[0;34m:\u001b[0m\u001b[0;34m\u001b[0m\u001b[0;34m\u001b[0m\u001b[0m\n\u001b[1;32m      2\u001b[0m     \u001b[0;32mwhile\u001b[0m \u001b[0;32mTrue\u001b[0m\u001b[0;34m:\u001b[0m\u001b[0;34m\u001b[0m\u001b[0;34m\u001b[0m\u001b[0m\n\u001b[0;32m----> 3\u001b[0;31m         \u001b[0mopt\u001b[0m \u001b[0;34m=\u001b[0m \u001b[0minput\u001b[0m\u001b[0;34m(\u001b[0m\u001b[0;34m\"Center telescope and choose action (press ?<enter>, for list of actions): \"\u001b[0m\u001b[0;34m)\u001b[0m\u001b[0;34m\u001b[0m\u001b[0;34m\u001b[0m\u001b[0m\n\u001b[0m\u001b[1;32m      4\u001b[0m \u001b[0;34m\u001b[0m\u001b[0m\n\u001b[1;32m      5\u001b[0m         \u001b[0;32mif\u001b[0m \u001b[0mopt\u001b[0m \u001b[0;34m==\u001b[0m \u001b[0;34m'x'\u001b[0m\u001b[0;34m:\u001b[0m\u001b[0;34m\u001b[0m\u001b[0;34m\u001b[0m\u001b[0m\n",
      "\u001b[0;32m/opt/lsst/software/stack/python/miniconda3-4.5.12/envs/lsst-scipipe-1172c30/lib/python3.7/site-packages/ipykernel/kernelbase.py\u001b[0m in \u001b[0;36mraw_input\u001b[0;34m(self, prompt)\u001b[0m\n\u001b[1;32m    858\u001b[0m             \u001b[0mself\u001b[0m\u001b[0;34m.\u001b[0m\u001b[0m_parent_ident\u001b[0m\u001b[0;34m,\u001b[0m\u001b[0;34m\u001b[0m\u001b[0;34m\u001b[0m\u001b[0m\n\u001b[1;32m    859\u001b[0m             \u001b[0mself\u001b[0m\u001b[0;34m.\u001b[0m\u001b[0m_parent_header\u001b[0m\u001b[0;34m,\u001b[0m\u001b[0;34m\u001b[0m\u001b[0;34m\u001b[0m\u001b[0m\n\u001b[0;32m--> 860\u001b[0;31m             \u001b[0mpassword\u001b[0m\u001b[0;34m=\u001b[0m\u001b[0;32mFalse\u001b[0m\u001b[0;34m,\u001b[0m\u001b[0;34m\u001b[0m\u001b[0;34m\u001b[0m\u001b[0m\n\u001b[0m\u001b[1;32m    861\u001b[0m         )\n\u001b[1;32m    862\u001b[0m \u001b[0;34m\u001b[0m\u001b[0m\n",
      "\u001b[0;32m/opt/lsst/software/stack/python/miniconda3-4.5.12/envs/lsst-scipipe-1172c30/lib/python3.7/site-packages/ipykernel/kernelbase.py\u001b[0m in \u001b[0;36m_input_request\u001b[0;34m(self, prompt, ident, parent, password)\u001b[0m\n\u001b[1;32m    888\u001b[0m             \u001b[0;32mexcept\u001b[0m \u001b[0mKeyboardInterrupt\u001b[0m\u001b[0;34m:\u001b[0m\u001b[0;34m\u001b[0m\u001b[0;34m\u001b[0m\u001b[0m\n\u001b[1;32m    889\u001b[0m                 \u001b[0;31m# re-raise KeyboardInterrupt, to truncate traceback\u001b[0m\u001b[0;34m\u001b[0m\u001b[0;34m\u001b[0m\u001b[0;34m\u001b[0m\u001b[0m\n\u001b[0;32m--> 890\u001b[0;31m                 \u001b[0;32mraise\u001b[0m \u001b[0mKeyboardInterrupt\u001b[0m\u001b[0;34m\u001b[0m\u001b[0;34m\u001b[0m\u001b[0m\n\u001b[0m\u001b[1;32m    891\u001b[0m             \u001b[0;32melse\u001b[0m\u001b[0;34m:\u001b[0m\u001b[0;34m\u001b[0m\u001b[0;34m\u001b[0m\u001b[0m\n\u001b[1;32m    892\u001b[0m                 \u001b[0;32mbreak\u001b[0m\u001b[0;34m\u001b[0m\u001b[0;34m\u001b[0m\u001b[0m\n",
      "\u001b[0;31mKeyboardInterrupt\u001b[0m: "
     ]
    }
   ],
   "source": [
    "for i in range(1,len(alt_grid)):\n",
    "    for j in range(len(az_grid)):\n",
    "        \n",
    "        print(f\"{i} {j}\")\n",
    "        \n",
    "        radec = ICRS(Angle('22:08:13.98473', unit=u.hour),\n",
    "                     Angle('-46:57:39.5078', unit=u.deg))\n",
    "\n",
    "\n",
    "\n",
    "        mount = await r2.tel_mountEncoders.next(flush=True, timeout=1.)\n",
    "\n",
    "#         dalt5 = dalt4+alt_grid[i]*u.deg\n",
    "#         daz5 = daz4+az_grid[j]*u.deg\n",
    "        dalt7 = dalt6+alt_grid[i]*u.deg\n",
    "        daz7 = daz6+az_grid[j]*u.deg\n",
    "\n",
    "\n",
    "        \n",
    "        time_data = await r1.tel_timeAndDate.next(flush=True, timeout=2)\n",
    "        curr_time_atptg = Time(time_data.tai, format=\"mjd\", scale=\"tai\")\n",
    "        aa = AltAz(location=location, obstime=curr_time_atptg)\n",
    "        alt_az = radec.transform_to(aa)\n",
    "\n",
    "        cmd_elaz = AltAz(alt=alt_az.alt+dalt7, az=alt_az.az+daz7, \n",
    "                         obstime=curr_time_atptg.tai, \n",
    "                         location=location)\n",
    "        cmd_radec = cmd_elaz.transform_to(FK5)\n",
    "\n",
    "\n",
    "        r1.cmd_raDecTarget.set(\n",
    "            targetName=\"Alpha Grus\",\n",
    "            targetInstance=SALPY_ATPtg.ATPtg_shared_TargetInstances_current,\n",
    "            frame=SALPY_ATPtg.ATPtg_shared_CoordFrame_icrs,\n",
    "            epoch=2000,  # should be ignored: no parallax or proper motion\n",
    "            equinox=2000,  # should be ignored for ICRS\n",
    "            ra=cmd_radec.ra.hour,\n",
    "            declination=cmd_radec.dec.deg,\n",
    "            parallax=0,\n",
    "            pmRA=0,\n",
    "            pmDec=0,\n",
    "            rv=0,\n",
    "            dRA=0,\n",
    "            dDec=0,\n",
    "            rotPA=180.-44.,\n",
    "            rotFrame=SALPY_ATPtg.ATPtg_shared_RotFrame_fixed,\n",
    "            rotMode=SALPY_ATPtg.ATPtg_shared_RotMode_field,\n",
    "        )\n",
    "\n",
    "        print(f\"dra: {radec.ra.hour-cmd_radec.ra.hour}\")\n",
    "\n",
    "\n",
    "        print(f\"dec: {radec.dec.deg-cmd_radec.dec.deg}\")\n",
    "\n",
    "        \n",
    "        await r1.cmd_raDecTarget.start()\n",
    "        await wait_center()\n",
    "\n",
    "\n",
    "\n"
   ]
  },
  {
   "cell_type": "code",
   "execution_count": 536,
   "metadata": {},
   "outputs": [
    {
     "data": {
      "text/plain": [
       "(<Quantity 4557.6 arcsec>, <Quantity 0.47833333 deg>)"
      ]
     },
     "execution_count": 536,
     "metadata": {},
     "output_type": "execute_result"
    }
   ],
   "source": [
    "dalt8.to(u.arcsec), daz8"
   ]
  },
  {
   "cell_type": "code",
   "execution_count": 550,
   "metadata": {},
   "outputs": [
    {
     "name": "stderr",
     "output_type": "stream",
     "text": [
      "AckCmdReader(ATMCS, 0, ackcmd) falling behind; read 83 messages\n",
      "falling behind; queue contains 82 elements\n",
      "falling behind; queue contains 81 elements\n",
      "RemoteTelemetry(ATPtg, 0, timeAndDate) falling behind; read 100 messages\n",
      "RemoteTelemetry(ATMCS, 0, torqueDemand) falling behind; read 100 messages\n",
      "RemoteTelemetry(ATMCS, 0, mountMotorEncoders) falling behind; read 100 messages\n",
      "RemoteTelemetry(ATPtg, 0, currentTimesToLimits) falling behind; read 16 messages\n",
      "RemoteTelemetry(ATMCS, 0, mountEncoders) falling behind; read 100 messages\n",
      "RemoteTelemetry(ATMCS, 0, measuredTorque) falling behind; read 100 messages\n",
      "RemoteTelemetry(ATMCS, 0, measuredMotorVelocity) falling behind; read 100 messages\n",
      "RemoteEvent(ATMCS, 0, target) falling behind; read 27 messages\n"
     ]
    },
    {
     "name": "stdout",
     "output_type": "stream",
     "text": [
      "dra: 0.028648447812692268\n",
      "dec: -1.2379074128102658\n"
     ]
    },
    {
     "data": {
      "text/plain": [
       "<lsst.ts.salobj.ddsutil.ATPtg_ackcmd at 0x7f735b6a9400>"
      ]
     },
     "execution_count": 550,
     "metadata": {},
     "output_type": "execute_result"
    }
   ],
   "source": [
    "radec = ICRS(Angle('22:08:13.98473', unit=u.hour),\n",
    "             Angle('-46:57:39.5078', unit=u.deg))\n",
    "\n",
    "mount = await r2.tel_mountEncoders.next(flush=True, timeout=1.)\n",
    "\n",
    "dalt8 = dalt6+alt_grid[3]*u.deg-0.05*u.deg\n",
    "daz8 = daz6+az_grid[2]*u.deg-0.10*u.deg\n",
    "\n",
    "time_data = await r1.tel_timeAndDate.next(flush=True, timeout=2)\n",
    "curr_time_atptg = Time(time_data.tai, format=\"mjd\", scale=\"tai\")\n",
    "aa = AltAz(location=location, obstime=curr_time_atptg)\n",
    "alt_az = radec.transform_to(aa)\n",
    "\n",
    "cmd_elaz = AltAz(alt=alt_az.alt+dalt8, az=alt_az.az+daz8, \n",
    "                 obstime=curr_time_atptg.tai, \n",
    "                 location=location)\n",
    "cmd_radec = cmd_elaz.transform_to(ICRS)\n",
    "\n",
    "\n",
    "r1.cmd_raDecTarget.set(\n",
    "    targetName=\"Alpha Grus\",\n",
    "    targetInstance=SALPY_ATPtg.ATPtg_shared_TargetInstances_current,\n",
    "    frame=SALPY_ATPtg.ATPtg_shared_CoordFrame_icrs,\n",
    "    epoch=2000,  # should be ignored: no parallax or proper motion\n",
    "    equinox=2000,  # should be ignored for ICRS\n",
    "    ra=cmd_radec.ra.hour,\n",
    "    declination=cmd_radec.dec.deg,\n",
    "    parallax=0,\n",
    "    pmRA=0,\n",
    "    pmDec=0,\n",
    "    rv=0,\n",
    "    dRA=0,\n",
    "    dDec=0,\n",
    "    rotPA=180.-44.,\n",
    "    rotFrame=SALPY_ATPtg.ATPtg_shared_RotFrame_fixed,\n",
    "    rotMode=SALPY_ATPtg.ATPtg_shared_RotMode_field,\n",
    ")\n",
    "\n",
    "print(f\"dra: {radec.ra.hour-cmd_radec.ra.hour}\")\n",
    "\n",
    "\n",
    "print(f\"dec: {radec.dec.deg-cmd_radec.dec.deg}\")\n",
    "\n",
    "await r1.cmd_raDecTarget.start()\n",
    "# await r1.cmd_raDecTarget.start(timeout=30.)"
   ]
  },
  {
   "cell_type": "code",
   "execution_count": 665,
   "metadata": {},
   "outputs": [
    {
     "name": "stderr",
     "output_type": "stream",
     "text": [
      "falling behind; queue contains 99 elements\n",
      "falling behind; queue contains 98 elements\n",
      "falling behind; queue contains 97 elements\n",
      "falling behind; queue contains 99 elements\n",
      "falling behind; queue contains 98 elements\n",
      "falling behind; queue contains 97 elements\n",
      "WARNING: Tried to get polar motions for times after IERS data is valid. Defaulting to polar motion from the 50-yr mean for those. This may affect precision at the 10s of arcsec level [astropy.coordinates.builtin_frames.utils]\n",
      "WARNING: (some) times are outside of range covered by IERS table. Assuming UT1-UTC=0 for coordinate transformations. [astropy.coordinates.builtin_frames.utils]\n",
      "falling behind; queue contains 99 elements\n",
      "falling behind; queue contains 98 elements\n",
      "falling behind; queue contains 97 elements\n"
     ]
    },
    {
     "name": "stdout",
     "output_type": "stream",
     "text": [
      "-1715.39arcsec\n",
      "-4418.73arcsec\n",
      "dra: -0.0317664399956179\n",
      "dec: -1.2274252698813086\n"
     ]
    },
    {
     "data": {
      "text/plain": [
       "<lsst.ts.salobj.ddsutil.ATPtg_ackcmd at 0x7f73589b4438>"
      ]
     },
     "execution_count": 665,
     "metadata": {},
     "output_type": "execute_result"
    }
   ],
   "source": [
    "radec = ICRS(Angle('22:08:13.98473', unit=u.hour),\n",
    "             Angle('-46:57:39.5078', unit=u.deg))\n",
    "\n",
    "mount = await r2.tel_mountEncoders.next(flush=True, timeout=1.)\n",
    "\n",
    "dalt8 = dalt6+alt_grid[3]*u.deg-0.05*u.deg\n",
    "daz8 = daz6+az_grid[2]*u.deg-0.20*u.deg\n",
    "\n",
    "time_data = await r1.tel_timeAndDate.next(flush=True, timeout=2)\n",
    "curr_time_atptg = Time(time_data.tai, format=\"mjd\", scale=\"tai\")\n",
    "aa = AltAz(location=location, obstime=curr_time_atptg)\n",
    "alt_az = radec.transform_to(aa)\n",
    "\n",
    "cmd_elaz = AltAz(alt=alt_az.alt+dalt8, az=alt_az.az+daz8, \n",
    "                 obstime=curr_time_atptg.tai, \n",
    "                 location=location)\n",
    "cmd_radec = cmd_elaz.transform_to(ICRS)\n",
    "\n",
    "\n",
    "r1.cmd_raDecTarget.set(\n",
    "    targetName=\"Alpha Grus\",\n",
    "    targetInstance=SALPY_ATPtg.ATPtg_shared_TargetInstances_current,\n",
    "    frame=SALPY_ATPtg.ATPtg_shared_CoordFrame_icrs,\n",
    "    epoch=2000,  # should be ignored: no parallax or proper motion\n",
    "    equinox=2000,  # should be ignored for ICRS\n",
    "    ra=radec.ra.hour,\n",
    "    declination=radec.dec.deg,\n",
    "    parallax=0,\n",
    "    pmRA=0,\n",
    "    pmDec=0,\n",
    "    rv=0,\n",
    "    dRA=0,\n",
    "    dDec=0,\n",
    "    rotPA=180.-44.,\n",
    "    rotFrame=SALPY_ATPtg.ATPtg_shared_RotFrame_fixed,\n",
    "    rotMode=SALPY_ATPtg.ATPtg_shared_RotMode_field,\n",
    ")\n",
    "\n",
    "ddra = radec.ra-cmd_radec.ra\n",
    "dddec = radec.dec-cmd_radec.dec\n",
    "print(ddra.to(u.arcsec))\n",
    "print(dddec.to(u.arcsec))\n",
    "print(f\"dra: {radec.ra.hour-cmd_radec.ra.hour}\")\n",
    "\n",
    "\n",
    "print(f\"dec: {radec.dec.deg-cmd_radec.dec.deg}\")\n",
    "\n",
    "await r1.cmd_raDecTarget.start()\n",
    "# await r1.cmd_raDecTarget.start(timeout=30.)"
   ]
  },
  {
   "cell_type": "code",
   "execution_count": 661,
   "metadata": {},
   "outputs": [
    {
     "data": {
      "text/plain": [
       "(4557.599999999999, 1362.0)"
      ]
     },
     "execution_count": 661,
     "metadata": {},
     "output_type": "execute_result"
    }
   ],
   "source": [
    "dalt8.to(u.arcsec).value, daz8.to(u.arcsec).value"
   ]
  },
  {
   "cell_type": "code",
   "execution_count": 664,
   "metadata": {},
   "outputs": [
    {
     "name": "stderr",
     "output_type": "stream",
     "text": [
      "falling behind; queue contains 99 elements\n",
      "falling behind; queue contains 98 elements\n",
      "falling behind; queue contains 97 elements\n",
      "falling behind; queue contains 99 elements\n",
      "falling behind; queue contains 98 elements\n",
      "falling behind; queue contains 97 elements\n"
     ]
    },
    {
     "data": {
      "text/plain": [
       "<lsst.ts.salobj.ddsutil.ATPtg_ackcmd at 0x7f735b8fa9e8>"
      ]
     },
     "execution_count": 664,
     "metadata": {},
     "output_type": "execute_result"
    }
   ],
   "source": [
    "await r1.cmd_offsetAzEl.set_start(az=362., el=0., num=1)"
   ]
  },
  {
   "cell_type": "code",
   "execution_count": 675,
   "metadata": {},
   "outputs": [
    {
     "name": "stderr",
     "output_type": "stream",
     "text": [
      "falling behind; queue contains 99 elements\n",
      "falling behind; queue contains 98 elements\n",
      "falling behind; queue contains 97 elements\n",
      "falling behind; queue contains 99 elements\n",
      "falling behind; queue contains 98 elements\n",
      "falling behind; queue contains 97 elements\n",
      "falling behind; queue contains 99 elements\n",
      "falling behind; queue contains 98 elements\n",
      "falling behind; queue contains 97 elements\n"
     ]
    },
    {
     "data": {
      "text/plain": [
       "<lsst.ts.salobj.ddsutil.ATPtg_ackcmd at 0x7f735b87dfd0>"
      ]
     },
     "execution_count": 675,
     "metadata": {},
     "output_type": "execute_result"
    }
   ],
   "source": [
    "await r1.cmd_offsetRADec.set_start(off1=100, off2=0., num=1)"
   ]
  },
  {
   "cell_type": "code",
   "execution_count": null,
   "metadata": {},
   "outputs": [],
   "source": []
  },
  {
   "cell_type": "code",
   "execution_count": 617,
   "metadata": {},
   "outputs": [
    {
     "name": "stderr",
     "output_type": "stream",
     "text": [
      "falling behind; queue contains 99 elements\n",
      "falling behind; queue contains 98 elements\n",
      "falling behind; queue contains 97 elements\n",
      "falling behind; queue contains 99 elements\n",
      "falling behind; queue contains 98 elements\n",
      "falling behind; queue contains 97 elements\n",
      "falling behind; queue contains 99 elements\n",
      "falling behind; queue contains 98 elements\n",
      "falling behind; queue contains 97 elements\n",
      "falling behind; queue contains 99 elements\n",
      "falling behind; queue contains 98 elements\n",
      "falling behind; queue contains 97 elements\n",
      "falling behind; queue contains 99 elements\n",
      "falling behind; queue contains 98 elements\n",
      "falling behind; queue contains 97 elements\n",
      "falling behind; queue contains 99 elements\n",
      "falling behind; queue contains 98 elements\n",
      "falling behind; queue contains 97 elements\n",
      "falling behind; queue contains 99 elements\n",
      "falling behind; queue contains 98 elements\n",
      "falling behind; queue contains 97 elements\n",
      "falling behind; queue contains 99 elements\n",
      "falling behind; queue contains 98 elements\n",
      "falling behind; queue contains 97 elements\n"
     ]
    },
    {
     "data": {
      "text/plain": [
       "<lsst.ts.salobj.ddsutil.ATPtg_ackcmd at 0x7f735b8f4c50>"
      ]
     },
     "execution_count": 617,
     "metadata": {},
     "output_type": "execute_result"
    }
   ],
   "source": [
    "await r1.cmd_offsetAzEl.set_start(az=0., el=+557.6, num=1)"
   ]
  },
  {
   "cell_type": "code",
   "execution_count": 618,
   "metadata": {},
   "outputs": [
    {
     "name": "stderr",
     "output_type": "stream",
     "text": [
      "falling behind; queue contains 99 elements\n",
      "falling behind; queue contains 98 elements\n",
      "falling behind; queue contains 97 elements\n",
      "RemoteTelemetry(ATPtg, 0, mountStatus) falling behind; read 14 messages\n",
      "RemoteTelemetry(ATPtg, 0, guidingAndOffsets) falling behind; read 14 messages\n",
      "RemoteTelemetry(ATPtg, 0, currentTargetStatus) falling behind; read 14 messages\n",
      "falling behind; queue contains 99 elements\n",
      "falling behind; queue contains 98 elements\n",
      "falling behind; queue contains 97 elements\n",
      "falling behind; queue contains 99 elements\n",
      "falling behind; queue contains 98 elements\n",
      "falling behind; queue contains 97 elements\n",
      "falling behind; queue contains 99 elements\n",
      "falling behind; queue contains 98 elements\n",
      "falling behind; queue contains 97 elements\n",
      "falling behind; queue contains 55 elements\n",
      "falling behind; queue contains 54 elements\n"
     ]
    },
    {
     "data": {
      "text/plain": [
       "<lsst.ts.salobj.ddsutil.ATMCS_ackcmd at 0x7f73566fb5c0>"
      ]
     },
     "execution_count": 618,
     "metadata": {},
     "output_type": "execute_result"
    }
   ],
   "source": [
    "await r2.cmd_startTracking.start()"
   ]
  },
  {
   "cell_type": "markdown",
   "metadata": {},
   "source": [
    "# Alpha Eri"
   ]
  },
  {
   "cell_type": "code",
   "execution_count": 694,
   "metadata": {},
   "outputs": [
    {
     "name": "stderr",
     "output_type": "stream",
     "text": [
      "falling behind; queue contains 99 elements\n",
      "falling behind; queue contains 98 elements\n",
      "falling behind; queue contains 97 elements\n",
      "RemoteEvent(ATPtg, 0, weatherDataApplied) falling behind; read 23 messages\n",
      "falling behind; queue contains 99 elements\n",
      "falling behind; queue contains 98 elements\n",
      "falling behind; queue contains 97 elements\n"
     ]
    },
    {
     "name": "stdout",
     "output_type": "stream",
     "text": [
      "1 0\n",
      "dra: 0.09896188821151042\n",
      "dec: -0.4714015094080892\n"
     ]
    },
    {
     "name": "stdin",
     "output_type": "stream",
     "text": [
      "Center telescope and choose action (press ?<enter>, for list of actions):  s\n"
     ]
    },
    {
     "name": "stderr",
     "output_type": "stream",
     "text": [
      "falling behind; queue contains 99 elements\n",
      "falling behind; queue contains 98 elements\n",
      "falling behind; queue contains 97 elements\n",
      "falling behind; queue contains 99 elements\n",
      "falling behind; queue contains 98 elements\n",
      "falling behind; queue contains 97 elements\n",
      "falling behind; queue contains 99 elements\n",
      "falling behind; queue contains 98 elements\n",
      "falling behind; queue contains 97 elements\n"
     ]
    },
    {
     "name": "stdout",
     "output_type": "stream",
     "text": [
      "Skipping...\n",
      "1 1\n",
      "dra: 0.10422040637008156\n",
      "dec: -0.38414830433944047\n"
     ]
    },
    {
     "name": "stdin",
     "output_type": "stream",
     "text": [
      "Center telescope and choose action (press ?<enter>, for list of actions):  s\n"
     ]
    },
    {
     "name": "stderr",
     "output_type": "stream",
     "text": [
      "falling behind; queue contains 99 elements\n",
      "falling behind; queue contains 98 elements\n",
      "falling behind; queue contains 97 elements\n",
      "falling behind; queue contains 99 elements\n",
      "falling behind; queue contains 98 elements\n",
      "falling behind; queue contains 97 elements\n",
      "falling behind; queue contains 99 elements\n",
      "falling behind; queue contains 98 elements\n",
      "falling behind; queue contains 97 elements\n"
     ]
    },
    {
     "name": "stdout",
     "output_type": "stream",
     "text": [
      "Skipping...\n",
      "1 2\n",
      "dra: 0.10962985660070212\n",
      "dec: -0.29834175851585343\n"
     ]
    },
    {
     "name": "stdin",
     "output_type": "stream",
     "text": [
      "Center telescope and choose action (press ?<enter>, for list of actions):  s\n"
     ]
    },
    {
     "name": "stderr",
     "output_type": "stream",
     "text": [
      "RemoteTelemetry(ATPtg, 0, timeAndDate) falling behind; read 14 messages\n",
      "RemoteTelemetry(ATPtg, 0, mountStatus) falling behind; read 14 messages\n",
      "RemoteTelemetry(ATPtg, 0, guidingAndOffsets) falling behind; read 14 messages\n",
      "RemoteTelemetry(ATPtg, 0, currentTargetStatus) falling behind; read 14 messages\n",
      "falling behind; queue contains 99 elements\n",
      "falling behind; queue contains 98 elements\n",
      "falling behind; queue contains 97 elements\n"
     ]
    },
    {
     "name": "stdout",
     "output_type": "stream",
     "text": [
      "Skipping...\n",
      "1 3\n"
     ]
    },
    {
     "name": "stderr",
     "output_type": "stream",
     "text": [
      "falling behind; queue contains 99 elements\n",
      "falling behind; queue contains 98 elements\n",
      "falling behind; queue contains 97 elements\n"
     ]
    },
    {
     "name": "stdout",
     "output_type": "stream",
     "text": [
      "dra: 0.11532920222095022\n",
      "dec: -0.20975445270726567\n"
     ]
    },
    {
     "name": "stdin",
     "output_type": "stream",
     "text": [
      "Center telescope and choose action (press ?<enter>, for list of actions):  s\n"
     ]
    },
    {
     "name": "stderr",
     "output_type": "stream",
     "text": [
      "falling behind; queue contains 99 elements\n",
      "falling behind; queue contains 98 elements\n",
      "falling behind; queue contains 97 elements\n",
      "RemoteTelemetry(ATPtg, 0, currentTargetStatus) falling behind; read 16 messages\n",
      "RemoteTelemetry(ATPtg, 0, timeAndDate) falling behind; read 16 messages\n",
      "RemoteTelemetry(ATPtg, 0, mountStatus) falling behind; read 16 messages\n",
      "RemoteTelemetry(ATPtg, 0, guidingAndOffsets) falling behind; read 16 messages\n",
      "falling behind; queue contains 99 elements\n",
      "falling behind; queue contains 98 elements\n",
      "falling behind; queue contains 97 elements\n",
      "falling behind; queue contains 99 elements\n",
      "falling behind; queue contains 98 elements\n",
      "falling behind; queue contains 97 elements\n",
      "falling behind; queue contains 99 elements\n",
      "falling behind; queue contains 98 elements\n",
      "falling behind; queue contains 97 elements\n",
      "falling behind; queue contains 99 elements\n",
      "falling behind; queue contains 98 elements\n",
      "falling behind; queue contains 97 elements\n",
      "falling behind; queue contains 99 elements\n",
      "falling behind; queue contains 98 elements\n",
      "falling behind; queue contains 97 elements\n",
      "falling behind; queue contains 99 elements\n",
      "falling behind; queue contains 98 elements\n",
      "falling behind; queue contains 97 elements\n",
      "falling behind; queue contains 99 elements\n",
      "falling behind; queue contains 98 elements\n",
      "falling behind; queue contains 97 elements\n",
      "falling behind; queue contains 45 elements\n"
     ]
    },
    {
     "name": "stdout",
     "output_type": "stream",
     "text": [
      "Skipping...\n",
      "1 4\n",
      "dra: 0.12118328664817413\n",
      "dec: -0.11920114047694597\n"
     ]
    },
    {
     "name": "stdin",
     "output_type": "stream",
     "text": [
      "Center telescope and choose action (press ?<enter>, for list of actions):  s\n"
     ]
    },
    {
     "name": "stderr",
     "output_type": "stream",
     "text": [
      "RemoteEvent(ATMCS, 0, target) falling behind; read 66 messages\n",
      "RemoteTelemetry(ATPtg, 0, currentTargetStatus) falling behind; read 16 messages\n",
      "RemoteTelemetry(ATPtg, 0, timeAndDate) falling behind; read 16 messages\n",
      "RemoteTelemetry(ATPtg, 0, mountStatus) falling behind; read 16 messages\n",
      "RemoteTelemetry(ATPtg, 0, guidingAndOffsets) falling behind; read 16 messages\n",
      "AckCmdReader(ATMCS, 0, ackcmd) falling behind; read 100 messages\n",
      "falling behind; queue contains 99 elements\n",
      "falling behind; queue contains 98 elements\n",
      "falling behind; queue contains 97 elements\n",
      "falling behind; queue contains 97 elements\n",
      "falling behind; queue contains 96 elements\n",
      "falling behind; queue contains 95 elements\n"
     ]
    },
    {
     "name": "stdout",
     "output_type": "stream",
     "text": [
      "Skipping...\n",
      "1 5\n",
      "dra: 0.1270960899898146\n",
      "dec: -0.028874962169339824\n"
     ]
    },
    {
     "name": "stdin",
     "output_type": "stream",
     "text": [
      "Center telescope and choose action (press ?<enter>, for list of actions):  s\n"
     ]
    },
    {
     "name": "stderr",
     "output_type": "stream",
     "text": [
      "AckCmdReader(ATMCS, 0, ackcmd) falling behind; read 100 messages\n",
      "falling behind; queue contains 99 elements\n",
      "falling behind; queue contains 98 elements\n",
      "falling behind; queue contains 97 elements\n",
      "RemoteTelemetry(ATPtg, 0, timeAndDate) falling behind; read 15 messages\n",
      "RemoteTelemetry(ATPtg, 0, mountStatus) falling behind; read 15 messages\n",
      "RemoteTelemetry(ATPtg, 0, guidingAndOffsets) falling behind; read 15 messages\n",
      "RemoteTelemetry(ATPtg, 0, currentTargetStatus) falling behind; read 15 messages\n",
      "RemoteEvent(ATMCS, 0, target) falling behind; read 62 messages\n",
      "falling behind; queue contains 85 elements\n",
      "falling behind; queue contains 84 elements\n"
     ]
    },
    {
     "name": "stdout",
     "output_type": "stream",
     "text": [
      "Skipping...\n",
      "1 6\n",
      "dra: 0.13306811415137343\n",
      "dec: 0.061244185848963184\n"
     ]
    },
    {
     "name": "stdin",
     "output_type": "stream",
     "text": [
      "Center telescope and choose action (press ?<enter>, for list of actions):  s\n"
     ]
    },
    {
     "name": "stderr",
     "output_type": "stream",
     "text": [
      "RemoteEvent(ATMCS, 0, target) falling behind; read 58 messages\n",
      "RemoteTelemetry(ATPtg, 0, currentTargetStatus) falling behind; read 14 messages\n",
      "RemoteTelemetry(ATPtg, 0, timeAndDate) falling behind; read 14 messages\n",
      "RemoteTelemetry(ATPtg, 0, mountStatus) falling behind; read 14 messages\n",
      "RemoteTelemetry(ATPtg, 0, guidingAndOffsets) falling behind; read 14 messages\n",
      "AckCmdReader(ATMCS, 0, ackcmd) falling behind; read 100 messages\n",
      "falling behind; queue contains 99 elements\n",
      "falling behind; queue contains 98 elements\n",
      "falling behind; queue contains 97 elements\n",
      "falling behind; queue contains 71 elements\n",
      "falling behind; queue contains 70 elements\n"
     ]
    },
    {
     "name": "stdout",
     "output_type": "stream",
     "text": [
      "Skipping...\n",
      "2 0\n",
      "dra: 0.1160129722309462\n",
      "dec: -0.5604032236203622\n"
     ]
    },
    {
     "name": "stdin",
     "output_type": "stream",
     "text": [
      "Center telescope and choose action (press ?<enter>, for list of actions):  s\n"
     ]
    },
    {
     "name": "stderr",
     "output_type": "stream",
     "text": [
      "AckCmdReader(ATMCS, 0, ackcmd) falling behind; read 100 messages\n",
      "falling behind; queue contains 99 elements\n",
      "falling behind; queue contains 98 elements\n",
      "falling behind; queue contains 97 elements\n",
      "RemoteTelemetry(ATPtg, 0, timeAndDate) falling behind; read 20 messages\n",
      "RemoteTelemetry(ATPtg, 0, mountStatus) falling behind; read 20 messages\n",
      "RemoteTelemetry(ATPtg, 0, guidingAndOffsets) falling behind; read 20 messages\n",
      "RemoteTelemetry(ATPtg, 0, currentTargetStatus) falling behind; read 20 messages\n",
      "RemoteEvent(ATMCS, 0, target) falling behind; read 82 messages\n",
      "falling behind; queue contains 99 elements\n",
      "falling behind; queue contains 98 elements\n",
      "falling behind; queue contains 97 elements\n",
      "falling behind; queue contains 45 elements\n"
     ]
    },
    {
     "name": "stdout",
     "output_type": "stream",
     "text": [
      "Skipping...\n",
      "2 1\n",
      "dra: 0.12171154526167682\n",
      "dec: -0.46999928162629345\n"
     ]
    },
    {
     "name": "stdin",
     "output_type": "stream",
     "text": [
      "Center telescope and choose action (press ?<enter>, for list of actions):  s\n"
     ]
    },
    {
     "name": "stderr",
     "output_type": "stream",
     "text": [
      "AckCmdReader(ATMCS, 0, ackcmd) falling behind; read 100 messages\n",
      "falling behind; queue contains 99 elements\n",
      "falling behind; queue contains 98 elements\n",
      "falling behind; queue contains 97 elements\n",
      "RemoteTelemetry(ATPtg, 0, timeAndDate) falling behind; read 21 messages\n",
      "RemoteTelemetry(ATPtg, 0, mountStatus) falling behind; read 22 messages\n",
      "RemoteTelemetry(ATPtg, 0, guidingAndOffsets) falling behind; read 22 messages\n",
      "RemoteTelemetry(ATPtg, 0, currentTargetStatus) falling behind; read 22 messages\n",
      "RemoteEvent(ATMCS, 0, target) falling behind; read 87 messages\n",
      "falling behind; queue contains 99 elements\n",
      "falling behind; queue contains 98 elements\n",
      "falling behind; queue contains 97 elements\n",
      "falling behind; queue contains 63 elements\n",
      "falling behind; queue contains 62 elements\n"
     ]
    },
    {
     "name": "stdout",
     "output_type": "stream",
     "text": [
      "Skipping...\n",
      "2 2\n",
      "dra: 0.12746757604865722\n",
      "dec: -0.3798489926719455\n"
     ]
    },
    {
     "name": "stdin",
     "output_type": "stream",
     "text": [
      "Center telescope and choose action (press ?<enter>, for list of actions):  s\n"
     ]
    },
    {
     "name": "stderr",
     "output_type": "stream",
     "text": [
      "AckCmdReader(ATMCS, 0, ackcmd) falling behind; read 100 messages\n",
      "falling behind; queue contains 99 elements\n",
      "falling behind; queue contains 98 elements\n",
      "falling behind; queue contains 97 elements\n",
      "RemoteTelemetry(ATPtg, 0, timeAndDate) falling behind; read 13 messages\n",
      "RemoteEvent(ATMCS, 0, target) falling behind; read 52 messages\n",
      "falling behind; queue contains 55 elements\n",
      "falling behind; queue contains 54 elements\n"
     ]
    },
    {
     "name": "stdout",
     "output_type": "stream",
     "text": [
      "Skipping...\n",
      "2 3\n",
      "dra: 0.13328839546186333\n",
      "dec: -0.28978101841558157\n"
     ]
    },
    {
     "name": "stdin",
     "output_type": "stream",
     "text": [
      "Center telescope and choose action (press ?<enter>, for list of actions):  s\n"
     ]
    },
    {
     "name": "stderr",
     "output_type": "stream",
     "text": [
      "AckCmdReader(ATMCS, 0, ackcmd) falling behind; read 100 messages\n",
      "RemoteTelemetry(ATPtg, 0, currentTargetStatus) falling behind; read 11 messages\n",
      "falling behind; queue contains 99 elements\n",
      "falling behind; queue contains 98 elements\n",
      "falling behind; queue contains 97 elements\n",
      "RemoteTelemetry(ATPtg, 0, timeAndDate) falling behind; read 11 messages\n",
      "RemoteTelemetry(ATPtg, 0, mountStatus) falling behind; read 11 messages\n",
      "RemoteTelemetry(ATMCS, 0, torqueDemand) falling behind; read 12 messages\n",
      "RemoteTelemetry(ATPtg, 0, guidingAndOffsets) falling behind; read 11 messages\n",
      "RemoteTelemetry(ATMCS, 0, mountMotorEncoders) falling behind; read 12 messages\n",
      "RemoteTelemetry(ATMCS, 0, mountEncoders) falling behind; read 12 messages\n",
      "RemoteTelemetry(ATMCS, 0, measuredTorque) falling behind; read 12 messages\n",
      "RemoteTelemetry(ATMCS, 0, measuredMotorVelocity) falling behind; read 12 messages\n",
      "RemoteEvent(ATMCS, 0, target) falling behind; read 46 messages\n",
      "falling behind; queue contains 38 elements\n"
     ]
    },
    {
     "name": "stdout",
     "output_type": "stream",
     "text": [
      "Skipping...\n",
      "2 4\n",
      "dra: 0.13916763541378718\n",
      "dec: -0.1998872387094579\n"
     ]
    },
    {
     "name": "stdin",
     "output_type": "stream",
     "text": [
      "Center telescope and choose action (press ?<enter>, for list of actions):  s\n"
     ]
    },
    {
     "name": "stderr",
     "output_type": "stream",
     "text": [
      "AckCmdReader(ATMCS, 0, ackcmd) falling behind; read 100 messages\n",
      "falling behind; queue contains 99 elements\n",
      "falling behind; queue contains 98 elements\n",
      "falling behind; queue contains 97 elements\n",
      "RemoteTelemetry(ATPtg, 0, timeAndDate) falling behind; read 11 messages\n",
      "RemoteTelemetry(ATPtg, 0, mountStatus) falling behind; read 11 messages\n",
      "RemoteTelemetry(ATPtg, 0, guidingAndOffsets) falling behind; read 11 messages\n",
      "RemoteTelemetry(ATPtg, 0, currentTargetStatus) falling behind; read 11 messages\n",
      "RemoteEvent(ATMCS, 0, target) falling behind; read 46 messages\n",
      "falling behind; queue contains 37 elements\n"
     ]
    },
    {
     "name": "stdout",
     "output_type": "stream",
     "text": [
      "Skipping...\n",
      "2 5\n",
      "dra: 0.14510387313063733\n",
      "dec: -0.1102060863887857\n"
     ]
    },
    {
     "name": "stdin",
     "output_type": "stream",
     "text": [
      "Center telescope and choose action (press ?<enter>, for list of actions):  s\n"
     ]
    },
    {
     "name": "stderr",
     "output_type": "stream",
     "text": [
      "AckCmdReader(ATMCS, 0, ackcmd) falling behind; read 100 messages\n",
      "falling behind; queue contains 99 elements\n",
      "falling behind; queue contains 98 elements\n",
      "falling behind; queue contains 97 elements\n",
      "RemoteTelemetry(ATPtg, 0, timeAndDate) falling behind; read 12 messages\n",
      "RemoteTelemetry(ATPtg, 0, mountStatus) falling behind; read 13 messages\n",
      "RemoteTelemetry(ATPtg, 0, guidingAndOffsets) falling behind; read 13 messages\n",
      "RemoteTelemetry(ATPtg, 0, currentTargetStatus) falling behind; read 13 messages\n",
      "RemoteEvent(ATMCS, 0, target) falling behind; read 51 messages\n",
      "falling behind; queue contains 53 elements\n",
      "falling behind; queue contains 52 elements\n"
     ]
    },
    {
     "name": "stdout",
     "output_type": "stream",
     "text": [
      "Skipping...\n",
      "2 6\n",
      "dra: 0.15109704571507798\n",
      "dec: -0.020764276796882086\n"
     ]
    },
    {
     "name": "stdin",
     "output_type": "stream",
     "text": [
      "Center telescope and choose action (press ?<enter>, for list of actions):  s\n"
     ]
    },
    {
     "name": "stderr",
     "output_type": "stream",
     "text": [
      "falling behind; queue contains 99 elements\n",
      "falling behind; queue contains 98 elements\n",
      "falling behind; queue contains 97 elements\n",
      "RemoteTelemetry(ATPtg, 0, timeAndDate) falling behind; read 11 messages\n",
      "RemoteEvent(ATMCS, 0, target) falling behind; read 46 messages\n",
      "falling behind; queue contains 37 elements\n"
     ]
    },
    {
     "name": "stdout",
     "output_type": "stream",
     "text": [
      "Skipping...\n",
      "3 0\n",
      "dra: 0.13381225322167345\n",
      "dec: -0.6390193463968856\n"
     ]
    },
    {
     "name": "stdin",
     "output_type": "stream",
     "text": [
      "Center telescope and choose action (press ?<enter>, for list of actions):  s\n"
     ]
    },
    {
     "name": "stderr",
     "output_type": "stream",
     "text": [
      "AckCmdReader(ATMCS, 0, ackcmd) falling behind; read 100 messages\n",
      "RemoteTelemetry(ATPtg, 0, currentTargetStatus) falling behind; read 46 messages\n",
      "falling behind; queue contains 99 elements\n",
      "falling behind; queue contains 98 elements\n",
      "falling behind; queue contains 97 elements\n",
      "RemoteTelemetry(ATPtg, 0, timeAndDate) falling behind; read 46 messages\n",
      "RemoteTelemetry(ATPtg, 0, mountStatus) falling behind; read 46 messages\n",
      "RemoteTelemetry(ATPtg, 0, guidingAndOffsets) falling behind; read 46 messages\n",
      "RemoteEvent(ATMCS, 0, target) falling behind; read 100 messages\n",
      "falling behind; queue contains 99 elements\n",
      "falling behind; queue contains 98 elements\n",
      "falling behind; queue contains 97 elements\n",
      "falling behind; queue contains 99 elements\n",
      "falling behind; queue contains 98 elements\n",
      "falling behind; queue contains 97 elements\n",
      "falling behind; queue contains 99 elements\n",
      "falling behind; queue contains 98 elements\n",
      "falling behind; queue contains 97 elements\n",
      "falling behind; queue contains 99 elements\n",
      "falling behind; queue contains 98 elements\n",
      "falling behind; queue contains 97 elements\n",
      "falling behind; queue contains 57 elements\n",
      "falling behind; queue contains 56 elements\n"
     ]
    },
    {
     "name": "stdout",
     "output_type": "stream",
     "text": [
      "Skipping...\n",
      "3 1\n",
      "dra: 0.13950011378224092\n",
      "dec: -0.5498556654270388\n"
     ]
    },
    {
     "name": "stdin",
     "output_type": "stream",
     "text": [
      "Center telescope and choose action (press ?<enter>, for list of actions):  s\n"
     ]
    },
    {
     "name": "stderr",
     "output_type": "stream",
     "text": [
      "AckCmdReader(ATMCS, 0, ackcmd) falling behind; read 100 messages\n",
      "falling behind; queue contains 99 elements\n",
      "falling behind; queue contains 98 elements\n",
      "falling behind; queue contains 97 elements\n",
      "RemoteTelemetry(ATPtg, 0, timeAndDate) falling behind; read 15 messages\n",
      "RemoteTelemetry(ATPtg, 0, mountStatus) falling behind; read 15 messages\n",
      "RemoteTelemetry(ATPtg, 0, guidingAndOffsets) falling behind; read 15 messages\n",
      "RemoteTelemetry(ATPtg, 0, currentTargetStatus) falling behind; read 15 messages\n",
      "RemoteEvent(ATMCS, 0, target) falling behind; read 60 messages\n",
      "falling behind; queue contains 79 elements\n",
      "falling behind; queue contains 78 elements\n"
     ]
    },
    {
     "name": "stdout",
     "output_type": "stream",
     "text": [
      "Skipping...\n",
      "3 2\n",
      "dra: 0.14528420311678092\n",
      "dec: -0.4603734018441443\n"
     ]
    },
    {
     "name": "stdin",
     "output_type": "stream",
     "text": [
      "Center telescope and choose action (press ?<enter>, for list of actions):  s\n"
     ]
    },
    {
     "name": "stderr",
     "output_type": "stream",
     "text": [
      "AckCmdReader(ATMCS, 0, ackcmd) falling behind; read 100 messages\n",
      "falling behind; queue contains 99 elements\n",
      "falling behind; queue contains 98 elements\n",
      "falling behind; queue contains 97 elements\n",
      "RemoteTelemetry(ATPtg, 0, timeAndDate) falling behind; read 13 messages\n",
      "RemoteTelemetry(ATPtg, 0, mountStatus) falling behind; read 13 messages\n",
      "RemoteTelemetry(ATPtg, 0, guidingAndOffsets) falling behind; read 13 messages\n",
      "RemoteTelemetry(ATPtg, 0, currentTargetStatus) falling behind; read 13 messages\n",
      "RemoteEvent(ATMCS, 0, target) falling behind; read 53 messages\n",
      "falling behind; queue contains 57 elements\n",
      "falling behind; queue contains 56 elements\n"
     ]
    },
    {
     "name": "stdout",
     "output_type": "stream",
     "text": [
      "Skipping...\n",
      "3 3\n",
      "dra: 0.15112702937313038\n",
      "dec: -0.3710698359736\n"
     ]
    },
    {
     "name": "stdin",
     "output_type": "stream",
     "text": [
      "Center telescope and choose action (press ?<enter>, for list of actions):  s\n"
     ]
    },
    {
     "name": "stderr",
     "output_type": "stream",
     "text": [
      "AckCmdReader(ATMCS, 0, ackcmd) falling behind; read 100 messages\n",
      "falling behind; queue contains 99 elements\n",
      "falling behind; queue contains 98 elements\n",
      "falling behind; queue contains 97 elements\n",
      "RemoteTelemetry(ATPtg, 0, timeAndDate) falling behind; read 14 messages\n",
      "RemoteTelemetry(ATPtg, 0, mountStatus) falling behind; read 14 messages\n",
      "RemoteTelemetry(ATPtg, 0, guidingAndOffsets) falling behind; read 14 messages\n",
      "RemoteTelemetry(ATPtg, 0, currentTargetStatus) falling behind; read 14 messages\n",
      "RemoteEvent(ATMCS, 0, target) falling behind; read 57 messages\n",
      "falling behind; queue contains 71 elements\n",
      "falling behind; queue contains 70 elements\n"
     ]
    },
    {
     "name": "stdout",
     "output_type": "stream",
     "text": [
      "Skipping...\n",
      "3 4\n",
      "dra: 0.15702577243016091\n",
      "dec: -0.2820090362757597\n"
     ]
    },
    {
     "name": "stdin",
     "output_type": "stream",
     "text": [
      "Center telescope and choose action (press ?<enter>, for list of actions):  s\n"
     ]
    },
    {
     "name": "stderr",
     "output_type": "stream",
     "text": [
      "RemoteTelemetry(ATPtg, 0, currentTargetStatus) falling behind; read 19 messages\n",
      "RemoteTelemetry(ATPtg, 0, timeAndDate) falling behind; read 19 messages\n",
      "RemoteTelemetry(ATPtg, 0, mountStatus) falling behind; read 19 messages\n",
      "RemoteTelemetry(ATPtg, 0, guidingAndOffsets) falling behind; read 19 messages\n",
      "RemoteEvent(ATMCS, 0, target) falling behind; read 78 messages\n",
      "AckCmdReader(ATMCS, 0, ackcmd) falling behind; read 100 messages\n",
      "falling behind; queue contains 99 elements\n",
      "falling behind; queue contains 98 elements\n",
      "falling behind; queue contains 97 elements\n",
      "falling behind; queue contains 99 elements\n",
      "falling behind; queue contains 98 elements\n",
      "falling behind; queue contains 97 elements\n",
      "falling behind; queue contains 35 elements\n"
     ]
    },
    {
     "name": "stdout",
     "output_type": "stream",
     "text": [
      "Skipping...\n",
      "3 5\n",
      "dra: 0.1629783943481693\n",
      "dec: -0.193299797839245\n"
     ]
    },
    {
     "ename": "KeyboardInterrupt",
     "evalue": "",
     "output_type": "error",
     "traceback": [
      "\u001b[0;31m\u001b[0m",
      "\u001b[0;31mKeyboardInterrupt\u001b[0mTraceback (most recent call last)",
      "\u001b[0;32m/opt/lsst/software/stack/python/miniconda3-4.5.12/envs/lsst-scipipe-1172c30/lib/python3.7/site-packages/ipykernel/kernelbase.py\u001b[0m in \u001b[0;36m_input_request\u001b[0;34m(self, prompt, ident, parent, password)\u001b[0m\n\u001b[1;32m    884\u001b[0m             \u001b[0;32mtry\u001b[0m\u001b[0;34m:\u001b[0m\u001b[0;34m\u001b[0m\u001b[0;34m\u001b[0m\u001b[0m\n\u001b[0;32m--> 885\u001b[0;31m                 \u001b[0mident\u001b[0m\u001b[0;34m,\u001b[0m \u001b[0mreply\u001b[0m \u001b[0;34m=\u001b[0m \u001b[0mself\u001b[0m\u001b[0;34m.\u001b[0m\u001b[0msession\u001b[0m\u001b[0;34m.\u001b[0m\u001b[0mrecv\u001b[0m\u001b[0;34m(\u001b[0m\u001b[0mself\u001b[0m\u001b[0;34m.\u001b[0m\u001b[0mstdin_socket\u001b[0m\u001b[0;34m,\u001b[0m \u001b[0;36m0\u001b[0m\u001b[0;34m)\u001b[0m\u001b[0;34m\u001b[0m\u001b[0;34m\u001b[0m\u001b[0m\n\u001b[0m\u001b[1;32m    886\u001b[0m             \u001b[0;32mexcept\u001b[0m \u001b[0mException\u001b[0m\u001b[0;34m:\u001b[0m\u001b[0;34m\u001b[0m\u001b[0;34m\u001b[0m\u001b[0m\n",
      "\u001b[0;32m/opt/lsst/software/stack/python/miniconda3-4.5.12/envs/lsst-scipipe-1172c30/lib/python3.7/site-packages/jupyter_client/session.py\u001b[0m in \u001b[0;36mrecv\u001b[0;34m(self, socket, mode, content, copy)\u001b[0m\n\u001b[1;32m    802\u001b[0m         \u001b[0;32mtry\u001b[0m\u001b[0;34m:\u001b[0m\u001b[0;34m\u001b[0m\u001b[0;34m\u001b[0m\u001b[0m\n\u001b[0;32m--> 803\u001b[0;31m             \u001b[0mmsg_list\u001b[0m \u001b[0;34m=\u001b[0m \u001b[0msocket\u001b[0m\u001b[0;34m.\u001b[0m\u001b[0mrecv_multipart\u001b[0m\u001b[0;34m(\u001b[0m\u001b[0mmode\u001b[0m\u001b[0;34m,\u001b[0m \u001b[0mcopy\u001b[0m\u001b[0;34m=\u001b[0m\u001b[0mcopy\u001b[0m\u001b[0;34m)\u001b[0m\u001b[0;34m\u001b[0m\u001b[0;34m\u001b[0m\u001b[0m\n\u001b[0m\u001b[1;32m    804\u001b[0m         \u001b[0;32mexcept\u001b[0m \u001b[0mzmq\u001b[0m\u001b[0;34m.\u001b[0m\u001b[0mZMQError\u001b[0m \u001b[0;32mas\u001b[0m \u001b[0me\u001b[0m\u001b[0;34m:\u001b[0m\u001b[0;34m\u001b[0m\u001b[0;34m\u001b[0m\u001b[0m\n",
      "\u001b[0;32m/opt/lsst/software/stack/python/miniconda3-4.5.12/envs/lsst-scipipe-1172c30/lib/python3.7/site-packages/zmq/sugar/socket.py\u001b[0m in \u001b[0;36mrecv_multipart\u001b[0;34m(self, flags, copy, track)\u001b[0m\n\u001b[1;32m    469\u001b[0m         \"\"\"\n\u001b[0;32m--> 470\u001b[0;31m         \u001b[0mparts\u001b[0m \u001b[0;34m=\u001b[0m \u001b[0;34m[\u001b[0m\u001b[0mself\u001b[0m\u001b[0;34m.\u001b[0m\u001b[0mrecv\u001b[0m\u001b[0;34m(\u001b[0m\u001b[0mflags\u001b[0m\u001b[0;34m,\u001b[0m \u001b[0mcopy\u001b[0m\u001b[0;34m=\u001b[0m\u001b[0mcopy\u001b[0m\u001b[0;34m,\u001b[0m \u001b[0mtrack\u001b[0m\u001b[0;34m=\u001b[0m\u001b[0mtrack\u001b[0m\u001b[0;34m)\u001b[0m\u001b[0;34m]\u001b[0m\u001b[0;34m\u001b[0m\u001b[0;34m\u001b[0m\u001b[0m\n\u001b[0m\u001b[1;32m    471\u001b[0m         \u001b[0;31m# have first part already, only loop while more to receive\u001b[0m\u001b[0;34m\u001b[0m\u001b[0;34m\u001b[0m\u001b[0;34m\u001b[0m\u001b[0m\n",
      "\u001b[0;32mzmq/backend/cython/socket.pyx\u001b[0m in \u001b[0;36mzmq.backend.cython.socket.Socket.recv\u001b[0;34m()\u001b[0m\n",
      "\u001b[0;32mzmq/backend/cython/socket.pyx\u001b[0m in \u001b[0;36mzmq.backend.cython.socket.Socket.recv\u001b[0;34m()\u001b[0m\n",
      "\u001b[0;32mzmq/backend/cython/socket.pyx\u001b[0m in \u001b[0;36mzmq.backend.cython.socket._recv_copy\u001b[0;34m()\u001b[0m\n",
      "\u001b[0;32m/opt/lsst/software/stack/python/miniconda3-4.5.12/envs/lsst-scipipe-1172c30/lib/python3.7/site-packages/zmq/backend/cython/checkrc.pxd\u001b[0m in \u001b[0;36mzmq.backend.cython.checkrc._check_rc\u001b[0;34m()\u001b[0m\n",
      "\u001b[0;31mKeyboardInterrupt\u001b[0m: ",
      "\nDuring handling of the above exception, another exception occurred:\n",
      "\u001b[0;31mKeyboardInterrupt\u001b[0mTraceback (most recent call last)",
      "\u001b[0;32m<ipython-input-694-dd9a2a7089b4>\u001b[0m in \u001b[0;36masync-def-wrapper\u001b[0;34m()\u001b[0m\n\u001b[1;32m     56\u001b[0m \u001b[0;34m\u001b[0m\u001b[0m\n\u001b[1;32m     57\u001b[0m \u001b[0;34m\u001b[0m\u001b[0m\n\u001b[0;32m---> 58\u001b[0;31m \u001b[0;34m\u001b[0m\u001b[0m\n\u001b[0m\u001b[1;32m     59\u001b[0m \u001b[0;34m\u001b[0m\u001b[0m\n",
      "\u001b[0;32m<ipython-input-80-10450e230a9e>\u001b[0m in \u001b[0;36mwait_center\u001b[0;34m()\u001b[0m\n\u001b[1;32m      1\u001b[0m \u001b[0;32masync\u001b[0m \u001b[0;32mdef\u001b[0m \u001b[0mwait_center\u001b[0m\u001b[0;34m(\u001b[0m\u001b[0;34m)\u001b[0m\u001b[0;34m:\u001b[0m\u001b[0;34m\u001b[0m\u001b[0;34m\u001b[0m\u001b[0m\n\u001b[1;32m      2\u001b[0m     \u001b[0;32mwhile\u001b[0m \u001b[0;32mTrue\u001b[0m\u001b[0;34m:\u001b[0m\u001b[0;34m\u001b[0m\u001b[0;34m\u001b[0m\u001b[0m\n\u001b[0;32m----> 3\u001b[0;31m         \u001b[0mopt\u001b[0m \u001b[0;34m=\u001b[0m \u001b[0minput\u001b[0m\u001b[0;34m(\u001b[0m\u001b[0;34m\"Center telescope and choose action (press ?<enter>, for list of actions): \"\u001b[0m\u001b[0;34m)\u001b[0m\u001b[0;34m\u001b[0m\u001b[0;34m\u001b[0m\u001b[0m\n\u001b[0m\u001b[1;32m      4\u001b[0m \u001b[0;34m\u001b[0m\u001b[0m\n\u001b[1;32m      5\u001b[0m         \u001b[0;32mif\u001b[0m \u001b[0mopt\u001b[0m \u001b[0;34m==\u001b[0m \u001b[0;34m'x'\u001b[0m\u001b[0;34m:\u001b[0m\u001b[0;34m\u001b[0m\u001b[0;34m\u001b[0m\u001b[0m\n",
      "\u001b[0;32m/opt/lsst/software/stack/python/miniconda3-4.5.12/envs/lsst-scipipe-1172c30/lib/python3.7/site-packages/ipykernel/kernelbase.py\u001b[0m in \u001b[0;36mraw_input\u001b[0;34m(self, prompt)\u001b[0m\n\u001b[1;32m    858\u001b[0m             \u001b[0mself\u001b[0m\u001b[0;34m.\u001b[0m\u001b[0m_parent_ident\u001b[0m\u001b[0;34m,\u001b[0m\u001b[0;34m\u001b[0m\u001b[0;34m\u001b[0m\u001b[0m\n\u001b[1;32m    859\u001b[0m             \u001b[0mself\u001b[0m\u001b[0;34m.\u001b[0m\u001b[0m_parent_header\u001b[0m\u001b[0;34m,\u001b[0m\u001b[0;34m\u001b[0m\u001b[0;34m\u001b[0m\u001b[0m\n\u001b[0;32m--> 860\u001b[0;31m             \u001b[0mpassword\u001b[0m\u001b[0;34m=\u001b[0m\u001b[0;32mFalse\u001b[0m\u001b[0;34m,\u001b[0m\u001b[0;34m\u001b[0m\u001b[0;34m\u001b[0m\u001b[0m\n\u001b[0m\u001b[1;32m    861\u001b[0m         )\n\u001b[1;32m    862\u001b[0m \u001b[0;34m\u001b[0m\u001b[0m\n",
      "\u001b[0;32m/opt/lsst/software/stack/python/miniconda3-4.5.12/envs/lsst-scipipe-1172c30/lib/python3.7/site-packages/ipykernel/kernelbase.py\u001b[0m in \u001b[0;36m_input_request\u001b[0;34m(self, prompt, ident, parent, password)\u001b[0m\n\u001b[1;32m    888\u001b[0m             \u001b[0;32mexcept\u001b[0m \u001b[0mKeyboardInterrupt\u001b[0m\u001b[0;34m:\u001b[0m\u001b[0;34m\u001b[0m\u001b[0;34m\u001b[0m\u001b[0m\n\u001b[1;32m    889\u001b[0m                 \u001b[0;31m# re-raise KeyboardInterrupt, to truncate traceback\u001b[0m\u001b[0;34m\u001b[0m\u001b[0;34m\u001b[0m\u001b[0;34m\u001b[0m\u001b[0m\n\u001b[0;32m--> 890\u001b[0;31m                 \u001b[0;32mraise\u001b[0m \u001b[0mKeyboardInterrupt\u001b[0m\u001b[0;34m\u001b[0m\u001b[0;34m\u001b[0m\u001b[0m\n\u001b[0m\u001b[1;32m    891\u001b[0m             \u001b[0;32melse\u001b[0m\u001b[0;34m:\u001b[0m\u001b[0;34m\u001b[0m\u001b[0;34m\u001b[0m\u001b[0m\n\u001b[1;32m    892\u001b[0m                 \u001b[0;32mbreak\u001b[0m\u001b[0;34m\u001b[0m\u001b[0;34m\u001b[0m\u001b[0m\n",
      "\u001b[0;31mKeyboardInterrupt\u001b[0m: "
     ]
    }
   ],
   "source": [
    "for i in range(1,len(alt_grid)):\n",
    "    for j in range(len(az_grid)):\n",
    "        \n",
    "        print(f\"{i} {j}\")\n",
    "        \n",
    "        radec = ICRS(Angle('01:37:42.84548', unit=u.hour),\n",
    "                     Angle('-57:14:12.3101', unit=u.deg))\n",
    "\n",
    "        mount = await r2.tel_mountEncoders.next(flush=True, timeout=1.)\n",
    "\n",
    "#         dalt5 = dalt4+alt_grid[i]*u.deg\n",
    "#         daz5 = daz4+az_grid[j]*u.deg\n",
    "        dalt9 = dalt8+alt_grid[i]*u.deg\n",
    "        daz9 = daz8+az_grid[j]*u.deg\n",
    "\n",
    "\n",
    "        \n",
    "        time_data = await r1.tel_timeAndDate.next(flush=True, timeout=2)\n",
    "        curr_time_atptg = Time(time_data.tai, format=\"mjd\", scale=\"tai\")\n",
    "        aa = AltAz(location=location, obstime=curr_time_atptg)\n",
    "        alt_az = radec.transform_to(aa)\n",
    "\n",
    "        cmd_elaz = AltAz(alt=alt_az.alt+dalt9, az=alt_az.az+daz9, \n",
    "                         obstime=curr_time_atptg.tai, \n",
    "                         location=location)\n",
    "        cmd_radec = cmd_elaz.transform_to(FK5)\n",
    "\n",
    "\n",
    "        r1.cmd_raDecTarget.set(\n",
    "            targetName=\"Alpha Eri\",\n",
    "            targetInstance=SALPY_ATPtg.ATPtg_shared_TargetInstances_current,\n",
    "            frame=SALPY_ATPtg.ATPtg_shared_CoordFrame_icrs,\n",
    "            epoch=2000,  # should be ignored: no parallax or proper motion\n",
    "            equinox=2000,  # should be ignored for ICRS\n",
    "            ra=cmd_radec.ra.hour,\n",
    "            declination=cmd_radec.dec.deg,\n",
    "            parallax=0,\n",
    "            pmRA=0,\n",
    "            pmDec=0,\n",
    "            rv=0,\n",
    "            dRA=0,\n",
    "            dDec=0,\n",
    "            rotPA=180.-44.,\n",
    "            rotFrame=SALPY_ATPtg.ATPtg_shared_RotFrame_fixed,\n",
    "            rotMode=SALPY_ATPtg.ATPtg_shared_RotMode_field,\n",
    "        )\n",
    "\n",
    "        print(f\"dra: {radec.ra.hour-cmd_radec.ra.hour}\")\n",
    "\n",
    "\n",
    "        print(f\"dec: {radec.dec.deg-cmd_radec.dec.deg}\")\n",
    "\n",
    "        \n",
    "        await r1.cmd_raDecTarget.start()\n",
    "        await wait_center()\n",
    "\n",
    "\n",
    "\n",
    "\n"
   ]
  },
  {
   "cell_type": "code",
   "execution_count": 705,
   "metadata": {},
   "outputs": [
    {
     "name": "stderr",
     "output_type": "stream",
     "text": [
      "falling behind; queue contains 99 elements\n",
      "falling behind; queue contains 98 elements\n",
      "falling behind; queue contains 97 elements\n",
      "RemoteTelemetry(ATMCS, 0, measuredTorque) falling behind; read 54 messages\n",
      "RemoteTelemetry(ATMCS, 0, measuredMotorVelocity) falling behind; read 54 messages\n",
      "falling behind; queue contains 99 elements\n",
      "falling behind; queue contains 98 elements\n",
      "falling behind; queue contains 97 elements\n",
      "falling behind; queue contains 99 elements\n",
      "falling behind; queue contains 98 elements\n",
      "falling behind; queue contains 97 elements\n",
      "falling behind; queue contains 99 elements\n",
      "falling behind; queue contains 98 elements\n",
      "falling behind; queue contains 97 elements\n",
      "falling behind; queue contains 99 elements\n",
      "falling behind; queue contains 98 elements\n",
      "falling behind; queue contains 97 elements\n",
      "falling behind; queue contains 99 elements\n",
      "falling behind; queue contains 98 elements\n",
      "falling behind; queue contains 97 elements\n",
      "falling behind; queue contains 99 elements\n",
      "falling behind; queue contains 98 elements\n",
      "falling behind; queue contains 97 elements\n",
      "falling behind; queue contains 99 elements\n",
      "falling behind; queue contains 98 elements\n",
      "falling behind; queue contains 97 elements\n",
      "falling behind; queue contains 99 elements\n",
      "falling behind; queue contains 98 elements\n",
      "falling behind; queue contains 97 elements\n",
      "falling behind; queue contains 99 elements\n",
      "falling behind; queue contains 98 elements\n",
      "falling behind; queue contains 97 elements\n"
     ]
    },
    {
     "name": "stdout",
     "output_type": "stream",
     "text": [
      "8535.59arcsec\n",
      "-865.772arcsec\n",
      "dra: 0.15806645402975694\n",
      "dec: -0.24049220666104532\n"
     ]
    },
    {
     "data": {
      "text/plain": [
       "<lsst.ts.salobj.ddsutil.ATPtg_ackcmd at 0x7f734e837c88>"
      ]
     },
     "execution_count": 705,
     "metadata": {},
     "output_type": "execute_result"
    }
   ],
   "source": [
    "radec = ICRS(Angle('01:37:42.84548', unit=u.hour),\n",
    "             Angle('-57:14:12.3101', unit=u.deg))\n",
    "\n",
    "mount = await r2.tel_mountEncoders.next(flush=True, timeout=1.)\n",
    "\n",
    "dalt10 = dalt8+alt_grid[3]*u.deg-0.025*u.deg\n",
    "daz10 = daz8+az_grid[5]*u.deg-0.025*u.deg\n",
    "\n",
    "time_data = await r1.tel_timeAndDate.next(flush=True, timeout=2)\n",
    "curr_time_atptg = Time(time_data.tai, format=\"mjd\", scale=\"tai\")\n",
    "aa = AltAz(location=location, obstime=curr_time_atptg)\n",
    "alt_az = radec.transform_to(aa)\n",
    "\n",
    "cmd_elaz = AltAz(alt=alt_az.alt+dalt10, az=alt_az.az+daz10, \n",
    "                 obstime=curr_time_atptg.tai, \n",
    "                 location=location)\n",
    "cmd_radec = cmd_elaz.transform_to(ICRS)\n",
    "\n",
    "\n",
    "r1.cmd_raDecTarget.set(\n",
    "    targetName=\"Alpha Eri\",\n",
    "    targetInstance=SALPY_ATPtg.ATPtg_shared_TargetInstances_current,\n",
    "    frame=SALPY_ATPtg.ATPtg_shared_CoordFrame_icrs,\n",
    "    epoch=2000,  # should be ignored: no parallax or proper motion\n",
    "    equinox=2000,  # should be ignored for ICRS\n",
    "    ra=radec.ra.hour,\n",
    "    declination=radec.dec.deg,\n",
    "    parallax=0,\n",
    "    pmRA=0,\n",
    "    pmDec=0,\n",
    "    rv=0,\n",
    "    dRA=0,\n",
    "    dDec=0,\n",
    "    rotPA=180.-44.,\n",
    "    rotFrame=SALPY_ATPtg.ATPtg_shared_RotFrame_fixed,\n",
    "    rotMode=SALPY_ATPtg.ATPtg_shared_RotMode_field,\n",
    ")\n",
    "\n",
    "ddra = radec.ra-cmd_radec.ra\n",
    "dddec = radec.dec-cmd_radec.dec\n",
    "print(ddra.to(u.arcsec))\n",
    "print(dddec.to(u.arcsec))\n",
    "print(f\"dra: {radec.ra.hour-cmd_radec.ra.hour}\")\n",
    "\n",
    "\n",
    "print(f\"dec: {radec.dec.deg-cmd_radec.dec.deg}\")\n",
    "\n",
    "await r1.cmd_raDecTarget.start()\n",
    "# await r1.cmd_raDecTarget.start(timeout=30.)"
   ]
  },
  {
   "cell_type": "code",
   "execution_count": 719,
   "metadata": {},
   "outputs": [
    {
     "name": "stderr",
     "output_type": "stream",
     "text": [
      "falling behind; queue contains 99 elements\n",
      "falling behind; queue contains 98 elements\n",
      "falling behind; queue contains 97 elements\n"
     ]
    },
    {
     "data": {
      "text/plain": [
       "<lsst.ts.salobj.ddsutil.ATPtg_ackcmd at 0x7f735ba4f400>"
      ]
     },
     "execution_count": 719,
     "metadata": {},
     "output_type": "execute_result"
    }
   ],
   "source": [
    "await r1.cmd_offsetAzEl.set_start(az=0., el=30., num=1)"
   ]
  },
  {
   "cell_type": "code",
   "execution_count": 706,
   "metadata": {},
   "outputs": [
    {
     "name": "stderr",
     "output_type": "stream",
     "text": [
      "RemoteTelemetry(ATPtg, 0, currentTargetStatus) falling behind; read 90 messages\n",
      "RemoteTelemetry(ATMCS, 0, torqueDemand) falling behind; read 90 messages\n",
      "RemoteTelemetry(ATMCS, 0, mountMotorEncoders) falling behind; read 90 messages\n",
      "RemoteTelemetry(ATPtg, 0, timeAndDate) falling behind; read 90 messages\n",
      "RemoteTelemetry(ATMCS, 0, mountEncoders) falling behind; read 90 messages\n",
      "RemoteTelemetry(ATPtg, 0, mountStatus) falling behind; read 90 messages\n",
      "RemoteTelemetry(ATPtg, 0, guidingAndOffsets) falling behind; read 90 messages\n",
      "RemoteEvent(ATMCS, 0, target) falling behind; read 100 messages\n",
      "AckCmdReader(ATMCS, 0, ackcmd) falling behind; read 100 messages\n",
      "falling behind; queue contains 99 elements\n",
      "falling behind; queue contains 98 elements\n",
      "falling behind; queue contains 97 elements\n",
      "falling behind; queue contains 99 elements\n",
      "falling behind; queue contains 98 elements\n",
      "falling behind; queue contains 97 elements\n"
     ]
    },
    {
     "data": {
      "text/plain": [
       "<lsst.ts.salobj.ddsutil.ATPtg_ackcmd at 0x7f734e822198>"
      ]
     },
     "execution_count": 706,
     "metadata": {},
     "output_type": "execute_result"
    }
   ],
   "source": [
    "await r1.cmd_offsetRADec.set_start(off1=-1000, off2=814.614, num=1)"
   ]
  },
  {
   "cell_type": "code",
   "execution_count": 714,
   "metadata": {},
   "outputs": [
    {
     "name": "stderr",
     "output_type": "stream",
     "text": [
      "falling behind; queue contains 99 elements\n",
      "falling behind; queue contains 98 elements\n",
      "falling behind; queue contains 97 elements\n"
     ]
    },
    {
     "data": {
      "text/plain": [
       "<lsst.ts.salobj.ddsutil.ATPtg_ackcmd at 0x7f7358cfa940>"
      ]
     },
     "execution_count": 714,
     "metadata": {},
     "output_type": "execute_result"
    }
   ],
   "source": [
    "await r1.cmd_offsetRADec.set_start(off1=-1000, off2=0., num=1)"
   ]
  },
  {
   "cell_type": "markdown",
   "metadata": {},
   "source": [
    "# Alpha Pav"
   ]
  },
  {
   "cell_type": "code",
   "execution_count": null,
   "metadata": {},
   "outputs": [],
   "source": []
  },
  {
   "cell_type": "code",
   "execution_count": 721,
   "metadata": {},
   "outputs": [
    {
     "name": "stderr",
     "output_type": "stream",
     "text": [
      "falling behind; queue contains 99 elements\n",
      "falling behind; queue contains 98 elements\n",
      "falling behind; queue contains 97 elements\n",
      "falling behind; queue contains 99 elements\n",
      "falling behind; queue contains 98 elements\n",
      "falling behind; queue contains 97 elements\n",
      "falling behind; queue contains 99 elements\n",
      "falling behind; queue contains 98 elements\n",
      "falling behind; queue contains 97 elements\n"
     ]
    },
    {
     "name": "stdout",
     "output_type": "stream",
     "text": [
      "1 0\n",
      "dra: -0.09324928137781541\n",
      "dec: -0.4910386453603266\n"
     ]
    },
    {
     "name": "stdin",
     "output_type": "stream",
     "text": [
      "Center telescope and choose action (press ?<enter>, for list of actions):  s\n"
     ]
    },
    {
     "name": "stderr",
     "output_type": "stream",
     "text": [
      "falling behind; queue contains 99 elements\n",
      "falling behind; queue contains 98 elements\n",
      "falling behind; queue contains 97 elements\n",
      "falling behind; queue contains 99 elements\n",
      "falling behind; queue contains 98 elements\n",
      "falling behind; queue contains 97 elements\n"
     ]
    },
    {
     "name": "stdout",
     "output_type": "stream",
     "text": [
      "Skipping...\n",
      "1 1\n",
      "dra: -0.08834709055129508\n",
      "dec: -0.5799101739205028\n"
     ]
    },
    {
     "name": "stdin",
     "output_type": "stream",
     "text": [
      "Center telescope and choose action (press ?<enter>, for list of actions):  s\n"
     ]
    },
    {
     "name": "stderr",
     "output_type": "stream",
     "text": [
      "falling behind; queue contains 99 elements\n",
      "falling behind; queue contains 98 elements\n",
      "falling behind; queue contains 97 elements\n",
      "falling behind; queue contains 99 elements\n",
      "falling behind; queue contains 98 elements\n",
      "falling behind; queue contains 97 elements\n",
      "falling behind; queue contains 99 elements\n",
      "falling behind; queue contains 98 elements\n",
      "falling behind; queue contains 97 elements\n"
     ]
    },
    {
     "name": "stdout",
     "output_type": "stream",
     "text": [
      "Skipping...\n",
      "1 2\n",
      "dra: -0.08359476220375228\n",
      "dec: -0.6701891537709201\n"
     ]
    },
    {
     "name": "stdin",
     "output_type": "stream",
     "text": [
      "Center telescope and choose action (press ?<enter>, for list of actions):  s\n"
     ]
    },
    {
     "name": "stderr",
     "output_type": "stream",
     "text": [
      "falling behind; queue contains 99 elements\n",
      "falling behind; queue contains 98 elements\n",
      "falling behind; queue contains 97 elements\n",
      "RemoteTelemetry(ATPtg, 0, timeAndDate) falling behind; read 13 messages\n",
      "RemoteTelemetry(ATPtg, 0, mountStatus) falling behind; read 13 messages\n",
      "falling behind; queue contains 99 elements\n",
      "falling behind; queue contains 98 elements\n",
      "falling behind; queue contains 97 elements\n",
      "falling behind; queue contains 99 elements\n",
      "falling behind; queue contains 98 elements\n",
      "falling behind; queue contains 97 elements\n",
      "falling behind; queue contains 99 elements\n",
      "falling behind; queue contains 98 elements\n",
      "falling behind; queue contains 97 elements\n",
      "falling behind; queue contains 99 elements\n",
      "falling behind; queue contains 98 elements\n",
      "falling behind; queue contains 97 elements\n",
      "falling behind; queue contains 99 elements\n",
      "falling behind; queue contains 98 elements\n",
      "falling behind; queue contains 97 elements\n",
      "falling behind; queue contains 99 elements\n",
      "falling behind; queue contains 98 elements\n",
      "falling behind; queue contains 97 elements\n",
      "falling behind; queue contains 99 elements\n",
      "falling behind; queue contains 98 elements\n",
      "falling behind; queue contains 97 elements\n",
      "falling behind; queue contains 35 elements\n"
     ]
    },
    {
     "name": "stdout",
     "output_type": "stream",
     "text": [
      "Skipping...\n",
      "1 3\n",
      "dra: -0.07870252703229497\n",
      "dec: -0.7634189848536508\n"
     ]
    },
    {
     "name": "stdin",
     "output_type": "stream",
     "text": [
      "Center telescope and choose action (press ?<enter>, for list of actions):  s\n"
     ]
    },
    {
     "name": "stderr",
     "output_type": "stream",
     "text": [
      "AckCmdReader(ATMCS, 0, ackcmd) falling behind; read 100 messages\n",
      "RemoteTelemetry(ATPtg, 0, currentTargetStatus) falling behind; read 12 messages\n",
      "falling behind; queue contains 99 elements\n",
      "falling behind; queue contains 98 elements\n",
      "falling behind; queue contains 97 elements\n",
      "RemoteTelemetry(ATPtg, 0, timeAndDate) falling behind; read 12 messages\n",
      "RemoteTelemetry(ATMCS, 0, torqueDemand) falling behind; read 12 messages\n",
      "RemoteTelemetry(ATPtg, 0, mountStatus) falling behind; read 12 messages\n",
      "RemoteTelemetry(ATMCS, 0, mountMotorEncoders) falling behind; read 12 messages\n",
      "RemoteTelemetry(ATPtg, 0, guidingAndOffsets) falling behind; read 12 messages\n",
      "RemoteTelemetry(ATMCS, 0, mountEncoders) falling behind; read 12 messages\n",
      "RemoteTelemetry(ATMCS, 0, measuredTorque) falling behind; read 12 messages\n",
      "RemoteTelemetry(ATMCS, 0, measuredMotorVelocity) falling behind; read 12 messages\n",
      "RemoteEvent(ATMCS, 0, target) falling behind; read 49 messages\n",
      "falling behind; queue contains 45 elements\n"
     ]
    },
    {
     "name": "stdout",
     "output_type": "stream",
     "text": [
      "Skipping...\n",
      "1 4\n",
      "dra: -0.07367934732189241\n",
      "dec: -0.8581799823500589\n"
     ]
    },
    {
     "name": "stdin",
     "output_type": "stream",
     "text": [
      "Center telescope and choose action (press ?<enter>, for list of actions):  s\n"
     ]
    },
    {
     "name": "stderr",
     "output_type": "stream",
     "text": [
      "AckCmdReader(ATMCS, 0, ackcmd) falling behind; read 100 messages\n",
      "RemoteTelemetry(ATPtg, 0, currentTargetStatus) falling behind; read 10 messages\n",
      "falling behind; queue contains 99 elements\n",
      "falling behind; queue contains 98 elements\n",
      "falling behind; queue contains 97 elements\n",
      "RemoteTelemetry(ATPtg, 0, timeAndDate) falling behind; read 10 messages\n",
      "RemoteTelemetry(ATPtg, 0, mountStatus) falling behind; read 10 messages\n",
      "RemoteTelemetry(ATPtg, 0, guidingAndOffsets) falling behind; read 10 messages\n",
      "RemoteEvent(ATMCS, 0, target) falling behind; read 43 messages\n",
      "falling behind; queue contains 30 elements\n"
     ]
    },
    {
     "name": "stdout",
     "output_type": "stream",
     "text": [
      "Skipping...\n",
      "1 5\n",
      "dra: -0.0687066576468176\n",
      "dec: -0.9531304103491323\n"
     ]
    },
    {
     "name": "stdin",
     "output_type": "stream",
     "text": [
      "Center telescope and choose action (press ?<enter>, for list of actions):  s\n"
     ]
    },
    {
     "name": "stderr",
     "output_type": "stream",
     "text": [
      "AckCmdReader(ATMCS, 0, ackcmd) falling behind; read 100 messages\n",
      "RemoteTelemetry(ATPtg, 0, currentTargetStatus) falling behind; read 13 messages\n",
      "falling behind; queue contains 99 elements\n",
      "falling behind; queue contains 98 elements\n",
      "falling behind; queue contains 97 elements\n",
      "RemoteTelemetry(ATPtg, 0, timeAndDate) falling behind; read 13 messages\n",
      "RemoteTelemetry(ATMCS, 0, torqueDemand) falling behind; read 12 messages\n",
      "RemoteTelemetry(ATPtg, 0, mountStatus) falling behind; read 13 messages\n",
      "RemoteTelemetry(ATMCS, 0, mountMotorEncoders) falling behind; read 12 messages\n",
      "RemoteTelemetry(ATPtg, 0, guidingAndOffsets) falling behind; read 13 messages\n",
      "RemoteTelemetry(ATMCS, 0, mountEncoders) falling behind; read 12 messages\n",
      "RemoteTelemetry(ATMCS, 0, measuredTorque) falling behind; read 12 messages\n",
      "RemoteTelemetry(ATMCS, 0, measuredMotorVelocity) falling behind; read 12 messages\n",
      "RemoteEvent(ATMCS, 0, target) falling behind; read 54 messages\n",
      "falling behind; queue contains 63 elements\n",
      "falling behind; queue contains 62 elements\n"
     ]
    },
    {
     "name": "stdout",
     "output_type": "stream",
     "text": [
      "Skipping...\n",
      "1 6\n",
      "dra: -0.06379173385473536\n",
      "dec: -1.04824796224392\n"
     ]
    },
    {
     "name": "stdin",
     "output_type": "stream",
     "text": [
      "Center telescope and choose action (press ?<enter>, for list of actions):  s\n"
     ]
    },
    {
     "name": "stderr",
     "output_type": "stream",
     "text": [
      "AckCmdReader(ATMCS, 0, ackcmd) falling behind; read 100 messages\n",
      "falling behind; queue contains 99 elements\n",
      "falling behind; queue contains 98 elements\n",
      "falling behind; queue contains 97 elements\n",
      "RemoteTelemetry(ATPtg, 0, timeAndDate) falling behind; read 12 messages\n",
      "RemoteTelemetry(ATPtg, 0, mountStatus) falling behind; read 12 messages\n",
      "RemoteTelemetry(ATMCS, 0, torqueDemand) falling behind; read 12 messages\n",
      "RemoteTelemetry(ATPtg, 0, guidingAndOffsets) falling behind; read 12 messages\n",
      "RemoteTelemetry(ATMCS, 0, mountMotorEncoders) falling behind; read 12 messages\n",
      "RemoteTelemetry(ATPtg, 0, currentTargetStatus) falling behind; read 12 messages\n",
      "RemoteTelemetry(ATMCS, 0, mountEncoders) falling behind; read 12 messages\n",
      "RemoteTelemetry(ATMCS, 0, measuredTorque) falling behind; read 12 messages\n",
      "RemoteTelemetry(ATMCS, 0, measuredMotorVelocity) falling behind; read 12 messages\n",
      "RemoteEvent(ATMCS, 0, target) falling behind; read 49 messages\n",
      "falling behind; queue contains 47 elements\n"
     ]
    },
    {
     "name": "stdout",
     "output_type": "stream",
     "text": [
      "Skipping...\n",
      "2 0\n",
      "dra: -0.11231481640257002\n",
      "dec: -0.5491727663326174\n"
     ]
    },
    {
     "name": "stdin",
     "output_type": "stream",
     "text": [
      "Center telescope and choose action (press ?<enter>, for list of actions):  s\n"
     ]
    },
    {
     "name": "stderr",
     "output_type": "stream",
     "text": [
      "AckCmdReader(ATMCS, 0, ackcmd) falling behind; read 100 messages\n",
      "RemoteTelemetry(ATPtg, 0, currentTargetStatus) falling behind; read 20 messages\n",
      "falling behind; queue contains 99 elements\n",
      "falling behind; queue contains 98 elements\n",
      "falling behind; queue contains 97 elements\n",
      "RemoteTelemetry(ATPtg, 0, timeAndDate) falling behind; read 20 messages\n",
      "RemoteTelemetry(ATPtg, 0, mountStatus) falling behind; read 20 messages\n",
      "RemoteTelemetry(ATPtg, 0, guidingAndOffsets) falling behind; read 20 messages\n",
      "RemoteEvent(ATMCS, 0, target) falling behind; read 81 messages\n",
      "falling behind; queue contains 99 elements\n",
      "falling behind; queue contains 98 elements\n",
      "falling behind; queue contains 97 elements\n",
      "falling behind; queue contains 42 elements\n"
     ]
    },
    {
     "name": "stdout",
     "output_type": "stream",
     "text": [
      "Skipping...\n",
      "2 1\n",
      "dra: -0.1071356995479924\n",
      "dec: -0.6428715693672871\n"
     ]
    },
    {
     "name": "stdin",
     "output_type": "stream",
     "text": [
      "Center telescope and choose action (press ?<enter>, for list of actions):  s\n"
     ]
    },
    {
     "name": "stderr",
     "output_type": "stream",
     "text": [
      "AckCmdReader(ATMCS, 0, ackcmd) falling behind; read 100 messages\n",
      "falling behind; queue contains 99 elements\n",
      "falling behind; queue contains 98 elements\n",
      "falling behind; queue contains 97 elements\n",
      "RemoteTelemetry(ATPtg, 0, timeAndDate) falling behind; read 10 messages\n",
      "RemoteTelemetry(ATPtg, 0, mountStatus) falling behind; read 10 messages\n",
      "RemoteTelemetry(ATMCS, 0, torqueDemand) falling behind; read 10 messages\n",
      "RemoteTelemetry(ATPtg, 0, guidingAndOffsets) falling behind; read 10 messages\n",
      "RemoteTelemetry(ATMCS, 0, mountMotorEncoders) falling behind; read 10 messages\n",
      "RemoteTelemetry(ATMCS, 0, mountEncoders) falling behind; read 10 messages\n",
      "RemoteTelemetry(ATPtg, 0, currentTargetStatus) falling behind; read 10 messages\n",
      "RemoteTelemetry(ATMCS, 0, measuredTorque) falling behind; read 10 messages\n",
      "RemoteTelemetry(ATMCS, 0, measuredMotorVelocity) falling behind; read 10 messages\n",
      "RemoteEvent(ATMCS, 0, target) falling behind; read 42 messages\n",
      "falling behind; queue contains 25 elements\n"
     ]
    },
    {
     "name": "stdout",
     "output_type": "stream",
     "text": [
      "Skipping...\n",
      "2 2\n",
      "dra: -0.10200002090746096\n",
      "dec: -0.7368913761262519\n"
     ]
    },
    {
     "name": "stdin",
     "output_type": "stream",
     "text": [
      "Center telescope and choose action (press ?<enter>, for list of actions):  s\n"
     ]
    },
    {
     "name": "stderr",
     "output_type": "stream",
     "text": [
      "AckCmdReader(ATMCS, 0, ackcmd) falling behind; read 100 messages\n",
      "falling behind; queue contains 99 elements\n",
      "falling behind; queue contains 98 elements\n",
      "falling behind; queue contains 97 elements\n",
      "RemoteTelemetry(ATPtg, 0, timeAndDate) falling behind; read 10 messages\n",
      "RemoteTelemetry(ATPtg, 0, mountStatus) falling behind; read 10 messages\n",
      "RemoteTelemetry(ATPtg, 0, guidingAndOffsets) falling behind; read 10 messages\n",
      "RemoteTelemetry(ATPtg, 0, currentTargetStatus) falling behind; read 10 messages\n",
      "RemoteEvent(ATMCS, 0, target) falling behind; read 41 messages\n",
      "falling behind; queue contains 25 elements\n"
     ]
    },
    {
     "name": "stdout",
     "output_type": "stream",
     "text": [
      "Skipping...\n",
      "2 3\n",
      "dra: -0.09691775289314108\n",
      "dec: -0.8310910099520115\n"
     ]
    },
    {
     "name": "stdin",
     "output_type": "stream",
     "text": [
      "Center telescope and choose action (press ?<enter>, for list of actions):  s\n"
     ]
    },
    {
     "name": "stderr",
     "output_type": "stream",
     "text": [
      "AckCmdReader(ATMCS, 0, ackcmd) falling behind; read 100 messages\n",
      "falling behind; queue contains 99 elements\n",
      "falling behind; queue contains 98 elements\n",
      "falling behind; queue contains 97 elements\n",
      "RemoteEvent(ATMCS, 0, target) falling behind; read 37 messages\n",
      "falling behind; queue contains 12 elements\n"
     ]
    },
    {
     "name": "stdout",
     "output_type": "stream",
     "text": [
      "Skipping...\n",
      "2 4\n",
      "dra: -0.09188703592463554\n",
      "dec: -0.9254764339032988\n"
     ]
    },
    {
     "name": "stdin",
     "output_type": "stream",
     "text": [
      "Center telescope and choose action (press ?<enter>, for list of actions):  s\n"
     ]
    },
    {
     "name": "stderr",
     "output_type": "stream",
     "text": [
      "AckCmdReader(ATMCS, 0, ackcmd) falling behind; read 100 messages\n",
      "falling behind; queue contains 99 elements\n",
      "falling behind; queue contains 98 elements\n",
      "falling behind; queue contains 97 elements\n",
      "RemoteTelemetry(ATPtg, 0, timeAndDate) falling behind; read 10 messages\n",
      "RemoteTelemetry(ATPtg, 0, mountStatus) falling behind; read 10 messages\n",
      "RemoteTelemetry(ATMCS, 0, torqueDemand) falling behind; read 10 messages\n",
      "RemoteTelemetry(ATPtg, 0, guidingAndOffsets) falling behind; read 10 messages\n",
      "RemoteTelemetry(ATMCS, 0, mountMotorEncoders) falling behind; read 10 messages\n",
      "RemoteTelemetry(ATPtg, 0, currentTargetStatus) falling behind; read 10 messages\n",
      "RemoteTelemetry(ATMCS, 0, mountEncoders) falling behind; read 10 messages\n",
      "RemoteTelemetry(ATMCS, 0, measuredTorque) falling behind; read 10 messages\n",
      "RemoteTelemetry(ATMCS, 0, measuredMotorVelocity) falling behind; read 10 messages\n",
      "RemoteEvent(ATMCS, 0, target) falling behind; read 41 messages\n",
      "falling behind; queue contains 25 elements\n"
     ]
    },
    {
     "name": "stdout",
     "output_type": "stream",
     "text": [
      "Skipping...\n",
      "2 5\n",
      "dra: -0.08691050822362101\n",
      "dec: -1.02002888742161\n"
     ]
    },
    {
     "name": "stdin",
     "output_type": "stream",
     "text": [
      "Center telescope and choose action (press ?<enter>, for list of actions):  s\n"
     ]
    },
    {
     "name": "stderr",
     "output_type": "stream",
     "text": [
      "AckCmdReader(ATMCS, 0, ackcmd) falling behind; read 100 messages\n",
      "falling behind; queue contains 99 elements\n",
      "falling behind; queue contains 98 elements\n",
      "falling behind; queue contains 97 elements\n",
      "RemoteTelemetry(ATPtg, 0, timeAndDate) falling behind; read 10 messages\n",
      "RemoteTelemetry(ATPtg, 0, mountStatus) falling behind; read 10 messages\n",
      "RemoteTelemetry(ATPtg, 0, guidingAndOffsets) falling behind; read 10 messages\n",
      "RemoteTelemetry(ATPtg, 0, currentTargetStatus) falling behind; read 10 messages\n",
      "RemoteEvent(ATMCS, 0, target) falling behind; read 42 messages\n",
      "falling behind; queue contains 25 elements\n"
     ]
    },
    {
     "name": "stdout",
     "output_type": "stream",
     "text": [
      "Skipping...\n",
      "2 6\n",
      "dra: -0.08198644459864113\n",
      "dec: -1.1147558715467696\n"
     ]
    },
    {
     "name": "stdin",
     "output_type": "stream",
     "text": [
      "Center telescope and choose action (press ?<enter>, for list of actions):  s\n"
     ]
    },
    {
     "name": "stderr",
     "output_type": "stream",
     "text": [
      "AckCmdReader(ATMCS, 0, ackcmd) falling behind; read 100 messages\n",
      "falling behind; queue contains 99 elements\n",
      "falling behind; queue contains 98 elements\n",
      "falling behind; queue contains 97 elements\n",
      "RemoteEvent(ATMCS, 0, target) falling behind; read 38 messages\n",
      "falling behind; queue contains 15 elements\n"
     ]
    },
    {
     "name": "stdout",
     "output_type": "stream",
     "text": [
      "Skipping...\n",
      "3 0\n",
      "dra: -0.13048573701344424\n",
      "dec: -0.618345068053813\n"
     ]
    },
    {
     "name": "stdin",
     "output_type": "stream",
     "text": [
      "Center telescope and choose action (press ?<enter>, for list of actions):  s\n"
     ]
    },
    {
     "name": "stderr",
     "output_type": "stream",
     "text": [
      "AckCmdReader(ATMCS, 0, ackcmd) falling behind; read 100 messages\n",
      "falling behind; queue contains 99 elements\n",
      "falling behind; queue contains 98 elements\n",
      "falling behind; queue contains 97 elements\n",
      "RemoteTelemetry(ATPtg, 0, timeAndDate) falling behind; read 15 messages\n",
      "RemoteTelemetry(ATPtg, 0, mountStatus) falling behind; read 15 messages\n",
      "RemoteTelemetry(ATMCS, 0, torqueDemand) falling behind; read 14 messages\n",
      "RemoteTelemetry(ATPtg, 0, guidingAndOffsets) falling behind; read 15 messages\n",
      "RemoteTelemetry(ATMCS, 0, mountMotorEncoders) falling behind; read 14 messages\n",
      "RemoteTelemetry(ATMCS, 0, mountEncoders) falling behind; read 14 messages\n",
      "RemoteTelemetry(ATPtg, 0, currentTargetStatus) falling behind; read 15 messages\n",
      "RemoteTelemetry(ATMCS, 0, measuredTorque) falling behind; read 14 messages\n",
      "RemoteTelemetry(ATMCS, 0, measuredMotorVelocity) falling behind; read 14 messages\n",
      "RemoteEvent(ATMCS, 0, target) falling behind; read 62 messages\n",
      "falling behind; queue contains 85 elements\n",
      "falling behind; queue contains 84 elements\n"
     ]
    },
    {
     "name": "stdout",
     "output_type": "stream",
     "text": [
      "Skipping...\n",
      "3 1\n",
      "dra: -0.12529845085949276\n",
      "dec: -0.7116842906223155\n"
     ]
    },
    {
     "name": "stdin",
     "output_type": "stream",
     "text": [
      "Center telescope and choose action (press ?<enter>, for list of actions):  s\n"
     ]
    },
    {
     "name": "stderr",
     "output_type": "stream",
     "text": [
      "RemoteEvent(ATMCS, 0, target) falling behind; read 63 messages\n",
      "RemoteTelemetry(ATPtg, 0, currentTargetStatus) falling behind; read 15 messages\n",
      "RemoteTelemetry(ATPtg, 0, timeAndDate) falling behind; read 15 messages\n",
      "RemoteTelemetry(ATPtg, 0, mountStatus) falling behind; read 15 messages\n",
      "RemoteTelemetry(ATMCS, 0, torqueDemand) falling behind; read 14 messages\n",
      "RemoteTelemetry(ATPtg, 0, guidingAndOffsets) falling behind; read 15 messages\n",
      "RemoteTelemetry(ATMCS, 0, mountMotorEncoders) falling behind; read 14 messages\n",
      "RemoteTelemetry(ATMCS, 0, mountEncoders) falling behind; read 14 messages\n",
      "RemoteTelemetry(ATMCS, 0, measuredTorque) falling behind; read 14 messages\n",
      "RemoteTelemetry(ATMCS, 0, measuredMotorVelocity) falling behind; read 14 messages\n",
      "AckCmdReader(ATMCS, 0, ackcmd) falling behind; read 100 messages\n",
      "falling behind; queue contains 99 elements\n",
      "falling behind; queue contains 98 elements\n",
      "falling behind; queue contains 97 elements\n",
      "falling behind; queue contains 87 elements\n",
      "falling behind; queue contains 86 elements\n"
     ]
    },
    {
     "name": "stdout",
     "output_type": "stream",
     "text": [
      "Skipping...\n",
      "3 2\n",
      "dra: -0.12016584904818828\n",
      "dec: -0.8052213803978532\n"
     ]
    },
    {
     "name": "stdin",
     "output_type": "stream",
     "text": [
      "Center telescope and choose action (press ?<enter>, for list of actions):  s\n"
     ]
    },
    {
     "name": "stderr",
     "output_type": "stream",
     "text": [
      "RemoteEvent(ATMCS, 0, target) falling behind; read 46 messages\n",
      "RemoteTelemetry(ATPtg, 0, timeAndDate) falling behind; read 11 messages\n",
      "RemoteTelemetry(ATPtg, 0, mountStatus) falling behind; read 11 messages\n",
      "RemoteTelemetry(ATMCS, 0, torqueDemand) falling behind; read 10 messages\n",
      "RemoteTelemetry(ATPtg, 0, guidingAndOffsets) falling behind; read 11 messages\n",
      "RemoteTelemetry(ATMCS, 0, mountMotorEncoders) falling behind; read 10 messages\n",
      "RemoteTelemetry(ATMCS, 0, mountEncoders) falling behind; read 10 messages\n",
      "RemoteTelemetry(ATPtg, 0, currentTargetStatus) falling behind; read 11 messages\n",
      "RemoteTelemetry(ATMCS, 0, measuredTorque) falling behind; read 10 messages\n",
      "RemoteTelemetry(ATMCS, 0, measuredMotorVelocity) falling behind; read 10 messages\n",
      "AckCmdReader(ATMCS, 0, ackcmd) falling behind; read 100 messages\n",
      "falling behind; queue contains 99 elements\n",
      "falling behind; queue contains 98 elements\n",
      "falling behind; queue contains 97 elements\n",
      "falling behind; queue contains 37 elements\n"
     ]
    },
    {
     "name": "stdout",
     "output_type": "stream",
     "text": [
      "Skipping...\n",
      "3 3\n",
      "dra: -0.1150814477544202\n",
      "dec: -0.8990010837017266\n"
     ]
    },
    {
     "ename": "KeyboardInterrupt",
     "evalue": "",
     "output_type": "error",
     "traceback": [
      "\u001b[0;31m\u001b[0m",
      "\u001b[0;31mKeyboardInterrupt\u001b[0mTraceback (most recent call last)",
      "\u001b[0;32m/opt/lsst/software/stack/python/miniconda3-4.5.12/envs/lsst-scipipe-1172c30/lib/python3.7/site-packages/ipykernel/kernelbase.py\u001b[0m in \u001b[0;36m_input_request\u001b[0;34m(self, prompt, ident, parent, password)\u001b[0m\n\u001b[1;32m    884\u001b[0m             \u001b[0;32mtry\u001b[0m\u001b[0;34m:\u001b[0m\u001b[0;34m\u001b[0m\u001b[0;34m\u001b[0m\u001b[0m\n\u001b[0;32m--> 885\u001b[0;31m                 \u001b[0mident\u001b[0m\u001b[0;34m,\u001b[0m \u001b[0mreply\u001b[0m \u001b[0;34m=\u001b[0m \u001b[0mself\u001b[0m\u001b[0;34m.\u001b[0m\u001b[0msession\u001b[0m\u001b[0;34m.\u001b[0m\u001b[0mrecv\u001b[0m\u001b[0;34m(\u001b[0m\u001b[0mself\u001b[0m\u001b[0;34m.\u001b[0m\u001b[0mstdin_socket\u001b[0m\u001b[0;34m,\u001b[0m \u001b[0;36m0\u001b[0m\u001b[0;34m)\u001b[0m\u001b[0;34m\u001b[0m\u001b[0;34m\u001b[0m\u001b[0m\n\u001b[0m\u001b[1;32m    886\u001b[0m             \u001b[0;32mexcept\u001b[0m \u001b[0mException\u001b[0m\u001b[0;34m:\u001b[0m\u001b[0;34m\u001b[0m\u001b[0;34m\u001b[0m\u001b[0m\n",
      "\u001b[0;32m/opt/lsst/software/stack/python/miniconda3-4.5.12/envs/lsst-scipipe-1172c30/lib/python3.7/site-packages/jupyter_client/session.py\u001b[0m in \u001b[0;36mrecv\u001b[0;34m(self, socket, mode, content, copy)\u001b[0m\n\u001b[1;32m    802\u001b[0m         \u001b[0;32mtry\u001b[0m\u001b[0;34m:\u001b[0m\u001b[0;34m\u001b[0m\u001b[0;34m\u001b[0m\u001b[0m\n\u001b[0;32m--> 803\u001b[0;31m             \u001b[0mmsg_list\u001b[0m \u001b[0;34m=\u001b[0m \u001b[0msocket\u001b[0m\u001b[0;34m.\u001b[0m\u001b[0mrecv_multipart\u001b[0m\u001b[0;34m(\u001b[0m\u001b[0mmode\u001b[0m\u001b[0;34m,\u001b[0m \u001b[0mcopy\u001b[0m\u001b[0;34m=\u001b[0m\u001b[0mcopy\u001b[0m\u001b[0;34m)\u001b[0m\u001b[0;34m\u001b[0m\u001b[0;34m\u001b[0m\u001b[0m\n\u001b[0m\u001b[1;32m    804\u001b[0m         \u001b[0;32mexcept\u001b[0m \u001b[0mzmq\u001b[0m\u001b[0;34m.\u001b[0m\u001b[0mZMQError\u001b[0m \u001b[0;32mas\u001b[0m \u001b[0me\u001b[0m\u001b[0;34m:\u001b[0m\u001b[0;34m\u001b[0m\u001b[0;34m\u001b[0m\u001b[0m\n",
      "\u001b[0;32m/opt/lsst/software/stack/python/miniconda3-4.5.12/envs/lsst-scipipe-1172c30/lib/python3.7/site-packages/zmq/sugar/socket.py\u001b[0m in \u001b[0;36mrecv_multipart\u001b[0;34m(self, flags, copy, track)\u001b[0m\n\u001b[1;32m    469\u001b[0m         \"\"\"\n\u001b[0;32m--> 470\u001b[0;31m         \u001b[0mparts\u001b[0m \u001b[0;34m=\u001b[0m \u001b[0;34m[\u001b[0m\u001b[0mself\u001b[0m\u001b[0;34m.\u001b[0m\u001b[0mrecv\u001b[0m\u001b[0;34m(\u001b[0m\u001b[0mflags\u001b[0m\u001b[0;34m,\u001b[0m \u001b[0mcopy\u001b[0m\u001b[0;34m=\u001b[0m\u001b[0mcopy\u001b[0m\u001b[0;34m,\u001b[0m \u001b[0mtrack\u001b[0m\u001b[0;34m=\u001b[0m\u001b[0mtrack\u001b[0m\u001b[0;34m)\u001b[0m\u001b[0;34m]\u001b[0m\u001b[0;34m\u001b[0m\u001b[0;34m\u001b[0m\u001b[0m\n\u001b[0m\u001b[1;32m    471\u001b[0m         \u001b[0;31m# have first part already, only loop while more to receive\u001b[0m\u001b[0;34m\u001b[0m\u001b[0;34m\u001b[0m\u001b[0;34m\u001b[0m\u001b[0m\n",
      "\u001b[0;32mzmq/backend/cython/socket.pyx\u001b[0m in \u001b[0;36mzmq.backend.cython.socket.Socket.recv\u001b[0;34m()\u001b[0m\n",
      "\u001b[0;32mzmq/backend/cython/socket.pyx\u001b[0m in \u001b[0;36mzmq.backend.cython.socket.Socket.recv\u001b[0;34m()\u001b[0m\n",
      "\u001b[0;32mzmq/backend/cython/socket.pyx\u001b[0m in \u001b[0;36mzmq.backend.cython.socket._recv_copy\u001b[0;34m()\u001b[0m\n",
      "\u001b[0;32m/opt/lsst/software/stack/python/miniconda3-4.5.12/envs/lsst-scipipe-1172c30/lib/python3.7/site-packages/zmq/backend/cython/checkrc.pxd\u001b[0m in \u001b[0;36mzmq.backend.cython.checkrc._check_rc\u001b[0;34m()\u001b[0m\n",
      "\u001b[0;31mKeyboardInterrupt\u001b[0m: ",
      "\nDuring handling of the above exception, another exception occurred:\n",
      "\u001b[0;31mKeyboardInterrupt\u001b[0mTraceback (most recent call last)",
      "\u001b[0;32m<ipython-input-721-55f79d9cfe03>\u001b[0m in \u001b[0;36masync-def-wrapper\u001b[0;34m()\u001b[0m\n\u001b[1;32m     57\u001b[0m \u001b[0;34m\u001b[0m\u001b[0m\n\u001b[1;32m     58\u001b[0m \u001b[0;34m\u001b[0m\u001b[0m\n\u001b[0;32m---> 59\u001b[0;31m \u001b[0;34m\u001b[0m\u001b[0m\n\u001b[0m\u001b[1;32m     60\u001b[0m \u001b[0;34m\u001b[0m\u001b[0m\n\u001b[1;32m     61\u001b[0m \u001b[0;34m\u001b[0m\u001b[0m\n",
      "\u001b[0;32m<ipython-input-80-10450e230a9e>\u001b[0m in \u001b[0;36mwait_center\u001b[0;34m()\u001b[0m\n\u001b[1;32m      1\u001b[0m \u001b[0;32masync\u001b[0m \u001b[0;32mdef\u001b[0m \u001b[0mwait_center\u001b[0m\u001b[0;34m(\u001b[0m\u001b[0;34m)\u001b[0m\u001b[0;34m:\u001b[0m\u001b[0;34m\u001b[0m\u001b[0;34m\u001b[0m\u001b[0m\n\u001b[1;32m      2\u001b[0m     \u001b[0;32mwhile\u001b[0m \u001b[0;32mTrue\u001b[0m\u001b[0;34m:\u001b[0m\u001b[0;34m\u001b[0m\u001b[0;34m\u001b[0m\u001b[0m\n\u001b[0;32m----> 3\u001b[0;31m         \u001b[0mopt\u001b[0m \u001b[0;34m=\u001b[0m \u001b[0minput\u001b[0m\u001b[0;34m(\u001b[0m\u001b[0;34m\"Center telescope and choose action (press ?<enter>, for list of actions): \"\u001b[0m\u001b[0;34m)\u001b[0m\u001b[0;34m\u001b[0m\u001b[0;34m\u001b[0m\u001b[0m\n\u001b[0m\u001b[1;32m      4\u001b[0m \u001b[0;34m\u001b[0m\u001b[0m\n\u001b[1;32m      5\u001b[0m         \u001b[0;32mif\u001b[0m \u001b[0mopt\u001b[0m \u001b[0;34m==\u001b[0m \u001b[0;34m'x'\u001b[0m\u001b[0;34m:\u001b[0m\u001b[0;34m\u001b[0m\u001b[0;34m\u001b[0m\u001b[0m\n",
      "\u001b[0;32m/opt/lsst/software/stack/python/miniconda3-4.5.12/envs/lsst-scipipe-1172c30/lib/python3.7/site-packages/ipykernel/kernelbase.py\u001b[0m in \u001b[0;36mraw_input\u001b[0;34m(self, prompt)\u001b[0m\n\u001b[1;32m    858\u001b[0m             \u001b[0mself\u001b[0m\u001b[0;34m.\u001b[0m\u001b[0m_parent_ident\u001b[0m\u001b[0;34m,\u001b[0m\u001b[0;34m\u001b[0m\u001b[0;34m\u001b[0m\u001b[0m\n\u001b[1;32m    859\u001b[0m             \u001b[0mself\u001b[0m\u001b[0;34m.\u001b[0m\u001b[0m_parent_header\u001b[0m\u001b[0;34m,\u001b[0m\u001b[0;34m\u001b[0m\u001b[0;34m\u001b[0m\u001b[0m\n\u001b[0;32m--> 860\u001b[0;31m             \u001b[0mpassword\u001b[0m\u001b[0;34m=\u001b[0m\u001b[0;32mFalse\u001b[0m\u001b[0;34m,\u001b[0m\u001b[0;34m\u001b[0m\u001b[0;34m\u001b[0m\u001b[0m\n\u001b[0m\u001b[1;32m    861\u001b[0m         )\n\u001b[1;32m    862\u001b[0m \u001b[0;34m\u001b[0m\u001b[0m\n",
      "\u001b[0;32m/opt/lsst/software/stack/python/miniconda3-4.5.12/envs/lsst-scipipe-1172c30/lib/python3.7/site-packages/ipykernel/kernelbase.py\u001b[0m in \u001b[0;36m_input_request\u001b[0;34m(self, prompt, ident, parent, password)\u001b[0m\n\u001b[1;32m    888\u001b[0m             \u001b[0;32mexcept\u001b[0m \u001b[0mKeyboardInterrupt\u001b[0m\u001b[0;34m:\u001b[0m\u001b[0;34m\u001b[0m\u001b[0;34m\u001b[0m\u001b[0m\n\u001b[1;32m    889\u001b[0m                 \u001b[0;31m# re-raise KeyboardInterrupt, to truncate traceback\u001b[0m\u001b[0;34m\u001b[0m\u001b[0;34m\u001b[0m\u001b[0;34m\u001b[0m\u001b[0m\n\u001b[0;32m--> 890\u001b[0;31m                 \u001b[0;32mraise\u001b[0m \u001b[0mKeyboardInterrupt\u001b[0m\u001b[0;34m\u001b[0m\u001b[0;34m\u001b[0m\u001b[0m\n\u001b[0m\u001b[1;32m    891\u001b[0m             \u001b[0;32melse\u001b[0m\u001b[0;34m:\u001b[0m\u001b[0;34m\u001b[0m\u001b[0;34m\u001b[0m\u001b[0m\n\u001b[1;32m    892\u001b[0m                 \u001b[0;32mbreak\u001b[0m\u001b[0;34m\u001b[0m\u001b[0;34m\u001b[0m\u001b[0m\n",
      "\u001b[0;31mKeyboardInterrupt\u001b[0m: "
     ]
    }
   ],
   "source": [
    "for i in range(1,len(alt_grid)):\n",
    "    for j in range(len(az_grid)):\n",
    "        \n",
    "        print(f\"{i} {j}\")\n",
    "        \n",
    "        radec = ICRS(Angle('20:25:38.85705', unit=u.hour),\n",
    "                     Angle('-56:44:06.3230', unit=u.deg))\n",
    "\n",
    "\n",
    "        mount = await r2.tel_mountEncoders.next(flush=True, timeout=1.)\n",
    "\n",
    "#         dalt5 = dalt4+alt_grid[i]*u.deg\n",
    "#         daz5 = daz4+az_grid[j]*u.deg\n",
    "        dalt12 = dalt11+alt_grid[i]*u.deg\n",
    "        daz12 = daz11+az_grid[j]*u.deg\n",
    "\n",
    "\n",
    "        \n",
    "        time_data = await r1.tel_timeAndDate.next(flush=True, timeout=2)\n",
    "        curr_time_atptg = Time(time_data.tai, format=\"mjd\", scale=\"tai\")\n",
    "        aa = AltAz(location=location, obstime=curr_time_atptg)\n",
    "        alt_az = radec.transform_to(aa)\n",
    "\n",
    "        cmd_elaz = AltAz(alt=alt_az.alt+dalt12, az=alt_az.az+daz12, \n",
    "                         obstime=curr_time_atptg.tai, \n",
    "                         location=location)\n",
    "        cmd_radec = cmd_elaz.transform_to(FK5)\n",
    "\n",
    "\n",
    "        r1.cmd_raDecTarget.set(\n",
    "            targetName=\"Alpha Pav\",\n",
    "            targetInstance=SALPY_ATPtg.ATPtg_shared_TargetInstances_current,\n",
    "            frame=SALPY_ATPtg.ATPtg_shared_CoordFrame_icrs,\n",
    "            epoch=2000,  # should be ignored: no parallax or proper motion\n",
    "            equinox=2000,  # should be ignored for ICRS\n",
    "            ra=cmd_radec.ra.hour,\n",
    "            declination=cmd_radec.dec.deg,\n",
    "            parallax=0,\n",
    "            pmRA=0,\n",
    "            pmDec=0,\n",
    "            rv=0,\n",
    "            dRA=0,\n",
    "            dDec=0,\n",
    "            rotPA=180.-44.,\n",
    "            rotFrame=SALPY_ATPtg.ATPtg_shared_RotFrame_fixed,\n",
    "            rotMode=SALPY_ATPtg.ATPtg_shared_RotMode_field,\n",
    "        )\n",
    "\n",
    "        print(f\"dra: {radec.ra.hour-cmd_radec.ra.hour}\")\n",
    "\n",
    "\n",
    "        print(f\"dec: {radec.dec.deg-cmd_radec.dec.deg}\")\n",
    "\n",
    "        \n",
    "        await r1.cmd_raDecTarget.start()\n",
    "        await wait_center()\n",
    "\n",
    "\n",
    "\n",
    "\n",
    "\n"
   ]
  },
  {
   "cell_type": "code",
   "execution_count": null,
   "metadata": {},
   "outputs": [],
   "source": []
  },
  {
   "cell_type": "code",
   "execution_count": 730,
   "metadata": {},
   "outputs": [
    {
     "name": "stderr",
     "output_type": "stream",
     "text": [
      "falling behind; queue contains 99 elements\n",
      "falling behind; queue contains 98 elements\n",
      "falling behind; queue contains 97 elements\n",
      "falling behind; queue contains 99 elements\n",
      "falling behind; queue contains 98 elements\n",
      "falling behind; queue contains 97 elements\n",
      "falling behind; queue contains 99 elements\n",
      "falling behind; queue contains 98 elements\n",
      "falling behind; queue contains 97 elements\n"
     ]
    },
    {
     "name": "stdout",
     "output_type": "stream",
     "text": [
      "-6596.1arcsec\n",
      "-3217.75arcsec\n",
      "dra: -0.1221499175645242\n",
      "dec: -0.8938205162287858\n"
     ]
    },
    {
     "data": {
      "text/plain": [
       "<lsst.ts.salobj.ddsutil.ATPtg_ackcmd at 0x7f735b081080>"
      ]
     },
     "execution_count": 730,
     "metadata": {},
     "output_type": "execute_result"
    }
   ],
   "source": [
    "radec = ICRS(Angle('20:25:38.85705', unit=u.hour),\n",
    "             Angle('-56:44:06.3230', unit=u.deg))\n",
    "\n",
    "mount = await r2.tel_mountEncoders.next(flush=True, timeout=1.)\n",
    "\n",
    "dalt13 = dalt12+0.04*u.deg\n",
    "daz13 = daz12\n",
    "\n",
    "\n",
    "time_data = await r1.tel_timeAndDate.next(flush=True, timeout=2)\n",
    "curr_time_atptg = Time(time_data.tai, format=\"mjd\", scale=\"tai\")\n",
    "aa = AltAz(location=location, obstime=curr_time_atptg)\n",
    "alt_az = radec.transform_to(aa)\n",
    "\n",
    "cmd_elaz = AltAz(alt=alt_az.alt+dalt13, az=alt_az.az+daz13, \n",
    "                 obstime=curr_time_atptg.tai, \n",
    "                 location=location)\n",
    "cmd_radec = cmd_elaz.transform_to(ICRS)\n",
    "\n",
    "\n",
    "r1.cmd_raDecTarget.set(\n",
    "    targetName=\"Alpha Pav\",\n",
    "    targetInstance=SALPY_ATPtg.ATPtg_shared_TargetInstances_current,\n",
    "    frame=SALPY_ATPtg.ATPtg_shared_CoordFrame_icrs,\n",
    "    epoch=2000,  # should be ignored: no parallax or proper motion\n",
    "    equinox=2000,  # should be ignored for ICRS\n",
    "    ra=radec.ra.hour,\n",
    "    declination=radec.dec.deg,\n",
    "    parallax=0,\n",
    "    pmRA=0,\n",
    "    pmDec=0,\n",
    "    rv=0,\n",
    "    dRA=0,\n",
    "    dDec=0,\n",
    "    rotPA=180.-44.,\n",
    "    rotFrame=SALPY_ATPtg.ATPtg_shared_RotFrame_fixed,\n",
    "    rotMode=SALPY_ATPtg.ATPtg_shared_RotMode_field,\n",
    ")\n",
    "\n",
    "ddra = radec.ra-cmd_radec.ra\n",
    "dddec = radec.dec-cmd_radec.dec\n",
    "print(ddra.to(u.arcsec))\n",
    "print(dddec.to(u.arcsec))\n",
    "print(f\"dra: {radec.ra.hour-cmd_radec.ra.hour}\")\n",
    "\n",
    "\n",
    "print(f\"dec: {radec.dec.deg-cmd_radec.dec.deg}\")\n",
    "\n",
    "await r1.cmd_raDecTarget.start()\n",
    "# await r1.cmd_raDecTarget.start(timeout=30.)"
   ]
  },
  {
   "cell_type": "code",
   "execution_count": 733,
   "metadata": {},
   "outputs": [
    {
     "name": "stderr",
     "output_type": "stream",
     "text": [
      "falling behind; queue contains 99 elements\n",
      "falling behind; queue contains 98 elements\n",
      "falling behind; queue contains 97 elements\n",
      "falling behind; queue contains 99 elements\n",
      "falling behind; queue contains 98 elements\n",
      "falling behind; queue contains 97 elements\n",
      "falling behind; queue contains 99 elements\n",
      "falling behind; queue contains 98 elements\n",
      "falling behind; queue contains 97 elements\n"
     ]
    },
    {
     "data": {
      "text/plain": [
       "<lsst.ts.salobj.ddsutil.ATPtg_ackcmd at 0x7f7358bf75c0>"
      ]
     },
     "execution_count": 733,
     "metadata": {},
     "output_type": "execute_result"
    }
   ],
   "source": [
    "await r1.cmd_offsetRADec.set_start(off1=1000, off2=1000, num=1)"
   ]
  },
  {
   "cell_type": "code",
   "execution_count": 734,
   "metadata": {},
   "outputs": [
    {
     "name": "stderr",
     "output_type": "stream",
     "text": [
      "falling behind; queue contains 99 elements\n",
      "falling behind; queue contains 98 elements\n",
      "falling behind; queue contains 97 elements\n",
      "falling behind; queue contains 99 elements\n",
      "falling behind; queue contains 98 elements\n",
      "falling behind; queue contains 97 elements\n"
     ]
    },
    {
     "data": {
      "text/plain": [
       "<lsst.ts.salobj.ddsutil.ATPtg_ackcmd at 0x7f734e8697f0>"
      ]
     },
     "execution_count": 734,
     "metadata": {},
     "output_type": "execute_result"
    }
   ],
   "source": [
    "await r1.cmd_offsetRADec.set_start(off1=0., off2=217.75, num=1)"
   ]
  },
  {
   "cell_type": "code",
   "execution_count": 738,
   "metadata": {},
   "outputs": [
    {
     "name": "stderr",
     "output_type": "stream",
     "text": [
      "falling behind; queue contains 99 elements\n",
      "falling behind; queue contains 98 elements\n",
      "falling behind; queue contains 97 elements\n",
      "falling behind; queue contains 99 elements\n",
      "falling behind; queue contains 98 elements\n",
      "falling behind; queue contains 97 elements\n",
      "falling behind; queue contains 99 elements\n",
      "falling behind; queue contains 98 elements\n",
      "falling behind; queue contains 97 elements\n"
     ]
    },
    {
     "data": {
      "text/plain": [
       "<lsst.ts.salobj.ddsutil.ATPtg_ackcmd at 0x7f735897fc18>"
      ]
     },
     "execution_count": 738,
     "metadata": {},
     "output_type": "execute_result"
    }
   ],
   "source": [
    "await r1.cmd_offsetRADec.set_start(off1=596.1, off2=0., num=1)"
   ]
  },
  {
   "cell_type": "code",
   "execution_count": null,
   "metadata": {},
   "outputs": [],
   "source": []
  },
  {
   "cell_type": "code",
   "execution_count": null,
   "metadata": {},
   "outputs": [],
   "source": []
  },
  {
   "cell_type": "code",
   "execution_count": null,
   "metadata": {},
   "outputs": [],
   "source": []
  },
  {
   "cell_type": "markdown",
   "metadata": {},
   "source": [
    "# Alpha Psa"
   ]
  },
  {
   "cell_type": "code",
   "execution_count": null,
   "metadata": {},
   "outputs": [],
   "source": [
    "for i in range(1,len(alt_grid)):\n",
    "    for j in range(len(az_grid)):\n",
    "        \n",
    "        print(f\"{i} {j}\")\n",
    "        \n",
    "        radec = ICRS(Angle('22:57:39.04625', unit=u.hour),\n",
    "                     Angle('-29:37:20.0533', unit=u.deg))\n",
    "\n",
    "        mount = await r2.tel_mountEncoders.next(flush=True, timeout=1.)\n",
    "\n",
    "#         dalt5 = dalt4+alt_grid[i]*u.deg\n",
    "#         daz5 = daz4+az_grid[j]*u.deg\n",
    "        dalt15 = dalt14+alt_grid[i]*u.deg\n",
    "        daz15 = daz14+az_grid[j]*u.deg\n",
    "\n",
    "\n",
    "        \n",
    "        time_data = await r1.tel_timeAndDate.next(flush=True, timeout=2)\n",
    "        curr_time_atptg = Time(time_data.tai, format=\"mjd\", scale=\"tai\")\n",
    "        aa = AltAz(location=location, obstime=curr_time_atptg)\n",
    "        alt_az = radec.transform_to(aa)\n",
    "\n",
    "        cmd_elaz = AltAz(alt=alt_az.alt+dalt12, az=alt_az.az+daz12, \n",
    "                         obstime=curr_time_atptg.tai, \n",
    "                         location=location)\n",
    "        cmd_radec = cmd_elaz.transform_to(FK5)\n",
    "\n",
    "\n",
    "        r1.cmd_raDecTarget.set(\n",
    "            targetName=\"Alpha PsA\",\n",
    "            targetInstance=SALPY_ATPtg.ATPtg_shared_TargetInstances_current,\n",
    "            frame=SALPY_ATPtg.ATPtg_shared_CoordFrame_icrs,\n",
    "            epoch=2000,  # should be ignored: no parallax or proper motion\n",
    "            equinox=2000,  # should be ignored for ICRS\n",
    "            ra=cmd_radec.ra.hour,\n",
    "            declination=cmd_radec.dec.deg,\n",
    "            parallax=0,\n",
    "            pmRA=0,\n",
    "            pmDec=0,\n",
    "            rv=0,\n",
    "            dRA=0,\n",
    "            dDec=0,\n",
    "            rotPA=180.-44.,\n",
    "            rotFrame=SALPY_ATPtg.ATPtg_shared_RotFrame_fixed,\n",
    "            rotMode=SALPY_ATPtg.ATPtg_shared_RotMode_field,\n",
    "        )\n",
    "\n",
    "        print(f\"dra: {radec.ra.hour-cmd_radec.ra.hour}\")\n",
    "\n",
    "\n",
    "        print(f\"dec: {radec.dec.deg-cmd_radec.dec.deg}\")\n",
    "\n",
    "        \n",
    "        await r1.cmd_raDecTarget.start()\n",
    "        await wait_center()\n",
    "\n",
    "\n",
    "\n",
    "\n",
    "\n",
    "\n"
   ]
  },
  {
   "cell_type": "code",
   "execution_count": null,
   "metadata": {},
   "outputs": [],
   "source": []
  },
  {
   "cell_type": "code",
   "execution_count": null,
   "metadata": {},
   "outputs": [],
   "source": []
  },
  {
   "cell_type": "code",
   "execution_count": 763,
   "metadata": {},
   "outputs": [
    {
     "name": "stderr",
     "output_type": "stream",
     "text": [
      "RemoteEvent(ATMCS, 0, target) falling behind; read 100 messages\n",
      "RemoteTelemetry(ATPtg, 0, currentTargetStatus) falling behind; read 100 messages\n",
      "RemoteTelemetry(ATPtg, 0, timeAndDate) falling behind; read 100 messages\n",
      "RemoteTelemetry(ATMCS, 0, torqueDemand) falling behind; read 100 messages\n",
      "RemoteTelemetry(ATPtg, 0, mountStatus) falling behind; read 100 messages\n",
      "RemoteTelemetry(ATMCS, 0, mountMotorEncoders) falling behind; read 100 messages\n",
      "RemoteTelemetry(ATPtg, 0, guidingAndOffsets) falling behind; read 100 messages\n",
      "RemoteTelemetry(ATMCS, 0, mountEncoders) falling behind; read 100 messages\n",
      "RemoteTelemetry(ATPtg, 0, currentTimesToLimits) falling behind; read 10 messages\n",
      "RemoteTelemetry(ATMCS, 0, measuredTorque) falling behind; read 100 messages\n",
      "RemoteTelemetry(ATMCS, 0, measuredMotorVelocity) falling behind; read 100 messages\n",
      "AckCmdReader(ATMCS, 0, ackcmd) falling behind; read 100 messages\n",
      "falling behind; queue contains 99 elements\n",
      "falling behind; queue contains 98 elements\n",
      "falling behind; queue contains 97 elements\n",
      "falling behind; queue contains 99 elements\n",
      "falling behind; queue contains 98 elements\n",
      "falling behind; queue contains 97 elements\n"
     ]
    },
    {
     "name": "stdout",
     "output_type": "stream",
     "text": [
      "-5356.32arcsec\n",
      "540.046arcsec\n",
      "dra: -0.09919119223349071\n",
      "dec: 0.15001268417304914\n"
     ]
    },
    {
     "data": {
      "text/plain": [
       "<lsst.ts.salobj.ddsutil.ATPtg_ackcmd at 0x7f7358c2ee80>"
      ]
     },
     "execution_count": 763,
     "metadata": {},
     "output_type": "execute_result"
    }
   ],
   "source": [
    "radec = ICRS(Angle('22:57:39.04625', unit=u.hour),\n",
    "             Angle('-29:37:20.0533', unit=u.deg))\n",
    "\n",
    "mount = await r2.tel_mountEncoders.next(flush=True, timeout=1.)\n",
    "\n",
    "dalt14 = dalt13+0.02*u.deg\n",
    "daz14 = daz13-0.6*u.deg\n",
    "\n",
    "\n",
    "time_data = await r1.tel_timeAndDate.next(flush=True, timeout=2)\n",
    "curr_time_atptg = Time(time_data.tai, format=\"mjd\", scale=\"tai\")\n",
    "aa = AltAz(location=location, obstime=curr_time_atptg)\n",
    "alt_az = radec.transform_to(aa)\n",
    "\n",
    "cmd_elaz = AltAz(alt=alt_az.alt+dalt14, az=alt_az.az+daz14, \n",
    "                 obstime=curr_time_atptg.tai, \n",
    "                 location=location)\n",
    "cmd_radec = cmd_elaz.transform_to(ICRS)\n",
    "\n",
    "\n",
    "r1.cmd_raDecTarget.set(\n",
    "    targetName=\"Alpha PsA\",\n",
    "    targetInstance=SALPY_ATPtg.ATPtg_shared_TargetInstances_current,\n",
    "    frame=SALPY_ATPtg.ATPtg_shared_CoordFrame_icrs,\n",
    "    epoch=2000,  # should be ignored: no parallax or proper motion\n",
    "    equinox=2000,  # should be ignored for ICRS\n",
    "    ra=radec.ra.hour,\n",
    "    declination=radec.dec.deg,\n",
    "    parallax=0,\n",
    "    pmRA=0,\n",
    "    pmDec=0,\n",
    "    rv=0,\n",
    "    dRA=0,\n",
    "    dDec=0,\n",
    "    rotPA=180.-44.,\n",
    "    rotFrame=SALPY_ATPtg.ATPtg_shared_RotFrame_fixed,\n",
    "    rotMode=SALPY_ATPtg.ATPtg_shared_RotMode_field,\n",
    ")\n",
    "\n",
    "ddra = radec.ra-cmd_radec.ra\n",
    "dddec = radec.dec-cmd_radec.dec\n",
    "print(ddra.to(u.arcsec))\n",
    "print(dddec.to(u.arcsec))\n",
    "print(f\"dra: {radec.ra.hour-cmd_radec.ra.hour}\")\n",
    "\n",
    "\n",
    "print(f\"dec: {radec.dec.deg-cmd_radec.dec.deg}\")\n",
    "\n",
    "await r1.cmd_raDecTarget.start()\n",
    "# await r1.cmd_raDecTarget.start(timeout=30.)"
   ]
  },
  {
   "cell_type": "code",
   "execution_count": 764,
   "metadata": {},
   "outputs": [
    {
     "name": "stderr",
     "output_type": "stream",
     "text": [
      "falling behind; queue contains 99 elements\n",
      "falling behind; queue contains 98 elements\n",
      "falling behind; queue contains 97 elements\n",
      "falling behind; queue contains 99 elements\n",
      "falling behind; queue contains 98 elements\n",
      "falling behind; queue contains 97 elements\n"
     ]
    },
    {
     "data": {
      "text/plain": [
       "<lsst.ts.salobj.ddsutil.ATPtg_ackcmd at 0x7f735b984630>"
      ]
     },
     "execution_count": 764,
     "metadata": {},
     "output_type": "execute_result"
    }
   ],
   "source": [
    "await r1.cmd_offsetRADec.set_start(off1=0., off2=-540.046, num=1)"
   ]
  },
  {
   "cell_type": "code",
   "execution_count": 770,
   "metadata": {},
   "outputs": [
    {
     "name": "stderr",
     "output_type": "stream",
     "text": [
      "falling behind; queue contains 99 elements\n",
      "falling behind; queue contains 98 elements\n",
      "falling behind; queue contains 97 elements\n"
     ]
    },
    {
     "data": {
      "text/plain": [
       "<lsst.ts.salobj.ddsutil.ATPtg_ackcmd at 0x7f735668e550>"
      ]
     },
     "execution_count": 770,
     "metadata": {},
     "output_type": "execute_result"
    },
    {
     "name": "stderr",
     "output_type": "stream",
     "text": [
      "falling behind; queue contains 99 elements\n",
      "falling behind; queue contains 98 elements\n",
      "falling behind; queue contains 97 elements\n"
     ]
    }
   ],
   "source": [
    "await r1.cmd_offsetRADec.set_start(off1=356.32, off2=0., num=1)"
   ]
  },
  {
   "cell_type": "code",
   "execution_count": null,
   "metadata": {},
   "outputs": [],
   "source": []
  },
  {
   "cell_type": "code",
   "execution_count": null,
   "metadata": {},
   "outputs": [],
   "source": []
  },
  {
   "cell_type": "markdown",
   "metadata": {},
   "source": [
    "# Alpha Aqr"
   ]
  },
  {
   "cell_type": "code",
   "execution_count": null,
   "metadata": {},
   "outputs": [],
   "source": []
  },
  {
   "cell_type": "code",
   "execution_count": 775,
   "metadata": {},
   "outputs": [
    {
     "name": "stderr",
     "output_type": "stream",
     "text": [
      "RemoteTelemetry(ATPtg, 0, timeAndDate) falling behind; read 100 messages\n",
      "AckCmdReader(ATMCS, 0, ackcmd) falling behind; read 100 messages\n",
      "falling behind; queue contains 99 elements\n",
      "falling behind; queue contains 98 elements\n",
      "falling behind; queue contains 97 elements\n",
      "RemoteTelemetry(ATPtg, 0, mountStatus) falling behind; read 100 messages\n",
      "RemoteTelemetry(ATMCS, 0, torqueDemand) falling behind; read 100 messages\n",
      "RemoteTelemetry(ATPtg, 0, guidingAndOffsets) falling behind; read 100 messages\n",
      "RemoteTelemetry(ATMCS, 0, mountMotorEncoders) falling behind; read 100 messages\n",
      "RemoteTelemetry(ATPtg, 0, currentTimesToLimits) falling behind; read 18 messages\n",
      "RemoteTelemetry(ATMCS, 0, mountEncoders) falling behind; read 100 messages\n",
      "RemoteTelemetry(ATPtg, 0, currentTargetStatus) falling behind; read 100 messages\n",
      "RemoteTelemetry(ATMCS, 0, measuredTorque) falling behind; read 100 messages\n",
      "RemoteTelemetry(ATMCS, 0, measuredMotorVelocity) falling behind; read 100 messages\n",
      "RemoteEvent(ATMCS, 0, target) falling behind; read 100 messages\n",
      "WARNING: Tried to get polar motions for times after IERS data is valid. Defaulting to polar motion from the 50-yr mean for those. This may affect precision at the 10s of arcsec level [astropy.coordinates.builtin_frames.utils]\n",
      "WARNING: (some) times are outside of range covered by IERS table. Assuming UT1-UTC=0 for coordinate transformations. [astropy.coordinates.builtin_frames.utils]\n",
      "falling behind; queue contains 99 elements\n",
      "falling behind; queue contains 98 elements\n",
      "falling behind; queue contains 97 elements\n",
      "falling behind; queue contains 99 elements\n",
      "falling behind; queue contains 98 elements\n",
      "falling behind; queue contains 97 elements\n"
     ]
    },
    {
     "name": "stdout",
     "output_type": "stream",
     "text": [
      "1 0\n",
      "dra: -0.02799194260288118\n",
      "dec: 0.9121087140042214\n"
     ]
    },
    {
     "name": "stdin",
     "output_type": "stream",
     "text": [
      "Center telescope and choose action (press ?<enter>, for list of actions):  s\n"
     ]
    },
    {
     "name": "stderr",
     "output_type": "stream",
     "text": [
      "falling behind; queue contains 99 elements\n",
      "falling behind; queue contains 98 elements\n",
      "falling behind; queue contains 97 elements\n",
      "falling behind; queue contains 99 elements\n",
      "falling behind; queue contains 98 elements\n",
      "falling behind; queue contains 97 elements\n",
      "falling behind; queue contains 99 elements\n",
      "falling behind; queue contains 98 elements\n",
      "falling behind; queue contains 97 elements\n",
      "falling behind; queue contains 99 elements\n",
      "falling behind; queue contains 98 elements\n",
      "falling behind; queue contains 97 elements\n",
      "falling behind; queue contains 99 elements\n",
      "falling behind; queue contains 98 elements\n",
      "falling behind; queue contains 97 elements\n"
     ]
    },
    {
     "name": "stdout",
     "output_type": "stream",
     "text": [
      "Skipping...\n",
      "1 1\n",
      "dra: -0.03361889334627577\n",
      "dec: 0.8413862197281725\n"
     ]
    },
    {
     "name": "stdin",
     "output_type": "stream",
     "text": [
      "Center telescope and choose action (press ?<enter>, for list of actions):  s\n"
     ]
    },
    {
     "name": "stderr",
     "output_type": "stream",
     "text": [
      "RemoteTelemetry(ATPtg, 0, timeAndDate) falling behind; read 12 messages\n",
      "falling behind; queue contains 99 elements\n",
      "falling behind; queue contains 98 elements\n",
      "falling behind; queue contains 97 elements\n",
      "falling behind; queue contains 99 elements\n",
      "falling behind; queue contains 98 elements\n",
      "falling behind; queue contains 97 elements\n",
      "falling behind; queue contains 99 elements\n",
      "falling behind; queue contains 98 elements\n",
      "falling behind; queue contains 97 elements\n",
      "falling behind; queue contains 99 elements\n",
      "falling behind; queue contains 98 elements\n",
      "falling behind; queue contains 97 elements\n",
      "falling behind; queue contains 99 elements\n",
      "falling behind; queue contains 98 elements\n",
      "falling behind; queue contains 97 elements\n",
      "falling behind; queue contains 99 elements\n",
      "falling behind; queue contains 98 elements\n",
      "falling behind; queue contains 97 elements\n",
      "falling behind; queue contains 56 elements\n",
      "falling behind; queue contains 55 elements\n"
     ]
    },
    {
     "name": "stdout",
     "output_type": "stream",
     "text": [
      "Skipping...\n",
      "1 2\n",
      "dra: -0.03907696325402199\n",
      "dec: 0.7717867984054849\n"
     ]
    },
    {
     "name": "stdin",
     "output_type": "stream",
     "text": [
      "Center telescope and choose action (press ?<enter>, for list of actions):  s\n"
     ]
    },
    {
     "name": "stderr",
     "output_type": "stream",
     "text": [
      "RemoteEvent(ATMCS, 0, target) falling behind; read 56 messages\n",
      "RemoteTelemetry(ATPtg, 0, timeAndDate) falling behind; read 14 messages\n",
      "RemoteTelemetry(ATPtg, 0, mountStatus) falling behind; read 14 messages\n",
      "RemoteTelemetry(ATPtg, 0, guidingAndOffsets) falling behind; read 14 messages\n",
      "RemoteTelemetry(ATPtg, 0, currentTargetStatus) falling behind; read 14 messages\n",
      "AckCmdReader(ATMCS, 0, ackcmd) falling behind; read 100 messages\n",
      "falling behind; queue contains 99 elements\n",
      "falling behind; queue contains 98 elements\n",
      "falling behind; queue contains 97 elements\n",
      "falling behind; queue contains 67 elements\n",
      "falling behind; queue contains 66 elements\n"
     ]
    },
    {
     "name": "stdout",
     "output_type": "stream",
     "text": [
      "Skipping...\n",
      "1 3\n",
      "dra: -0.044546398968684287\n",
      "dec: 0.7023020948623233\n"
     ]
    },
    {
     "name": "stdin",
     "output_type": "stream",
     "text": [
      "Center telescope and choose action (press ?<enter>, for list of actions):  s\n"
     ]
    },
    {
     "name": "stderr",
     "output_type": "stream",
     "text": [
      "AckCmdReader(ATMCS, 0, ackcmd) falling behind; read 100 messages\n",
      "RemoteTelemetry(ATPtg, 0, currentTargetStatus) falling behind; read 13 messages\n",
      "falling behind; queue contains 99 elements\n",
      "falling behind; queue contains 98 elements\n",
      "falling behind; queue contains 97 elements\n",
      "RemoteTelemetry(ATPtg, 0, timeAndDate) falling behind; read 13 messages\n",
      "RemoteTelemetry(ATPtg, 0, mountStatus) falling behind; read 13 messages\n",
      "RemoteTelemetry(ATMCS, 0, torqueDemand) falling behind; read 12 messages\n",
      "RemoteTelemetry(ATPtg, 0, guidingAndOffsets) falling behind; read 13 messages\n",
      "RemoteTelemetry(ATMCS, 0, mountMotorEncoders) falling behind; read 12 messages\n",
      "RemoteTelemetry(ATMCS, 0, mountEncoders) falling behind; read 12 messages\n",
      "RemoteTelemetry(ATMCS, 0, measuredTorque) falling behind; read 12 messages\n",
      "RemoteTelemetry(ATMCS, 0, measuredMotorVelocity) falling behind; read 12 messages\n",
      "RemoteEvent(ATMCS, 0, target) falling behind; read 53 messages\n",
      "falling behind; queue contains 57 elements\n",
      "falling behind; queue contains 56 elements\n"
     ]
    },
    {
     "name": "stdout",
     "output_type": "stream",
     "text": [
      "Skipping...\n",
      "1 4\n",
      "dra: -0.050025318231483595\n",
      "dec: 0.6329538349273975\n"
     ]
    },
    {
     "name": "stdin",
     "output_type": "stream",
     "text": [
      "Center telescope and choose action (press ?<enter>, for list of actions):  s\n"
     ]
    },
    {
     "name": "stderr",
     "output_type": "stream",
     "text": [
      "AckCmdReader(ATMCS, 0, ackcmd) falling behind; read 100 messages\n",
      "falling behind; queue contains 99 elements\n",
      "falling behind; queue contains 98 elements\n",
      "falling behind; queue contains 97 elements\n",
      "RemoteTelemetry(ATPtg, 0, timeAndDate) falling behind; read 11 messages\n",
      "RemoteTelemetry(ATPtg, 0, mountStatus) falling behind; read 12 messages\n",
      "RemoteTelemetry(ATMCS, 0, torqueDemand) falling behind; read 10 messages\n",
      "RemoteTelemetry(ATPtg, 0, guidingAndOffsets) falling behind; read 12 messages\n",
      "RemoteTelemetry(ATMCS, 0, mountMotorEncoders) falling behind; read 10 messages\n",
      "RemoteTelemetry(ATPtg, 0, currentTargetStatus) falling behind; read 12 messages\n",
      "RemoteTelemetry(ATMCS, 0, mountEncoders) falling behind; read 10 messages\n",
      "RemoteTelemetry(ATMCS, 0, measuredTorque) falling behind; read 10 messages\n",
      "RemoteTelemetry(ATMCS, 0, measuredMotorVelocity) falling behind; read 10 messages\n",
      "RemoteEvent(ATMCS, 0, target) falling behind; read 46 messages\n",
      "falling behind; queue contains 37 elements\n"
     ]
    },
    {
     "name": "stdout",
     "output_type": "stream",
     "text": [
      "Skipping...\n",
      "1 5\n",
      "dra: -0.055513081139839215\n",
      "dec: 0.5637604270141743\n"
     ]
    },
    {
     "name": "stdin",
     "output_type": "stream",
     "text": [
      "Center telescope and choose action (press ?<enter>, for list of actions):  s\n"
     ]
    },
    {
     "name": "stderr",
     "output_type": "stream",
     "text": [
      "AckCmdReader(ATMCS, 0, ackcmd) falling behind; read 100 messages\n",
      "falling behind; queue contains 99 elements\n",
      "falling behind; queue contains 98 elements\n",
      "falling behind; queue contains 97 elements\n",
      "RemoteTelemetry(ATPtg, 0, timeAndDate) falling behind; read 11 messages\n",
      "RemoteTelemetry(ATMCS, 0, torqueDemand) falling behind; read 10 messages\n",
      "RemoteTelemetry(ATMCS, 0, mountMotorEncoders) falling behind; read 10 messages\n",
      "RemoteTelemetry(ATMCS, 0, mountEncoders) falling behind; read 10 messages\n",
      "RemoteTelemetry(ATMCS, 0, measuredTorque) falling behind; read 10 messages\n",
      "RemoteTelemetry(ATMCS, 0, measuredMotorVelocity) falling behind; read 10 messages\n",
      "RemoteEvent(ATMCS, 0, target) falling behind; read 45 messages\n",
      "falling behind; queue contains 33 elements\n"
     ]
    },
    {
     "name": "stdout",
     "output_type": "stream",
     "text": [
      "Skipping...\n",
      "1 6\n",
      "dra: -0.06101094071155799\n",
      "dec: 0.4947044423079953\n"
     ]
    },
    {
     "name": "stdin",
     "output_type": "stream",
     "text": [
      "Center telescope and choose action (press ?<enter>, for list of actions):  s\n"
     ]
    },
    {
     "name": "stderr",
     "output_type": "stream",
     "text": [
      "AckCmdReader(ATMCS, 0, ackcmd) falling behind; read 100 messages\n",
      "falling behind; queue contains 99 elements\n",
      "falling behind; queue contains 98 elements\n",
      "falling behind; queue contains 97 elements\n",
      "RemoteTelemetry(ATPtg, 0, timeAndDate) falling behind; read 10 messages\n",
      "RemoteTelemetry(ATPtg, 0, mountStatus) falling behind; read 10 messages\n",
      "RemoteTelemetry(ATMCS, 0, torqueDemand) falling behind; read 10 messages\n",
      "RemoteTelemetry(ATPtg, 0, guidingAndOffsets) falling behind; read 10 messages\n",
      "RemoteTelemetry(ATMCS, 0, mountMotorEncoders) falling behind; read 10 messages\n",
      "RemoteTelemetry(ATPtg, 0, currentTargetStatus) falling behind; read 10 messages\n",
      "RemoteTelemetry(ATMCS, 0, mountEncoders) falling behind; read 10 messages\n",
      "RemoteTelemetry(ATMCS, 0, measuredTorque) falling behind; read 10 messages\n",
      "RemoteTelemetry(ATMCS, 0, measuredMotorVelocity) falling behind; read 10 messages\n",
      "RemoteEvent(ATMCS, 0, target) falling behind; read 41 messages\n",
      "falling behind; queue contains 22 elements\n"
     ]
    },
    {
     "name": "stdout",
     "output_type": "stream",
     "text": [
      "Skipping...\n",
      "2 0\n",
      "dra: -0.035463424354812645\n",
      "dec: 1.037312607037227\n"
     ]
    },
    {
     "name": "stdin",
     "output_type": "stream",
     "text": [
      "Center telescope and choose action (press ?<enter>, for list of actions):  s\n"
     ]
    },
    {
     "name": "stderr",
     "output_type": "stream",
     "text": [
      "AckCmdReader(ATMCS, 0, ackcmd) falling behind; read 100 messages\n",
      "falling behind; queue contains 99 elements\n",
      "falling behind; queue contains 98 elements\n",
      "falling behind; queue contains 97 elements\n",
      "RemoteTelemetry(ATPtg, 0, timeAndDate) falling behind; read 26 messages\n",
      "RemoteTelemetry(ATPtg, 0, mountStatus) falling behind; read 27 messages\n",
      "RemoteTelemetry(ATPtg, 0, guidingAndOffsets) falling behind; read 27 messages\n",
      "RemoteTelemetry(ATPtg, 0, currentTargetStatus) falling behind; read 27 messages\n",
      "RemoteEvent(ATMCS, 0, target) falling behind; read 100 messages\n",
      "falling behind; queue contains 99 elements\n",
      "falling behind; queue contains 98 elements\n",
      "falling behind; queue contains 97 elements\n",
      "falling behind; queue contains 99 elements\n",
      "falling behind; queue contains 98 elements\n",
      "falling behind; queue contains 97 elements\n",
      "falling behind; queue contains 18 elements\n"
     ]
    },
    {
     "name": "stdout",
     "output_type": "stream",
     "text": [
      "Skipping...\n",
      "2 1\n",
      "dra: -0.040904387966662625\n",
      "dec: 0.9675448980299164\n"
     ]
    },
    {
     "name": "stdin",
     "output_type": "stream",
     "text": [
      "Center telescope and choose action (press ?<enter>, for list of actions):  s\n"
     ]
    },
    {
     "name": "stderr",
     "output_type": "stream",
     "text": [
      "AckCmdReader(ATMCS, 0, ackcmd) falling behind; read 100 messages\n",
      "falling behind; queue contains 99 elements\n",
      "falling behind; queue contains 98 elements\n",
      "falling behind; queue contains 97 elements\n",
      "RemoteTelemetry(ATPtg, 0, timeAndDate) falling behind; read 11 messages\n",
      "RemoteTelemetry(ATMCS, 0, torqueDemand) falling behind; read 12 messages\n",
      "RemoteEvent(ATMCS, 0, target) falling behind; read 47 messages\n",
      "falling behind; queue contains 40 elements\n"
     ]
    },
    {
     "name": "stdout",
     "output_type": "stream",
     "text": [
      "Skipping...\n",
      "2 2\n",
      "dra: -0.046344557575064727\n",
      "dec: 0.8979846896399697\n"
     ]
    },
    {
     "name": "stdin",
     "output_type": "stream",
     "text": [
      "Center telescope and choose action (press ?<enter>, for list of actions):  s\n"
     ]
    },
    {
     "name": "stderr",
     "output_type": "stream",
     "text": [
      "AckCmdReader(ATMCS, 0, ackcmd) falling behind; read 100 messages\n",
      "falling behind; queue contains 99 elements\n",
      "falling behind; queue contains 98 elements\n",
      "falling behind; queue contains 97 elements\n",
      "RemoteTelemetry(ATPtg, 0, timeAndDate) falling behind; read 13 messages\n",
      "RemoteEvent(ATMCS, 0, target) falling behind; read 53 messages\n",
      "falling behind; queue contains 59 elements\n",
      "falling behind; queue contains 58 elements\n"
     ]
    },
    {
     "name": "stdout",
     "output_type": "stream",
     "text": [
      "Skipping...\n",
      "2 3\n",
      "dra: -0.051796286080069365\n",
      "dec: 0.8285396576193857\n"
     ]
    },
    {
     "name": "stdin",
     "output_type": "stream",
     "text": [
      "Center telescope and choose action (press ?<enter>, for list of actions):  s\n"
     ]
    },
    {
     "name": "stderr",
     "output_type": "stream",
     "text": [
      "AckCmdReader(ATMCS, 0, ackcmd) falling behind; read 100 messages\n",
      "falling behind; queue contains 99 elements\n",
      "falling behind; queue contains 98 elements\n",
      "falling behind; queue contains 97 elements\n",
      "RemoteTelemetry(ATPtg, 0, timeAndDate) falling behind; read 13 messages\n",
      "RemoteTelemetry(ATMCS, 0, torqueDemand) falling behind; read 14 messages\n",
      "RemoteTelemetry(ATMCS, 0, mountMotorEncoders) falling behind; read 14 messages\n",
      "RemoteTelemetry(ATMCS, 0, mountEncoders) falling behind; read 14 messages\n",
      "RemoteTelemetry(ATMCS, 0, measuredTorque) falling behind; read 14 messages\n",
      "RemoteTelemetry(ATMCS, 0, measuredMotorVelocity) falling behind; read 14 messages\n",
      "RemoteEvent(ATMCS, 0, target) falling behind; read 55 messages\n",
      "falling behind; queue contains 65 elements\n",
      "falling behind; queue contains 64 elements\n"
     ]
    },
    {
     "name": "stdout",
     "output_type": "stream",
     "text": [
      "Skipping...\n",
      "2 4\n",
      "dra: -0.05725811673179848\n",
      "dec: 0.7592234599004084\n"
     ]
    },
    {
     "name": "stdin",
     "output_type": "stream",
     "text": [
      "Center telescope and choose action (press ?<enter>, for list of actions):  s\n"
     ]
    },
    {
     "name": "stderr",
     "output_type": "stream",
     "text": [
      "AckCmdReader(ATMCS, 0, ackcmd) falling behind; read 100 messages\n",
      "falling behind; queue contains 99 elements\n",
      "falling behind; queue contains 98 elements\n",
      "falling behind; queue contains 97 elements\n",
      "RemoteTelemetry(ATPtg, 0, timeAndDate) falling behind; read 14 messages\n",
      "RemoteEvent(ATMCS, 0, target) falling behind; read 58 messages\n",
      "falling behind; queue contains 74 elements\n",
      "falling behind; queue contains 73 elements\n"
     ]
    },
    {
     "name": "stdout",
     "output_type": "stream",
     "text": [
      "Skipping...\n",
      "2 5\n",
      "dra: -0.06273078705354607\n",
      "dec: 0.6900225666833424\n"
     ]
    },
    {
     "name": "stdin",
     "output_type": "stream",
     "text": [
      "Center telescope and choose action (press ?<enter>, for list of actions):  s\n"
     ]
    },
    {
     "name": "stderr",
     "output_type": "stream",
     "text": [
      "AckCmdReader(ATMCS, 0, ackcmd) falling behind; read 100 messages\n",
      "falling behind; queue contains 99 elements\n",
      "falling behind; queue contains 98 elements\n",
      "falling behind; queue contains 97 elements\n",
      "RemoteTelemetry(ATPtg, 0, timeAndDate) falling behind; read 14 messages\n",
      "RemoteEvent(ATMCS, 0, target) falling behind; read 56 messages\n",
      "falling behind; queue contains 70 elements\n",
      "falling behind; queue contains 69 elements\n"
     ]
    },
    {
     "name": "stdout",
     "output_type": "stream",
     "text": [
      "Skipping...\n",
      "2 6\n",
      "dra: -0.06821355419387132\n",
      "dec: 0.6209477973690591\n"
     ]
    },
    {
     "name": "stdin",
     "output_type": "stream",
     "text": [
      "Center telescope and choose action (press ?<enter>, for list of actions):  s\n"
     ]
    },
    {
     "name": "stderr",
     "output_type": "stream",
     "text": [
      "AckCmdReader(ATMCS, 0, ackcmd) falling behind; read 100 messages\n",
      "falling behind; queue contains 99 elements\n",
      "falling behind; queue contains 98 elements\n",
      "falling behind; queue contains 97 elements\n",
      "RemoteTelemetry(ATPtg, 0, timeAndDate) falling behind; read 13 messages\n",
      "RemoteTelemetry(ATPtg, 0, mountStatus) falling behind; read 14 messages\n",
      "RemoteTelemetry(ATMCS, 0, torqueDemand) falling behind; read 14 messages\n",
      "RemoteTelemetry(ATPtg, 0, guidingAndOffsets) falling behind; read 14 messages\n",
      "RemoteTelemetry(ATMCS, 0, mountMotorEncoders) falling behind; read 14 messages\n",
      "RemoteTelemetry(ATPtg, 0, currentTargetStatus) falling behind; read 14 messages\n",
      "RemoteTelemetry(ATMCS, 0, mountEncoders) falling behind; read 14 messages\n",
      "RemoteTelemetry(ATMCS, 0, measuredTorque) falling behind; read 14 messages\n",
      "RemoteTelemetry(ATMCS, 0, measuredMotorVelocity) falling behind; read 14 messages\n",
      "RemoteEvent(ATMCS, 0, target) falling behind; read 54 messages\n",
      "falling behind; queue contains 64 elements\n",
      "falling behind; queue contains 63 elements\n"
     ]
    },
    {
     "name": "stdout",
     "output_type": "stream",
     "text": [
      "Skipping...\n",
      "3 0\n",
      "dra: -0.04279309277691823\n",
      "dec: 1.163126236900407\n"
     ]
    },
    {
     "name": "stdin",
     "output_type": "stream",
     "text": [
      "Center telescope and choose action (press ?<enter>, for list of actions):  s\n"
     ]
    },
    {
     "name": "stderr",
     "output_type": "stream",
     "text": [
      "falling behind; queue contains 99 elements\n",
      "falling behind; queue contains 98 elements\n",
      "falling behind; queue contains 97 elements\n",
      "RemoteTelemetry(ATPtg, 0, timeAndDate) falling behind; read 20 messages\n",
      "RemoteEvent(ATMCS, 0, target) falling behind; read 80 messages\n",
      "falling behind; queue contains 99 elements\n",
      "falling behind; queue contains 98 elements\n",
      "falling behind; queue contains 97 elements\n",
      "falling behind; queue contains 39 elements\n"
     ]
    },
    {
     "name": "stdout",
     "output_type": "stream",
     "text": [
      "Skipping...\n",
      "3 1\n",
      "dra: -0.04821338306932432\n",
      "dec: 1.0934068125034326\n"
     ]
    },
    {
     "name": "stdin",
     "output_type": "stream",
     "text": [
      "Center telescope and choose action (press ?<enter>, for list of actions):  s\n"
     ]
    },
    {
     "name": "stderr",
     "output_type": "stream",
     "text": [
      "AckCmdReader(ATMCS, 0, ackcmd) falling behind; read 100 messages\n",
      "RemoteTelemetry(ATPtg, 0, currentTargetStatus) falling behind; read 16 messages\n",
      "falling behind; queue contains 99 elements\n",
      "falling behind; queue contains 98 elements\n",
      "falling behind; queue contains 97 elements\n",
      "RemoteTelemetry(ATPtg, 0, timeAndDate) falling behind; read 16 messages\n",
      "RemoteTelemetry(ATPtg, 0, mountStatus) falling behind; read 16 messages\n",
      "RemoteTelemetry(ATPtg, 0, guidingAndOffsets) falling behind; read 16 messages\n",
      "RemoteEvent(ATMCS, 0, target) falling behind; read 64 messages\n",
      "falling behind; queue contains 91 elements\n",
      "falling behind; queue contains 90 elements\n"
     ]
    },
    {
     "name": "stdout",
     "output_type": "stream",
     "text": [
      "Skipping...\n",
      "3 2\n",
      "dra: -0.05364046923397581\n",
      "dec: 1.0238287359143365\n"
     ]
    },
    {
     "name": "stdin",
     "output_type": "stream",
     "text": [
      "Center telescope and choose action (press ?<enter>, for list of actions):  s\n"
     ]
    },
    {
     "name": "stderr",
     "output_type": "stream",
     "text": [
      "AckCmdReader(ATMCS, 0, ackcmd) falling behind; read 100 messages\n",
      "RemoteTelemetry(ATPtg, 0, currentTargetStatus) falling behind; read 15 messages\n",
      "falling behind; queue contains 99 elements\n",
      "falling behind; queue contains 98 elements\n",
      "falling behind; queue contains 97 elements\n",
      "RemoteTelemetry(ATPtg, 0, timeAndDate) falling behind; read 14 messages\n",
      "RemoteTelemetry(ATPtg, 0, mountStatus) falling behind; read 15 messages\n",
      "RemoteTelemetry(ATMCS, 0, torqueDemand) falling behind; read 14 messages\n",
      "RemoteTelemetry(ATPtg, 0, guidingAndOffsets) falling behind; read 15 messages\n",
      "RemoteTelemetry(ATMCS, 0, mountMotorEncoders) falling behind; read 14 messages\n",
      "RemoteTelemetry(ATMCS, 0, mountEncoders) falling behind; read 14 messages\n",
      "RemoteTelemetry(ATMCS, 0, measuredTorque) falling behind; read 14 messages\n",
      "RemoteTelemetry(ATMCS, 0, measuredMotorVelocity) falling behind; read 14 messages\n",
      "RemoteEvent(ATMCS, 0, target) falling behind; read 57 messages\n",
      "falling behind; queue contains 72 elements\n",
      "falling behind; queue contains 71 elements\n"
     ]
    },
    {
     "name": "stdout",
     "output_type": "stream",
     "text": [
      "Skipping...\n",
      "3 3\n",
      "dra: -0.05907599249099604\n",
      "dec: 0.9543909586107533\n"
     ]
    },
    {
     "name": "stdin",
     "output_type": "stream",
     "text": [
      "Center telescope and choose action (press ?<enter>, for list of actions):  s\n"
     ]
    },
    {
     "name": "stderr",
     "output_type": "stream",
     "text": [
      "RemoteEvent(ATMCS, 0, target) falling behind; read 55 messages\n",
      "RemoteTelemetry(ATPtg, 0, timeAndDate) falling behind; read 13 messages\n",
      "AckCmdReader(ATMCS, 0, ackcmd) falling behind; read 100 messages\n",
      "falling behind; queue contains 99 elements\n",
      "falling behind; queue contains 98 elements\n",
      "falling behind; queue contains 97 elements\n",
      "falling behind; queue contains 62 elements\n",
      "falling behind; queue contains 61 elements\n"
     ]
    },
    {
     "name": "stdout",
     "output_type": "stream",
     "text": [
      "Skipping...\n",
      "3 4\n",
      "dra: -0.06452077895723107\n",
      "dec: 0.8850912806751103\n"
     ]
    },
    {
     "name": "stdin",
     "output_type": "stream",
     "text": [
      "Center telescope and choose action (press ?<enter>, for list of actions):  s\n"
     ]
    },
    {
     "name": "stderr",
     "output_type": "stream",
     "text": [
      "AckCmdReader(ATMCS, 0, ackcmd) falling behind; read 100 messages\n",
      "falling behind; queue contains 99 elements\n",
      "falling behind; queue contains 98 elements\n",
      "falling behind; queue contains 97 elements\n",
      "RemoteTelemetry(ATPtg, 0, timeAndDate) falling behind; read 13 messages\n",
      "RemoteEvent(ATMCS, 0, target) falling behind; read 52 messages\n",
      "falling behind; queue contains 55 elements\n",
      "falling behind; queue contains 54 elements\n"
     ]
    },
    {
     "name": "stdout",
     "output_type": "stream",
     "text": [
      "Skipping...\n",
      "3 5\n",
      "dra: -0.06997565227067071\n",
      "dec: 0.8159204320383135\n"
     ]
    },
    {
     "name": "stdin",
     "output_type": "stream",
     "text": [
      "Center telescope and choose action (press ?<enter>, for list of actions):  s\n"
     ]
    },
    {
     "name": "stderr",
     "output_type": "stream",
     "text": [
      "AckCmdReader(ATMCS, 0, ackcmd) falling behind; read 100 messages\n",
      "RemoteTelemetry(ATPtg, 0, currentTargetStatus) falling behind; read 13 messages\n",
      "falling behind; queue contains 99 elements\n",
      "falling behind; queue contains 98 elements\n",
      "falling behind; queue contains 97 elements\n",
      "RemoteTelemetry(ATPtg, 0, timeAndDate) falling behind; read 12 messages\n",
      "RemoteTelemetry(ATPtg, 0, mountStatus) falling behind; read 13 messages\n",
      "RemoteTelemetry(ATPtg, 0, guidingAndOffsets) falling behind; read 13 messages\n",
      "RemoteEvent(ATMCS, 0, target) falling behind; read 52 messages\n",
      "falling behind; queue contains 53 elements\n",
      "falling behind; queue contains 52 elements\n"
     ]
    },
    {
     "name": "stdout",
     "output_type": "stream",
     "text": [
      "Skipping...\n",
      "3 6\n",
      "dra: -0.07543976972689848\n",
      "dec: 0.7468957936415181\n"
     ]
    },
    {
     "name": "stdin",
     "output_type": "stream",
     "text": [
      "Center telescope and choose action (press ?<enter>, for list of actions):  s\n"
     ]
    },
    {
     "name": "stderr",
     "output_type": "stream",
     "text": [
      "AckCmdReader(ATMCS, 0, ackcmd) falling behind; read 100 messages\n",
      "falling behind; queue contains 99 elements\n",
      "falling behind; queue contains 98 elements\n",
      "falling behind; queue contains 97 elements\n",
      "RemoteTelemetry(ATPtg, 0, timeAndDate) falling behind; read 13 messages\n",
      "falling behind; queue contains 53 elements\n",
      "falling behind; queue contains 52 elements\n"
     ]
    },
    {
     "name": "stdout",
     "output_type": "stream",
     "text": [
      "Skipping...\n",
      "4 0\n",
      "dra: -0.05014397899565637\n",
      "dec: 1.2886541152005722\n"
     ]
    },
    {
     "name": "stdin",
     "output_type": "stream",
     "text": [
      "Center telescope and choose action (press ?<enter>, for list of actions):  s\n"
     ]
    },
    {
     "name": "stderr",
     "output_type": "stream",
     "text": [
      "AckCmdReader(ATMCS, 0, ackcmd) falling behind; read 100 messages\n",
      "falling behind; queue contains 99 elements\n",
      "falling behind; queue contains 98 elements\n",
      "falling behind; queue contains 97 elements\n",
      "RemoteTelemetry(ATPtg, 0, timeAndDate) falling behind; read 19 messages\n",
      "RemoteTelemetry(ATPtg, 0, mountStatus) falling behind; read 19 messages\n",
      "RemoteTelemetry(ATMCS, 0, torqueDemand) falling behind; read 18 messages\n",
      "RemoteTelemetry(ATPtg, 0, guidingAndOffsets) falling behind; read 20 messages\n",
      "RemoteTelemetry(ATMCS, 0, mountMotorEncoders) falling behind; read 19 messages\n",
      "RemoteTelemetry(ATMCS, 0, mountEncoders) falling behind; read 19 messages\n",
      "RemoteTelemetry(ATPtg, 0, currentTargetStatus) falling behind; read 20 messages\n",
      "RemoteTelemetry(ATMCS, 0, measuredTorque) falling behind; read 20 messages\n",
      "RemoteTelemetry(ATMCS, 0, measuredMotorVelocity) falling behind; read 20 messages\n",
      "RemoteEvent(ATMCS, 0, target) falling behind; read 77 messages\n",
      "falling behind; queue contains 99 elements\n",
      "falling behind; queue contains 98 elements\n",
      "falling behind; queue contains 97 elements\n",
      "falling behind; queue contains 31 elements\n"
     ]
    },
    {
     "name": "stdout",
     "output_type": "stream",
     "text": [
      "Skipping...\n",
      "4 1\n",
      "dra: -0.055547041721254686\n",
      "dec: 1.2189588376086467\n"
     ]
    },
    {
     "name": "stdin",
     "output_type": "stream",
     "text": [
      "Center telescope and choose action (press ?<enter>, for list of actions):  s\n"
     ]
    },
    {
     "name": "stderr",
     "output_type": "stream",
     "text": [
      "AckCmdReader(ATMCS, 0, ackcmd) falling behind; read 100 messages\n",
      "falling behind; queue contains 99 elements\n",
      "falling behind; queue contains 98 elements\n",
      "falling behind; queue contains 97 elements\n",
      "RemoteTelemetry(ATPtg, 0, timeAndDate) falling behind; read 13 messages\n",
      "RemoteTelemetry(ATPtg, 0, mountStatus) falling behind; read 13 messages\n",
      "RemoteTelemetry(ATMCS, 0, mountMotorEncoders) falling behind; read 12 messages\n",
      "RemoteTelemetry(ATMCS, 0, mountEncoders) falling behind; read 12 messages\n",
      "RemoteEvent(ATMCS, 0, target) falling behind; read 52 messages\n",
      "falling behind; queue contains 58 elements\n",
      "falling behind; queue contains 57 elements\n"
     ]
    },
    {
     "name": "stdout",
     "output_type": "stream",
     "text": [
      "Skipping...\n",
      "4 2\n",
      "dra: -0.06095460453889956\n",
      "dec: 1.149435800796377\n"
     ]
    },
    {
     "name": "stdin",
     "output_type": "stream",
     "text": [
      "Center telescope and choose action (press ?<enter>, for list of actions):  s\n"
     ]
    },
    {
     "name": "stderr",
     "output_type": "stream",
     "text": [
      "AckCmdReader(ATMCS, 0, ackcmd) falling behind; read 100 messages\n",
      "RemoteTelemetry(ATPtg, 0, currentTargetStatus) falling behind; read 16 messages\n",
      "falling behind; queue contains 99 elements\n",
      "falling behind; queue contains 98 elements\n",
      "falling behind; queue contains 97 elements\n",
      "RemoteTelemetry(ATMCS, 0, torqueDemand) falling behind; read 16 messages\n",
      "RemoteTelemetry(ATPtg, 0, timeAndDate) falling behind; read 16 messages\n",
      "RemoteTelemetry(ATMCS, 0, mountMotorEncoders) falling behind; read 16 messages\n",
      "RemoteTelemetry(ATPtg, 0, mountStatus) falling behind; read 16 messages\n",
      "RemoteTelemetry(ATMCS, 0, mountEncoders) falling behind; read 16 messages\n",
      "RemoteTelemetry(ATPtg, 0, guidingAndOffsets) falling behind; read 16 messages\n",
      "RemoteTelemetry(ATMCS, 0, measuredTorque) falling behind; read 16 messages\n",
      "RemoteTelemetry(ATMCS, 0, measuredMotorVelocity) falling behind; read 16 messages\n",
      "RemoteEvent(ATMCS, 0, target) falling behind; read 64 messages\n",
      "falling behind; queue contains 90 elements\n",
      "falling behind; queue contains 89 elements\n"
     ]
    },
    {
     "name": "stdout",
     "output_type": "stream",
     "text": [
      "Skipping...\n",
      "4 3\n",
      "dra: -0.06637507118354335\n",
      "dec: 1.0800013759313134\n"
     ]
    },
    {
     "name": "stdin",
     "output_type": "stream",
     "text": [
      "Center telescope and choose action (press ?<enter>, for list of actions):  s\n"
     ]
    },
    {
     "name": "stderr",
     "output_type": "stream",
     "text": [
      "AckCmdReader(ATMCS, 0, ackcmd) falling behind; read 100 messages\n",
      "falling behind; queue contains 99 elements\n",
      "falling behind; queue contains 98 elements\n",
      "falling behind; queue contains 97 elements\n",
      "RemoteTelemetry(ATPtg, 0, timeAndDate) falling behind; read 14 messages\n",
      "RemoteTelemetry(ATPtg, 0, mountStatus) falling behind; read 15 messages\n",
      "RemoteTelemetry(ATPtg, 0, guidingAndOffsets) falling behind; read 15 messages\n",
      "RemoteTelemetry(ATPtg, 0, currentTargetStatus) falling behind; read 15 messages\n",
      "RemoteEvent(ATMCS, 0, target) falling behind; read 57 messages\n",
      "falling behind; queue contains 72 elements\n",
      "falling behind; queue contains 71 elements\n"
     ]
    },
    {
     "name": "stdout",
     "output_type": "stream",
     "text": [
      "Skipping...\n",
      "4 4\n",
      "dra: -0.07180376093587881\n",
      "dec: 1.010713421259978\n"
     ]
    },
    {
     "name": "stdin",
     "output_type": "stream",
     "text": [
      "Center telescope and choose action (press ?<enter>, for list of actions):  s\n"
     ]
    },
    {
     "name": "stderr",
     "output_type": "stream",
     "text": [
      "AckCmdReader(ATMCS, 0, ackcmd) falling behind; read 100 messages\n",
      "falling behind; queue contains 99 elements\n",
      "falling behind; queue contains 98 elements\n",
      "falling behind; queue contains 97 elements\n",
      "RemoteTelemetry(ATPtg, 0, timeAndDate) falling behind; read 26 messages\n",
      "RemoteEvent(ATMCS, 0, target) falling behind; read 100 messages\n",
      "falling behind; queue contains 99 elements\n",
      "falling behind; queue contains 98 elements\n",
      "falling behind; queue contains 97 elements\n",
      "falling behind; queue contains 99 elements\n",
      "falling behind; queue contains 98 elements\n",
      "falling behind; queue contains 97 elements\n",
      "falling behind; queue contains 16 elements\n"
     ]
    },
    {
     "name": "stdout",
     "output_type": "stream",
     "text": [
      "Skipping...\n",
      "4 5\n",
      "dra: -0.07725388288429968\n",
      "dec: 0.9413512458709525\n"
     ]
    },
    {
     "name": "stdin",
     "output_type": "stream",
     "text": [
      "Center telescope and choose action (press ?<enter>, for list of actions):  s\n"
     ]
    },
    {
     "name": "stderr",
     "output_type": "stream",
     "text": [
      "AckCmdReader(ATMCS, 0, ackcmd) falling behind; read 100 messages\n",
      "falling behind; queue contains 99 elements\n",
      "falling behind; queue contains 98 elements\n",
      "falling behind; queue contains 97 elements\n",
      "RemoteTelemetry(ATPtg, 0, timeAndDate) falling behind; read 14 messages\n",
      "RemoteEvent(ATMCS, 0, target) falling behind; read 56 messages\n",
      "falling behind; queue contains 69 elements\n",
      "falling behind; queue contains 68 elements\n"
     ]
    },
    {
     "name": "stdout",
     "output_type": "stream",
     "text": [
      "Skipping...\n",
      "4 6\n",
      "dra: -0.08270278557061062\n",
      "dec: 0.8722913245166164\n"
     ]
    },
    {
     "name": "stdin",
     "output_type": "stream",
     "text": [
      "Center telescope and choose action (press ?<enter>, for list of actions):  s\n"
     ]
    },
    {
     "name": "stderr",
     "output_type": "stream",
     "text": [
      "RemoteTelemetry(ATPtg, 0, currentTargetStatus) falling behind; read 15 messages\n",
      "RemoteTelemetry(ATMCS, 0, torqueDemand) falling behind; read 14 messages\n",
      "RemoteTelemetry(ATPtg, 0, timeAndDate) falling behind; read 14 messages\n",
      "RemoteTelemetry(ATPtg, 0, mountStatus) falling behind; read 15 messages\n",
      "RemoteTelemetry(ATPtg, 0, guidingAndOffsets) falling behind; read 15 messages\n",
      "RemoteEvent(ATMCS, 0, target) falling behind; read 57 messages\n",
      "AckCmdReader(ATMCS, 0, ackcmd) falling behind; read 100 messages\n",
      "falling behind; queue contains 99 elements\n",
      "falling behind; queue contains 98 elements\n",
      "falling behind; queue contains 97 elements\n",
      "falling behind; queue contains 70 elements\n",
      "falling behind; queue contains 69 elements\n"
     ]
    },
    {
     "name": "stdout",
     "output_type": "stream",
     "text": [
      "Skipping...\n",
      "5 0\n",
      "dra: -0.057533671521238006\n",
      "dec: 1.4137487877340078\n"
     ]
    },
    {
     "name": "stdin",
     "output_type": "stream",
     "text": [
      "Center telescope and choose action (press ?<enter>, for list of actions):  s\n"
     ]
    },
    {
     "name": "stderr",
     "output_type": "stream",
     "text": [
      "AckCmdReader(ATMCS, 0, ackcmd) falling behind; read 100 messages\n",
      "falling behind; queue contains 99 elements\n",
      "falling behind; queue contains 98 elements\n",
      "falling behind; queue contains 97 elements\n",
      "RemoteTelemetry(ATPtg, 0, timeAndDate) falling behind; read 51 messages\n",
      "RemoteEvent(ATMCS, 0, target) falling behind; read 100 messages\n",
      "falling behind; queue contains 99 elements\n",
      "falling behind; queue contains 98 elements\n",
      "falling behind; queue contains 97 elements\n",
      "falling behind; queue contains 99 elements\n",
      "falling behind; queue contains 98 elements\n",
      "falling behind; queue contains 97 elements\n",
      "falling behind; queue contains 99 elements\n",
      "falling behind; queue contains 98 elements\n",
      "falling behind; queue contains 97 elements\n"
     ]
    },
    {
     "name": "stdout",
     "output_type": "stream",
     "text": [
      "Skipping...\n",
      "5 1\n",
      "dra: -0.06295349410982354\n",
      "dec: 1.3437015759251472\n"
     ]
    },
    {
     "name": "stdin",
     "output_type": "stream",
     "text": [
      "Center telescope and choose action (press ?<enter>, for list of actions):  s\n"
     ]
    },
    {
     "name": "stderr",
     "output_type": "stream",
     "text": [
      "RemoteTelemetry(ATPtg, 0, timeAndDate) falling behind; read 11 messages\n",
      "falling behind; queue contains 99 elements\n",
      "falling behind; queue contains 98 elements\n",
      "falling behind; queue contains 97 elements\n",
      "falling behind; queue contains 99 elements\n",
      "falling behind; queue contains 98 elements\n",
      "falling behind; queue contains 97 elements\n",
      "falling behind; queue contains 99 elements\n",
      "falling behind; queue contains 98 elements\n",
      "falling behind; queue contains 97 elements\n",
      "falling behind; queue contains 64 elements\n",
      "falling behind; queue contains 63 elements\n"
     ]
    },
    {
     "name": "stdout",
     "output_type": "stream",
     "text": [
      "Skipping...\n",
      "5 2\n",
      "dra: -0.06834212962769115\n",
      "dec: 1.2741433145344025\n"
     ]
    },
    {
     "ename": "KeyboardInterrupt",
     "evalue": "",
     "output_type": "error",
     "traceback": [
      "\u001b[0;31m\u001b[0m",
      "\u001b[0;31mKeyboardInterrupt\u001b[0mTraceback (most recent call last)",
      "\u001b[0;32m/opt/lsst/software/stack/python/miniconda3-4.5.12/envs/lsst-scipipe-1172c30/lib/python3.7/site-packages/ipykernel/kernelbase.py\u001b[0m in \u001b[0;36m_input_request\u001b[0;34m(self, prompt, ident, parent, password)\u001b[0m\n\u001b[1;32m    884\u001b[0m             \u001b[0;32mtry\u001b[0m\u001b[0;34m:\u001b[0m\u001b[0;34m\u001b[0m\u001b[0;34m\u001b[0m\u001b[0m\n\u001b[0;32m--> 885\u001b[0;31m                 \u001b[0mident\u001b[0m\u001b[0;34m,\u001b[0m \u001b[0mreply\u001b[0m \u001b[0;34m=\u001b[0m \u001b[0mself\u001b[0m\u001b[0;34m.\u001b[0m\u001b[0msession\u001b[0m\u001b[0;34m.\u001b[0m\u001b[0mrecv\u001b[0m\u001b[0;34m(\u001b[0m\u001b[0mself\u001b[0m\u001b[0;34m.\u001b[0m\u001b[0mstdin_socket\u001b[0m\u001b[0;34m,\u001b[0m \u001b[0;36m0\u001b[0m\u001b[0;34m)\u001b[0m\u001b[0;34m\u001b[0m\u001b[0;34m\u001b[0m\u001b[0m\n\u001b[0m\u001b[1;32m    886\u001b[0m             \u001b[0;32mexcept\u001b[0m \u001b[0mException\u001b[0m\u001b[0;34m:\u001b[0m\u001b[0;34m\u001b[0m\u001b[0;34m\u001b[0m\u001b[0m\n",
      "\u001b[0;32m/opt/lsst/software/stack/python/miniconda3-4.5.12/envs/lsst-scipipe-1172c30/lib/python3.7/site-packages/jupyter_client/session.py\u001b[0m in \u001b[0;36mrecv\u001b[0;34m(self, socket, mode, content, copy)\u001b[0m\n\u001b[1;32m    802\u001b[0m         \u001b[0;32mtry\u001b[0m\u001b[0;34m:\u001b[0m\u001b[0;34m\u001b[0m\u001b[0;34m\u001b[0m\u001b[0m\n\u001b[0;32m--> 803\u001b[0;31m             \u001b[0mmsg_list\u001b[0m \u001b[0;34m=\u001b[0m \u001b[0msocket\u001b[0m\u001b[0;34m.\u001b[0m\u001b[0mrecv_multipart\u001b[0m\u001b[0;34m(\u001b[0m\u001b[0mmode\u001b[0m\u001b[0;34m,\u001b[0m \u001b[0mcopy\u001b[0m\u001b[0;34m=\u001b[0m\u001b[0mcopy\u001b[0m\u001b[0;34m)\u001b[0m\u001b[0;34m\u001b[0m\u001b[0;34m\u001b[0m\u001b[0m\n\u001b[0m\u001b[1;32m    804\u001b[0m         \u001b[0;32mexcept\u001b[0m \u001b[0mzmq\u001b[0m\u001b[0;34m.\u001b[0m\u001b[0mZMQError\u001b[0m \u001b[0;32mas\u001b[0m \u001b[0me\u001b[0m\u001b[0;34m:\u001b[0m\u001b[0;34m\u001b[0m\u001b[0;34m\u001b[0m\u001b[0m\n",
      "\u001b[0;32m/opt/lsst/software/stack/python/miniconda3-4.5.12/envs/lsst-scipipe-1172c30/lib/python3.7/site-packages/zmq/sugar/socket.py\u001b[0m in \u001b[0;36mrecv_multipart\u001b[0;34m(self, flags, copy, track)\u001b[0m\n\u001b[1;32m    469\u001b[0m         \"\"\"\n\u001b[0;32m--> 470\u001b[0;31m         \u001b[0mparts\u001b[0m \u001b[0;34m=\u001b[0m \u001b[0;34m[\u001b[0m\u001b[0mself\u001b[0m\u001b[0;34m.\u001b[0m\u001b[0mrecv\u001b[0m\u001b[0;34m(\u001b[0m\u001b[0mflags\u001b[0m\u001b[0;34m,\u001b[0m \u001b[0mcopy\u001b[0m\u001b[0;34m=\u001b[0m\u001b[0mcopy\u001b[0m\u001b[0;34m,\u001b[0m \u001b[0mtrack\u001b[0m\u001b[0;34m=\u001b[0m\u001b[0mtrack\u001b[0m\u001b[0;34m)\u001b[0m\u001b[0;34m]\u001b[0m\u001b[0;34m\u001b[0m\u001b[0;34m\u001b[0m\u001b[0m\n\u001b[0m\u001b[1;32m    471\u001b[0m         \u001b[0;31m# have first part already, only loop while more to receive\u001b[0m\u001b[0;34m\u001b[0m\u001b[0;34m\u001b[0m\u001b[0;34m\u001b[0m\u001b[0m\n",
      "\u001b[0;32mzmq/backend/cython/socket.pyx\u001b[0m in \u001b[0;36mzmq.backend.cython.socket.Socket.recv\u001b[0;34m()\u001b[0m\n",
      "\u001b[0;32mzmq/backend/cython/socket.pyx\u001b[0m in \u001b[0;36mzmq.backend.cython.socket.Socket.recv\u001b[0;34m()\u001b[0m\n",
      "\u001b[0;32mzmq/backend/cython/socket.pyx\u001b[0m in \u001b[0;36mzmq.backend.cython.socket._recv_copy\u001b[0;34m()\u001b[0m\n",
      "\u001b[0;32m/opt/lsst/software/stack/python/miniconda3-4.5.12/envs/lsst-scipipe-1172c30/lib/python3.7/site-packages/zmq/backend/cython/checkrc.pxd\u001b[0m in \u001b[0;36mzmq.backend.cython.checkrc._check_rc\u001b[0;34m()\u001b[0m\n",
      "\u001b[0;31mKeyboardInterrupt\u001b[0m: ",
      "\nDuring handling of the above exception, another exception occurred:\n",
      "\u001b[0;31mKeyboardInterrupt\u001b[0mTraceback (most recent call last)",
      "\u001b[0;32m<ipython-input-775-b9260351e56a>\u001b[0m in \u001b[0;36masync-def-wrapper\u001b[0;34m()\u001b[0m\n\u001b[1;32m     58\u001b[0m \u001b[0;34m\u001b[0m\u001b[0m\n\u001b[1;32m     59\u001b[0m \u001b[0;34m\u001b[0m\u001b[0m\n\u001b[0;32m---> 60\u001b[0;31m \u001b[0;34m\u001b[0m\u001b[0m\n\u001b[0m\u001b[1;32m     61\u001b[0m \u001b[0;34m\u001b[0m\u001b[0m\n\u001b[1;32m     62\u001b[0m \u001b[0;34m\u001b[0m\u001b[0m\n",
      "\u001b[0;32m<ipython-input-80-10450e230a9e>\u001b[0m in \u001b[0;36mwait_center\u001b[0;34m()\u001b[0m\n\u001b[1;32m      1\u001b[0m \u001b[0;32masync\u001b[0m \u001b[0;32mdef\u001b[0m \u001b[0mwait_center\u001b[0m\u001b[0;34m(\u001b[0m\u001b[0;34m)\u001b[0m\u001b[0;34m:\u001b[0m\u001b[0;34m\u001b[0m\u001b[0;34m\u001b[0m\u001b[0m\n\u001b[1;32m      2\u001b[0m     \u001b[0;32mwhile\u001b[0m \u001b[0;32mTrue\u001b[0m\u001b[0;34m:\u001b[0m\u001b[0;34m\u001b[0m\u001b[0;34m\u001b[0m\u001b[0m\n\u001b[0;32m----> 3\u001b[0;31m         \u001b[0mopt\u001b[0m \u001b[0;34m=\u001b[0m \u001b[0minput\u001b[0m\u001b[0;34m(\u001b[0m\u001b[0;34m\"Center telescope and choose action (press ?<enter>, for list of actions): \"\u001b[0m\u001b[0;34m)\u001b[0m\u001b[0;34m\u001b[0m\u001b[0;34m\u001b[0m\u001b[0m\n\u001b[0m\u001b[1;32m      4\u001b[0m \u001b[0;34m\u001b[0m\u001b[0m\n\u001b[1;32m      5\u001b[0m         \u001b[0;32mif\u001b[0m \u001b[0mopt\u001b[0m \u001b[0;34m==\u001b[0m \u001b[0;34m'x'\u001b[0m\u001b[0;34m:\u001b[0m\u001b[0;34m\u001b[0m\u001b[0;34m\u001b[0m\u001b[0m\n",
      "\u001b[0;32m/opt/lsst/software/stack/python/miniconda3-4.5.12/envs/lsst-scipipe-1172c30/lib/python3.7/site-packages/ipykernel/kernelbase.py\u001b[0m in \u001b[0;36mraw_input\u001b[0;34m(self, prompt)\u001b[0m\n\u001b[1;32m    858\u001b[0m             \u001b[0mself\u001b[0m\u001b[0;34m.\u001b[0m\u001b[0m_parent_ident\u001b[0m\u001b[0;34m,\u001b[0m\u001b[0;34m\u001b[0m\u001b[0;34m\u001b[0m\u001b[0m\n\u001b[1;32m    859\u001b[0m             \u001b[0mself\u001b[0m\u001b[0;34m.\u001b[0m\u001b[0m_parent_header\u001b[0m\u001b[0;34m,\u001b[0m\u001b[0;34m\u001b[0m\u001b[0;34m\u001b[0m\u001b[0m\n\u001b[0;32m--> 860\u001b[0;31m             \u001b[0mpassword\u001b[0m\u001b[0;34m=\u001b[0m\u001b[0;32mFalse\u001b[0m\u001b[0;34m,\u001b[0m\u001b[0;34m\u001b[0m\u001b[0;34m\u001b[0m\u001b[0m\n\u001b[0m\u001b[1;32m    861\u001b[0m         )\n\u001b[1;32m    862\u001b[0m \u001b[0;34m\u001b[0m\u001b[0m\n",
      "\u001b[0;32m/opt/lsst/software/stack/python/miniconda3-4.5.12/envs/lsst-scipipe-1172c30/lib/python3.7/site-packages/ipykernel/kernelbase.py\u001b[0m in \u001b[0;36m_input_request\u001b[0;34m(self, prompt, ident, parent, password)\u001b[0m\n\u001b[1;32m    888\u001b[0m             \u001b[0;32mexcept\u001b[0m \u001b[0mKeyboardInterrupt\u001b[0m\u001b[0;34m:\u001b[0m\u001b[0;34m\u001b[0m\u001b[0;34m\u001b[0m\u001b[0m\n\u001b[1;32m    889\u001b[0m                 \u001b[0;31m# re-raise KeyboardInterrupt, to truncate traceback\u001b[0m\u001b[0;34m\u001b[0m\u001b[0;34m\u001b[0m\u001b[0;34m\u001b[0m\u001b[0m\n\u001b[0;32m--> 890\u001b[0;31m                 \u001b[0;32mraise\u001b[0m \u001b[0mKeyboardInterrupt\u001b[0m\u001b[0;34m\u001b[0m\u001b[0;34m\u001b[0m\u001b[0m\n\u001b[0m\u001b[1;32m    891\u001b[0m             \u001b[0;32melse\u001b[0m\u001b[0;34m:\u001b[0m\u001b[0;34m\u001b[0m\u001b[0;34m\u001b[0m\u001b[0m\n\u001b[1;32m    892\u001b[0m                 \u001b[0;32mbreak\u001b[0m\u001b[0;34m\u001b[0m\u001b[0;34m\u001b[0m\u001b[0m\n",
      "\u001b[0;31mKeyboardInterrupt\u001b[0m: "
     ]
    }
   ],
   "source": [
    "for i in range(1,len(alt_grid)):\n",
    "    for j in range(len(az_grid)):\n",
    "        \n",
    "        print(f\"{i} {j}\")\n",
    "        \n",
    "        radec = ICRS(Angle('22:05:47.0359315', unit=u.hour),\n",
    "                     Angle('-00:19:11.456766', unit=u.deg))\n",
    "\n",
    "\n",
    "\n",
    "        mount = await r2.tel_mountEncoders.next(flush=True, timeout=1.)\n",
    "\n",
    "#         dalt5 = dalt4+alt_grid[i]*u.deg\n",
    "#         daz5 = daz4+az_grid[j]*u.deg\n",
    "        dalt16 = dalt15+alt_grid[i]*u.deg\n",
    "        daz16 = daz15+az_grid[j]*u.deg\n",
    "\n",
    "\n",
    "        \n",
    "        time_data = await r1.tel_timeAndDate.next(flush=True, timeout=2)\n",
    "        curr_time_atptg = Time(time_data.tai, format=\"mjd\", scale=\"tai\")\n",
    "        aa = AltAz(location=location, obstime=curr_time_atptg)\n",
    "        alt_az = radec.transform_to(aa)\n",
    "\n",
    "        cmd_elaz = AltAz(alt=alt_az.alt+dalt16, az=alt_az.az+daz16, \n",
    "                         obstime=curr_time_atptg.tai, \n",
    "                         location=location)\n",
    "        cmd_radec = cmd_elaz.transform_to(FK5)\n",
    "\n",
    "\n",
    "        r1.cmd_raDecTarget.set(\n",
    "            targetName=\"Alpha Aqr\",\n",
    "            targetInstance=SALPY_ATPtg.ATPtg_shared_TargetInstances_current,\n",
    "            frame=SALPY_ATPtg.ATPtg_shared_CoordFrame_icrs,\n",
    "            epoch=2000,  # should be ignored: no parallax or proper motion\n",
    "            equinox=2000,  # should be ignored for ICRS\n",
    "            ra=cmd_radec.ra.hour,\n",
    "            declination=cmd_radec.dec.deg,\n",
    "            parallax=0,\n",
    "            pmRA=0,\n",
    "            pmDec=0,\n",
    "            rv=0,\n",
    "            dRA=0,\n",
    "            dDec=0,\n",
    "            rotPA=180.-44.,\n",
    "            rotFrame=SALPY_ATPtg.ATPtg_shared_RotFrame_fixed,\n",
    "            rotMode=SALPY_ATPtg.ATPtg_shared_RotMode_field,\n",
    "        )\n",
    "\n",
    "        print(f\"dra: {radec.ra.hour-cmd_radec.ra.hour}\")\n",
    "\n",
    "\n",
    "        print(f\"dec: {radec.dec.deg-cmd_radec.dec.deg}\")\n",
    "\n",
    "        \n",
    "        await r1.cmd_raDecTarget.start()\n",
    "        await wait_center()\n",
    "\n",
    "\n",
    "\n",
    "\n",
    "\n",
    "\n",
    "\n"
   ]
  },
  {
   "cell_type": "code",
   "execution_count": null,
   "metadata": {},
   "outputs": [],
   "source": []
  },
  {
   "cell_type": "code",
   "execution_count": null,
   "metadata": {},
   "outputs": [],
   "source": []
  },
  {
   "cell_type": "code",
   "execution_count": 789,
   "metadata": {},
   "outputs": [
    {
     "name": "stderr",
     "output_type": "stream",
     "text": [
      "AckCmdReader(ATMCS, 0, ackcmd) falling behind; read 100 messages\n",
      "RemoteTelemetry(ATPtg, 0, currentTargetStatus) falling behind; read 100 messages\n",
      "falling behind; queue contains 99 elements\n",
      "falling behind; queue contains 98 elements\n",
      "falling behind; queue contains 97 elements\n",
      "RemoteTelemetry(ATPtg, 0, timeAndDate) falling behind; read 100 messages\n",
      "RemoteTelemetry(ATPtg, 0, mountStatus) falling behind; read 100 messages\n",
      "RemoteTelemetry(ATPtg, 0, guidingAndOffsets) falling behind; read 100 messages\n",
      "RemoteEvent(ATMCS, 0, target) falling behind; read 100 messages\n",
      "falling behind; queue contains 99 elements\n",
      "falling behind; queue contains 98 elements\n",
      "falling behind; queue contains 97 elements\n",
      "falling behind; queue contains 99 elements\n",
      "falling behind; queue contains 98 elements\n",
      "falling behind; queue contains 97 elements\n"
     ]
    },
    {
     "name": "stdout",
     "output_type": "stream",
     "text": [
      "-3581.78arcsec\n",
      "4471.65arcsec\n",
      "dra: -0.0663292088962173\n",
      "dec: 1.242124480162421\n"
     ]
    },
    {
     "data": {
      "text/plain": [
       "<lsst.ts.salobj.ddsutil.ATPtg_ackcmd at 0x7f734e80cef0>"
      ]
     },
     "execution_count": 789,
     "metadata": {},
     "output_type": "execute_result"
    }
   ],
   "source": [
    "radec = ICRS(Angle('22:05:47.0359315', unit=u.hour),\n",
    "             Angle('-00:19:11.456766', unit=u.deg))\n",
    "\n",
    "mount = await r2.tel_mountEncoders.next(flush=True, timeout=1.)\n",
    "\n",
    "dalt17 = dalt16-0.045*u.deg\n",
    "daz17 = daz16-0.04*u.deg\n",
    "\n",
    "\n",
    "time_data = await r1.tel_timeAndDate.next(flush=True, timeout=2)\n",
    "curr_time_atptg = Time(time_data.tai, format=\"mjd\", scale=\"tai\")\n",
    "aa = AltAz(location=location, obstime=curr_time_atptg)\n",
    "alt_az = radec.transform_to(aa)\n",
    "\n",
    "cmd_elaz = AltAz(alt=alt_az.alt+dalt17, az=alt_az.az+daz17, \n",
    "                 obstime=curr_time_atptg.tai, \n",
    "                 location=location)\n",
    "cmd_radec = cmd_elaz.transform_to(ICRS)\n",
    "\n",
    "\n",
    "r1.cmd_raDecTarget.set(\n",
    "    targetName=\"Alpha Aqr\",\n",
    "    targetInstance=SALPY_ATPtg.ATPtg_shared_TargetInstances_current,\n",
    "    frame=SALPY_ATPtg.ATPtg_shared_CoordFrame_icrs,\n",
    "    epoch=2000,  # should be ignored: no parallax or proper motion\n",
    "    equinox=2000,  # should be ignored for ICRS\n",
    "    ra=radec.ra.hour,\n",
    "    declination=radec.dec.deg,\n",
    "    parallax=0,\n",
    "    pmRA=0,\n",
    "    pmDec=0,\n",
    "    rv=0,\n",
    "    dRA=0,\n",
    "    dDec=0,\n",
    "    rotPA=180.-44.,\n",
    "    rotFrame=SALPY_ATPtg.ATPtg_shared_RotFrame_fixed,\n",
    "    rotMode=SALPY_ATPtg.ATPtg_shared_RotMode_field,\n",
    ")\n",
    "\n",
    "ddra = radec.ra-cmd_radec.ra\n",
    "dddec = radec.dec-cmd_radec.dec\n",
    "print(ddra.to(u.arcsec))\n",
    "print(dddec.to(u.arcsec))\n",
    "print(f\"dra: {radec.ra.hour-cmd_radec.ra.hour}\")\n",
    "\n",
    "\n",
    "print(f\"dec: {radec.dec.deg-cmd_radec.dec.deg}\")\n",
    "\n",
    "await r1.cmd_raDecTarget.start()\n",
    "# await r1.cmd_raDecTarget.start(timeout=30.)"
   ]
  },
  {
   "cell_type": "code",
   "execution_count": 794,
   "metadata": {},
   "outputs": [
    {
     "name": "stderr",
     "output_type": "stream",
     "text": [
      "RemoteTelemetry(ATPtg, 0, timeAndDate) falling behind; read 99 messages\n",
      "falling behind; queue contains 99 elements\n",
      "falling behind; queue contains 98 elements\n",
      "falling behind; queue contains 97 elements\n"
     ]
    },
    {
     "data": {
      "text/plain": [
       "<lsst.ts.salobj.ddsutil.ATPtg_ackcmd at 0x7f735b87dc18>"
      ]
     },
     "execution_count": 794,
     "metadata": {},
     "output_type": "execute_result"
    }
   ],
   "source": [
    "await r1.cmd_offsetRADec.set_start(off1=0., off2=-471.65, num=1)"
   ]
  },
  {
   "cell_type": "code",
   "execution_count": 774,
   "metadata": {},
   "outputs": [
    {
     "name": "stderr",
     "output_type": "stream",
     "text": [
      "falling behind; queue contains 99 elements\n",
      "falling behind; queue contains 98 elements\n",
      "falling behind; queue contains 97 elements\n",
      "falling behind; queue contains 99 elements\n",
      "falling behind; queue contains 98 elements\n",
      "falling behind; queue contains 97 elements\n",
      "falling behind; queue contains 99 elements\n",
      "falling behind; queue contains 98 elements\n",
      "falling behind; queue contains 97 elements\n",
      "falling behind; queue contains 99 elements\n",
      "falling behind; queue contains 98 elements\n",
      "falling behind; queue contains 97 elements\n",
      "falling behind; queue contains 99 elements\n",
      "falling behind; queue contains 98 elements\n",
      "falling behind; queue contains 97 elements\n",
      "falling behind; queue contains 99 elements\n",
      "falling behind; queue contains 98 elements\n",
      "falling behind; queue contains 97 elements\n",
      "falling behind; queue contains 99 elements\n",
      "falling behind; queue contains 98 elements\n",
      "falling behind; queue contains 97 elements\n",
      "falling behind; queue contains 99 elements\n",
      "falling behind; queue contains 98 elements\n",
      "falling behind; queue contains 97 elements\n",
      "falling behind; queue contains 99 elements\n",
      "falling behind; queue contains 98 elements\n",
      "falling behind; queue contains 97 elements\n",
      "falling behind; queue contains 99 elements\n",
      "falling behind; queue contains 98 elements\n",
      "falling behind; queue contains 97 elements\n",
      "falling behind; queue contains 26 elements\n"
     ]
    },
    {
     "data": {
      "text/plain": [
       "<lsst.ts.salobj.ddsutil.ATMCS_ackcmd at 0x7f7358cfae10>"
      ]
     },
     "execution_count": 774,
     "metadata": {},
     "output_type": "execute_result"
    }
   ],
   "source": [
    "await r2.cmd_startTracking.start()"
   ]
  },
  {
   "cell_type": "code",
   "execution_count": null,
   "metadata": {},
   "outputs": [],
   "source": []
  }
 ],
 "metadata": {
  "kernelspec": {
   "display_name": "Python 3",
   "language": "python",
   "name": "python3"
  },
  "language_info": {
   "codemirror_mode": {
    "name": "ipython",
    "version": 3
   },
   "file_extension": ".py",
   "mimetype": "text/x-python",
   "name": "python",
   "nbconvert_exporter": "python",
   "pygments_lexer": "ipython3",
   "version": "3.7.2"
  }
 },
 "nbformat": 4,
 "nbformat_minor": 2
}
