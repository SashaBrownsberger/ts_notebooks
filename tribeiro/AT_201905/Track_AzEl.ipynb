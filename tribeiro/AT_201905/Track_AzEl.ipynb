{
 "cells": [
  {
   "cell_type": "code",
   "execution_count": 1,
   "metadata": {},
   "outputs": [],
   "source": [
    "import logging\n",
    "import yaml\n",
    "\n",
    "import astropy.units as u\n",
    "from astropy.time import Time\n",
    "from astropy.coordinates import AltAz, ICRS, EarthLocation, Angle\n",
    "import asyncio\n",
    "\n",
    "import palpy\n",
    "\n",
    "from lsst.ts import salobj\n",
    "\n",
    "import SALPY_ATPtg\n",
    "import SALPY_ATMCS"
   ]
  },
  {
   "cell_type": "code",
   "execution_count": 2,
   "metadata": {},
   "outputs": [
    {
     "name": "stdout",
     "output_type": "stream",
     "text": [
      "lsatmcs\n"
     ]
    }
   ],
   "source": [
    "import os\n",
    "print(os.environ[\"LSST_DDS_DOMAIN\"])"
   ]
  },
  {
   "cell_type": "code",
   "execution_count": 3,
   "metadata": {},
   "outputs": [],
   "source": [
    "r1 = salobj.Remote(SALPY_ATPtg)\n",
    "r2 = salobj.Remote(SALPY_ATMCS)"
   ]
  },
  {
   "cell_type": "code",
   "execution_count": null,
   "metadata": {},
   "outputs": [],
   "source": [
    "# r1.evt_summaryState.flush()\n",
    "await salobj.set_summary_state(r1, salobj.State.STANDBY)"
   ]
  },
  {
   "cell_type": "code",
   "execution_count": null,
   "metadata": {},
   "outputs": [],
   "source": [
    "await salobj.set_summary_state(r1, salobj.State.ENABLED)"
   ]
  },
  {
   "cell_type": "code",
   "execution_count": null,
   "metadata": {},
   "outputs": [],
   "source": [
    "await r2.cmd_start.start(timeout=30)"
   ]
  },
  {
   "cell_type": "code",
   "execution_count": null,
   "metadata": {},
   "outputs": [],
   "source": [
    "await r2.cmd_enable.start(timeout=30)"
   ]
  },
  {
   "cell_type": "code",
   "execution_count": null,
   "metadata": {},
   "outputs": [],
   "source": [
    "await r2.cmd_disable.start(timeout=30)"
   ]
  },
  {
   "cell_type": "code",
   "execution_count": null,
   "metadata": {},
   "outputs": [],
   "source": []
  },
  {
   "cell_type": "code",
   "execution_count": null,
   "metadata": {},
   "outputs": [],
   "source": [
    "await salobj.set_summary_state(r2, salobj.State.STANDBY, timeout=60)"
   ]
  },
  {
   "cell_type": "code",
   "execution_count": null,
   "metadata": {},
   "outputs": [],
   "source": [
    "await salobj.set_summary_state(r2, salobj.State.ENABLED, timeout=60)"
   ]
  },
  {
   "cell_type": "code",
   "execution_count": null,
   "metadata": {},
   "outputs": [],
   "source": [
    "print(salobj.State(r1.evt_summaryState.get().summaryState))\n",
    "print(salobj.State(r2.evt_summaryState.get().summaryState))"
   ]
  },
  {
   "cell_type": "code",
   "execution_count": null,
   "metadata": {},
   "outputs": [],
   "source": [
    "await salobj.set_summary_state(r2, salobj.State.ENABLED, timeout=300)"
   ]
  },
  {
   "cell_type": "code",
   "execution_count": null,
   "metadata": {},
   "outputs": [],
   "source": [
    "await salobj.set_summary_state(r1, salobj.State.ENABLED, \n",
    "                               timeout=300)\n",
    "# await salobj.set_summary_state(r2, salobj.State.ENABLED, timeout=300)"
   ]
  },
  {
   "cell_type": "code",
   "execution_count": null,
   "metadata": {},
   "outputs": [],
   "source": [
    "print(salobj.State(r1.evt_summaryState.get().summaryState))\n",
    "print(salobj.State(r2.evt_summaryState.get().summaryState))"
   ]
  },
  {
   "cell_type": "code",
   "execution_count": 4,
   "metadata": {},
   "outputs": [],
   "source": [
    "location = EarthLocation.from_geodetic(lon=-70.747698*u.deg,\n",
    "                                                    lat=-30.244728*u.deg,\n",
    "                                                    height=2663.0*u.m)"
   ]
  },
  {
   "cell_type": "code",
   "execution_count": 103,
   "metadata": {},
   "outputs": [
    {
     "name": "stdout",
     "output_type": "stream",
     "text": [
      "Time error=-0.02 sec\n",
      "rotPA: 179.32337068010258\n",
      "raDecTarget ra=16.948365674463098 hour; declination=-10.21629023909037 deg\n"
     ]
    }
   ],
   "source": [
    "time_data = await r1.tel_timeAndDate.next(flush=True, timeout=2)\n",
    "curr_time_atptg = Time(time_data.tai, format=\"mjd\", scale=\"tai\")\n",
    "time_err = curr_time_atptg - Time.now()\n",
    "print(f\"Time error={time_err.sec:0.2f} sec\")\n",
    "\n",
    "# Compute RA/Dec for commanded az/el\n",
    "cmd_elaz = AltAz(alt=70.*u.deg, az=0.*u.deg, \n",
    "                 obstime=curr_time_atptg.tai, \n",
    "                 location=location)\n",
    "cmd_radec = cmd_elaz.transform_to(ICRS)\n",
    "\n",
    "# Compute rot_pa\n",
    "lst = Angle(time_data.lst, unit=u.hourangle)\n",
    "lha = lst - cmd_radec.ra\n",
    "rot_pa = Angle(palpy.pa(lha.radian, cmd_radec.dec.radian, location.lat.radian)*u.radian)\n",
    "print(f\"rotPA: {rot_pa.deg}\")\n",
    "\n",
    "# Start tracking\n",
    "r1.cmd_raDecTarget.set(\n",
    "    targetName=\"atptg_atmcs_integration\",\n",
    "    targetInstance=SALPY_ATPtg.ATPtg_shared_TargetInstances_current,\n",
    "    frame=SALPY_ATPtg.ATPtg_shared_CoordFrame_icrs,\n",
    "    epoch=2000,  # should be ignored: no parallax or proper motion\n",
    "    equinox=2000,  # should be ignored for ICRS\n",
    "    ra=cmd_radec.ra.hour,\n",
    "    declination=cmd_radec.dec.deg,\n",
    "    parallax=0,\n",
    "    pmRA=0,\n",
    "    pmDec=0,\n",
    "    rv=0,\n",
    "    dRA=0,\n",
    "    dDec=0,\n",
    "    rotPA=180.-cmd_elaz.alt.deg,\n",
    "    rotFrame=SALPY_ATPtg.ATPtg_shared_RotFrame_fixed,\n",
    "    rotMode=SALPY_ATPtg.ATPtg_shared_RotMode_field,\n",
    ")\n",
    "print(f\"raDecTarget ra={r1.cmd_raDecTarget.data.ra!r} hour; \"\n",
    "      f\"declination={r1.cmd_raDecTarget.data.declination!r} deg\")\n",
    "# script.ataos.cmd_enableCorrection.set(hexapod=True)\n",
    "# await script.ataos.cmd_enableCorrection.start(timeout=10)\n",
    "\n"
   ]
  },
  {
   "cell_type": "code",
   "execution_count": 104,
   "metadata": {},
   "outputs": [
    {
     "name": "stdout",
     "output_type": "stream",
     "text": [
      "raDecTarget command result: Done : OK\n"
     ]
    }
   ],
   "source": [
    "# r2.evt_target.flush()\n",
    "# r2.evt_allAxesInPosition.flush()\n",
    "\n",
    "ack_id = await r1.cmd_raDecTarget.start(timeout=60)\n",
    "print(f\"raDecTarget command result: {ack_id.ack.result}\")\n",
    "\n",
    "# while True:\n",
    "#     in_position = await r2.evt_allAxesInPosition.next(flush=False)\n",
    "#     print(f\"Got {in_position.inPosition}\")\n",
    "#     if in_position.inPosition:\n",
    "#         break"
   ]
  },
  {
   "cell_type": "code",
   "execution_count": 106,
   "metadata": {},
   "outputs": [],
   "source": [
    "ack_id = await r1.cmd_stopTracking.start(timeout=30)"
   ]
  },
  {
   "cell_type": "code",
   "execution_count": 108,
   "metadata": {},
   "outputs": [
    {
     "name": "stdout",
     "output_type": "stream",
     "text": [
      "-60:44:44.71 +44:24:28.55 -0:35:31.45\n",
      "-60.74575255285259 44.40793085156953 -0.5920691487710315\n"
     ]
    }
   ],
   "source": [
    "demand = await r1.tel_currentTargetStatus.next(flush=True, timeout=5)\n",
    "print(demand.demandAz, demand.demandEl, demand.demandRot)\n",
    "target = await r2.evt_target.next(flush=True, timeout=20)\n",
    "print(target.azimuth, target.elevation, target.nasmyth1RotatorAngle)"
   ]
  },
  {
   "cell_type": "code",
   "execution_count": null,
   "metadata": {},
   "outputs": [],
   "source": []
  },
  {
   "cell_type": "code",
   "execution_count": 101,
   "metadata": {},
   "outputs": [],
   "source": [
    "from math import isclose"
   ]
  },
  {
   "cell_type": "code",
   "execution_count": 102,
   "metadata": {},
   "outputs": [],
   "source": [
    "isclose?"
   ]
  },
  {
   "cell_type": "code",
   "execution_count": null,
   "metadata": {},
   "outputs": [],
   "source": []
  },
  {
   "cell_type": "code",
   "execution_count": 14,
   "metadata": {},
   "outputs": [
    {
     "name": "stdout",
     "output_type": "stream",
     "text": [
      "Time error=-0.03 sec\n",
      "raDecTarget ra=8.79618671954493 hour; declination=-8.697872837732271 deg\n"
     ]
    }
   ],
   "source": [
    "time_data = await r1.tel_timeAndDate.next(flush=True, timeout=2)\n",
    "curr_time_atptg = Time(time_data.tai, format=\"mjd\", scale=\"tai\")\n",
    "time_err = curr_time_atptg - Time.now()\n",
    "print(f\"Time error={time_err.sec:0.2f} sec\")\n",
    "\n",
    "# Compute RA/Dec for commanded az/el\n",
    "cmd_elaz = AltAz(alt=40.*u.deg, az=285.*u.deg, \n",
    "                 obstime=curr_time_atptg.tai, \n",
    "                 location=location)\n",
    "cmd_radec = cmd_elaz.transform_to(ICRS)\n",
    "\n",
    "# Start tracking\n",
    "r1.cmd_raDecTarget.set(\n",
    "    targetName=\"atptg_atmcs_integration\",\n",
    "    targetInstance=SALPY_ATPtg.ATPtg_shared_TargetInstances_current,\n",
    "    frame=SALPY_ATPtg.ATPtg_shared_CoordFrame_icrs,\n",
    "    epoch=2000,  # should be ignored: no parallax or proper motion\n",
    "    equinox=2000,  # should be ignored for ICRS\n",
    "    ra=cmd_radec.ra.hour,\n",
    "    declination=cmd_radec.dec.deg,\n",
    "    parallax=0,\n",
    "    pmRA=0,\n",
    "    pmDec=0,\n",
    "    rv=0,\n",
    "    dRA=0,\n",
    "    dDec=0,\n",
    "    rotPA=-180.,\n",
    "    rotFrame=SALPY_ATPtg.ATPtg_shared_RotFrame_target,\n",
    "    rotMode=SALPY_ATPtg.ATPtg_shared_RotMode_field,\n",
    ")\n",
    "print(f\"raDecTarget ra={r1.cmd_raDecTarget.data.ra!r} hour; \"\n",
    "      f\"declination={r1.cmd_raDecTarget.data.declination!r} deg\")\n",
    "# script.ataos.cmd_enableCorrection.set(hexapod=True)\n",
    "# await script.ataos.cmd_enableCorrection.start(timeout=10)\n"
   ]
  },
  {
   "cell_type": "code",
   "execution_count": null,
   "metadata": {},
   "outputs": [],
   "source": [
    "ack_id = await r2.cmd_startTracking.start(timeout=5, wait_done=False)\n",
    "print(f\"startTracking: {ack_id.ack.ack}::{ack_id.ack.result}\")"
   ]
  },
  {
   "cell_type": "code",
   "execution_count": 20,
   "metadata": {},
   "outputs": [
    {
     "name": "stdout",
     "output_type": "stream",
     "text": [
      "9.941138816317412 45.018742929232765 26.39707996993859\n"
     ]
    }
   ],
   "source": [
    "target = await r2.evt_target.next(flush=True, timeout=5)\n",
    "print(target.azimuth, target.elevation, target.nasmyth1RotatorAngle)"
   ]
  },
  {
   "cell_type": "code",
   "execution_count": null,
   "metadata": {},
   "outputs": [],
   "source": [
    "demand = await r1.tel_currentTargetStatus.next(flush=True, timeout=5)\n",
    "demand.demandAz, demand.demandEl, demand.demandRot"
   ]
  },
  {
   "cell_type": "code",
   "execution_count": null,
   "metadata": {},
   "outputs": [],
   "source": []
  },
  {
   "cell_type": "code",
   "execution_count": null,
   "metadata": {},
   "outputs": [],
   "source": [
    "# demand = await r1.evt_trackPosting"
   ]
  },
  {
   "cell_type": "code",
   "execution_count": null,
   "metadata": {},
   "outputs": [],
   "source": [
    "demand = await r1.tel_currentTargetStatus.next(flush=True, timeout=5)\n",
    "demand.demandAz, demand.demandEl, demand.demandRot"
   ]
  },
  {
   "cell_type": "code",
   "execution_count": 30,
   "metadata": {},
   "outputs": [
    {
     "ename": "AckError",
     "evalue": "msg='Command failed with ack code -301', cmd_id=1559691888, ack=(ack=-301, error=0, result='')",
     "output_type": "error",
     "traceback": [
      "\u001b[0;31m---------------------------------------------------------------------------\u001b[0m",
      "\u001b[0;31mAckError\u001b[0m                                  Traceback (most recent call last)",
      "\u001b[0;32m<ipython-input-30-fb820d1306de>\u001b[0m in \u001b[0;36masync-def-wrapper\u001b[0;34m()\u001b[0m\n",
      "\u001b[0;32m~/repos/ts_salobj/python/lsst/ts/salobj/topics/remote_command.py\u001b[0m in \u001b[0;36mstart\u001b[0;34m(self, data, timeout, wait_done)\u001b[0m\n\u001b[1;32m    210\u001b[0m         \u001b[0mself\u001b[0m\u001b[0;34m.\u001b[0m\u001b[0m_running_cmds\u001b[0m\u001b[0;34m[\u001b[0m\u001b[0mcmd_id\u001b[0m\u001b[0;34m]\u001b[0m \u001b[0;34m=\u001b[0m \u001b[0mcmd_info\u001b[0m\u001b[0;34m\u001b[0m\u001b[0m\n\u001b[1;32m    211\u001b[0m         \u001b[0mself\u001b[0m\u001b[0;34m.\u001b[0m\u001b[0m_start_wait_for_ack\u001b[0m\u001b[0;34m(\u001b[0m\u001b[0mcmd_info\u001b[0m\u001b[0;34m=\u001b[0m\u001b[0mcmd_info\u001b[0m\u001b[0;34m,\u001b[0m \u001b[0mtimeout\u001b[0m\u001b[0;34m=\u001b[0m\u001b[0mtimeout\u001b[0m\u001b[0;34m)\u001b[0m\u001b[0;34m\u001b[0m\u001b[0m\n\u001b[0;32m--> 212\u001b[0;31m         \u001b[0;32mreturn\u001b[0m \u001b[0mawait\u001b[0m \u001b[0mcmd_info\u001b[0m\u001b[0;34m.\u001b[0m\u001b[0mdone_task\u001b[0m\u001b[0;34m\u001b[0m\u001b[0m\n\u001b[0m\u001b[1;32m    213\u001b[0m \u001b[0;34m\u001b[0m\u001b[0m\n\u001b[1;32m    214\u001b[0m     \u001b[0;32mdef\u001b[0m \u001b[0m_start_wait_for_ack\u001b[0m\u001b[0;34m(\u001b[0m\u001b[0mself\u001b[0m\u001b[0;34m,\u001b[0m \u001b[0mcmd_info\u001b[0m\u001b[0;34m,\u001b[0m \u001b[0mtimeout\u001b[0m\u001b[0;34m)\u001b[0m\u001b[0;34m:\u001b[0m\u001b[0;34m\u001b[0m\u001b[0m\n",
      "\u001b[0;31mAckError\u001b[0m: msg='Command failed with ack code -301', cmd_id=1559691888, ack=(ack=-301, error=0, result='')"
     ]
    }
   ],
   "source": [
    "ack_id = await r2.cmd_stopTracking.start(timeout=30)"
   ]
  },
  {
   "cell_type": "code",
   "execution_count": null,
   "metadata": {},
   "outputs": [],
   "source": [
    "print(salobj.State(r1.evt_summaryState.get().summaryState))\n",
    "print(salobj.State(r2.evt_summaryState.get().summaryState))"
   ]
  },
  {
   "cell_type": "code",
   "execution_count": null,
   "metadata": {},
   "outputs": [],
   "source": [
    "def atptg_target_callback(id_data):\n",
    "    print(id_data.demandAz, id_data.demandEl)\n",
    "\n",
    "# def atmcs_demand_callback(id_data):\n",
    "#     print(id_data.)"
   ]
  },
  {
   "cell_type": "code",
   "execution_count": null,
   "metadata": {},
   "outputs": [],
   "source": [
    "r1.tel_currentTargetStatus.callback = atptg_target_callback"
   ]
  },
  {
   "cell_type": "code",
   "execution_count": null,
   "metadata": {},
   "outputs": [],
   "source": [
    "await asyncio.sleep(10)"
   ]
  },
  {
   "cell_type": "code",
   "execution_count": null,
   "metadata": {},
   "outputs": [],
   "source": [
    "r1.tel_currentTargetStatus.callback = None"
   ]
  },
  {
   "cell_type": "code",
   "execution_count": null,
   "metadata": {},
   "outputs": [],
   "source": []
  },
  {
   "cell_type": "code",
   "execution_count": null,
   "metadata": {},
   "outputs": [],
   "source": []
  },
  {
   "cell_type": "code",
   "execution_count": null,
   "metadata": {},
   "outputs": [],
   "source": [
    "demand = await r1.tel_currentTargetStatus.next(flush=True, timeout=5)"
   ]
  },
  {
   "cell_type": "code",
   "execution_count": null,
   "metadata": {},
   "outputs": [],
   "source": [
    "demand = await r1.tel_currentTargetStatus.next(flush=True, timeout=5)\n",
    "demand.demandAz, demand.demandEl, demand.demandRot"
   ]
  },
  {
   "cell_type": "code",
   "execution_count": null,
   "metadata": {},
   "outputs": [],
   "source": []
  },
  {
   "cell_type": "code",
   "execution_count": null,
   "metadata": {},
   "outputs": [],
   "source": []
  },
  {
   "cell_type": "code",
   "execution_count": null,
   "metadata": {},
   "outputs": [],
   "source": [
    "for i in range(10):\n",
    "    demand = await r2.evt_target.next(flush=True, timeout=5)\n",
    "    print(demand.elevation, demand.azimuth)"
   ]
  },
  {
   "cell_type": "code",
   "execution_count": null,
   "metadata": {},
   "outputs": [],
   "source": [
    "ack_id = await r2.cmd_stopTracking.start(timeout=10)"
   ]
  },
  {
   "cell_type": "code",
   "execution_count": null,
   "metadata": {},
   "outputs": [],
   "source": [
    "await salobj.set_summary_state(r1, salobj.State.STANDBY, \n",
    "                               timeout=300)\n",
    "# await salobj.set_summary_state(r2, salobj.State.STANDBY, timeout=300)"
   ]
  },
  {
   "cell_type": "code",
   "execution_count": null,
   "metadata": {},
   "outputs": [],
   "source": [
    "import os"
   ]
  },
  {
   "cell_type": "code",
   "execution_count": null,
   "metadata": {},
   "outputs": [],
   "source": [
    "os.environ[\"LSST_DDS_DOMAIN\"]"
   ]
  },
  {
   "cell_type": "code",
   "execution_count": null,
   "metadata": {},
   "outputs": [],
   "source": [
    "await r1.cmd_exitControl.start()"
   ]
  },
  {
   "cell_type": "code",
   "execution_count": null,
   "metadata": {},
   "outputs": [],
   "source": [
    "50e-3*200"
   ]
  },
  {
   "cell_type": "code",
   "execution_count": null,
   "metadata": {},
   "outputs": [],
   "source": [
    "import palpy"
   ]
  },
  {
   "cell_type": "code",
   "execution_count": null,
   "metadata": {},
   "outputs": [],
   "source": [
    "palpy.pa?"
   ]
  },
  {
   "cell_type": "code",
   "execution_count": null,
   "metadata": {},
   "outputs": [],
   "source": [
    "location = EarthLocation.from_geodetic(lon=-70.747698*u.deg,\n",
    "                                                    lat=-30.244728*u.deg,\n",
    "                                                    height=2663.0*u.m)"
   ]
  },
  {
   "cell_type": "code",
   "execution_count": 81,
   "metadata": {},
   "outputs": [
    {
     "name": "stdout",
     "output_type": "stream",
     "text": [
      "Time error=-0.03 sec\n"
     ]
    }
   ],
   "source": [
    "time_data = await r1.tel_timeAndDate.next(flush=True, timeout=2)\n",
    "curr_time_atptg = Time(time_data.tai, format=\"mjd\", scale=\"tai\")\n",
    "time_err = curr_time_atptg - Time.now()\n",
    "print(f\"Time error={time_err.sec:0.2f} sec\")\n",
    "\n",
    "# Compute RA/Dec for commanded az/el\n",
    "cmd_elaz = AltAz(alt=45.*u.deg, az=0.*u.deg, \n",
    "                 obstime=curr_time_atptg.tai, \n",
    "                 location=location)\n",
    "cmd_radec = cmd_elaz.transform_to(ICRS)\n",
    "\n"
   ]
  },
  {
   "cell_type": "code",
   "execution_count": 86,
   "metadata": {},
   "outputs": [
    {
     "data": {
      "text/plain": [
       "(12.950322290013087, '12:57:58.6')"
      ]
     },
     "execution_count": 86,
     "metadata": {},
     "output_type": "execute_result"
    }
   ],
   "source": [
    "cmd_radec.ra.hour,time_data.lst"
   ]
  },
  {
   "cell_type": "code",
   "execution_count": 87,
   "metadata": {},
   "outputs": [],
   "source": [
    "lst = Angle(time_data.lst, unit=u.hour)"
   ]
  },
  {
   "cell_type": "code",
   "execution_count": 88,
   "metadata": {},
   "outputs": [],
   "source": [
    "lha = lst - cmd_radec.ra"
   ]
  },
  {
   "cell_type": "code",
   "execution_count": 89,
   "metadata": {},
   "outputs": [
    {
     "data": {
      "text/plain": [
       "0.015955487764689025"
      ]
     },
     "execution_count": 89,
     "metadata": {},
     "output_type": "execute_result"
    }
   ],
   "source": [
    "lha.hour"
   ]
  },
  {
   "cell_type": "code",
   "execution_count": 90,
   "metadata": {},
   "outputs": [],
   "source": [
    "rot_pa = Angle(palpy.pa(lha.radian, cmd_radec.dec.radian, location.lat.radian)*u.radian)"
   ]
  },
  {
   "cell_type": "code",
   "execution_count": 91,
   "metadata": {},
   "outputs": [
    {
     "data": {
      "text/plain": [
       "179.7081270741601"
      ]
     },
     "execution_count": 91,
     "metadata": {},
     "output_type": "execute_result"
    }
   ],
   "source": [
    "rot_pa.deg"
   ]
  },
  {
   "cell_type": "code",
   "execution_count": 11,
   "metadata": {},
   "outputs": [
    {
     "data": {
      "text/plain": [
       "-10.005029836762048"
      ]
     },
     "execution_count": 11,
     "metadata": {},
     "output_type": "execute_result"
    }
   ],
   "source": [
    "rot_pa.deg"
   ]
  },
  {
   "cell_type": "code",
   "execution_count": 31,
   "metadata": {},
   "outputs": [],
   "source": [
    "palpy.pa?"
   ]
  },
  {
   "cell_type": "code",
   "execution_count": null,
   "metadata": {},
   "outputs": [],
   "source": []
  }
 ],
 "metadata": {
  "kernelspec": {
   "display_name": "Python 3",
   "language": "python",
   "name": "python3"
  },
  "language_info": {
   "codemirror_mode": {
    "name": "ipython",
    "version": 3
   },
   "file_extension": ".py",
   "mimetype": "text/x-python",
   "name": "python",
   "nbconvert_exporter": "python",
   "pygments_lexer": "ipython3",
   "version": "3.6.6"
  }
 },
 "nbformat": 4,
 "nbformat_minor": 2
}
