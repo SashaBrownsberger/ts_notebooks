{
 "cells": [
  {
   "cell_type": "code",
   "execution_count": 1,
   "metadata": {
    "collapsed": true
   },
   "outputs": [],
   "source": [
    "import logging\n",
    "import yaml\n",
    "import asyncio\n",
    "\n",
    "import numpy as np\n",
    "import astropy.units as u\n",
    "from astropy.time import Time\n",
    "from astropy.coordinates import AltAz, ICRS, EarthLocation, Angle\n",
    "\n",
    "from lsst.ts import salobj\n",
    "from lsst.ts.standardscripts.auxtel import ATTCS\n",
    "\n",
    "import SALPY_ATPtg\n"
   ]
  },
  {
   "cell_type": "code",
   "execution_count": 47,
   "metadata": {
    "collapsed": true
   },
   "outputs": [],
   "source": [
    "import matplotlib.pyplot as plt\n",
    "%matplotlib inline"
   ]
  },
  {
   "cell_type": "code",
   "execution_count": null,
   "metadata": {
    "collapsed": true
   },
   "outputs": [],
   "source": [
    "# attcs = ATTCS()"
   ]
  },
  {
   "cell_type": "code",
   "execution_count": null,
   "metadata": {
    "collapsed": true
   },
   "outputs": [],
   "source": [
    "# attcs.log.setLevel(logging.DEBUG)"
   ]
  },
  {
   "cell_type": "code",
   "execution_count": null,
   "metadata": {
    "collapsed": true
   },
   "outputs": [],
   "source": [
    "for c in attcs.components():\n",
    "    r = getattr(attcs, c.lower())\n",
    "    state_topic = await r.evt_summaryState.next(flush=False, timeout=5.)\n",
    "    state = salobj.State(state_topic.summaryState)\n",
    "    print(f\"{c}::{state!r}\")"
   ]
  },
  {
   "cell_type": "code",
   "execution_count": 32,
   "metadata": {},
   "outputs": [
    {
     "name": "stdout",
     "output_type": "stream",
     "text": [
      "ATPneumatics::<State.ENABLED: 2>\n"
     ]
    }
   ],
   "source": [
    "state_topic = await attcs.atpneumatics.evt_summaryState.next(flush=False, timeout=5.)\n",
    "state = salobj.State(state_topic.summaryState)\n",
    "print(f\"{attcs.atpneumatics.salinfo.name}::{state!r}\")"
   ]
  },
  {
   "cell_type": "code",
   "execution_count": 33,
   "metadata": {},
   "outputs": [
    {
     "data": {
      "text/plain": [
       "CommandIdAck(cmd_id=1559838819, ack=(ack=303, error=0, result='Ok'))"
      ]
     },
     "execution_count": 33,
     "metadata": {},
     "output_type": "execute_result"
    }
   ],
   "source": [
    "await attcs.atpneumatics.cmd_start.start(timeout=300)"
   ]
  },
  {
   "cell_type": "code",
   "execution_count": 34,
   "metadata": {},
   "outputs": [
    {
     "data": {
      "text/plain": [
       "CommandIdAck(cmd_id=1559838819, ack=(ack=303, error=0, result='Ok'))"
      ]
     },
     "execution_count": 34,
     "metadata": {},
     "output_type": "execute_result"
    }
   ],
   "source": [
    "await attcs.atpneumatics.cmd_enable.start(timeout=300)"
   ]
  },
  {
   "cell_type": "code",
   "execution_count": 35,
   "metadata": {},
   "outputs": [
    {
     "data": {
      "text/plain": [
       "CommandIdAck(cmd_id=1559838819, ack=(ack=303, error=0, result='Ok'))"
      ]
     },
     "execution_count": 35,
     "metadata": {},
     "output_type": "execute_result"
    }
   ],
   "source": [
    "await attcs.atpneumatics.cmd_openMasterAirSupply.start(timeout=300)"
   ]
  },
  {
   "cell_type": "code",
   "execution_count": 36,
   "metadata": {},
   "outputs": [
    {
     "data": {
      "text/plain": [
       "CommandIdAck(cmd_id=1559838819, ack=(ack=303, error=0, result='Ok'))"
      ]
     },
     "execution_count": 36,
     "metadata": {},
     "output_type": "execute_result"
    }
   ],
   "source": [
    "await attcs.atpneumatics.cmd_openInstrumentAirValve.start(timeout=300)"
   ]
  },
  {
   "cell_type": "code",
   "execution_count": null,
   "metadata": {
    "collapsed": true
   },
   "outputs": [],
   "source": [
    "await attcs.atpneumatics.cmd_m1OpenAirValve.start()"
   ]
  },
  {
   "cell_type": "code",
   "execution_count": null,
   "metadata": {
    "collapsed": true
   },
   "outputs": [],
   "source": [
    "attcs.atpneumatics.cmd_m1SetPressure.set(pressure=0.1)"
   ]
  },
  {
   "cell_type": "code",
   "execution_count": null,
   "metadata": {
    "collapsed": true
   },
   "outputs": [],
   "source": [
    "await attcs.atpneumatics.cmd_m1SetPressure.start()"
   ]
  },
  {
   "cell_type": "code",
   "execution_count": null,
   "metadata": {
    "collapsed": true
   },
   "outputs": [],
   "source": [
    "await attcs.atpneumatics.cmd_m1CloseAirValve.start()"
   ]
  },
  {
   "cell_type": "markdown",
   "metadata": {},
   "source": [
    "# Measure maximum load on cell at a specified altitude"
   ]
  },
  {
   "cell_type": "code",
   "execution_count": 8,
   "metadata": {
    "collapsed": true
   },
   "outputs": [],
   "source": [
    "class MeasureM1Pressure():\n",
    "    \n",
    "    def __init__(self, attcs):\n",
    "        \n",
    "        self.attcs = attcs\n",
    "        self.elevation = np.array([])\n",
    "        self.pressure = np.array([])\n",
    "        self.load_off = np.array([])\n",
    "        self.max_load = np.array([])\n",
    "        self.min_load = np.array([])\n",
    "        \n",
    "        self.min_allowed_load = 120.\n",
    "        self.optimum_fraction = 1./3.\n",
    "        self.tolerance = 0.01\n",
    "        \n",
    "    async def get_load(self, n=10):\n",
    "        \n",
    "        load_measures = np.zeros(n)\n",
    "        for i in range(n):\n",
    "            load = await self.attcs.atpneumatics.tel_loadCell.next(flush=True, timeout=2)\n",
    "            load_measures[i] = load.cellLoad\n",
    "            \n",
    "        return np.mean(load_measures)\n",
    "    \n",
    "    async def get_pressure(self, n=10):\n",
    "        \n",
    "        pressure_measures = np.zeros(n)\n",
    "        for i in range(n):\n",
    "            topic = await self.attcs.atpneumatics.tel_m1AirPressure.next(flush=True, timeout=3)\n",
    "            pressure_measures[i] = topic.pressure\n",
    "            \n",
    "        return np.mean(pressure_measures)*u.Pa    \n",
    "\n",
    "    async def measure_optimum_pressure(self):\n",
    "        \n",
    "        attcs = self.attcs\n",
    "        \n",
    "        encoders = attcs.atmcs.tel_mountEncoders.get()\n",
    "        \n",
    "        await attcs.atpneumatics.cmd_m1CloseAirValve.start()\n",
    "        await asyncio.sleep(5.)\n",
    "        \n",
    "        closed_air_load = await self.get_load()\n",
    "        \n",
    "        optimum_load = closed_air_load * self.optimum_fraction\n",
    "\n",
    "        print(f\"Optimum load: {optimum_load}\")\n",
    "        \n",
    "        await attcs.atpneumatics.cmd_m1OpenAirValve.start()    \n",
    "\n",
    "        attcs.atpneumatics.cmd_m1SetPressure.set(pressure=0.1)\n",
    "        self.attcs.atpneumatics.evt_m1SetPressure.flush()\n",
    "        await attcs.atpneumatics.cmd_m1SetPressure.start()\n",
    "        try:\n",
    "            sp = await self.attcs.atpneumatics.evt_m1SetPressure.next(flush=False, timeout=30)\n",
    "        except asyncio.TimeoutError:\n",
    "            pass\n",
    "\n",
    "        min_pressure = await self.get_pressure()\n",
    "\n",
    "        print(f\"Minimum pressure: {min_pressure}\")\n",
    "\n",
    "#         max_pressure = 15.*np.sin(np.radians(encoders.elevationCalculatedAngle))*u.imperial.psi\n",
    "        max_pressure = 9. * np.sin(np.radians(encoders.elevationCalculatedAngle)) * min_pressure\n",
    "\n",
    "        print(f\"Maximum pressure: {max_pressure.to(u.Pa)}\")\n",
    "\n",
    "        print(f\"Max/Min pressure: {max_pressure.to(u.Pa)/min_pressure}\")\n",
    "\n",
    "        max_load = await self.get_load()  # Max load is with minumum pressure \n",
    "\n",
    "        print(f\"Max load: {max_load}\")\n",
    "        \n",
    "#         if max_load > optimum_load:\n",
    "#             print(f\"Max load larger then optimum. Operation complete.\")\n",
    "#             self.elevation = np.append(self.elevation, encoders.elevationCalculatedAngle)\n",
    "#             self.pressure = np.append(self.pressure, min_pressure)\n",
    "#             return \n",
    "\n",
    "        attcs.atpneumatics.cmd_m1SetPressure.set(pressure=max_pressure.to(u.Pa).value)\n",
    "        self.attcs.atpneumatics.evt_m1SetPressure.flush()\n",
    "        await attcs.atpneumatics.cmd_m1SetPressure.start()\n",
    "        try:\n",
    "            sp = await self.attcs.atpneumatics.evt_m1SetPressure.next(flush=False, timeout=120)\n",
    "        except asyncio.TimeoutError:\n",
    "            pass\n",
    "\n",
    "        measured_pressure = await self.get_pressure()\n",
    "\n",
    "        min_load = await self.get_load()\n",
    "        \n",
    "        if min_load < self.min_allowed_load:\n",
    "#             attcs.atpneumatics.cmd_m1SetPressure.set(pressure=0.1)\n",
    "#             await attcs.atpneumatics.cmd_m1SetPressure.start()\n",
    "            print(f\"Min load {min_load} to small {self.min_allowed_load}. \")\n",
    "#             return \n",
    "            \n",
    "        print(f\"Min load: {min_load}\")\n",
    "\n",
    "        init_pressure = (min_pressure+max_pressure.to(u.Pa))/2.\n",
    "        print(f\"Init pressure: {init_pressure} ({init_pressure/max_pressure.to(u.Pa)})\")\n",
    "\n",
    "        attcs.atpneumatics.cmd_m1SetPressure.set(pressure=init_pressure.to(u.Pa).value)\n",
    "        self.attcs.atpneumatics.evt_m1SetPressure.flush()\n",
    "        await attcs.atpneumatics.cmd_m1SetPressure.start()\n",
    "        try:\n",
    "            sp = await self.attcs.atpneumatics.evt_m1SetPressure.next(flush=False, timeout=30)\n",
    "        except asyncio.TimeoutError:\n",
    "            pass\n",
    "\n",
    "        niter = 0\n",
    "        max_iter = 11\n",
    "        success = True\n",
    "\n",
    "        init_pressure = (min_pressure+max_pressure.to(u.Pa))/2.\n",
    "        print(f\"Init pressure: {init_pressure} ({init_pressure/max_pressure.to(u.Pa)})\")\n",
    "\n",
    "        attcs.atpneumatics.cmd_m1SetPressure.set(pressure=init_pressure.to(u.Pa).value)\n",
    "        self.attcs.atpneumatics.evt_m1SetPressure.flush()\n",
    "        await attcs.atpneumatics.cmd_m1SetPressure.start()\n",
    "        try:\n",
    "            sp = await self.attcs.atpneumatics.evt_m1SetPressure.next(flush=False, timeout=30)\n",
    "        except asyncio.TimeoutError:\n",
    "            pass\n",
    "\n",
    "        load = await self.get_load()\n",
    "        \n",
    "        print(\"****\")\n",
    "        print(f\"load: {load}\")\n",
    "        print(f\"Optimum load: {optimum_load}\")\n",
    "        delta = np.abs(load - optimum_load)/optimum_load\n",
    "        print(f\"{delta} > 0.1\")\n",
    "        print(\"****\")\n",
    "\n",
    "        \n",
    "        while delta > self.tolerance:\n",
    "            niter += 1\n",
    "            print(f\"Iter {niter}\")\n",
    "            print(f\"Dif: {load-optimum_load}\")\n",
    "\n",
    "            if load - optimum_load < 0.:\n",
    "                max_pressure = init_pressure\n",
    "            else:\n",
    "                min_pressure = init_pressure\n",
    "            init_pressure = (min_pressure+max_pressure)/2.\n",
    "            print(f\"Init pressure: {init_pressure} ({init_pressure/max_pressure.to(u.Pa)})\")\n",
    "\n",
    "            attcs.atpneumatics.cmd_m1SetPressure.set(pressure=init_pressure.to(u.Pa).value)\n",
    "            self.attcs.atpneumatics.evt_m1SetPressure.flush()\n",
    "            await attcs.atpneumatics.cmd_m1SetPressure.start()\n",
    "            try:\n",
    "                sp = await self.attcs.atpneumatics.evt_m1SetPressure.next(flush=False, timeout=30)\n",
    "            except asyncio.TimeoutError:\n",
    "                pass\n",
    "            \n",
    "            measured_pressure = await self.get_pressure()\n",
    "            \n",
    "            print(f\"Set pressure: {init_pressure.to(u.Pa)}\")\n",
    "            print(f\"Measured pressure: {measured_pressure}\")\n",
    "            print(f\"Diff: {init_pressure.to(u.Pa).value-measured_pressure.to(u.Pa).value}\")\n",
    "\n",
    "            load = await self.get_load()\n",
    "\n",
    "            print(\"****\")\n",
    "            print(f\"load: {load}\")\n",
    "            print(f\"Optimum load: {optimum_load}\")\n",
    "            delta = np.abs(load - optimum_load)/optimum_load\n",
    "            print(f\"diff: {delta} | tol: {self.tolerance}\")\n",
    "            print(\"****\")\n",
    "            \n",
    "            \n",
    "\n",
    "            if niter > max_iter:\n",
    "                print(\"Failed\")\n",
    "                success = False\n",
    "                break\n",
    "\n",
    "        if success:\n",
    "            print(\"Success!\")\n",
    "            optimum_pressure = await self.get_pressure()\n",
    "            print(f\"Optimum pressure: {optimum_pressure} @ el {encoders.elevationCalculatedAngle}\")        \n",
    "            self.elevation = np.append(self.elevation, encoders.elevationCalculatedAngle)\n",
    "            self.pressure = np.append(self.pressure, optimum_pressure.to(u.Pa).value)    \n",
    "            \n",
    "        attcs.atpneumatics.cmd_m1SetPressure.set(pressure=0.1)\n",
    "        await attcs.atpneumatics.cmd_m1SetPressure.start()\n",
    "\n"
   ]
  },
  {
   "cell_type": "code",
   "execution_count": 3,
   "metadata": {
    "collapsed": true
   },
   "outputs": [],
   "source": [
    "attcs = ATTCS()"
   ]
  },
  {
   "cell_type": "code",
   "execution_count": 9,
   "metadata": {
    "collapsed": true
   },
   "outputs": [],
   "source": [
    "mp = MeasureM1Pressure(attcs)"
   ]
  },
  {
   "cell_type": "code",
   "execution_count": 39,
   "metadata": {},
   "outputs": [
    {
     "name": "stdout",
     "output_type": "stream",
     "text": [
      "Optimum load: 361.41357628479005\n",
      "Minimum pressure: 10443.347872314454 Pa\n",
      "Maximum pressure: 93762.99485855806 Pa\n",
      "Max/Min pressure: 8.978250653425595\n",
      "Max load: 1006.4701832611084\n",
      "Min load: 360.1384416046143\n",
      "Init pressure: 52103.171365436254 Pa (0.555690136007645)\n",
      "Init pressure: 52103.171365436254 Pa (0.555690136007645)\n",
      "****\n",
      "load: 658.5688263702392\n",
      "Optimum load: 361.41357628479005\n",
      "0.8222027881190993 > 0.1\n",
      "****\n",
      "Iter 1\n",
      "Dif: 297.15525008544915\n",
      "Init pressure: 72933.08311199716 Pa (0.7778450680038226)\n",
      "Set pressure: 72933.08311199716 Pa\n",
      "Measured pressure: 72475.3571459961 Pa\n",
      "Diff: 457.72596600106044\n",
      "****\n",
      "load: 515.0611965454102\n",
      "Optimum load: 361.41357628479005\n",
      "0.42512963082368405 > 0.1\n",
      "****\n",
      "Iter 2\n",
      "Dif: 153.64762026062016\n",
      "Init pressure: 83348.03898527761 Pa (0.8889225340019113)\n",
      "Set pressure: 83348.03898527761 Pa\n",
      "Measured pressure: 82703.66459106446 Pa\n",
      "Diff: 644.374394213155\n",
      "****\n",
      "load: 440.341607510376\n",
      "Optimum load: 361.41357628479005\n",
      "0.21838701256587958 > 0.1\n",
      "****\n",
      "Iter 3\n",
      "Dif: 78.92803122558593\n",
      "Init pressure: 88555.51692191784 Pa (0.9444612670009557)\n",
      "Set pressure: 88555.51692191784 Pa\n",
      "Measured pressure: 88155.63377929688 Pa\n",
      "Diff: 399.8831426209508\n",
      "****\n",
      "load: 394.52974702148435\n",
      "Optimum load: 361.41357628479005\n",
      "0.09162957041381066 > 0.1\n",
      "****\n",
      "Success!\n",
      "Optimum pressure: 87883.57186889648 Pa @ el 86.01592981396243\n"
     ]
    }
   ],
   "source": [
    "await mp.measure_optimum_pressure()"
   ]
  },
  {
   "cell_type": "code",
   "execution_count": 41,
   "metadata": {},
   "outputs": [
    {
     "name": "stdout",
     "output_type": "stream",
     "text": [
      "Optimum load: 340.8718262817383\n",
      "Minimum pressure: 10133.832736816406 Pa\n",
      "Maximum pressure: 88496.71213435139 Pa\n",
      "Max/Min pressure: 8.73279779059715\n",
      "Max load: 941.0208867004394\n",
      "Min load: 337.19144731750487\n",
      "Init pressure: 49315.272435583895 Pa (0.5572554193958738)\n",
      "Init pressure: 49315.272435583895 Pa (0.5572554193958738)\n",
      "****\n",
      "load: 630.7009344085694\n",
      "Optimum load: 340.8718262817383\n",
      "0.850258325213656 > 0.1\n",
      "****\n",
      "Iter 1\n",
      "Dif: 289.8291081268311\n",
      "Init pressure: 68905.99228496764 Pa (0.7786277096979368)\n",
      "Set pressure: 68905.99228496764 Pa\n",
      "Measured pressure: 68440.08775878907 Pa\n",
      "Diff: 465.904526178565\n",
      "****\n",
      "load: 495.61313019104\n",
      "Optimum load: 340.8718262817383\n",
      "0.4539574466955344 > 0.1\n",
      "****\n",
      "Iter 2\n",
      "Dif: 154.74130390930168\n",
      "Init pressure: 78701.35220965951 Pa (0.8893138548489684)\n",
      "Set pressure: 78701.35220965951 Pa\n",
      "Measured pressure: 78184.23862548829 Pa\n",
      "Diff: 517.1135841712239\n",
      "****\n",
      "load: 421.68088478393554\n",
      "Optimum load: 340.8718262817383\n",
      "0.23706581850330655 > 0.1\n",
      "****\n",
      "Iter 3\n",
      "Dif: 80.80905850219722\n",
      "Init pressure: 83599.03217200545 Pa (0.9446569274244843)\n",
      "Set pressure: 83599.03217200545 Pa\n",
      "Measured pressure: 82960.78729370117 Pa\n",
      "Diff: 638.2448783042782\n",
      "****\n",
      "load: 381.5480795837402\n",
      "Optimum load: 340.8718262817383\n",
      "0.11933005360314539 > 0.1\n",
      "****\n",
      "Iter 4\n",
      "Dif: 40.676253302001896\n",
      "Init pressure: 86047.87215317841 Pa (0.972328463712242)\n",
      "Set pressure: 86047.87215317841 Pa\n",
      "Measured pressure: 85388.30334960938 Pa\n",
      "Diff: 659.5688035690255\n",
      "****\n",
      "load: 366.5926231201172\n",
      "Optimum load: 340.8718262817383\n",
      "0.07545591878021637 > 0.1\n",
      "****\n",
      "Success!\n",
      "Optimum pressure: 85399.45515258789 Pa @ el 76.00358599005267\n"
     ]
    }
   ],
   "source": [
    "await mp.measure_optimum_pressure()"
   ]
  },
  {
   "cell_type": "code",
   "execution_count": 43,
   "metadata": {},
   "outputs": [
    {
     "name": "stdout",
     "output_type": "stream",
     "text": [
      "Optimum load: 315.00215814819336\n",
      "Minimum pressure: 10033.67692138672 Pa\n",
      "Maximum pressure: 82496.51681951978 Pa\n",
      "Max/Min pressure: 8.22196264299471\n",
      "Max load: 863.1661767883301\n",
      "Min load: 323.1984505645752\n",
      "Init pressure: 46265.09687045325 Pa (0.5608127306958772)\n",
      "Init pressure: 46265.09687045325 Pa (0.5608127306958772)\n",
      "****\n",
      "load: 581.0928558929444\n",
      "Optimum load: 315.00215814819336\n",
      "0.8447265863479201 > 0.1\n",
      "****\n",
      "Iter 1\n",
      "Dif: 266.090697744751\n",
      "Init pressure: 64380.80684498651 Pa (0.7804063653479386)\n",
      "Set pressure: 64380.80684498651 Pa\n",
      "Measured pressure: 63811.66869995118 Pa\n",
      "Diff: 569.1381450353292\n",
      "****\n",
      "load: 463.9714187713624\n",
      "Optimum load: 315.00215814819336\n",
      "0.4729150476267091 > 0.1\n",
      "****\n",
      "Iter 2\n",
      "Dif: 148.96926062316902\n",
      "Init pressure: 73438.66183225314 Pa (0.8902031826739693)\n",
      "Set pressure: 73438.66183225314 Pa\n",
      "Measured pressure: 73053.14678710936 Pa\n",
      "Diff: 385.5150451437803\n",
      "****\n",
      "load: 391.06407756958004\n",
      "Optimum load: 315.00215814819336\n",
      "0.2414647565227258 > 0.1\n",
      "****\n",
      "Iter 3\n",
      "Dif: 76.06191942138668\n",
      "Init pressure: 77967.58932588645 Pa (0.9451015913369846)\n",
      "Set pressure: 77967.58932588645 Pa\n",
      "Measured pressure: 77386.98991821289 Pa\n",
      "Diff: 580.599407673566\n",
      "****\n",
      "load: 360.4981761932373\n",
      "Optimum load: 315.00215814819336\n",
      "0.14443081378394965 > 0.1\n",
      "****\n",
      "Iter 4\n",
      "Dif: 45.49601804504397\n",
      "Init pressure: 80232.05307270311 Pa (0.9725507956684922)\n",
      "Set pressure: 80232.05307270311 Pa\n",
      "Measured pressure: 79666.37636474609 Pa\n",
      "Diff: 565.6767079570272\n",
      "****\n",
      "load: 340.46028086242677\n",
      "Optimum load: 315.00215814819336\n",
      "0.08081888347652713 > 0.1\n",
      "****\n",
      "Success!\n",
      "Optimum pressure: 79528.97773559569 Pa @ el 66.00083776889369\n"
     ]
    }
   ],
   "source": [
    "await mp.measure_optimum_pressure()"
   ]
  },
  {
   "cell_type": "code",
   "execution_count": 45,
   "metadata": {},
   "outputs": [
    {
     "name": "stdout",
     "output_type": "stream",
     "text": [
      "Optimum load: 283.19121309814443\n",
      "Minimum pressure: 10532.56229614258 Pa\n",
      "Maximum pressure: 78588.11744115068 Pa\n",
      "Max/Min pressure: 7.461443401092686\n",
      "Max load: 762.055643838501\n",
      "Min load: 257.692139465332\n",
      "Init pressure: 44560.33986864663 Pa (0.5670111630045707)\n",
      "Init pressure: 44560.33986864663 Pa (0.5670111630045707)\n",
      "****\n",
      "load: 510.55569050903324\n",
      "Optimum load: 283.19121309814443\n",
      "0.8028655794913101 > 0.1\n",
      "****\n",
      "Iter 1\n",
      "Dif: 227.3644774108888\n",
      "Init pressure: 61574.22865489866 Pa (0.7835055815022853)\n",
      "Set pressure: 61574.22865489866 Pa\n",
      "Measured pressure: 60883.16315551758 Pa\n",
      "Diff: 691.0654993810822\n",
      "****\n",
      "load: 389.04141893920894\n",
      "Optimum load: 283.19121309814443\n",
      "0.37377644836875795 > 0.1\n",
      "****\n",
      "Iter 2\n",
      "Dif: 105.85020584106451\n",
      "Init pressure: 70081.17304802468 Pa (0.8917527907511428)\n",
      "Set pressure: 70081.17304802468 Pa\n",
      "Measured pressure: 69547.06201293945 Pa\n",
      "Diff: 534.111035085225\n",
      "****\n",
      "load: 326.74692684631344\n",
      "Optimum load: 283.19121309814443\n",
      "0.15380319633389927 > 0.1\n",
      "****\n",
      "Iter 3\n",
      "Dif: 43.55571374816901\n",
      "Init pressure: 74334.64524458768 Pa (0.9458763953755714)\n",
      "Set pressure: 74334.64524458768 Pa\n",
      "Measured pressure: 73831.03764770509 Pa\n",
      "Diff: 503.60759688258986\n",
      "****\n",
      "load: 295.35092093811033\n",
      "Optimum load: 283.19121309814443\n",
      "0.04293815371930966 > 0.1\n",
      "****\n",
      "Success!\n",
      "Optimum pressure: 74007.15197021484 Pa @ el 56.00119822798297\n"
     ]
    }
   ],
   "source": [
    "await mp.measure_optimum_pressure()"
   ]
  },
  {
   "cell_type": "code",
   "execution_count": 49,
   "metadata": {},
   "outputs": [
    {
     "name": "stdout",
     "output_type": "stream",
     "text": [
      "Optimum load: 242.87831435546877\n",
      "Minimum pressure: 10164.552797851564 Pa\n",
      "Maximum pressure: 65805.89636806751 Pa\n",
      "Max/Min pressure: 6.474057214005185\n",
      "Max load: 653.8379771575928\n",
      "Min load: 236.19901591186527\n",
      "Init pressure: 37985.224582959534 Pa (0.5772313224106764)\n",
      "Init pressure: 37985.224582959534 Pa (0.5772313224106764)\n",
      "****\n",
      "load: 438.3949682647705\n",
      "Optimum load: 242.87831435546877\n",
      "0.8049983977702923 > 0.1\n",
      "****\n",
      "Iter 1\n",
      "Dif: 195.51665390930174\n",
      "Init pressure: 51895.56047551352 Pa (0.7886156612053382)\n",
      "Set pressure: 51895.56047551352 Pa\n",
      "Measured pressure: 51600.44443847657 Pa\n",
      "Diff: 295.11603703695437\n",
      "****\n",
      "load: 340.2057516723633\n",
      "Optimum load: 242.87831435546877\n",
      "0.4007251020955674 > 0.1\n",
      "****\n",
      "Iter 2\n",
      "Dif: 97.32743731689453\n",
      "Init pressure: 58850.72842179051 Pa (0.894307830602669)\n",
      "Set pressure: 58850.72842179051 Pa\n",
      "Measured pressure: 58324.771223144526 Pa\n",
      "Diff: 525.957198645985\n",
      "****\n",
      "load: 289.79132468261724\n",
      "Optimum load: 242.87831435546877\n",
      "0.19315438042149832 > 0.1\n",
      "****\n",
      "Iter 3\n",
      "Dif: 46.91301032714847\n",
      "Init pressure: 62328.31239492901 Pa (0.9471539153013345)\n",
      "Set pressure: 62328.31239492901 Pa\n",
      "Measured pressure: 61885.35254394532 Pa\n",
      "Diff: 442.9598509836869\n",
      "****\n",
      "load: 263.4417841827393\n",
      "Optimum load: 242.87831435546877\n",
      "0.08466573016961283 > 0.1\n",
      "****\n",
      "Success!\n",
      "Optimum pressure: 61774.46574829101 Pa @ el 45.999990935917594\n"
     ]
    }
   ],
   "source": [
    "await mp.measure_optimum_pressure()"
   ]
  },
  {
   "cell_type": "code",
   "execution_count": 53,
   "metadata": {},
   "outputs": [
    {
     "name": "stdout",
     "output_type": "stream",
     "text": [
      "Optimum load: 195.00035558776852\n",
      "Minimum pressure: 9763.508713378907 Pa\n",
      "Maximum pressure: 51649.90412577084 Pa\n",
      "Max/Min pressure: 5.290096587407673\n",
      "Max load: 511.5262951538087\n",
      "Min load: 200.2554218078613\n",
      "Init pressure: 30706.70641957487 Pa (0.594516232688488)\n",
      "Init pressure: 30706.70641957487 Pa (0.594516232688488)\n",
      "****\n",
      "load: 349.3151816986084\n",
      "Optimum load: 195.00035558776852\n",
      "0.7913566395594785 > 0.1\n",
      "****\n",
      "Iter 1\n",
      "Dif: 154.31482611083987\n",
      "Init pressure: 41178.30527267286 Pa (0.797258116344244)\n",
      "Set pressure: 41178.30527267286 Pa\n",
      "Measured pressure: 40918.91088745117 Pa\n",
      "Diff: 259.3943852216835\n",
      "****\n",
      "load: 276.2544442382812\n",
      "Optimum load: 195.00035558776852\n",
      "0.41668687426542 > 0.1\n",
      "****\n",
      "Iter 2\n",
      "Dif: 81.2540886505127\n",
      "Init pressure: 46414.10469922185 Pa (0.898629058172122)\n",
      "Set pressure: 46414.10469922185 Pa\n",
      "Measured pressure: 46054.63177612305 Pa\n",
      "Diff: 359.4729230987941\n",
      "****\n",
      "load: 235.9037620513916\n",
      "Optimum load: 195.00035558776852\n",
      "0.20976067628355008 > 0.1\n",
      "****\n",
      "Iter 3\n",
      "Dif: 40.90340646362307\n",
      "Init pressure: 49032.004412496346 Pa (0.9493145290860611)\n",
      "Set pressure: 49032.004412496346 Pa\n",
      "Measured pressure: 48719.91268798828 Pa\n",
      "Diff: 312.09172450806363\n",
      "****\n",
      "load: 221.7349704711914\n",
      "Optimum load: 195.00035558776852\n",
      "0.13710033913958566 > 0.1\n",
      "****\n",
      "Iter 4\n",
      "Dif: 26.734614883422864\n",
      "Init pressure: 50340.954269133596 Pa (0.9746572645430306)\n",
      "Set pressure: 50340.954269133596 Pa\n",
      "Measured pressure: 50001.10756225586 Pa\n",
      "Diff: 339.84670687773905\n",
      "****\n",
      "load: 210.1026471130371\n",
      "Optimum load: 195.00035558776852\n",
      "0.07744750761990857 > 0.1\n",
      "****\n",
      "Success!\n",
      "Optimum pressure: 50110.100655517585 Pa @ el 36.0002306956012\n"
     ]
    }
   ],
   "source": [
    "await mp.measure_optimum_pressure()"
   ]
  },
  {
   "cell_type": "code",
   "execution_count": 56,
   "metadata": {},
   "outputs": [
    {
     "name": "stdout",
     "output_type": "stream",
     "text": [
      "Optimum load: 139.89037409973142\n",
      "Minimum pressure: 9933.521105957032 Pa\n",
      "Maximum pressure: 39191.30904914442 Pa\n",
      "Max/Min pressure: 3.9453592166469345\n",
      "Max load: 341.8150548980713\n",
      "Min load: 127.33654194946288\n",
      "Init pressure: 24562.41507755073 Pa (0.6267311726370351)\n",
      "Init pressure: 24562.41507755073 Pa (0.6267311726370351)\n",
      "****\n",
      "load: 220.81391417541505\n",
      "Optimum load: 139.89037409973142\n",
      "0.5784782591116039 > 0.1\n",
      "****\n",
      "Iter 1\n",
      "Dif: 80.92354007568363\n",
      "Init pressure: 31876.862063347577 Pa (0.8133655863185175)\n",
      "Set pressure: 31876.862063347577 Pa\n",
      "Measured pressure: 31553.92132202148 Pa\n",
      "Diff: 322.94074132609603\n",
      "****\n",
      "load: 180.60441084594726\n",
      "Optimum load: 139.89037409973142\n",
      "0.29104244668893203 > 0.1\n",
      "****\n",
      "Iter 2\n",
      "Dif: 40.71403674621584\n",
      "Init pressure: 35534.085556246 Pa (0.9066827931592587)\n",
      "Set pressure: 35534.085556246 Pa\n",
      "Measured pressure: 34955.22123046876 Pa\n",
      "Diff: 578.8643257772419\n",
      "****\n",
      "load: 154.57795273132325\n",
      "Optimum load: 139.89037409973142\n",
      "0.1049934902677484 > 0.1\n",
      "****\n",
      "Iter 3\n",
      "Dif: 14.687578631591833\n",
      "Init pressure: 37362.69730269521 Pa (0.9533413965796294)\n",
      "Set pressure: 37362.69730269521 Pa\n",
      "Measured pressure: 36837.98223144531 Pa\n",
      "Diff: 524.7150712498988\n",
      "****\n",
      "load: 138.23582124023437\n",
      "Optimum load: 139.89037409973142\n",
      "0.0118274961386369 > 0.1\n",
      "****\n",
      "Success!\n",
      "Optimum pressure: 36839.875933837895 Pa @ el 26.000133838053443\n"
     ]
    }
   ],
   "source": [
    "await mp.measure_optimum_pressure()"
   ]
  },
  {
   "cell_type": "code",
   "execution_count": 57,
   "metadata": {},
   "outputs": [
    {
     "data": {
      "text/plain": [
       "(array([86.24835172, 76.0056504 , 86.01592981, 76.00358599, 66.00083777,\n",
       "        56.00119823, 45.99999094, 36.0002307 , 26.00013384]),\n",
       " array([87299.2594751 , 88051.26973633, 87883.5718689 , 85399.45515259,\n",
       "        79528.9777356 , 74007.15197021, 61774.46574829, 50110.10065552,\n",
       "        36839.87593384]))"
      ]
     },
     "execution_count": 57,
     "metadata": {},
     "output_type": "execute_result"
    }
   ],
   "source": [
    "mp.elevation, mp.pressure"
   ]
  },
  {
   "cell_type": "code",
   "execution_count": 60,
   "metadata": {
    "collapsed": true
   },
   "outputs": [],
   "source": [
    "data = np.array([mp.elevation[2:], mp.pressure[2:]])"
   ]
  },
  {
   "cell_type": "code",
   "execution_count": 61,
   "metadata": {},
   "outputs": [
    {
     "data": {
      "text/plain": [
       "array([[8.60159298e+01, 7.60035860e+01, 6.60008378e+01, 5.60011982e+01,\n",
       "        4.59999909e+01, 3.60002307e+01, 2.60001338e+01],\n",
       "       [8.78835719e+04, 8.53994552e+04, 7.95289777e+04, 7.40071520e+04,\n",
       "        6.17744657e+04, 5.01101007e+04, 3.68398759e+04]])"
      ]
     },
     "execution_count": 61,
     "metadata": {},
     "output_type": "execute_result"
    }
   ],
   "source": [
    "data"
   ]
  },
  {
   "cell_type": "code",
   "execution_count": 62,
   "metadata": {
    "collapsed": true
   },
   "outputs": [],
   "source": [
    "np.save(\"alt_pressure.npy\", data)"
   ]
  },
  {
   "cell_type": "code",
   "execution_count": 65,
   "metadata": {
    "collapsed": true
   },
   "outputs": [],
   "source": [
    "fit = np.polyfit(mp.elevation[2:], mp.pressure[2:], 2)"
   ]
  },
  {
   "cell_type": "code",
   "execution_count": 74,
   "metadata": {},
   "outputs": [
    {
     "data": {
      "text/plain": [
       "Text(0,0.5,'Pressure (kPa)')"
      ]
     },
     "execution_count": 74,
     "metadata": {},
     "output_type": "execute_result"
    },
    {
     "data": {
      "image/png": "[encoded data removed]",
      "text/plain": [
       "<Figure size 432x288 with 1 Axes>"
      ]
     },
     "metadata": {
      "needs_background": "light"
     },
     "output_type": "display_data"
    }
   ],
   "source": [
    "poly = np.poly1d(fit)\n",
    "x = np.linspace(22., 90., 100)\n",
    "y = poly(x)\n",
    "plt.plot(mp.elevation[2:], mp.pressure[2:]/1e3, 'o')\n",
    "plt.plot(x, y/1e3, '-')\n",
    "plt.xlabel(\"Altitude (deg)\")\n",
    "plt.ylabel(\"Pressure (kPa)\")"
   ]
  },
  {
   "cell_type": "code",
   "execution_count": 75,
   "metadata": {},
   "outputs": [
    {
     "name": "stdout",
     "output_type": "stream",
     "text": [
      "[-1.14681512e+01  2.14676757e+03 -1.17336994e+04]\n"
     ]
    }
   ],
   "source": [
    "print(fit)"
   ]
  },
  {
   "cell_type": "code",
   "execution_count": null,
   "metadata": {
    "collapsed": true
   },
   "outputs": [],
   "source": []
  },
  {
   "cell_type": "code",
   "execution_count": null,
   "metadata": {
    "collapsed": true
   },
   "outputs": [],
   "source": []
  },
  {
   "cell_type": "code",
   "execution_count": 23,
   "metadata": {},
   "outputs": [
    {
     "name": "stdout",
     "output_type": "stream",
     "text": [
      "<SALPY_ATDome.ATDome_logevent_summaryStateC object at 0x7fb8c3b57378>\n"
     ]
    }
   ],
   "source": [
    "ss = attcs.atdome.evt_summaryState.get()\n",
    "print(ss)"
   ]
  },
  {
   "cell_type": "code",
   "execution_count": 24,
   "metadata": {},
   "outputs": [
    {
     "data": {
      "text/plain": [
       "<State.STANDBY: 5>"
      ]
     },
     "execution_count": 24,
     "metadata": {},
     "output_type": "execute_result"
    }
   ],
   "source": [
    "salobj.State(ss.summaryState)"
   ]
  },
  {
   "cell_type": "code",
   "execution_count": 25,
   "metadata": {
    "collapsed": true
   },
   "outputs": [],
   "source": [
    "await salobj.set_summary_state(attcs.atdome, salobj.State.ENABLED, settingsToApply='test')"
   ]
  },
  {
   "cell_type": "code",
   "execution_count": 20,
   "metadata": {
    "collapsed": true
   },
   "outputs": [],
   "source": [
    "await salobj.set_summary_state(attcs.atdome, salobj.State.STANDBY)"
   ]
  },
  {
   "cell_type": "code",
   "execution_count": 76,
   "metadata": {},
   "outputs": [
    {
     "data": {
      "text/plain": [
       "True"
      ]
     },
     "execution_count": 76,
     "metadata": {},
     "output_type": "execute_result"
    }
   ],
   "source": [
    "attcs.atdome.cmd_moveAzimuth.set(azimuth=0.)"
   ]
  },
  {
   "cell_type": "code",
   "execution_count": 77,
   "metadata": {},
   "outputs": [
    {
     "data": {
      "text/plain": [
       "CommandIdAck(cmd_id=1559838822, ack=(ack=303, error=0, result='Done'))"
      ]
     },
     "execution_count": 77,
     "metadata": {},
     "output_type": "execute_result"
    }
   ],
   "source": [
    "await attcs.atdome.cmd_moveAzimuth.start()"
   ]
  },
  {
   "cell_type": "code",
   "execution_count": 28,
   "metadata": {},
   "outputs": [
    {
     "data": {
      "text/plain": [
       "CommandIdAck(cmd_id=1559838820, ack=(ack=303, error=0, result='Done'))"
      ]
     },
     "execution_count": 28,
     "metadata": {},
     "output_type": "execute_result"
    }
   ],
   "source": [
    "await attcs.atdome.cmd_openShutter.start()"
   ]
  },
  {
   "cell_type": "code",
   "execution_count": 31,
   "metadata": {},
   "outputs": [
    {
     "data": {
      "text/plain": [
       "CommandIdAck(cmd_id=1559838819, ack=(ack=303, error=0, result='Done'))"
      ]
     },
     "execution_count": 31,
     "metadata": {},
     "output_type": "execute_result"
    }
   ],
   "source": [
    "await attcs.atdome.cmd_closeShutter.start()"
   ]
  },
  {
   "cell_type": "code",
   "execution_count": null,
   "metadata": {
    "collapsed": true
   },
   "outputs": [],
   "source": [
    "await mp.attcs.atpneumatics.evt_m"
   ]
  },
  {
   "cell_type": "code",
   "execution_count": null,
   "metadata": {
    "collapsed": true
   },
   "outputs": [],
   "source": [
    "sp = await mp.attcs.atpneumatics.evt_m1SetPressure.next(flush=False, timeout=5)"
   ]
  },
  {
   "cell_type": "code",
   "execution_count": null,
   "metadata": {
    "collapsed": true
   },
   "outputs": [],
   "source": [
    "sp.pressure"
   ]
  },
  {
   "cell_type": "code",
   "execution_count": null,
   "metadata": {
    "collapsed": true
   },
   "outputs": [],
   "source": [
    "await mp.attcs.atpneumatics.cmd_m1CloseAirValve.start()    "
   ]
  },
  {
   "cell_type": "code",
   "execution_count": null,
   "metadata": {
    "collapsed": true
   },
   "outputs": [],
   "source": [
    "mp.attcs.atpneumatics.cmd_m1SetPressure.set(pressure=0.1)\n",
    "await mp.attcs.atpneumatics.cmd_m1SetPressure.start()"
   ]
  },
  {
   "cell_type": "code",
   "execution_count": null,
   "metadata": {
    "collapsed": true
   },
   "outputs": [],
   "source": [
    "pressure = 15.*u.imperial.psi\n",
    "mp.attcs.atpneumatics.cmd_m1SetPressure.set(pressure=pressure.to(u.Pa).value)\n",
    "await mp.attcs.atpneumatics.cmd_m1SetPressure.start()"
   ]
  },
  {
   "cell_type": "code",
   "execution_count": null,
   "metadata": {
    "collapsed": true
   },
   "outputs": [],
   "source": [
    "load = await mp.get_load()"
   ]
  },
  {
   "cell_type": "code",
   "execution_count": null,
   "metadata": {
    "collapsed": true
   },
   "outputs": [],
   "source": [
    "print(load)"
   ]
  },
  {
   "cell_type": "code",
   "execution_count": null,
   "metadata": {
    "collapsed": true
   },
   "outputs": [],
   "source": [
    "load2 = await mp.get_load()"
   ]
  },
  {
   "cell_type": "code",
   "execution_count": null,
   "metadata": {
    "collapsed": true
   },
   "outputs": [],
   "source": [
    "print(load2/3.)"
   ]
  },
  {
   "cell_type": "code",
   "execution_count": null,
   "metadata": {
    "collapsed": true
   },
   "outputs": [],
   "source": [
    "mp.min_allowed_load = load"
   ]
  },
  {
   "cell_type": "code",
   "execution_count": null,
   "metadata": {
    "collapsed": true
   },
   "outputs": [],
   "source": [
    "mp.min_allowed_load"
   ]
  },
  {
   "cell_type": "markdown",
   "metadata": {},
   "source": [
    "## Get the optimum pressure for a specified load"
   ]
  },
  {
   "cell_type": "markdown",
   "metadata": {},
   "source": [
    "Set the optimum load. Measure the minimum pressure and load and get maximum pressure to run a search for the best pressure. "
   ]
  },
  {
   "cell_type": "code",
   "execution_count": null,
   "metadata": {
    "collapsed": true
   },
   "outputs": [],
   "source": []
  },
  {
   "cell_type": "code",
   "execution_count": null,
   "metadata": {
    "collapsed": true
   },
   "outputs": [],
   "source": [
    "optimum_pressure = await get_pressure(10, attcs.atpneumatics.tel_m1AirPressure)\n",
    "print(f\"Optimum pressure: {optimum_pressure}\")"
   ]
  },
  {
   "cell_type": "code",
   "execution_count": null,
   "metadata": {
    "collapsed": true
   },
   "outputs": [],
   "source": [
    "for c in attcs.components():\n",
    "    r = getattr(attcs, c.lower())\n",
    "    await salobj.set_summary_state(r, salobj.State.STANDBY)"
   ]
  },
  {
   "cell_type": "code",
   "execution_count": null,
   "metadata": {
    "collapsed": true
   },
   "outputs": [],
   "source": []
  }
 ],
 "metadata": {
  "kernelspec": {
   "display_name": "Python 3",
   "language": "python",
   "name": "python3"
  },
  "language_info": {
   "codemirror_mode": {
    "name": "ipython",
    "version": 3
   },
   "file_extension": ".py",
   "mimetype": "text/x-python",
   "name": "python",
   "nbconvert_exporter": "python",
   "pygments_lexer": "ipython3",
   "version": "3.6.2"
  }
 },
 "nbformat": 4,
 "nbformat_minor": 2
}
