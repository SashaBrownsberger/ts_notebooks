{
 "cells": [
  {
   "cell_type": "code",
   "execution_count": 1,
   "metadata": {},
   "outputs": [],
   "source": [
    "import asyncio \n",
    "from lsst.ts import salobj\n",
    "\n",
    "import SALPY_ATDome\n",
    "\n",
    "async def main():\n",
    "    r = salobj.Remote(SALPY_ATDome)\n",
    "\n",
    "    await salobj.set_summary_state(r, salobj.State.ENABLE)\n",
    "\n",
    "    r.cmd_moveAzimuth.set(azimuth=180.)\n",
    "    await r.cmd_moveAzimuth.start()\n",
    "\n",
    "    r.cmd_moveAzimuth.set(azimuth=270.)\n",
    "    await r.cmd_moveAzimuth.start()\n",
    "\n",
    "asyncio.get_event_loop().run_until_complete(main())"
   ]
  },
  {
   "cell_type": "code",
   "execution_count": null,
   "metadata": {},
   "outputs": [],
   "source": []
  }
 ],
 "metadata": {
  "kernelspec": {
   "display_name": "Python 3",
   "language": "python",
   "name": "python3"
  },
  "language_info": {
   "codemirror_mode": {
    "name": "ipython",
    "version": 3
   },
   "file_extension": ".py",
   "mimetype": "text/x-python",
   "name": "python",
   "nbconvert_exporter": "python",
   "pygments_lexer": "ipython3",
   "version": "3.6.6"
  }
 },
 "nbformat": 4,
 "nbformat_minor": 2
}
