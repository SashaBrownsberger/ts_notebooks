{
 "cells": [
  {
   "cell_type": "code",
   "execution_count": 1,
   "metadata": {},
   "outputs": [],
   "source": [
    "from lsst.ts import salobj\n",
    "import asyncio\n",
    "import numpy as np\n",
    "\n",
    "import SALPY_ATPtg\n",
    "import SALPY_ATMCS\n",
    "import SALPY_ATPneumatics\n",
    "import SALPY_ATHexapod\n",
    "import SALPY_ATAOS\n",
    "import SALPY_ATDome\n",
    "import SALPY_ATDomeTrajectory"
   ]
  },
  {
   "cell_type": "code",
   "execution_count": 8,
   "metadata": {},
   "outputs": [],
   "source": [
    "r1 = salobj.Remote(SALPY_ATPneumatics)\n",
    "\n",
    "r2 = salobj.Remote(SALPY_ATAOS)\n",
    "\n",
    "r3 = salobj.Remote(SALPY_ATHexapod)\n",
    "\n",
    "r4 = salobj.Remote(SALPY_ATMCS)\n",
    "\n",
    "r5 = salobj.Remote(SALPY_ATPtg)\n",
    "\n",
    "r6 = salobj.Remote(SALPY_ATDome, 1)\n",
    "\n",
    "r7 = salobj.Remote(SALPY_ATDomeTrajectory)"
   ]
  },
  {
   "cell_type": "code",
   "execution_count": 9,
   "metadata": {},
   "outputs": [],
   "source": [
    "def get_callback_for(name):\n",
    "    def print_pressure_callback(id_data):\n",
    "        print(f'{name} {id_data.pressure}')\n",
    "    return print_pressure_callback\n",
    "\n",
    "def print_evt_hexapodCorrectionStarted_callback(id_data):\n",
    "    print('CorrectionStarted:',id_data.azimuth, id_data.elevation, \n",
    "          id_data.hexapod_x, \n",
    "          id_data.hexapod_y, \n",
    "          id_data.hexapod_z, \n",
    "          id_data.hexapod_u, \n",
    "          id_data.hexapod_v, \n",
    "          id_data.hexapod_w)\n",
    "\n",
    "def print__moveToPosition_callback(id_data):\n",
    "    print('-->', \n",
    "          id_data.positionX, \n",
    "          id_data.positionY, \n",
    "          id_data.positionZ, \n",
    "          id_data.positionU, \n",
    "          id_data.positionV, \n",
    "          id_data.positionW)\n",
    "\n",
    "def get_print_log_message_callback_for(name):\n",
    "    def print_log_message(id_data):\n",
    "        print(f\"----\\n {name}:\\n LOG:{id_data.message}\\n TRACE:{id_data.traceback}\\n----\" )\n",
    "\n",
    "    return print_log_message\n",
    "\n",
    "def print_detailed_state(id_data):\n",
    "    print(id_data.substate)\n",
    "\n",
    "def get_error_code_callback_for(name):\n",
    "    def print_error_code(id_data):\n",
    "        print(f'{name}::{id_data.errorCode}::{id_data.errorReport}')\n",
    "    return print_error_code\n",
    "\n",
    "def get_ss_callback_for(name):\n",
    "    def print_summary_state(id_data):\n",
    "        print(f\"{name}: {salobj.State(id_data.summaryState)!r}\")\n",
    "    return print_summary_state\n",
    "    "
   ]
  },
  {
   "cell_type": "code",
   "execution_count": null,
   "metadata": {},
   "outputs": [],
   "source": [
    "r1.evt_m1SetPressure.callback = get_callback_for(\"ATPneu:M1\")\n",
    "r1.evt_m2SetPressure.callback = get_callback_for(\"ATPneu:M2\")\n",
    "r2.evt_m1CorrectionStarted.callback = get_callback_for(\"ATAOS:M1:\")\n",
    "r2.evt_m2CorrectionStarted.callback = get_callback_for(\"ATAOS:M2\")\n",
    "r3.evt_positionUpdate.callback = print__moveToPosition_callback\n",
    "r2.evt_hexapodCorrectionStarted.callback = print_evt_hexapodCorrectionStarted_callback"
   ]
  },
  {
   "cell_type": "code",
   "execution_count": null,
   "metadata": {},
   "outputs": [],
   "source": [
    "for r in [r1, r2, r3, r4, r5, r6, r7]:\n",
    "    r.evt_logMessage.callback = get_print_log_message_callback_for(r.salinfo.name)\n",
    "    r.evt_summaryState.callback = get_ss_callback_for(r.salinfo.name)\n",
    "    r.evt_errorCode.callback = get_error_code_callback_for(r.salinfo.name)"
   ]
  },
  {
   "cell_type": "code",
   "execution_count": null,
   "metadata": {
    "scrolled": false
   },
   "outputs": [],
   "source": [
    "asyncio.get_event_loop().run_forever()"
   ]
  },
  {
   "cell_type": "code",
   "execution_count": null,
   "metadata": {},
   "outputs": [],
   "source": [
    "r1.salinfo.name"
   ]
  },
  {
   "cell_type": "code",
   "execution_count": 16,
   "metadata": {},
   "outputs": [
    {
     "name": "stdout",
     "output_type": "stream",
     "text": [
      "ATPneumatics::<State.ENABLED: 2>\n",
      "ATAOS::<State.ENABLED: 2>\n",
      "ATHexapod::<State.ENABLED: 2>\n",
      "ATMCS::<State.ENABLED: 2>\n",
      "ATPtg::<State.ENABLED: 2>\n",
      "ATDome::<State.STANDBY: 5>\n",
      "ATDomeTrajectory::<State.STANDBY: 5>\n"
     ]
    }
   ],
   "source": [
    "for r in [r1, r2, r3, r4, r5, r6, r7]:\n",
    "    state = salobj.State(r.evt_summaryState.get().summaryState)\n",
    "    print(f\"{r.salinfo.name}::{state!r}\")\n",
    "#     await salobj.set_summary_state(r, salobj.State.STANDBY, timeout=300)"
   ]
  },
  {
   "cell_type": "code",
   "execution_count": null,
   "metadata": {},
   "outputs": [],
   "source": []
  },
  {
   "cell_type": "code",
   "execution_count": 11,
   "metadata": {},
   "outputs": [],
   "source": [
    "await salobj.set_summary_state(r1, salobj.State.ENABLED, timeout=300)"
   ]
  },
  {
   "cell_type": "code",
   "execution_count": 12,
   "metadata": {},
   "outputs": [],
   "source": [
    "await salobj.set_summary_state(r2, salobj.State.ENABLED, settingsToApply='test')"
   ]
  },
  {
   "cell_type": "code",
   "execution_count": 13,
   "metadata": {},
   "outputs": [],
   "source": [
    "await salobj.set_summary_state(r3, salobj.State.ENABLED, timeout=300,\n",
    "                               settingsToApply='Default1')"
   ]
  },
  {
   "cell_type": "code",
   "execution_count": 14,
   "metadata": {},
   "outputs": [],
   "source": [
    "await salobj.set_summary_state(r4, salobj.State.ENABLED, timeout=300)"
   ]
  },
  {
   "cell_type": "code",
   "execution_count": 15,
   "metadata": {},
   "outputs": [],
   "source": [
    "await salobj.set_summary_state(r5, salobj.State.ENABLED)"
   ]
  },
  {
   "cell_type": "code",
   "execution_count": null,
   "metadata": {},
   "outputs": [],
   "source": [
    "await salobj.set_summary_state(r6, salobj.State.ENABLED, settingsToApply='test')"
   ]
  },
  {
   "cell_type": "code",
   "execution_count": null,
   "metadata": {},
   "outputs": [],
   "source": [
    "await salobj.set_summary_state(r7, salobj.State.ENABLED)"
   ]
  },
  {
   "cell_type": "code",
   "execution_count": null,
   "metadata": {
    "scrolled": false
   },
   "outputs": [],
   "source": [
    "await asyncio.sleep(.5)\n",
    "print(\"*** running\")\n",
    "try:\n",
    "    await r2.cmd_applyCorrection.start()\n",
    "finally:\n",
    "    print(\"*** done\")\n",
    "    await asyncio.sleep(.5)"
   ]
  },
  {
   "cell_type": "code",
   "execution_count": null,
   "metadata": {},
   "outputs": [],
   "source": [
    "r2.cmd_enableCorrection.set(enableAll=True)"
   ]
  },
  {
   "cell_type": "code",
   "execution_count": null,
   "metadata": {},
   "outputs": [],
   "source": [
    "await r2.cmd_enableCorrection.start()"
   ]
  },
  {
   "cell_type": "code",
   "execution_count": null,
   "metadata": {},
   "outputs": [],
   "source": [
    "r3.evt_logMessage.callback = None"
   ]
  },
  {
   "cell_type": "code",
   "execution_count": null,
   "metadata": {},
   "outputs": [],
   "source": [
    "await asyncio.sleep(5.)"
   ]
  },
  {
   "cell_type": "code",
   "execution_count": null,
   "metadata": {},
   "outputs": [],
   "source": [
    "r2.cmd_disableCorrection.set(disableAll=True)"
   ]
  },
  {
   "cell_type": "code",
   "execution_count": null,
   "metadata": {},
   "outputs": [],
   "source": [
    "await r2.cmd_disableCorrection.start()"
   ]
  },
  {
   "cell_type": "code",
   "execution_count": null,
   "metadata": {},
   "outputs": [],
   "source": [
    "r2.cmd_setLogLevel.set(level=10)\n",
    "await r2.cmd_setLogLevel.start()"
   ]
  },
  {
   "cell_type": "code",
   "execution_count": null,
   "metadata": {},
   "outputs": [],
   "source": [
    "r2.evt_logMessage.callback = get_print_log_message_callback_for(r2.salinfo.name)\n",
    "r2.evt_errorCode.callback = get_error_code_callback_for(r2.salinfo.name)"
   ]
  },
  {
   "cell_type": "code",
   "execution_count": 19,
   "metadata": {},
   "outputs": [
    {
     "data": {
      "text/plain": [
       "CommandIdAck(cmd_id=1559745061, ack=(ack=303, error=0, result='Ok'))"
      ]
     },
     "execution_count": 19,
     "metadata": {},
     "output_type": "execute_result"
    }
   ],
   "source": [
    "await r1.cmd_openMasterAirSupply.start()"
   ]
  },
  {
   "cell_type": "code",
   "execution_count": 20,
   "metadata": {},
   "outputs": [
    {
     "data": {
      "text/plain": [
       "CommandIdAck(cmd_id=1559745061, ack=(ack=303, error=0, result='Ok'))"
      ]
     },
     "execution_count": 20,
     "metadata": {},
     "output_type": "execute_result"
    }
   ],
   "source": [
    "await r1.cmd_openInstrumentAirValve.start()"
   ]
  },
  {
   "cell_type": "code",
   "execution_count": 17,
   "metadata": {},
   "outputs": [
    {
     "data": {
      "text/plain": [
       "CommandIdAck(cmd_id=1559745061, ack=(ack=303, error=0, result='Ok'))"
      ]
     },
     "execution_count": 17,
     "metadata": {},
     "output_type": "execute_result"
    }
   ],
   "source": [
    "await r1.cmd_m1OpenAirValve.start()"
   ]
  },
  {
   "cell_type": "code",
   "execution_count": 18,
   "metadata": {},
   "outputs": [
    {
     "data": {
      "text/plain": [
       "CommandIdAck(cmd_id=1559745061, ack=(ack=303, error=0, result='Ok'))"
      ]
     },
     "execution_count": 18,
     "metadata": {},
     "output_type": "execute_result"
    }
   ],
   "source": [
    "await r1.cmd_m2OpenAirValve.start()"
   ]
  },
  {
   "cell_type": "code",
   "execution_count": null,
   "metadata": {},
   "outputs": [],
   "source": [
    "from astropy import units as u"
   ]
  },
  {
   "cell_type": "code",
   "execution_count": null,
   "metadata": {},
   "outputs": [],
   "source": [
    "pressure = 5.*u.imperial.psi"
   ]
  },
  {
   "cell_type": "code",
   "execution_count": null,
   "metadata": {},
   "outputs": [],
   "source": [
    "r1.cmd_m1SetPressure.set(pressure=45117.99254084)"
   ]
  },
  {
   "cell_type": "code",
   "execution_count": null,
   "metadata": {},
   "outputs": [],
   "source": [
    "await r1.cmd_m1SetPressure.start()"
   ]
  },
  {
   "cell_type": "code",
   "execution_count": null,
   "metadata": {},
   "outputs": [],
   "source": [
    "r3.cmd_moveToPosition.set(z=6.869660377502441)"
   ]
  },
  {
   "cell_type": "code",
   "execution_count": null,
   "metadata": {},
   "outputs": [],
   "source": [
    "await r3.cmd_moveToPosition.start()"
   ]
  },
  {
   "cell_type": "code",
   "execution_count": null,
   "metadata": {},
   "outputs": [],
   "source": [
    "await r1.cmd_m2SetPressure.start()"
   ]
  },
  {
   "cell_type": "code",
   "execution_count": null,
   "metadata": {},
   "outputs": [],
   "source": [
    "await salobj.set_summary_state(r2, salobj.State.STANDBY)"
   ]
  },
  {
   "cell_type": "code",
   "execution_count": null,
   "metadata": {},
   "outputs": [],
   "source": [
    "await r2.cmd_exitControl.start()"
   ]
  },
  {
   "cell_type": "code",
   "execution_count": null,
   "metadata": {},
   "outputs": [],
   "source": [
    "await r2.evt_heartbeat.next(flush=True)"
   ]
  },
  {
   "cell_type": "code",
   "execution_count": null,
   "metadata": {},
   "outputs": [],
   "source": [
    "await salobj.set_summary_state(r3, salobj.State.STANDBY)"
   ]
  },
  {
   "cell_type": "code",
   "execution_count": null,
   "metadata": {},
   "outputs": [],
   "source": [
    "await salobj.set_summary_state(r5, salobj.State.ENABLED)"
   ]
  },
  {
   "cell_type": "code",
   "execution_count": null,
   "metadata": {},
   "outputs": [],
   "source": [
    "await salobj.set_summary_state(r6, salobj.State.STANDBY)"
   ]
  },
  {
   "cell_type": "code",
   "execution_count": null,
   "metadata": {},
   "outputs": [],
   "source": [
    "await salobj.set_summary_state(r7, salobj.State.STANDBY)"
   ]
  },
  {
   "cell_type": "code",
   "execution_count": null,
   "metadata": {},
   "outputs": [],
   "source": [
    "import palpy"
   ]
  },
  {
   "cell_type": "code",
   "execution_count": 2,
   "metadata": {},
   "outputs": [],
   "source": [
    "names = [\"a\", \"b\", \"c\"]\n",
    "values = [0, 0, 0]"
   ]
  },
  {
   "cell_type": "code",
   "execution_count": 6,
   "metadata": {},
   "outputs": [
    {
     "ename": "TypeError",
     "evalue": "zip argument #2 must support iteration",
     "output_type": "error",
     "traceback": [
      "\u001b[0;31m---------------------------------------------------------------------------\u001b[0m",
      "\u001b[0;31mTypeError\u001b[0m                                 Traceback (most recent call last)",
      "\u001b[0;32m<ipython-input-6-535c236abcdd>\u001b[0m in \u001b[0;36m<module>\u001b[0;34m\u001b[0m\n\u001b[0;32m----> 1\u001b[0;31m \u001b[0mzip\u001b[0m\u001b[0;34m(\u001b[0m\u001b[0mnames\u001b[0m\u001b[0;34m,\u001b[0m \u001b[0;32mFalse\u001b[0m\u001b[0;34m)\u001b[0m\u001b[0;34m\u001b[0m\u001b[0m\n\u001b[0m",
      "\u001b[0;31mTypeError\u001b[0m: zip argument #2 must support iteration"
     ]
    }
   ],
   "source": [
    "zip(names, False)"
   ]
  },
  {
   "cell_type": "code",
   "execution_count": null,
   "metadata": {},
   "outputs": [],
   "source": []
  }
 ],
 "metadata": {
  "kernelspec": {
   "display_name": "Python 3",
   "language": "python",
   "name": "python3"
  },
  "language_info": {
   "codemirror_mode": {
    "name": "ipython",
    "version": 3
   },
   "file_extension": ".py",
   "mimetype": "text/x-python",
   "name": "python",
   "nbconvert_exporter": "python",
   "pygments_lexer": "ipython3",
   "version": "3.6.6"
  }
 },
 "nbformat": 4,
 "nbformat_minor": 2
}
