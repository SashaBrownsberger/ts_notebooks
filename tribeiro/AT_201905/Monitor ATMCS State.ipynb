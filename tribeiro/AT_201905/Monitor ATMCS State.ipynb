{
 "cells": [
  {
   "cell_type": "code",
   "execution_count": 1,
   "metadata": {},
   "outputs": [],
   "source": [
    "import SALPY_ATMCS"
   ]
  },
  {
   "cell_type": "code",
   "execution_count": 2,
   "metadata": {},
   "outputs": [],
   "source": [
    "from lsst.ts import salobj"
   ]
  },
  {
   "cell_type": "code",
   "execution_count": 3,
   "metadata": {},
   "outputs": [],
   "source": [
    "r = salobj.Remote(SALPY_ATMCS, include=['summaryState'])"
   ]
  },
  {
   "cell_type": "code",
   "execution_count": 4,
   "metadata": {},
   "outputs": [],
   "source": [
    "def print_summaryState_callback(id_data):\n",
    "    print(salobj.State(id_data.summaryState))"
   ]
  },
  {
   "cell_type": "code",
   "execution_count": 5,
   "metadata": {},
   "outputs": [],
   "source": [
    "r.evt_summaryState.callback = print_summaryState_callback"
   ]
  },
  {
   "cell_type": "code",
   "execution_count": 6,
   "metadata": {},
   "outputs": [],
   "source": [
    "import asyncio"
   ]
  },
  {
   "cell_type": "code",
   "execution_count": null,
   "metadata": {},
   "outputs": [
    {
     "name": "stdout",
     "output_type": "stream",
     "text": [
      "State.OFFLINE\n",
      "State.DISABLED\n",
      "State.ENABLED\n",
      "State.DISABLED\n",
      "State.STANDBY\n",
      "State.DISABLED\n",
      "State.STANDBY\n",
      "State.DISABLED\n",
      "State.ENABLED\n",
      "State.DISABLED\n",
      "State.ENABLED\n",
      "State.DISABLED\n",
      "State.STANDBY\n",
      "State.OFFLINE\n",
      "State.FAULT\n",
      "State.STANDBY\n",
      "State.FAULT\n",
      "State.STANDBY\n",
      "State.FAULT\n",
      "State.STANDBY\n",
      "State.FAULT\n",
      "State.STANDBY\n",
      "State.OFFLINE\n",
      "State.STANDBY\n",
      "State.DISABLED\n",
      "State.STANDBY\n",
      "State.DISABLED\n",
      "State.ENABLED\n",
      "State.DISABLED\n",
      "State.ENABLED\n",
      "State.DISABLED\n",
      "State.STANDBY\n"
     ]
    }
   ],
   "source": [
    "asyncio.get_event_loop().run_forever()"
   ]
  },
  {
   "cell_type": "code",
   "execution_count": null,
   "metadata": {},
   "outputs": [],
   "source": []
  }
 ],
 "metadata": {
  "kernelspec": {
   "display_name": "Python 3",
   "language": "python",
   "name": "python3"
  },
  "language_info": {
   "codemirror_mode": {
    "name": "ipython",
    "version": 3
   },
   "file_extension": ".py",
   "mimetype": "text/x-python",
   "name": "python",
   "nbconvert_exporter": "python",
   "pygments_lexer": "ipython3",
   "version": "3.6.6"
  }
 },
 "nbformat": 4,
 "nbformat_minor": 2
}
