{
 "cells": [
  {
   "cell_type": "code",
   "execution_count": 1,
   "metadata": {},
   "outputs": [],
   "source": [
    "from lsst.ts.standardscripts.auxtel.integration_tests.at_tracking import ATTracking"
   ]
  },
  {
   "cell_type": "code",
   "execution_count": 39,
   "metadata": {},
   "outputs": [],
   "source": [
    "import logging\n",
    "import yaml\n",
    "from lsst.ts import salobj\n",
    "import SALPY_ATPtg\n",
    "import asyncio"
   ]
  },
  {
   "cell_type": "code",
   "execution_count": 3,
   "metadata": {},
   "outputs": [],
   "source": [
    "import astropy.units as u\n",
    "from astropy.time import Time\n",
    "from astropy.coordinates import AltAz, ICRS, EarthLocation, Angle\n",
    "\n"
   ]
  },
  {
   "cell_type": "code",
   "execution_count": 4,
   "metadata": {},
   "outputs": [],
   "source": [
    "script = ATTracking(index=11)"
   ]
  },
  {
   "cell_type": "code",
   "execution_count": 5,
   "metadata": {},
   "outputs": [],
   "source": [
    "script.log.setLevel(logging.INFO)\n",
    "script.log.addHandler(logging.StreamHandler())"
   ]
  },
  {
   "cell_type": "code",
   "execution_count": 29,
   "metadata": {},
   "outputs": [
    {
     "name": "stdout",
     "output_type": "stream",
     "text": [
      "State.ENABLED\n",
      "State.ENABLED\n",
      "State.FAULT\n",
      "State.ENABLED\n",
      "State.ENABLED\n",
      "ERROR! Session/line number was not unique in database. History logging moved to new session 50\n"
     ]
    }
   ],
   "source": [
    "print(salobj.State(script.atptg.evt_summaryState.get().summaryState))\n",
    "print(salobj.State(script.ataos.evt_summaryState.get().summaryState))\n",
    "print(salobj.State(script.athexapod.evt_summaryState.get().summaryState))\n",
    "print(salobj.State(script.atpneumatics.evt_summaryState.get().summaryState))\n",
    "print(salobj.State(script.atmcs.evt_summaryState.get().summaryState))"
   ]
  },
  {
   "cell_type": "code",
   "execution_count": 30,
   "metadata": {},
   "outputs": [],
   "source": [
    "await salobj.set_summary_state(script.atptg, salobj.State.STANDBY, \n",
    "                               timeout=300)\n",
    "\n",
    "await salobj.set_summary_state(script.ataos, salobj.State.STANDBY,settingsToApply=\"test\", \n",
    "                               timeout=300)\n",
    "await salobj.set_summary_state(script.athexapod, salobj.State.STANDBY, \n",
    "                             settingsToApply=\"Default1\", timeout=300)\n",
    "await salobj.set_summary_state(script.atpneumatics, salobj.State.STANDBY, timeout=300)\n",
    "await salobj.set_summary_state(script.atmcs, salobj.State.STANDBY, timeout=300)"
   ]
  },
  {
   "cell_type": "code",
   "execution_count": 31,
   "metadata": {},
   "outputs": [
    {
     "name": "stdout",
     "output_type": "stream",
     "text": [
      "State.STANDBY\n",
      "State.STANDBY\n",
      "State.STANDBY\n",
      "State.STANDBY\n",
      "State.STANDBY\n"
     ]
    }
   ],
   "source": [
    "print(salobj.State(script.atptg.evt_summaryState.get().summaryState))\n",
    "print(salobj.State(script.ataos.evt_summaryState.get().summaryState))\n",
    "print(salobj.State(script.athexapod.evt_summaryState.get().summaryState))\n",
    "print(salobj.State(script.atpneumatics.evt_summaryState.get().summaryState))\n",
    "print(salobj.State(script.atmcs.evt_summaryState.get().summaryState))"
   ]
  },
  {
   "cell_type": "code",
   "execution_count": 32,
   "metadata": {},
   "outputs": [
    {
     "name": "stdout",
     "output_type": "stream",
     "text": [
      "State.ENABLED\n",
      "State.ENABLED\n",
      "State.ENABLED\n",
      "State.ENABLED\n",
      "State.ENABLED\n"
     ]
    }
   ],
   "source": [
    "await salobj.set_summary_state(script.atptg, salobj.State.ENABLED, timeout=300)\n",
    "print(salobj.State(script.atptg.evt_summaryState.get().summaryState))\n",
    "await salobj.set_summary_state(script.ataos, salobj.State.ENABLED,\n",
    "                               settingsToApply=\"test\", timeout=300)\n",
    "print(salobj.State(script.ataos.evt_summaryState.get().summaryState))\n",
    "await salobj.set_summary_state(script.athexapod, salobj.State.ENABLED, \n",
    "                               settingsToApply=\"Default1\", timeout=300)\n",
    "print(salobj.State(script.athexapod.evt_summaryState.get().summaryState))\n",
    "await salobj.set_summary_state(script.atpneumatics, salobj.State.ENABLED, \n",
    "                               timeout=300)\n",
    "print(salobj.State(script.atpneumatics.evt_summaryState.get().summaryState))\n",
    "await salobj.set_summary_state(script.atmcs, salobj.State.ENABLED, \n",
    "                               timeout=300)\n",
    "print(salobj.State(script.atmcs.evt_summaryState.get().summaryState))"
   ]
  },
  {
   "cell_type": "code",
   "execution_count": 33,
   "metadata": {},
   "outputs": [
    {
     "name": "stderr",
     "output_type": "stream",
     "text": [
      "Time error=-200.11 sec\n",
      "raDecTarget ra=5.845275969041962 hour; declination=4.343515466114815 deg\n",
      "raDecTarget command result: Done : OK\n"
     ]
    }
   ],
   "source": [
    "time_data = await script.atptg.tel_timeAndDate.next(flush=False, timeout=2)\n",
    "curr_time_atptg = Time(time_data.tai, format=\"mjd\", scale=\"tai\")\n",
    "time_err = curr_time_atptg - Time.now()\n",
    "script.log.info(f\"Time error={time_err.sec:0.2f} sec\")\n",
    "\n",
    "# Compute RA/Dec for commanded az/el\n",
    "cmd_elaz = AltAz(alt=45.*u.deg, az=45.*u.deg, obstime=curr_time_atptg.tai, location=script.location)\n",
    "cmd_radec = cmd_elaz.transform_to(ICRS)\n",
    "\n",
    "# Start tracking\n",
    "script.atptg.cmd_raDecTarget.set(\n",
    "    targetName=\"atptg_atmcs_integration\",\n",
    "    targetInstance=SALPY_ATPtg.ATPtg_shared_TargetInstances_current,\n",
    "    frame=SALPY_ATPtg.ATPtg_shared_CoordFrame_icrs,\n",
    "    epoch=2000,  # should be ignored: no parallax or proper motion\n",
    "    equinox=2000,  # should be ignored for ICRS\n",
    "    ra=cmd_radec.ra.hour,\n",
    "    declination=cmd_radec.dec.deg,\n",
    "    parallax=0,\n",
    "    pmRA=0,\n",
    "    pmDec=0,\n",
    "    rv=0,\n",
    "    dRA=0,\n",
    "    dDec=0,\n",
    "    rotPA=0,\n",
    "    rotFrame=SALPY_ATPtg.ATPtg_shared_RotFrame_target,\n",
    "    rotMode=SALPY_ATPtg.ATPtg_shared_RotMode_field,\n",
    ")\n",
    "script.log.info(f\"raDecTarget ra={script.atptg.cmd_raDecTarget.data.ra!r} hour; \"\n",
    "              f\"declination={script.atptg.cmd_raDecTarget.data.declination!r} deg\")\n",
    "script.atmcs.evt_target.flush()\n",
    "script.atmcs.evt_allAxesInPosition.flush()\n",
    "# script.ataos.cmd_enableCorrection.set(hexapod=True)\n",
    "# await script.ataos.cmd_enableCorrection.start(timeout=10)\n",
    "ack_id = await script.atptg.cmd_raDecTarget.start(timeout=2)\n",
    "script.log.info(f\"raDecTarget command result: {ack_id.ack.result}\")\n",
    "\n"
   ]
  },
  {
   "cell_type": "code",
   "execution_count": 34,
   "metadata": {},
   "outputs": [
    {
     "name": "stderr",
     "output_type": "stream",
     "text": [
      "Got 1\n"
     ]
    }
   ],
   "source": [
    "while True:\n",
    "    in_position = await script.atmcs.evt_allAxesInPosition.next(flush=False, timeout=20)\n",
    "    script.log.info(f\"Got {in_position.inPosition}\")\n",
    "    if in_position.inPosition:\n",
    "        break"
   ]
  },
  {
   "cell_type": "code",
   "execution_count": 11,
   "metadata": {},
   "outputs": [
    {
     "data": {
      "text/plain": [
       "CommandIdAck(cmd_id=1558972333, ack=(ack=303, error=0, result='Done : OK'))"
      ]
     },
     "execution_count": 11,
     "metadata": {},
     "output_type": "execute_result"
    }
   ],
   "source": [
    "await script.atptg.cmd_stopTracking.start()"
   ]
  },
  {
   "cell_type": "code",
   "execution_count": 35,
   "metadata": {},
   "outputs": [],
   "source": [
    "corr = script.ataos.evt_correctionEnabled.get()"
   ]
  },
  {
   "cell_type": "code",
   "execution_count": 36,
   "metadata": {},
   "outputs": [
    {
     "data": {
      "text/plain": [
       "0"
      ]
     },
     "execution_count": 36,
     "metadata": {},
     "output_type": "execute_result"
    }
   ],
   "source": [
    "corr.hexapod"
   ]
  },
  {
   "cell_type": "code",
   "execution_count": 14,
   "metadata": {},
   "outputs": [
    {
     "data": {
      "text/plain": [
       "CommandIdAck(cmd_id=1558972333, ack=(ack=303, error=0, result='Done'))"
      ]
     },
     "execution_count": 14,
     "metadata": {},
     "output_type": "execute_result"
    }
   ],
   "source": [
    "script.ataos.cmd_disableCorrection.set(disableAll=True)\n",
    "await script.ataos.cmd_disableCorrection.start()"
   ]
  },
  {
   "cell_type": "code",
   "execution_count": 37,
   "metadata": {},
   "outputs": [
    {
     "name": "stdout",
     "output_type": "stream",
     "text": [
      "--> 0.0 0.0 6.43098343929 -0.0 0.0 -0.0\n"
     ]
    },
    {
     "data": {
      "text/plain": [
       "CommandIdAck(cmd_id=1558972338, ack=(ack=303, error=0, result='Done'))"
      ]
     },
     "execution_count": 37,
     "metadata": {},
     "output_type": "execute_result"
    }
   ],
   "source": [
    "await script.ataos.cmd_applyCorrection.start()"
   ]
  },
  {
   "cell_type": "code",
   "execution_count": 41,
   "metadata": {},
   "outputs": [
    {
     "name": "stdout",
     "output_type": "stream",
     "text": [
      "Apply correction...\n",
      "--> 0.0 0.0 6.48267307205 -0.0 0.0 -0.0\n",
      "waiting 30s...\n",
      "Apply correction...\n",
      "--> 0.0 0.0 6.48441167056 -0.0 0.0 -0.0\n",
      "waiting 30s...\n",
      "Apply correction...\n",
      "--> 0.0 0.0 6.48612811411 -0.0 0.0 -0.0\n",
      "waiting 30s...\n",
      "Apply correction...\n",
      "--> 0.0 0.0 6.48783592978 -0.0 0.0 -0.0\n",
      "waiting 30s...\n",
      "Apply correction...\n",
      "--> 0.0 0.0 6.48945347399 -0.0 0.0 -0.0\n",
      "waiting 30s...\n",
      "Apply correction...\n",
      "--> 0.0 0.0 6.491141798 -0.0 0.0 -0.0\n",
      "waiting 30s...\n",
      "Apply correction...\n",
      "--> 0.0 0.0 6.49282388292 -0.0 0.0 -0.0\n",
      "waiting 30s...\n",
      "Apply correction...\n",
      "--> 0.0 0.0 6.49449721546 -0.0 0.0 -0.0\n",
      "waiting 30s...\n",
      "Apply correction...\n",
      "--> 0.0 0.0 6.49617985477 -0.0 0.0 -0.0\n",
      "waiting 30s...\n",
      "Apply correction...\n",
      "--> 0.0 0.0 6.49783309647 -0.0 0.0 -0.0\n",
      "waiting 30s...\n"
     ]
    }
   ],
   "source": [
    "for i in range(10):\n",
    "    coro = script.athexapod.evt_positionUpdate.next(flush=True, timeout=5)\n",
    "    print(\"Apply correction...\")\n",
    "    await script.ataos.cmd_applyCorrection.start()\n",
    "    id_data = await coro\n",
    "    print('-->', \n",
    "          id_data.positionX, \n",
    "          id_data.positionY, \n",
    "          id_data.positionZ, \n",
    "          id_data.positionU, \n",
    "          id_data.positionV, \n",
    "          id_data.positionW)\n",
    "    print(\"waiting 15s...\")\n",
    "    await asyncio.sleep(15.)\n",
    "\n"
   ]
  },
  {
   "cell_type": "code",
   "execution_count": null,
   "metadata": {},
   "outputs": [],
   "source": []
  }
 ],
 "metadata": {
  "kernelspec": {
   "display_name": "Python 3",
   "language": "python",
   "name": "python3"
  },
  "language_info": {
   "codemirror_mode": {
    "name": "ipython",
    "version": 3
   },
   "file_extension": ".py",
   "mimetype": "text/x-python",
   "name": "python",
   "nbconvert_exporter": "python",
   "pygments_lexer": "ipython3",
   "version": "3.6.6"
  }
 },
 "nbformat": 4,
 "nbformat_minor": 2
}
