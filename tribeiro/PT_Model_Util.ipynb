{
 "cells": [
  {
   "cell_type": "markdown",
   "metadata": {},
   "source": [
    "# Pointing Model Utility "
   ]
  },
  {
   "cell_type": "markdown",
   "metadata": {},
   "source": [
    "This notebook is intended to help building initial pointing model for the Auxiliary Telescope. \n",
    "\n",
    "The user can define a grid of Az/El pointings that will be converted to RA/Dec target commands to the ATPtg. For each pointing the user can center the target and register the pointing throught ATPtg. The data can then be saved and used as input to TPOINT to compute pointing model parameters. \n",
    "\n",
    "Initially the process is very interactive. Once the process is well stablished we can turn this into a more automated process."
   ]
  },
  {
   "cell_type": "markdown",
   "metadata": {},
   "source": [
    "## Building Az/El pointing grid."
   ]
  },
  {
   "cell_type": "code",
   "execution_count": 1,
   "metadata": {
    "collapsed": true
   },
   "outputs": [],
   "source": [
    "import numpy as np\n",
    "\n",
    "import asyncio \n",
    "\n",
    "import matplotlib.pyplot as plt\n",
    "\n",
    "import astropy.units as u\n",
    "from astropy.time import Time\n",
    "from astropy.coordinates import SkyCoord, AltAz, ICRS, EarthLocation, Angle\n",
    "from astroquery.vo_conesearch import ConeSearch\n",
    "from astroquery.simbad import Simbad\n",
    "\n",
    "import ipywidgets as widgets\n",
    "\n",
    "import SALPY_ATPtg\n",
    "import SALPY_ATMCS\n",
    "\n",
    "from lsst.ts.salobj import Remote, State, set_summary_state\n",
    "\n",
    "%matplotlib inline"
   ]
  },
  {
   "cell_type": "markdown",
   "metadata": {},
   "source": [
    "The first step is to create Remotes to talk to the ATPtg and ATMCS componentes. The `include` is not required but it reduces the initialization time by only subscribing to the events, telemetry and commands that are actually used. "
   ]
  },
  {
   "cell_type": "code",
   "execution_count": 2,
   "metadata": {
    "collapsed": true
   },
   "outputs": [],
   "source": [
    "atptg = Remote(SALPY_ATPtg, include=[\"summaryState\",\n",
    "                                     \"start\", \n",
    "                                     \"enable\", \n",
    "                                     \"standby\", \n",
    "                                     \"raDecTarget\", \n",
    "                                     \"pointAddData\"]\n",
    "              )  # Remote to talk to the pointing component\n",
    "atmcs = Remote(SALPY_ATMCS, include=[\"summaryState\",\n",
    "                                     \"allAxesInPosition\",\n",
    "                                     \"start\", \n",
    "                                     \"enable\", \n",
    "                                     \"standby\"]\n",
    "              )  # Remote to listen to the mount"
   ]
  },
  {
   "cell_type": "markdown",
   "metadata": {},
   "source": [
    "Next, check the current summary state of both components. Note the use of `get` instead of `next` that is because we just need to check the last published value and don't need to wait for something. If no summary state was published, this will probably raise an exception. This can be due to multiple things, like the component not being up or even a network communication issue. "
   ]
  },
  {
   "cell_type": "code",
   "execution_count": 3,
   "metadata": {},
   "outputs": [
    {
     "ename": "AttributeError",
     "evalue": "'NoneType' object has no attribute 'summaryState'",
     "output_type": "error",
     "traceback": [
      "\u001b[0;31m---------------------------------------------------------------------------\u001b[0m",
      "\u001b[0;31mAttributeError\u001b[0m                            Traceback (most recent call last)",
      "\u001b[0;32m<ipython-input-3-3385eac62b4a>\u001b[0m in \u001b[0;36m<module>\u001b[0;34m\u001b[0m\n\u001b[0;32m----> 1\u001b[0;31m \u001b[0mprint\u001b[0m\u001b[0;34m(\u001b[0m\u001b[0;34mf\"ATPtg: {State(atptg.evt_summaryState.get().summaryState)!r}\"\u001b[0m\u001b[0;34m)\u001b[0m\u001b[0;34m\u001b[0m\u001b[0m\n\u001b[0m\u001b[1;32m      2\u001b[0m \u001b[0mprint\u001b[0m\u001b[0;34m(\u001b[0m\u001b[0;34mf\"ATMCS: {State(atmcs.evt_summaryState.get().summaryState)!r}\"\u001b[0m\u001b[0;34m)\u001b[0m\u001b[0;34m\u001b[0m\u001b[0m\n",
      "\u001b[0;31mAttributeError\u001b[0m: 'NoneType' object has no attribute 'summaryState'"
     ]
    }
   ],
   "source": [
    "print(f\"ATPtg: {State(atptg.evt_summaryState.get().summaryState)!r}\")\n",
    "print(f\"ATMCS: {State(atmcs.evt_summaryState.get().summaryState)!r}\")"
   ]
  },
  {
   "cell_type": "markdown",
   "metadata": {},
   "source": [
    "We now use the `set_summary_state` utility function provided by `salobj` to enable both components. This will work (or should work) no matter what the current state of the CSC is, as long as the communication is working."
   ]
  },
  {
   "cell_type": "code",
   "execution_count": 4,
   "metadata": {
    "collapsed": true
   },
   "outputs": [],
   "source": [
    "await set_summary_state(atptg, State.ENABLED)"
   ]
  },
  {
   "cell_type": "code",
   "execution_count": 5,
   "metadata": {
    "collapsed": true
   },
   "outputs": [],
   "source": [
    "await set_summary_state(atmcs, State.ENABLED)"
   ]
  },
  {
   "cell_type": "code",
   "execution_count": 6,
   "metadata": {},
   "outputs": [
    {
     "name": "stdout",
     "output_type": "stream",
     "text": [
      "ATPtg: <State.ENABLED: 2>\n",
      "ATMCS: <State.ENABLED: 2>\n"
     ]
    }
   ],
   "source": [
    "print(f\"ATPtg: {State(atptg.evt_summaryState.get().summaryState)!r}\")\n",
    "print(f\"ATMCS: {State(atmcs.evt_summaryState.get().summaryState)!r}\")"
   ]
  },
  {
   "cell_type": "markdown",
   "metadata": {},
   "source": [
    "Next step is setting up the parameters for the run. Currently we use a simple `NxN` pointing scheme in both azimuth and altitude. This will likely need to be improved as regions with lower elevation may need a better cover. \n",
    "\n",
    "TODO: Check with pointing component vendors a better grid. "
   ]
  },
  {
   "cell_type": "code",
   "execution_count": 7,
   "metadata": {
    "collapsed": true
   },
   "outputs": [],
   "source": [
    "n_az = 5  # Maximum number of pointings in azimuth\n",
    "n_alt = 5  # Number of pointings in altitude\n",
    "mag_limit = 7  # Magnitude limit"
   ]
  },
  {
   "cell_type": "code",
   "execution_count": 8,
   "metadata": {
    "collapsed": true
   },
   "outputs": [],
   "source": [
    "alt_min = Angle(35.*u.deg)\n",
    "alt_max = Angle(70.*u.deg)\n",
    "d_alt = (alt_max-alt_min) / n_alt"
   ]
  },
  {
   "cell_type": "code",
   "execution_count": 9,
   "metadata": {
    "collapsed": true
   },
   "outputs": [],
   "source": [
    "az_min = Angle(0.*u.deg)\n",
    "az_max = Angle(360.*u.deg)"
   ]
  },
  {
   "cell_type": "code",
   "execution_count": 10,
   "metadata": {
    "collapsed": true
   },
   "outputs": [],
   "source": [
    "alt_grid = np.linspace(alt_min, alt_max, n_alt)"
   ]
  },
  {
   "cell_type": "markdown",
   "metadata": {},
   "source": [
    "Building the Azimuth grid. \n",
    "\n",
    "For each altitude it will select a quasi-uniform number of values in azimuth."
   ]
  },
  {
   "cell_type": "code",
   "execution_count": 11,
   "metadata": {
    "collapsed": true
   },
   "outputs": [],
   "source": [
    "az_grid = np.zeros((n_alt, n_az))\n",
    "\n",
    "for i in range(n_alt):\n",
    "#     n_az_add = int(np.floor(np.cos(alt_grid[i].radian)*max_n_az))\n",
    "#     d_az = (az_max-az_min) / n_az\n",
    "    d_az = (az_max-az_min) / n_az\n",
    "    zero = (np.random.rand()+0.5)*d_az.deg\n",
    "    zero = i*d_az.deg/4\n",
    "#     az_grid.append(np.arange(az_min.deg+zero, az_max.deg+zero, d_az.deg))\n",
    "    az_grid[i] += np.arange(az_min.deg+zero, az_max.deg+zero, d_az.deg)"
   ]
  },
  {
   "cell_type": "markdown",
   "metadata": {},
   "source": [
    "At this point altitude is stored in a 1-d array and azimuth is stored in a matrix. I'll flatten these arrays so they are both 1-d with a one to one mapping.\n",
    "\n",
    "I'm also preparing the order of the pointings here so we will go over from lower to higher altitutes instead of doing a constant altitude sweap. "
   ]
  },
  {
   "cell_type": "code",
   "execution_count": 12,
   "metadata": {
    "collapsed": true
   },
   "outputs": [],
   "source": [
    "az_pt_grid = np.zeros(n_alt*n_az)\n",
    "el_pt_grid = np.zeros(n_alt*n_az)\n",
    "\n",
    "for i in range(n_az):\n",
    "    for j in range(n_alt):\n",
    "        az_pt_grid[i*n_az + j] = az_grid[j][i]\n",
    "        el_pt_grid[i*n_az + j] = alt_grid[j].deg"
   ]
  },
  {
   "cell_type": "markdown",
   "metadata": {},
   "source": [
    "Make a polar plot of the pointings"
   ]
  },
  {
   "cell_type": "code",
   "execution_count": 13,
   "metadata": {},
   "outputs": [
    {
     "data": {
      "image/png": "[encoded data removed]",
      "text/plain": [
       "<Figure size 432x288 with 1 Axes>"
      ]
     },
     "metadata": {
      "needs_background": "light"
     },
     "output_type": "display_data"
    }
   ],
   "source": [
    "fig = plt.figure()\n",
    "ax = fig.add_subplot(111, projection='polar')\n",
    "ax.set_theta_zero_location('W', offset=0)\n",
    "\n",
    "c = ax.scatter(np.radians(az_pt_grid), 90.-el_pt_grid)\n",
    "l = ax.plot(np.radians(az_pt_grid), 90.-el_pt_grid)\n",
    "\n",
    "# for i in range(n_alt):\n",
    "#     az = np.radians(az_grid[i])\n",
    "#     el = np.zeros(len(az))+alt_grid[i].deg\n",
    "#     c = ax.scatter(az, 90.-el)\n"
   ]
  },
  {
   "cell_type": "markdown",
   "metadata": {},
   "source": [
    "Now for each Az/El pointing try to find a bright star to point."
   ]
  },
  {
   "cell_type": "code",
   "execution_count": 14,
   "metadata": {
    "collapsed": true
   },
   "outputs": [],
   "source": [
    "location = EarthLocation.from_geodetic(lon=-70.747698*u.deg,\n",
    "                                                    lat=-30.244728*u.deg,\n",
    "                                                    height=2663.0*u.m)"
   ]
  },
  {
   "cell_type": "code",
   "execution_count": 15,
   "metadata": {
    "collapsed": true
   },
   "outputs": [],
   "source": [
    "customSimbad = Simbad()\n",
    "customSimbad.add_votable_fields('distance_result', \"fluxdata(V)\")\n",
    "customSimbad.TIMEOUT = 10"
   ]
  },
  {
   "cell_type": "code",
   "execution_count": 16,
   "metadata": {
    "collapsed": true
   },
   "outputs": [],
   "source": [
    "async def point(az, el):\n",
    "    \"\"\"A method to point.\n",
    "    \"\"\"\n",
    "    \n",
    "    current_time = Time.now()\n",
    "\n",
    "    elaz = AltAz(alt=el, az=az, \n",
    "                 obstime=current_time.tai, \n",
    "                 location=location)\n",
    "\n",
    "    radec = elaz.transform_to(ICRS)\n",
    "\n",
    "    _ra = radec.ra.to_string(u.deg, decimal=True)\n",
    "    _dec = radec.dec.to_string(u.deg, decimal=True, alwayssign=True)\n",
    "    r = Angle(4.*u.deg).to_string(u.deg, decimal=True)\n",
    "\n",
    "    criteria = f\"region(circle,ICRS,{_ra} {_dec},{r}d) & Vmag < {mag_limit}\"\n",
    "    try:\n",
    "        result_table = customSimbad.query_criteria(criteria)\n",
    "    except Exception as e:\n",
    "        print(f\"Error getting target from Simbad. Skipping target {elaz!r}.\")\n",
    "        return -1\n",
    "\n",
    "    if len(result_table) == 0:\n",
    "        print(f\"Could not find a suitable target around {elaz}.\")\n",
    "        return -1\n",
    "\n",
    "    # sort by magnitude so first is the brightest \n",
    "    result_table.sort('FLUX_V')\n",
    "\n",
    "    target_radec = SkyCoord(Angle(result_table['RA'][0], unit=u.hour), \n",
    "                    Angle(result_table['DEC'][0], unit=u.deg), frame=ICRS)\n",
    "\n",
    "    t_id = str(result_table['MAIN_ID'][0])\n",
    "    t_ra = result_table['RA'][0]\n",
    "    t_dec = result_table['DEC'][0]\n",
    "    t_mag = result_table['FLUX_V'][0]\n",
    "    print(f\"Pointing to {t_id:15}: {t_ra} {t_dec} (VMag:{t_mag:5.2f})\")\n",
    "\n",
    "    atptg.cmd_raDecTarget.set(\n",
    "        targetName=f\"{result_table['MAIN_ID'][0]}\",\n",
    "        targetInstance=SALPY_ATPtg.ATPtg_shared_TargetInstances_current,\n",
    "        frame=SALPY_ATPtg.ATPtg_shared_CoordFrame_icrs,\n",
    "        epoch=2000,  # should be ignored: no parallax or proper motion\n",
    "        equinox=2000,  # should be ignored for ICRS\n",
    "        ra=target_radec.ra.hour,\n",
    "        declination=target_radec.dec.deg,\n",
    "        parallax=0,\n",
    "        pmRA=0,\n",
    "        pmDec=0,\n",
    "        rv=0,\n",
    "        dRA=0,\n",
    "        dDec=0,\n",
    "        rotPA=0,\n",
    "        rotFrame=SALPY_ATPtg.ATPtg_shared_RotFrame_target,\n",
    "        rotMode=SALPY_ATPtg.ATPtg_shared_RotMode_field,\n",
    "    )\n",
    "    atmcs.evt_allAxesInPosition.flush()\n",
    "    try:\n",
    "        await atptg.cmd_raDecTarget.start()\n",
    "    except Exception as e:\n",
    "        print(\"Could not point to target.\")\n",
    "        return -1\n",
    "        \n",
    "    in_position = await atmcs.evt_allAxesInPosition.next(flush=False)\n",
    "    while not in_position.inPosition:\n",
    "        in_position = await atmcs.evt_allAxesInPosition.next(flush=False)\n",
    "    print(f\"Mount in position.\")\n",
    "    return 0\n",
    "#     await asyncio.sleep(wait_time)\n",
    "#     print(\"Done... Stop tracking...\")\n",
    "#     await atptg.cmd_stopTracking.start()\n",
    "#     print(\"Next...\")\n",
    "\n",
    "\n"
   ]
  },
  {
   "cell_type": "code",
   "execution_count": 17,
   "metadata": {
    "collapsed": true
   },
   "outputs": [],
   "source": [
    "async def wait_center():\n",
    "    while True:\n",
    "        opt = input(\"Center telescope and choose action (press ?<enter>, for list of actions): \")\n",
    "        \n",
    "        if opt == 'x':\n",
    "            print(\"Telescope centered. Adding data and continuing...\")\n",
    "            await atptg.cmd_pointAddData.start()\n",
    "            return 0\n",
    "        elif opt == 's':\n",
    "            print(\"Skipping...\")\n",
    "            return 1\n",
    "        elif opt == 't':\n",
    "            print(\"Stopping test...\")\n",
    "            return -1\n",
    "        elif opt == '?':\n",
    "            print(\"\"\"Options are:\n",
    "            x - Telescope centered, add data and continue.\n",
    "            s - Skipp point and continue.\n",
    "            t - Terminate test.\n",
    "            \"\"\")\n",
    "    "
   ]
  },
  {
   "cell_type": "code",
   "execution_count": null,
   "metadata": {
    "collapsed": true
   },
   "outputs": [],
   "source": []
  },
  {
   "cell_type": "markdown",
   "metadata": {},
   "source": [
    "Store pass/fail pointings. "
   ]
  },
  {
   "cell_type": "code",
   "execution_count": 18,
   "metadata": {
    "collapsed": true
   },
   "outputs": [],
   "source": [
    "pt_grid_done = np.zeros(n_alt*n_az, dtype=np.bool)"
   ]
  },
  {
   "cell_type": "code",
   "execution_count": 19,
   "metadata": {
    "scrolled": false
   },
   "outputs": [
    {
     "name": "stdout",
     "output_type": "stream",
     "text": [
      "Pointing to: az=0.0 deg / el 35.0 deg\n",
      "Pointing to b'* iot Tau'   : 05 03 05.7455 +21 35 23.865 (VMag: 4.61)\n",
      "Mount in position.\n",
      "Center telescope and choose action (press ?<enter>, for list of actions): x\n",
      "Telescope centered. Adding data and continuing...\n",
      "Pointing to: az=18.0 deg / el 43.75 deg\n",
      "Pointing to b'* nu. Ori'   : 06 07 34.3258 +14 46 06.506 (VMag: 4.40)\n",
      "Mount in position.\n",
      "Center telescope and choose action (press ?<enter>, for list of actions): x\n",
      "Telescope centered. Adding data and continuing...\n",
      "Pointing to: az=36.0 deg / el 52.5 deg\n",
      "Pointing to b'*  18 Mon'   : 06 47 51.6475 +02 24 43.840 (VMag: 4.47)\n",
      "Mount in position.\n",
      "Center telescope and choose action (press ?<enter>, for list of actions): x\n",
      "Telescope centered. Adding data and continuing...\n",
      "Pointing to: az=54.0 deg / el 61.25 deg\n",
      "Error getting target from Simbad. Skipping target <AltAz Coordinate (obstime=2019-05-20 18:03:36.169794, location=(1819093.5687622512, -5208411.682796104, -3195180.61110659) m, pressure=0.0 hPa, temperature=0.0 deg_C, relative_humidity=0, obswl=1.0 micron): (az, alt) in deg\n",
      "    (54., 61.25)>.\n",
      "Failed to point to position 3 in the grid. continuing...\n",
      "Pointing to: az=72.0 deg / el 70.0 deg\n",
      "Pointing to b'* nu.02 CMa' : 06 36 41.0375 -19 15 21.165 (VMag: 3.91)\n",
      "Mount in position.\n",
      "Center telescope and choose action (press ?<enter>, for list of actions): x\n",
      "Telescope centered. Adding data and continuing...\n",
      "Pointing to: az=72.0 deg / el 35.0 deg\n",
      "Pointing to b'*  30 Mon'   : 08 25 39.6320 -03 54 23.117 (VMag: 3.90)\n",
      "Mount in position.\n",
      "Center telescope and choose action (press ?<enter>, for list of actions): x\n",
      "Telescope centered. Adding data and continuing...\n",
      "Pointing to: az=90.0 deg / el 43.75 deg\n",
      "Pointing to b'HD  73752'   : 08 39 07.9011 -22 39 42.811 (VMag: 5.17)\n",
      "Mount in position.\n",
      "Center telescope and choose action (press ?<enter>, for list of actions): x\n",
      "Telescope centered. Adding data and continuing...\n",
      "Pointing to: az=108.0 deg / el 52.5 deg\n",
      "Error getting target from Simbad. Skipping target <AltAz Coordinate (obstime=2019-05-20 18:04:20.311506, location=(1819093.5687622512, -5208411.682796104, -3195180.61110659) m, pressure=0.0 hPa, temperature=0.0 deg_C, relative_humidity=0, obswl=1.0 micron): (az, alt) in deg\n",
      "    (108., 52.5)>.\n",
      "Failed to point to position 7 in the grid. continuing...\n",
      "Pointing to: az=126.0 deg / el 61.25 deg\n",
      "Pointing to b'* sig Pup'   : 07 29 13.8304 -43 18 05.159 (VMag: 3.25)\n",
      "Mount in position.\n",
      "Center telescope and choose action (press ?<enter>, for list of actions): x\n",
      "Telescope centered. Adding data and continuing...\n",
      "Pointing to: az=144.0 deg / el 70.0 deg\n",
      "Pointing to b'* nu. Pup'   : 06 37 45.6713 -43 11 45.360 (VMag: 3.17)\n",
      "Mount in position.\n",
      "Center telescope and choose action (press ?<enter>, for list of actions): x\n",
      "Telescope centered. Adding data and continuing...\n",
      "Pointing to: az=144.0 deg / el 35.0 deg\n",
      "Pointing to b'* q Car'     : 10 17 04.9753 -61 19 56.288 (VMag: 3.35)\n",
      "Mount in position.\n",
      "Center telescope and choose action (press ?<enter>, for list of actions): x\n",
      "Telescope centered. Adding data and continuing...\n",
      "Pointing to: az=162.0 deg / el 43.75 deg\n",
      "Error getting target from Simbad. Skipping target <AltAz Coordinate (obstime=2019-05-20 18:05:04.472039, location=(1819093.5687622512, -5208411.682796104, -3195180.61110659) m, pressure=0.0 hPa, temperature=0.0 deg_C, relative_humidity=0, obswl=1.0 micron): (az, alt) in deg\n",
      "    (162., 43.75)>.\n",
      "Failed to point to position 11 in the grid. continuing...\n",
      "Pointing to: az=180.0 deg / el 52.5 deg\n",
      "Error getting target from Simbad. Skipping target <AltAz Coordinate (obstime=2019-05-20 18:05:04.730422, location=(1819093.5687622512, -5208411.682796104, -3195180.61110659) m, pressure=0.0 hPa, temperature=0.0 deg_C, relative_humidity=0, obswl=1.0 micron): (az, alt) in deg\n",
      "    (180., 52.5)>.\n",
      "Failed to point to position 12 in the grid. continuing...\n",
      "Pointing to: az=198.0 deg / el 61.25 deg\n",
      "Pointing to b'* alf Dor'   : 04 33 59.7771 -55 02 41.924 (VMag: 3.28)\n",
      "Mount in position.\n",
      "Center telescope and choose action (press ?<enter>, for list of actions): x\n",
      "Telescope centered. Adding data and continuing...\n",
      "Pointing to: az=216.0 deg / el 70.0 deg\n",
      "Pointing to b'* alf Hor'   : 04 14 00.1144 -42 17 39.723 (VMag: 3.86)\n",
      "Mount in position.\n",
      "Center telescope and choose action (press ?<enter>, for list of actions): x\n",
      "Telescope centered. Adding data and continuing...\n",
      "Pointing to: az=216.0 deg / el 35.0 deg\n",
      "Pointing to b'* bet01 Tuc' : 00 31 32.6680 -62 57 29.587 (VMag: 4.29)\n",
      "Mount in position.\n",
      "Center telescope and choose action (press ?<enter>, for list of actions): x\n",
      "Telescope centered. Adding data and continuing...\n",
      "Pointing to: az=234.0 deg / el 43.75 deg\n",
      "Pointing to b'* gam Phe'   : 01 28 21.9272 -43 19 05.650 (VMag: 3.41)\n",
      "Mount in position.\n",
      "Center telescope and choose action (press ?<enter>, for list of actions): x\n",
      "Telescope centered. Adding data and continuing...\n",
      "Pointing to: az=252.0 deg / el 52.5 deg\n",
      "Pointing to b'* phi For'   : 02 28 01.7034 -33 48 39.738 (VMag: 5.12)\n",
      "Mount in position.\n",
      "Center telescope and choose action (press ?<enter>, for list of actions): x\n",
      "Telescope centered. Adding data and continuing...\n",
      "Pointing to: az=270.0 deg / el 61.25 deg\n",
      "Pointing to b'* alf For'   : 03 12 04.5273 -28 59 15.433 (VMag: 3.85)\n",
      "Mount in position.\n",
      "Center telescope and choose action (press ?<enter>, for list of actions): x\n",
      "Telescope centered. Adding data and continuing...\n",
      "Pointing to: az=288.0 deg / el 70.0 deg\n",
      "Pointing to b'* tau06 Eri' : 03 46 50.8881 -23 14 59.004 (VMag: 4.20)\n",
      "Mount in position.\n",
      "Center telescope and choose action (press ?<enter>, for list of actions): x\n",
      "Telescope centered. Adding data and continuing...\n",
      "Pointing to: az=288.0 deg / el 35.0 deg\n",
      "Pointing to b'HD  10550'   : 01 42 43.5107 -03 41 24.720 (VMag: 4.98)\n",
      "Mount in position.\n",
      "Center telescope and choose action (press ?<enter>, for list of actions): x\n",
      "Telescope centered. Adding data and continuing...\n",
      "Pointing to: az=306.0 deg / el 43.75 deg\n",
      "Pointing to b'* alf Cet'   : 03 02 16.7730 +04 05 23.059 (VMag: 2.53)\n",
      "Mount in position.\n",
      "Center telescope and choose action (press ?<enter>, for list of actions): x\n",
      "Telescope centered. Adding data and continuing...\n",
      "Pointing to: az=324.0 deg / el 52.5 deg\n",
      "Pointing to b'*  24 Eri'   : 03 44 30.5099 -01 09 47.120 (VMag: 5.25)\n",
      "Mount in position.\n",
      "Center telescope and choose action (press ?<enter>, for list of actions): x\n",
      "Telescope centered. Adding data and continuing...\n",
      "Pointing to: az=342.0 deg / el 61.25 deg\n",
      "Pointing to b'* nu. Eri'   : 04 36 19.1414 -03 21 08.856 (VMag: 3.93)\n",
      "Mount in position.\n",
      "Center telescope and choose action (press ?<enter>, for list of actions): x\n",
      "Telescope centered. Adding data and continuing...\n",
      "Pointing to: az=360.0 deg / el 70.0 deg\n",
      "Error getting target from Simbad. Skipping target <AltAz Coordinate (obstime=2019-05-20 18:10:46.733025, location=(1819093.5687622512, -5208411.682796104, -3195180.61110659) m, pressure=0.0 hPa, temperature=0.0 deg_C, relative_humidity=0, obswl=1.0 micron): (az, alt) in deg\n",
      "    (0., 70.)>.\n",
      "Failed to point to position 24 in the grid. continuing...\n",
      "Done...\n"
     ]
    }
   ],
   "source": [
    "for i in range(len(az_pt_grid)):\n",
    "    \n",
    "    if not pt_grid_done[i]:\n",
    "        print(f\"Pointing to: az={Angle(az_pt_grid[i]*u.deg)} / el {Angle(el_pt_grid[i]*u.deg)}\")\n",
    "        ret_val = await point(az=Angle(az_pt_grid[i]*u.deg),\n",
    "                              el=Angle(el_pt_grid[i]*u.deg))\n",
    "    else:\n",
    "        print(f\"Pointing {i} already completed. Skipping...\")\n",
    "        continue\n",
    "        \n",
    "    if ret_val == 0.:\n",
    "        wait_ret_val = await wait_center()\n",
    "        await atptg.cmd_stopTracking.start()\n",
    "        if wait_ret_val < 0:\n",
    "            break\n",
    "        pt_grid_done[i] = wait_ret_val == 0\n",
    "    else:\n",
    "        print(f\"Failed to point to position {i} in the grid. continuing...\")\n",
    "            \n",
    "\n",
    "print(\"Done...\")"
   ]
  },
  {
   "cell_type": "code",
   "execution_count": 20,
   "metadata": {},
   "outputs": [
    {
     "data": {
      "text/plain": [
       "array([ True,  True,  True, False,  True,  True,  True, False,  True,\n",
       "        True,  True, False, False,  True,  True,  True,  True,  True,\n",
       "        True,  True,  True,  True,  True,  True, False])"
      ]
     },
     "execution_count": 20,
     "metadata": {},
     "output_type": "execute_result"
    }
   ],
   "source": [
    "pt_grid_done"
   ]
  },
  {
   "cell_type": "code",
   "execution_count": 21,
   "metadata": {},
   "outputs": [
    {
     "name": "stdout",
     "output_type": "stream",
     "text": [
      "Pointing 0 already completed. Skipping...\n",
      "Pointing 1 already completed. Skipping...\n",
      "Pointing 2 already completed. Skipping...\n",
      "Pointing to: az=54.0 deg / el 61.25 deg\n",
      "Pointing to b'* tet CMa'   : 06 54 11.3997 -12 02 19.061 (VMag: 4.08)\n",
      "Mount in position.\n",
      "Center telescope and choose action (press ?<enter>, for list of actions): x\n",
      "Telescope centered. Adding data and continuing...\n",
      "Pointing 4 already completed. Skipping...\n",
      "Pointing 5 already completed. Skipping...\n",
      "Pointing 6 already completed. Skipping...\n",
      "Pointing to: az=108.0 deg / el 52.5 deg\n",
      "Pointing to b'* q Pup'     : 08 18 33.3129 -36 39 33.439 (VMag: 4.40)\n",
      "Mount in position.\n",
      "Center telescope and choose action (press ?<enter>, for list of actions): x\n",
      "Telescope centered. Adding data and continuing...\n",
      "Pointing 8 already completed. Skipping...\n",
      "Pointing 9 already completed. Skipping...\n",
      "Pointing 10 already completed. Skipping...\n",
      "Pointing to: az=162.0 deg / el 43.75 deg\n",
      "Pointing to b'* zet Vol'   : 07 41 49.2610 -72 36 21.956 (VMag: 3.94)\n",
      "Mount in position.\n",
      "Center telescope and choose action (press ?<enter>, for list of actions): x\n",
      "Telescope centered. Adding data and continuing...\n",
      "Pointing to: az=180.0 deg / el 52.5 deg\n",
      "Error getting target from Simbad. Skipping target <AltAz Coordinate (obstime=2019-05-20 18:13:15.177174, location=(1819093.5687622512, -5208411.682796104, -3195180.61110659) m, pressure=0.0 hPa, temperature=0.0 deg_C, relative_humidity=0, obswl=1.0 micron): (az, alt) in deg\n",
      "    (180., 52.5)>.\n",
      "Failed to point to position 12 in the grid. continuing...\n",
      "Pointing 13 already completed. Skipping...\n",
      "Pointing 14 already completed. Skipping...\n",
      "Pointing 15 already completed. Skipping...\n",
      "Pointing 16 already completed. Skipping...\n",
      "Pointing 17 already completed. Skipping...\n",
      "Pointing 18 already completed. Skipping...\n",
      "Pointing 19 already completed. Skipping...\n",
      "Pointing 20 already completed. Skipping...\n",
      "Pointing 21 already completed. Skipping...\n",
      "Pointing 22 already completed. Skipping...\n",
      "Pointing 23 already completed. Skipping...\n",
      "Pointing to: az=360.0 deg / el 70.0 deg\n",
      "Pointing to b'* bet Ori'   : 05 14 32.2721 -08 12 05.898 (VMag: 0.13)\n",
      "Mount in position.\n",
      "Center telescope and choose action (press ?<enter>, for list of actions): x\n",
      "Telescope centered. Adding data and continuing...\n",
      "Done...\n"
     ]
    }
   ],
   "source": [
    "for i in range(len(az_pt_grid)):\n",
    "    \n",
    "    if not pt_grid_done[i]:\n",
    "        print(f\"Pointing to: az={Angle(az_pt_grid[i]*u.deg)} / el {Angle(el_pt_grid[i]*u.deg)}\")\n",
    "        ret_val = await point(az=Angle(az_pt_grid[i]*u.deg),\n",
    "                              el=Angle(el_pt_grid[i]*u.deg))\n",
    "    else:\n",
    "        print(f\"Pointing {i} already completed. Skipping...\")\n",
    "        continue\n",
    "        \n",
    "    if ret_val == 0.:\n",
    "        wait_ret_val = await wait_center()\n",
    "        await atptg.cmd_stopTracking.start()\n",
    "        if wait_ret_val < 0:\n",
    "            break\n",
    "        pt_grid_done[i] = wait_ret_val == 0\n",
    "    else:\n",
    "        print(f\"Failed to point to position {i} in the grid. continuing...\")\n",
    "            \n",
    "\n",
    "print(\"Done...\")"
   ]
  },
  {
   "cell_type": "code",
   "execution_count": 22,
   "metadata": {},
   "outputs": [
    {
     "data": {
      "text/plain": [
       "array([ True,  True,  True,  True,  True,  True,  True,  True,  True,\n",
       "        True,  True,  True, False,  True,  True,  True,  True,  True,\n",
       "        True,  True,  True,  True,  True,  True,  True])"
      ]
     },
     "execution_count": 22,
     "metadata": {},
     "output_type": "execute_result"
    }
   ],
   "source": [
    "pt_grid_done"
   ]
  },
  {
   "cell_type": "code",
   "execution_count": 23,
   "metadata": {},
   "outputs": [
    {
     "name": "stdout",
     "output_type": "stream",
     "text": [
      "Pointing 0 already completed. Skipping...\n",
      "Pointing 1 already completed. Skipping...\n",
      "Pointing 2 already completed. Skipping...\n",
      "Pointing 3 already completed. Skipping...\n",
      "Pointing 4 already completed. Skipping...\n",
      "Pointing 5 already completed. Skipping...\n",
      "Pointing 6 already completed. Skipping...\n",
      "Pointing 7 already completed. Skipping...\n",
      "Pointing 8 already completed. Skipping...\n",
      "Pointing 9 already completed. Skipping...\n",
      "Pointing 10 already completed. Skipping...\n",
      "Pointing 11 already completed. Skipping...\n",
      "Pointing to: az=180.0 deg / el 52.5 deg\n",
      "Error getting target from Simbad. Skipping target <AltAz Coordinate (obstime=2019-05-20 18:14:50.185035, location=(1819093.5687622512, -5208411.682796104, -3195180.61110659) m, pressure=0.0 hPa, temperature=0.0 deg_C, relative_humidity=0, obswl=1.0 micron): (az, alt) in deg\n",
      "    (180., 52.5)>.\n",
      "Failed to point to position 12 in the grid. continuing...\n",
      "Pointing 13 already completed. Skipping...\n",
      "Pointing 14 already completed. Skipping...\n",
      "Pointing 15 already completed. Skipping...\n",
      "Pointing 16 already completed. Skipping...\n",
      "Pointing 17 already completed. Skipping...\n",
      "Pointing 18 already completed. Skipping...\n",
      "Pointing 19 already completed. Skipping...\n",
      "Pointing 20 already completed. Skipping...\n",
      "Pointing 21 already completed. Skipping...\n",
      "Pointing 22 already completed. Skipping...\n",
      "Pointing 23 already completed. Skipping...\n",
      "Pointing 24 already completed. Skipping...\n",
      "Done...\n"
     ]
    }
   ],
   "source": [
    "for i in range(len(az_pt_grid)):\n",
    "    \n",
    "    if not pt_grid_done[i]:\n",
    "        print(f\"Pointing to: az={Angle(az_pt_grid[i]*u.deg)} / el {Angle(el_pt_grid[i]*u.deg)}\")\n",
    "        ret_val = await point(az=Angle(az_pt_grid[i]*u.deg),\n",
    "                              el=Angle(el_pt_grid[i]*u.deg))\n",
    "    else:\n",
    "        print(f\"Pointing {i} already completed. Skipping...\")\n",
    "        continue\n",
    "        \n",
    "    if ret_val == 0.:\n",
    "        wait_ret_val = await wait_center()\n",
    "        await atptg.cmd_stopTracking.start()\n",
    "        if wait_ret_val < 0:\n",
    "            break\n",
    "        pt_grid_done[i] = wait_ret_val == 0\n",
    "    else:\n",
    "        print(f\"Failed to point to position {i} in the grid. continuing...\")\n",
    "            \n",
    "\n",
    "print(\"Done...\")"
   ]
  },
  {
   "cell_type": "code",
   "execution_count": null,
   "metadata": {
    "collapsed": true
   },
   "outputs": [],
   "source": [
    "await set_summary_state(atptg, State.STANDBY)"
   ]
  },
  {
   "cell_type": "code",
   "execution_count": null,
   "metadata": {
    "collapsed": true
   },
   "outputs": [],
   "source": [
    "await set_summary_state(atmcs, State.STANDBY)"
   ]
  },
  {
   "cell_type": "code",
   "execution_count": null,
   "metadata": {
    "collapsed": true
   },
   "outputs": [],
   "source": [
    "print(f\"ATPtg: {State(atptg.evt_summaryState.get().summaryState)!r}\")\n",
    "print(f\"ATMCS: {State(atmcs.evt_summaryState.get().summaryState)!r}\")"
   ]
  },
  {
   "cell_type": "code",
   "execution_count": null,
   "metadata": {
    "collapsed": true
   },
   "outputs": [],
   "source": []
  },
  {
   "cell_type": "code",
   "execution_count": null,
   "metadata": {
    "collapsed": true
   },
   "outputs": [],
   "source": []
  },
  {
   "cell_type": "code",
   "execution_count": null,
   "metadata": {
    "collapsed": true
   },
   "outputs": [],
   "source": []
  },
  {
   "cell_type": "markdown",
   "metadata": {},
   "source": [
    "# IGNORE FROM HERE ON"
   ]
  },
  {
   "cell_type": "code",
   "execution_count": null,
   "metadata": {
    "collapsed": true
   },
   "outputs": [],
   "source": []
  },
  {
   "cell_type": "code",
   "execution_count": null,
   "metadata": {
    "collapsed": true
   },
   "outputs": [],
   "source": []
  },
  {
   "cell_type": "code",
   "execution_count": null,
   "metadata": {
    "collapsed": true
   },
   "outputs": [],
   "source": []
  },
  {
   "cell_type": "code",
   "execution_count": null,
   "metadata": {
    "collapsed": true
   },
   "outputs": [],
   "source": [
    "current_time = Time.now()\n",
    "\n",
    "elaz = AltAz(alt=alt_grid[i], az=Angle(az_grid[i][0]*u.deg), \n",
    "             obstime=current_time.tai, \n",
    "             location=location)\n",
    "\n",
    "radec = elaz.transform_to(ICRS)"
   ]
  },
  {
   "cell_type": "code",
   "execution_count": null,
   "metadata": {
    "collapsed": true
   },
   "outputs": [],
   "source": [
    "print(elaz)\n",
    "print(radec)"
   ]
  },
  {
   "cell_type": "code",
   "execution_count": null,
   "metadata": {
    "collapsed": true
   },
   "outputs": [],
   "source": [
    "customSimbad = Simbad()"
   ]
  },
  {
   "cell_type": "code",
   "execution_count": null,
   "metadata": {
    "collapsed": true
   },
   "outputs": [],
   "source": [
    "customSimbad.add_votable_fields('distance_result', \"fluxdata(V)\")"
   ]
  },
  {
   "cell_type": "code",
   "execution_count": null,
   "metadata": {
    "collapsed": true
   },
   "outputs": [],
   "source": [
    "_ra = radec.ra.to_string(u.deg, decimal=True)\n",
    "_dec = radec.dec.to_string(u.deg, decimal=True)\n",
    "r = Angle(4.*u.deg).to_string(u.deg, decimal=True)\n",
    "\n",
    "criteria = f\"region(circle,ICRS,{_ra} {_dec},{r}d) & Vmag < 7\"\n",
    "print(criteria)\n",
    "result_table = customSimbad.query_criteria(criteria)\n",
    "print(result_table)"
   ]
  },
  {
   "cell_type": "code",
   "execution_count": null,
   "metadata": {
    "collapsed": true
   },
   "outputs": [],
   "source": [
    "result_table.sort('FLUX_V')"
   ]
  },
  {
   "cell_type": "code",
   "execution_count": null,
   "metadata": {
    "collapsed": true
   },
   "outputs": [],
   "source": [
    "Angle(result_table['RA'][0], unit=u.hour), Angle(result_table['DEC'][0], unit=u.deg)"
   ]
  },
  {
   "cell_type": "code",
   "execution_count": null,
   "metadata": {
    "collapsed": true
   },
   "outputs": [],
   "source": [
    "target_radec = SkyCoord(Angle(result_table['RA'][0], unit=u.hour), \n",
    "                        Angle(result_table['DEC'][0], unit=u.deg), frame=ICRS)"
   ]
  },
  {
   "cell_type": "code",
   "execution_count": null,
   "metadata": {
    "collapsed": true
   },
   "outputs": [],
   "source": [
    "target_radec"
   ]
  },
  {
   "cell_type": "code",
   "execution_count": null,
   "metadata": {
    "collapsed": true
   },
   "outputs": [],
   "source": []
  },
  {
   "cell_type": "code",
   "execution_count": null,
   "metadata": {
    "collapsed": true
   },
   "outputs": [],
   "source": []
  },
  {
   "cell_type": "code",
   "execution_count": null,
   "metadata": {
    "collapsed": true
   },
   "outputs": [],
   "source": [
    "plt.hist(result_table['FLUX_V'])"
   ]
  },
  {
   "cell_type": "code",
   "execution_count": null,
   "metadata": {
    "collapsed": true
   },
   "outputs": [],
   "source": []
  },
  {
   "cell_type": "code",
   "execution_count": null,
   "metadata": {
    "collapsed": true
   },
   "outputs": [],
   "source": [
    "r = 1. * u.deg\n",
    "result_table = Simbad.query_region(radec, radius=r)\n",
    "# c = coordinates.SkyCoord(\"05h35m17.3s -05d23m28s\", frame='icrs')"
   ]
  },
  {
   "cell_type": "code",
   "execution_count": null,
   "metadata": {
    "collapsed": true
   },
   "outputs": [],
   "source": [
    "print(result_table.columns)"
   ]
  },
  {
   "cell_type": "code",
   "execution_count": null,
   "metadata": {
    "collapsed": true
   },
   "outputs": [],
   "source": [
    "print(result_table)"
   ]
  },
  {
   "cell_type": "code",
   "execution_count": null,
   "metadata": {
    "collapsed": true
   },
   "outputs": [],
   "source": [
    "print(az, el)"
   ]
  },
  {
   "cell_type": "code",
   "execution_count": null,
   "metadata": {
    "collapsed": true
   },
   "outputs": [],
   "source": [
    "Simbad.list_votable_fields()"
   ]
  },
  {
   "cell_type": "code",
   "execution_count": null,
   "metadata": {
    "collapsed": true
   },
   "outputs": [],
   "source": [
    "Simbad.get_field_description(\"fluxdata(filtername)\")"
   ]
  },
  {
   "cell_type": "code",
   "execution_count": null,
   "metadata": {
    "collapsed": true
   },
   "outputs": [],
   "source": [
    "Simbad.get_field_description(\"V\")"
   ]
  },
  {
   "cell_type": "code",
   "execution_count": null,
   "metadata": {
    "collapsed": true
   },
   "outputs": [],
   "source": [
    "Simbad.get_votable_fields()"
   ]
  },
  {
   "cell_type": "code",
   "execution_count": null,
   "metadata": {
    "collapsed": true
   },
   "outputs": [],
   "source": [
    "Simbad.ROW_LIMIT "
   ]
  },
  {
   "cell_type": "code",
   "execution_count": null,
   "metadata": {
    "collapsed": true
   },
   "outputs": [],
   "source": [
    "Simbad.query_criteria?"
   ]
  },
  {
   "cell_type": "code",
   "execution_count": null,
   "metadata": {
    "collapsed": true
   },
   "outputs": [],
   "source": [
    "radec.ra.to_string(u.hour, decimal=False, sep=\":\")\n",
    "radec.dec.to_string(u.deg, decimal=False, sep=\":\")"
   ]
  },
  {
   "cell_type": "code",
   "execution_count": null,
   "metadata": {
    "collapsed": true
   },
   "outputs": [],
   "source": [
    "Angle(r).to_string(u.deg)"
   ]
  },
  {
   "cell_type": "code",
   "execution_count": null,
   "metadata": {
    "collapsed": true
   },
   "outputs": [],
   "source": []
  }
 ],
 "metadata": {
  "kernelspec": {
   "display_name": "Python 3",
   "language": "python",
   "name": "python3"
  },
  "language_info": {
   "codemirror_mode": {
    "name": "ipython",
    "version": 3
   },
   "file_extension": ".py",
   "mimetype": "text/x-python",
   "name": "python",
   "nbconvert_exporter": "python",
   "pygments_lexer": "ipython3",
   "version": "3.6.2"
  }
 },
 "nbformat": 4,
 "nbformat_minor": 2
}
