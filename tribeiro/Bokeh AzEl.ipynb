{
 "cells": [
  {
   "cell_type": "code",
   "execution_count": 1,
   "metadata": {},
   "outputs": [],
   "source": [
    "import numpy as np\n",
    "\n",
    "from bokeh.models.sources import ColumnDataSource\n",
    "from bokeh.plotting import figure\n",
    "from bokeh.io import output_notebook, show, push_notebook\n",
    "\n",
    "import astropy.units as u\n",
    "from astropy.coordinates import Angle\n",
    "\n",
    "import asyncio\n",
    "\n",
    "from lsst.ts.salobj import Remote, State\n",
    "\n",
    "import SALPY_ATPtg\n",
    "import SALPY_ATMCS"
   ]
  },
  {
   "cell_type": "code",
   "execution_count": 2,
   "metadata": {},
   "outputs": [
    {
     "data": {
      "text/html": [
       "\n",
       "    <div class=\"bk-root\">\n",
       "        <a href=\"https://bokeh.pydata.org\" target=\"_blank\" class=\"bk-logo bk-logo-small bk-logo-notebook\"></a>\n",
       "        <span id=\"1001\">Loading BokehJS ...</span>\n",
       "    </div>"
      ]
     },
     "metadata": {},
     "output_type": "display_data"
    },
    {
     "data": {
      "application/javascript": [
       "\n",
       "(function(root) {\n",
       "  function now() {\n",
       "    return new Date();\n",
       "  }\n",
       "\n",
       "  var force = true;\n",
       "\n",
       "  if (typeof root._bokeh_onload_callbacks === \"undefined\" || force === true) {\n",
       "    root._bokeh_onload_callbacks = [];\n",
       "    root._bokeh_is_loading = undefined;\n",
       "  }\n",
       "\n",
       "  var JS_MIME_TYPE = 'application/javascript';\n",
       "  var HTML_MIME_TYPE = 'text/html';\n",
       "  var EXEC_MIME_TYPE = 'application/vnd.bokehjs_exec.v0+json';\n",
       "  var CLASS_NAME = 'output_bokeh rendered_html';\n",
       "\n",
       "  /**\n",
       "   * Render data to the DOM node\n",
       "   */\n",
       "  function render(props, node) {\n",
       "    var script = document.createElement(\"script\");\n",
       "    node.appendChild(script);\n",
       "  }\n",
       "\n",
       "  /**\n",
       "   * Handle when an output is cleared or removed\n",
       "   */\n",
       "  function handleClearOutput(event, handle) {\n",
       "    var cell = handle.cell;\n",
       "\n",
       "    var id = cell.output_area._bokeh_element_id;\n",
       "    var server_id = cell.output_area._bokeh_server_id;\n",
       "    // Clean up Bokeh references\n",
       "    if (id != null && id in Bokeh.index) {\n",
       "      Bokeh.index[id].model.document.clear();\n",
       "      delete Bokeh.index[id];\n",
       "    }\n",
       "\n",
       "    if (server_id !== undefined) {\n",
       "      // Clean up Bokeh references\n",
       "      var cmd = \"from bokeh.io.state import curstate; print(curstate().uuid_to_server['\" + server_id + \"'].get_sessions()[0].document.roots[0]._id)\";\n",
       "      cell.notebook.kernel.execute(cmd, {\n",
       "        iopub: {\n",
       "          output: function(msg) {\n",
       "            var id = msg.content.text.trim();\n",
       "            if (id in Bokeh.index) {\n",
       "              Bokeh.index[id].model.document.clear();\n",
       "              delete Bokeh.index[id];\n",
       "            }\n",
       "          }\n",
       "        }\n",
       "      });\n",
       "      // Destroy server and session\n",
       "      var cmd = \"import bokeh.io.notebook as ion; ion.destroy_server('\" + server_id + \"')\";\n",
       "      cell.notebook.kernel.execute(cmd);\n",
       "    }\n",
       "  }\n",
       "\n",
       "  /**\n",
       "   * Handle when a new output is added\n",
       "   */\n",
       "  function handleAddOutput(event, handle) {\n",
       "    var output_area = handle.output_area;\n",
       "    var output = handle.output;\n",
       "\n",
       "    // limit handleAddOutput to display_data with EXEC_MIME_TYPE content only\n",
       "    if ((output.output_type != \"display_data\") || (!output.data.hasOwnProperty(EXEC_MIME_TYPE))) {\n",
       "      return\n",
       "    }\n",
       "\n",
       "    var toinsert = output_area.element.find(\".\" + CLASS_NAME.split(' ')[0]);\n",
       "\n",
       "    if (output.metadata[EXEC_MIME_TYPE][\"id\"] !== undefined) {\n",
       "      toinsert[toinsert.length - 1].firstChild.textContent = output.data[JS_MIME_TYPE];\n",
       "      // store reference to embed id on output_area\n",
       "      output_area._bokeh_element_id = output.metadata[EXEC_MIME_TYPE][\"id\"];\n",
       "    }\n",
       "    if (output.metadata[EXEC_MIME_TYPE][\"server_id\"] !== undefined) {\n",
       "      var bk_div = document.createElement(\"div\");\n",
       "      bk_div.innerHTML = output.data[HTML_MIME_TYPE];\n",
       "      var script_attrs = bk_div.children[0].attributes;\n",
       "      for (var i = 0; i < script_attrs.length; i++) {\n",
       "        toinsert[toinsert.length - 1].firstChild.setAttribute(script_attrs[i].name, script_attrs[i].value);\n",
       "      }\n",
       "      // store reference to server id on output_area\n",
       "      output_area._bokeh_server_id = output.metadata[EXEC_MIME_TYPE][\"server_id\"];\n",
       "    }\n",
       "  }\n",
       "\n",
       "  function register_renderer(events, OutputArea) {\n",
       "\n",
       "    function append_mime(data, metadata, element) {\n",
       "      // create a DOM node to render to\n",
       "      var toinsert = this.create_output_subarea(\n",
       "        metadata,\n",
       "        CLASS_NAME,\n",
       "        EXEC_MIME_TYPE\n",
       "      );\n",
       "      this.keyboard_manager.register_events(toinsert);\n",
       "      // Render to node\n",
       "      var props = {data: data, metadata: metadata[EXEC_MIME_TYPE]};\n",
       "      render(props, toinsert[toinsert.length - 1]);\n",
       "      element.append(toinsert);\n",
       "      return toinsert\n",
       "    }\n",
       "\n",
       "    /* Handle when an output is cleared or removed */\n",
       "    events.on('clear_output.CodeCell', handleClearOutput);\n",
       "    events.on('delete.Cell', handleClearOutput);\n",
       "\n",
       "    /* Handle when a new output is added */\n",
       "    events.on('output_added.OutputArea', handleAddOutput);\n",
       "\n",
       "    /**\n",
       "     * Register the mime type and append_mime function with output_area\n",
       "     */\n",
       "    OutputArea.prototype.register_mime_type(EXEC_MIME_TYPE, append_mime, {\n",
       "      /* Is output safe? */\n",
       "      safe: true,\n",
       "      /* Index of renderer in `output_area.display_order` */\n",
       "      index: 0\n",
       "    });\n",
       "  }\n",
       "\n",
       "  // register the mime type if in Jupyter Notebook environment and previously unregistered\n",
       "  if (root.Jupyter !== undefined) {\n",
       "    var events = require('base/js/events');\n",
       "    var OutputArea = require('notebook/js/outputarea').OutputArea;\n",
       "\n",
       "    if (OutputArea.prototype.mime_types().indexOf(EXEC_MIME_TYPE) == -1) {\n",
       "      register_renderer(events, OutputArea);\n",
       "    }\n",
       "  }\n",
       "\n",
       "  \n",
       "  if (typeof (root._bokeh_timeout) === \"undefined\" || force === true) {\n",
       "    root._bokeh_timeout = Date.now() + 5000;\n",
       "    root._bokeh_failed_load = false;\n",
       "  }\n",
       "\n",
       "  var NB_LOAD_WARNING = {'data': {'text/html':\n",
       "     \"<div style='background-color: #fdd'>\\n\"+\n",
       "     \"<p>\\n\"+\n",
       "     \"BokehJS does not appear to have successfully loaded. If loading BokehJS from CDN, this \\n\"+\n",
       "     \"may be due to a slow or bad network connection. Possible fixes:\\n\"+\n",
       "     \"</p>\\n\"+\n",
       "     \"<ul>\\n\"+\n",
       "     \"<li>re-rerun `output_notebook()` to attempt to load from CDN again, or</li>\\n\"+\n",
       "     \"<li>use INLINE resources instead, as so:</li>\\n\"+\n",
       "     \"</ul>\\n\"+\n",
       "     \"<code>\\n\"+\n",
       "     \"from bokeh.resources import INLINE\\n\"+\n",
       "     \"output_notebook(resources=INLINE)\\n\"+\n",
       "     \"</code>\\n\"+\n",
       "     \"</div>\"}};\n",
       "\n",
       "  function display_loaded() {\n",
       "    var el = document.getElementById(\"1001\");\n",
       "    if (el != null) {\n",
       "      el.textContent = \"BokehJS is loading...\";\n",
       "    }\n",
       "    if (root.Bokeh !== undefined) {\n",
       "      if (el != null) {\n",
       "        el.textContent = \"BokehJS \" + root.Bokeh.version + \" successfully loaded.\";\n",
       "      }\n",
       "    } else if (Date.now() < root._bokeh_timeout) {\n",
       "      setTimeout(display_loaded, 100)\n",
       "    }\n",
       "  }\n",
       "\n",
       "\n",
       "  function run_callbacks() {\n",
       "    try {\n",
       "      root._bokeh_onload_callbacks.forEach(function(callback) {\n",
       "        if (callback != null)\n",
       "          callback();\n",
       "      });\n",
       "    } finally {\n",
       "      delete root._bokeh_onload_callbacks\n",
       "    }\n",
       "    console.debug(\"Bokeh: all callbacks have finished\");\n",
       "  }\n",
       "\n",
       "  function load_libs(css_urls, js_urls, callback) {\n",
       "    if (css_urls == null) css_urls = [];\n",
       "    if (js_urls == null) js_urls = [];\n",
       "\n",
       "    root._bokeh_onload_callbacks.push(callback);\n",
       "    if (root._bokeh_is_loading > 0) {\n",
       "      console.debug(\"Bokeh: BokehJS is being loaded, scheduling callback at\", now());\n",
       "      return null;\n",
       "    }\n",
       "    if (js_urls == null || js_urls.length === 0) {\n",
       "      run_callbacks();\n",
       "      return null;\n",
       "    }\n",
       "    console.debug(\"Bokeh: BokehJS not loaded, scheduling load and callback at\", now());\n",
       "    root._bokeh_is_loading = css_urls.length + js_urls.length;\n",
       "\n",
       "    function on_load() {\n",
       "      root._bokeh_is_loading--;\n",
       "      if (root._bokeh_is_loading === 0) {\n",
       "        console.debug(\"Bokeh: all BokehJS libraries/stylesheets loaded\");\n",
       "        run_callbacks()\n",
       "      }\n",
       "    }\n",
       "\n",
       "    function on_error() {\n",
       "      console.error(\"failed to load \" + url);\n",
       "    }\n",
       "\n",
       "    for (var i = 0; i < css_urls.length; i++) {\n",
       "      var url = css_urls[i];\n",
       "      const element = document.createElement(\"link\");\n",
       "      element.onload = on_load;\n",
       "      element.onerror = on_error;\n",
       "      element.rel = \"stylesheet\";\n",
       "      element.type = \"text/css\";\n",
       "      element.href = url;\n",
       "      console.debug(\"Bokeh: injecting link tag for BokehJS stylesheet: \", url);\n",
       "      document.body.appendChild(element);\n",
       "    }\n",
       "\n",
       "    for (var i = 0; i < js_urls.length; i++) {\n",
       "      var url = js_urls[i];\n",
       "      var element = document.createElement('script');\n",
       "      element.onload = on_load;\n",
       "      element.onerror = on_error;\n",
       "      element.async = false;\n",
       "      element.src = url;\n",
       "      console.debug(\"Bokeh: injecting script tag for BokehJS library: \", url);\n",
       "      document.head.appendChild(element);\n",
       "    }\n",
       "  };var element = document.getElementById(\"1001\");\n",
       "  if (element == null) {\n",
       "    console.error(\"Bokeh: ERROR: autoload.js configured with elementid '1001' but no matching script tag was found. \")\n",
       "    return false;\n",
       "  }\n",
       "\n",
       "  function inject_raw_css(css) {\n",
       "    const element = document.createElement(\"style\");\n",
       "    element.appendChild(document.createTextNode(css));\n",
       "    document.body.appendChild(element);\n",
       "  }\n",
       "\n",
       "  var js_urls = [\"https://cdn.pydata.org/bokeh/release/bokeh-1.2.0.min.js\", \"https://cdn.pydata.org/bokeh/release/bokeh-widgets-1.2.0.min.js\", \"https://cdn.pydata.org/bokeh/release/bokeh-tables-1.2.0.min.js\", \"https://cdn.pydata.org/bokeh/release/bokeh-gl-1.2.0.min.js\"];\n",
       "  var css_urls = [\"https://cdn.pydata.org/bokeh/release/bokeh-1.2.0.min.css\", \"https://cdn.pydata.org/bokeh/release/bokeh-widgets-1.2.0.min.css\", \"https://cdn.pydata.org/bokeh/release/bokeh-tables-1.2.0.min.css\"];\n",
       "\n",
       "  var inline_js = [\n",
       "    function(Bokeh) {\n",
       "      Bokeh.set_log_level(\"info\");\n",
       "    },\n",
       "    \n",
       "    function(Bokeh) {\n",
       "      \n",
       "    },\n",
       "    function(Bokeh) {} // ensure no trailing comma for IE\n",
       "  ];\n",
       "\n",
       "  function run_inline_js() {\n",
       "    \n",
       "    if ((root.Bokeh !== undefined) || (force === true)) {\n",
       "      for (var i = 0; i < inline_js.length; i++) {\n",
       "        inline_js[i].call(root, root.Bokeh);\n",
       "      }if (force === true) {\n",
       "        display_loaded();\n",
       "      }} else if (Date.now() < root._bokeh_timeout) {\n",
       "      setTimeout(run_inline_js, 100);\n",
       "    } else if (!root._bokeh_failed_load) {\n",
       "      console.log(\"Bokeh: BokehJS failed to load within specified timeout.\");\n",
       "      root._bokeh_failed_load = true;\n",
       "    } else if (force !== true) {\n",
       "      var cell = $(document.getElementById(\"1001\")).parents('.cell').data().cell;\n",
       "      cell.output_area.append_execute_result(NB_LOAD_WARNING)\n",
       "    }\n",
       "\n",
       "  }\n",
       "\n",
       "  if (root._bokeh_is_loading === 0) {\n",
       "    console.debug(\"Bokeh: BokehJS loaded, going straight to plotting\");\n",
       "    run_inline_js();\n",
       "  } else {\n",
       "    load_libs(css_urls, js_urls, function() {\n",
       "      console.debug(\"Bokeh: BokehJS plotting callback run at\", now());\n",
       "      run_inline_js();\n",
       "    });\n",
       "  }\n",
       "}(window));"
      ],
      "application/vnd.bokehjs_load.v0+json": "\n(function(root) {\n  function now() {\n    return new Date();\n  }\n\n  var force = true;\n\n  if (typeof root._bokeh_onload_callbacks === \"undefined\" || force === true) {\n    root._bokeh_onload_callbacks = [];\n    root._bokeh_is_loading = undefined;\n  }\n\n  \n\n  \n  if (typeof (root._bokeh_timeout) === \"undefined\" || force === true) {\n    root._bokeh_timeout = Date.now() + 5000;\n    root._bokeh_failed_load = false;\n  }\n\n  var NB_LOAD_WARNING = {'data': {'text/html':\n     \"<div style='background-color: #fdd'>\\n\"+\n     \"<p>\\n\"+\n     \"BokehJS does not appear to have successfully loaded. If loading BokehJS from CDN, this \\n\"+\n     \"may be due to a slow or bad network connection. Possible fixes:\\n\"+\n     \"</p>\\n\"+\n     \"<ul>\\n\"+\n     \"<li>re-rerun `output_notebook()` to attempt to load from CDN again, or</li>\\n\"+\n     \"<li>use INLINE resources instead, as so:</li>\\n\"+\n     \"</ul>\\n\"+\n     \"<code>\\n\"+\n     \"from bokeh.resources import INLINE\\n\"+\n     \"output_notebook(resources=INLINE)\\n\"+\n     \"</code>\\n\"+\n     \"</div>\"}};\n\n  function display_loaded() {\n    var el = document.getElementById(\"1001\");\n    if (el != null) {\n      el.textContent = \"BokehJS is loading...\";\n    }\n    if (root.Bokeh !== undefined) {\n      if (el != null) {\n        el.textContent = \"BokehJS \" + root.Bokeh.version + \" successfully loaded.\";\n      }\n    } else if (Date.now() < root._bokeh_timeout) {\n      setTimeout(display_loaded, 100)\n    }\n  }\n\n\n  function run_callbacks() {\n    try {\n      root._bokeh_onload_callbacks.forEach(function(callback) {\n        if (callback != null)\n          callback();\n      });\n    } finally {\n      delete root._bokeh_onload_callbacks\n    }\n    console.debug(\"Bokeh: all callbacks have finished\");\n  }\n\n  function load_libs(css_urls, js_urls, callback) {\n    if (css_urls == null) css_urls = [];\n    if (js_urls == null) js_urls = [];\n\n    root._bokeh_onload_callbacks.push(callback);\n    if (root._bokeh_is_loading > 0) {\n      console.debug(\"Bokeh: BokehJS is being loaded, scheduling callback at\", now());\n      return null;\n    }\n    if (js_urls == null || js_urls.length === 0) {\n      run_callbacks();\n      return null;\n    }\n    console.debug(\"Bokeh: BokehJS not loaded, scheduling load and callback at\", now());\n    root._bokeh_is_loading = css_urls.length + js_urls.length;\n\n    function on_load() {\n      root._bokeh_is_loading--;\n      if (root._bokeh_is_loading === 0) {\n        console.debug(\"Bokeh: all BokehJS libraries/stylesheets loaded\");\n        run_callbacks()\n      }\n    }\n\n    function on_error() {\n      console.error(\"failed to load \" + url);\n    }\n\n    for (var i = 0; i < css_urls.length; i++) {\n      var url = css_urls[i];\n      const element = document.createElement(\"link\");\n      element.onload = on_load;\n      element.onerror = on_error;\n      element.rel = \"stylesheet\";\n      element.type = \"text/css\";\n      element.href = url;\n      console.debug(\"Bokeh: injecting link tag for BokehJS stylesheet: \", url);\n      document.body.appendChild(element);\n    }\n\n    for (var i = 0; i < js_urls.length; i++) {\n      var url = js_urls[i];\n      var element = document.createElement('script');\n      element.onload = on_load;\n      element.onerror = on_error;\n      element.async = false;\n      element.src = url;\n      console.debug(\"Bokeh: injecting script tag for BokehJS library: \", url);\n      document.head.appendChild(element);\n    }\n  };var element = document.getElementById(\"1001\");\n  if (element == null) {\n    console.error(\"Bokeh: ERROR: autoload.js configured with elementid '1001' but no matching script tag was found. \")\n    return false;\n  }\n\n  function inject_raw_css(css) {\n    const element = document.createElement(\"style\");\n    element.appendChild(document.createTextNode(css));\n    document.body.appendChild(element);\n  }\n\n  var js_urls = [\"https://cdn.pydata.org/bokeh/release/bokeh-1.2.0.min.js\", \"https://cdn.pydata.org/bokeh/release/bokeh-widgets-1.2.0.min.js\", \"https://cdn.pydata.org/bokeh/release/bokeh-tables-1.2.0.min.js\", \"https://cdn.pydata.org/bokeh/release/bokeh-gl-1.2.0.min.js\"];\n  var css_urls = [\"https://cdn.pydata.org/bokeh/release/bokeh-1.2.0.min.css\", \"https://cdn.pydata.org/bokeh/release/bokeh-widgets-1.2.0.min.css\", \"https://cdn.pydata.org/bokeh/release/bokeh-tables-1.2.0.min.css\"];\n\n  var inline_js = [\n    function(Bokeh) {\n      Bokeh.set_log_level(\"info\");\n    },\n    \n    function(Bokeh) {\n      \n    },\n    function(Bokeh) {} // ensure no trailing comma for IE\n  ];\n\n  function run_inline_js() {\n    \n    if ((root.Bokeh !== undefined) || (force === true)) {\n      for (var i = 0; i < inline_js.length; i++) {\n        inline_js[i].call(root, root.Bokeh);\n      }if (force === true) {\n        display_loaded();\n      }} else if (Date.now() < root._bokeh_timeout) {\n      setTimeout(run_inline_js, 100);\n    } else if (!root._bokeh_failed_load) {\n      console.log(\"Bokeh: BokehJS failed to load within specified timeout.\");\n      root._bokeh_failed_load = true;\n    } else if (force !== true) {\n      var cell = $(document.getElementById(\"1001\")).parents('.cell').data().cell;\n      cell.output_area.append_execute_result(NB_LOAD_WARNING)\n    }\n\n  }\n\n  if (root._bokeh_is_loading === 0) {\n    console.debug(\"Bokeh: BokehJS loaded, going straight to plotting\");\n    run_inline_js();\n  } else {\n    load_libs(css_urls, js_urls, function() {\n      console.debug(\"Bokeh: BokehJS plotting callback run at\", now());\n      run_inline_js();\n    });\n  }\n}(window));"
     },
     "metadata": {},
     "output_type": "display_data"
    }
   ],
   "source": [
    "output_notebook()"
   ]
  },
  {
   "cell_type": "code",
   "execution_count": 3,
   "metadata": {},
   "outputs": [],
   "source": [
    "atptg = Remote(SALPY_ATPtg)\n",
    "atmcs = Remote(SALPY_ATMCS)"
   ]
  },
  {
   "cell_type": "code",
   "execution_count": 22,
   "metadata": {},
   "outputs": [
    {
     "data": {
      "text/plain": [
       "CommandIdAck(cmd_id=1559595944, ack=(ack=303, error=0, result='Ok'))"
      ]
     },
     "execution_count": 22,
     "metadata": {},
     "output_type": "execute_result"
    }
   ],
   "source": [
    "await atmcs.cmd_start.start()"
   ]
  },
  {
   "cell_type": "code",
   "execution_count": null,
   "metadata": {},
   "outputs": [],
   "source": [
    "await atptg.cmd_start.start()"
   ]
  },
  {
   "cell_type": "code",
   "execution_count": null,
   "metadata": {},
   "outputs": [],
   "source": [
    "await atmcs.cmd_enable.start()"
   ]
  },
  {
   "cell_type": "code",
   "execution_count": null,
   "metadata": {},
   "outputs": [],
   "source": [
    "await atptg.cmd_enable.start()"
   ]
  },
  {
   "cell_type": "code",
   "execution_count": 20,
   "metadata": {},
   "outputs": [
    {
     "data": {
      "text/plain": [
       "<SALPY_ATMCS.ATMCS_logevent_summaryStateC at 0x7fdcc99f35a8>"
      ]
     },
     "execution_count": 20,
     "metadata": {},
     "output_type": "execute_result"
    }
   ],
   "source": [
    "atmcs.evt_summaryState.get()"
   ]
  },
  {
   "cell_type": "code",
   "execution_count": null,
   "metadata": {},
   "outputs": [],
   "source": [
    "# pos = await atmcs.tel_mountEncoders.next(flush=True, timeout=60)\n",
    "# print(pos.elevationCalculatedAngle)"
   ]
  },
  {
   "cell_type": "code",
   "execution_count": 24,
   "metadata": {},
   "outputs": [],
   "source": [
    "a = atmcs.tel_mountEncoders.get()"
   ]
  },
  {
   "cell_type": "code",
   "execution_count": 25,
   "metadata": {},
   "outputs": [
    {
     "data": {
      "text/plain": [
       "-100.99909990937158"
      ]
     },
     "execution_count": 25,
     "metadata": {},
     "output_type": "execute_result"
    }
   ],
   "source": [
    "a.azimuthCalculatedAngle"
   ]
  },
  {
   "cell_type": "code",
   "execution_count": 13,
   "metadata": {},
   "outputs": [],
   "source": [
    "cts = await atptg.tel_currentTargetStatus.next(flush=True)"
   ]
  },
  {
   "cell_type": "code",
   "execution_count": 12,
   "metadata": {},
   "outputs": [
    {
     "data": {
      "text/plain": [
       "'-77:26:13.61'"
      ]
     },
     "execution_count": 12,
     "metadata": {},
     "output_type": "execute_result"
    }
   ],
   "source": [
    "cts.demandAz"
   ]
  },
  {
   "cell_type": "code",
   "execution_count": 14,
   "metadata": {},
   "outputs": [],
   "source": [
    "class LivePlot:\n",
    "    def __init__(self):\n",
    "#         self.fig = plt.figure()\n",
    "#         self.ax1 = self.fig.add_subplot(111)\n",
    "\n",
    "#         plt.ion()    \n",
    "        self.az = np.array([0.])\n",
    "        self.el = np.array([0.])\n",
    "        self.demandRot = np.array([0.])\n",
    "        \n",
    "        self.mcs_az = np.array([0.])\n",
    "        self.mcs_el = np.array([0.])        \n",
    "        \n",
    "        self.my_figure = figure(plot_width=400, plot_height=400)\n",
    "\n",
    "        data = {'x': self.mcs_az,\n",
    "                'y': self.mcs_el}\n",
    "\n",
    "        self.target_data = ColumnDataSource(data=data)\n",
    "        self.position_data = ColumnDataSource(data={'x': [],\n",
    "                                                    'y': []})\n",
    "        \n",
    "        self.target_plot = self.my_figure.circle(\"x\", \"y\", \n",
    "                                                 color=\"blue\", \n",
    "                                                 fill_alpha=0.2, \n",
    "                                                 size=5,\n",
    "                                                 source=self.target_data)\n",
    "        self.position_plot = self.my_figure.circle(\"x\", \"y\", \n",
    "                                                   color=\"red\", \n",
    "                                                   size=0.5,\n",
    "                                                   source=self.position_data)\n",
    "                                                    \n",
    "        theta = np.linspace(0., 2.*np.pi, 100)\n",
    "        \n",
    "        self.circles = []\n",
    "        \n",
    "        for radii in [10., 25., 40., 55., 70.]:\n",
    "            x, y = radii*np.cos(theta), radii*np.sin(theta)\n",
    "            self.circles.append(self.my_figure.line(\"x\", \"y\", source={'x': x, 'y': y}))\n",
    "\n",
    "        self.handle = show(self.my_figure, notebook_handle=True)\n",
    "\n",
    "    def atptg_callback(self, id_data):\n",
    "        self.az = np.append(self.az, Angle(id_data.demandAz, unit=u.deg).deg)\n",
    "        self.el = np.append(self.el, Angle(id_data.demandEl, unit=u.deg).deg)\n",
    "        self.demandRot = np.append(self.demandRot, Angle(id_data.demandRot, unit=u.deg).deg)\n",
    "\n",
    "        print(Angle(id_data.demandAz, unit=u.deg).deg,\n",
    "              Angle(id_data.demandEl, unit=u.deg).deg)\n",
    "        new_data = {\n",
    "            'x' : [Angle(id_data.demandAz, unit=u.deg).deg,],\n",
    "            'y' : [Angle(id_data.demandEl, unit=u.deg).deg,],\n",
    "        }\n",
    "\n",
    "        self.test_data.stream(new_data, 300)\n",
    "        \n",
    "        push_notebook(handle=self.handle)\n",
    "\n",
    "    def atmcs_target_callback(self, id_data):\n",
    "        new_data = {\n",
    "            'x' : [(90.-id_data.elevation)*np.cos(np.radians(id_data.azimuth)),],\n",
    "            'y' : [(90.-id_data.elevation)*np.sin(np.radians(id_data.azimuth)),],\n",
    "        }\n",
    "\n",
    "        self.target_data.stream(new_data)\n",
    "        \n",
    "        push_notebook(handle=self.handle)\n",
    "\n",
    "    def atmcs_position_callback(self, id_data):\n",
    "        new_data = {\n",
    "            'x' : [(90.-id_data.elevationCalculatedAngle)*np.cos(np.radians(id_data.azimuthCalculatedAngle)),],\n",
    "            'y' : [(90.-id_data.elevationCalculatedAngle)*np.sin(np.radians(id_data.azimuthCalculatedAngle)),],\n",
    "        }\n",
    "\n",
    "        self.position_data.stream(new_data)\n",
    "        \n",
    "        push_notebook(handle=self.handle)\n",
    "\n"
   ]
  },
  {
   "cell_type": "code",
   "execution_count": 15,
   "metadata": {},
   "outputs": [
    {
     "data": {
      "text/html": [
       "\n",
       "\n",
       "\n",
       "\n",
       "\n",
       "\n",
       "  <div class=\"bk-root\" id=\"b236648b-9797-4ba8-a666-6f4dccc2c9f5\" data-root-id=\"1224\"></div>\n"
      ]
     },
     "metadata": {},
     "output_type": "display_data"
    },
    {
     "data": {
      "application/javascript": [
       "(function(root) {\n",
       "  function embed_document(root) {\n",
       "    \n",
       "  var docs_json = {\"855670e2-ee5b-43ee-8364-c01542d946a9\":{\"roots\":{\"references\":[{\"attributes\":{\"below\":[{\"id\":\"1233\",\"type\":\"LinearAxis\"}],\"center\":[{\"id\":\"1237\",\"type\":\"Grid\"},{\"id\":\"1242\",\"type\":\"Grid\"}],\"left\":[{\"id\":\"1238\",\"type\":\"LinearAxis\"}],\"plot_height\":400,\"plot_width\":400,\"renderers\":[{\"id\":\"1261\",\"type\":\"GlyphRenderer\"},{\"id\":\"1266\",\"type\":\"GlyphRenderer\"},{\"id\":\"1272\",\"type\":\"GlyphRenderer\"},{\"id\":\"1278\",\"type\":\"GlyphRenderer\"},{\"id\":\"1284\",\"type\":\"GlyphRenderer\"},{\"id\":\"1290\",\"type\":\"GlyphRenderer\"},{\"id\":\"1296\",\"type\":\"GlyphRenderer\"}],\"title\":{\"id\":\"1319\",\"type\":\"Title\"},\"toolbar\":{\"id\":\"1249\",\"type\":\"Toolbar\"},\"x_range\":{\"id\":\"1225\",\"type\":\"DataRange1d\"},\"x_scale\":{\"id\":\"1229\",\"type\":\"LinearScale\"},\"y_range\":{\"id\":\"1227\",\"type\":\"DataRange1d\"},\"y_scale\":{\"id\":\"1231\",\"type\":\"LinearScale\"}},\"id\":\"1224\",\"subtype\":\"Figure\",\"type\":\"Plot\"},{\"attributes\":{},\"id\":\"1330\",\"type\":\"Selection\"},{\"attributes\":{\"dimension\":1,\"ticker\":{\"id\":\"1239\",\"type\":\"BasicTicker\"}},\"id\":\"1242\",\"type\":\"Grid\"},{\"attributes\":{\"line_alpha\":0.1,\"line_color\":\"#1f77b4\",\"x\":{\"field\":\"x\"},\"y\":{\"field\":\"y\"}},\"id\":\"1289\",\"type\":\"Line\"},{\"attributes\":{},\"id\":\"1337\",\"type\":\"UnionRenderers\"},{\"attributes\":{\"source\":{\"id\":\"1274\",\"type\":\"ColumnDataSource\"}},\"id\":\"1279\",\"type\":\"CDSView\"},{\"attributes\":{\"formatter\":{\"id\":\"1322\",\"type\":\"BasicTickFormatter\"},\"ticker\":{\"id\":\"1239\",\"type\":\"BasicTicker\"}},\"id\":\"1238\",\"type\":\"LinearAxis\"},{\"attributes\":{},\"id\":\"1335\",\"type\":\"UnionRenderers\"},{\"attributes\":{\"line_alpha\":0.1,\"line_color\":\"#1f77b4\",\"x\":{\"field\":\"x\"},\"y\":{\"field\":\"y\"}},\"id\":\"1277\",\"type\":\"Line\"},{\"attributes\":{},\"id\":\"1243\",\"type\":\"PanTool\"},{\"attributes\":{\"callback\":null,\"data\":{\"x\":{\"__ndarray__\":\"AAAAAAAAAAA=\",\"dtype\":\"float64\",\"shape\":[1]},\"y\":{\"__ndarray__\":\"AAAAAAAAAAA=\",\"dtype\":\"float64\",\"shape\":[1]}},\"selected\":{\"id\":\"1326\",\"type\":\"Selection\"},\"selection_policy\":{\"id\":\"1325\",\"type\":\"UnionRenderers\"}},\"id\":\"1256\",\"type\":\"ColumnDataSource\"},{\"attributes\":{\"callback\":null,\"data\":{\"x\":{\"__ndarray__\":\"AAAAAAAAREA9z7kYsfVDQIFcJAPP1kNAt/EClXmjQ0B2D8645VtDQDduJzddAENA2i7Laj6RQkBvoUzf+w5CQNvkAtsbekFAdBaf1DfTQEB2v/rU+xpAQEckg4tLpD5AIYhaWwnzPEC8pDq27yM7QBBYzfvbODlAxBWRYsgzN0BzNwjuyRY1QFbRR0kO5DJAsmsciNmdMEBsaCqiB40sQDIUvOXtwCdAmDjMzlfcIkBvUI4docgbQJWTU8PuuxFAkCjcMtJz/j+AOfOC9U7kv0/7Ig4oXAnAFhYTPTfFFsDxaqvIcGIgwLggczpiUSXAjGlhFVoqKsAFrvEhWeguwPd9H/s9wzHAAgAAAAAANMCDIFQ2JCg2wALiT3VxOTjAqC5VH8YxOsCSjmJUGg88wPQm+QmCzz3AMJhRBi9xP8C6cWpeOXlAwPYX9wTgKEHAufc1ZtbGQcDoMWWteVJCwDFcc+k5y0LANlJgoZowQ8BqV4xUM4JDwCJGceavv0PAu8BW9dDoQ8BkBKgbbP1DwGQEqBts/UPAu8BW9dDoQ8AiRnHmr79DwGpXjFQzgkPANlJgoZowQ8AyXHPpOctCwOgxZa15UkLAufc1ZtbGQcD2F/cE4ChBwLtxal45eUDALphRBi9xP8D2JvkJgs89wJCOYlQaDzzAqi5VH8YxOsD/4U91cTk4wIUgVDYkKDbA/P//////M8D1fR/7PcMxwAWu8SFZ6C7AkWlhFVoqKsCvIHM6YlElwO1qq8hwYiDAFhYTPTfFFsBm+yIOKFwJwOk484L1TuS/tCjcMtJz/j+Lk1PD7rsRQFtQjh2hyBtAnDjMzlfcIkAyFLzl7cAnQGhoKqIHjSxAtmsciNmdMEBY0UdJDuQyQHM3CO7JFjVAwRWRYsgzN0AUWM372zg5QL2kOrbvIztAIYhaWwnzPEBFJIOLS6Q+QHa/+tT7GkBAdBaf1DfTQEDb5ALbG3pBQG6hTN/7DkJA2i7Laj6RQkA3bic3XQBDQHYPzrjlW0NAuPEClXmjQ0CBXCQDz9ZDQD3PuRix9UNAAAAAAAAAREA=\",\"dtype\":\"float64\",\"shape\":[100]},\"y\":{\"__ndarray__\":\"AAAAAAAAAACE5+L/r0sEQOwkAxY6QRRAtdfIILtHHkDA6k/CghckQNCnaulx9ihA+vjQp6W7LUBRaAiTGTExQDDwZpKncjNADi7qdimgNUCYJsGPYLc3QKMbyyYltjlAAN5OuWiaO0Do37cWOGI9QKqQKWO9Cz9A/kjr/aBKQEAKQZQdmP5AQJ8hc40KoUFAjNtU2VAxQkAZV41I1q5CQH6WRXcZGUNAS3vc26xvQ0COsdA3N7JDQOBbv/Nz4ENA0qsYZjP6Q0A1hEEEW/9DQACA733l70NA1SmjwuLLQ0DXvjrxd5NDQIJrrjHfRkNAW3QdeWfmQkA8Fmo4dHJCQJMEuPV860FA6i830QxSQUAb1rn1waZAQDxjU+uZ1D9AybIIKuA6PkCi4TQC/YE8QMgpwO22qzpALdddsfK5OECwl9Zosa42QDoYHHYOjDRAlylHVT1UMkAokb1XhwkwQPaOrJGSXCtALzHU/OGJJkAvmqav9Z8hQCB2xLe8RxlA0yiZtv1qDkCXEtz7TU70P7sS3PtNTvS/5CiZtv1qDsAodsS3vEcZwCqapq/1nyHAMjHU/OGJJsDxjqyRklwrwCqRvVeHCTDAlSlHVT1UMsA8GBx2Dow0wK2X1mixrjbAMNddsfK5OMDFKcDttqs6wKXhNAL9gTzAyLIIKuA6PsA9Y1PrmdQ/wBrWufXBpkDA7C830QxSQcCTBLj1fOtBwDwWajh0ckLAWnQdeWfmQsCCa64x30ZDwNe+OvF3k0PA1SmjwuLLQ8D/f+995e9DwDWEQQRb/0PA0qsYZjP6Q8DgW7/zc+BDwI+x0Dc3skPAS3vc26xvQ8B+lkV3GRlDwBlXjUjWrkLAi9tU2VAxQsCfIXONCqFBwApBlB2Y/kDA/kjr/aBKQMCokCljvQs/wObftxY4Yj3AAN5OuWiaO8CnG8smJbY5wJUmwY9gtzfADC7qdimgNcAx8GaSp3IzwFRoCJMZMTHA8vjQp6W7LcDPp2rpcfYowMTqT8KCFyTAoNfIILtHHsDiJAMWOkEUwIXn4v+vSwTACXPZv68PBr0=\",\"dtype\":\"float64\",\"shape\":[100]}},\"selected\":{\"id\":\"1334\",\"type\":\"Selection\"},\"selection_policy\":{\"id\":\"1333\",\"type\":\"UnionRenderers\"}},\"id\":\"1280\",\"type\":\"ColumnDataSource\"},{\"attributes\":{},\"id\":\"1334\",\"type\":\"Selection\"},{\"attributes\":{\"line_color\":\"#1f77b4\",\"x\":{\"field\":\"x\"},\"y\":{\"field\":\"y\"}},\"id\":\"1270\",\"type\":\"Line\"},{\"attributes\":{},\"id\":\"1322\",\"type\":\"BasicTickFormatter\"},{\"attributes\":{\"fill_alpha\":{\"value\":0.1},\"fill_color\":{\"value\":\"#1f77b4\"},\"line_alpha\":{\"value\":0.1},\"line_color\":{\"value\":\"#1f77b4\"},\"size\":{\"units\":\"screen\",\"value\":0.5},\"x\":{\"field\":\"x\"},\"y\":{\"field\":\"y\"}},\"id\":\"1265\",\"type\":\"Circle\"},{\"attributes\":{\"source\":{\"id\":\"1286\",\"type\":\"ColumnDataSource\"}},\"id\":\"1291\",\"type\":\"CDSView\"},{\"attributes\":{},\"id\":\"1248\",\"type\":\"HelpTool\"},{\"attributes\":{},\"id\":\"1328\",\"type\":\"Selection\"},{\"attributes\":{},\"id\":\"1324\",\"type\":\"BasicTickFormatter\"},{\"attributes\":{\"line_color\":\"#1f77b4\",\"x\":{\"field\":\"x\"},\"y\":{\"field\":\"y\"}},\"id\":\"1276\",\"type\":\"Line\"},{\"attributes\":{},\"id\":\"1338\",\"type\":\"Selection\"},{\"attributes\":{\"data_source\":{\"id\":\"1274\",\"type\":\"ColumnDataSource\"},\"glyph\":{\"id\":\"1276\",\"type\":\"Line\"},\"hover_glyph\":null,\"muted_glyph\":null,\"nonselection_glyph\":{\"id\":\"1277\",\"type\":\"Line\"},\"selection_glyph\":null,\"view\":{\"id\":\"1279\",\"type\":\"CDSView\"}},\"id\":\"1278\",\"type\":\"GlyphRenderer\"},{\"attributes\":{\"callback\":null,\"data\":{\"x\":{\"__ndarray__\":\"AAAAAACAUUBVlaL1+nZRQPHQvyL1W1FAgJNiYgovUUCHTbQBafBQQHCAQpBRoFBA/shxnRY/UECCGsbGOJpPQIAQRb+wlU5AS2cWtKFxTUAOz7a0OC9MQL6/EhrCz0pAHTfvL6hUSUAkUHO/cb9HQA6tU3zAEUZAC/M+Vk9NRECFMEew8HNCQCvXHoCMh0BAd7wxrjwUPUBfG+WtZvs4QKyRBCnQyDRAhbHy1MyAMEBhhtz5jE8oQEVC0tXhCB9AfqOA7FelCkBQ0pTSFsXxv+WbXgyjMBbAU7NwVZDsI8Am+ytfRawswKG8JPM1pzLAWzy10g7lNsBEeLP9TQs7wHAcd3esFT/AAgAAAACAQcBynImvH2NDwMHlpUZDMkXA04hqW43rRsDAPNYJN41IwBYCusiRFUrAKmWHJQmDS8AGRzplJNRMwO9psAiIB07Ag3HeMvcbT8Cri7h3KghQwKvwRKzScVDA8Ec0TYfKUMB9zPrp7BFRwF4do+m5R1HAo+ir1rZrUcDYAzOYvn1RwNgDM5i+fVHAo+ir1rZrUcBeHaPpuUdRwH3M+unsEVHA8Ec0TYfKUMCr8ESs0nFQwKuLuHcqCFDAhHHeMvcbT8DuabAIiAdOwAdHOmUk1EzAKGWHJQmDS8AXArrIkRVKwL481gk3jUjA1YhqW43rRsC/5aVGQzJFwHWcia8fY0PA/P////9/QcBtHHd3rBU/wER4s/1NCzvAXzy10g7lNsCZvCTzNacywB/7K19FrCzAU7NwVZDsI8D5m14MozAWwMzRlNIWxfG/nqOA7FelCkAzQtLV4QgfQFCG3PmMTyhAiLHy1MyAMECskQQp0Mg0QFsb5a1m+zhAf7wxrjwUPUAt1x6AjIdAQIUwR7Dwc0JACfM+Vk9NREARrVN8wBFGQCVQc79xv0dAHTfvL6hUSUC8vxIaws9KQA/PtrQ4L0xAS2cWtKFxTUCAEEW/sJVOQIEaxsY4mk9A/8hxnRY/UEBwgEKQUaBQQIdNtAFp8FBAgZNiYgovUUDx0L8i9VtRQFWVovX6dlFAAAAAAACAUUA=\",\"dtype\":\"float64\",\"shape\":[100]},\"y\":{\"__ndarray__\":\"AAAAAAAAAACTiub/OcIRQE7AQtMSuSFAv7yvvMN+KkBo7QVqkpQxQNZSPayj1zVA29nW8jAEOkCOtk7B7BU+QCoSGqBSBEFATOgMSCTsQkDFAcl9dMBEQC+48YFgf0ZAQAIlohsnSEDr4+AT8bVJQJVexLZFKktAvL9bvJmCTEDSccMzir1NQNd6iXfS2U5ANYBUfE3WT0A2rHt/+1hQQK7jXEj2tVBA4utgQLcBUUBdm9ZQ8DtRQGRwR3VlZFFAWJZV+ex6UUCvU7mjb39RQACQMc7ocVFAm8ROamZSUUD8ZhPzCCFRQBKeeEsD3lBA0MX5iZqJUEB001yxJSRQQAEIAq4aXE9A2ZMgbpZPTkCvNgVu0yNNQNT26K0G2ktAcJzHJIRzSkBuRe5hvfFIQI8kCBBAVkdASBwyW7SiRUC6xLs729hDQDOVWKeM+kFAZESeqrUJQEAGvovZrBA8QBf9dj8A8TdACas5vaW4M0DSjWPz7dcuQFznyyDFHiZAuQPG/52dGkBEkGA8hMQBQGSQYDyExAHAyAPG/52dGsBj58sgxR4mwMmNY/Pt1y7ADKs5vaW4M8AT/XY/APE3wAq+i9msEDzAYkSeqrUJQMA0lVinjPpBwLfEuzvb2EPAShwyW7SiRcCNJAgQQFZHwHBF7mG98UjAb5zHJIRzSsDV9uitBtpLwK42BW7TI03A3JMgbpZPTsACCAKuGlxPwHTTXLElJFDAz8X5iZqJUMASnnhLA95QwPxmE/MIIVHAm8ROamZSUcD/jzHO6HFRwK9TuaNvf1HAWJZV+ex6UcBkcEd1ZWRRwF2b1lDwO1HA4utgQLcBUcCu41xI9rVQwDase3/7WFDANIBUfE3WT8DWeol30tlOwNJxwzOKvU3Avb9bvJmCTMCTXsS2RSpLwOnj4BPxtUnAQAIlohsnSMAyuPGBYH9GwMIByX10wETAS+gMSCTsQsArEhqgUgRBwJS2TsHsFT7A1NnW8jAEOsDVUj2so9c1wGztBWqSlDHArLyvvMN+KsBGwELTErkhwJSK5v85whHAqETex7lNE70=\",\"dtype\":\"float64\",\"shape\":[100]}},\"selected\":{\"id\":\"1338\",\"type\":\"Selection\"},\"selection_policy\":{\"id\":\"1337\",\"type\":\"UnionRenderers\"}},\"id\":\"1292\",\"type\":\"ColumnDataSource\"},{\"attributes\":{\"callback\":null,\"data\":{\"x\":{\"__ndarray__\":\"AAAAAAAAJEA9z7kYsfUjQIFcJAPP1iNAt/EClXmjI0B2D8645VsjQDduJzddACNA2i7Laj6RIkBvoUzf+w4iQNvkAtsbeiFAdBaf1DfTIEB2v/rU+xogQEckg4tLpB5AIYhaWwnzHEC8pDq27yMbQBBYzfvbOBlAxBWRYsgzF0BzNwjuyRYVQFbRR0kO5BJAsmsciNmdEEBsaCqiB40MQDIUvOXtwAdAmDjMzlfcAkBvUI4docj7P5WTU8Puu/E/kCjcMtJz3j+AOfOC9U7Ev0/7Ig4oXOm/FhYTPTfF9r/xaqvIcGIAwLggczpiUQXAjGlhFVoqCsAFrvEhWegOwPd9H/s9wxHAAgAAAAAAFMCDIFQ2JCgWwALiT3VxORjAqC5VH8YxGsCSjmJUGg8cwPQm+QmCzx3AMJhRBi9xH8C6cWpeOXkgwPYX9wTgKCHAufc1ZtbGIcDoMWWteVIiwDFcc+k5yyLANlJgoZowI8BqV4xUM4IjwCJGceavvyPAu8BW9dDoI8BkBKgbbP0jwGQEqBts/SPAu8BW9dDoI8AiRnHmr78jwGpXjFQzgiPANlJgoZowI8AyXHPpOcsiwOgxZa15UiLAufc1ZtbGIcD2F/cE4CghwLtxal45eSDALphRBi9xH8D2JvkJgs8dwJCOYlQaDxzAqi5VH8YxGsD/4U91cTkYwIUgVDYkKBbA/P//////E8D1fR/7PcMRwAWu8SFZ6A7AkWlhFVoqCsCvIHM6YlEFwO1qq8hwYgDAFhYTPTfF9r9m+yIOKFzpv+k484L1TsS/tCjcMtJz3j+Lk1PD7rvxP1tQjh2hyPs/nDjMzlfcAkAyFLzl7cAHQGhoKqIHjQxAtmsciNmdEEBY0UdJDuQSQHM3CO7JFhVAwRWRYsgzF0AUWM372zgZQL2kOrbvIxtAIYhaWwnzHEBFJIOLS6QeQHa/+tT7GiBAdBaf1DfTIEDb5ALbG3ohQG6hTN/7DiJA2i7Laj6RIkA3bic3XQAjQHYPzrjlWyNAuPEClXmjI0CBXCQDz9YjQD3PuRix9SNAAAAAAAAAJEA=\",\"dtype\":\"float64\",\"shape\":[100]},\"y\":{\"__ndarray__\":\"AAAAAAAAAACE5+L/r0vkP+wkAxY6QfQ/tdfIILtH/j/A6k/CghcEQNCnaulx9ghA+vjQp6W7DUBRaAiTGTERQDDwZpKnchNADi7qdimgFUCYJsGPYLcXQKMbyyYlthlAAN5OuWiaG0Do37cWOGIdQKqQKWO9Cx9A/kjr/aBKIEAKQZQdmP4gQJ8hc40KoSFAjNtU2VAxIkAZV41I1q4iQH6WRXcZGSNAS3vc26xvI0COsdA3N7IjQOBbv/Nz4CNA0qsYZjP6I0A1hEEEW/8jQACA733l7yNA1SmjwuLLI0DXvjrxd5MjQIJrrjHfRiNAW3QdeWfmIkA8Fmo4dHIiQJMEuPV86yFA6i830QxSIUAb1rn1waYgQDxjU+uZ1B9AybIIKuA6HkCi4TQC/YEcQMgpwO22qxpALdddsfK5GECwl9Zosa4WQDoYHHYOjBRAlylHVT1UEkAokb1XhwkQQPaOrJGSXAtALzHU/OGJBkAvmqav9Z8BQCB2xLe8R/k/0yiZtv1q7j+XEtz7TU7UP7sS3PtNTtS/5CiZtv1q7r8odsS3vEf5vyqapq/1nwHAMjHU/OGJBsDxjqyRklwLwCqRvVeHCRDAlSlHVT1UEsA8GBx2DowUwK2X1mixrhbAMNddsfK5GMDFKcDttqsawKXhNAL9gRzAyLIIKuA6HsA9Y1PrmdQfwBrWufXBpiDA7C830QxSIcCTBLj1fOshwDwWajh0ciLAWnQdeWfmIsCCa64x30YjwNe+OvF3kyPA1SmjwuLLI8D/f+995e8jwDWEQQRb/yPA0qsYZjP6I8DgW7/zc+AjwI+x0Dc3siPAS3vc26xvI8B+lkV3GRkjwBlXjUjWriLAi9tU2VAxIsCfIXONCqEhwApBlB2Y/iDA/kjr/aBKIMCokCljvQsfwObftxY4Yh3AAN5OuWiaG8CnG8smJbYZwJUmwY9gtxfADC7qdimgFcAx8GaSp3ITwFRoCJMZMRHA8vjQp6W7DcDPp2rpcfYIwMTqT8KCFwTAoNfIILtH/r/iJAMWOkH0v4Xn4v+vS+S/CXPZv68P5rw=\",\"dtype\":\"float64\",\"shape\":[100]}},\"selected\":{\"id\":\"1330\",\"type\":\"Selection\"},\"selection_policy\":{\"id\":\"1329\",\"type\":\"UnionRenderers\"}},\"id\":\"1268\",\"type\":\"ColumnDataSource\"},{\"attributes\":{\"overlay\":{\"id\":\"1339\",\"type\":\"BoxAnnotation\"}},\"id\":\"1245\",\"type\":\"BoxZoomTool\"},{\"attributes\":{\"data_source\":{\"id\":\"1257\",\"type\":\"ColumnDataSource\"},\"glyph\":{\"id\":\"1264\",\"type\":\"Circle\"},\"hover_glyph\":null,\"muted_glyph\":null,\"nonselection_glyph\":{\"id\":\"1265\",\"type\":\"Circle\"},\"selection_glyph\":null,\"view\":{\"id\":\"1267\",\"type\":\"CDSView\"}},\"id\":\"1266\",\"type\":\"GlyphRenderer\"},{\"attributes\":{\"data_source\":{\"id\":\"1256\",\"type\":\"ColumnDataSource\"},\"glyph\":{\"id\":\"1259\",\"type\":\"Circle\"},\"hover_glyph\":null,\"muted_glyph\":null,\"nonselection_glyph\":{\"id\":\"1260\",\"type\":\"Circle\"},\"selection_glyph\":null,\"view\":{\"id\":\"1262\",\"type\":\"CDSView\"}},\"id\":\"1261\",\"type\":\"GlyphRenderer\"},{\"attributes\":{\"data_source\":{\"id\":\"1268\",\"type\":\"ColumnDataSource\"},\"glyph\":{\"id\":\"1270\",\"type\":\"Line\"},\"hover_glyph\":null,\"muted_glyph\":null,\"nonselection_glyph\":{\"id\":\"1271\",\"type\":\"Line\"},\"selection_glyph\":null,\"view\":{\"id\":\"1273\",\"type\":\"CDSView\"}},\"id\":\"1272\",\"type\":\"GlyphRenderer\"},{\"attributes\":{\"data_source\":{\"id\":\"1286\",\"type\":\"ColumnDataSource\"},\"glyph\":{\"id\":\"1288\",\"type\":\"Line\"},\"hover_glyph\":null,\"muted_glyph\":null,\"nonselection_glyph\":{\"id\":\"1289\",\"type\":\"Line\"},\"selection_glyph\":null,\"view\":{\"id\":\"1291\",\"type\":\"CDSView\"}},\"id\":\"1290\",\"type\":\"GlyphRenderer\"},{\"attributes\":{\"fill_alpha\":{\"value\":0.2},\"fill_color\":{\"value\":\"blue\"},\"line_color\":{\"value\":\"blue\"},\"size\":{\"units\":\"screen\",\"value\":5},\"x\":{\"field\":\"x\"},\"y\":{\"field\":\"y\"}},\"id\":\"1259\",\"type\":\"Circle\"},{\"attributes\":{\"text\":\"\"},\"id\":\"1319\",\"type\":\"Title\"},{\"attributes\":{},\"id\":\"1239\",\"type\":\"BasicTicker\"},{\"attributes\":{\"line_alpha\":0.1,\"line_color\":\"#1f77b4\",\"x\":{\"field\":\"x\"},\"y\":{\"field\":\"y\"}},\"id\":\"1283\",\"type\":\"Line\"},{\"attributes\":{\"line_color\":\"#1f77b4\",\"x\":{\"field\":\"x\"},\"y\":{\"field\":\"y\"}},\"id\":\"1294\",\"type\":\"Line\"},{\"attributes\":{},\"id\":\"1327\",\"type\":\"UnionRenderers\"},{\"attributes\":{\"callback\":null},\"id\":\"1227\",\"type\":\"DataRange1d\"},{\"attributes\":{},\"id\":\"1329\",\"type\":\"UnionRenderers\"},{\"attributes\":{\"line_alpha\":0.1,\"line_color\":\"#1f77b4\",\"x\":{\"field\":\"x\"},\"y\":{\"field\":\"y\"}},\"id\":\"1271\",\"type\":\"Line\"},{\"attributes\":{\"callback\":null,\"data\":{\"x\":[],\"y\":[]},\"selected\":{\"id\":\"1328\",\"type\":\"Selection\"},\"selection_policy\":{\"id\":\"1327\",\"type\":\"UnionRenderers\"}},\"id\":\"1257\",\"type\":\"ColumnDataSource\"},{\"attributes\":{\"source\":{\"id\":\"1280\",\"type\":\"ColumnDataSource\"}},\"id\":\"1285\",\"type\":\"CDSView\"},{\"attributes\":{},\"id\":\"1326\",\"type\":\"Selection\"},{\"attributes\":{\"data_source\":{\"id\":\"1280\",\"type\":\"ColumnDataSource\"},\"glyph\":{\"id\":\"1282\",\"type\":\"Line\"},\"hover_glyph\":null,\"muted_glyph\":null,\"nonselection_glyph\":{\"id\":\"1283\",\"type\":\"Line\"},\"selection_glyph\":null,\"view\":{\"id\":\"1285\",\"type\":\"CDSView\"}},\"id\":\"1284\",\"type\":\"GlyphRenderer\"},{\"attributes\":{\"callback\":null,\"data\":{\"x\":{\"__ndarray__\":\"AAAAAAAAOUAMQ+heHfM4QKFz7cOCzDhAJa5D+leMOEBTkwEn3zI4QMRJ8YR0wDdAkPp9BY41N0DKyR/XupI2QBKew9Gi2DVAEdzGyQUINUBTbznKuiE0QK32MTevJjNAFZUY2eUXMkD1puTRdfYwQBSuwPoShy9ANVs1e7oALUBQRYppfFwqQKvFmdsRnSdAnoYj6k/FJEBEgVrFJNghQD4ZK18psR1AvUZ/wm2TF0BF8niyZF0RQHt4KHTqKgZAWpnJX2MI8z/gB7DjsmLZvyO6qxEys/+/m9tXDIV2DMCuRdb6DHsUwOboD8m6pRrA+OFcTXhaIMDDDDe1N1EjwHVd53kNNCbAAwAAAAAAKcCjKOlDLbIrwILao9LNRy7AKT2V0xtfMMAbmb10cIkxwFm4O0axoTLAHv/yY72mM8ApDgW2h5c0wPTdNAYYczXAp3XD/4s4NsBifr4YGOc2wD0z0GMIfjfAxGa4ScH8N8BEba8pwGI4wKuXDeCbrzjA6XCsMgXjOMB9BZIix/w4wH0FkiLH/DjA6XCsMgXjOMCrlw3gm684wERtrynAYjjAxGa4ScH8N8A+M9BjCH43wGJ+vhgY5zbAqHXD/4s4NsDz3TQGGHM1wCkOBbaHlzTAHf/yY72mM8BZuDtGsaEywBqZvXRwiTHAKj2V0xtfMMB/2qPSzUcuwKco6UMtsivA+///////KMByXed5DTQmwMMMN7U3USPA++FcTXhaIMDb6A/JuqUawKhF1voMexTAm9tXDIV2DMA/uqsRMrP/vyMHsOOyYtm/cJnJX2MI8z9teCh06ioGQDnyeLJkXRFAw0Z/wm2TF0A+GStfKbEdQEGBWsUk2CFApIYj6k/FJECuxZnbEZ0nQFBFiml8XCpAMls1e7oALUAZrsD6EocvQPam5NF19jBAFZUY2eUXMkCr9jE3ryYzQFRvOcq6ITRAEdzGyQUINUASnsPRotg1QMrJH9e6kjZAkfp9BY41N0DESfGEdMA3QFOTASffMjhAJq5D+leMOEChc+3Dgsw4QAxD6F4d8zhAAAAAAAAAOUA=\",\"dtype\":\"float64\",\"shape\":[100]},\"y\":{\"__ndarray__\":\"AAAAAAAAAABlodv/m175Pyfug5uIUQlA0YZ99NTsEkBx5eNyYx0ZQMVRxWMONB9AnJviiEeVIkBmgsr3X30lQDysAHdRTyhAkbmk1DMIK0A9cLGzOKUtQEbxPjjXETBAwErRc4FAMUDx6zIOY10yQGr6+V1WZzNAPRtmPUldNEBNUfkkPj41QAfqzzBNCTZAbxKqD6W9NkDfrLDai1o3QB78FtVf3zdAHprTEphLOEDy3cQFxZ44QNkyr/CQ2DhAxtaeP8D4OEBD5VHFMf84QABga93e6zhAS/RLc9u+OECNbontVXg4QGIGGv6WGDhActFkVwGgN0DLm4RGEQ83QLcFJjNcZjZA5PuEBZCmNUChSyhzctA0QAUeFDPg5DNAvm9FGszkMkAFDWEhPtExQB0amFRSqzBA+Uy1XW/oLkCbPQzDXVosQEkeoxMSrylA/fOYqkzpJkBy9awt6QskQFrZC5vbGSFAej0JfFosHEC7QJAb8wcWQKeTteWrmQ9AhLkfkt4CA0A9F9N64WHpP2oX03rhYem/j7kfkt4CA8Cyk7Xlq5kPwLRAkBvzBxbAfz0JfFosHMBX2Qub2xkhwHX1rC3pCyTA+vOYqkzpJsBLHqMTEq8pwJg9DMNdWizA/Ey1XW/oLsAbGphUUqswwAcNYSE+0THAvW9FGszkMsAGHhQz4OQzwKBLKHNy0DTA5vuEBZCmNcC4BSYzXGY2wMubhEYRDzfAcdFkVwGgN8BjBhr+lhg4wI1uie1VeDjAS/RLc9u+OMD/X2vd3us4wEPlUcUx/zjAxtaeP8D4OMDZMq/wkNg4wPPdxAXFnjjAHprTEphLOMAe/BbVX983wOCssNqLWjfAbhKqD6W9NsAG6s8wTQk2wE1R+SQ+PjXAPhtmPUldNMBp+vldVmczwPDrMg5jXTLAwErRc4FAMcBI8T441xEwwDpwsbM4pS3AkLmk1DMIK8A9rAB3UU8owGmCyvdffSXAl5viiEeVIsDDUcVjDjQfwHXl43JjHRnAxIZ99NTsEsAa7oObiFEJwGah2/+bXvm/y8/Pr5uT+7w=\",\"dtype\":\"float64\",\"shape\":[100]}},\"selected\":{\"id\":\"1332\",\"type\":\"Selection\"},\"selection_policy\":{\"id\":\"1331\",\"type\":\"UnionRenderers\"}},\"id\":\"1274\",\"type\":\"ColumnDataSource\"},{\"attributes\":{\"source\":{\"id\":\"1256\",\"type\":\"ColumnDataSource\"}},\"id\":\"1262\",\"type\":\"CDSView\"},{\"attributes\":{\"line_color\":\"#1f77b4\",\"x\":{\"field\":\"x\"},\"y\":{\"field\":\"y\"}},\"id\":\"1288\",\"type\":\"Line\"},{\"attributes\":{},\"id\":\"1332\",\"type\":\"Selection\"},{\"attributes\":{},\"id\":\"1234\",\"type\":\"BasicTicker\"},{\"attributes\":{\"source\":{\"id\":\"1268\",\"type\":\"ColumnDataSource\"}},\"id\":\"1273\",\"type\":\"CDSView\"},{\"attributes\":{\"callback\":null},\"id\":\"1225\",\"type\":\"DataRange1d\"},{\"attributes\":{},\"id\":\"1325\",\"type\":\"UnionRenderers\"},{\"attributes\":{},\"id\":\"1331\",\"type\":\"UnionRenderers\"},{\"attributes\":{},\"id\":\"1333\",\"type\":\"UnionRenderers\"},{\"attributes\":{\"source\":{\"id\":\"1292\",\"type\":\"ColumnDataSource\"}},\"id\":\"1297\",\"type\":\"CDSView\"},{\"attributes\":{\"fill_alpha\":{\"value\":0.1},\"fill_color\":{\"value\":\"#1f77b4\"},\"line_alpha\":{\"value\":0.1},\"line_color\":{\"value\":\"#1f77b4\"},\"size\":{\"units\":\"screen\",\"value\":5},\"x\":{\"field\":\"x\"},\"y\":{\"field\":\"y\"}},\"id\":\"1260\",\"type\":\"Circle\"},{\"attributes\":{\"source\":{\"id\":\"1257\",\"type\":\"ColumnDataSource\"}},\"id\":\"1267\",\"type\":\"CDSView\"},{\"attributes\":{\"line_alpha\":0.1,\"line_color\":\"#1f77b4\",\"x\":{\"field\":\"x\"},\"y\":{\"field\":\"y\"}},\"id\":\"1295\",\"type\":\"Line\"},{\"attributes\":{},\"id\":\"1336\",\"type\":\"Selection\"},{\"attributes\":{\"active_drag\":\"auto\",\"active_inspect\":\"auto\",\"active_multi\":null,\"active_scroll\":\"auto\",\"active_tap\":\"auto\",\"tools\":[{\"id\":\"1243\",\"type\":\"PanTool\"},{\"id\":\"1244\",\"type\":\"WheelZoomTool\"},{\"id\":\"1245\",\"type\":\"BoxZoomTool\"},{\"id\":\"1246\",\"type\":\"SaveTool\"},{\"id\":\"1247\",\"type\":\"ResetTool\"},{\"id\":\"1248\",\"type\":\"HelpTool\"}]},\"id\":\"1249\",\"type\":\"Toolbar\"},{\"attributes\":{\"bottom_units\":\"screen\",\"fill_alpha\":{\"value\":0.5},\"fill_color\":{\"value\":\"lightgrey\"},\"left_units\":\"screen\",\"level\":\"overlay\",\"line_alpha\":{\"value\":1.0},\"line_color\":{\"value\":\"black\"},\"line_dash\":[4,4],\"line_width\":{\"value\":2},\"render_mode\":\"css\",\"right_units\":\"screen\",\"top_units\":\"screen\"},\"id\":\"1339\",\"type\":\"BoxAnnotation\"},{\"attributes\":{\"line_color\":\"#1f77b4\",\"x\":{\"field\":\"x\"},\"y\":{\"field\":\"y\"}},\"id\":\"1282\",\"type\":\"Line\"},{\"attributes\":{\"callback\":null,\"data\":{\"x\":{\"__ndarray__\":\"AAAAAACAS0D0fP+B03FLQDH/UaRcR0tAXAzkLMcAS0BCVRveW55KQIs31iuAIEpAa2DX0rWHSUD4XQlTmtRIQK76I03mB0hA4L5axGwiR0BCx9hEGiVGQPEo6u/zEEVAlz3ObhbnQ0BBUUjNtKhCQIssHT0XV0FA7X2HhzPnP0A+TEunVf88QNa/wqST+TlAFBQnGwvZNkDLJ30/9aAzQOJN8Y2jVDBA0M1YvPjuKUBM11HE7hkjQO3qkkxoYhhA41v3gqDvBEAQbw6Ukezrv8YMuIlbbxHAXj768ytPH8AMs+sTW4cmwP1MXhDnTy3AkPiy7h39McCjJ1ZHvT81wDNNSzl1bDjAAwAAAACAO8C0rLPKMXc+wGHrpgB+p0DAE5CKNTgCQsAEwgMaYkpDwMhK22apfkTAoRhYVNCdRcBgXNLhrqZGwPPA0wY0mEfAnjSKzGZxSMCeJGtOZzFJwMOe/qBv10nAC3HkndRiSsAy+ECUBtNKwG/A29yRJ0vAAUlXUR9gS8AKBgemdHxLwAoGB6Z0fEvAAUlXUR9gS8BvwNvckSdLwDL4QJQG00rAC3HkndRiSsDEnv6gb9dJwJ4ka05nMUnAnzSKzGZxSMDywNMGNJhHwGFc0uGupkbAoBhYVNCdRcDJSttmqX5EwAPCAxpiSkPAFZCKNTgCQsBf66YAfqdAwLess8oxdz7A+v////9/O8AxTUs5dWw4wKMnVke9PzXAlPiy7h39McDxTF4Q508twAaz6xNbhybAXj768ytPH8DWDLiJW28RwEBuDpSR7Ou//Fv3gqDvBEDf6pJMaGIYQD/XUcTuGSNA1s1YvPjuKUDiTfGNo1QwQMcnfT/1oDNAGhQnGwvZNkDYv8Kkk/k5QD5MS6dV/zxA6n2HhzPnP0COLB09F1dBQEJRSM20qEJAlz3ObhbnQ0DvKOrv8xBFQEPH2EQaJUZA4L5axGwiR0Cu+iNN5gdIQPddCVOa1EhAbGDX0rWHSUCLN9YrgCBKQEJVG95bnkpAXQzkLMcAS0Ax/1GkXEdLQPR8/4HTcUtAAAAAAACAS0A=\",\"dtype\":\"float64\",\"shape\":[100]},\"y\":{\"__ndarray__\":\"AAAAAAAAAABV/tf/EegLQMRSRN6v2RtATRSKplDRJEDJ4i3LU6ArQF9TeVBuKTFALKtf4wFxNEBwjysqg6M3QEGKTWmmvTpAU/+BAzm8PUCIytRiEk5AQACjq4o5rUFAoDhm/yf6QkDvaZ6PhjNEQHWTLDQSWEVAXYQjXZ1mRkBu2asoEV5HQDtOfoJuPUhA4K3UKs8DSUDCV8KjZrBJQO2u/wODQkpAiClPro25SkAk9L7sCxVLQFUeJ2+fVEtAQexhrAZ4S0DJFdolHX9LQABQKY3baUtAhVmgy1c4S0BoxrDrxOpKQNPTT+RygUpA/X+IRs78SUCS3pHNX11JQEoG3dHLo0hA4eGrn9HQR0Blht+xSuVGQDlUydEp4kVA6vrlHHrIREAgW4TxXZlDQLkcdMMNVkJA74Pw2db/QECRECfwMzA/QFChZuKTQDxAMNlBVdQzOUCXp6QYGg02QEmiJsSkzzJAoMOju5b9LkABFIXR8TsoQDYRV75RYSFAEUyJbY7pFECQmU46q+v7P8GZTjqr6/u/HUyJbY7pFMA8EVe+UWEhwPkThdHxOyjApcOju5b9LsBGoibEpM8ywJqnpBgaDTbALdlBVdQzOcBSoWbik0A8wI4QJ/AzMD/A8YPw2db/QMC4HHTDDVZCwCFbhPFdmUPA6vrlHHrIRMA6VMnRKeJFwGSG37FK5UbA5OGrn9HQR8BKBt3Ry6NIwJLekc1fXUnA/H+IRs78ScDT00/kcoFKwGjGsOvE6krAhVmgy1c4S8D/TymN22lLwMkV2iUdf0vAQexhrAZ4S8BVHidvn1RLwCX0vuwLFUvAiClPro25SsDtrv8Dg0JKwMNXwqNmsEnA363UKs8DScA6Tn6Cbj1IwG7ZqygRXkfAXoQjXZ1mRsBzkyw0ElhFwO5pno+GM0TAoDhm/yf6QsADo6uKOa1BwIbK1GISTkDAUf+BAzm8PcBDik1ppr06wHSPKyqDozfAJ6tf4wFxNMBeU3lQbikxwM7iLctToCvAPhSKplDRJMC3UkTer9kbwFf+1/8R6AvALP7Kp5FVDr0=\",\"dtype\":\"float64\",\"shape\":[100]}},\"selected\":{\"id\":\"1336\",\"type\":\"Selection\"},\"selection_policy\":{\"id\":\"1335\",\"type\":\"UnionRenderers\"}},\"id\":\"1286\",\"type\":\"ColumnDataSource\"},{\"attributes\":{\"fill_color\":{\"value\":\"red\"},\"line_color\":{\"value\":\"red\"},\"size\":{\"units\":\"screen\",\"value\":0.5},\"x\":{\"field\":\"x\"},\"y\":{\"field\":\"y\"}},\"id\":\"1264\",\"type\":\"Circle\"},{\"attributes\":{\"ticker\":{\"id\":\"1234\",\"type\":\"BasicTicker\"}},\"id\":\"1237\",\"type\":\"Grid\"},{\"attributes\":{\"data_source\":{\"id\":\"1292\",\"type\":\"ColumnDataSource\"},\"glyph\":{\"id\":\"1294\",\"type\":\"Line\"},\"hover_glyph\":null,\"muted_glyph\":null,\"nonselection_glyph\":{\"id\":\"1295\",\"type\":\"Line\"},\"selection_glyph\":null,\"view\":{\"id\":\"1297\",\"type\":\"CDSView\"}},\"id\":\"1296\",\"type\":\"GlyphRenderer\"},{\"attributes\":{},\"id\":\"1229\",\"type\":\"LinearScale\"},{\"attributes\":{},\"id\":\"1244\",\"type\":\"WheelZoomTool\"},{\"attributes\":{},\"id\":\"1246\",\"type\":\"SaveTool\"},{\"attributes\":{},\"id\":\"1231\",\"type\":\"LinearScale\"},{\"attributes\":{},\"id\":\"1247\",\"type\":\"ResetTool\"},{\"attributes\":{\"formatter\":{\"id\":\"1324\",\"type\":\"BasicTickFormatter\"},\"ticker\":{\"id\":\"1234\",\"type\":\"BasicTicker\"}},\"id\":\"1233\",\"type\":\"LinearAxis\"}],\"root_ids\":[\"1224\"]},\"title\":\"Bokeh Application\",\"version\":\"1.2.0\"}};\n",
       "  var render_items = [{\"docid\":\"855670e2-ee5b-43ee-8364-c01542d946a9\",\"notebook_comms_target\":\"1340\",\"roots\":{\"1224\":\"b236648b-9797-4ba8-a666-6f4dccc2c9f5\"}}];\n",
       "  root.Bokeh.embed.embed_items_notebook(docs_json, render_items);\n",
       "\n",
       "  }\n",
       "  if (root.Bokeh !== undefined) {\n",
       "    embed_document(root);\n",
       "  } else {\n",
       "    var attempts = 0;\n",
       "    var timer = setInterval(function(root) {\n",
       "      if (root.Bokeh !== undefined) {\n",
       "        embed_document(root);\n",
       "        clearInterval(timer);\n",
       "      }\n",
       "      attempts++;\n",
       "      if (attempts > 100) {\n",
       "        console.log(\"Bokeh: ERROR: Unable to run BokehJS code because BokehJS library is missing\");\n",
       "        clearInterval(timer);\n",
       "      }\n",
       "    }, 10, root)\n",
       "  }\n",
       "})(window);"
      ],
      "application/vnd.bokehjs_exec.v0+json": ""
     },
     "metadata": {
      "application/vnd.bokehjs_exec.v0+json": {
       "id": "1224"
      }
     },
     "output_type": "display_data"
    }
   ],
   "source": [
    "live_plot = LivePlot()"
   ]
  },
  {
   "cell_type": "code",
   "execution_count": 16,
   "metadata": {},
   "outputs": [],
   "source": [
    "# atptg.tel_currentTargetStatus.callback = live_plot.atptg_callback\n",
    "atmcs.evt_target.callback = live_plot.atmcs_target_callback\n",
    "atmcs.tel_mountEncoders.callback = live_plot.atmcs_position_callback"
   ]
  },
  {
   "cell_type": "code",
   "execution_count": 17,
   "metadata": {},
   "outputs": [],
   "source": [
    "asyncio.get_event_loop().run_until_complete(asyncio.sleep(10))"
   ]
  },
  {
   "cell_type": "code",
   "execution_count": null,
   "metadata": {},
   "outputs": [],
   "source": [
    "asyncio.get_event_loop().run_forever()"
   ]
  },
  {
   "cell_type": "code",
   "execution_count": null,
   "metadata": {},
   "outputs": [],
   "source": [
    "print(State(atmcs.evt_summaryState.get().summaryState),\n",
    "      State(atptg.evt_summaryState.get().summaryState))"
   ]
  },
  {
   "cell_type": "code",
   "execution_count": null,
   "metadata": {},
   "outputs": [],
   "source": [
    "import os"
   ]
  },
  {
   "cell_type": "code",
   "execution_count": null,
   "metadata": {},
   "outputs": [],
   "source": [
    "os.environ[\"LSST_DDS_DOMAIN\"]"
   ]
  },
  {
   "cell_type": "code",
   "execution_count": null,
   "metadata": {},
   "outputs": [],
   "source": []
  }
 ],
 "metadata": {
  "kernelspec": {
   "display_name": "Python 3",
   "language": "python",
   "name": "python3"
  },
  "language_info": {
   "codemirror_mode": {
    "name": "ipython",
    "version": 3
   },
   "file_extension": ".py",
   "mimetype": "text/x-python",
   "name": "python",
   "nbconvert_exporter": "python",
   "pygments_lexer": "ipython3",
   "version": "3.6.6"
  }
 },
 "nbformat": 4,
 "nbformat_minor": 2
}
