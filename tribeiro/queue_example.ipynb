{
 "cells": [
  {
   "cell_type": "markdown",
   "metadata": {},
   "source": [
    "Examples on how to interact with the script queue from inside a notebook. The idea is that it is possible to run scripts on the queue, monitor the script execution and digest the script results from inside a notebook to accomplish high level tasks. "
   ]
  },
  {
   "cell_type": "code",
   "execution_count": 1,
   "metadata": {},
   "outputs": [
    {
     "name": "stderr",
     "output_type": "stream",
     "text": [
      "Could not import lsstcppimport; please ensure the base package has been built (not just setup).\n",
      "\n",
      "/home/saluser/repos/ts_scriptqueue/python/lsst/ts/scriptqueue/ui/request_cmd.py:12: UserWarning: Could not find module cmd2. Fallback to standard cmd library. This may limit the functionality of the shell.\n",
      "  warnings.warn(\"Could not find module cmd2. Fallback to standard \"\n"
     ]
    }
   ],
   "source": [
    "from lsst.ts.scriptqueue.ui import RequestModel\n",
    "import yaml\n",
    "import logging"
   ]
  },
  {
   "cell_type": "code",
   "execution_count": 2,
   "metadata": {},
   "outputs": [],
   "source": [
    "FORMAT = '[%(levelname)s]:: %(message)s'\n",
    "logging.basicConfig(format=FORMAT, level=logging.DEBUG)"
   ]
  },
  {
   "cell_type": "code",
   "execution_count": 3,
   "metadata": {},
   "outputs": [
    {
     "name": "stderr",
     "output_type": "stream",
     "text": [
      "[DEBUG]:: Test\n"
     ]
    }
   ],
   "source": [
    "logging.debug(\"Test\")"
   ]
  },
  {
   "cell_type": "code",
   "execution_count": 4,
   "metadata": {},
   "outputs": [
    {
     "name": "stderr",
     "output_type": "stream",
     "text": [
      "[DEBUG]:: Using selector: EpollSelector\n"
     ]
    }
   ],
   "source": [
    "model = RequestModel(1)"
   ]
  },
  {
   "cell_type": "code",
   "execution_count": 5,
   "metadata": {},
   "outputs": [
    {
     "name": "stderr",
     "output_type": "stream",
     "text": [
      "[DEBUG]:: done\n"
     ]
    }
   ],
   "source": [
    "logging.debug(\"done\")"
   ]
  },
  {
   "cell_type": "code",
   "execution_count": 6,
   "metadata": {},
   "outputs": [
    {
     "name": "stderr",
     "output_type": "stream",
     "text": [
      "[DEBUG]:: done\n"
     ]
    }
   ],
   "source": [
    "logging.debug(\"done\")"
   ]
  },
  {
   "cell_type": "code",
   "execution_count": null,
   "metadata": {},
   "outputs": [],
   "source": [
    "model.enable_queue()"
   ]
  },
  {
   "cell_type": "code",
   "execution_count": 7,
   "metadata": {},
   "outputs": [
    {
     "name": "stderr",
     "output_type": "stream",
     "text": [
      "[DEBUG]:: No previous information about script list. Requesting.\n"
     ]
    },
    {
     "data": {
      "text/plain": [
       "{'external': ['laser_coordination_2.py',\n",
       "  'es_coordination_laser_001.py',\n",
       "  'transition_components.py',\n",
       "  'auxtel/at_calsys_takedata.py',\n",
       "  'auxtel/at_cam_take_image.py'],\n",
       " 'standard': ['auxtel/calsys_takedata.py',\n",
       "  'auxtel/get_std_flat_dataset.py',\n",
       "  'auxtel/integration_tests/atptg_atmcs_integration.py']}"
      ]
     },
     "execution_count": 7,
     "metadata": {},
     "output_type": "execute_result"
    }
   ],
   "source": [
    "model.get_scripts()"
   ]
  },
  {
   "cell_type": "code",
   "execution_count": 33,
   "metadata": {},
   "outputs": [
    {
     "data": {
      "text/plain": [
       "{'state': 'Running',\n",
       " 'queue_scripts': {},\n",
       " 'past_scripts': {100001: {'index': 100001,\n",
       "   'type': 'External',\n",
       "   'path': 'auxtel/at_cam_take_image.py',\n",
       "   'duration': 164.68141293525696,\n",
       "   'timestamp': 1554461418.267573,\n",
       "   'script_state': <ScriptState.DONE: 8>,\n",
       "   'process_state': <ScriptProcessState.DONE: 4>,\n",
       "   'remote': None,\n",
       "   'updated': True},\n",
       "  100000: {'index': 100000,\n",
       "   'type': 'External',\n",
       "   'path': 'auxtel/at_cam_take_image.py',\n",
       "   'duration': 146.43018102645874,\n",
       "   'timestamp': 1554460578.102527,\n",
       "   'script_state': <ScriptState.DONE: 8>,\n",
       "   'process_state': <ScriptProcessState.DONE: 4>,\n",
       "   'remote': None,\n",
       "   'updated': True}},\n",
       " 'current': None}"
      ]
     },
     "execution_count": 33,
     "metadata": {},
     "output_type": "execute_result"
    }
   ],
   "source": [
    "model.get_queue_state()"
   ]
  },
  {
   "cell_type": "code",
   "execution_count": 34,
   "metadata": {},
   "outputs": [
    {
     "name": "stderr",
     "output_type": "stream",
     "text": [
      "[DEBUG]:: [salIndex:100008][External][path:transition_components.py][duration:108.37][ScriptState.DONE][ScriptProcessState.DONE]\n"
     ]
    }
   ],
   "source": [
    "model.resume_queue()"
   ]
  },
  {
   "cell_type": "code",
   "execution_count": 9,
   "metadata": {},
   "outputs": [
    {
     "name": "stderr",
     "output_type": "stream",
     "text": [
      "[INFO]:: {exp_times: 0.0, image_sequence_name: bias, nimages: 10, shutter: 0}\n"
     ]
    }
   ],
   "source": [
    "with open(\"/home/saluser/develop/config/take_bias.yaml\", 'r') as stream:\n",
    "    yconfig = yaml.load(stream)\n",
    "    config = yaml.safe_dump(yconfig)\n",
    "logging.info(config.strip())"
   ]
  },
  {
   "cell_type": "code",
   "execution_count": 16,
   "metadata": {},
   "outputs": [],
   "source": [
    "salindex = model.add('auxtel/at_cam_take_image.py', False, config.strip())"
   ]
  },
  {
   "cell_type": "code",
   "execution_count": 17,
   "metadata": {},
   "outputs": [
    {
     "name": "stderr",
     "output_type": "stream",
     "text": [
      "[DEBUG]:: Starting script remote\n",
      "[WARNING]:: [100004]:[heartbeat:0] - [total lost:1 - subsequent lost: 1]:[Missing heartbeats from script.]\n",
      "[WARNING]:: [100004]:[heartbeat:0] - [total lost:2 - subsequent lost: 2]:[Missing heartbeats from script.]\n",
      "[WARNING]:: [100004]:[heartbeat:0] - [total lost:3 - subsequent lost: 3]:[Missing heartbeats from script.]\n",
      "[WARNING]:: [100004]:[heartbeat:0] - [total lost:4 - subsequent lost: 4]:[Missing heartbeats from script.]\n",
      "[WARNING]:: [100004]:[heartbeat:0] - [total lost:5 - subsequent lost: 5]:[Missing heartbeats from script.]\n",
      "[WARNING]:: [100004]:[heartbeat:0] - [total lost:6 - subsequent lost: 6]:[Missing heartbeats from script.]\n",
      "[ERROR]:: Script is not responding. Lost 6 subsequent heartbeats. You may have to interrupt the script execution.If this is an expected behaviour you should be able to restart the monitoring routine.\n"
     ]
    }
   ],
   "source": [
    "model.monitor_script(salindex)"
   ]
  },
  {
   "cell_type": "code",
   "execution_count": 18,
   "metadata": {},
   "outputs": [
    {
     "name": "stderr",
     "output_type": "stream",
     "text": [
      "[DEBUG]:: [100004]:[checkpoint]\n",
      "[DEBUG]:: [100004]:[checkpoint]\n"
     ]
    },
    {
     "name": "stdout",
     "output_type": "stream",
     "text": [
      "[salIndex:100004][External][path:auxtel/at_cam_take_image.py][duration:0.0][ScriptState.UNCONFIGURED][ScriptProcessState.LOADING]\n",
      "[salIndex:100004][External][path:auxtel/at_cam_take_image.py][duration:0.0][ScriptState.CONFIGURED][ScriptProcessState.LOADING]\n"
     ]
    },
    {
     "name": "stderr",
     "output_type": "stream",
     "text": [
      "[DEBUG]:: [100004]:[checkpoint]\n",
      "[DEBUG]:: [100004]:[checkpoint]start\n",
      "[DEBUG]:: [100004]:[checkpoint]Take image 1 of 10\n"
     ]
    },
    {
     "name": "stdout",
     "output_type": "stream",
     "text": [
      "[salIndex:100004][External][path:auxtel/at_cam_take_image.py][duration:0.0][ScriptState.CONFIGURED][ScriptProcessState.CONFIGURED]\n",
      "[salIndex:100004][External][path:auxtel/at_cam_take_image.py][duration:0.0][ScriptState.RUNNING][ScriptProcessState.RUNNING]\n"
     ]
    },
    {
     "name": "stderr",
     "output_type": "stream",
     "text": [
      "[DEBUG]:: [100004]:Finished taking image. Waiting for endReadout event.\n",
      "[DEBUG]:: [100004]:[checkpoint]Take image 2 of 10\n",
      "[DEBUG]:: [100004]:Image 1/10 done\n",
      "[DEBUG]:: [100004]:Finished taking image. Waiting for endReadout event.\n",
      "[DEBUG]:: [100004]:[heartbeat:1] - [total lost:0]\n",
      "[DEBUG]:: [100004]:[checkpoint]Take image 3 of 10\n",
      "[DEBUG]:: [100004]:Image 2/10 done\n",
      "[DEBUG]:: [100004]:Finished taking image. Waiting for endReadout event.\n",
      "[DEBUG]:: [100004]:[checkpoint]Take image 4 of 10\n",
      "[DEBUG]:: [100004]:Image 3/10 done\n",
      "[DEBUG]:: [100004]:Finished taking image. Waiting for endReadout event.\n",
      "[DEBUG]:: [100004]:[heartbeat:2] - [total lost:0]\n",
      "[DEBUG]:: [100004]:[checkpoint]Take image 5 of 10\n",
      "[DEBUG]:: [100004]:Image 4/10 done\n",
      "[DEBUG]:: [100004]:Finished taking image. Waiting for endReadout event.\n",
      "[DEBUG]:: [100004]:[checkpoint]Take image 6 of 10\n",
      "[DEBUG]:: [100004]:Image 5/10 done\n",
      "[DEBUG]:: [100004]:[heartbeat:3] - [total lost:0]\n",
      "[DEBUG]:: [100004]:Finished taking image. Waiting for endReadout event.\n",
      "[DEBUG]:: [100004]:[checkpoint]Take image 7 of 10\n",
      "[DEBUG]:: [100004]:Image 6/10 done\n",
      "[DEBUG]:: [100004]:Finished taking image. Waiting for endReadout event.\n",
      "[DEBUG]:: [100004]:[heartbeat:4] - [total lost:0]\n",
      "[DEBUG]:: [100004]:Image 7/10 done\n",
      "[DEBUG]:: [100004]:[checkpoint]Take image 8 of 10\n",
      "[DEBUG]:: [100004]:Finished taking image. Waiting for endReadout event.\n",
      "[DEBUG]:: [100004]:[checkpoint]Take image 9 of 10\n",
      "[DEBUG]:: [100004]:Image 8/10 done\n",
      "[DEBUG]:: [100004]:Finished taking image. Waiting for endReadout event.\n",
      "[DEBUG]:: [100004]:[heartbeat:5] - [total lost:0]\n",
      "[DEBUG]:: [100004]:[checkpoint]Take image 10 of 10\n",
      "[DEBUG]:: [100004]:Image 9/10 done\n",
      "[DEBUG]:: [100004]:Finished taking image. Waiting for endReadout event.\n",
      "[DEBUG]:: [100004]:[checkpoint]end\n",
      "[DEBUG]:: [100004]:[checkpoint]end\n",
      "[DEBUG]:: [100004]:[checkpoint]end\n",
      "[DEBUG]:: [100004]:Image 10/10 done\n"
     ]
    },
    {
     "name": "stdout",
     "output_type": "stream",
     "text": [
      "[salIndex:100004][External][path:auxtel/at_cam_take_image.py][duration:0.0][ScriptState.ENDING][ScriptProcessState.RUNNING]\n",
      "[salIndex:100004][External][path:auxtel/at_cam_take_image.py][duration:0.0][ScriptState.DONE][ScriptProcessState.RUNNING]\n",
      "[salIndex:100004][External][path:auxtel/at_cam_take_image.py][duration:147.59][ScriptState.DONE][ScriptProcessState.DONE]\n"
     ]
    }
   ],
   "source": [
    "model.monitor_script(salindex)"
   ]
  },
  {
   "cell_type": "code",
   "execution_count": 29,
   "metadata": {},
   "outputs": [
    {
     "name": "stderr",
     "output_type": "stream",
     "text": [
      "[DEBUG]:: Starting script remote\n",
      "[WARNING]:: [100011]:[heartbeat:0] - [total lost:1 - subsequent lost: 1]:[Missing heartbeats from script.]\n",
      "[WARNING]:: [100011]:[heartbeat:0] - [total lost:2 - subsequent lost: 2]:[Missing heartbeats from script.]\n",
      "[DEBUG]:: [100011]:[checkpoint]\n"
     ]
    },
    {
     "name": "stdout",
     "output_type": "stream",
     "text": [
      "[salIndex:100011][External][path:transition_components.py][duration:0.0][ScriptState.UNCONFIGURED][ScriptProcessState.LOADING]\n"
     ]
    },
    {
     "name": "stderr",
     "output_type": "stream",
     "text": [
      "[DEBUG]:: [100011]:[checkpoint]\n",
      "[DEBUG]:: [100011]:[heartbeat:1] - [total lost:2]\n"
     ]
    },
    {
     "name": "stdout",
     "output_type": "stream",
     "text": [
      "[salIndex:100011][External][path:transition_components.py][duration:0.0][ScriptState.UNCONFIGURED][ScriptProcessState.CONFIGURED]\n",
      "[salIndex:100011][External][path:transition_components.py][duration:0.0][ScriptState.CONFIGURED][ScriptProcessState.CONFIGURED]\n"
     ]
    },
    {
     "name": "stderr",
     "output_type": "stream",
     "text": [
      "[DEBUG]:: [100011]:[heartbeat:2] - [total lost:2]\n",
      "[DEBUG]:: [100011]:[heartbeat:3] - [total lost:2]\n",
      "[DEBUG]:: [100011]:[heartbeat:4] - [total lost:2]\n",
      "[DEBUG]:: [100011]:[heartbeat:5] - [total lost:2]\n",
      "[DEBUG]:: [100011]:[heartbeat:6] - [total lost:2]\n",
      "[DEBUG]:: [100011]:[heartbeat:7] - [total lost:2]\n",
      "[DEBUG]:: [100011]:[heartbeat:8] - [total lost:2]\n",
      "[DEBUG]:: [100011]:[heartbeat:9] - [total lost:2]\n",
      "[DEBUG]:: [100011]:[heartbeat:10] - [total lost:2]\n",
      "[DEBUG]:: [100011]:[heartbeat:11] - [total lost:2]\n",
      "[DEBUG]:: [100011]:[heartbeat:12] - [total lost:2]\n"
     ]
    },
    {
     "ename": "KeyboardInterrupt",
     "evalue": "",
     "output_type": "error",
     "traceback": [
      "\u001b[0;31m---------------------------------------------------------------------------\u001b[0m",
      "\u001b[0;31mKeyboardInterrupt\u001b[0m                         Traceback (most recent call last)",
      "\u001b[0;32m<ipython-input-29-83fb37221f3a>\u001b[0m in \u001b[0;36m<module>\u001b[0;34m\u001b[0m\n\u001b[1;32m      1\u001b[0m salindex = model.add('transition_components.py', False, \n\u001b[1;32m      2\u001b[0m                      \"{components: ATMonochromator, transition_to: \\\"disable,standby,exitControl\\\"}\")\n\u001b[0;32m----> 3\u001b[0;31m \u001b[0mmodel\u001b[0m\u001b[0;34m.\u001b[0m\u001b[0mmonitor_script\u001b[0m\u001b[0;34m(\u001b[0m\u001b[0msalindex\u001b[0m\u001b[0;34m)\u001b[0m\u001b[0;34m\u001b[0m\u001b[0m\n\u001b[0m",
      "\u001b[0;32m~/repos/ts_scriptqueue/python/lsst/ts/scriptqueue/ui/request_model.py\u001b[0m in \u001b[0;36mmonitor_script\u001b[0;34m(self, salindex)\u001b[0m\n\u001b[1;32m    392\u001b[0m                           \u001b[0mself\u001b[0m\u001b[0;34m.\u001b[0m\u001b[0mmonitor_script_checkpoint\u001b[0m\u001b[0;34m(\u001b[0m\u001b[0msalindex\u001b[0m\u001b[0;34m)\u001b[0m\u001b[0;34m,\u001b[0m\u001b[0;34m\u001b[0m\u001b[0m\n\u001b[1;32m    393\u001b[0m                           self.monitor_script_heartbeat(salindex)],\n\u001b[0;32m--> 394\u001b[0;31m                          return_when=asyncio.FIRST_COMPLETED))\n\u001b[0m\u001b[1;32m    395\u001b[0m         \u001b[0;32mfor\u001b[0m \u001b[0mtask\u001b[0m \u001b[0;32min\u001b[0m \u001b[0munfinished\u001b[0m\u001b[0;34m:\u001b[0m\u001b[0;34m\u001b[0m\u001b[0m\n\u001b[1;32m    396\u001b[0m             \u001b[0mtask\u001b[0m\u001b[0;34m.\u001b[0m\u001b[0mcancel\u001b[0m\u001b[0;34m(\u001b[0m\u001b[0;34m)\u001b[0m\u001b[0;34m\u001b[0m\u001b[0m\n",
      "\u001b[0;32m/opt/lsst/software/stack/python/miniconda3-4.3.21/lib/python3.6/asyncio/base_events.py\u001b[0m in \u001b[0;36mrun_until_complete\u001b[0;34m(self, future)\u001b[0m\n\u001b[1;32m    452\u001b[0m         \u001b[0mfuture\u001b[0m\u001b[0;34m.\u001b[0m\u001b[0madd_done_callback\u001b[0m\u001b[0;34m(\u001b[0m\u001b[0m_run_until_complete_cb\u001b[0m\u001b[0;34m)\u001b[0m\u001b[0;34m\u001b[0m\u001b[0m\n\u001b[1;32m    453\u001b[0m         \u001b[0;32mtry\u001b[0m\u001b[0;34m:\u001b[0m\u001b[0;34m\u001b[0m\u001b[0m\n\u001b[0;32m--> 454\u001b[0;31m             \u001b[0mself\u001b[0m\u001b[0;34m.\u001b[0m\u001b[0mrun_forever\u001b[0m\u001b[0;34m(\u001b[0m\u001b[0;34m)\u001b[0m\u001b[0;34m\u001b[0m\u001b[0m\n\u001b[0m\u001b[1;32m    455\u001b[0m         \u001b[0;32mexcept\u001b[0m\u001b[0;34m:\u001b[0m\u001b[0;34m\u001b[0m\u001b[0m\n\u001b[1;32m    456\u001b[0m             \u001b[0;32mif\u001b[0m \u001b[0mnew_task\u001b[0m \u001b[0;32mand\u001b[0m \u001b[0mfuture\u001b[0m\u001b[0;34m.\u001b[0m\u001b[0mdone\u001b[0m\u001b[0;34m(\u001b[0m\u001b[0;34m)\u001b[0m \u001b[0;32mand\u001b[0m \u001b[0;32mnot\u001b[0m \u001b[0mfuture\u001b[0m\u001b[0;34m.\u001b[0m\u001b[0mcancelled\u001b[0m\u001b[0;34m(\u001b[0m\u001b[0;34m)\u001b[0m\u001b[0;34m:\u001b[0m\u001b[0;34m\u001b[0m\u001b[0m\n",
      "\u001b[0;32m/opt/lsst/software/stack/python/miniconda3-4.3.21/lib/python3.6/asyncio/base_events.py\u001b[0m in \u001b[0;36mrun_forever\u001b[0;34m(self)\u001b[0m\n\u001b[1;32m    419\u001b[0m             \u001b[0mevents\u001b[0m\u001b[0;34m.\u001b[0m\u001b[0m_set_running_loop\u001b[0m\u001b[0;34m(\u001b[0m\u001b[0mself\u001b[0m\u001b[0;34m)\u001b[0m\u001b[0;34m\u001b[0m\u001b[0m\n\u001b[1;32m    420\u001b[0m             \u001b[0;32mwhile\u001b[0m \u001b[0;32mTrue\u001b[0m\u001b[0;34m:\u001b[0m\u001b[0;34m\u001b[0m\u001b[0m\n\u001b[0;32m--> 421\u001b[0;31m                 \u001b[0mself\u001b[0m\u001b[0;34m.\u001b[0m\u001b[0m_run_once\u001b[0m\u001b[0;34m(\u001b[0m\u001b[0;34m)\u001b[0m\u001b[0;34m\u001b[0m\u001b[0m\n\u001b[0m\u001b[1;32m    422\u001b[0m                 \u001b[0;32mif\u001b[0m \u001b[0mself\u001b[0m\u001b[0;34m.\u001b[0m\u001b[0m_stopping\u001b[0m\u001b[0;34m:\u001b[0m\u001b[0;34m\u001b[0m\u001b[0m\n\u001b[1;32m    423\u001b[0m                     \u001b[0;32mbreak\u001b[0m\u001b[0;34m\u001b[0m\u001b[0m\n",
      "\u001b[0;32m/opt/lsst/software/stack/python/miniconda3-4.3.21/lib/python3.6/asyncio/base_events.py\u001b[0m in \u001b[0;36m_run_once\u001b[0;34m(self)\u001b[0m\n\u001b[1;32m   1388\u001b[0m                            timeout * 1e3, dt * 1e3)\n\u001b[1;32m   1389\u001b[0m         \u001b[0;32melse\u001b[0m\u001b[0;34m:\u001b[0m\u001b[0;34m\u001b[0m\u001b[0m\n\u001b[0;32m-> 1390\u001b[0;31m             \u001b[0mevent_list\u001b[0m \u001b[0;34m=\u001b[0m \u001b[0mself\u001b[0m\u001b[0;34m.\u001b[0m\u001b[0m_selector\u001b[0m\u001b[0;34m.\u001b[0m\u001b[0mselect\u001b[0m\u001b[0;34m(\u001b[0m\u001b[0mtimeout\u001b[0m\u001b[0;34m)\u001b[0m\u001b[0;34m\u001b[0m\u001b[0m\n\u001b[0m\u001b[1;32m   1391\u001b[0m         \u001b[0mself\u001b[0m\u001b[0;34m.\u001b[0m\u001b[0m_process_events\u001b[0m\u001b[0;34m(\u001b[0m\u001b[0mevent_list\u001b[0m\u001b[0;34m)\u001b[0m\u001b[0;34m\u001b[0m\u001b[0m\n\u001b[1;32m   1392\u001b[0m \u001b[0;34m\u001b[0m\u001b[0m\n",
      "\u001b[0;32m/opt/lsst/software/stack/python/miniconda3-4.3.21/lib/python3.6/selectors.py\u001b[0m in \u001b[0;36mselect\u001b[0;34m(self, timeout)\u001b[0m\n\u001b[1;32m    443\u001b[0m             \u001b[0mready\u001b[0m \u001b[0;34m=\u001b[0m \u001b[0;34m[\u001b[0m\u001b[0;34m]\u001b[0m\u001b[0;34m\u001b[0m\u001b[0m\n\u001b[1;32m    444\u001b[0m             \u001b[0;32mtry\u001b[0m\u001b[0;34m:\u001b[0m\u001b[0;34m\u001b[0m\u001b[0m\n\u001b[0;32m--> 445\u001b[0;31m                 \u001b[0mfd_event_list\u001b[0m \u001b[0;34m=\u001b[0m \u001b[0mself\u001b[0m\u001b[0;34m.\u001b[0m\u001b[0m_epoll\u001b[0m\u001b[0;34m.\u001b[0m\u001b[0mpoll\u001b[0m\u001b[0;34m(\u001b[0m\u001b[0mtimeout\u001b[0m\u001b[0;34m,\u001b[0m \u001b[0mmax_ev\u001b[0m\u001b[0;34m)\u001b[0m\u001b[0;34m\u001b[0m\u001b[0m\n\u001b[0m\u001b[1;32m    446\u001b[0m             \u001b[0;32mexcept\u001b[0m \u001b[0mInterruptedError\u001b[0m\u001b[0;34m:\u001b[0m\u001b[0;34m\u001b[0m\u001b[0m\n\u001b[1;32m    447\u001b[0m                 \u001b[0;32mreturn\u001b[0m \u001b[0mready\u001b[0m\u001b[0;34m\u001b[0m\u001b[0m\n",
      "\u001b[0;31mKeyboardInterrupt\u001b[0m: "
     ]
    }
   ],
   "source": [
    "salindex = model.add('transition_components.py', False, \n",
    "                     \"{components: ATMonochromator, transition_to: \\\"disable,standby,exitControl\\\"}\")\n",
    "model.monitor_script(salindex)"
   ]
  },
  {
   "cell_type": "code",
   "execution_count": 31,
   "metadata": {},
   "outputs": [
    {
     "ename": "RuntimeError",
     "evalue": "Script 100011 in a final state.",
     "output_type": "error",
     "traceback": [
      "\u001b[0;31m---------------------------------------------------------------------------\u001b[0m",
      "\u001b[0;31mRuntimeError\u001b[0m                              Traceback (most recent call last)",
      "\u001b[0;32m<ipython-input-31-d658ca7b7feb>\u001b[0m in \u001b[0;36m<module>\u001b[0;34m\u001b[0m\n\u001b[0;32m----> 1\u001b[0;31m \u001b[0mmodel\u001b[0m\u001b[0;34m.\u001b[0m\u001b[0mmonitor_script\u001b[0m\u001b[0;34m(\u001b[0m\u001b[0msalindex\u001b[0m\u001b[0;34m)\u001b[0m\u001b[0;34m\u001b[0m\u001b[0m\n\u001b[0m",
      "\u001b[0;32m~/repos/ts_scriptqueue/python/lsst/ts/scriptqueue/ui/request_model.py\u001b[0m in \u001b[0;36mmonitor_script\u001b[0;34m(self, salindex)\u001b[0m\n\u001b[1;32m    386\u001b[0m \u001b[0;34m\u001b[0m\u001b[0m\n\u001b[1;32m    387\u001b[0m         \"\"\"\n\u001b[0;32m--> 388\u001b[0;31m         \u001b[0mself\u001b[0m\u001b[0;34m.\u001b[0m\u001b[0mget_script_remote\u001b[0m\u001b[0;34m(\u001b[0m\u001b[0msalindex\u001b[0m\u001b[0;34m)\u001b[0m\u001b[0;34m\u001b[0m\u001b[0m\n\u001b[0m\u001b[1;32m    389\u001b[0m         finished, unfinished = self.evt_loop.run_until_complete(\n\u001b[1;32m    390\u001b[0m             asyncio.wait([self.monitor_script_info(salindex),\n",
      "\u001b[0;32m~/repos/ts_scriptqueue/python/lsst/ts/scriptqueue/ui/request_model.py\u001b[0m in \u001b[0;36mget_script_remote\u001b[0;34m(self, salindex)\u001b[0m\n\u001b[1;32m    254\u001b[0m             \u001b[0;31m# self.run(remote.cmd_setLogLevel.start(timeout=self.cmd_timeout))\u001b[0m\u001b[0;34m\u001b[0m\u001b[0;34m\u001b[0m\u001b[0m\n\u001b[1;32m    255\u001b[0m         \u001b[0;32melif\u001b[0m \u001b[0minfo\u001b[0m\u001b[0;34m[\u001b[0m\u001b[0;34m\"process_state\"\u001b[0m\u001b[0;34m]\u001b[0m \u001b[0;34m>=\u001b[0m \u001b[0mScriptProcessState\u001b[0m\u001b[0;34m.\u001b[0m\u001b[0mDONE\u001b[0m\u001b[0;34m:\u001b[0m\u001b[0;34m\u001b[0m\u001b[0m\n\u001b[0;32m--> 256\u001b[0;31m             \u001b[0;32mraise\u001b[0m \u001b[0mRuntimeError\u001b[0m\u001b[0;34m(\u001b[0m\u001b[0;34mf\"Script {salindex} in a final state.\"\u001b[0m\u001b[0;34m)\u001b[0m\u001b[0;34m\u001b[0m\u001b[0m\n\u001b[0m\u001b[1;32m    257\u001b[0m \u001b[0;34m\u001b[0m\u001b[0m\n\u001b[1;32m    258\u001b[0m     \u001b[0;32mdef\u001b[0m \u001b[0mrun\u001b[0m\u001b[0;34m(\u001b[0m\u001b[0mself\u001b[0m\u001b[0;34m,\u001b[0m \u001b[0mcoro\u001b[0m\u001b[0;34m)\u001b[0m\u001b[0;34m:\u001b[0m\u001b[0;34m\u001b[0m\u001b[0m\n",
      "\u001b[0;31mRuntimeError\u001b[0m: Script 100011 in a final state."
     ]
    }
   ],
   "source": [
    "model.monitor_script(salindex)"
   ]
  },
  {
   "cell_type": "code",
   "execution_count": 32,
   "metadata": {},
   "outputs": [
    {
     "name": "stderr",
     "output_type": "stream",
     "text": [
      "[WARNING]:: [100011]:[heartbeat:13] - [total lost:3 - subsequent lost: 1]:[Missing heartbeats from script.]\n",
      "[DEBUG]:: Script 100011 finalized.\n",
      "[DEBUG]:: Starting script remote\n",
      "[WARNING]:: [100012]:[heartbeat:0] - [total lost:1 - subsequent lost: 1]:[Missing heartbeats from script.]\n",
      "[WARNING]:: [100012]:[heartbeat:0] - [total lost:2 - subsequent lost: 2]:[Missing heartbeats from script.]\n",
      "[DEBUG]:: [100012]:[checkpoint]\n"
     ]
    },
    {
     "name": "stdout",
     "output_type": "stream",
     "text": [
      "[salIndex:100012][External][path:transition_components.py][duration:0.0][ScriptState.UNCONFIGURED][ScriptProcessState.LOADING]\n"
     ]
    },
    {
     "name": "stderr",
     "output_type": "stream",
     "text": [
      "[DEBUG]:: [100012]:[checkpoint]\n",
      "[DEBUG]:: [100012]:[heartbeat:1] - [total lost:2]\n",
      "[DEBUG]:: [100012]:[checkpoint]\n"
     ]
    },
    {
     "name": "stdout",
     "output_type": "stream",
     "text": [
      "[salIndex:100012][External][path:transition_components.py][duration:0.0][ScriptState.CONFIGURED][ScriptProcessState.CONFIGURED]\n",
      "[salIndex:100012][External][path:transition_components.py][duration:0.0][ScriptState.CONFIGURED][ScriptProcessState.RUNNING]\n",
      "[salIndex:100012][External][path:transition_components.py][duration:0.0][ScriptState.RUNNING][ScriptProcessState.RUNNING]\n"
     ]
    },
    {
     "name": "stderr",
     "output_type": "stream",
     "text": [
      "[DEBUG]:: [100012]:[heartbeat:2] - [total lost:2]\n",
      "[DEBUG]:: [100012]:[heartbeat:3] - [total lost:2]\n",
      "[DEBUG]:: [100012]:[checkpoint]\n",
      "[DEBUG]:: [100012]:[checkpoint]\n"
     ]
    },
    {
     "name": "stdout",
     "output_type": "stream",
     "text": [
      "[salIndex:100012][External][path:transition_components.py][duration:0.0][ScriptState.ENDING][ScriptProcessState.RUNNING]\n",
      "[salIndex:100012][External][path:transition_components.py][duration:0.0][ScriptState.DONE][ScriptProcessState.RUNNING]\n",
      "[salIndex:100012][External][path:transition_components.py][duration:48.52][ScriptState.DONE][ScriptProcessState.DONE]\n"
     ]
    }
   ],
   "source": [
    "salindex = model.add('transition_components.py', False, \n",
    "                     \"{components: ATMonochromator, transition_to: \\\"start,enable\\\", settings_to_apply: default}\")\n",
    "model.monitor_script(salindex)"
   ]
  },
  {
   "cell_type": "code",
   "execution_count": 28,
   "metadata": {},
   "outputs": [
    {
     "name": "stderr",
     "output_type": "stream",
     "text": [
      "[DEBUG]:: Starting script remote\n",
      "[WARNING]:: [100010]:[heartbeat:0] - [total lost:1 - subsequent lost: 1]:[Missing heartbeats from script.]\n",
      "[WARNING]:: [100010]:[heartbeat:0] - [total lost:2 - subsequent lost: 2]:[Missing heartbeats from script.]\n",
      "[DEBUG]:: [100010]:[checkpoint]\n"
     ]
    },
    {
     "name": "stdout",
     "output_type": "stream",
     "text": [
      "[salIndex:100010][External][path:transition_components.py][duration:0.0][ScriptState.UNCONFIGURED][ScriptProcessState.LOADING]\n"
     ]
    },
    {
     "name": "stderr",
     "output_type": "stream",
     "text": [
      "[DEBUG]:: [100010]:[checkpoint]\n",
      "[DEBUG]:: [salIndex:100008][External][path:transition_components.py][duration:108.37][ScriptState.DONE][ScriptProcessState.DONE]\n",
      "[DEBUG]:: [100010]:[checkpoint]\n",
      "[DEBUG]:: [100010]:[heartbeat:1] - [total lost:2]\n"
     ]
    },
    {
     "name": "stdout",
     "output_type": "stream",
     "text": [
      "[salIndex:100010][External][path:transition_components.py][duration:0.0][ScriptState.CONFIGURED][ScriptProcessState.CONFIGURED]\n",
      "[salIndex:100010][External][path:transition_components.py][duration:0.0][ScriptState.RUNNING][ScriptProcessState.RUNNING]\n"
     ]
    },
    {
     "name": "stderr",
     "output_type": "stream",
     "text": [
      "[DEBUG]:: [100010]:[heartbeat:2] - [total lost:2]\n",
      "[DEBUG]:: [100010]:[checkpoint]\n",
      "[DEBUG]:: [100010]:[checkpoint]\n",
      "[ERROR]:: [100010]:Error in runTraceback (most recent call last):\n",
      "  File \"/home/saluser/repos/ts_scriptqueue/python/lsst/ts/scriptqueue/base_script.py\", line 386, in do_run\n",
      "    await self._run_task\n",
      "  File \"develop/ts_externalscripts/python/lsst/ts/externalscripts/scripts/transition_components.py\", line 133, in run\n",
      "    await asyncio.gather(*awaitable_list)\n",
      "lsst.ts.salobj.base.AckError: msg='Command failed with ack code -301', cmd_id=1554477883, ack=(ack=-301, error=0, result='')\n"
     ]
    },
    {
     "name": "stdout",
     "output_type": "stream",
     "text": [
      "[salIndex:100010][External][path:transition_components.py][duration:0.0][ScriptState.FAILING][ScriptProcessState.RUNNING]\n",
      "[salIndex:100010][External][path:transition_components.py][duration:0.0][ScriptState.FAILED][ScriptProcessState.RUNNING]\n",
      "[salIndex:100010][External][path:transition_components.py][duration:42.87][ScriptState.FAILED][ScriptProcessState.DONE]\n"
     ]
    }
   ],
   "source": [
    "salindex = model.add('transition_components.py', False, \n",
    "                     \"{components: ATMonochromator, transition_to: enable}\")\n",
    "model.monitor_script(salindex)"
   ]
  },
  {
   "cell_type": "code",
   "execution_count": null,
   "metadata": {},
   "outputs": [],
   "source": []
  }
 ],
 "metadata": {
  "kernelspec": {
   "display_name": "Python 3",
   "language": "python",
   "name": "python3"
  },
  "language_info": {
   "codemirror_mode": {
    "name": "ipython",
    "version": 3
   },
   "file_extension": ".py",
   "mimetype": "text/x-python",
   "name": "python",
   "nbconvert_exporter": "python",
   "pygments_lexer": "ipython3",
   "version": "3.6.3"
  }
 },
 "nbformat": 4,
 "nbformat_minor": 2
}
