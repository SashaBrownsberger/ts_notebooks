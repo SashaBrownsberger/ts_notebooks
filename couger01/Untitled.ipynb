{
 "cells": [
  {
   "cell_type": "code",
   "execution_count": 1,
   "metadata": {},
   "outputs": [],
   "source": [
    "from lsst.ts import salobj\n",
    "from lsst.ts import idl\n",
    "from lsst.ts.standardscripts.auxtel.integration_tests.atptg_ataos_integration import ATPtgATAOSIntegration\n",
    "from lsst.ts.standardscripts.auxtel.integration_tests.dometrajectory_mcs import DomeTrajectoryMCS\n",
    "import yaml\n",
    "import logging"
   ]
  },
  {
   "cell_type": "code",
   "execution_count": 2,
   "metadata": {},
   "outputs": [],
   "source": [
    "r1 = salobj.Remote(domain=salobj.Domain(),name=\"ATPtg\")\n",
    "r2 = salobj.Remote(domain=salobj.Domain(),name=\"ATAOS\")"
   ]
  },
  {
   "cell_type": "code",
   "execution_count": 4,
   "metadata": {},
   "outputs": [
    {
     "name": "stderr",
     "output_type": "stream",
     "text": [
      "Could not read historical data in 189.94 sec\n",
      "Could not read historical data in 189.95 sec\n"
     ]
    },
    {
     "data": {
      "text/plain": [
       "[<State.DISABLED: 1>, <State.ENABLED: 2>]"
      ]
     },
     "execution_count": 4,
     "metadata": {},
     "output_type": "execute_result"
    }
   ],
   "source": [
    "await salobj.set_summary_state(r1, salobj.State.ENABLED)\n",
    "await salobj.set_summary_state(r2, salobj.State.ENABLED)"
   ]
  },
  {
   "cell_type": "code",
   "execution_count": null,
   "metadata": {},
   "outputs": [],
   "source": [
    "script = ATPtgATAOSIntegration(index=40)"
   ]
  },
  {
   "cell_type": "code",
   "execution_count": null,
   "metadata": {},
   "outputs": [],
   "source": [
    "script.log.setLevel(logging.DEBUG)\n",
    "script.log.addHandler(logging.StreamHandler())"
   ]
  },
  {
   "cell_type": "code",
   "execution_count": null,
   "metadata": {},
   "outputs": [],
   "source": [
    "await script.start_task"
   ]
  },
  {
   "cell_type": "code",
   "execution_count": null,
   "metadata": {},
   "outputs": [],
   "source": [
    "config_dict=dict(enable_atptg=False,enable_ataos=False)\n",
    "config_data = script.cmd_configure.DataType()\n",
    "config_data.config = yaml.safe_dump(config_dict)\n",
    "config_data.private_seqName=1\n",
    "await script.do_configure(config_data)\n"
   ]
  },
  {
   "cell_type": "code",
   "execution_count": null,
   "metadata": {},
   "outputs": [],
   "source": [
    "print(\"*** run\")\n",
    "await script.do_run(None)\n",
    "print(\"*** done\")"
   ]
  },
  {
   "cell_type": "code",
   "execution_count": null,
   "metadata": {},
   "outputs": [],
   "source": [
    "ts=r1.tel_currentTargetStatus.get()"
   ]
  },
  {
   "cell_type": "code",
   "execution_count": null,
   "metadata": {},
   "outputs": [],
   "source": [
    "print(ts.demandRaString)"
   ]
  },
  {
   "cell_type": "code",
   "execution_count": null,
   "metadata": {},
   "outputs": [],
   "source": [
    "await r1.close()\n",
    "await r2.close()"
   ]
  },
  {
   "cell_type": "code",
   "execution_count": 5,
   "metadata": {},
   "outputs": [
    {
     "ename": "RuntimeError",
     "evalue": "Failed to create topic ATDome.abort",
     "output_type": "error",
     "traceback": [
      "\u001b[0;31m\u001b[0m",
      "\u001b[0;31mDDSException\u001b[0mTraceback (most recent call last)",
      "\u001b[0;32m~/repos/ts_salobj/python/lsst/ts/salobj/topics/base_topic.py\u001b[0m in \u001b[0;36m__init__\u001b[0;34m(self, salinfo, name, sal_prefix)\u001b[0m\n\u001b[1;32m     94\u001b[0m             self._topic = self._type.register_topic(salinfo.domain.participant, dds_name,\n\u001b[0;32m---> 95\u001b[0;31m                                                     salinfo.domain.topic_qos)\n\u001b[0m\u001b[1;32m     96\u001b[0m         \u001b[0;32mexcept\u001b[0m \u001b[0mException\u001b[0m \u001b[0;32mas\u001b[0m \u001b[0me\u001b[0m\u001b[0;34m:\u001b[0m\u001b[0;34m\u001b[0m\u001b[0;34m\u001b[0m\u001b[0m\n",
      "\u001b[0;32m~/repos/ts_salobj/python/lsst/ts/salobj/ddsutil.py\u001b[0m in \u001b[0;36mregister_topic\u001b[0;34m(self, dp, name, qos, listener)\u001b[0m\n\u001b[1;32m    123\u001b[0m \u001b[0;34m\u001b[0m\u001b[0m\n\u001b[0;32m--> 124\u001b[0;31m         \u001b[0;32mreturn\u001b[0m \u001b[0mdds\u001b[0m\u001b[0;34m.\u001b[0m\u001b[0mTopic\u001b[0m\u001b[0;34m(\u001b[0m\u001b[0mdp\u001b[0m\u001b[0;34m,\u001b[0m \u001b[0mname\u001b[0m\u001b[0;34m,\u001b[0m \u001b[0mself\u001b[0m\u001b[0;34m.\u001b[0m\u001b[0mtype_support_class\u001b[0m\u001b[0;34m(\u001b[0m\u001b[0;34m)\u001b[0m\u001b[0;34m,\u001b[0m \u001b[0mqos\u001b[0m\u001b[0;34m,\u001b[0m \u001b[0mlistener\u001b[0m\u001b[0;34m)\u001b[0m\u001b[0;34m\u001b[0m\u001b[0;34m\u001b[0m\u001b[0m\n\u001b[0m\u001b[1;32m    125\u001b[0m \u001b[0;34m\u001b[0m\u001b[0m\n",
      "\u001b[0;32mdds.pyx\u001b[0m in \u001b[0;36mdds.Topic.__init__\u001b[0;34m()\u001b[0m\n",
      "\u001b[0;31mDDSException\u001b[0m: Failed to create topic.  Return code: Bad Parameter",
      "\nThe above exception was the direct cause of the following exception:\n",
      "\u001b[0;31mRuntimeError\u001b[0mTraceback (most recent call last)",
      "\u001b[0;32m<ipython-input-5-03d53beca61b>\u001b[0m in \u001b[0;36m<module>\u001b[0;34m\u001b[0m\n\u001b[1;32m      1\u001b[0m \u001b[0mr3\u001b[0m \u001b[0;34m=\u001b[0m \u001b[0msalobj\u001b[0m\u001b[0;34m.\u001b[0m\u001b[0mRemote\u001b[0m\u001b[0;34m(\u001b[0m\u001b[0mdomain\u001b[0m\u001b[0;34m=\u001b[0m\u001b[0msalobj\u001b[0m\u001b[0;34m.\u001b[0m\u001b[0mDomain\u001b[0m\u001b[0;34m(\u001b[0m\u001b[0;34m)\u001b[0m\u001b[0;34m,\u001b[0m \u001b[0mname\u001b[0m\u001b[0;34m=\u001b[0m\u001b[0;34m\"ATDomeTrajectory\"\u001b[0m\u001b[0;34m)\u001b[0m\u001b[0;34m\u001b[0m\u001b[0;34m\u001b[0m\u001b[0m\n\u001b[1;32m      2\u001b[0m \u001b[0mr4\u001b[0m \u001b[0;34m=\u001b[0m \u001b[0msalobj\u001b[0m\u001b[0;34m.\u001b[0m\u001b[0mRemote\u001b[0m\u001b[0;34m(\u001b[0m\u001b[0mdomain\u001b[0m\u001b[0;34m=\u001b[0m\u001b[0msalobj\u001b[0m\u001b[0;34m.\u001b[0m\u001b[0mDomain\u001b[0m\u001b[0;34m(\u001b[0m\u001b[0;34m)\u001b[0m\u001b[0;34m,\u001b[0m \u001b[0mname\u001b[0m\u001b[0;34m=\u001b[0m\u001b[0;34m\"ATMCS\"\u001b[0m\u001b[0;34m)\u001b[0m\u001b[0;34m\u001b[0m\u001b[0;34m\u001b[0m\u001b[0m\n\u001b[0;32m----> 3\u001b[0;31m \u001b[0mr5\u001b[0m \u001b[0;34m=\u001b[0m \u001b[0msalobj\u001b[0m\u001b[0;34m.\u001b[0m\u001b[0mRemote\u001b[0m\u001b[0;34m(\u001b[0m\u001b[0mdomain\u001b[0m\u001b[0;34m=\u001b[0m\u001b[0msalobj\u001b[0m\u001b[0;34m.\u001b[0m\u001b[0mDomain\u001b[0m\u001b[0;34m(\u001b[0m\u001b[0;34m)\u001b[0m\u001b[0;34m,\u001b[0m \u001b[0mname\u001b[0m\u001b[0;34m=\u001b[0m\u001b[0;34m\"ATDome\"\u001b[0m\u001b[0;34m)\u001b[0m\u001b[0;34m\u001b[0m\u001b[0;34m\u001b[0m\u001b[0m\n\u001b[0m",
      "\u001b[0;32m~/repos/ts_salobj/python/lsst/ts/salobj/remote.py\u001b[0m in \u001b[0;36m__init__\u001b[0;34m(self, domain, name, index, readonly, include, exclude, evt_max_history, tel_max_history, start)\u001b[0m\n\u001b[1;32m    143\u001b[0m             \u001b[0;32mif\u001b[0m \u001b[0;32mnot\u001b[0m \u001b[0mreadonly\u001b[0m\u001b[0;34m:\u001b[0m\u001b[0;34m\u001b[0m\u001b[0;34m\u001b[0m\u001b[0m\n\u001b[1;32m    144\u001b[0m                 \u001b[0;32mfor\u001b[0m \u001b[0mcmd_name\u001b[0m \u001b[0;32min\u001b[0m \u001b[0msalinfo\u001b[0m\u001b[0;34m.\u001b[0m\u001b[0mcommand_names\u001b[0m\u001b[0;34m:\u001b[0m\u001b[0;34m\u001b[0m\u001b[0;34m\u001b[0m\u001b[0m\n\u001b[0;32m--> 145\u001b[0;31m                     \u001b[0mcmd\u001b[0m \u001b[0;34m=\u001b[0m \u001b[0mRemoteCommand\u001b[0m\u001b[0;34m(\u001b[0m\u001b[0msalinfo\u001b[0m\u001b[0;34m,\u001b[0m \u001b[0mcmd_name\u001b[0m\u001b[0;34m)\u001b[0m\u001b[0;34m\u001b[0m\u001b[0;34m\u001b[0m\u001b[0m\n\u001b[0m\u001b[1;32m    146\u001b[0m                     \u001b[0msetattr\u001b[0m\u001b[0;34m(\u001b[0m\u001b[0mself\u001b[0m\u001b[0;34m,\u001b[0m \u001b[0mcmd\u001b[0m\u001b[0;34m.\u001b[0m\u001b[0mattr_name\u001b[0m\u001b[0;34m,\u001b[0m \u001b[0mcmd\u001b[0m\u001b[0;34m)\u001b[0m\u001b[0;34m\u001b[0m\u001b[0;34m\u001b[0m\u001b[0m\n\u001b[1;32m    147\u001b[0m \u001b[0;34m\u001b[0m\u001b[0m\n",
      "\u001b[0;32m~/repos/ts_salobj/python/lsst/ts/salobj/topics/remote_command.py\u001b[0m in \u001b[0;36m__init__\u001b[0;34m(self, salinfo, name)\u001b[0m\n\u001b[1;32m    241\u001b[0m         super().__init__(salinfo=salinfo, name=name, sal_prefix=\"command_\",\n\u001b[1;32m    242\u001b[0m                          \u001b[0mmin_seq_num\u001b[0m\u001b[0;34m=\u001b[0m\u001b[0mmin_seq_num\u001b[0m\u001b[0;34m,\u001b[0m \u001b[0mmax_seq_num\u001b[0m\u001b[0;34m=\u001b[0m\u001b[0mmax_seq_num\u001b[0m\u001b[0;34m,\u001b[0m\u001b[0;34m\u001b[0m\u001b[0;34m\u001b[0m\u001b[0m\n\u001b[0;32m--> 243\u001b[0;31m                          initial_seq_num=initial_seq_num)\n\u001b[0m\u001b[1;32m    244\u001b[0m         \u001b[0mself\u001b[0m\u001b[0;34m.\u001b[0m\u001b[0mlog\u001b[0m \u001b[0;34m=\u001b[0m \u001b[0mlogging\u001b[0m\u001b[0;34m.\u001b[0m\u001b[0mgetLogger\u001b[0m\u001b[0;34m(\u001b[0m\u001b[0;34mf\"{salinfo}.RemoteCommand.{name}\"\u001b[0m\u001b[0;34m)\u001b[0m\u001b[0;34m\u001b[0m\u001b[0;34m\u001b[0m\u001b[0m\n\u001b[1;32m    245\u001b[0m         \u001b[0;31m# dict of seq_num: CommandInfo\u001b[0m\u001b[0;34m\u001b[0m\u001b[0;34m\u001b[0m\u001b[0;34m\u001b[0m\u001b[0m\n",
      "\u001b[0;32m~/repos/ts_salobj/python/lsst/ts/salobj/topics/write_topic.py\u001b[0m in \u001b[0;36m__init__\u001b[0;34m(self, salinfo, name, sal_prefix, min_seq_num, max_seq_num, initial_seq_num)\u001b[0m\n\u001b[1;32m     66\u001b[0m     def __init__(self, *, salinfo, name, sal_prefix, min_seq_num=1, max_seq_num=MAX_SEQ_NUM,\n\u001b[1;32m     67\u001b[0m                  initial_seq_num=None):\n\u001b[0;32m---> 68\u001b[0;31m         \u001b[0msuper\u001b[0m\u001b[0;34m(\u001b[0m\u001b[0;34m)\u001b[0m\u001b[0;34m.\u001b[0m\u001b[0m__init__\u001b[0m\u001b[0;34m(\u001b[0m\u001b[0msalinfo\u001b[0m\u001b[0;34m=\u001b[0m\u001b[0msalinfo\u001b[0m\u001b[0;34m,\u001b[0m \u001b[0mname\u001b[0m\u001b[0;34m=\u001b[0m\u001b[0mname\u001b[0m\u001b[0;34m,\u001b[0m \u001b[0msal_prefix\u001b[0m\u001b[0;34m=\u001b[0m\u001b[0msal_prefix\u001b[0m\u001b[0;34m)\u001b[0m\u001b[0;34m\u001b[0m\u001b[0;34m\u001b[0m\u001b[0m\n\u001b[0m\u001b[1;32m     69\u001b[0m         \u001b[0mself\u001b[0m\u001b[0;34m.\u001b[0m\u001b[0mmin_seq_num\u001b[0m \u001b[0;34m=\u001b[0m \u001b[0mmin_seq_num\u001b[0m  \u001b[0;31m# record for unit tests\u001b[0m\u001b[0;34m\u001b[0m\u001b[0;34m\u001b[0m\u001b[0m\n\u001b[1;32m     70\u001b[0m         \u001b[0mself\u001b[0m\u001b[0;34m.\u001b[0m\u001b[0mmax_seq_num\u001b[0m \u001b[0;34m=\u001b[0m \u001b[0mmax_seq_num\u001b[0m\u001b[0;34m\u001b[0m\u001b[0;34m\u001b[0m\u001b[0m\n",
      "\u001b[0;32m~/repos/ts_salobj/python/lsst/ts/salobj/topics/base_topic.py\u001b[0m in \u001b[0;36m__init__\u001b[0;34m(self, salinfo, name, sal_prefix)\u001b[0m\n\u001b[1;32m     95\u001b[0m                                                     salinfo.domain.topic_qos)\n\u001b[1;32m     96\u001b[0m         \u001b[0;32mexcept\u001b[0m \u001b[0mException\u001b[0m \u001b[0;32mas\u001b[0m \u001b[0me\u001b[0m\u001b[0;34m:\u001b[0m\u001b[0;34m\u001b[0m\u001b[0;34m\u001b[0m\u001b[0m\n\u001b[0;32m---> 97\u001b[0;31m             \u001b[0;32mraise\u001b[0m \u001b[0mRuntimeError\u001b[0m\u001b[0;34m(\u001b[0m\u001b[0;34mf\"Failed to create topic {salinfo.name}.{name}\"\u001b[0m\u001b[0;34m)\u001b[0m \u001b[0;32mfrom\u001b[0m \u001b[0me\u001b[0m\u001b[0;34m\u001b[0m\u001b[0;34m\u001b[0m\u001b[0m\n\u001b[0m\u001b[1;32m     98\u001b[0m \u001b[0;34m\u001b[0m\u001b[0m\n\u001b[1;32m     99\u001b[0m     \u001b[0;34m@\u001b[0m\u001b[0mproperty\u001b[0m\u001b[0;34m\u001b[0m\u001b[0;34m\u001b[0m\u001b[0m\n",
      "\u001b[0;31mRuntimeError\u001b[0m: Failed to create topic ATDome.abort"
     ]
    }
   ],
   "source": [
    "r3 = salobj.Remote(domain=salobj.Domain(), name=\"ATDomeTrajectory\")\n",
    "r4 = salobj.Remote(domain=salobj.Domain(), name=\"ATMCS\")\n",
    "r5 = salobj.Remote(domain=salobj.Domain(), name=\"ATDome\")"
   ]
  },
  {
   "cell_type": "code",
   "execution_count": null,
   "metadata": {},
   "outputs": [],
   "source": [
    "await salobj.set_summary_state(r3, salobj.State.ENABLED)\n",
    "await salobj.set_summary_state(r4, salobj.State.ENABLED)\n",
    "await salobj.set_summary_state(r5, salobj.State.ENABLED)"
   ]
  },
  {
   "cell_type": "code",
   "execution_count": null,
   "metadata": {},
   "outputs": [],
   "source": [
    "script = DomeTrajectoryMCS(index=50)"
   ]
  },
  {
   "cell_type": "code",
   "execution_count": null,
   "metadata": {},
   "outputs": [],
   "source": [
    "script.log.setLevel(logging.DEBUG)\n",
    "script.log.addHandler(logging.StreamHandler())"
   ]
  },
  {
   "cell_type": "code",
   "execution_count": null,
   "metadata": {},
   "outputs": [],
   "source": [
    "await script.start_task"
   ]
  },
  {
   "cell_type": "code",
   "execution_count": null,
   "metadata": {},
   "outputs": [],
   "source": [
    "config_dict=dict()\n",
    "config_data = script.cmd_configure.DataType()\n",
    "config_data.config = yaml.safe_dump(config_dict)\n",
    "config_data.private_seqName=1\n",
    "await script.do_configure(config_data)\n"
   ]
  },
  {
   "cell_type": "code",
   "execution_count": null,
   "metadata": {},
   "outputs": [],
   "source": [
    "print(\"*** run\")\n",
    "await script.do_run(None)\n",
    "print(\"*** done\")"
   ]
  }
 ],
 "metadata": {
  "kernelspec": {
   "display_name": "Python 3",
   "language": "python",
   "name": "python3"
  },
  "language_info": {
   "codemirror_mode": {
    "name": "ipython",
    "version": 3
   },
   "file_extension": ".py",
   "mimetype": "text/x-python",
   "name": "python",
   "nbconvert_exporter": "python",
   "pygments_lexer": "ipython3",
   "version": "3.7.4"
  }
 },
 "nbformat": 4,
 "nbformat_minor": 4
}
