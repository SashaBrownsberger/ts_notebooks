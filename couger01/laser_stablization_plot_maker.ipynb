{
 "cells": [
  {
   "cell_type": "code",
   "execution_count": 1,
   "metadata": {},
   "outputs": [
    {
     "name": "stderr",
     "output_type": "stream",
     "text": [
      "Could not import lsstcppimport; please ensure the base package has been built (not just setup).\n",
      "\n"
     ]
    }
   ],
   "source": [
    "import csv\n",
    "import pathlib\n",
    "import requests\n",
    "from astropy.io import fits\n",
    "import astropy.stats\n",
    "import numpy as np\n",
    "from scipy.optimize import curve_fit\n",
    "import matplotlib.pyplot as plt\n",
    "from lsst.ts import salobj\n",
    "import SALPY_Electrometer\n",
    "import datetime"
   ]
  },
  {
   "cell_type": "code",
   "execution_count": 10,
   "metadata": {},
   "outputs": [
    {
     "name": "stdout",
     "output_type": "stream",
     "text": [
      "# packages in environment at /opt/lsst/software/stack/python/miniconda3-4.3.21:\n",
      "#\n",
      "# Name                    Version                   Build  Channel\n",
      "alabaster                 0.7.12                   pypi_0    pypi\n",
      "asn1crypto                0.22.0                   py36_0  \n",
      "astropy                   2.0.1               np113py36_0  \n",
      "babel                     2.6.0                    pypi_0    pypi\n",
      "backcall                  0.1.0                    py36_0  \n",
      "blas                      1.0                    openblas  \n",
      "bleach                    3.1.0                    pypi_0    pypi\n",
      "bottleneck                1.2.1               np113py36_0  \n",
      "breathe                   4.4.0                    pypi_0    pypi\n",
      "ca-certificates           2018.12.5                     0  \n",
      "certifi                   2018.11.29               py36_0  \n",
      "cffi                      1.10.0                   py36_0  \n",
      "chardet                   3.0.4                    py36_1  \n",
      "click                     6.7                      pypi_0    pypi\n",
      "conda                     4.6.1                    py36_0  \n",
      "conda-env                 2.6.0                         1  \n",
      "cryptography              1.8.1                    py36_0  \n",
      "cycler                    0.10.0                   py36_0  \n",
      "cython                    0.26                     py36_0  \n",
      "dbus                      1.10.20                       0  \n",
      "decorator                 4.3.0                    py36_0  \n",
      "documenteer               0.4.2                    pypi_0    pypi\n",
      "docutils                  0.14                     pypi_0    pypi\n",
      "entrypoints               0.3                      py36_0  \n",
      "ephem                     3.7.6.0          py36h14c3975_1  \n",
      "expat                     2.1.0                         0  \n",
      "fontconfig                2.12.1                        3  \n",
      "freetype                  2.5.5                         2  \n",
      "future                    0.16.0                   py36_1  \n",
      "gitdb2                    2.0.5                    py36_0  \n",
      "gitpython                 2.1.11                   py36_0  \n",
      "glib                      2.50.2                        1  \n",
      "gmp                       6.1.2                h6c8ec71_1  \n",
      "gst-plugins-base          1.8.0                         0  \n",
      "gstreamer                 1.8.0                         0  \n",
      "icu                       54.1                          0  \n",
      "idna                      2.5                      py36_0  \n",
      "imagesize                 1.1.0                    pypi_0    pypi\n",
      "ipykernel                 5.1.0            py36h39e3cac_0  \n",
      "ipython                   7.2.0            py36h39e3cac_0  \n",
      "ipython_genutils          0.2.0                    py36_0  \n",
      "ipywidgets                7.4.2                    py36_0  \n",
      "jedi                      0.13.2                   py36_0  \n",
      "jinja2                    2.10                     py36_0  \n",
      "jpeg                      9b                            0  \n",
      "jsonschema                2.6.0                    py36_0  \n",
      "jupyter                   1.0.0                    py36_7  \n",
      "jupyter_client            5.2.4                    py36_0  \n",
      "jupyter_console           6.0.0                    py36_0  \n",
      "jupyter_core              4.4.0                    py36_0  \n",
      "jupyterlab                0.35.3                   py36_0  \n",
      "jupyterlab_server         0.2.0                    py36_0  \n",
      "libedit                   3.1                  heed3624_0  \n",
      "libffi                    3.2.1                         1  \n",
      "libgcc                    5.2.0                         0  \n",
      "libgcc-ng                 8.2.0                hdf63c60_1  \n",
      "libgfortran               3.0.0                         1  \n",
      "libgfortran-ng            7.3.0                hdf63c60_0  \n",
      "libiconv                  1.14                          0  \n",
      "libopenblas               0.3.3                h5a2b251_3  \n",
      "libpng                    1.6.30                        1  \n",
      "libsodium                 1.0.16               h1bed415_0  \n",
      "libstdcxx-ng              8.2.0                hdf63c60_1  \n",
      "libxcb                    1.12                          1  \n",
      "libxml2                   2.9.4                         0  \n",
      "lsst-sphinx-bootstrap-theme 0.2.0                    pypi_0    pypi\n",
      "markupsafe                1.1.0            py36h7b6447c_0  \n",
      "matplotlib                2.0.2               np113py36_0  \n",
      "mistune                   0.8.4            py36h7b6447c_0  \n",
      "nbconvert                 5.3.1                    py36_0  \n",
      "nbformat                  4.4.0                    py36_0  \n",
      "ncurses                   6.0                  h9df7e31_2  \n",
      "nomkl                     1.0                           0  \n",
      "notebook                  5.7.4                    py36_0  \n",
      "numexpr                   2.6.2           np113py36_nomkl_0  [nomkl]\n",
      "numpy                     1.13.1             py36_nomkl_0  [nomkl]\n",
      "numpydoc                  0.8.0                    pypi_0    pypi\n",
      "openblas                  0.2.19                        0  \n",
      "openssl                   1.0.2p               h14c3975_0  \n",
      "packaging                 16.8                     py36_0  \n",
      "pandas                    0.20.3                   py36_0  \n",
      "pandoc                    2.2.3.2                       0  \n",
      "pandocfilters             1.4.2                    py36_1  \n",
      "parso                     0.3.1                    py36_0  \n",
      "pcre                      8.39                          1  \n",
      "pexpect                   4.6.0                    py36_0  \n",
      "pickleshare               0.7.5                    py36_0  \n",
      "pip                       9.0.1                    py36_1  \n",
      "prometheus_client         0.5.0                    py36_0  \n",
      "prompt_toolkit            2.0.7                    py36_0  \n",
      "ptyprocess                0.6.0                    py36_0  \n",
      "py                        1.4.34                   py36_0  \n",
      "pycodestyle               2.5.0                    pypi_0    pypi\n",
      "pycosat                   0.6.3            py36h14c3975_0  \n",
      "pycparser                 2.17                     py36_0  \n",
      "pygments                  2.3.1                    py36_0  \n",
      "pyopenssl                 17.0.0                   py36_0  \n",
      "pyparsing                 2.1.4                    py36_0  \n",
      "pyqt                      5.6.0            py36h22d08a2_6  \n",
      "pysocks                   1.6.8                    py36_0  \n",
      "pytest                    3.2.1                    py36_0  \n",
      "python                    3.6.3                h0ef2715_3  \n",
      "python-dateutil           2.6.1                    py36_0  \n",
      "pytz                      2017.2                   py36_0  \n",
      "pyyaml                    3.12                     py36_0  \n",
      "pyzmq                     17.1.2           py36h14c3975_0  \n",
      "qt                        5.6.2                         5  \n",
      "qtconsole                 4.4.3                    py36_0  \n",
      "readline                  7.0                  ha6073c6_4  \n",
      "requests                  2.21.0                   py36_0  \n",
      "ruamel_yaml               0.11.14                  py36_1  \n",
      "scipy                     1.2.0            py36he2b7bc3_0  \n",
      "send2trash                1.5.0                    py36_0  \n",
      "setuptools                36.4.0                   py36_0  \n",
      "sip                       4.18                     py36_0  \n",
      "six                       1.10.0                   py36_0  \n",
      "smmap2                    2.0.5                    py36_0  \n",
      "snowballstemmer           1.2.1                    pypi_0    pypi\n",
      "sphinx                    1.7.9                    pypi_0    pypi\n",
      "sphinx-automodapi         0.7                      pypi_0    pypi\n",
      "sphinx-prompt             1.0.0                    pypi_0    pypi\n",
      "sphinxcontrib-websupport  1.1.0                    pypi_0    pypi\n",
      "sqlalchemy                1.2.16           py36h7b6447c_0  \n",
      "sqlite                    3.23.1               he433501_0  \n",
      "terminado                 0.8.1                    py36_1  \n",
      "testpath                  0.4.2                    py36_0  \n",
      "tk                        8.6.8                hbc83047_0  \n",
      "tornado                   4.5.3                    py36_0  \n",
      "traitlets                 4.3.2                    py36_0  \n",
      "urllib3                   1.24.1                   py36_0  \n",
      "wcwidth                   0.1.7                    py36_0  \n",
      "webencodings              0.5.1                    py36_1  \n",
      "wheel                     0.29.0                   py36_0  \n",
      "widgetsnbextension        3.4.2                    py36_0  \n",
      "xz                        5.2.4                h14c3975_4  \n",
      "yaml                      0.1.6                         0  \n",
      "zeromq                    4.2.5                hf484d3e_1  \n",
      "zlib                      1.2.11               h7b6447c_3  \n"
     ]
    }
   ],
   "source": [
    "!conda list"
   ]
  },
  {
   "cell_type": "code",
   "execution_count": 3,
   "metadata": {},
   "outputs": [
    {
     "name": "stdout",
     "output_type": "stream",
     "text": [
      "/opt/rh/devtoolset-6/root/usr/lib64/python2.7/site-packages:/opt/rh/devtoolset-6/root/usr/lib/python2.7/site-packages:/home/saluser/repos/ts_scriptqueue/python:/home/saluser/repos/ts_salobj/python:/home/saluser/repos/ts_sal/python:/opt/lsst/software/stack/stack/miniconda3-4.3.21-10a4fa6/Linux64/meas_mosaic/16.0+1/python:/opt/lsst/software/stack/stack/miniconda3-4.3.21-10a4fa6/Linux64/treecorr/3.2.3.lsst3+2/lib/python:/opt/lsst/software/stack/stack/miniconda3-4.3.21-10a4fa6/Linux64/validate_drp/16.0+1/python:/opt/lsst/software/stack/stack/miniconda3-4.3.21-10a4fa6/Linux64/cp_pipe/16.0+1/python:/opt/lsst/software/stack/stack/miniconda3-4.3.21-10a4fa6/Linux64/display_matplotlib/16.0+1/python:/opt/lsst/software/stack/stack/miniconda3-4.3.21-10a4fa6/Linux64/ws4py/0.4.2+3/lib/python:/opt/lsst/software/stack/stack/miniconda3-4.3.21-10a4fa6/Linux64/firefly_client/lsst-dev-gce6eb6a399/lib/python:/opt/lsst/software/stack/stack/miniconda3-4.3.21-10a4fa6/Linux64/display_firefly/16.0+1/python:/opt/lsst/software/stack/stack/miniconda3-4.3.21-10a4fa6/Linux64/verify_metrics/16.0/python:/opt/lsst/software/stack/stack/miniconda3-4.3.21-10a4fa6/Linux64/requests/2.9.1.lsst1+4/lib/python:/opt/lsst/software/stack/stack/miniconda3-4.3.21-10a4fa6/Linux64/verify/16.0/python:/opt/lsst/software/stack/stack/miniconda3-4.3.21-10a4fa6/Linux64/jointcal/16.0+1/python:/opt/lsst/software/stack/stack/miniconda3-4.3.21-10a4fa6/Linux64/synpipe/16.0+1/python:/opt/lsst/software/stack/stack/miniconda3-4.3.21-10a4fa6/Linux64/obs_monocam/16.0+1/python:/opt/lsst/software/stack/stack/miniconda3-4.3.21-10a4fa6/Linux64/obs_subaru/16.0+1/python:/opt/lsst/software/stack/stack/miniconda3-4.3.21-10a4fa6/Linux64/obs_decam/16.0+1/python:/opt/lsst/software/stack/stack/miniconda3-4.3.21-10a4fa6/Linux64/obs_ctio0m9/16.0+1/python:/opt/lsst/software/stack/stack/miniconda3-4.3.21-10a4fa6/Linux64/obs_comCam/16.0+1/python:/opt/lsst/software/stack/stack/miniconda3-4.3.21-10a4fa6/Linux64/obs_cfht/16.0+1/python:/opt/lsst/software/stack/stack/miniconda3-4.3.21-10a4fa6/Linux64/mpi4py/2.0.0+6/lib/python:/opt/lsst/software/stack/stack/miniconda3-4.3.21-10a4fa6/Linux64/ctrl_pool/16.0+1/python:/opt/lsst/software/stack/stack/miniconda3-4.3.21-10a4fa6/Linux64/pipe_drivers/16.0+1/python:/opt/lsst/software/stack/stack/miniconda3-4.3.21-10a4fa6/Linux64/galsim/1.6.0.lsst/lib/python:/opt/lsst/software/stack/stack/miniconda3-4.3.21-10a4fa6/Linux64/galsim/1.6.0.lsst:/opt/lsst/software/stack/stack/miniconda3-4.3.21-10a4fa6/Linux64/meas_extensions_shapeHSM/16.0+1/python:/opt/lsst/software/stack/stack/miniconda3-4.3.21-10a4fa6/Linux64/meas_extensions_photometryKron/16.0+1/python:/opt/lsst/software/stack/stack/miniconda3-4.3.21-10a4fa6/Linux64/ctrl_orca/16.0/python:/opt/lsst/software/stack/stack/miniconda3-4.3.21-10a4fa6/Linux64/ctrl_execute/16.0/python:/opt/lsst/software/stack/stack/miniconda3-4.3.21-10a4fa6/Linux64/psfex/16.0/python:/opt/lsst/software/stack/stack/miniconda3-4.3.21-10a4fa6/Linux64/meas_extensions_psfex/16.0+1/python:/opt/lsst/software/stack/stack/miniconda3-4.3.21-10a4fa6/Linux64/display_ds9/16.0+1/python:/opt/lsst/software/stack/stack/miniconda3-4.3.21-10a4fa6/Linux64/meas_extensions_simpleShape/16.0+1/python:/opt/lsst/software/stack/stack/miniconda3-4.3.21-10a4fa6/Linux64/obs_sdss/16.0+1/python:/opt/lsst/software/stack/stack/miniconda3-4.3.21-10a4fa6/Linux64/obs_lsstSim/16.0+1/python:/opt/lsst/software/stack/stack/miniconda3-4.3.21-10a4fa6/Linux64/pykg_config/1.3.0+4/lib/python:/opt/lsst/software/stack/stack/miniconda3-4.3.21-10a4fa6/Linux64/healpy/1.10.3.lsst1+6/lib/python:/opt/lsst/software/stack/stack/miniconda3-4.3.21-10a4fa6/Linux64/skymap/16.0+1/python:/opt/lsst/software/stack/stack/miniconda3-4.3.21-10a4fa6/Linux64/coadd_chisquared/16.0+1/python:/opt/lsst/software/stack/stack/miniconda3-4.3.21-10a4fa6/Linux64/lmfit/0.9.3+8/lib/python:/opt/lsst/software/stack/stack/miniconda3-4.3.21-10a4fa6/Linux64/ip_diffim/16.0+1/python:/opt/lsst/software/stack/stack/miniconda3-4.3.21-10a4fa6/Linux64/ip_isr/16.0+1/python:/opt/lsst/software/stack/stack/miniconda3-4.3.21-10a4fa6/Linux64/meas_extensions_astrometryNet/16.0+1/python:/opt/lsst/software/stack/stack/miniconda3-4.3.21-10a4fa6/Linux64/astrometry_net/0.67.123ff3e.lsst1+8/lib/python:/opt/lsst/software/stack/stack/miniconda3-4.3.21-10a4fa6/Linux64/meas_astrom/16.0+1/python:/opt/lsst/software/stack/stack/miniconda3-4.3.21-10a4fa6/Linux64/pipe_tasks/16.0+1/python:/opt/lsst/software/stack/stack/miniconda3-4.3.21-10a4fa6/Linux64/shapelet/16.0+1/python:/opt/lsst/software/stack/stack/miniconda3-4.3.21-10a4fa6/Linux64/meas_modelfit/16.0+1/python:/opt/lsst/software/stack/stack/miniconda3-4.3.21-10a4fa6/Linux64/stsci_distutils/0.3.7.lsst1+5/lib/python:/opt/lsst/software/stack/stack/miniconda3-4.3.21-10a4fa6/Linux64/python_d2to1/0.2.12.lsst2+4/lib/python:/opt/lsst/software/stack/stack/miniconda3-4.3.21-10a4fa6/Linux64/pyfits/3.4.0+11/lib/python:/opt/lsst/software/stack/stack/miniconda3-4.3.21-10a4fa6/Linux64/obs_base/16.0+1/python:/opt/lsst/software/stack/stack/miniconda3-4.3.21-10a4fa6/Linux64/obs_test/16.0+1/python:/opt/lsst/software/stack/stack/miniconda3-4.3.21-10a4fa6/Linux64/pipe_base/16.0+1/python:/opt/lsst/software/stack/stack/miniconda3-4.3.21-10a4fa6/Linux64/coadd_utils/16.0+1/python:/opt/lsst/software/stack/stack/miniconda3-4.3.21-10a4fa6/Linux64/meas_base/16.0+1/python:/opt/lsst/software/stack/stack/miniconda3-4.3.21-10a4fa6/Linux64/esutil/0.6.2.5.lsst1+2/lib/python:/opt/lsst/software/stack/stack/miniconda3-4.3.21-10a4fa6/Linux64/meas_algorithms/16.0+1/python:/opt/lsst/software/stack/stack/miniconda3-4.3.21-10a4fa6/Linux64/astshim/16.0+1/python:/opt/lsst/software/stack/stack/miniconda3-4.3.21-10a4fa6/Linux64/sphgeom/16.0/python:/opt/lsst/software/stack/stack/miniconda3-4.3.21-10a4fa6/Linux64/ndarray/1.4.2.lsst2+2/python:/opt/lsst/software/stack/stack/miniconda3-4.3.21-10a4fa6/Linux64/geom/16.0+1/python:/opt/lsst/software/stack/stack/miniconda3-4.3.21-10a4fa6/Linux64/pex_config/16.0/python:/opt/lsst/software/stack/stack/miniconda3-4.3.21-10a4fa6/Linux64/pyyaml/3.11.lsst2+2/lib/python:/opt/lsst/software/stack/stack/miniconda3-4.3.21-10a4fa6/Linux64/pex_policy/16.0/python:/opt/lsst/software/stack/stack/miniconda3-4.3.21-10a4fa6/Linux64/log/16.0/python:/opt/lsst/software/stack/stack/miniconda3-4.3.21-10a4fa6/Linux64/daf_persistence/16.0/python:/opt/lsst/software/stack/stack/miniconda3-4.3.21-10a4fa6/Linux64/python_psutil/5.4.3+2/lib/python:/opt/lsst/software/stack/stack/miniconda3-4.3.21-10a4fa6/Linux64/pex_exceptions/16.0/python:/opt/lsst/software/stack/stack/miniconda3-4.3.21-10a4fa6/Linux64/pytest_session2file/0.1.9+9/lib/python:/opt/lsst/software/stack/stack/miniconda3-4.3.21-10a4fa6/Linux64/python_execnet/1.4.1.lsst4+1/lib/python:/opt/lsst/software/stack/stack/miniconda3-4.3.21-10a4fa6/Linux64/pytest_forked/0.2.lsst4+1/lib/python:/opt/lsst/software/stack/stack/miniconda3-4.3.21-10a4fa6/Linux64/pytest_xdist/1.20.1.lsst4+1/lib/python:/opt/lsst/software/stack/stack/miniconda3-4.3.21-10a4fa6/Linux64/pep8_naming/0.4.1+3/lib/python:/opt/lsst/software/stack/stack/miniconda3-4.3.21-10a4fa6/Linux64/pyflakes/1.6.0+2/lib/python:/opt/lsst/software/stack/stack/miniconda3-4.3.21-10a4fa6/Linux64/pycodestyle/2.3.1+3/lib/python:/opt/lsst/software/stack/stack/miniconda3-4.3.21-10a4fa6/Linux64/python_mccabe/0.6.1+9/lib/python:/opt/lsst/software/stack/stack/miniconda3-4.3.21-10a4fa6/Linux64/flake8/3.5.0+8/lib/python:/opt/lsst/software/stack/stack/miniconda3-4.3.21-10a4fa6/Linux64/pytest_flake8/0.9.1+8/lib/python:/opt/lsst/software/stack/stack/miniconda3-4.3.21-10a4fa6/Linux64/pytest/3.2.0.lsst4+1/lib/python:/opt/lsst/software/stack/stack/miniconda3-4.3.21-10a4fa6/Linux64/python_future/0.16.0+3/lib/python:/opt/lsst/software/stack/stack/miniconda3-4.3.21-10a4fa6/Linux64/sconsUtils/16.0/python:/opt/lsst/software/stack/stack/miniconda3-4.3.21-10a4fa6/Linux64/base/16.0/python:/opt/lsst/software/stack/stack/miniconda3-4.3.21-10a4fa6/Linux64/utils/16.0/python:/opt/lsst/software/stack/stack/miniconda3-4.3.21-10a4fa6/Linux64/daf_base/16.0/python:/opt/lsst/software/stack/stack/miniconda3-4.3.21-10a4fa6/Linux64/afw/16.0+1/python:/opt/lsst/software/stack/stack/miniconda3-4.3.21-10a4fa6/Linux64/meas_deblender/16.0+1/python:/opt/lsst/software/stack/eups/2.1.4/python:/opt/lsst/software/stack/stack/miniconda3-4.3.21-10a4fa6/Linux64/meas_extensions_convolved/16.0+1/python:/home/saluser/repos/ts_sal/test/lib\n"
     ]
    }
   ],
   "source": [
    "import asyncio\n",
    "import logging\n",
    "        \n",
    "from lsst.ts import salobj\n",
    "from lsst.ts.standardscripts.auxtel import calsys_take_narrowband_data\n",
    "\n",
    "async def main(index):\n",
    "    script = calsys_take_narrowband_data.CalSysTakeNarrowbandData(index=index)\n",
    "    script.log.setLevel(logging.INFO)\n",
    "    script.log.addHandler(logging.StreamHandler())\n",
    "    print(\"*** configure\")\n",
    "    config_data = script.cmd_configure.DataType()\n",
    "    config_data.config = \"\"\"wavelengths:\n",
    "    - 432.0\n",
    "    integration_times:\n",
    "    - 1.0\n",
    "    fiber_spectrograph_integration_times:\n",
    "    - .2\n",
    "    mono_exit_slit_widths: .15\n",
    "    mono_entrance_slit_widths: 0.4\n",
    "    latiss_filter: 0\n",
    "    file_location: \"~/develop/calsys_take_narrowband_data_fits_files\"\n",
    "    setup_spectrograph: False\"\"\"\n",
    "    config_id_data = salobj.CommandIdData(1, config_data)\n",
    "    await script.do_configure(config_id_data)\n",
    "    print(\"*** run\")\n",
    "    await script.do_run(None)\n",
    "    print(\"*** done\")\n",
    "asyncio.get_event_loop().run_until_complete(main(index=1))"
   ]
  },
  {
   "cell_type": "code",
   "execution_count": 142,
   "metadata": {},
   "outputs": [],
   "source": [
    "with open(\"laser_stablization.txt\",\"r\") as f, open(\"laser_stablization_plot.txt\",\"w\") as ldf:\n",
    "    for line in f:\n",
    "        ldf.write(line)"
   ]
  },
  {
   "cell_type": "code",
   "execution_count": 143,
   "metadata": {},
   "outputs": [],
   "source": [
    "with open(f\"laser_stablization_plot.txt\",newline='') as csvfile:\n",
    "            data_reader = csv.DictReader(csvfile)\n",
    "            timestamps = []\n",
    "            fits_file = []\n",
    "            for row in data_reader:\n",
    "                electrometer_url = row[\"fits_file\"]\n",
    "                electrometer_url_name = electrometer_url.split(\"/\")[-1]\n",
    "                electrometer_fits_request = requests.get(electrometer_url)\n",
    "                with open(f\"/home/saluser/develop/es_stablization_laser_fits_files/electrometer_fits_files/{electrometer_url_name}\",\"wb\") as file:\n",
    "                    file.write(electrometer_fits_request.content)\n",
    "                timestamp = row[\"timestamp\"]\n",
    "                timestamps.append(timestamp)\n",
    "                fits_file.append(electrometer_url_name)"
   ]
  },
  {
   "cell_type": "code",
   "execution_count": 144,
   "metadata": {},
   "outputs": [
    {
     "name": "stdout",
     "output_type": "stream",
     "text": [
      "something\n",
      "1-1553891561.109049.fits\n",
      "1-1553891648.202404.fits\n",
      "1-1553891735.389775.fits\n",
      "1-1553891822.558959.fits\n",
      "1-1553891909.728268.fits\n",
      "1-1553892019.816102.fits\n",
      "1-1553892106.973589.fits\n",
      "1-1553892194.152036.fits\n",
      "1-1553892281.311185.fits\n",
      "1-1553892368.466548.fits\n",
      "1-1553892455.639558.fits\n",
      "1-1553892542.795163.fits\n",
      "1-1553892629.937869.fits\n",
      "1-1553892717.0971.fits\n",
      "1-1553892804.200704.fits\n",
      "1-1553892891.352299.fits\n",
      "1-1553892978.526899.fits\n",
      "1-1553893065.682042.fits\n",
      "1-1553893152.845093.fits\n",
      "1-1553893239.989451.fits\n",
      "1-1553893327.129567.fits\n",
      "1-1553893414.304534.fits\n",
      "1-1553893501.491312.fits\n",
      "1-1553893588.630893.fits\n",
      "1-1553893675.76963.fits\n",
      "1-1553893762.969092.fits\n",
      "1-1553893850.121099.fits\n",
      "1-1553893937.275783.fits\n",
      "1-1553894024.418821.fits\n",
      "1-1553894111.618085.fits\n",
      "1-1553894198.785846.fits\n",
      "1-1553894286.00576.fits\n",
      "1-1553894373.262312.fits\n",
      "1-1553894460.435955.fits\n",
      "1-1553894547.606775.fits\n",
      "1-1553894634.755307.fits\n",
      "1-1553894721.902878.fits\n",
      "1-1553894809.096349.fits\n",
      "1-1553894896.304358.fits\n",
      "1-1553894983.453774.fits\n",
      "1-1553895070.6058.fits\n",
      "1-1553895157.763754.fits\n",
      "1-1553895535.506017.fits\n",
      "1-1553895623.690901.fits\n",
      "1-1553895711.902741.fits\n",
      "1-1553895800.111712.fits\n",
      "1-1553895888.327764.fits\n",
      "1-1553895976.522899.fits\n",
      "1-1553896064.727516.fits\n",
      "1-1553896152.951068.fits\n",
      "1-1553896241.173135.fits\n",
      "1-1553896329.395864.fits\n",
      "1-1553896417.598426.fits\n",
      "1-1553896505.838957.fits\n",
      "1-1553896594.052011.fits\n",
      "1-1553896682.278555.fits\n",
      "1-1553896770.518151.fits\n",
      "1-1553896858.761473.fits\n",
      "1-1553896946.956578.fits\n",
      "1-1553897035.185427.fits\n",
      "1-1553897123.393048.fits\n",
      "1-1553897211.601461.fits\n",
      "1-1553897299.815584.fits\n",
      "1-1553897388.024253.fits\n",
      "1-1553897476.216865.fits\n",
      "1-1553897564.412122.fits\n",
      "1-1553897652.653296.fits\n",
      "1-1553897740.888736.fits\n",
      "1-1553897829.095743.fits\n",
      "1-1553897917.304485.fits\n",
      "1-1553898005.498791.fits\n",
      "1-1553898093.726497.fits\n",
      "1-1553898181.950899.fits\n",
      "1-1553898270.12758.fits\n",
      "1-1553898358.300373.fits\n",
      "1-1553898446.486408.fits\n",
      "1-1553898534.681462.fits\n",
      "1-1553898622.950193.fits\n",
      "1-1553898711.173083.fits\n",
      "1-1553898799.40214.fits\n",
      "1-1553898887.629181.fits\n",
      "1-1553898975.831548.fits\n",
      "1-1553899064.044111.fits\n",
      "1-1553899152.295387.fits\n",
      "1-1553899240.502409.fits\n",
      "1-1553899328.700437.fits\n",
      "1-1553899416.909982.fits\n",
      "1-1553899505.107911.fits\n",
      "1-1553899593.30779.fits\n",
      "1-1553899681.497767.fits\n",
      "1-1553899769.705359.fits\n",
      "1-1553899857.928683.fits\n",
      "1-1553899946.124496.fits\n",
      "1-1553900034.316245.fits\n",
      "1-1553900122.528934.fits\n",
      "1-1553900210.753801.fits\n",
      "1-1553900298.956161.fits\n",
      "1-1553900387.19287.fits\n",
      "1-1553900475.387045.fits\n",
      "1-1553900563.607371.fits\n",
      "1-1553900651.835543.fits\n",
      "1-1553900740.009907.fits\n",
      "1-1553900828.216985.fits\n",
      "1-1553900916.425454.fits\n",
      "1-1553901004.623839.fits\n",
      "1-1553901092.82364.fits\n",
      "1-1553901181.022776.fits\n",
      "1-1553901269.229699.fits\n",
      "1-1553901357.408537.fits\n",
      "1-1553901445.587063.fits\n",
      "1-1553901533.775035.fits\n",
      "1-1553901621.972154.fits\n",
      "1-1553901710.181043.fits\n",
      "1-1553901798.386985.fits\n",
      "1-1553901886.612538.fits\n"
     ]
    }
   ],
   "source": [
    "p = pathlib.Path(\"/home/saluser/develop/es_stablization_laser_fits_files/electrometer_fits_files\")\n",
    "l = fits_file\n",
    "print(\"something\")\n",
    "xtime=[]\n",
    "xtime_filtered = []\n",
    "yintensity_filtered=[]\n",
    "yintensity_std= []\n",
    "yintensity=[]\n",
    "\n",
    "for index,f in enumerate(l):\n",
    "    print(f)\n",
    "    hdul = fits.open(p.joinpath(f))\n",
    "    data=hdul[0].data\n",
    "    xtime_this_file = []\n",
    "    yintensity_this_file = []\n",
    "    for time in data[0]:\n",
    "        xtime.append(float(timestamps[index])+time)\n",
    "        xtime_this_file.append(time)\n",
    "        \n",
    "    for intensity in data[1]:\n",
    "        yintensity.append(intensity)\n",
    "        yintensity_this_file.append(intensity)\n",
    "    \n",
    "    xtime_filtered.append(np.median(xtime_this_file)+float(timestamps[index])-float(timestamps[0]) )\n",
    "    yintensity_filtered.append(np.median(yintensity_this_file))\n",
    "    yintensity_std.append(np.std(yintensity_this_file))\n"
   ]
  },
  {
   "cell_type": "code",
   "execution_count": 141,
   "metadata": {},
   "outputs": [
    {
     "data": {
      "text/plain": [
       "(array([  1.00000000e+00,   2.00000000e+00,   4.00000000e+00,\n",
       "          1.40000000e+01,   2.30000000e+01,   5.60000000e+01,\n",
       "          1.24000000e+02,   2.13000000e+02,   3.65000000e+02,\n",
       "          6.74000000e+02,   1.08300000e+03,   1.62900000e+03,\n",
       "          2.53300000e+03,   3.82800000e+03,   5.41500000e+03,\n",
       "          7.58800000e+03,   9.83400000e+03,   1.25080000e+04,\n",
       "          1.55710000e+04,   1.85990000e+04,   2.19510000e+04,\n",
       "          2.54550000e+04,   2.81790000e+04,   3.16550000e+04,\n",
       "          3.49800000e+04,   3.80890000e+04,   3.96990000e+04,\n",
       "          4.13870000e+04,   4.27280000e+04,   4.30650000e+04,\n",
       "          4.17270000e+04,   3.93040000e+04,   3.57370000e+04,\n",
       "          3.12600000e+04,   2.59620000e+04,   2.08190000e+04,\n",
       "          1.56350000e+04,   1.13380000e+04,   7.57700000e+03,\n",
       "          5.01200000e+03,   3.09600000e+03,   1.73800000e+03,\n",
       "          9.29000000e+02,   5.37000000e+02,   2.54000000e+02,\n",
       "          1.35000000e+02,   6.20000000e+01,   1.30000000e+01,\n",
       "          2.00000000e+00,   5.00000000e+00]),\n",
       " array([ -1.60870000e-08,  -1.59561800e-08,  -1.58253600e-08,\n",
       "         -1.56945400e-08,  -1.55637200e-08,  -1.54329000e-08,\n",
       "         -1.53020800e-08,  -1.51712600e-08,  -1.50404400e-08,\n",
       "         -1.49096200e-08,  -1.47788000e-08,  -1.46479800e-08,\n",
       "         -1.45171600e-08,  -1.43863400e-08,  -1.42555200e-08,\n",
       "         -1.41247000e-08,  -1.39938800e-08,  -1.38630600e-08,\n",
       "         -1.37322400e-08,  -1.36014200e-08,  -1.34706000e-08,\n",
       "         -1.33397800e-08,  -1.32089600e-08,  -1.30781400e-08,\n",
       "         -1.29473200e-08,  -1.28165000e-08,  -1.26856800e-08,\n",
       "         -1.25548600e-08,  -1.24240400e-08,  -1.22932200e-08,\n",
       "         -1.21624000e-08,  -1.20315800e-08,  -1.19007600e-08,\n",
       "         -1.17699400e-08,  -1.16391200e-08,  -1.15083000e-08,\n",
       "         -1.13774800e-08,  -1.12466600e-08,  -1.11158400e-08,\n",
       "         -1.09850200e-08,  -1.08542000e-08,  -1.07233800e-08,\n",
       "         -1.05925600e-08,  -1.04617400e-08,  -1.03309200e-08,\n",
       "         -1.02001000e-08,  -1.00692800e-08,  -9.93846000e-09,\n",
       "         -9.80764000e-09,  -9.67682000e-09,  -9.54600000e-09]),\n",
       " <a list of 50 Patch objects>)"
      ]
     },
     "execution_count": 141,
     "metadata": {},
     "output_type": "execute_result"
    },
    {
     "data": {
      "image/png": "[encoded data removed]",
      "text/plain": [
       "<matplotlib.figure.Figure at 0x7f051731c470>"
      ]
     },
     "metadata": {
      "needs_background": "light"
     },
     "output_type": "display_data"
    }
   ],
   "source": [
    "plt.hist(yintensity,bins=50)"
   ]
  },
  {
   "cell_type": "code",
   "execution_count": 145,
   "metadata": {},
   "outputs": [
    {
     "data": {
      "image/png": "[encoded data removed]",
      "text/plain": [
       "<matplotlib.figure.Figure at 0x7f051aaf7ac8>"
      ]
     },
     "metadata": {
      "needs_background": "light"
     },
     "output_type": "display_data"
    }
   ],
   "source": [
    "#plt.plot(xtime_filtered,yintensity_filtered,'b+:',label='data')\n",
    "plt.errorbar(xtime_filtered,yintensity_filtered,fmt='b+:',label='data')\n",
    "#plt.ylim([0,2000])\n",
    "plt.legend()\n",
    "#plt.xlim([-10,40]+xtime[0])\n",
    "plt.title('Time vs. Intensity')\n",
    "plt.ylabel('Intensity [A]')\n",
    "plt.xlabel('Local Time [Posix Seconds]')\n",
    "plt.show()"
   ]
  },
  {
   "cell_type": "code",
   "execution_count": 61,
   "metadata": {},
   "outputs": [
    {
     "data": {
      "text/plain": [
       "-1.3853e-08"
      ]
     },
     "execution_count": 61,
     "metadata": {},
     "output_type": "execute_result"
    }
   ],
   "source": [
    "np.median(yintensity)"
   ]
  },
  {
   "cell_type": "code",
   "execution_count": 64,
   "metadata": {},
   "outputs": [
    {
     "data": {
      "text/plain": [
       "5.4727286055145033e-10"
      ]
     },
     "execution_count": 64,
     "metadata": {},
     "output_type": "execute_result"
    }
   ],
   "source": [
    "np.std(yintensity)"
   ]
  },
  {
   "cell_type": "code",
   "execution_count": null,
   "metadata": {},
   "outputs": [],
   "source": []
  }
 ],
 "metadata": {
  "kernelspec": {
   "display_name": "Python 3",
   "language": "python",
   "name": "python3"
  },
  "language_info": {
   "codemirror_mode": {
    "name": "ipython",
    "version": 3
   },
   "file_extension": ".py",
   "mimetype": "text/x-python",
   "name": "python",
   "nbconvert_exporter": "python",
   "pygments_lexer": "ipython3",
   "version": "3.6.3"
  }
 },
 "nbformat": 4,
 "nbformat_minor": 2
}
