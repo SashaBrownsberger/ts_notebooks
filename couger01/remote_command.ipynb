{
 "cells": [
  {
   "cell_type": "code",
   "execution_count": 1,
   "metadata": {},
   "outputs": [
    {
     "name": "stderr",
     "output_type": "stream",
     "text": [
      "Could not import lsstcppimport; please ensure the base package has been built (not just setup).\n",
      "\n"
     ]
    }
   ],
   "source": [
    "import SALPY_LinearStage\n",
    "import SALPY_Electrometer\n",
    "import SALPY_ATMonochromator\n",
    "import SALPY_FiberSpectrograph\n",
    "import SALPY_ATSpectrograph\n",
    "from lsst.ts import salobj\n",
    "import asyncio"
   ]
  },
  {
   "cell_type": "code",
   "execution_count": 164,
   "metadata": {},
   "outputs": [],
   "source": [
    "ls_1_remote = salobj.Remote(SALPY_LinearStage,1)\n",
    "ls_2_remote = salobj.Remote(SALPY_LinearStage,2)\n",
    "electrometer_remote = salobj.Remote(SALPY_Electrometer,1)\n",
    "monochromator_remote = salobj.Remote(SALPY_ATMonochromator)\n",
    "fiber_spectrograph_remote = salobj.Remote(SALPY_FiberSpectrograph)\n",
    "at_spectrograph_remote = salobj.Remote(SALPY_ATSpectrograph)"
   ]
  },
  {
   "cell_type": "code",
   "execution_count": 3,
   "metadata": {},
   "outputs": [],
   "source": [
    "async def cmd(cbp_remote,name,parameters=[]):\n",
    "    cmd_topic = getattr(cbp_remote,f\"cmd_{name}\").DataType()\n",
    "    for parameter in parameters:\n",
    "        setattr(cmd_topic,parameter[0],parameter[1])\n",
    "    cmd_ack = await getattr(cbp_remote,f\"cmd_{name}\").start(cmd_topic,timeout=10)"
   ]
  },
  {
   "cell_type": "code",
   "execution_count": 16,
   "metadata": {},
   "outputs": [],
   "source": [
    "start = await cmd(ls_2_remote,\"start\")"
   ]
  },
  {
   "cell_type": "code",
   "execution_count": 17,
   "metadata": {},
   "outputs": [],
   "source": [
    "enable = await cmd(ls_2_remote,\"enable\")"
   ]
  },
  {
   "cell_type": "code",
   "execution_count": 44,
   "metadata": {},
   "outputs": [],
   "source": [
    "get_home_1 = await cmd(ls_1_remote,\"getHome\")\n",
    "get_home_2 = await cmd(ls_2_remote,\"getHome\")"
   ]
  },
  {
   "cell_type": "code",
   "execution_count": 158,
   "metadata": {},
   "outputs": [
    {
     "name": "stderr",
     "output_type": "stream",
     "text": [
      "Task exception was never retrieved\n",
      "future: <Task finished coro=<_CommandInfo._start_timeout() done, defined at /home/saluser/repos/ts_salobj/python/lsst/ts/salobj/topics/remote_command.py:99> exception=CancelledError()>\n",
      "concurrent.futures._base.CancelledError\n"
     ]
    },
    {
     "ename": "AckError",
     "evalue": "Command failed with ack code -301",
     "output_type": "error",
     "traceback": [
      "\u001b[0;31m---------------------------------------------------------------------------\u001b[0m",
      "\u001b[0;31mAckError\u001b[0m                                  Traceback (most recent call last)",
      "\u001b[0;32mcell_name\u001b[0m in \u001b[0;36masync-def-wrapper\u001b[0;34m()\u001b[0m\n",
      "\u001b[0;32m<ipython-input-33-33fc7b925318>\u001b[0m in \u001b[0;36mcmd\u001b[0;34m(cbp_remote, name, parameters)\u001b[0m\n\u001b[1;32m      3\u001b[0m     \u001b[0;32mfor\u001b[0m \u001b[0mparameter\u001b[0m \u001b[0;32min\u001b[0m \u001b[0mparameters\u001b[0m\u001b[0;34m:\u001b[0m\u001b[0;34m\u001b[0m\u001b[0m\n\u001b[1;32m      4\u001b[0m         \u001b[0msetattr\u001b[0m\u001b[0;34m(\u001b[0m\u001b[0mcmd_topic\u001b[0m\u001b[0;34m,\u001b[0m\u001b[0mparameter\u001b[0m\u001b[0;34m[\u001b[0m\u001b[0;36m0\u001b[0m\u001b[0;34m]\u001b[0m\u001b[0;34m,\u001b[0m\u001b[0mparameter\u001b[0m\u001b[0;34m[\u001b[0m\u001b[0;36m1\u001b[0m\u001b[0;34m]\u001b[0m\u001b[0;34m)\u001b[0m\u001b[0;34m\u001b[0m\u001b[0m\n\u001b[0;32m----> 5\u001b[0;31m     \u001b[0mcmd_ack\u001b[0m \u001b[0;34m=\u001b[0m \u001b[0mawait\u001b[0m \u001b[0mgetattr\u001b[0m\u001b[0;34m(\u001b[0m\u001b[0mcbp_remote\u001b[0m\u001b[0;34m,\u001b[0m\u001b[0;34mf\"cmd_{name}\"\u001b[0m\u001b[0;34m)\u001b[0m\u001b[0;34m.\u001b[0m\u001b[0mstart\u001b[0m\u001b[0;34m(\u001b[0m\u001b[0mcmd_topic\u001b[0m\u001b[0;34m,\u001b[0m\u001b[0mtimeout\u001b[0m\u001b[0;34m=\u001b[0m\u001b[0;36m10\u001b[0m\u001b[0;34m)\u001b[0m\u001b[0;34m\u001b[0m\u001b[0m\n\u001b[0m",
      "\u001b[0;31mAckError\u001b[0m: Command failed with ack code -301"
     ]
    }
   ],
   "source": [
    "await cmd(electrometer_remote,\"\")"
   ]
  },
  {
   "cell_type": "code",
   "execution_count": null,
   "metadata": {},
   "outputs": [],
   "source": [
    "ss = await monochromator_remote.evt_summaryState.next(flush=True)"
   ]
  },
  {
   "cell_type": "code",
   "execution_count": 162,
   "metadata": {},
   "outputs": [
    {
     "name": "stderr",
     "output_type": "stream",
     "text": [
      "Task exception was never retrieved\n",
      "future: <Task finished coro=<_CommandInfo._start_timeout() done, defined at /home/saluser/repos/ts_salobj/python/lsst/ts/salobj/topics/remote_command.py:99> exception=CancelledError()>\n",
      "concurrent.futures._base.CancelledError\n"
     ]
    },
    {
     "name": "stdout",
     "output_type": "stream",
     "text": [
      "\n"
     ]
    }
   ],
   "source": [
    "try:\n",
    "    await cmd(monochromator_remote,\"enable\")\n",
    "except salobj.AckError as ae:\n",
    "    print(ae.ack.result)"
   ]
  },
  {
   "cell_type": "code",
   "execution_count": 165,
   "metadata": {},
   "outputs": [
    {
     "name": "stdout",
     "output_type": "stream",
     "text": [
      "Failed: standby not allowed in state <State.ENABLED: 2>\n"
     ]
    }
   ],
   "source": [
    "try:\n",
    "    await cmd(monochromator_remote,\"standby\")\n",
    "except salobj.AckError as ae:\n",
    "    print(ae.ack.result)"
   ]
  },
  {
   "cell_type": "code",
   "execution_count": null,
   "metadata": {},
   "outputs": [],
   "source": []
  },
  {
   "cell_type": "code",
   "execution_count": null,
   "metadata": {},
   "outputs": [],
   "source": []
  },
  {
   "cell_type": "code",
   "execution_count": 113,
   "metadata": {},
   "outputs": [
    {
     "name": "stdout",
     "output_type": "stream",
     "text": [
      "\n"
     ]
    }
   ],
   "source": [
    "try:\n",
    "    coro = monochromator_remote.evt_summaryState.next(flush=True)\n",
    "    await cmd(monochromator_remote,\"enable\")\n",
    "    ss = await coro\n",
    "    print(salobj.State(ss.summaryState))\n",
    "except salobj.AckError as ae:\n",
    "    print(ae.ack.result)\n",
    "    "
   ]
  },
  {
   "cell_type": "code",
   "execution_count": 153,
   "metadata": {},
   "outputs": [],
   "source": [
    "try:\n",
    "    await cmd(monochromator_remote,\"standby\")\n",
    "except salobj.AckError as ae:\n",
    "    print(ae.ack.result)"
   ]
  },
  {
   "cell_type": "code",
   "execution_count": 148,
   "metadata": {},
   "outputs": [],
   "source": [
    "try:\n",
    "    await cmd(monochromator_remote,\"exitControl\")\n",
    "except salobj.AckError as ae:\n",
    "    print(ae.ack.result)"
   ]
  },
  {
   "cell_type": "code",
   "execution_count": 18,
   "metadata": {},
   "outputs": [],
   "source": [
    "async def evt(remote,name):\n",
    "    evt_ack = await getattr(remote,f\"evt_{name}\").next(flush=True)"
   ]
  },
  {
   "cell_type": "code",
   "execution_count": 143,
   "metadata": {},
   "outputs": [],
   "source": [
    "s=monochromator_remote.evt_summaryState.get()\n",
    "e=monochromator_remote.evt_errorCode.get()\n",
    "lm=monochromator_remote.evt_logMessage.get()"
   ]
  },
  {
   "cell_type": "code",
   "execution_count": 144,
   "metadata": {},
   "outputs": [
    {
     "data": {
      "text/plain": [
       "<State.STANDBY: 5>"
      ]
     },
     "execution_count": 144,
     "metadata": {},
     "output_type": "execute_result"
    }
   ],
   "source": [
    "salobj.State(s.summaryState)"
   ]
  },
  {
   "cell_type": "code",
   "execution_count": 145,
   "metadata": {},
   "outputs": [
    {
     "name": "stdout",
     "output_type": "stream",
     "text": [
      "None\n"
     ]
    }
   ],
   "source": [
    "print(e)"
   ]
  },
  {
   "cell_type": "code",
   "execution_count": 146,
   "metadata": {},
   "outputs": [
    {
     "name": "stdout",
     "output_type": "stream",
     "text": [
      "coro cmd_enable callback failed\n"
     ]
    }
   ],
   "source": [
    "print(lm.message)"
   ]
  },
  {
   "cell_type": "code",
   "execution_count": 121,
   "metadata": {},
   "outputs": [],
   "source": [
    "monochromator_remote.cmd_changeWavelength.set(wavelength=400)\n",
    "e = await monochromator_remote.cmd_changeWavelength.start()"
   ]
  },
  {
   "cell_type": "code",
   "execution_count": null,
   "metadata": {},
   "outputs": [],
   "source": []
  }
 ],
 "metadata": {
  "kernelspec": {
   "display_name": "Python 3",
   "language": "python",
   "name": "python3"
  },
  "language_info": {
   "codemirror_mode": {
    "name": "ipython",
    "version": 3
   },
   "file_extension": ".py",
   "mimetype": "text/x-python",
   "name": "python",
   "nbconvert_exporter": "python",
   "pygments_lexer": "ipython3",
   "version": "3.6.3"
  }
 },
 "nbformat": 4,
 "nbformat_minor": 2
}
