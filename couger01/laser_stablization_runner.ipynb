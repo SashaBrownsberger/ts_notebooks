{
 "cells": [
  {
   "cell_type": "code",
   "execution_count": 47,
   "metadata": {},
   "outputs": [],
   "source": [
    "import csv\n",
    "import pathlib\n",
    "import requests\n",
    "from astropy.io import fits\n",
    "import astropy.stats\n",
    "import numpy as np\n",
    "from scipy.optimize import curve_fit\n",
    "import matplotlib.pyplot as plt\n",
    "from lsst.ts import salobj\n",
    "import SALPY_Electrometer\n",
    "import datetime"
   ]
  },
  {
   "cell_type": "code",
   "execution_count": 2,
   "metadata": {},
   "outputs": [],
   "source": [
    "electrometer = salobj.Remote(SALPY_Electrometer,1)\n"
   ]
  },
  {
   "cell_type": "code",
   "execution_count": 80,
   "metadata": {},
   "outputs": [
    {
     "data": {
      "text/plain": [
       "True"
      ]
     },
     "execution_count": 80,
     "metadata": {},
     "output_type": "execute_result"
    }
   ],
   "source": [
    "#electrometer.cmd_setMode.set(mode=1)\n",
    "electrometer.cmd_setIntegrationTime.set(intTime=0.2)\n",
    "#electrometer.cmd_setDigitalFilter.set(activateFilter=0,activateAvgFilter=False,activateMedFilter=False)\n"
   ]
  },
  {
   "cell_type": "code",
   "execution_count": 81,
   "metadata": {},
   "outputs": [
    {
     "data": {
      "text/plain": [
       "CommandIdAck(cmd_id=1553717778, ack.ack=<SALPY_Electrometer.Electrometer_ackcmdC object at 0x7fd5b97ef848>)"
      ]
     },
     "execution_count": 81,
     "metadata": {},
     "output_type": "execute_result"
    }
   ],
   "source": [
    "#await electrometer.cmd_setDigitalFilter.start(timeout=30)\n",
    "await electrometer.cmd_setIntegrationTime.start(timeout=30)"
   ]
  },
  {
   "cell_type": "code",
   "execution_count": 174,
   "metadata": {},
   "outputs": [
    {
     "name": "stdout",
     "output_type": "stream",
     "text": [
      "Scan 1 of 100\n",
      "Command failed with ack code -301\n",
      "Scan 2 of 100\n",
      "Command failed with ack code -301\n",
      "Scan 3 of 100\n",
      "Command failed with ack code -301\n",
      "Scan 4 of 100\n",
      "Command failed with ack code -301\n",
      "Scan 5 of 100\n",
      "Command failed with ack code -301\n",
      "Scan 6 of 100\n",
      "Command failed with ack code -301\n",
      "Scan 7 of 100\n",
      "Command failed with ack code -301\n",
      "Scan 8 of 100\n",
      "Command failed with ack code -301\n",
      "Scan 9 of 100\n",
      "Command failed with ack code -301\n",
      "Scan 10 of 100\n",
      "Command failed with ack code -301\n",
      "Scan 11 of 100\n",
      "Command failed with ack code -301\n",
      "Scan 12 of 100\n",
      "Command failed with ack code -301\n",
      "Scan 13 of 100\n",
      "Command failed with ack code -301\n",
      "Scan 14 of 100\n",
      "Command failed with ack code -301\n",
      "Scan 15 of 100\n",
      "Command failed with ack code -301\n",
      "Scan 16 of 100\n",
      "Command failed with ack code -301\n",
      "Scan 17 of 100\n",
      "Command failed with ack code -301\n",
      "Scan 18 of 100\n",
      "Command failed with ack code -301\n",
      "Scan 19 of 100\n",
      "Command failed with ack code -301\n",
      "Scan 20 of 100\n",
      "Command failed with ack code -301\n",
      "Scan 21 of 100\n",
      "Command failed with ack code -301\n",
      "Scan 22 of 100\n",
      "Command failed with ack code -301\n",
      "Scan 23 of 100\n",
      "Command failed with ack code -301\n",
      "Scan 24 of 100\n",
      "Command failed with ack code -301\n",
      "Scan 25 of 100\n",
      "Command failed with ack code -301\n",
      "Scan 26 of 100\n",
      "Command failed with ack code -301\n",
      "Scan 27 of 100\n",
      "Command failed with ack code -301\n",
      "Scan 28 of 100\n",
      "Command failed with ack code -301\n",
      "Scan 29 of 100\n",
      "Command failed with ack code -301\n",
      "Scan 30 of 100\n",
      "Command failed with ack code -301\n",
      "Scan 31 of 100\n",
      "Command failed with ack code -301\n",
      "Scan 32 of 100\n",
      "Command failed with ack code -301\n",
      "Scan 33 of 100\n",
      "Command failed with ack code -301\n",
      "Scan 34 of 100\n",
      "Command failed with ack code -301\n",
      "Scan 35 of 100\n",
      "Command failed with ack code -301\n",
      "Scan 36 of 100\n",
      "Command failed with ack code -301\n",
      "Scan 37 of 100\n",
      "Command failed with ack code -301\n",
      "Scan 38 of 100\n",
      "Command failed with ack code -301\n",
      "Scan 39 of 100\n",
      "Command failed with ack code -301\n",
      "Scan 40 of 100\n",
      "Command failed with ack code -301\n",
      "Scan 41 of 100\n",
      "Command failed with ack code -301\n",
      "Scan 42 of 100\n",
      "Command failed with ack code -301\n",
      "Scan 43 of 100\n",
      "Command failed with ack code -301\n",
      "Scan 44 of 100\n",
      "Command failed with ack code -301\n",
      "Scan 45 of 100\n",
      "Command failed with ack code -301\n",
      "Scan 46 of 100\n",
      "Command failed with ack code -301\n",
      "Scan 47 of 100\n",
      "Command failed with ack code -301\n",
      "Scan 48 of 100\n",
      "Command failed with ack code -301\n",
      "Scan 49 of 100\n",
      "Command failed with ack code -301\n",
      "Scan 50 of 100\n",
      "Command failed with ack code -301\n",
      "Scan 51 of 100\n",
      "Command failed with ack code -301\n",
      "Scan 52 of 100\n",
      "Command failed with ack code -301\n",
      "Scan 53 of 100\n",
      "Command failed with ack code -301\n",
      "Scan 54 of 100\n",
      "Command failed with ack code -301\n",
      "Scan 55 of 100\n",
      "Command failed with ack code -301\n",
      "Scan 56 of 100\n",
      "Command failed with ack code -301\n",
      "Scan 57 of 100\n",
      "Command failed with ack code -301\n",
      "Scan 58 of 100\n",
      "Command failed with ack code -301\n",
      "Scan 59 of 100\n",
      "Command failed with ack code -301\n",
      "Scan 60 of 100\n",
      "Command failed with ack code -301\n",
      "Scan 61 of 100\n",
      "Command failed with ack code -301\n",
      "Scan 62 of 100\n",
      "Command failed with ack code -301\n",
      "Scan 63 of 100\n",
      "Command failed with ack code -301\n",
      "Scan 64 of 100\n",
      "Command failed with ack code -301\n",
      "Scan 65 of 100\n",
      "Command failed with ack code -301\n",
      "Scan 66 of 100\n",
      "Command failed with ack code -301\n",
      "Scan 67 of 100\n",
      "Command failed with ack code -301\n",
      "Scan 68 of 100\n",
      "Command failed with ack code -301\n",
      "Scan 69 of 100\n",
      "Command failed with ack code -301\n",
      "Scan 70 of 100\n",
      "Command failed with ack code -301\n",
      "Scan 71 of 100\n",
      "Command failed with ack code -301\n",
      "Scan 72 of 100\n",
      "Command failed with ack code -301\n",
      "Scan 73 of 100\n",
      "Command failed with ack code -301\n",
      "Scan 74 of 100\n",
      "Command failed with ack code -301\n"
     ]
    },
    {
     "ename": "KeyboardInterrupt",
     "evalue": "",
     "output_type": "error",
     "traceback": [
      "\u001b[0;31m---------------------------------------------------------------------------\u001b[0m",
      "\u001b[0;31mKeyboardInterrupt\u001b[0m                         Traceback (most recent call last)",
      "\u001b[0;32m/opt/lsst/software/stack/python/miniconda3-4.3.21/lib/python3.6/site-packages/IPython/core/async_helpers.py\u001b[0m in \u001b[0;36m__call__\u001b[0;34m(self, coro)\u001b[0m\n\u001b[1;32m     25\u001b[0m         \u001b[0;32mimport\u001b[0m \u001b[0masyncio\u001b[0m\u001b[0;34m\u001b[0m\u001b[0m\n\u001b[1;32m     26\u001b[0m \u001b[0;34m\u001b[0m\u001b[0m\n\u001b[0;32m---> 27\u001b[0;31m         \u001b[0;32mreturn\u001b[0m \u001b[0masyncio\u001b[0m\u001b[0;34m.\u001b[0m\u001b[0mget_event_loop\u001b[0m\u001b[0;34m(\u001b[0m\u001b[0;34m)\u001b[0m\u001b[0;34m.\u001b[0m\u001b[0mrun_until_complete\u001b[0m\u001b[0;34m(\u001b[0m\u001b[0mcoro\u001b[0m\u001b[0;34m)\u001b[0m\u001b[0;34m\u001b[0m\u001b[0m\n\u001b[0m\u001b[1;32m     28\u001b[0m \u001b[0;34m\u001b[0m\u001b[0m\n\u001b[1;32m     29\u001b[0m     \u001b[0;32mdef\u001b[0m \u001b[0m__str__\u001b[0m\u001b[0;34m(\u001b[0m\u001b[0mself\u001b[0m\u001b[0;34m)\u001b[0m\u001b[0;34m:\u001b[0m\u001b[0;34m\u001b[0m\u001b[0m\n",
      "\u001b[0;32m/opt/lsst/software/stack/python/miniconda3-4.3.21/lib/python3.6/asyncio/base_events.py\u001b[0m in \u001b[0;36mrun_until_complete\u001b[0;34m(self, future)\u001b[0m\n\u001b[1;32m    452\u001b[0m         \u001b[0mfuture\u001b[0m\u001b[0;34m.\u001b[0m\u001b[0madd_done_callback\u001b[0m\u001b[0;34m(\u001b[0m\u001b[0m_run_until_complete_cb\u001b[0m\u001b[0;34m)\u001b[0m\u001b[0;34m\u001b[0m\u001b[0m\n\u001b[1;32m    453\u001b[0m         \u001b[0;32mtry\u001b[0m\u001b[0;34m:\u001b[0m\u001b[0;34m\u001b[0m\u001b[0m\n\u001b[0;32m--> 454\u001b[0;31m             \u001b[0mself\u001b[0m\u001b[0;34m.\u001b[0m\u001b[0mrun_forever\u001b[0m\u001b[0;34m(\u001b[0m\u001b[0;34m)\u001b[0m\u001b[0;34m\u001b[0m\u001b[0m\n\u001b[0m\u001b[1;32m    455\u001b[0m         \u001b[0;32mexcept\u001b[0m\u001b[0;34m:\u001b[0m\u001b[0;34m\u001b[0m\u001b[0m\n\u001b[1;32m    456\u001b[0m             \u001b[0;32mif\u001b[0m \u001b[0mnew_task\u001b[0m \u001b[0;32mand\u001b[0m \u001b[0mfuture\u001b[0m\u001b[0;34m.\u001b[0m\u001b[0mdone\u001b[0m\u001b[0;34m(\u001b[0m\u001b[0;34m)\u001b[0m \u001b[0;32mand\u001b[0m \u001b[0;32mnot\u001b[0m \u001b[0mfuture\u001b[0m\u001b[0;34m.\u001b[0m\u001b[0mcancelled\u001b[0m\u001b[0;34m(\u001b[0m\u001b[0;34m)\u001b[0m\u001b[0;34m:\u001b[0m\u001b[0;34m\u001b[0m\u001b[0m\n",
      "\u001b[0;32m/opt/lsst/software/stack/python/miniconda3-4.3.21/lib/python3.6/asyncio/base_events.py\u001b[0m in \u001b[0;36mrun_forever\u001b[0;34m(self)\u001b[0m\n\u001b[1;32m    419\u001b[0m             \u001b[0mevents\u001b[0m\u001b[0;34m.\u001b[0m\u001b[0m_set_running_loop\u001b[0m\u001b[0;34m(\u001b[0m\u001b[0mself\u001b[0m\u001b[0;34m)\u001b[0m\u001b[0;34m\u001b[0m\u001b[0m\n\u001b[1;32m    420\u001b[0m             \u001b[0;32mwhile\u001b[0m \u001b[0;32mTrue\u001b[0m\u001b[0;34m:\u001b[0m\u001b[0;34m\u001b[0m\u001b[0m\n\u001b[0;32m--> 421\u001b[0;31m                 \u001b[0mself\u001b[0m\u001b[0;34m.\u001b[0m\u001b[0m_run_once\u001b[0m\u001b[0;34m(\u001b[0m\u001b[0;34m)\u001b[0m\u001b[0;34m\u001b[0m\u001b[0m\n\u001b[0m\u001b[1;32m    422\u001b[0m                 \u001b[0;32mif\u001b[0m \u001b[0mself\u001b[0m\u001b[0;34m.\u001b[0m\u001b[0m_stopping\u001b[0m\u001b[0;34m:\u001b[0m\u001b[0;34m\u001b[0m\u001b[0m\n\u001b[1;32m    423\u001b[0m                     \u001b[0;32mbreak\u001b[0m\u001b[0;34m\u001b[0m\u001b[0m\n",
      "\u001b[0;32m/opt/lsst/software/stack/python/miniconda3-4.3.21/lib/python3.6/asyncio/base_events.py\u001b[0m in \u001b[0;36m_run_once\u001b[0;34m(self)\u001b[0m\n\u001b[1;32m   1388\u001b[0m                            timeout * 1e3, dt * 1e3)\n\u001b[1;32m   1389\u001b[0m         \u001b[0;32melse\u001b[0m\u001b[0;34m:\u001b[0m\u001b[0;34m\u001b[0m\u001b[0m\n\u001b[0;32m-> 1390\u001b[0;31m             \u001b[0mevent_list\u001b[0m \u001b[0;34m=\u001b[0m \u001b[0mself\u001b[0m\u001b[0;34m.\u001b[0m\u001b[0m_selector\u001b[0m\u001b[0;34m.\u001b[0m\u001b[0mselect\u001b[0m\u001b[0;34m(\u001b[0m\u001b[0mtimeout\u001b[0m\u001b[0;34m)\u001b[0m\u001b[0;34m\u001b[0m\u001b[0m\n\u001b[0m\u001b[1;32m   1391\u001b[0m         \u001b[0mself\u001b[0m\u001b[0;34m.\u001b[0m\u001b[0m_process_events\u001b[0m\u001b[0;34m(\u001b[0m\u001b[0mevent_list\u001b[0m\u001b[0;34m)\u001b[0m\u001b[0;34m\u001b[0m\u001b[0m\n\u001b[1;32m   1392\u001b[0m \u001b[0;34m\u001b[0m\u001b[0m\n",
      "\u001b[0;32m/opt/lsst/software/stack/python/miniconda3-4.3.21/lib/python3.6/selectors.py\u001b[0m in \u001b[0;36mselect\u001b[0;34m(self, timeout)\u001b[0m\n\u001b[1;32m    443\u001b[0m             \u001b[0mready\u001b[0m \u001b[0;34m=\u001b[0m \u001b[0;34m[\u001b[0m\u001b[0;34m]\u001b[0m\u001b[0;34m\u001b[0m\u001b[0m\n\u001b[1;32m    444\u001b[0m             \u001b[0;32mtry\u001b[0m\u001b[0;34m:\u001b[0m\u001b[0;34m\u001b[0m\u001b[0m\n\u001b[0;32m--> 445\u001b[0;31m                 \u001b[0mfd_event_list\u001b[0m \u001b[0;34m=\u001b[0m \u001b[0mself\u001b[0m\u001b[0;34m.\u001b[0m\u001b[0m_epoll\u001b[0m\u001b[0;34m.\u001b[0m\u001b[0mpoll\u001b[0m\u001b[0;34m(\u001b[0m\u001b[0mtimeout\u001b[0m\u001b[0;34m,\u001b[0m \u001b[0mmax_ev\u001b[0m\u001b[0;34m)\u001b[0m\u001b[0;34m\u001b[0m\u001b[0m\n\u001b[0m\u001b[1;32m    446\u001b[0m             \u001b[0;32mexcept\u001b[0m \u001b[0mInterruptedError\u001b[0m\u001b[0;34m:\u001b[0m\u001b[0;34m\u001b[0m\u001b[0m\n\u001b[1;32m    447\u001b[0m                 \u001b[0;32mreturn\u001b[0m \u001b[0mready\u001b[0m\u001b[0;34m\u001b[0m\u001b[0m\n",
      "\u001b[0;31mKeyboardInterrupt\u001b[0m: "
     ]
    }
   ],
   "source": [
    "#set_electrometer_mode_ack_coro = await electrometer.cmd_setMode.start(timeout=30)\n",
    "number_of_scans=100\n",
    "timestamps=[]\n",
    "for scan in range(number_of_scans):\n",
    "    print(f\"Scan {scan+1} of {number_of_scans}\")\n",
    "    electrometer_data_coro = electrometer.evt_largeFileObjectAvailable.next(flush=True, timeout=45)\n",
    "    electrometer.cmd_startScanDt.set(scanDuration=30)\n",
    "    try:\n",
    "        timestamp = datetime.datetime.now().timestamp()\n",
    "        timestamps.append(timestamp)\n",
    "        electrometer_scan_ack = await electrometer.cmd_startScanDt.start(timeout=45)\n",
    "    except salobj.AckError as ae:\n",
    "        print(ae)\n",
    "    with open(\"laser_stablization.txt\",\"a\") as f:\n",
    "        electrometer_data = await electrometer_data_coro\n",
    "        electrometer_data.url += \".fits\"\n",
    "        electrometer_fixed_url = electrometer_data.url.replace(\"https://127.0.0.1\",\"http://10.0.100.133:8000\")\n",
    "        f.write(f\"{timestamp},{electrometer_fixed_url}\\n\")"
   ]
  },
  {
   "cell_type": "code",
   "execution_count": 152,
   "metadata": {},
   "outputs": [],
   "source": [
    "with open(f.name,\"r\") as f2, open(\"laser_data.txt\",\"w\") as ldf:\n",
    "    for line in f2:\n",
    "        ldf.write(line)"
   ]
  },
  {
   "cell_type": "code",
   "execution_count": 165,
   "metadata": {},
   "outputs": [],
   "source": [
    "with open(f\"laser_stablization.txt\",newline='') as csvfile:\n",
    "            data_reader = csv.DictReader(csvfile)\n",
    "            timestamps = []\n",
    "            fits_file = []\n",
    "            for row in data_reader:\n",
    "                electrometer_url = row[\"fits_file\"]\n",
    "                electrometer_url_name = electrometer_url.split(\"/\")[-1]\n",
    "                electrometer_fits_request = requests.get(electrometer_url)\n",
    "                with open(f\"/home/saluser/develop/es_stablization_laser_fits_files/electrometer_fits_files/{electrometer_url_name}\",\"wb\") as file:\n",
    "                    file.write(electrometer_fits_request.content)\n",
    "                timestamp = row[\"timestamp\"]\n",
    "                timestamps.append(timestamp)\n",
    "                fits_file.append(electrometer_url_name)"
   ]
  },
  {
   "cell_type": "code",
   "execution_count": 168,
   "metadata": {},
   "outputs": [
    {
     "name": "stdout",
     "output_type": "stream",
     "text": [
      "something\n",
      "1-1553887922.937566.fits\n",
      "1-1553888009.971827.fits\n"
     ]
    }
   ],
   "source": [
    "p = pathlib.Path(\"/home/saluser/develop/es_stablization_laser_fits_files/electrometer_fits_files\")\n",
    "l = fits_file\n",
    "print(\"something\")\n",
    "xtime=[]\n",
    "yintensity=[]\n",
    "for index,f in enumerate(l):\n",
    "    print(f)\n",
    "    hdul = fits.open(p.joinpath(f))\n",
    "    data=hdul[0].data\n",
    "    for time in data[0]:\n",
    "        xtime.append(float(timestamps[index])+time)\n",
    "    for intensity in data[1]:\n",
    "        yintensity.append(intensity)"
   ]
  },
  {
   "cell_type": "code",
   "execution_count": 169,
   "metadata": {},
   "outputs": [
    {
     "data": {
      "image/png": "[encoded data removed]",
      "text/plain": [
       "<matplotlib.figure.Figure at 0x7fd5b10435c0>"
      ]
     },
     "metadata": {
      "needs_background": "light"
     },
     "output_type": "display_data"
    }
   ],
   "source": [
    "plt.plot(xtime,yintensity,'b+:',label='data')\n",
    "#plt.ylim([0,2000])\n",
    "plt.legend()\n",
    "plt.title('Time vs. Intensity')\n",
    "plt.ylabel('Intensity [pA]')\n",
    "plt.xlabel('Local Time [Posix Seconds]')\n",
    "plt.show()"
   ]
  },
  {
   "cell_type": "code",
   "execution_count": 170,
   "metadata": {},
   "outputs": [
    {
     "data": {
      "text/plain": [
       "-7.8669999999999998e-11"
      ]
     },
     "execution_count": 170,
     "metadata": {},
     "output_type": "execute_result"
    }
   ],
   "source": [
    "np.median(yintensity)"
   ]
  },
  {
   "cell_type": "code",
   "execution_count": 89,
   "metadata": {},
   "outputs": [
    {
     "name": "stdout",
     "output_type": "stream",
     "text": [
      "SIMPLE  =                    T / conforms to FITS standard                      \n",
      "BITPIX  =                  -64 / array data type                                \n",
      "NAXIS   =                    2 / number of array dimensions                     \n",
      "NAXIS1  =                   48                                                  \n",
      "NAXIS2  =                    2                                                  \n",
      "EXTEND  =                    T                                                  \n",
      "CLMN1   = 'Time    '           / Time in seconds                                \n",
      "CLMN2   = 'Intensity'                                                           \n",
      "HWINFO  = 'KEITHLEY INSTRUMENTS INC.,MODEL 6517B,4114296,A13/700x '             \n",
      "DERROR  = '-221,-213'          / Device error list                              \n",
      "ITIME   =                    0 / Start time                                     \n",
      "ITEMP   =                    0 / Initial temperature                            \n",
      "ETEMP   =                    0 / End temperature                                \n",
      "IUNIT   =                    0 / Mode read                                      \n",
      "[[  0.00000000e+00   6.01866000e-01   1.20479600e+00   1.80662000e+00\n",
      "    2.40940200e+00   3.01123700e+00   3.61337400e+00   4.21525700e+00\n",
      "    4.81709500e+00   5.41892100e+00   6.02075300e+00   6.62263400e+00\n",
      "    7.22448100e+00   7.82635900e+00   8.42823200e+00   9.03008200e+00\n",
      "    9.63193700e+00   1.02338260e+01   1.08356970e+01   1.14375520e+01\n",
      "    1.20393860e+01   1.26411980e+01   1.32430370e+01   1.38448600e+01\n",
      "    1.44467010e+01   1.50485320e+01   1.56503650e+01   1.62522360e+01\n",
      "    1.68552670e+01   1.74571230e+01   1.80591460e+01   1.86610160e+01\n",
      "    1.92666160e+01   1.98684750e+01   2.04703320e+01   2.10721760e+01\n",
      "    2.16739840e+01   2.22758170e+01   2.28776820e+01   2.34795420e+01\n",
      "    2.40813780e+01   2.46832180e+01   2.52850920e+01   2.58869350e+01\n",
      "    2.64887480e+01   2.70906150e+01   2.76924560e+01   2.82942810e+01]\n",
      " [  4.07600000e-14   3.57000000e-14   4.63400000e-14   1.05710000e-13\n",
      "    5.25000000e-14   1.25550000e-13   5.22400000e-14   4.17400000e-14\n",
      "   -5.10000000e-16  -2.37700000e-14   2.40400000e-14   4.77200000e-14\n",
      "    9.24900000e-14   5.83000000e-14   4.35400000e-14  -3.91000000e-15\n",
      "    1.57600000e-14   3.30000000e-15  -1.35600000e-14  -1.36900000e-14\n",
      "    4.79000000e-15   4.30000000e-14   4.18000000e-15   3.46000000e-15\n",
      "    2.93000000e-15   4.44600000e-14   3.45200000e-14   5.43900000e-14\n",
      "    2.23300000e-14   7.90000000e-16   2.81700000e-14   3.36400000e-14\n",
      "    3.83200000e-14   2.77600000e-14   8.74500000e-14   8.72300000e-14\n",
      "    6.94500000e-14   4.93500000e-14   5.02600000e-14   6.63000000e-14\n",
      "    2.38700000e-14   2.84000000e-14   4.03500000e-14   5.98500000e-14\n",
      "    3.06600000e-14   5.13200000e-14   2.95800000e-14   1.91500000e-14]]\n",
      "[  0.         0.601866   1.204796   1.80662    2.409402   3.011237\n",
      "   3.613374   4.215257   4.817095   5.418921   6.020753   6.622634\n",
      "   7.224481   7.826359   8.428232   9.030082   9.631937  10.233826\n",
      "  10.835697  11.437552  12.039386  12.641198  13.243037  13.84486\n",
      "  14.446701  15.048532  15.650365  16.252236  16.855267  17.457123\n",
      "  18.059146  18.661016  19.266616  19.868475  20.470332  21.072176\n",
      "  21.673984  22.275817  22.877682  23.479542  24.081378  24.683218\n",
      "  25.285092  25.886935  26.488748  27.090615  27.692456  28.294281]\n"
     ]
    }
   ],
   "source": [
    "hdul = fits.open(f\"{electrometer_url_name}\")\n",
    "print(repr(hdul[0].header))\n",
    "print(hdul[0].data)\n",
    "print(hdul[0].data[0])\n",
    "xtime=[]\n",
    "for time in hdul[0].data[0]:\n",
    "    xtime.append(timestamp+time)\n",
    "yintensity = hdul[0].data[1]"
   ]
  },
  {
   "cell_type": "code",
   "execution_count": 90,
   "metadata": {},
   "outputs": [
    {
     "data": {
      "image/png": "[encoded data removed]",
      "text/plain": [
       "<matplotlib.figure.Figure at 0x7fd5b97db3c8>"
      ]
     },
     "metadata": {
      "needs_background": "light"
     },
     "output_type": "display_data"
    }
   ],
   "source": [
    "plt.plot(xtime,yintensity,'b+:',label='data')\n",
    "plt.legend()\n",
    "plt.title(f\"time vs intensity\")\n",
    "plt.xlabel(f\"Local Time [POSIX seconds]\")\n",
    "plt.ylabel(f\"Intensity [pA]\")\n",
    "plt.show()"
   ]
  },
  {
   "cell_type": "code",
   "execution_count": null,
   "metadata": {},
   "outputs": [],
   "source": [
    "with open(f\"laser_coordination.txt\",newline='') as csvfile:\n",
    "            data_reader = csv.DictReader(csvfile)\n",
    "            timestamps = []\n",
    "            for row in data_reader:\n",
    "                electrometer_url = row[\"electrometer_data_url\"]\n",
    "                electrometer_url += \".fits\"\n",
    "                electrometer_url = electrometer_url.replace(\"https://127.0.0.1\",\"http://10.0.100.133:8000\")\n",
    "                electrometer_url_name = electrometer_url.split(\"/\")[-1]\n",
    "                electrometer_fits_request = requests.get(electrometer_url)\n",
    "                with open(f\"/home/saluser/develop/es_stablization_laser_fits_files/electrometer_fits_files/{electrometer_url_name}\",\"wb\") as file:\n",
    "                    file.write(electrometer_fits_request.content)\n",
    "                timestamp = row[\"timestamp\"]\n",
    "                timestamps.append(timestamp)"
   ]
  },
  {
   "cell_type": "code",
   "execution_count": null,
   "metadata": {},
   "outputs": [],
   "source": [
    "p = pathlib.Path(\"/home/saluser/develop/es_stablization_laser_fits_files/electrometer_fits_files\")\n",
    "l = p.glob('*.fits')\n",
    "print(\"something\")\n",
    "xtime=[]\n",
    "yintensity=[]\n",
    "for index,f in enumerate(l):\n",
    "    print(f)\n",
    "    hdul = fits.open(f)\n",
    "    print(repr(hdul[0].header))\n",
    "    data=hdul[0].data\n",
    "    for time in data[0]:\n",
    "        xtime.append(timestamps[index]+float(time))\n",
    "    for intensity in data[1]:\n",
    "        yintensity.append(intensity)"
   ]
  },
  {
   "cell_type": "code",
   "execution_count": null,
   "metadata": {},
   "outputs": [],
   "source": [
    "plt.plot(xtime,yintensity,'b+:',label='data')\n",
    "#plt.ylim([0,2000])\n",
    "plt.legend()\n",
    "plt.title('Time vs. Intensity')\n",
    "plt.ylabel('Intensity [pA]')\n",
    "plt.xlabel('Local Time [Posix Seconds]')\n",
    "plt.show()"
   ]
  },
  {
   "cell_type": "code",
   "execution_count": null,
   "metadata": {},
   "outputs": [],
   "source": [
    "print(data)"
   ]
  },
  {
   "cell_type": "code",
   "execution_count": null,
   "metadata": {},
   "outputs": [],
   "source": [
    "hdul[1].data"
   ]
  },
  {
   "cell_type": "code",
   "execution_count": null,
   "metadata": {},
   "outputs": [],
   "source": []
  }
 ],
 "metadata": {
  "kernelspec": {
   "display_name": "Python 3",
   "language": "python",
   "name": "python3"
  },
  "language_info": {
   "codemirror_mode": {
    "name": "ipython",
    "version": 3
   },
   "file_extension": ".py",
   "mimetype": "text/x-python",
   "name": "python",
   "nbconvert_exporter": "python",
   "pygments_lexer": "ipython3",
   "version": "3.6.3"
  }
 },
 "nbformat": 4,
 "nbformat_minor": 2
}
